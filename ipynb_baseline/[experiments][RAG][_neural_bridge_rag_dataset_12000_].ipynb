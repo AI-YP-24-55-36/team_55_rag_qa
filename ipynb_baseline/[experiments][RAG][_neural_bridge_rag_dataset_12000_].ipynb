{
  "cells": [
    {
      "cell_type": "markdown",
      "source": [
        "<a href=\"https://colab.research.google.com/drive/10cpkWNGmttP5hOkqPjKybL628FTcBeD0?usp=sharing\" target=\"_parent\"><img src=\"https://colab.research.google.com/assets/colab-badge.svg\" alt=\"Open In Colab\"/></a>"
      ],
      "metadata": {
        "id": "wpgqlQE311_7"
      }
    },
    {
      "cell_type": "markdown",
      "metadata": {
        "id": "Je30l8GNk4t6"
      },
      "source": [
        "# Построение вопросно-ответной системы с использованием RAG"
      ]
    },
    {
      "cell_type": "markdown",
      "source": [
        "План проведения экспериментов:\n",
        "\n",
        "1. Использовать готовую модель Word2Vec, преобразовать колонку с контекстами в вектора, провести брутфорсом поиск для каждого вопроса в БД (использовать косинусную близость и эвклидово расстояние), посчитать качество.\n",
        "\n",
        "\n",
        "2. Обучить свою модель Word2Vec, преобразовать колонку с контекстами в вектора, провести брутфорсом поиск для каждого вопроса в БД (использовать косинусную близость и эвклидово расстояние), посчитать качество.\n",
        "\n",
        "3. Обогатить датасет, увеличить до 100 000 строк и замерить время извлечения ответа на маленьком (12 000) и большом (100 000) датасете.\n",
        "\n",
        "4. Поместить полученные с помощью word2vec векторы (маленький датасет 12000) в БД Qdrant.\n",
        "\n",
        "5. Замерить качество.\n",
        "\n",
        "6. Замерить время извлечения ответа и сравнить с пунктом 3.\n",
        "\n",
        "7. Увеличить кол-во векторов в БД, замерить время."
      ],
      "metadata": {
        "id": "4N4GKxUA5k_S"
      }
    },
    {
      "cell_type": "markdown",
      "metadata": {
        "id": "oVRjOFLTlAoX"
      },
      "source": [
        "### импорты"
      ]
    },
    {
      "cell_type": "code",
      "execution_count": 1,
      "metadata": {
        "colab": {
          "base_uri": "https://localhost:8080/"
        },
        "id": "Dy_4QnyIjAMz",
        "outputId": "a6a7f665-f73d-47dc-96a3-2b727cce6e58"
      },
      "outputs": [
        {
          "output_type": "stream",
          "name": "stderr",
          "text": [
            "[nltk_data] Downloading package stopwords to /root/nltk_data...\n",
            "[nltk_data]   Unzipping corpora/stopwords.zip.\n"
          ]
        }
      ],
      "source": [
        "from IPython.display import clear_output\n",
        "import numpy as np\n",
        "import pandas as pd\n",
        "from tqdm import tqdm\n",
        "import seaborn as sns\n",
        "import re\n",
        "import random\n",
        "import time\n",
        "\n",
        "from sklearn.metrics.pairwise import cosine_similarity\n",
        "from sklearn.metrics.pairwise import euclidean_distances\n",
        "from sklearn.metrics import precision_score\n",
        "\n",
        "\n",
        "import nltk\n",
        "from nltk.tokenize import sent_tokenize\n",
        "from nltk.tokenize import word_tokenize\n",
        "from nltk.tokenize import WordPunctTokenizer\n",
        "from nltk.stem import WordNetLemmatizer\n",
        "\n",
        "nltk.download('stopwords')\n",
        "nltk.download('punkt_tab')\n",
        "\n",
        "tokenizer = WordPunctTokenizer()\n",
        "\n",
        "import gensim\n",
        "from gensim.models import Word2Vec\n",
        "import warnings\n",
        "warnings.filterwarnings(\"ignore\")"
      ]
    },
    {
      "cell_type": "code",
      "source": [
        "# фиксируем seed\n",
        "random.seed(42)\n",
        "np.random.seed(42)"
      ],
      "metadata": {
        "id": "6SWwcshFaRgx"
      },
      "execution_count": 2,
      "outputs": []
    },
    {
      "cell_type": "markdown",
      "metadata": {
        "id": "yoBsAp-vlJIm"
      },
      "source": [
        "### загрузка датасета"
      ]
    },
    {
      "cell_type": "code",
      "source": [
        "# загрузка csv файла из google drive\n",
        "!wget --no-check-certificate 'https://docs.google.com/uc?export=download&id=1dgnwG1AZhspMJaDR6jz828qZkSnZg25t' -O full_dataset.csv"
      ],
      "metadata": {
        "colab": {
          "base_uri": "https://localhost:8080/"
        },
        "id": "dIg4KwrI0N0u",
        "outputId": "f4987cbb-e260-4c77-e5be-49300566a79f"
      },
      "execution_count": 3,
      "outputs": [
        {
          "output_type": "stream",
          "name": "stdout",
          "text": [
            "--2024-12-07 12:46:21--  https://docs.google.com/uc?export=download&id=1dgnwG1AZhspMJaDR6jz828qZkSnZg25t\n",
            "Resolving docs.google.com (docs.google.com)... 74.125.128.102, 74.125.128.138, 74.125.128.101, ...\n",
            "Connecting to docs.google.com (docs.google.com)|74.125.128.102|:443... connected.\n",
            "HTTP request sent, awaiting response... 303 See Other\n",
            "Location: https://drive.usercontent.google.com/download?id=1dgnwG1AZhspMJaDR6jz828qZkSnZg25t&export=download [following]\n",
            "--2024-12-07 12:46:22--  https://drive.usercontent.google.com/download?id=1dgnwG1AZhspMJaDR6jz828qZkSnZg25t&export=download\n",
            "Resolving drive.usercontent.google.com (drive.usercontent.google.com)... 142.251.31.132, 2a00:1450:4013:c1a::84\n",
            "Connecting to drive.usercontent.google.com (drive.usercontent.google.com)|142.251.31.132|:443... connected.\n",
            "HTTP request sent, awaiting response... 200 OK\n",
            "Length: 45451452 (43M) [application/octet-stream]\n",
            "Saving to: ‘full_dataset.csv’\n",
            "\n",
            "full_dataset.csv    100%[===================>]  43.35M   107MB/s    in 0.4s    \n",
            "\n",
            "2024-12-07 12:46:26 (107 MB/s) - ‘full_dataset.csv’ saved [45451452/45451452]\n",
            "\n"
          ]
        }
      ]
    },
    {
      "cell_type": "code",
      "source": [
        "rag_dataset = pd.read_csv('full_dataset.csv')\n",
        "rag_dataset"
      ],
      "metadata": {
        "colab": {
          "base_uri": "https://localhost:8080/",
          "height": 0
        },
        "id": "nWpz5QnU5SHJ",
        "outputId": "5299fc8d-3ffa-4c18-fb56-7b45954c3d14"
      },
      "execution_count": 4,
      "outputs": [
        {
          "output_type": "execute_result",
          "data": {
            "text/plain": [
              "                                                 context  \\\n",
              "0      Caption: Tasmanian berry grower Nic Hansen sho...   \n",
              "1      RWSN Collaborations\\nSouthern Africa Self-supp...   \n",
              "2      All Android applications categories\\nDescripti...   \n",
              "3      How unequal is India? The question is simple, ...   \n",
              "4      Gunnar Nelson took his time on the feet agains...   \n",
              "...                                                  ...   \n",
              "11995  Fuzzy's Ultra Premium Vodka\\nThe Myth, The Man...   \n",
              "11996  Swedish Grand Prix rider Malin Nilsson got mar...   \n",
              "11997  The Cracchiolo Law Library of the James E. Rog...   \n",
              "11998  2nd physical eMAG store opens in Mammut\\nOnlin...   \n",
              "11999  About This Cadillac\\n2019 Cadillac XT5\\nFWD 4d...   \n",
              "\n",
              "                                                question  \\\n",
              "0      What is the Berry Export Summary 2028 and what...   \n",
              "1      What are some of the benefits reported from ha...   \n",
              "2      What are the unique features of the Coolands f...   \n",
              "3      What is the main difference between the Nation...   \n",
              "4      How did Gunnar Nelson win the fight against Za...   \n",
              "...                                                  ...   \n",
              "11995  What are some of the achievements of Fuzzy Zoe...   \n",
              "11996        Who did Malin Nilsson marry on 2 June 2018?   \n",
              "11997  What is the Fellowship in Law Librarianship of...   \n",
              "11998  Where has the second physical eMAG store been ...   \n",
              "11999  What are some of the key features of the 2019 ...   \n",
              "\n",
              "                                                  answer  \n",
              "0      The Berry Export Summary 2028 is a dedicated e...  \n",
              "1      Benefits reported from having access to Self-s...  \n",
              "2      The unique features of the Coolands for Twitte...  \n",
              "3      The main difference between the NSS and the IH...  \n",
              "4      Gunnar Nelson won the fight against Zak Cummin...  \n",
              "...                                                  ...  \n",
              "11995  Fuzzy Zoeller is known for his golfing success...  \n",
              "11996  Malin Nilsson got married to her partner, Germ...  \n",
              "11997  The Fellowship in Law Librarianship is a progr...  \n",
              "11998  The second physical eMAG store has been opened...  \n",
              "11999  The 2019 Cadillac XT5 comes equipped with feat...  \n",
              "\n",
              "[12000 rows x 3 columns]"
            ],
            "text/html": [
              "\n",
              "  <div id=\"df-0aa84670-d038-4cb0-a493-3ff764bcab4a\" class=\"colab-df-container\">\n",
              "    <div>\n",
              "<style scoped>\n",
              "    .dataframe tbody tr th:only-of-type {\n",
              "        vertical-align: middle;\n",
              "    }\n",
              "\n",
              "    .dataframe tbody tr th {\n",
              "        vertical-align: top;\n",
              "    }\n",
              "\n",
              "    .dataframe thead th {\n",
              "        text-align: right;\n",
              "    }\n",
              "</style>\n",
              "<table border=\"1\" class=\"dataframe\">\n",
              "  <thead>\n",
              "    <tr style=\"text-align: right;\">\n",
              "      <th></th>\n",
              "      <th>context</th>\n",
              "      <th>question</th>\n",
              "      <th>answer</th>\n",
              "    </tr>\n",
              "  </thead>\n",
              "  <tbody>\n",
              "    <tr>\n",
              "      <th>0</th>\n",
              "      <td>Caption: Tasmanian berry grower Nic Hansen sho...</td>\n",
              "      <td>What is the Berry Export Summary 2028 and what...</td>\n",
              "      <td>The Berry Export Summary 2028 is a dedicated e...</td>\n",
              "    </tr>\n",
              "    <tr>\n",
              "      <th>1</th>\n",
              "      <td>RWSN Collaborations\\nSouthern Africa Self-supp...</td>\n",
              "      <td>What are some of the benefits reported from ha...</td>\n",
              "      <td>Benefits reported from having access to Self-s...</td>\n",
              "    </tr>\n",
              "    <tr>\n",
              "      <th>2</th>\n",
              "      <td>All Android applications categories\\nDescripti...</td>\n",
              "      <td>What are the unique features of the Coolands f...</td>\n",
              "      <td>The unique features of the Coolands for Twitte...</td>\n",
              "    </tr>\n",
              "    <tr>\n",
              "      <th>3</th>\n",
              "      <td>How unequal is India? The question is simple, ...</td>\n",
              "      <td>What is the main difference between the Nation...</td>\n",
              "      <td>The main difference between the NSS and the IH...</td>\n",
              "    </tr>\n",
              "    <tr>\n",
              "      <th>4</th>\n",
              "      <td>Gunnar Nelson took his time on the feet agains...</td>\n",
              "      <td>How did Gunnar Nelson win the fight against Za...</td>\n",
              "      <td>Gunnar Nelson won the fight against Zak Cummin...</td>\n",
              "    </tr>\n",
              "    <tr>\n",
              "      <th>...</th>\n",
              "      <td>...</td>\n",
              "      <td>...</td>\n",
              "      <td>...</td>\n",
              "    </tr>\n",
              "    <tr>\n",
              "      <th>11995</th>\n",
              "      <td>Fuzzy's Ultra Premium Vodka\\nThe Myth, The Man...</td>\n",
              "      <td>What are some of the achievements of Fuzzy Zoe...</td>\n",
              "      <td>Fuzzy Zoeller is known for his golfing success...</td>\n",
              "    </tr>\n",
              "    <tr>\n",
              "      <th>11996</th>\n",
              "      <td>Swedish Grand Prix rider Malin Nilsson got mar...</td>\n",
              "      <td>Who did Malin Nilsson marry on 2 June 2018?</td>\n",
              "      <td>Malin Nilsson got married to her partner, Germ...</td>\n",
              "    </tr>\n",
              "    <tr>\n",
              "      <th>11997</th>\n",
              "      <td>The Cracchiolo Law Library of the James E. Rog...</td>\n",
              "      <td>What is the Fellowship in Law Librarianship of...</td>\n",
              "      <td>The Fellowship in Law Librarianship is a progr...</td>\n",
              "    </tr>\n",
              "    <tr>\n",
              "      <th>11998</th>\n",
              "      <td>2nd physical eMAG store opens in Mammut\\nOnlin...</td>\n",
              "      <td>Where has the second physical eMAG store been ...</td>\n",
              "      <td>The second physical eMAG store has been opened...</td>\n",
              "    </tr>\n",
              "    <tr>\n",
              "      <th>11999</th>\n",
              "      <td>About This Cadillac\\n2019 Cadillac XT5\\nFWD 4d...</td>\n",
              "      <td>What are some of the key features of the 2019 ...</td>\n",
              "      <td>The 2019 Cadillac XT5 comes equipped with feat...</td>\n",
              "    </tr>\n",
              "  </tbody>\n",
              "</table>\n",
              "<p>12000 rows × 3 columns</p>\n",
              "</div>\n",
              "    <div class=\"colab-df-buttons\">\n",
              "\n",
              "  <div class=\"colab-df-container\">\n",
              "    <button class=\"colab-df-convert\" onclick=\"convertToInteractive('df-0aa84670-d038-4cb0-a493-3ff764bcab4a')\"\n",
              "            title=\"Convert this dataframe to an interactive table.\"\n",
              "            style=\"display:none;\">\n",
              "\n",
              "  <svg xmlns=\"http://www.w3.org/2000/svg\" height=\"24px\" viewBox=\"0 -960 960 960\">\n",
              "    <path d=\"M120-120v-720h720v720H120Zm60-500h600v-160H180v160Zm220 220h160v-160H400v160Zm0 220h160v-160H400v160ZM180-400h160v-160H180v160Zm440 0h160v-160H620v160ZM180-180h160v-160H180v160Zm440 0h160v-160H620v160Z\"/>\n",
              "  </svg>\n",
              "    </button>\n",
              "\n",
              "  <style>\n",
              "    .colab-df-container {\n",
              "      display:flex;\n",
              "      gap: 12px;\n",
              "    }\n",
              "\n",
              "    .colab-df-convert {\n",
              "      background-color: #E8F0FE;\n",
              "      border: none;\n",
              "      border-radius: 50%;\n",
              "      cursor: pointer;\n",
              "      display: none;\n",
              "      fill: #1967D2;\n",
              "      height: 32px;\n",
              "      padding: 0 0 0 0;\n",
              "      width: 32px;\n",
              "    }\n",
              "\n",
              "    .colab-df-convert:hover {\n",
              "      background-color: #E2EBFA;\n",
              "      box-shadow: 0px 1px 2px rgba(60, 64, 67, 0.3), 0px 1px 3px 1px rgba(60, 64, 67, 0.15);\n",
              "      fill: #174EA6;\n",
              "    }\n",
              "\n",
              "    .colab-df-buttons div {\n",
              "      margin-bottom: 4px;\n",
              "    }\n",
              "\n",
              "    [theme=dark] .colab-df-convert {\n",
              "      background-color: #3B4455;\n",
              "      fill: #D2E3FC;\n",
              "    }\n",
              "\n",
              "    [theme=dark] .colab-df-convert:hover {\n",
              "      background-color: #434B5C;\n",
              "      box-shadow: 0px 1px 3px 1px rgba(0, 0, 0, 0.15);\n",
              "      filter: drop-shadow(0px 1px 2px rgba(0, 0, 0, 0.3));\n",
              "      fill: #FFFFFF;\n",
              "    }\n",
              "  </style>\n",
              "\n",
              "    <script>\n",
              "      const buttonEl =\n",
              "        document.querySelector('#df-0aa84670-d038-4cb0-a493-3ff764bcab4a button.colab-df-convert');\n",
              "      buttonEl.style.display =\n",
              "        google.colab.kernel.accessAllowed ? 'block' : 'none';\n",
              "\n",
              "      async function convertToInteractive(key) {\n",
              "        const element = document.querySelector('#df-0aa84670-d038-4cb0-a493-3ff764bcab4a');\n",
              "        const dataTable =\n",
              "          await google.colab.kernel.invokeFunction('convertToInteractive',\n",
              "                                                    [key], {});\n",
              "        if (!dataTable) return;\n",
              "\n",
              "        const docLinkHtml = 'Like what you see? Visit the ' +\n",
              "          '<a target=\"_blank\" href=https://colab.research.google.com/notebooks/data_table.ipynb>data table notebook</a>'\n",
              "          + ' to learn more about interactive tables.';\n",
              "        element.innerHTML = '';\n",
              "        dataTable['output_type'] = 'display_data';\n",
              "        await google.colab.output.renderOutput(dataTable, element);\n",
              "        const docLink = document.createElement('div');\n",
              "        docLink.innerHTML = docLinkHtml;\n",
              "        element.appendChild(docLink);\n",
              "      }\n",
              "    </script>\n",
              "  </div>\n",
              "\n",
              "\n",
              "<div id=\"df-8732c2f7-ecaa-45ee-b7af-afcf2454d203\">\n",
              "  <button class=\"colab-df-quickchart\" onclick=\"quickchart('df-8732c2f7-ecaa-45ee-b7af-afcf2454d203')\"\n",
              "            title=\"Suggest charts\"\n",
              "            style=\"display:none;\">\n",
              "\n",
              "<svg xmlns=\"http://www.w3.org/2000/svg\" height=\"24px\"viewBox=\"0 0 24 24\"\n",
              "     width=\"24px\">\n",
              "    <g>\n",
              "        <path d=\"M19 3H5c-1.1 0-2 .9-2 2v14c0 1.1.9 2 2 2h14c1.1 0 2-.9 2-2V5c0-1.1-.9-2-2-2zM9 17H7v-7h2v7zm4 0h-2V7h2v10zm4 0h-2v-4h2v4z\"/>\n",
              "    </g>\n",
              "</svg>\n",
              "  </button>\n",
              "\n",
              "<style>\n",
              "  .colab-df-quickchart {\n",
              "      --bg-color: #E8F0FE;\n",
              "      --fill-color: #1967D2;\n",
              "      --hover-bg-color: #E2EBFA;\n",
              "      --hover-fill-color: #174EA6;\n",
              "      --disabled-fill-color: #AAA;\n",
              "      --disabled-bg-color: #DDD;\n",
              "  }\n",
              "\n",
              "  [theme=dark] .colab-df-quickchart {\n",
              "      --bg-color: #3B4455;\n",
              "      --fill-color: #D2E3FC;\n",
              "      --hover-bg-color: #434B5C;\n",
              "      --hover-fill-color: #FFFFFF;\n",
              "      --disabled-bg-color: #3B4455;\n",
              "      --disabled-fill-color: #666;\n",
              "  }\n",
              "\n",
              "  .colab-df-quickchart {\n",
              "    background-color: var(--bg-color);\n",
              "    border: none;\n",
              "    border-radius: 50%;\n",
              "    cursor: pointer;\n",
              "    display: none;\n",
              "    fill: var(--fill-color);\n",
              "    height: 32px;\n",
              "    padding: 0;\n",
              "    width: 32px;\n",
              "  }\n",
              "\n",
              "  .colab-df-quickchart:hover {\n",
              "    background-color: var(--hover-bg-color);\n",
              "    box-shadow: 0 1px 2px rgba(60, 64, 67, 0.3), 0 1px 3px 1px rgba(60, 64, 67, 0.15);\n",
              "    fill: var(--button-hover-fill-color);\n",
              "  }\n",
              "\n",
              "  .colab-df-quickchart-complete:disabled,\n",
              "  .colab-df-quickchart-complete:disabled:hover {\n",
              "    background-color: var(--disabled-bg-color);\n",
              "    fill: var(--disabled-fill-color);\n",
              "    box-shadow: none;\n",
              "  }\n",
              "\n",
              "  .colab-df-spinner {\n",
              "    border: 2px solid var(--fill-color);\n",
              "    border-color: transparent;\n",
              "    border-bottom-color: var(--fill-color);\n",
              "    animation:\n",
              "      spin 1s steps(1) infinite;\n",
              "  }\n",
              "\n",
              "  @keyframes spin {\n",
              "    0% {\n",
              "      border-color: transparent;\n",
              "      border-bottom-color: var(--fill-color);\n",
              "      border-left-color: var(--fill-color);\n",
              "    }\n",
              "    20% {\n",
              "      border-color: transparent;\n",
              "      border-left-color: var(--fill-color);\n",
              "      border-top-color: var(--fill-color);\n",
              "    }\n",
              "    30% {\n",
              "      border-color: transparent;\n",
              "      border-left-color: var(--fill-color);\n",
              "      border-top-color: var(--fill-color);\n",
              "      border-right-color: var(--fill-color);\n",
              "    }\n",
              "    40% {\n",
              "      border-color: transparent;\n",
              "      border-right-color: var(--fill-color);\n",
              "      border-top-color: var(--fill-color);\n",
              "    }\n",
              "    60% {\n",
              "      border-color: transparent;\n",
              "      border-right-color: var(--fill-color);\n",
              "    }\n",
              "    80% {\n",
              "      border-color: transparent;\n",
              "      border-right-color: var(--fill-color);\n",
              "      border-bottom-color: var(--fill-color);\n",
              "    }\n",
              "    90% {\n",
              "      border-color: transparent;\n",
              "      border-bottom-color: var(--fill-color);\n",
              "    }\n",
              "  }\n",
              "</style>\n",
              "\n",
              "  <script>\n",
              "    async function quickchart(key) {\n",
              "      const quickchartButtonEl =\n",
              "        document.querySelector('#' + key + ' button');\n",
              "      quickchartButtonEl.disabled = true;  // To prevent multiple clicks.\n",
              "      quickchartButtonEl.classList.add('colab-df-spinner');\n",
              "      try {\n",
              "        const charts = await google.colab.kernel.invokeFunction(\n",
              "            'suggestCharts', [key], {});\n",
              "      } catch (error) {\n",
              "        console.error('Error during call to suggestCharts:', error);\n",
              "      }\n",
              "      quickchartButtonEl.classList.remove('colab-df-spinner');\n",
              "      quickchartButtonEl.classList.add('colab-df-quickchart-complete');\n",
              "    }\n",
              "    (() => {\n",
              "      let quickchartButtonEl =\n",
              "        document.querySelector('#df-8732c2f7-ecaa-45ee-b7af-afcf2454d203 button');\n",
              "      quickchartButtonEl.style.display =\n",
              "        google.colab.kernel.accessAllowed ? 'block' : 'none';\n",
              "    })();\n",
              "  </script>\n",
              "</div>\n",
              "    </div>\n",
              "  </div>\n"
            ],
            "application/vnd.google.colaboratory.intrinsic+json": {
              "type": "dataframe",
              "variable_name": "rag_dataset",
              "summary": "{\n  \"name\": \"rag_dataset\",\n  \"rows\": 12000,\n  \"fields\": [\n    {\n      \"column\": \"context\",\n      \"properties\": {\n        \"dtype\": \"string\",\n        \"num_unique_values\": 12000,\n        \"samples\": [\n          \"- THE MAGAZINE\\n- NEWS\\n- NEW PRODUCTS\\n- TOPICS\\n- COLUMNS\\n- RESOURCES\\n- MULTIMEDIA\\n- EVENTS\\n- DIRECTORIES\\nCeramic Society of Japan Announces Annual MeetingThe Annual Meeting of the Ceramic Society of Japan (CSJ) will be held at the Ohkubo campus of Waseda University in Tokyo, Japan, on March 21-23, 2001. The scientific program will cover structural ceramics, electroceramics, glass, raw materials, processing, bioceramics, materials analysis, cements, porcelain enamel, whitewares and education. The annual banquet and the Ceramographic Award Exhibition will also be part of the meeting.\\nFor more information, contact CSJ at ask_www@ceramic.or.jp or visit.\\nNasdaq Opens Branch in IndiaThe U.S.-based Nasdaq stock market, which specializes in technology stocks, has opened its first branch in India. The new Nasdaq office is in the southern city of Bangalore, the country\\u2019s information technology hub.\\nThe vice chairman of Nasdaq, Alfred Berkley, said the new branch would open a window for Indian companies to access global funds. This is the fourth Nasdaq office outside the U.S., after London, Tokyo and Brazil.\\nSource: BBC World Service newsroom ()\\nTosoh Renames Nippon Silica Glass USAJapan-based Tosoh Corp. has changed the name of Nippon Silica Glass USA, Inc. to TOSOH SGM, USA Inc., effective January 1, 2001. Located in Bound Brook, N.J., TOSOH SGM, USA Inc. will continue to be the sales and distribution channel for silica glass materials, zirconia powders and advanced ceramic products and materials in the U.S. for Tosoh Corp. As part of the quartz group unification process, Tosoh aims to further enhance its worldwide silica glass material line of business by bringing about a more efficient utilization of resources through the sharing of information and technology, as well as research and development and marketing efforts.\\nThis renaming strategically follows the recent name change of quartz material producer NSG Yamaguchi Co., Ltd., to TOSOH SGM Corp., as well as the transfer of silica glass sales assignments from Nippon Silica Glass Co., Ltd., to the Tosoh Quartz Division. In addition, Tosoh recently unified all Tosoh-affiliated quartz fabrication companies throughout the world under the name \\u201cTOSOH Quartz.\\u201d For more information, visit.\\nChina WTO Talks Expected by MarchBeijing\\u2019s chief World Trade Organization negotiator, Long Yongtu, said it was unlikely the next round of WTO talks would be held in February. He said that China wants to wait until all parties in the new Bush administration are ready before the two sides meet again. But he denied an Australian news report saying China may delay WTO entry until as late as next year.\\n\\u201cGiven the atmosphere and progress in Geneva in the last talks, I still believe we can get in the WTO this year,\\u201d he said. \\u201cWhich month is not important.\\u201d\\nAfter talks in January in Geneva, the next round of meetings was planned to take place at the end of February or in early March.\\n\\u201cIf we are to meet, I prefer to have a good meeting. But because of the changing of new administration in the U.S., they may have new adjustments. We want to wait until all the parties are ready. It will be in March but we will not press for a date.\\u201d\\nSource:\\nIndia\\u2019s Industrial Growth SlowsIndustrial growth in India slumped to 5.7% during the first nine months of the current financial year (April-December 2000), compared to the 6.4% growth achieved during the same period of the previous year. According to quick estimates of index of industrial production, the industrial growth for December 2000 also dropped, coming in at only 3.4% compared to the 8.1% growth achieved during December 1999.\\nHowever, mining and related industries remain strong, with the mining sector showing 4.1% growth during April-December 2000, compared to just 0.5% in the same period in 1999.\\nSource:\\nVietnam\\u2019s Building Sector Remains StrongSpeaking at a recent conference in Hanoi, Nguyen Manh Kiem, minister of construction, said Vietnam\\u2019s building materials production grew 17.5% over the past 10 years, an increase of 5.5% over the average growth rate of the national industrial production. He added that it was noteworthy that the production value of cement, ceramic tile, sanitaryware and construction glass accounted for 84% of total construction materials production in the 1990-2000 period, compared to 75% reported in the 1991-1995 period.\\nKiem said the country now has 32,450 companies producing construction materials, including 486 owned by the state, which make up 70% of the sector\\u2019s total production and 85% of aggregate tax payments.\\nOver the past 10 years, the population of urban areas has risen from 18% in 1990 to 20% in 1995 and 23.5% last year to 18 million.\\nSource:\",\n          \"The Sacred Drift of the Earth Pilgrim\\nLondon was looking beautiful today. Bright blue sky, the leaves just turning yellow and gold, a few puffy white clouds. Lunch with friends in the sun that got so hot it felt Mediterranean, signing some books in Watkins, London\\u2019s oldest occult bookstore, and then off to see at first hand Trafalgar Square\\u2019s Fourth Plinth. I had hoped to see some fascinating display of public performance art, but instead a chap was hoisted up and he proceeded to tell us about Benjamin Creme\\u2019s announcement of the imminent arrival of the Maitreya. Something Creme has managed to talk about for the last 20 or 30 years. He\\u2019s on his way! Yes he is. Hang on a moment. Yes he\\u2019s coming. Hang on\\u2026for decades!(Working with the seemingly opposite principle to the \\u2018Power of Now!\\u2019)\\nThen off to a book launch of Satish Kumar\\u2019s new book \\u2018Earth Pilgrim\\u2019. It looks to be a very inspiring and satisfying read. Rattling home on the train to Lewes, sun setting over the Thames and the London Eye I read:\\n\\u2018Journeying to \\u2026sacred destinations is a helpful inspiration to get me out of my home and bring me into a challenging and vivid relationship with the world. I welcome this practical and down-to-earth motivation, but at the same time I have to let go of the desire to arrive, and yield to the joy of sacred drift.\\u2019\\nSatish Kumar, Earth Pilgrim\\nI love that man. Will have to get a copy of his book.\",\n          \"David De Gea reassured over Spain role\\nVicente Del Bosque says David De Gea's time will come in the Spanish national team, but has suggested the Manchester United goalkeeper will have to wait for the moment.\\nThe Spain coach has included five of Spain\\u2019s recently crowned European Under-21 Champions in his panel for this week\\u2019s friendly in Ecuador, however there was no place for Premier League champion De Gea on the list.\\nSpeaking at his pre-game press conference the World Cup 2010 and Euro 2012 winning manager said he was well aware of De Gea\\u2019s potential but had decided to retain Pepe Reina, Victor Valdes and Iker Casillas as the trio get on so well together as a group, and are also superb 'keepers individually.\\n\\u201cI have been watching the Under-21s and De Gea is a goalkeeper who will mark an era,\\u201d Del Bosque said. \\u201cAt the present I do not find a reason to change the goalkeepers. If Casillas, Valdes and Reina are here it is not because they are funny guys, but because they are good 'keepers. At the Confederations Cup, the attention was focused on the goals because of Casillas\\u2019 situation and all worked well. They get on very well together, are good team-mates and I wanted to maintain the situation.\\u201d\\nThe five youngsters who have travelled - Isco, Thiago Alcantara, Inigo Martinez, Koke and Cristian Tello - could add new options for him to consider, Del Bosque said.\\n\\u201cIf they are here it is because they have the ability to play for the senior side,\\u201d he said. \\u201cThere are good reinforcements coming from behind, who we are going to add in bit by bit. But for sure the block from Euro 2012 still have some distance left to go. We have a stable team with few players over 30. This team has a future.\\u201d\\nThe 3-0 loss to Brazil in June\\u2019s Confederations Cup final would not lead to any panic or wholesale changes in Spain\\u2019s approach, said the experienced coach.\\n\\u201cAt the Confederations Cup everything went well,\\u201d Del Bosque said. \\u201cWe were very excited to reach the final against Brazil, but we were drained physically and they beat us there \\u2013 right from when the hymn began to play.\\u201d\\nLa Roja captain Casillas said he was expecting a tough test from Ecuador, who are currently well set to qualify for next summer\\u2019s World Cup in Brazil.\\n\\\"Ecuador is a team with technical ability but also great physical power,\\u201d the Real Madrid 'keeper said. \\u201cThey close up space very well and that becomes uncomfortable. We must run more than them and be accurate.\\u201d\\nCasillas brushed away a suggestion that Spain\\u2019s players were annoyed at yet another long trip to South America at an awkward time just before the club season kicked off.\\n\\\"Neither the journeys nor the kilometres are important,\\u201d he said. \\u201cTo be anywhere with \\u2018la seleccion\\u2019 is a source of pride. We are delighted. The affection with which we are received, especially in South America, is huge. We appreciate it.\\u201d\\nOne player delighted to have made the trip is Fernando Llorente, who returns to the Spain squad having slipped out of the picture last season while he was kicking his heels on the Athletic Bilbao bench.\\n\\u201cIt is always a very big excitement to return to the national team,\\u201d said the new Juventus centre-forward. \\\"I am arriving at a very nice moment for me. Llorente is back with a lot of motivation, as if it was the first day. It will be very difficult [to make World Cup squad], but I am going to try and give a.\"\n        ],\n        \"semantic_type\": \"\",\n        \"description\": \"\"\n      }\n    },\n    {\n      \"column\": \"question\",\n      \"properties\": {\n        \"dtype\": \"string\",\n        \"num_unique_values\": 11983,\n        \"samples\": [\n          \"Who is the author of \\\"Pittsburgh Steelers: The Complete Illustrated History\\\"?\",\n          \"What are the key ingredients for the Perfect Roast Chicken with Salsa Verde recipe?\",\n          \"What is the main lesson Kishore Mahbubani highlights in his article about small states?\"\n        ],\n        \"semantic_type\": \"\",\n        \"description\": \"\"\n      }\n    },\n    {\n      \"column\": \"answer\",\n      \"properties\": {\n        \"dtype\": \"string\",\n        \"num_unique_values\": 11997,\n        \"samples\": [\n          \"The Annual Meeting of the Ceramic Society of Japan will be held at the Ohkubo campus of Waseda University in Tokyo, Japan, on March 21-23, 2001.\",\n          \"The author suggests feeding your thoughts with problem-solving and reading books that make you look at life differently, feeding your senses of sound with different types of music, feeding your eyesight with new scenery instead of social media, feeding your body with healthy food and exercise, feeding your spirit by strengthening your faith, and feeding your life by applying yourself properly in every situation.\",\n          \"The breacher bikes make the Legionary Apothecary and Engineer more mobile and able to quickly arrive wherever they are needed the most on the battlefield. Additionally, the heavily armoured breacher bikes provide protection and have the ability to smash through anything.\"\n        ],\n        \"semantic_type\": \"\",\n        \"description\": \"\"\n      }\n    }\n  ]\n}"
            }
          },
          "metadata": {},
          "execution_count": 4
        }
      ]
    },
    {
      "cell_type": "code",
      "execution_count": 5,
      "metadata": {
        "colab": {
          "base_uri": "https://localhost:8080/"
        },
        "id": "gKxVh8CZrCNO",
        "outputId": "f129333e-54e6-47e6-eb39-5dfa6a4e1b73"
      },
      "outputs": [
        {
          "output_type": "execute_result",
          "data": {
            "text/plain": [
              "array(['Caption: Tasmanian berry grower Nic Hansen showing Macau chef Antimo Merone around his property as part of export engagement activities.\\nTHE RISE and rise of the Australian strawberry, raspberry and blackberry industries has seen the sectors redouble their international trade focus, with the release of a dedicated export plan to grow their global presence over the next 10 years.\\nDriven by significant grower input, the Berry Export Summary 2028 maps the sectors’ current position, where they want to be, high-opportunity markets and next steps.\\nHort Innovation trade manager Jenny Van de Meeberg said the value and volume of raspberry and blackberry exports rose by 100 per cent between 2016 and 2017. She said the Australian strawberry industry experienced similar success with an almost 30 per cent rise in export volume and a 26 per cent rise in value to $32.6M over the same period.\\n“Australian berry sectors are in a firm position at the moment,” she said. “Production, adoption of protected substrate cropping, improved genetics and an expanding geographic footprint have all helped put Aussie berries on a positive trajectory.\\n“We are seeing a real transition point. Broad industry interest and a strong commercial appetite for export market development combined with the potential to capitalise on existing trade agreements and build new trade partnerships has created this perfect environment for growth.”\\nHigh-income countries across Europe, North America and Northern Asia have been identified as having a palate for Australian grown berries with more than 4244 tonnes of fresh berries exported in the last financial year alone.\\nThe strategy identified the best short-term prospect markets for the Australian blackberry and raspberry industry as Hong Kong, Singapore, The United Arab Emirates and Canada. The strongest short-term trade options identified for the strawberry sector were Thailand, Malaysia, New Zealand and Macau.\\nThe strategy focuses heavily on growing the existing strawberry export market from 4 per cent to at least 8 per cent of national production by volume, in markets with a capacity and willingness to pay a premium for quality fruit. For raspberries and blackberries, the sectors aim to achieve a 5 per cent boost in exports assessed by volume across identified markets by 2021.\\nTasmanian raspberry exporter Nic Hansen said Australia offers some of the sweetest and most attractive berries in the world, and this combined with our stringent food safety standards across all stages of the supply chain puts growers in a solid position.\\n“We have a great product, we are hungry to expand trade and now with this new plan in place, we have a clear roadmap towards driving growth,” Mr Hansen said.\\nHe said it is exciting to see new export market prospects for raspberries: “The more options we have for export the better. Now we just have to get on with the job of ensuring industry has all the tools it needs, such as supporting data and relationship building opportunities, to thrive in new markets.”\\nThis project was commissioned by Hort Innovation, and developed by market analysts and research consultants Auspex Strategic Advisory and AgInfinity. Hort Innovation will work now with berry sectors to determine levy-funded activities to support trade.\\nSee a summary of the strategy on the Hort Innovation website.\\nFor more information on the berry industries, refer to the Horticulture Statistics Handbook and the Strategic Investment Plans for strawberries, raspberries and blackberries. Growers seeking more information should email trade@horticulture.com.au',\n",
              "       'What is the Berry Export Summary 2028 and what is its purpose?',\n",
              "       'The Berry Export Summary 2028 is a dedicated export plan for the Australian strawberry, raspberry, and blackberry industries. It maps the sectors’ current position, where they want to be, high-opportunity markets, and next steps. The purpose of this plan is to grow their global presence over the next 10 years.'],\n",
              "      dtype=object)"
            ]
          },
          "metadata": {},
          "execution_count": 5
        }
      ],
      "source": [
        "# вывод одного сэмпла\n",
        "rag_dataset.values[0]"
      ]
    },
    {
      "cell_type": "markdown",
      "source": [
        "Видны посторонние символы, такие как перевод строки \\n"
      ],
      "metadata": {
        "id": "Jk4KWddmQyxm"
      }
    },
    {
      "cell_type": "markdown",
      "metadata": {
        "id": "3DVpCnCYmgw_"
      },
      "source": [
        "Имеется 3 колонки и 12000 строк"
      ]
    },
    {
      "cell_type": "code",
      "execution_count": 6,
      "metadata": {
        "colab": {
          "base_uri": "https://localhost:8080/"
        },
        "id": "_mJ5DVhKlps4",
        "outputId": "42aa2a26-5582-4620-a172-9e3f95f8fef7"
      },
      "outputs": [
        {
          "output_type": "stream",
          "name": "stdout",
          "text": [
            "<class 'pandas.core.frame.DataFrame'>\n",
            "RangeIndex: 12000 entries, 0 to 11999\n",
            "Data columns (total 3 columns):\n",
            " #   Column    Non-Null Count  Dtype \n",
            "---  ------    --------------  ----- \n",
            " 0   context   12000 non-null  object\n",
            " 1   question  11997 non-null  object\n",
            " 2   answer    11997 non-null  object\n",
            "dtypes: object(3)\n",
            "memory usage: 281.4+ KB\n"
          ]
        }
      ],
      "source": [
        "rag_dataset.info()"
      ]
    },
    {
      "cell_type": "code",
      "execution_count": 7,
      "metadata": {
        "colab": {
          "base_uri": "https://localhost:8080/"
        },
        "id": "GnF8bw_Jr78f",
        "outputId": "a84dba76-f942-46fa-c6a9-56a0a22c7e2f"
      },
      "outputs": [
        {
          "output_type": "execute_result",
          "data": {
            "text/plain": [
              "Index(['context', 'question', 'answer'], dtype='object')"
            ]
          },
          "metadata": {},
          "execution_count": 7
        }
      ],
      "source": [
        "df = rag_dataset.copy()\n",
        "\n",
        "df.columns"
      ]
    },
    {
      "cell_type": "code",
      "source": [
        "# удаление строк с пустыми значениями (None)\n",
        "df = df.dropna()"
      ],
      "metadata": {
        "id": "xYEJxz6k1633"
      },
      "execution_count": 8,
      "outputs": []
    },
    {
      "cell_type": "code",
      "source": [
        "# приведем к нижнему регистру тексты во всех колонках\n",
        "df['context'] = df['context'].apply(lambda x: x.lower())\n",
        "df['question'] = df['question'].apply(lambda x: x.lower())\n",
        "df['answer'] = df['answer'].apply(lambda x: x.lower())\n",
        "\n",
        "df"
      ],
      "metadata": {
        "colab": {
          "base_uri": "https://localhost:8080/",
          "height": 0
        },
        "id": "v6yNwU8v2KVp",
        "outputId": "1007ffe4-56ab-48e7-9378-cfab7207c32a"
      },
      "execution_count": 9,
      "outputs": [
        {
          "output_type": "execute_result",
          "data": {
            "text/plain": [
              "                                                 context  \\\n",
              "0      caption: tasmanian berry grower nic hansen sho...   \n",
              "1      rwsn collaborations\\nsouthern africa self-supp...   \n",
              "2      all android applications categories\\ndescripti...   \n",
              "3      how unequal is india? the question is simple, ...   \n",
              "4      gunnar nelson took his time on the feet agains...   \n",
              "...                                                  ...   \n",
              "11995  fuzzy's ultra premium vodka\\nthe myth, the man...   \n",
              "11996  swedish grand prix rider malin nilsson got mar...   \n",
              "11997  the cracchiolo law library of the james e. rog...   \n",
              "11998  2nd physical emag store opens in mammut\\nonlin...   \n",
              "11999  about this cadillac\\n2019 cadillac xt5\\nfwd 4d...   \n",
              "\n",
              "                                                question  \\\n",
              "0      what is the berry export summary 2028 and what...   \n",
              "1      what are some of the benefits reported from ha...   \n",
              "2      what are the unique features of the coolands f...   \n",
              "3      what is the main difference between the nation...   \n",
              "4      how did gunnar nelson win the fight against za...   \n",
              "...                                                  ...   \n",
              "11995  what are some of the achievements of fuzzy zoe...   \n",
              "11996        who did malin nilsson marry on 2 june 2018?   \n",
              "11997  what is the fellowship in law librarianship of...   \n",
              "11998  where has the second physical emag store been ...   \n",
              "11999  what are some of the key features of the 2019 ...   \n",
              "\n",
              "                                                  answer  \n",
              "0      the berry export summary 2028 is a dedicated e...  \n",
              "1      benefits reported from having access to self-s...  \n",
              "2      the unique features of the coolands for twitte...  \n",
              "3      the main difference between the nss and the ih...  \n",
              "4      gunnar nelson won the fight against zak cummin...  \n",
              "...                                                  ...  \n",
              "11995  fuzzy zoeller is known for his golfing success...  \n",
              "11996  malin nilsson got married to her partner, germ...  \n",
              "11997  the fellowship in law librarianship is a progr...  \n",
              "11998  the second physical emag store has been opened...  \n",
              "11999  the 2019 cadillac xt5 comes equipped with feat...  \n",
              "\n",
              "[11997 rows x 3 columns]"
            ],
            "text/html": [
              "\n",
              "  <div id=\"df-d607fe62-3fec-437c-b71f-f8c467a09553\" class=\"colab-df-container\">\n",
              "    <div>\n",
              "<style scoped>\n",
              "    .dataframe tbody tr th:only-of-type {\n",
              "        vertical-align: middle;\n",
              "    }\n",
              "\n",
              "    .dataframe tbody tr th {\n",
              "        vertical-align: top;\n",
              "    }\n",
              "\n",
              "    .dataframe thead th {\n",
              "        text-align: right;\n",
              "    }\n",
              "</style>\n",
              "<table border=\"1\" class=\"dataframe\">\n",
              "  <thead>\n",
              "    <tr style=\"text-align: right;\">\n",
              "      <th></th>\n",
              "      <th>context</th>\n",
              "      <th>question</th>\n",
              "      <th>answer</th>\n",
              "    </tr>\n",
              "  </thead>\n",
              "  <tbody>\n",
              "    <tr>\n",
              "      <th>0</th>\n",
              "      <td>caption: tasmanian berry grower nic hansen sho...</td>\n",
              "      <td>what is the berry export summary 2028 and what...</td>\n",
              "      <td>the berry export summary 2028 is a dedicated e...</td>\n",
              "    </tr>\n",
              "    <tr>\n",
              "      <th>1</th>\n",
              "      <td>rwsn collaborations\\nsouthern africa self-supp...</td>\n",
              "      <td>what are some of the benefits reported from ha...</td>\n",
              "      <td>benefits reported from having access to self-s...</td>\n",
              "    </tr>\n",
              "    <tr>\n",
              "      <th>2</th>\n",
              "      <td>all android applications categories\\ndescripti...</td>\n",
              "      <td>what are the unique features of the coolands f...</td>\n",
              "      <td>the unique features of the coolands for twitte...</td>\n",
              "    </tr>\n",
              "    <tr>\n",
              "      <th>3</th>\n",
              "      <td>how unequal is india? the question is simple, ...</td>\n",
              "      <td>what is the main difference between the nation...</td>\n",
              "      <td>the main difference between the nss and the ih...</td>\n",
              "    </tr>\n",
              "    <tr>\n",
              "      <th>4</th>\n",
              "      <td>gunnar nelson took his time on the feet agains...</td>\n",
              "      <td>how did gunnar nelson win the fight against za...</td>\n",
              "      <td>gunnar nelson won the fight against zak cummin...</td>\n",
              "    </tr>\n",
              "    <tr>\n",
              "      <th>...</th>\n",
              "      <td>...</td>\n",
              "      <td>...</td>\n",
              "      <td>...</td>\n",
              "    </tr>\n",
              "    <tr>\n",
              "      <th>11995</th>\n",
              "      <td>fuzzy's ultra premium vodka\\nthe myth, the man...</td>\n",
              "      <td>what are some of the achievements of fuzzy zoe...</td>\n",
              "      <td>fuzzy zoeller is known for his golfing success...</td>\n",
              "    </tr>\n",
              "    <tr>\n",
              "      <th>11996</th>\n",
              "      <td>swedish grand prix rider malin nilsson got mar...</td>\n",
              "      <td>who did malin nilsson marry on 2 june 2018?</td>\n",
              "      <td>malin nilsson got married to her partner, germ...</td>\n",
              "    </tr>\n",
              "    <tr>\n",
              "      <th>11997</th>\n",
              "      <td>the cracchiolo law library of the james e. rog...</td>\n",
              "      <td>what is the fellowship in law librarianship of...</td>\n",
              "      <td>the fellowship in law librarianship is a progr...</td>\n",
              "    </tr>\n",
              "    <tr>\n",
              "      <th>11998</th>\n",
              "      <td>2nd physical emag store opens in mammut\\nonlin...</td>\n",
              "      <td>where has the second physical emag store been ...</td>\n",
              "      <td>the second physical emag store has been opened...</td>\n",
              "    </tr>\n",
              "    <tr>\n",
              "      <th>11999</th>\n",
              "      <td>about this cadillac\\n2019 cadillac xt5\\nfwd 4d...</td>\n",
              "      <td>what are some of the key features of the 2019 ...</td>\n",
              "      <td>the 2019 cadillac xt5 comes equipped with feat...</td>\n",
              "    </tr>\n",
              "  </tbody>\n",
              "</table>\n",
              "<p>11997 rows × 3 columns</p>\n",
              "</div>\n",
              "    <div class=\"colab-df-buttons\">\n",
              "\n",
              "  <div class=\"colab-df-container\">\n",
              "    <button class=\"colab-df-convert\" onclick=\"convertToInteractive('df-d607fe62-3fec-437c-b71f-f8c467a09553')\"\n",
              "            title=\"Convert this dataframe to an interactive table.\"\n",
              "            style=\"display:none;\">\n",
              "\n",
              "  <svg xmlns=\"http://www.w3.org/2000/svg\" height=\"24px\" viewBox=\"0 -960 960 960\">\n",
              "    <path d=\"M120-120v-720h720v720H120Zm60-500h600v-160H180v160Zm220 220h160v-160H400v160Zm0 220h160v-160H400v160ZM180-400h160v-160H180v160Zm440 0h160v-160H620v160ZM180-180h160v-160H180v160Zm440 0h160v-160H620v160Z\"/>\n",
              "  </svg>\n",
              "    </button>\n",
              "\n",
              "  <style>\n",
              "    .colab-df-container {\n",
              "      display:flex;\n",
              "      gap: 12px;\n",
              "    }\n",
              "\n",
              "    .colab-df-convert {\n",
              "      background-color: #E8F0FE;\n",
              "      border: none;\n",
              "      border-radius: 50%;\n",
              "      cursor: pointer;\n",
              "      display: none;\n",
              "      fill: #1967D2;\n",
              "      height: 32px;\n",
              "      padding: 0 0 0 0;\n",
              "      width: 32px;\n",
              "    }\n",
              "\n",
              "    .colab-df-convert:hover {\n",
              "      background-color: #E2EBFA;\n",
              "      box-shadow: 0px 1px 2px rgba(60, 64, 67, 0.3), 0px 1px 3px 1px rgba(60, 64, 67, 0.15);\n",
              "      fill: #174EA6;\n",
              "    }\n",
              "\n",
              "    .colab-df-buttons div {\n",
              "      margin-bottom: 4px;\n",
              "    }\n",
              "\n",
              "    [theme=dark] .colab-df-convert {\n",
              "      background-color: #3B4455;\n",
              "      fill: #D2E3FC;\n",
              "    }\n",
              "\n",
              "    [theme=dark] .colab-df-convert:hover {\n",
              "      background-color: #434B5C;\n",
              "      box-shadow: 0px 1px 3px 1px rgba(0, 0, 0, 0.15);\n",
              "      filter: drop-shadow(0px 1px 2px rgba(0, 0, 0, 0.3));\n",
              "      fill: #FFFFFF;\n",
              "    }\n",
              "  </style>\n",
              "\n",
              "    <script>\n",
              "      const buttonEl =\n",
              "        document.querySelector('#df-d607fe62-3fec-437c-b71f-f8c467a09553 button.colab-df-convert');\n",
              "      buttonEl.style.display =\n",
              "        google.colab.kernel.accessAllowed ? 'block' : 'none';\n",
              "\n",
              "      async function convertToInteractive(key) {\n",
              "        const element = document.querySelector('#df-d607fe62-3fec-437c-b71f-f8c467a09553');\n",
              "        const dataTable =\n",
              "          await google.colab.kernel.invokeFunction('convertToInteractive',\n",
              "                                                    [key], {});\n",
              "        if (!dataTable) return;\n",
              "\n",
              "        const docLinkHtml = 'Like what you see? Visit the ' +\n",
              "          '<a target=\"_blank\" href=https://colab.research.google.com/notebooks/data_table.ipynb>data table notebook</a>'\n",
              "          + ' to learn more about interactive tables.';\n",
              "        element.innerHTML = '';\n",
              "        dataTable['output_type'] = 'display_data';\n",
              "        await google.colab.output.renderOutput(dataTable, element);\n",
              "        const docLink = document.createElement('div');\n",
              "        docLink.innerHTML = docLinkHtml;\n",
              "        element.appendChild(docLink);\n",
              "      }\n",
              "    </script>\n",
              "  </div>\n",
              "\n",
              "\n",
              "<div id=\"df-7fc5191a-5f9e-425f-99b2-82745246c8f6\">\n",
              "  <button class=\"colab-df-quickchart\" onclick=\"quickchart('df-7fc5191a-5f9e-425f-99b2-82745246c8f6')\"\n",
              "            title=\"Suggest charts\"\n",
              "            style=\"display:none;\">\n",
              "\n",
              "<svg xmlns=\"http://www.w3.org/2000/svg\" height=\"24px\"viewBox=\"0 0 24 24\"\n",
              "     width=\"24px\">\n",
              "    <g>\n",
              "        <path d=\"M19 3H5c-1.1 0-2 .9-2 2v14c0 1.1.9 2 2 2h14c1.1 0 2-.9 2-2V5c0-1.1-.9-2-2-2zM9 17H7v-7h2v7zm4 0h-2V7h2v10zm4 0h-2v-4h2v4z\"/>\n",
              "    </g>\n",
              "</svg>\n",
              "  </button>\n",
              "\n",
              "<style>\n",
              "  .colab-df-quickchart {\n",
              "      --bg-color: #E8F0FE;\n",
              "      --fill-color: #1967D2;\n",
              "      --hover-bg-color: #E2EBFA;\n",
              "      --hover-fill-color: #174EA6;\n",
              "      --disabled-fill-color: #AAA;\n",
              "      --disabled-bg-color: #DDD;\n",
              "  }\n",
              "\n",
              "  [theme=dark] .colab-df-quickchart {\n",
              "      --bg-color: #3B4455;\n",
              "      --fill-color: #D2E3FC;\n",
              "      --hover-bg-color: #434B5C;\n",
              "      --hover-fill-color: #FFFFFF;\n",
              "      --disabled-bg-color: #3B4455;\n",
              "      --disabled-fill-color: #666;\n",
              "  }\n",
              "\n",
              "  .colab-df-quickchart {\n",
              "    background-color: var(--bg-color);\n",
              "    border: none;\n",
              "    border-radius: 50%;\n",
              "    cursor: pointer;\n",
              "    display: none;\n",
              "    fill: var(--fill-color);\n",
              "    height: 32px;\n",
              "    padding: 0;\n",
              "    width: 32px;\n",
              "  }\n",
              "\n",
              "  .colab-df-quickchart:hover {\n",
              "    background-color: var(--hover-bg-color);\n",
              "    box-shadow: 0 1px 2px rgba(60, 64, 67, 0.3), 0 1px 3px 1px rgba(60, 64, 67, 0.15);\n",
              "    fill: var(--button-hover-fill-color);\n",
              "  }\n",
              "\n",
              "  .colab-df-quickchart-complete:disabled,\n",
              "  .colab-df-quickchart-complete:disabled:hover {\n",
              "    background-color: var(--disabled-bg-color);\n",
              "    fill: var(--disabled-fill-color);\n",
              "    box-shadow: none;\n",
              "  }\n",
              "\n",
              "  .colab-df-spinner {\n",
              "    border: 2px solid var(--fill-color);\n",
              "    border-color: transparent;\n",
              "    border-bottom-color: var(--fill-color);\n",
              "    animation:\n",
              "      spin 1s steps(1) infinite;\n",
              "  }\n",
              "\n",
              "  @keyframes spin {\n",
              "    0% {\n",
              "      border-color: transparent;\n",
              "      border-bottom-color: var(--fill-color);\n",
              "      border-left-color: var(--fill-color);\n",
              "    }\n",
              "    20% {\n",
              "      border-color: transparent;\n",
              "      border-left-color: var(--fill-color);\n",
              "      border-top-color: var(--fill-color);\n",
              "    }\n",
              "    30% {\n",
              "      border-color: transparent;\n",
              "      border-left-color: var(--fill-color);\n",
              "      border-top-color: var(--fill-color);\n",
              "      border-right-color: var(--fill-color);\n",
              "    }\n",
              "    40% {\n",
              "      border-color: transparent;\n",
              "      border-right-color: var(--fill-color);\n",
              "      border-top-color: var(--fill-color);\n",
              "    }\n",
              "    60% {\n",
              "      border-color: transparent;\n",
              "      border-right-color: var(--fill-color);\n",
              "    }\n",
              "    80% {\n",
              "      border-color: transparent;\n",
              "      border-right-color: var(--fill-color);\n",
              "      border-bottom-color: var(--fill-color);\n",
              "    }\n",
              "    90% {\n",
              "      border-color: transparent;\n",
              "      border-bottom-color: var(--fill-color);\n",
              "    }\n",
              "  }\n",
              "</style>\n",
              "\n",
              "  <script>\n",
              "    async function quickchart(key) {\n",
              "      const quickchartButtonEl =\n",
              "        document.querySelector('#' + key + ' button');\n",
              "      quickchartButtonEl.disabled = true;  // To prevent multiple clicks.\n",
              "      quickchartButtonEl.classList.add('colab-df-spinner');\n",
              "      try {\n",
              "        const charts = await google.colab.kernel.invokeFunction(\n",
              "            'suggestCharts', [key], {});\n",
              "      } catch (error) {\n",
              "        console.error('Error during call to suggestCharts:', error);\n",
              "      }\n",
              "      quickchartButtonEl.classList.remove('colab-df-spinner');\n",
              "      quickchartButtonEl.classList.add('colab-df-quickchart-complete');\n",
              "    }\n",
              "    (() => {\n",
              "      let quickchartButtonEl =\n",
              "        document.querySelector('#df-7fc5191a-5f9e-425f-99b2-82745246c8f6 button');\n",
              "      quickchartButtonEl.style.display =\n",
              "        google.colab.kernel.accessAllowed ? 'block' : 'none';\n",
              "    })();\n",
              "  </script>\n",
              "</div>\n",
              "    </div>\n",
              "  </div>\n"
            ],
            "application/vnd.google.colaboratory.intrinsic+json": {
              "type": "dataframe",
              "variable_name": "df",
              "summary": "{\n  \"name\": \"df\",\n  \"rows\": 11997,\n  \"fields\": [\n    {\n      \"column\": \"context\",\n      \"properties\": {\n        \"dtype\": \"string\",\n        \"num_unique_values\": 11997,\n        \"samples\": [\n          \"- the magazine\\n- news\\n- new products\\n- topics\\n- columns\\n- resources\\n- multimedia\\n- events\\n- directories\\nceramic society of japan announces annual meetingthe annual meeting of the ceramic society of japan (csj) will be held at the ohkubo campus of waseda university in tokyo, japan, on march 21-23, 2001. the scientific program will cover structural ceramics, electroceramics, glass, raw materials, processing, bioceramics, materials analysis, cements, porcelain enamel, whitewares and education. the annual banquet and the ceramographic award exhibition will also be part of the meeting.\\nfor more information, contact csj at ask_www@ceramic.or.jp or visit.\\nnasdaq opens branch in indiathe u.s.-based nasdaq stock market, which specializes in technology stocks, has opened its first branch in india. the new nasdaq office is in the southern city of bangalore, the country\\u2019s information technology hub.\\nthe vice chairman of nasdaq, alfred berkley, said the new branch would open a window for indian companies to access global funds. this is the fourth nasdaq office outside the u.s., after london, tokyo and brazil.\\nsource: bbc world service newsroom ()\\ntosoh renames nippon silica glass usajapan-based tosoh corp. has changed the name of nippon silica glass usa, inc. to tosoh sgm, usa inc., effective january 1, 2001. located in bound brook, n.j., tosoh sgm, usa inc. will continue to be the sales and distribution channel for silica glass materials, zirconia powders and advanced ceramic products and materials in the u.s. for tosoh corp. as part of the quartz group unification process, tosoh aims to further enhance its worldwide silica glass material line of business by bringing about a more efficient utilization of resources through the sharing of information and technology, as well as research and development and marketing efforts.\\nthis renaming strategically follows the recent name change of quartz material producer nsg yamaguchi co., ltd., to tosoh sgm corp., as well as the transfer of silica glass sales assignments from nippon silica glass co., ltd., to the tosoh quartz division. in addition, tosoh recently unified all tosoh-affiliated quartz fabrication companies throughout the world under the name \\u201ctosoh quartz.\\u201d for more information, visit.\\nchina wto talks expected by marchbeijing\\u2019s chief world trade organization negotiator, long yongtu, said it was unlikely the next round of wto talks would be held in february. he said that china wants to wait until all parties in the new bush administration are ready before the two sides meet again. but he denied an australian news report saying china may delay wto entry until as late as next year.\\n\\u201cgiven the atmosphere and progress in geneva in the last talks, i still believe we can get in the wto this year,\\u201d he said. \\u201cwhich month is not important.\\u201d\\nafter talks in january in geneva, the next round of meetings was planned to take place at the end of february or in early march.\\n\\u201cif we are to meet, i prefer to have a good meeting. but because of the changing of new administration in the u.s., they may have new adjustments. we want to wait until all the parties are ready. it will be in march but we will not press for a date.\\u201d\\nsource:\\nindia\\u2019s industrial growth slowsindustrial growth in india slumped to 5.7% during the first nine months of the current financial year (april-december 2000), compared to the 6.4% growth achieved during the same period of the previous year. according to quick estimates of index of industrial production, the industrial growth for december 2000 also dropped, coming in at only 3.4% compared to the 8.1% growth achieved during december 1999.\\nhowever, mining and related industries remain strong, with the mining sector showing 4.1% growth during april-december 2000, compared to just 0.5% in the same period in 1999.\\nsource:\\nvietnam\\u2019s building sector remains strongspeaking at a recent conference in hanoi, nguyen manh kiem, minister of construction, said vietnam\\u2019s building materials production grew 17.5% over the past 10 years, an increase of 5.5% over the average growth rate of the national industrial production. he added that it was noteworthy that the production value of cement, ceramic tile, sanitaryware and construction glass accounted for 84% of total construction materials production in the 1990-2000 period, compared to 75% reported in the 1991-1995 period.\\nkiem said the country now has 32,450 companies producing construction materials, including 486 owned by the state, which make up 70% of the sector\\u2019s total production and 85% of aggregate tax payments.\\nover the past 10 years, the population of urban areas has risen from 18% in 1990 to 20% in 1995 and 23.5% last year to 18 million.\\nsource:\",\n          \"it\\u2019s all about presence.\\nyours, your company, the closest people to you, the closest people to your closest people.\\nall of the answers to \\u201cwhere\\u201d is defined by your presence. physical presence, yes. but further than that, the emotional and intangible presence. that\\u2019s what matters most.\\nwhen i say presence is purpose, it\\u2019s pretty self explanatory. what purpose are you serving in people\\u2019s lives? & vice versa? what purpose are you serving overall? this answers the \\u201cwhat\\u201d..\\nthis is asking yourself.. where are you? what are you doing?\\nsometimes, you have to realize where you show up & how people show up with you. the company we keep are choices.. they directly influence the direction of our future, or hinder the vision of the paths we are supposed to take. the people you choose to be a part of your life should be challenging you to better yourself as you get older. they should let you know when you\\u2019ve done wrong. they should support you with your decisions, regardless of judgment, opinion, outside voices, or opposition.\\nshowing up goes beyond the obvious \\u2013 graduations, birthdays, reaching milestones, break ups, or when you reach rock bottom. the people you choose should be present throughout those times \\u2013 it\\u2019s like telling your parents you cleaned your room, or washed the dishes while you were growing up. those are things you\\u2019re supposed to do.\\nbut when else do they show up? opportunities to slander your name will come up. confrontation will come up. misunderstandings will come up. outside voices seeming louder than anything else will come up. loyalty, as if it were even an option, will come up\\u2026\\nwhere are your people showing up?\\npresence has an endless component to it. no matter how long you\\u2019ve known someone doesn\\u2019t determine their presence. time permits growth. & sometimes growth means change.\\nsometimes the people around you change due to change happening in their lives. we can\\u2019t blame them to an extent, but we can pay attention to their presence.\\nwhen certain levels of status, fame, or money is reached, that can cause people to change. where are they present? or.. where are they absent? note differences in treatment, attention, care, conversation.. these things can make people crave & yearn for things they\\u2019ve never had before, changing their values. pay attention.\\njust as things may have changed for them, things may change for you as well. growth is different for everyone. some grow together. some grow apart. your growth may call for you to pay attention to the true presence your people have. it also may call for a smaller capacity \\u2013 and that\\u2019s okay.\\nmore importantly, where are you? your presence in people\\u2019s lives is just as valuable. your friends, your brothers, your sisters, your parents, your extended family, your spouse.. challenge them. tell them when they are wrong. wipe their tears. support their dreams. better them. let them know what\\u2019s holding them back from them reaching their potential. come up with action plans to get there. & when opposition or conflict arises, disagree in support. speak highly of them when they aren\\u2019t around. fight for them. pray with them. show up.\\nhow are you showing up with yourself? your presence needs to be fed by everything around you.\\nfeed your thoughts with solving problems and dilemmas. read books that make you look at life differently. try a new hobby. switch up your daily routine.\\nfeed your senses of sound with something other than the music you listen to. degrading and explicit music is never good to listen to on a consistent basis. turn on something that speaks to your soul. something that attaches you to a different emotion. play something with no lyrics. & just listen..\\nfeed your eyesight with something other than social media. instead of searching for funny memes or an attractive stranger, go to a local opening event. get outside and look for new scenery. once you\\u2019re there, pay attention to the endless horizon in front of you, and not on snapchatting where you are.\\nfeed your body with things that will allow you to enjoy your life. eat well. lift. hike. grab your friends and do a quick yoga session. rest. exfoliate. throw a face & hair mask on. you are only given one body. take good care of it.\\nfeed your spirit by strengthening your faith. allow christ into your heart, and watch your life change right before your eyes. get your daily dose of him. keep him your focal point, and put your faith to the test with every aspect of your life.\\nfeed your life by applying yourself properly in every situation. exercise your gifts. practice what you preach. set goals, and go get them. don\\u2019t limit yourself to your preconceived notions or opinions from the voices around you.\\njust as one should speak with purpose, presence is purpose as well. determine what presence you expect the people in your corner to have, then pay close attention to how they show up. then, ask yourself.. where are you? what are you doing?\\n\\u201ca candle loses nothing by lighting another. if you want to light others, light yourself.\\u201d -james keller/thomas monson\\nphoto: em\\u00edlio j\\u00edmenez\\n-keilani afalava\\none thought on \\u201cpresence is purpose\\u201d\\ni really enjoy and am blessed by your writing. i was reading this earlier today and i had a couple questions for you if that\\u2019s alright. you alluded to the importance of the \\u201cwhere\\u201d, \\u201cwhat\\u201d, and \\u201cwho\\u201d regarding our purpose and who we allow to be a part of our lives, but what do you think about the \\u201cwhy\\u201d? isn\\u2019t our why the driving force behind everything we do? it motivates the other w\\u2019s. so i wanted to ask you what your why is, and not just pertaining to this specific post. but why is it that you do what you do? what do you believe your purpose is here on earth and in this life? also, happy birthday, hope that that you\\u2019ve been blessed.\",\n          \"kromlech\\u2019s apothecary and engineer speed out on breacher bikes\\ndecember 6, 2017 by dracs\\nkromlech have released two new bundles, sending out their legionary apothecary and engineer on hefty breacher bikes.\\nboth the engineer and the apothecary play vital battlefield roles. with these bikes, they are made more mobile and able to quickly arrive wherever they are needed the most.\\nthe protection offered by the heavily armoured breacher bikes might be even more useful than their added mobility. these vehicles match their name, in that they look as though they could smash through anything. just as well, as i doubt they'd be able to turn quickly to avoid it.\\nwould you use these character models for your army? do you think bikes give a good tactical advantage, or would you prefer to spend your points elsewhere?\\n\\\"these vehicles... look as though they could smash through anything.\\\"\\nvery nice.\"\n        ],\n        \"semantic_type\": \"\",\n        \"description\": \"\"\n      }\n    },\n    {\n      \"column\": \"question\",\n      \"properties\": {\n        \"dtype\": \"string\",\n        \"num_unique_values\": 11983,\n        \"samples\": [\n          \"who is the author of \\\"pittsburgh steelers: the complete illustrated history\\\"?\",\n          \"what are the key ingredients for the perfect roast chicken with salsa verde recipe?\",\n          \"what is the main lesson kishore mahbubani highlights in his article about small states?\"\n        ],\n        \"semantic_type\": \"\",\n        \"description\": \"\"\n      }\n    },\n    {\n      \"column\": \"answer\",\n      \"properties\": {\n        \"dtype\": \"string\",\n        \"num_unique_values\": 11997,\n        \"samples\": [\n          \"the annual meeting of the ceramic society of japan will be held at the ohkubo campus of waseda university in tokyo, japan, on march 21-23, 2001.\",\n          \"the author suggests feeding your thoughts with problem-solving and reading books that make you look at life differently, feeding your senses of sound with different types of music, feeding your eyesight with new scenery instead of social media, feeding your body with healthy food and exercise, feeding your spirit by strengthening your faith, and feeding your life by applying yourself properly in every situation.\",\n          \"the breacher bikes make the legionary apothecary and engineer more mobile and able to quickly arrive wherever they are needed the most on the battlefield. additionally, the heavily armoured breacher bikes provide protection and have the ability to smash through anything.\"\n        ],\n        \"semantic_type\": \"\",\n        \"description\": \"\"\n      }\n    }\n  ]\n}"
            }
          },
          "metadata": {},
          "execution_count": 9
        }
      ]
    },
    {
      "cell_type": "code",
      "source": [
        "# удаление/замена на пробел знака перевода строки в колонке 'context'\n",
        "df['context'] = df['context'].apply(lambda x: x.replace('\\n', ' '))"
      ],
      "metadata": {
        "id": "0jvyfCkx2a0B"
      },
      "execution_count": 10,
      "outputs": []
    },
    {
      "cell_type": "code",
      "execution_count": 11,
      "metadata": {
        "colab": {
          "base_uri": "https://localhost:8080/",
          "height": 0
        },
        "id": "XQKfLmF9a7ei",
        "outputId": "9b8c2c4d-6010-4a70-f30d-e54e53244770"
      },
      "outputs": [
        {
          "output_type": "execute_result",
          "data": {
            "text/plain": [
              "Empty DataFrame\n",
              "Columns: [context, question, answer]\n",
              "Index: []"
            ],
            "text/html": [
              "\n",
              "  <div id=\"df-f1c1c82d-033c-4aae-9022-068bf0722387\" class=\"colab-df-container\">\n",
              "    <div>\n",
              "<style scoped>\n",
              "    .dataframe tbody tr th:only-of-type {\n",
              "        vertical-align: middle;\n",
              "    }\n",
              "\n",
              "    .dataframe tbody tr th {\n",
              "        vertical-align: top;\n",
              "    }\n",
              "\n",
              "    .dataframe thead th {\n",
              "        text-align: right;\n",
              "    }\n",
              "</style>\n",
              "<table border=\"1\" class=\"dataframe\">\n",
              "  <thead>\n",
              "    <tr style=\"text-align: right;\">\n",
              "      <th></th>\n",
              "      <th>context</th>\n",
              "      <th>question</th>\n",
              "      <th>answer</th>\n",
              "    </tr>\n",
              "  </thead>\n",
              "  <tbody>\n",
              "  </tbody>\n",
              "</table>\n",
              "</div>\n",
              "    <div class=\"colab-df-buttons\">\n",
              "\n",
              "  <div class=\"colab-df-container\">\n",
              "    <button class=\"colab-df-convert\" onclick=\"convertToInteractive('df-f1c1c82d-033c-4aae-9022-068bf0722387')\"\n",
              "            title=\"Convert this dataframe to an interactive table.\"\n",
              "            style=\"display:none;\">\n",
              "\n",
              "  <svg xmlns=\"http://www.w3.org/2000/svg\" height=\"24px\" viewBox=\"0 -960 960 960\">\n",
              "    <path d=\"M120-120v-720h720v720H120Zm60-500h600v-160H180v160Zm220 220h160v-160H400v160Zm0 220h160v-160H400v160ZM180-400h160v-160H180v160Zm440 0h160v-160H620v160ZM180-180h160v-160H180v160Zm440 0h160v-160H620v160Z\"/>\n",
              "  </svg>\n",
              "    </button>\n",
              "\n",
              "  <style>\n",
              "    .colab-df-container {\n",
              "      display:flex;\n",
              "      gap: 12px;\n",
              "    }\n",
              "\n",
              "    .colab-df-convert {\n",
              "      background-color: #E8F0FE;\n",
              "      border: none;\n",
              "      border-radius: 50%;\n",
              "      cursor: pointer;\n",
              "      display: none;\n",
              "      fill: #1967D2;\n",
              "      height: 32px;\n",
              "      padding: 0 0 0 0;\n",
              "      width: 32px;\n",
              "    }\n",
              "\n",
              "    .colab-df-convert:hover {\n",
              "      background-color: #E2EBFA;\n",
              "      box-shadow: 0px 1px 2px rgba(60, 64, 67, 0.3), 0px 1px 3px 1px rgba(60, 64, 67, 0.15);\n",
              "      fill: #174EA6;\n",
              "    }\n",
              "\n",
              "    .colab-df-buttons div {\n",
              "      margin-bottom: 4px;\n",
              "    }\n",
              "\n",
              "    [theme=dark] .colab-df-convert {\n",
              "      background-color: #3B4455;\n",
              "      fill: #D2E3FC;\n",
              "    }\n",
              "\n",
              "    [theme=dark] .colab-df-convert:hover {\n",
              "      background-color: #434B5C;\n",
              "      box-shadow: 0px 1px 3px 1px rgba(0, 0, 0, 0.15);\n",
              "      filter: drop-shadow(0px 1px 2px rgba(0, 0, 0, 0.3));\n",
              "      fill: #FFFFFF;\n",
              "    }\n",
              "  </style>\n",
              "\n",
              "    <script>\n",
              "      const buttonEl =\n",
              "        document.querySelector('#df-f1c1c82d-033c-4aae-9022-068bf0722387 button.colab-df-convert');\n",
              "      buttonEl.style.display =\n",
              "        google.colab.kernel.accessAllowed ? 'block' : 'none';\n",
              "\n",
              "      async function convertToInteractive(key) {\n",
              "        const element = document.querySelector('#df-f1c1c82d-033c-4aae-9022-068bf0722387');\n",
              "        const dataTable =\n",
              "          await google.colab.kernel.invokeFunction('convertToInteractive',\n",
              "                                                    [key], {});\n",
              "        if (!dataTable) return;\n",
              "\n",
              "        const docLinkHtml = 'Like what you see? Visit the ' +\n",
              "          '<a target=\"_blank\" href=https://colab.research.google.com/notebooks/data_table.ipynb>data table notebook</a>'\n",
              "          + ' to learn more about interactive tables.';\n",
              "        element.innerHTML = '';\n",
              "        dataTable['output_type'] = 'display_data';\n",
              "        await google.colab.output.renderOutput(dataTable, element);\n",
              "        const docLink = document.createElement('div');\n",
              "        docLink.innerHTML = docLinkHtml;\n",
              "        element.appendChild(docLink);\n",
              "      }\n",
              "    </script>\n",
              "  </div>\n",
              "\n",
              "    </div>\n",
              "  </div>\n"
            ],
            "application/vnd.google.colaboratory.intrinsic+json": {
              "type": "dataframe",
              "repr_error": "Out of range float values are not JSON compliant: nan"
            }
          },
          "metadata": {},
          "execution_count": 11
        }
      ],
      "source": [
        "# проверка на полные дубликаты\n",
        "df[df.duplicated()]"
      ]
    },
    {
      "cell_type": "code",
      "execution_count": 12,
      "metadata": {
        "colab": {
          "base_uri": "https://localhost:8080/",
          "height": 0
        },
        "id": "B5ZvN1YibASh",
        "outputId": "a7fa296e-f8a3-4cb9-d015-f0a5511e1dfd"
      },
      "outputs": [
        {
          "output_type": "execute_result",
          "data": {
            "text/plain": [
              "Empty DataFrame\n",
              "Columns: [context, question, answer]\n",
              "Index: []"
            ],
            "text/html": [
              "\n",
              "  <div id=\"df-4aad1ab7-7f11-465f-a152-6f68ae1ec233\" class=\"colab-df-container\">\n",
              "    <div>\n",
              "<style scoped>\n",
              "    .dataframe tbody tr th:only-of-type {\n",
              "        vertical-align: middle;\n",
              "    }\n",
              "\n",
              "    .dataframe tbody tr th {\n",
              "        vertical-align: top;\n",
              "    }\n",
              "\n",
              "    .dataframe thead th {\n",
              "        text-align: right;\n",
              "    }\n",
              "</style>\n",
              "<table border=\"1\" class=\"dataframe\">\n",
              "  <thead>\n",
              "    <tr style=\"text-align: right;\">\n",
              "      <th></th>\n",
              "      <th>context</th>\n",
              "      <th>question</th>\n",
              "      <th>answer</th>\n",
              "    </tr>\n",
              "  </thead>\n",
              "  <tbody>\n",
              "  </tbody>\n",
              "</table>\n",
              "</div>\n",
              "    <div class=\"colab-df-buttons\">\n",
              "\n",
              "  <div class=\"colab-df-container\">\n",
              "    <button class=\"colab-df-convert\" onclick=\"convertToInteractive('df-4aad1ab7-7f11-465f-a152-6f68ae1ec233')\"\n",
              "            title=\"Convert this dataframe to an interactive table.\"\n",
              "            style=\"display:none;\">\n",
              "\n",
              "  <svg xmlns=\"http://www.w3.org/2000/svg\" height=\"24px\" viewBox=\"0 -960 960 960\">\n",
              "    <path d=\"M120-120v-720h720v720H120Zm60-500h600v-160H180v160Zm220 220h160v-160H400v160Zm0 220h160v-160H400v160ZM180-400h160v-160H180v160Zm440 0h160v-160H620v160ZM180-180h160v-160H180v160Zm440 0h160v-160H620v160Z\"/>\n",
              "  </svg>\n",
              "    </button>\n",
              "\n",
              "  <style>\n",
              "    .colab-df-container {\n",
              "      display:flex;\n",
              "      gap: 12px;\n",
              "    }\n",
              "\n",
              "    .colab-df-convert {\n",
              "      background-color: #E8F0FE;\n",
              "      border: none;\n",
              "      border-radius: 50%;\n",
              "      cursor: pointer;\n",
              "      display: none;\n",
              "      fill: #1967D2;\n",
              "      height: 32px;\n",
              "      padding: 0 0 0 0;\n",
              "      width: 32px;\n",
              "    }\n",
              "\n",
              "    .colab-df-convert:hover {\n",
              "      background-color: #E2EBFA;\n",
              "      box-shadow: 0px 1px 2px rgba(60, 64, 67, 0.3), 0px 1px 3px 1px rgba(60, 64, 67, 0.15);\n",
              "      fill: #174EA6;\n",
              "    }\n",
              "\n",
              "    .colab-df-buttons div {\n",
              "      margin-bottom: 4px;\n",
              "    }\n",
              "\n",
              "    [theme=dark] .colab-df-convert {\n",
              "      background-color: #3B4455;\n",
              "      fill: #D2E3FC;\n",
              "    }\n",
              "\n",
              "    [theme=dark] .colab-df-convert:hover {\n",
              "      background-color: #434B5C;\n",
              "      box-shadow: 0px 1px 3px 1px rgba(0, 0, 0, 0.15);\n",
              "      filter: drop-shadow(0px 1px 2px rgba(0, 0, 0, 0.3));\n",
              "      fill: #FFFFFF;\n",
              "    }\n",
              "  </style>\n",
              "\n",
              "    <script>\n",
              "      const buttonEl =\n",
              "        document.querySelector('#df-4aad1ab7-7f11-465f-a152-6f68ae1ec233 button.colab-df-convert');\n",
              "      buttonEl.style.display =\n",
              "        google.colab.kernel.accessAllowed ? 'block' : 'none';\n",
              "\n",
              "      async function convertToInteractive(key) {\n",
              "        const element = document.querySelector('#df-4aad1ab7-7f11-465f-a152-6f68ae1ec233');\n",
              "        const dataTable =\n",
              "          await google.colab.kernel.invokeFunction('convertToInteractive',\n",
              "                                                    [key], {});\n",
              "        if (!dataTable) return;\n",
              "\n",
              "        const docLinkHtml = 'Like what you see? Visit the ' +\n",
              "          '<a target=\"_blank\" href=https://colab.research.google.com/notebooks/data_table.ipynb>data table notebook</a>'\n",
              "          + ' to learn more about interactive tables.';\n",
              "        element.innerHTML = '';\n",
              "        dataTable['output_type'] = 'display_data';\n",
              "        await google.colab.output.renderOutput(dataTable, element);\n",
              "        const docLink = document.createElement('div');\n",
              "        docLink.innerHTML = docLinkHtml;\n",
              "        element.appendChild(docLink);\n",
              "      }\n",
              "    </script>\n",
              "  </div>\n",
              "\n",
              "    </div>\n",
              "  </div>\n"
            ],
            "application/vnd.google.colaboratory.intrinsic+json": {
              "type": "dataframe",
              "repr_error": "Out of range float values are not JSON compliant: nan"
            }
          },
          "metadata": {},
          "execution_count": 12
        }
      ],
      "source": [
        "# проверка на дубликаты в колонке context\n",
        "df[df.duplicated(subset=['context'])]"
      ]
    },
    {
      "cell_type": "code",
      "source": [
        "# проверка на дубликаты в колонке answer\n",
        "df[df.duplicated(subset=['answer'])]"
      ],
      "metadata": {
        "colab": {
          "base_uri": "https://localhost:8080/",
          "height": 0
        },
        "id": "qlxKvgRv13T1",
        "outputId": "fa9c50a1-0c1b-4585-825a-1f20838488ed"
      },
      "execution_count": 13,
      "outputs": [
        {
          "output_type": "execute_result",
          "data": {
            "text/plain": [
              "Empty DataFrame\n",
              "Columns: [context, question, answer]\n",
              "Index: []"
            ],
            "text/html": [
              "\n",
              "  <div id=\"df-4660f436-e965-4ddd-9bd8-5501bf49dbe8\" class=\"colab-df-container\">\n",
              "    <div>\n",
              "<style scoped>\n",
              "    .dataframe tbody tr th:only-of-type {\n",
              "        vertical-align: middle;\n",
              "    }\n",
              "\n",
              "    .dataframe tbody tr th {\n",
              "        vertical-align: top;\n",
              "    }\n",
              "\n",
              "    .dataframe thead th {\n",
              "        text-align: right;\n",
              "    }\n",
              "</style>\n",
              "<table border=\"1\" class=\"dataframe\">\n",
              "  <thead>\n",
              "    <tr style=\"text-align: right;\">\n",
              "      <th></th>\n",
              "      <th>context</th>\n",
              "      <th>question</th>\n",
              "      <th>answer</th>\n",
              "    </tr>\n",
              "  </thead>\n",
              "  <tbody>\n",
              "  </tbody>\n",
              "</table>\n",
              "</div>\n",
              "    <div class=\"colab-df-buttons\">\n",
              "\n",
              "  <div class=\"colab-df-container\">\n",
              "    <button class=\"colab-df-convert\" onclick=\"convertToInteractive('df-4660f436-e965-4ddd-9bd8-5501bf49dbe8')\"\n",
              "            title=\"Convert this dataframe to an interactive table.\"\n",
              "            style=\"display:none;\">\n",
              "\n",
              "  <svg xmlns=\"http://www.w3.org/2000/svg\" height=\"24px\" viewBox=\"0 -960 960 960\">\n",
              "    <path d=\"M120-120v-720h720v720H120Zm60-500h600v-160H180v160Zm220 220h160v-160H400v160Zm0 220h160v-160H400v160ZM180-400h160v-160H180v160Zm440 0h160v-160H620v160ZM180-180h160v-160H180v160Zm440 0h160v-160H620v160Z\"/>\n",
              "  </svg>\n",
              "    </button>\n",
              "\n",
              "  <style>\n",
              "    .colab-df-container {\n",
              "      display:flex;\n",
              "      gap: 12px;\n",
              "    }\n",
              "\n",
              "    .colab-df-convert {\n",
              "      background-color: #E8F0FE;\n",
              "      border: none;\n",
              "      border-radius: 50%;\n",
              "      cursor: pointer;\n",
              "      display: none;\n",
              "      fill: #1967D2;\n",
              "      height: 32px;\n",
              "      padding: 0 0 0 0;\n",
              "      width: 32px;\n",
              "    }\n",
              "\n",
              "    .colab-df-convert:hover {\n",
              "      background-color: #E2EBFA;\n",
              "      box-shadow: 0px 1px 2px rgba(60, 64, 67, 0.3), 0px 1px 3px 1px rgba(60, 64, 67, 0.15);\n",
              "      fill: #174EA6;\n",
              "    }\n",
              "\n",
              "    .colab-df-buttons div {\n",
              "      margin-bottom: 4px;\n",
              "    }\n",
              "\n",
              "    [theme=dark] .colab-df-convert {\n",
              "      background-color: #3B4455;\n",
              "      fill: #D2E3FC;\n",
              "    }\n",
              "\n",
              "    [theme=dark] .colab-df-convert:hover {\n",
              "      background-color: #434B5C;\n",
              "      box-shadow: 0px 1px 3px 1px rgba(0, 0, 0, 0.15);\n",
              "      filter: drop-shadow(0px 1px 2px rgba(0, 0, 0, 0.3));\n",
              "      fill: #FFFFFF;\n",
              "    }\n",
              "  </style>\n",
              "\n",
              "    <script>\n",
              "      const buttonEl =\n",
              "        document.querySelector('#df-4660f436-e965-4ddd-9bd8-5501bf49dbe8 button.colab-df-convert');\n",
              "      buttonEl.style.display =\n",
              "        google.colab.kernel.accessAllowed ? 'block' : 'none';\n",
              "\n",
              "      async function convertToInteractive(key) {\n",
              "        const element = document.querySelector('#df-4660f436-e965-4ddd-9bd8-5501bf49dbe8');\n",
              "        const dataTable =\n",
              "          await google.colab.kernel.invokeFunction('convertToInteractive',\n",
              "                                                    [key], {});\n",
              "        if (!dataTable) return;\n",
              "\n",
              "        const docLinkHtml = 'Like what you see? Visit the ' +\n",
              "          '<a target=\"_blank\" href=https://colab.research.google.com/notebooks/data_table.ipynb>data table notebook</a>'\n",
              "          + ' to learn more about interactive tables.';\n",
              "        element.innerHTML = '';\n",
              "        dataTable['output_type'] = 'display_data';\n",
              "        await google.colab.output.renderOutput(dataTable, element);\n",
              "        const docLink = document.createElement('div');\n",
              "        docLink.innerHTML = docLinkHtml;\n",
              "        element.appendChild(docLink);\n",
              "      }\n",
              "    </script>\n",
              "  </div>\n",
              "\n",
              "    </div>\n",
              "  </div>\n"
            ],
            "application/vnd.google.colaboratory.intrinsic+json": {
              "type": "dataframe",
              "repr_error": "Out of range float values are not JSON compliant: nan"
            }
          },
          "metadata": {},
          "execution_count": 13
        }
      ]
    },
    {
      "cell_type": "code",
      "execution_count": 14,
      "metadata": {
        "colab": {
          "base_uri": "https://localhost:8080/",
          "height": 0
        },
        "id": "Gn-tLtjpbH7c",
        "outputId": "01a793b0-a308-489a-e25d-67ac441aaf77"
      },
      "outputs": [
        {
          "output_type": "execute_result",
          "data": {
            "text/plain": [
              "                                                 context  \\\n",
              "9991   background – nectar mattress review – is this ...   \n",
              "6225   background – nectar mattress review – is this ...   \n",
              "9259   explore concrete pump operator careers and fin...   \n",
              "9070   lead teacher jobs teacher - early childhoodnew...   \n",
              "11587  i'm sorry the pictures are so dark.....\"someon...   \n",
              "2599   description if i eat flour i prefer to eat rye...   \n",
              "10753  hose hook up for jet skichameleon dating sites...   \n",
              "8322   \"they are both comparatively late age, on n'a ...   \n",
              "11483  order by popularity | order by alphabet like s...   \n",
              "6217   the synthetic fragrant compounds based on 2-te...   \n",
              "3245   surprisingly, it took me a long time to find t...   \n",
              "6156   view diary: family chooses prayer over medicin...   \n",
              "2392    it's this!!! honestly one of the greatest fig...   \n",
              "9966   published at monday, march 18th, 2019 - 6:35 p...   \n",
              "4059   create new account | my profile | my account |...   \n",
              "1639   create new account | my profile | my account |...   \n",
              "5806   credit cards with 0 interest and no transfer f...   \n",
              "6465   remembering the dogs of the titanic april 15th...   \n",
              "10333  armour thyroid and hashimotos no humoured squa...   \n",
              "131    virginia asthma and allergy way alteration do ...   \n",
              "5707   << heart angel bell ornament from $11.95 cross...   \n",
              "1813   << purple paw swirl lightweight hooded tunic f...   \n",
              "\n",
              "                                                question  \\\n",
              "9991   what are some of the features that set the nec...   \n",
              "6225   what are some of the features that set the nec...   \n",
              "9259   what are some of the job roles mentioned in th...   \n",
              "9070   what are some of the job roles mentioned in th...   \n",
              "11587  what are the ingredients needed for the recipe...   \n",
              "2599   what are the ingredients needed for the recipe...   \n",
              "10753                         what is the context about?   \n",
              "8322                          what is the context about?   \n",
              "11483                         what is the context about?   \n",
              "6217                          what is the context about?   \n",
              "3245                          what is the context about?   \n",
              "6156                          what is the context about?   \n",
              "2392               what is the context discussing about?   \n",
              "9966               what is the context discussing about?   \n",
              "4059          what is the date mentioned in the context?   \n",
              "1639          what is the date mentioned in the context?   \n",
              "5806    what is the main topic discussed in the context?   \n",
              "6465    what is the main topic discussed in the context?   \n",
              "10333   what is the main topic discussed in the context?   \n",
              "131     what is the main topic discussed in the context?   \n",
              "5707   what is the price range of the items listed in...   \n",
              "1813   what is the price range of the items listed in...   \n",
              "\n",
              "                                                  answer  \n",
              "9991   some of the features that set the nectar mattr...  \n",
              "6225   the nectar mattress is a reasonably priced foa...  \n",
              "9259   some of the job roles mentioned in the context...  \n",
              "9070   some of the job roles mentioned in the context...  \n",
              "11587  the ingredients needed for the recipe are .5 c...  \n",
              "2599   the ingredients needed for the recipe are rye ...  \n",
              "10753  the context is about various topics, including...  \n",
              "8322   the context is a collection of various sentenc...  \n",
              "11483  the context is about a list of titles or phras...  \n",
              "6217   the context is about synthetic fragrant compou...  \n",
              "3245   the context is about sorting 2d associative ar...  \n",
              "6156   the context is about a family choosing prayer ...  \n",
              "2392   the context is discussing about the favorite n...  \n",
              "9966   the context is discussing about citroen c5 fus...  \n",
              "4059   the date mentioned in the context is sep 29, 2...  \n",
              "1639   the date mentioned in the context is tue jan 1...  \n",
              "5806   the main topic discussed in the context is cre...  \n",
              "6465   the main topic discussed in the context is rem...  \n",
              "10333  the main topic discussed in the context is arm...  \n",
              "131                          virginia asthma and allergy  \n",
              "5707   the price range of the items listed in the con...  \n",
              "1813   the price range of the items listed in the con...  "
            ],
            "text/html": [
              "\n",
              "  <div id=\"df-f2e28886-5a65-4f48-976e-7e07a4afabe3\" class=\"colab-df-container\">\n",
              "    <div>\n",
              "<style scoped>\n",
              "    .dataframe tbody tr th:only-of-type {\n",
              "        vertical-align: middle;\n",
              "    }\n",
              "\n",
              "    .dataframe tbody tr th {\n",
              "        vertical-align: top;\n",
              "    }\n",
              "\n",
              "    .dataframe thead th {\n",
              "        text-align: right;\n",
              "    }\n",
              "</style>\n",
              "<table border=\"1\" class=\"dataframe\">\n",
              "  <thead>\n",
              "    <tr style=\"text-align: right;\">\n",
              "      <th></th>\n",
              "      <th>context</th>\n",
              "      <th>question</th>\n",
              "      <th>answer</th>\n",
              "    </tr>\n",
              "  </thead>\n",
              "  <tbody>\n",
              "    <tr>\n",
              "      <th>9991</th>\n",
              "      <td>background – nectar mattress review – is this ...</td>\n",
              "      <td>what are some of the features that set the nec...</td>\n",
              "      <td>some of the features that set the nectar mattr...</td>\n",
              "    </tr>\n",
              "    <tr>\n",
              "      <th>6225</th>\n",
              "      <td>background – nectar mattress review – is this ...</td>\n",
              "      <td>what are some of the features that set the nec...</td>\n",
              "      <td>the nectar mattress is a reasonably priced foa...</td>\n",
              "    </tr>\n",
              "    <tr>\n",
              "      <th>9259</th>\n",
              "      <td>explore concrete pump operator careers and fin...</td>\n",
              "      <td>what are some of the job roles mentioned in th...</td>\n",
              "      <td>some of the job roles mentioned in the context...</td>\n",
              "    </tr>\n",
              "    <tr>\n",
              "      <th>9070</th>\n",
              "      <td>lead teacher jobs teacher - early childhoodnew...</td>\n",
              "      <td>what are some of the job roles mentioned in th...</td>\n",
              "      <td>some of the job roles mentioned in the context...</td>\n",
              "    </tr>\n",
              "    <tr>\n",
              "      <th>11587</th>\n",
              "      <td>i'm sorry the pictures are so dark.....\"someon...</td>\n",
              "      <td>what are the ingredients needed for the recipe...</td>\n",
              "      <td>the ingredients needed for the recipe are .5 c...</td>\n",
              "    </tr>\n",
              "    <tr>\n",
              "      <th>2599</th>\n",
              "      <td>description if i eat flour i prefer to eat rye...</td>\n",
              "      <td>what are the ingredients needed for the recipe...</td>\n",
              "      <td>the ingredients needed for the recipe are rye ...</td>\n",
              "    </tr>\n",
              "    <tr>\n",
              "      <th>10753</th>\n",
              "      <td>hose hook up for jet skichameleon dating sites...</td>\n",
              "      <td>what is the context about?</td>\n",
              "      <td>the context is about various topics, including...</td>\n",
              "    </tr>\n",
              "    <tr>\n",
              "      <th>8322</th>\n",
              "      <td>\"they are both comparatively late age, on n'a ...</td>\n",
              "      <td>what is the context about?</td>\n",
              "      <td>the context is a collection of various sentenc...</td>\n",
              "    </tr>\n",
              "    <tr>\n",
              "      <th>11483</th>\n",
              "      <td>order by popularity | order by alphabet like s...</td>\n",
              "      <td>what is the context about?</td>\n",
              "      <td>the context is about a list of titles or phras...</td>\n",
              "    </tr>\n",
              "    <tr>\n",
              "      <th>6217</th>\n",
              "      <td>the synthetic fragrant compounds based on 2-te...</td>\n",
              "      <td>what is the context about?</td>\n",
              "      <td>the context is about synthetic fragrant compou...</td>\n",
              "    </tr>\n",
              "    <tr>\n",
              "      <th>3245</th>\n",
              "      <td>surprisingly, it took me a long time to find t...</td>\n",
              "      <td>what is the context about?</td>\n",
              "      <td>the context is about sorting 2d associative ar...</td>\n",
              "    </tr>\n",
              "    <tr>\n",
              "      <th>6156</th>\n",
              "      <td>view diary: family chooses prayer over medicin...</td>\n",
              "      <td>what is the context about?</td>\n",
              "      <td>the context is about a family choosing prayer ...</td>\n",
              "    </tr>\n",
              "    <tr>\n",
              "      <th>2392</th>\n",
              "      <td>it's this!!! honestly one of the greatest fig...</td>\n",
              "      <td>what is the context discussing about?</td>\n",
              "      <td>the context is discussing about the favorite n...</td>\n",
              "    </tr>\n",
              "    <tr>\n",
              "      <th>9966</th>\n",
              "      <td>published at monday, march 18th, 2019 - 6:35 p...</td>\n",
              "      <td>what is the context discussing about?</td>\n",
              "      <td>the context is discussing about citroen c5 fus...</td>\n",
              "    </tr>\n",
              "    <tr>\n",
              "      <th>4059</th>\n",
              "      <td>create new account | my profile | my account |...</td>\n",
              "      <td>what is the date mentioned in the context?</td>\n",
              "      <td>the date mentioned in the context is sep 29, 2...</td>\n",
              "    </tr>\n",
              "    <tr>\n",
              "      <th>1639</th>\n",
              "      <td>create new account | my profile | my account |...</td>\n",
              "      <td>what is the date mentioned in the context?</td>\n",
              "      <td>the date mentioned in the context is tue jan 1...</td>\n",
              "    </tr>\n",
              "    <tr>\n",
              "      <th>5806</th>\n",
              "      <td>credit cards with 0 interest and no transfer f...</td>\n",
              "      <td>what is the main topic discussed in the context?</td>\n",
              "      <td>the main topic discussed in the context is cre...</td>\n",
              "    </tr>\n",
              "    <tr>\n",
              "      <th>6465</th>\n",
              "      <td>remembering the dogs of the titanic april 15th...</td>\n",
              "      <td>what is the main topic discussed in the context?</td>\n",
              "      <td>the main topic discussed in the context is rem...</td>\n",
              "    </tr>\n",
              "    <tr>\n",
              "      <th>10333</th>\n",
              "      <td>armour thyroid and hashimotos no humoured squa...</td>\n",
              "      <td>what is the main topic discussed in the context?</td>\n",
              "      <td>the main topic discussed in the context is arm...</td>\n",
              "    </tr>\n",
              "    <tr>\n",
              "      <th>131</th>\n",
              "      <td>virginia asthma and allergy way alteration do ...</td>\n",
              "      <td>what is the main topic discussed in the context?</td>\n",
              "      <td>virginia asthma and allergy</td>\n",
              "    </tr>\n",
              "    <tr>\n",
              "      <th>5707</th>\n",
              "      <td>&lt;&lt; heart angel bell ornament from $11.95 cross...</td>\n",
              "      <td>what is the price range of the items listed in...</td>\n",
              "      <td>the price range of the items listed in the con...</td>\n",
              "    </tr>\n",
              "    <tr>\n",
              "      <th>1813</th>\n",
              "      <td>&lt;&lt; purple paw swirl lightweight hooded tunic f...</td>\n",
              "      <td>what is the price range of the items listed in...</td>\n",
              "      <td>the price range of the items listed in the con...</td>\n",
              "    </tr>\n",
              "  </tbody>\n",
              "</table>\n",
              "</div>\n",
              "    <div class=\"colab-df-buttons\">\n",
              "\n",
              "  <div class=\"colab-df-container\">\n",
              "    <button class=\"colab-df-convert\" onclick=\"convertToInteractive('df-f2e28886-5a65-4f48-976e-7e07a4afabe3')\"\n",
              "            title=\"Convert this dataframe to an interactive table.\"\n",
              "            style=\"display:none;\">\n",
              "\n",
              "  <svg xmlns=\"http://www.w3.org/2000/svg\" height=\"24px\" viewBox=\"0 -960 960 960\">\n",
              "    <path d=\"M120-120v-720h720v720H120Zm60-500h600v-160H180v160Zm220 220h160v-160H400v160Zm0 220h160v-160H400v160ZM180-400h160v-160H180v160Zm440 0h160v-160H620v160ZM180-180h160v-160H180v160Zm440 0h160v-160H620v160Z\"/>\n",
              "  </svg>\n",
              "    </button>\n",
              "\n",
              "  <style>\n",
              "    .colab-df-container {\n",
              "      display:flex;\n",
              "      gap: 12px;\n",
              "    }\n",
              "\n",
              "    .colab-df-convert {\n",
              "      background-color: #E8F0FE;\n",
              "      border: none;\n",
              "      border-radius: 50%;\n",
              "      cursor: pointer;\n",
              "      display: none;\n",
              "      fill: #1967D2;\n",
              "      height: 32px;\n",
              "      padding: 0 0 0 0;\n",
              "      width: 32px;\n",
              "    }\n",
              "\n",
              "    .colab-df-convert:hover {\n",
              "      background-color: #E2EBFA;\n",
              "      box-shadow: 0px 1px 2px rgba(60, 64, 67, 0.3), 0px 1px 3px 1px rgba(60, 64, 67, 0.15);\n",
              "      fill: #174EA6;\n",
              "    }\n",
              "\n",
              "    .colab-df-buttons div {\n",
              "      margin-bottom: 4px;\n",
              "    }\n",
              "\n",
              "    [theme=dark] .colab-df-convert {\n",
              "      background-color: #3B4455;\n",
              "      fill: #D2E3FC;\n",
              "    }\n",
              "\n",
              "    [theme=dark] .colab-df-convert:hover {\n",
              "      background-color: #434B5C;\n",
              "      box-shadow: 0px 1px 3px 1px rgba(0, 0, 0, 0.15);\n",
              "      filter: drop-shadow(0px 1px 2px rgba(0, 0, 0, 0.3));\n",
              "      fill: #FFFFFF;\n",
              "    }\n",
              "  </style>\n",
              "\n",
              "    <script>\n",
              "      const buttonEl =\n",
              "        document.querySelector('#df-f2e28886-5a65-4f48-976e-7e07a4afabe3 button.colab-df-convert');\n",
              "      buttonEl.style.display =\n",
              "        google.colab.kernel.accessAllowed ? 'block' : 'none';\n",
              "\n",
              "      async function convertToInteractive(key) {\n",
              "        const element = document.querySelector('#df-f2e28886-5a65-4f48-976e-7e07a4afabe3');\n",
              "        const dataTable =\n",
              "          await google.colab.kernel.invokeFunction('convertToInteractive',\n",
              "                                                    [key], {});\n",
              "        if (!dataTable) return;\n",
              "\n",
              "        const docLinkHtml = 'Like what you see? Visit the ' +\n",
              "          '<a target=\"_blank\" href=https://colab.research.google.com/notebooks/data_table.ipynb>data table notebook</a>'\n",
              "          + ' to learn more about interactive tables.';\n",
              "        element.innerHTML = '';\n",
              "        dataTable['output_type'] = 'display_data';\n",
              "        await google.colab.output.renderOutput(dataTable, element);\n",
              "        const docLink = document.createElement('div');\n",
              "        docLink.innerHTML = docLinkHtml;\n",
              "        element.appendChild(docLink);\n",
              "      }\n",
              "    </script>\n",
              "  </div>\n",
              "\n",
              "\n",
              "<div id=\"df-c3b0b294-cfc2-4511-bec7-0e618463ab2f\">\n",
              "  <button class=\"colab-df-quickchart\" onclick=\"quickchart('df-c3b0b294-cfc2-4511-bec7-0e618463ab2f')\"\n",
              "            title=\"Suggest charts\"\n",
              "            style=\"display:none;\">\n",
              "\n",
              "<svg xmlns=\"http://www.w3.org/2000/svg\" height=\"24px\"viewBox=\"0 0 24 24\"\n",
              "     width=\"24px\">\n",
              "    <g>\n",
              "        <path d=\"M19 3H5c-1.1 0-2 .9-2 2v14c0 1.1.9 2 2 2h14c1.1 0 2-.9 2-2V5c0-1.1-.9-2-2-2zM9 17H7v-7h2v7zm4 0h-2V7h2v10zm4 0h-2v-4h2v4z\"/>\n",
              "    </g>\n",
              "</svg>\n",
              "  </button>\n",
              "\n",
              "<style>\n",
              "  .colab-df-quickchart {\n",
              "      --bg-color: #E8F0FE;\n",
              "      --fill-color: #1967D2;\n",
              "      --hover-bg-color: #E2EBFA;\n",
              "      --hover-fill-color: #174EA6;\n",
              "      --disabled-fill-color: #AAA;\n",
              "      --disabled-bg-color: #DDD;\n",
              "  }\n",
              "\n",
              "  [theme=dark] .colab-df-quickchart {\n",
              "      --bg-color: #3B4455;\n",
              "      --fill-color: #D2E3FC;\n",
              "      --hover-bg-color: #434B5C;\n",
              "      --hover-fill-color: #FFFFFF;\n",
              "      --disabled-bg-color: #3B4455;\n",
              "      --disabled-fill-color: #666;\n",
              "  }\n",
              "\n",
              "  .colab-df-quickchart {\n",
              "    background-color: var(--bg-color);\n",
              "    border: none;\n",
              "    border-radius: 50%;\n",
              "    cursor: pointer;\n",
              "    display: none;\n",
              "    fill: var(--fill-color);\n",
              "    height: 32px;\n",
              "    padding: 0;\n",
              "    width: 32px;\n",
              "  }\n",
              "\n",
              "  .colab-df-quickchart:hover {\n",
              "    background-color: var(--hover-bg-color);\n",
              "    box-shadow: 0 1px 2px rgba(60, 64, 67, 0.3), 0 1px 3px 1px rgba(60, 64, 67, 0.15);\n",
              "    fill: var(--button-hover-fill-color);\n",
              "  }\n",
              "\n",
              "  .colab-df-quickchart-complete:disabled,\n",
              "  .colab-df-quickchart-complete:disabled:hover {\n",
              "    background-color: var(--disabled-bg-color);\n",
              "    fill: var(--disabled-fill-color);\n",
              "    box-shadow: none;\n",
              "  }\n",
              "\n",
              "  .colab-df-spinner {\n",
              "    border: 2px solid var(--fill-color);\n",
              "    border-color: transparent;\n",
              "    border-bottom-color: var(--fill-color);\n",
              "    animation:\n",
              "      spin 1s steps(1) infinite;\n",
              "  }\n",
              "\n",
              "  @keyframes spin {\n",
              "    0% {\n",
              "      border-color: transparent;\n",
              "      border-bottom-color: var(--fill-color);\n",
              "      border-left-color: var(--fill-color);\n",
              "    }\n",
              "    20% {\n",
              "      border-color: transparent;\n",
              "      border-left-color: var(--fill-color);\n",
              "      border-top-color: var(--fill-color);\n",
              "    }\n",
              "    30% {\n",
              "      border-color: transparent;\n",
              "      border-left-color: var(--fill-color);\n",
              "      border-top-color: var(--fill-color);\n",
              "      border-right-color: var(--fill-color);\n",
              "    }\n",
              "    40% {\n",
              "      border-color: transparent;\n",
              "      border-right-color: var(--fill-color);\n",
              "      border-top-color: var(--fill-color);\n",
              "    }\n",
              "    60% {\n",
              "      border-color: transparent;\n",
              "      border-right-color: var(--fill-color);\n",
              "    }\n",
              "    80% {\n",
              "      border-color: transparent;\n",
              "      border-right-color: var(--fill-color);\n",
              "      border-bottom-color: var(--fill-color);\n",
              "    }\n",
              "    90% {\n",
              "      border-color: transparent;\n",
              "      border-bottom-color: var(--fill-color);\n",
              "    }\n",
              "  }\n",
              "</style>\n",
              "\n",
              "  <script>\n",
              "    async function quickchart(key) {\n",
              "      const quickchartButtonEl =\n",
              "        document.querySelector('#' + key + ' button');\n",
              "      quickchartButtonEl.disabled = true;  // To prevent multiple clicks.\n",
              "      quickchartButtonEl.classList.add('colab-df-spinner');\n",
              "      try {\n",
              "        const charts = await google.colab.kernel.invokeFunction(\n",
              "            'suggestCharts', [key], {});\n",
              "      } catch (error) {\n",
              "        console.error('Error during call to suggestCharts:', error);\n",
              "      }\n",
              "      quickchartButtonEl.classList.remove('colab-df-spinner');\n",
              "      quickchartButtonEl.classList.add('colab-df-quickchart-complete');\n",
              "    }\n",
              "    (() => {\n",
              "      let quickchartButtonEl =\n",
              "        document.querySelector('#df-c3b0b294-cfc2-4511-bec7-0e618463ab2f button');\n",
              "      quickchartButtonEl.style.display =\n",
              "        google.colab.kernel.accessAllowed ? 'block' : 'none';\n",
              "    })();\n",
              "  </script>\n",
              "</div>\n",
              "    </div>\n",
              "  </div>\n"
            ],
            "application/vnd.google.colaboratory.intrinsic+json": {
              "type": "dataframe",
              "summary": "{\n  \"name\": \"df[df\",\n  \"rows\": 22,\n  \"fields\": [\n    {\n      \"column\": \"context\",\n      \"properties\": {\n        \"dtype\": \"string\",\n        \"num_unique_values\": 22,\n        \"samples\": [\n          \"background \\u2013 nectar mattress review \\u2013 is this foam mattress really worth my money? review vono mattress have you been searching for a reasonably priced foam mattress having a lasting structure, great relaxation and one that is designed to suit a variety of sleeping needs and preferences? if yes, nectar mattress may be an superb choice for you. this foam mattress is cheap, lavish and loaded with attractive features that offer great value because of its cost. boasting absolutely secure. in any case, there are many things you will likely truly love about doing it. this nectar mattress review details a number of the remarkable things that place the foam mattress apart from other foam mattresses out there. review vono mattress construction (quality and materials ) for simpler transportation, the foam mattress comes in a bag with handles and so it is possible to transport it easily through the house to your own bedroom. nectar mattress works with almost all foundations ranging from slatted frames, adjustable foundations to box-springs. its cover is crafted from highly durable long-staple cotton. its bed bug resistant cloth promotes proper airflow and additionally enriches temperature regulation. its top cover is also removable and so you can wash it whenever you want to. the cover is not incorporating additional comfort. multiple layers this is among the things which evening. 2nd layer \\u2013 the 1.5-inch coating has a milder texture compared to the 1st layer. it\\u2019s designed to support the body\\u2019s weight. it also eases the transition from the mattress\\u2019 comfortable layers to its supportive base. the foundation layer \\u2013 that the 5.5-inch high density coating features support to the body in addition to making a durable and sturdy foundation for the mattress. firmness nectar mattress is one of the firmest foam mattresses and thus it\\u2019s acceptable for a variety of sleeping demands and tastes. its quilted covers are plush and soft, but provide an additional layer of support. the mattress combines together comfort with assistance, courtesy of its ultra-firm bottom layers. its firm yet comfy layers are slow reacting in comparison to those of foam mattresses available. overall, nectar mattress offers the ideal balance of stability and comfort. edge support edge service is vital especially if you will be sharing the mattress with someone else or your partner, and if you\\u2019ll use the whole surface of the mattress. the mattress is meticulously designed to give support from its center to the side. you may easily roll out of one border to another devoid of causing too much depression. nectar mattress provides exceptional edge support compared to other traditional foam mattresses out there. motion transport and sinkage the nectar mattress is especially designed to consume movement readily, thus eliminating any interruptions that are caused by your movements and sleep patterns throughout the evening. because of the compact foam feel, it means there\\u2019s no excessive bouncing using this foam mattress and thus there is low motion transfer. if you\\u2019d like something which will provide you a calm sleeping encounter, subsequently nectar mattress is finally a perfect fit for you. review vono mattress no stubborn smell while fresh and straight out of the box, the foam mattress has a powerful smell that can last for up to 2 days. however, the odor starts to dissipate following two weeks and there\\u2019s barely any noticeable odor after a week. again, it\\u2019s easy to eliminate the smell once the mattress is fresh. you only need to out it for 2 days before sleeping on it. regulated heating most foam mattresses are known to sleep somewhat hot. but the nectar mattress offers a controlled heating feature. its infused cover, coupled with its high gel memory foam helps regulate temperatures, thus keeping you comfortable and cool during the night. concerning heat regulation, the nectar mattress has the capability to regulate temperatures over any other foam mattresses presently on the market. affordable cost nectar mattress cost can vary between $500 to $900 depending on how big this nectar mattress you select, and if you decide on additional accessories or not. the foam mattress is fairly priced in comparison with other high-end foam mattresses that are sold at a higher cost. as such, nectar mattress boasts positive consumer ratings on cost and so it\\u2019s a superb choice for anybody looking for a reasonably priced foam mattress which can provide on comfort and durability. lifetime warranty nectar mattress is the first foam mattress to offer you a lifetime warranty, something which makes it an exceptionally sought-after foam mattress one of mattress buyers. the lifetime guarantee helps guarantee that the materials, durability and materials of the foam mattress indefinitely. best of all, it serves as a solemn proof that the manufacturer of money. the actuality that it\\u2019s built to accommodate different sleeping needs and preferences makes it an excellent option for anybody looking for a high-quality mattress. again, you can try it risk-free prior to making a buy, as a result of its 1-year trial duration. in other words, nectar mattress is truly an excellent option for anybody looking for an affordable foam mattress that is crafted with quality, comfort and durability in mind.\",\n          \"published at monday, march 18th, 2019 - 6:35 pm. citroen wiring diagram. by lynette d. matteson. thanks for visiting [blog]. most of us have tried on line for locating facts, guidelines, articles or other resource for their needs. exactly like you are. do you come here to get new fresh idea about citroen c5 fuse box wiring diagram? what number web sites have you read for obtaining more detail regarding citroen c5 fuse box wiring diagram? citroen c5 fuse box wiring diagram is one of raised niche right now. we realize it from google engine records like google adwords or google trends. in an effort to deliver useful advice to our followers, we have attempted to find the nearest relevance pic about citroen c5 fuse box wiring diagram. and here you can observe now, this image have already been taken from reputable resource. we feel this citroen c5 fuse box wiring diagram photo will give you certain extra point for your need and we hope you enjoy it. we know, we might have diverse view about this but at least weve tried our best. this picture has been submitted by our team. you could surf.\",\n          \"order by popularity | order by alphabet like sprewells on a wheelchairdefine learning disorderfired-side chattwo centsmosh for jesusit's a fine line between the monkey and the robota floater left with pleasure in the executive washroomdoublewhiskeycokenoiceopen and shutunemployedhe's a shithead (yeah, yeah)wrecktheplacefantasticone trick ponyd4=putting the f back in artlast communionfuzzy pink handcuffsour science is tightan american bannedfarts are jazz to assholesfuck you, ms. rochelletwin cities sinners, unitedsome where south of respectthanks for nothing part 2:the revengewho didn't kill bambishotgun confessionalq how many punks does it take to change a lightbulbhi-pro glowportrait of the artist as a fucking assholesuper models don't drink colt .45no.51 dick butkustotal fucking gone songsmells like o.k. sodasellthehousesellthecarsellthekidsforgetiti'mnevercomingbackforgetitfile under adult urban contemporaryi was born on a pirate ship (holdyourtongue)honey i shit the hot tubshiny things is goodhand made hard times handed backmaximum piss and vinegarholy shitshut your little trap inc.bitethecurbbitethecurbfolk songtwenty one said three times quicklylet them eat thomas painethe father, the son, and the homosexualsingle parentthe great american going out of busines salenew punk fashions for the spring formallabourissuesinthetoydepartmento.k.f.m.d.o.amusic is none of my businessj. harrisi coulda been a contenderinquiring minds should read a booksuper powers enable me to blend in with machinerysuckers intl. has gone publicsally maclennaneget your study hall outta my recessall rise for the rational anthemnoble stabbings!! related information for\"\n        ],\n        \"semantic_type\": \"\",\n        \"description\": \"\"\n      }\n    },\n    {\n      \"column\": \"question\",\n      \"properties\": {\n        \"dtype\": \"category\",\n        \"num_unique_values\": 8,\n        \"samples\": [\n          \"what are some of the job roles mentioned in the context?\",\n          \"what is the date mentioned in the context?\",\n          \"what are some of the features that set the nectar mattress apart from other foam mattresses?\"\n        ],\n        \"semantic_type\": \"\",\n        \"description\": \"\"\n      }\n    },\n    {\n      \"column\": \"answer\",\n      \"properties\": {\n        \"dtype\": \"string\",\n        \"num_unique_values\": 22,\n        \"samples\": [\n          \"some of the features that set the nectar mattress apart from other foam mattresses include its affordable price, lifetime warranty, regulated heating feature, low motion transfer, exceptional edge support, firmness suitable for a variety of sleeping needs and preferences, and its construction with multiple layers for support and comfort. it also comes with a removable top cover and is resistant to bed bugs.\",\n          \"the context is discussing about citroen c5 fuse box wiring diagram.\",\n          \"the context is about a list of titles or phrases, possibly song titles or book titles.\"\n        ],\n        \"semantic_type\": \"\",\n        \"description\": \"\"\n      }\n    }\n  ]\n}"
            }
          },
          "metadata": {},
          "execution_count": 14
        }
      ],
      "source": [
        "# проверка на дубликаты в колонке question\n",
        "df[df.duplicated(subset=['question'], keep=False)].sort_values('question')"
      ]
    },
    {
      "cell_type": "code",
      "source": [
        "# удаление найденных дубликатов по 'question'\n",
        "df.duplicated(subset=['question'], keep=False)\n",
        "df.drop_duplicates(subset = ['question'], keep = 'first', inplace = True)\n"
      ],
      "metadata": {
        "id": "rIHaTqVE2f1O"
      },
      "execution_count": 15,
      "outputs": []
    },
    {
      "cell_type": "code",
      "source": [
        "# в ходе экспериментов ниже с векторами были обнаружены две строки с другим языком\n",
        "df.drop(index=[7453, 10225], inplace=True)\n",
        "df.reset_index(drop=True, inplace=True) # обновление индексов"
      ],
      "metadata": {
        "id": "X-BTzygorZpD"
      },
      "execution_count": 16,
      "outputs": []
    },
    {
      "cell_type": "markdown",
      "source": [
        "## Word2Vec"
      ],
      "metadata": {
        "id": "Xy3P4acirBaj"
      }
    },
    {
      "cell_type": "markdown",
      "source": [
        "#### Функции"
      ],
      "metadata": {
        "id": "ggjoDiQUjaz6"
      }
    },
    {
      "cell_type": "markdown",
      "source": [
        "1. Функция для извлечения эмбеддинга из фразы/контекста - делаем усреднение (принимает фразу и модель, отдает вектор)\n",
        "2. Функция для вычисления косинусной близости и эвклидова расстояния контекстов и вопросов по датасету (принимает датафрейм, метод близости, модель и число топ, возвращает индекс наиболее близкого ответа).\n",
        "3. Функция, осуществляющая поиск брутфорсом (принимает вопрос, ищет по базе ответ)"
      ],
      "metadata": {
        "id": "bSPa-ygJj19V"
      }
    },
    {
      "cell_type": "code",
      "source": [
        "# функция для формирования эмбеддинга из фразы через среднее\n",
        "\n",
        "def get_phrase_embedding(phrase, model):\n",
        "    \"\"\"\n",
        "    конвертация фразы в вектор через усреднение\n",
        "    \"\"\"\n",
        "    vector = np.zeros([model.vector_size], dtype='float32')\n",
        "    phrase_tokenized = tokenizer.tokenize(phrase.lower())\n",
        "    phrase_vectors = [model[x] for x in phrase_tokenized if model.has_index_for(x)]\n",
        "\n",
        "    if len(phrase_vectors) != 0:\n",
        "        vector = np.mean(phrase_vectors, axis=0)\n",
        "    return vector"
      ],
      "metadata": {
        "id": "RnHYSfCd5FA5"
      },
      "execution_count": 17,
      "outputs": []
    },
    {
      "cell_type": "code",
      "source": [
        "# Функция для вычисления близости по паре вопрос-ответ\n",
        "def similarity(df, method, model):\n",
        "    if method == 'cos':\n",
        "        cos_sim = []\n",
        "        for index, row in tqdm(df.iterrows()):\n",
        "            sim = cosine_similarity(get_phrase_embedding(row['context'], model).reshape(1, -1), get_phrase_embedding(row['question'], model).reshape(1, -1))\n",
        "            cos_sim.append(sim[0][0])\n",
        "        return cos_sim\n",
        "    if method == 'euc':\n",
        "        euc_sim = []\n",
        "        for index, row in tqdm(df.iterrows()):\n",
        "            euc = euclidean_distances(get_phrase_embedding(row['context'], model).reshape(1, -1), get_phrase_embedding(row['question'], model).reshape(1, -1))\n",
        "            euc_sim.append(euc[0][0])\n",
        "        return euc_sim"
      ],
      "metadata": {
        "id": "k5g3zdqH4lII"
      },
      "execution_count": 18,
      "outputs": []
    },
    {
      "cell_type": "code",
      "source": [
        "# поиск осуществляет поиск и преобразует вопрос в вектор\n",
        "def search(query, df, sim_method, model, top_k=3):\n",
        "    query_vec = get_phrase_embedding(query, model)\n",
        "    if sim_method == 'cos':\n",
        "        similarities = cosine_similarity([query_vec], list(df['context_vec']))\n",
        "        top_indices = similarities[0].argsort()[-top_k:][::-1]\n",
        "        return df.iloc[top_indices][['context_vec']]\n",
        "    if sim_method == 'euc':\n",
        "        similarities = euclidean_distances([query_vec], list(df['context_vec']))\n",
        "        top_indices = similarities[0].argsort()[:top_k]\n",
        "        return df.iloc[top_indices][['context_vec']]"
      ],
      "metadata": {
        "id": "-1vCvfdQAPFf"
      },
      "execution_count": 19,
      "outputs": []
    },
    {
      "cell_type": "code",
      "source": [
        "# поиск осуществляет только поиск\n",
        "def search_(query_vec, df, sim_method, model, top_k=3):\n",
        "    if sim_method == 'cos':\n",
        "        similarities = cosine_similarity([query_vec], list(df['context_vec']))\n",
        "        top_indices = similarities[0].argsort()[-top_k:][::-1]\n",
        "        return df.iloc[top_indices][['context_vec']]\n",
        "    if sim_method == 'euc':\n",
        "        similarities = euclidean_distances([query_vec], list(df['context_vec']))\n",
        "        top_indices = similarities[0].argsort()[:top_k]\n",
        "        return df.iloc[top_indices][['context_vec']]"
      ],
      "metadata": {
        "id": "nt8liHUQOEzf"
      },
      "execution_count": 20,
      "outputs": []
    },
    {
      "cell_type": "markdown",
      "source": [
        "### готовая модель glove-twitter-100"
      ],
      "metadata": {
        "id": "kwZW0oSUD3MQ"
      }
    },
    {
      "cell_type": "markdown",
      "source": [
        "Попробуем готовую модель 'glove-twitter-100' для получения эмбеддингов"
      ],
      "metadata": {
        "id": "vOBTGHIjcY4X"
      }
    },
    {
      "cell_type": "code",
      "source": [
        "# пробуем готовую модель 'glove-twitter-100' для получения эмбеддингов\n",
        "# загрузка модели\n",
        "import gensim.downloader as api\n",
        "model_glove_100 = api.load('glove-twitter-100')"
      ],
      "metadata": {
        "colab": {
          "base_uri": "https://localhost:8080/"
        },
        "id": "UG1U0JPZspWP",
        "outputId": "a3e864e2-9dcd-4aa1-cb0b-03ec70bea1b1"
      },
      "execution_count": null,
      "outputs": [
        {
          "output_type": "stream",
          "name": "stdout",
          "text": [
            "[==================================================] 100.0% 387.1/387.1MB downloaded\n"
          ]
        }
      ]
    },
    {
      "cell_type": "code",
      "source": [
        "# вектор слова и длина вектора\n",
        "model_glove_100.get_vector('success'), model_glove_100.vector_size"
      ],
      "metadata": {
        "colab": {
          "base_uri": "https://localhost:8080/"
        },
        "id": "_49OF8q53Ymb",
        "outputId": "6b1d42c7-ac40-43e2-f76c-c86b14a4ac0c"
      },
      "execution_count": null,
      "outputs": [
        {
          "output_type": "execute_result",
          "data": {
            "text/plain": [
              "(array([-0.69571 , -0.25803 ,  1.1461  , -0.092474,  0.013327,  0.88868 ,\n",
              "         0.6629  , -0.22854 , -0.61239 ,  0.023411,  0.13384 , -1.2871  ,\n",
              "        -3.9963  ,  0.05135 , -0.16849 ,  0.2833  ,  0.23867 , -0.29322 ,\n",
              "        -0.47725 ,  0.27753 ,  0.6445  ,  0.13722 , -0.05108 ,  0.16066 ,\n",
              "         0.07651 ,  1.1067  ,  0.045127,  0.44216 ,  0.50982 ,  0.21219 ,\n",
              "        -0.65819 ,  0.070122, -0.048726,  0.29361 ,  1.1018  ,  0.56088 ,\n",
              "         0.53527 ,  0.071109, -0.76369 , -0.27487 ,  0.58741 ,  0.46964 ,\n",
              "        -0.097834, -0.070362,  0.7466  , -0.23906 , -0.3333  , -0.44176 ,\n",
              "         0.28084 ,  0.36565 ,  0.49095 , -0.1077  , -0.66796 , -0.29881 ,\n",
              "         0.20242 ,  0.10429 ,  0.29653 , -0.24588 , -0.87941 , -0.41375 ,\n",
              "        -0.046369, -0.373   ,  0.17329 ,  0.19251 ,  0.89135 , -0.11747 ,\n",
              "         0.42172 , -0.75693 , -0.35015 , -0.12428 ,  0.33944 , -0.096263,\n",
              "        -0.43658 ,  0.92614 ,  0.2422  , -0.35407 ,  0.38964 , -0.69092 ,\n",
              "        -0.16011 , -0.43882 ,  0.24384 ,  0.25598 ,  0.46328 ,  0.43624 ,\n",
              "        -0.34234 , -0.036377, -0.37853 ,  0.80977 , -0.21563 ,  0.02084 ,\n",
              "         0.40732 ,  0.39493 ,  0.060852,  0.096097,  0.096956, -0.16213 ,\n",
              "         0.14411 ,  0.22278 ,  0.38351 , -0.45459 ], dtype=float32),\n",
              " 100)"
            ]
          },
          "metadata": {},
          "execution_count": 23
        }
      ]
    },
    {
      "cell_type": "code",
      "source": [
        "# проверка модели\n",
        "model_glove_100.most_similar(positive=['success'], topn=5)"
      ],
      "metadata": {
        "colab": {
          "base_uri": "https://localhost:8080/"
        },
        "id": "Q-u3gEmw0yV6",
        "outputId": "80c05114-cca5-4014-b181-78c9d90b2133"
      },
      "execution_count": null,
      "outputs": [
        {
          "output_type": "execute_result",
          "data": {
            "text/plain": [
              "[('failure', 0.7855759263038635),\n",
              " ('achieve', 0.7644059658050537),\n",
              " ('progress', 0.7620401978492737),\n",
              " ('successful', 0.7617712616920471),\n",
              " ('happiness', 0.757005512714386)]"
            ]
          },
          "metadata": {},
          "execution_count": 24
        }
      ]
    },
    {
      "cell_type": "markdown",
      "source": [
        "#### cos_sim/euc_dist"
      ],
      "metadata": {
        "id": "0CzKaYe8omoO"
      }
    },
    {
      "cell_type": "code",
      "source": [
        "df_glove = df.copy()"
      ],
      "metadata": {
        "id": "oZNs3uZZAeU8"
      },
      "execution_count": null,
      "outputs": []
    },
    {
      "cell_type": "code",
      "source": [
        "# Добавляем столбец с эмбеддингами контекста в датасет:\n",
        "df_glove['context_vec'] = df_glove['context'].apply(lambda x: get_phrase_embedding(x, model_glove_100))\n",
        "df_glove"
      ],
      "metadata": {
        "colab": {
          "base_uri": "https://localhost:8080/",
          "height": 597
        },
        "id": "IndfEEk1CPdc",
        "outputId": "5c31eb51-7f12-4128-ec1d-d7987ecfe2b0"
      },
      "execution_count": null,
      "outputs": [
        {
          "output_type": "execute_result",
          "data": {
            "text/plain": [
              "                                                 context  \\\n",
              "0      caption: tasmanian berry grower nic hansen sho...   \n",
              "1      rwsn collaborations southern africa self-suppl...   \n",
              "2      all android applications categories descriptio...   \n",
              "3      how unequal is india? the question is simple, ...   \n",
              "4      gunnar nelson took his time on the feet agains...   \n",
              "...                                                  ...   \n",
              "11976  fuzzy's ultra premium vodka the myth, the man,...   \n",
              "11977  swedish grand prix rider malin nilsson got mar...   \n",
              "11978  the cracchiolo law library of the james e. rog...   \n",
              "11979  2nd physical emag store opens in mammut online...   \n",
              "11980  about this cadillac 2019 cadillac xt5 fwd 4dr ...   \n",
              "\n",
              "                                                question  \\\n",
              "0      what is the berry export summary 2028 and what...   \n",
              "1      what are some of the benefits reported from ha...   \n",
              "2      what are the unique features of the coolands f...   \n",
              "3      what is the main difference between the nation...   \n",
              "4      how did gunnar nelson win the fight against za...   \n",
              "...                                                  ...   \n",
              "11976  what are some of the achievements of fuzzy zoe...   \n",
              "11977        who did malin nilsson marry on 2 june 2018?   \n",
              "11978  what is the fellowship in law librarianship of...   \n",
              "11979  where has the second physical emag store been ...   \n",
              "11980  what are some of the key features of the 2019 ...   \n",
              "\n",
              "                                                  answer  \\\n",
              "0      the berry export summary 2028 is a dedicated e...   \n",
              "1      benefits reported from having access to self-s...   \n",
              "2      the unique features of the coolands for twitte...   \n",
              "3      the main difference between the nss and the ih...   \n",
              "4      gunnar nelson won the fight against zak cummin...   \n",
              "...                                                  ...   \n",
              "11976  fuzzy zoeller is known for his golfing success...   \n",
              "11977  malin nilsson got married to her partner, germ...   \n",
              "11978  the fellowship in law librarianship is a progr...   \n",
              "11979  the second physical emag store has been opened...   \n",
              "11980  the 2019 cadillac xt5 comes equipped with feat...   \n",
              "\n",
              "                                             context_vec  \n",
              "0      [0.09504911, -0.049641673, 0.089875646, 0.0277...  \n",
              "1      [0.1335789, -0.047594383, 0.0615254, 0.1200428...  \n",
              "2      [0.17623802, 0.13942787, -0.0018227642, 0.1532...  \n",
              "3      [0.15724678, -0.051185735, 0.12862964, 0.12895...  \n",
              "4      [0.17708059, 0.06809667, 0.18565966, 0.0115498...  \n",
              "...                                                  ...  \n",
              "11976  [0.06778479, -0.05240954, 0.07101283, 0.143693...  \n",
              "11977  [0.06751342, -0.014983839, 0.10461176, 0.05301...  \n",
              "11978  [0.11425761, 0.004999416, 0.13181105, 0.180119...  \n",
              "11979  [0.15222545, 0.008151223, 0.051334146, 0.08177...  \n",
              "11980  [0.13935551, -0.10910422, 0.0054076933, 0.0237...  \n",
              "\n",
              "[11981 rows x 4 columns]"
            ],
            "text/html": [
              "\n",
              "  <div id=\"df-03be84df-5aca-4426-b201-953a5c69ac2b\" class=\"colab-df-container\">\n",
              "    <div>\n",
              "<style scoped>\n",
              "    .dataframe tbody tr th:only-of-type {\n",
              "        vertical-align: middle;\n",
              "    }\n",
              "\n",
              "    .dataframe tbody tr th {\n",
              "        vertical-align: top;\n",
              "    }\n",
              "\n",
              "    .dataframe thead th {\n",
              "        text-align: right;\n",
              "    }\n",
              "</style>\n",
              "<table border=\"1\" class=\"dataframe\">\n",
              "  <thead>\n",
              "    <tr style=\"text-align: right;\">\n",
              "      <th></th>\n",
              "      <th>context</th>\n",
              "      <th>question</th>\n",
              "      <th>answer</th>\n",
              "      <th>context_vec</th>\n",
              "    </tr>\n",
              "  </thead>\n",
              "  <tbody>\n",
              "    <tr>\n",
              "      <th>0</th>\n",
              "      <td>caption: tasmanian berry grower nic hansen sho...</td>\n",
              "      <td>what is the berry export summary 2028 and what...</td>\n",
              "      <td>the berry export summary 2028 is a dedicated e...</td>\n",
              "      <td>[0.09504911, -0.049641673, 0.089875646, 0.0277...</td>\n",
              "    </tr>\n",
              "    <tr>\n",
              "      <th>1</th>\n",
              "      <td>rwsn collaborations southern africa self-suppl...</td>\n",
              "      <td>what are some of the benefits reported from ha...</td>\n",
              "      <td>benefits reported from having access to self-s...</td>\n",
              "      <td>[0.1335789, -0.047594383, 0.0615254, 0.1200428...</td>\n",
              "    </tr>\n",
              "    <tr>\n",
              "      <th>2</th>\n",
              "      <td>all android applications categories descriptio...</td>\n",
              "      <td>what are the unique features of the coolands f...</td>\n",
              "      <td>the unique features of the coolands for twitte...</td>\n",
              "      <td>[0.17623802, 0.13942787, -0.0018227642, 0.1532...</td>\n",
              "    </tr>\n",
              "    <tr>\n",
              "      <th>3</th>\n",
              "      <td>how unequal is india? the question is simple, ...</td>\n",
              "      <td>what is the main difference between the nation...</td>\n",
              "      <td>the main difference between the nss and the ih...</td>\n",
              "      <td>[0.15724678, -0.051185735, 0.12862964, 0.12895...</td>\n",
              "    </tr>\n",
              "    <tr>\n",
              "      <th>4</th>\n",
              "      <td>gunnar nelson took his time on the feet agains...</td>\n",
              "      <td>how did gunnar nelson win the fight against za...</td>\n",
              "      <td>gunnar nelson won the fight against zak cummin...</td>\n",
              "      <td>[0.17708059, 0.06809667, 0.18565966, 0.0115498...</td>\n",
              "    </tr>\n",
              "    <tr>\n",
              "      <th>...</th>\n",
              "      <td>...</td>\n",
              "      <td>...</td>\n",
              "      <td>...</td>\n",
              "      <td>...</td>\n",
              "    </tr>\n",
              "    <tr>\n",
              "      <th>11976</th>\n",
              "      <td>fuzzy's ultra premium vodka the myth, the man,...</td>\n",
              "      <td>what are some of the achievements of fuzzy zoe...</td>\n",
              "      <td>fuzzy zoeller is known for his golfing success...</td>\n",
              "      <td>[0.06778479, -0.05240954, 0.07101283, 0.143693...</td>\n",
              "    </tr>\n",
              "    <tr>\n",
              "      <th>11977</th>\n",
              "      <td>swedish grand prix rider malin nilsson got mar...</td>\n",
              "      <td>who did malin nilsson marry on 2 june 2018?</td>\n",
              "      <td>malin nilsson got married to her partner, germ...</td>\n",
              "      <td>[0.06751342, -0.014983839, 0.10461176, 0.05301...</td>\n",
              "    </tr>\n",
              "    <tr>\n",
              "      <th>11978</th>\n",
              "      <td>the cracchiolo law library of the james e. rog...</td>\n",
              "      <td>what is the fellowship in law librarianship of...</td>\n",
              "      <td>the fellowship in law librarianship is a progr...</td>\n",
              "      <td>[0.11425761, 0.004999416, 0.13181105, 0.180119...</td>\n",
              "    </tr>\n",
              "    <tr>\n",
              "      <th>11979</th>\n",
              "      <td>2nd physical emag store opens in mammut online...</td>\n",
              "      <td>where has the second physical emag store been ...</td>\n",
              "      <td>the second physical emag store has been opened...</td>\n",
              "      <td>[0.15222545, 0.008151223, 0.051334146, 0.08177...</td>\n",
              "    </tr>\n",
              "    <tr>\n",
              "      <th>11980</th>\n",
              "      <td>about this cadillac 2019 cadillac xt5 fwd 4dr ...</td>\n",
              "      <td>what are some of the key features of the 2019 ...</td>\n",
              "      <td>the 2019 cadillac xt5 comes equipped with feat...</td>\n",
              "      <td>[0.13935551, -0.10910422, 0.0054076933, 0.0237...</td>\n",
              "    </tr>\n",
              "  </tbody>\n",
              "</table>\n",
              "<p>11981 rows × 4 columns</p>\n",
              "</div>\n",
              "    <div class=\"colab-df-buttons\">\n",
              "\n",
              "  <div class=\"colab-df-container\">\n",
              "    <button class=\"colab-df-convert\" onclick=\"convertToInteractive('df-03be84df-5aca-4426-b201-953a5c69ac2b')\"\n",
              "            title=\"Convert this dataframe to an interactive table.\"\n",
              "            style=\"display:none;\">\n",
              "\n",
              "  <svg xmlns=\"http://www.w3.org/2000/svg\" height=\"24px\" viewBox=\"0 -960 960 960\">\n",
              "    <path d=\"M120-120v-720h720v720H120Zm60-500h600v-160H180v160Zm220 220h160v-160H400v160Zm0 220h160v-160H400v160ZM180-400h160v-160H180v160Zm440 0h160v-160H620v160ZM180-180h160v-160H180v160Zm440 0h160v-160H620v160Z\"/>\n",
              "  </svg>\n",
              "    </button>\n",
              "\n",
              "  <style>\n",
              "    .colab-df-container {\n",
              "      display:flex;\n",
              "      gap: 12px;\n",
              "    }\n",
              "\n",
              "    .colab-df-convert {\n",
              "      background-color: #E8F0FE;\n",
              "      border: none;\n",
              "      border-radius: 50%;\n",
              "      cursor: pointer;\n",
              "      display: none;\n",
              "      fill: #1967D2;\n",
              "      height: 32px;\n",
              "      padding: 0 0 0 0;\n",
              "      width: 32px;\n",
              "    }\n",
              "\n",
              "    .colab-df-convert:hover {\n",
              "      background-color: #E2EBFA;\n",
              "      box-shadow: 0px 1px 2px rgba(60, 64, 67, 0.3), 0px 1px 3px 1px rgba(60, 64, 67, 0.15);\n",
              "      fill: #174EA6;\n",
              "    }\n",
              "\n",
              "    .colab-df-buttons div {\n",
              "      margin-bottom: 4px;\n",
              "    }\n",
              "\n",
              "    [theme=dark] .colab-df-convert {\n",
              "      background-color: #3B4455;\n",
              "      fill: #D2E3FC;\n",
              "    }\n",
              "\n",
              "    [theme=dark] .colab-df-convert:hover {\n",
              "      background-color: #434B5C;\n",
              "      box-shadow: 0px 1px 3px 1px rgba(0, 0, 0, 0.15);\n",
              "      filter: drop-shadow(0px 1px 2px rgba(0, 0, 0, 0.3));\n",
              "      fill: #FFFFFF;\n",
              "    }\n",
              "  </style>\n",
              "\n",
              "    <script>\n",
              "      const buttonEl =\n",
              "        document.querySelector('#df-03be84df-5aca-4426-b201-953a5c69ac2b button.colab-df-convert');\n",
              "      buttonEl.style.display =\n",
              "        google.colab.kernel.accessAllowed ? 'block' : 'none';\n",
              "\n",
              "      async function convertToInteractive(key) {\n",
              "        const element = document.querySelector('#df-03be84df-5aca-4426-b201-953a5c69ac2b');\n",
              "        const dataTable =\n",
              "          await google.colab.kernel.invokeFunction('convertToInteractive',\n",
              "                                                    [key], {});\n",
              "        if (!dataTable) return;\n",
              "\n",
              "        const docLinkHtml = 'Like what you see? Visit the ' +\n",
              "          '<a target=\"_blank\" href=https://colab.research.google.com/notebooks/data_table.ipynb>data table notebook</a>'\n",
              "          + ' to learn more about interactive tables.';\n",
              "        element.innerHTML = '';\n",
              "        dataTable['output_type'] = 'display_data';\n",
              "        await google.colab.output.renderOutput(dataTable, element);\n",
              "        const docLink = document.createElement('div');\n",
              "        docLink.innerHTML = docLinkHtml;\n",
              "        element.appendChild(docLink);\n",
              "      }\n",
              "    </script>\n",
              "  </div>\n",
              "\n",
              "\n",
              "<div id=\"df-2e66b5f7-4b45-445b-a130-5f9d56ec4204\">\n",
              "  <button class=\"colab-df-quickchart\" onclick=\"quickchart('df-2e66b5f7-4b45-445b-a130-5f9d56ec4204')\"\n",
              "            title=\"Suggest charts\"\n",
              "            style=\"display:none;\">\n",
              "\n",
              "<svg xmlns=\"http://www.w3.org/2000/svg\" height=\"24px\"viewBox=\"0 0 24 24\"\n",
              "     width=\"24px\">\n",
              "    <g>\n",
              "        <path d=\"M19 3H5c-1.1 0-2 .9-2 2v14c0 1.1.9 2 2 2h14c1.1 0 2-.9 2-2V5c0-1.1-.9-2-2-2zM9 17H7v-7h2v7zm4 0h-2V7h2v10zm4 0h-2v-4h2v4z\"/>\n",
              "    </g>\n",
              "</svg>\n",
              "  </button>\n",
              "\n",
              "<style>\n",
              "  .colab-df-quickchart {\n",
              "      --bg-color: #E8F0FE;\n",
              "      --fill-color: #1967D2;\n",
              "      --hover-bg-color: #E2EBFA;\n",
              "      --hover-fill-color: #174EA6;\n",
              "      --disabled-fill-color: #AAA;\n",
              "      --disabled-bg-color: #DDD;\n",
              "  }\n",
              "\n",
              "  [theme=dark] .colab-df-quickchart {\n",
              "      --bg-color: #3B4455;\n",
              "      --fill-color: #D2E3FC;\n",
              "      --hover-bg-color: #434B5C;\n",
              "      --hover-fill-color: #FFFFFF;\n",
              "      --disabled-bg-color: #3B4455;\n",
              "      --disabled-fill-color: #666;\n",
              "  }\n",
              "\n",
              "  .colab-df-quickchart {\n",
              "    background-color: var(--bg-color);\n",
              "    border: none;\n",
              "    border-radius: 50%;\n",
              "    cursor: pointer;\n",
              "    display: none;\n",
              "    fill: var(--fill-color);\n",
              "    height: 32px;\n",
              "    padding: 0;\n",
              "    width: 32px;\n",
              "  }\n",
              "\n",
              "  .colab-df-quickchart:hover {\n",
              "    background-color: var(--hover-bg-color);\n",
              "    box-shadow: 0 1px 2px rgba(60, 64, 67, 0.3), 0 1px 3px 1px rgba(60, 64, 67, 0.15);\n",
              "    fill: var(--button-hover-fill-color);\n",
              "  }\n",
              "\n",
              "  .colab-df-quickchart-complete:disabled,\n",
              "  .colab-df-quickchart-complete:disabled:hover {\n",
              "    background-color: var(--disabled-bg-color);\n",
              "    fill: var(--disabled-fill-color);\n",
              "    box-shadow: none;\n",
              "  }\n",
              "\n",
              "  .colab-df-spinner {\n",
              "    border: 2px solid var(--fill-color);\n",
              "    border-color: transparent;\n",
              "    border-bottom-color: var(--fill-color);\n",
              "    animation:\n",
              "      spin 1s steps(1) infinite;\n",
              "  }\n",
              "\n",
              "  @keyframes spin {\n",
              "    0% {\n",
              "      border-color: transparent;\n",
              "      border-bottom-color: var(--fill-color);\n",
              "      border-left-color: var(--fill-color);\n",
              "    }\n",
              "    20% {\n",
              "      border-color: transparent;\n",
              "      border-left-color: var(--fill-color);\n",
              "      border-top-color: var(--fill-color);\n",
              "    }\n",
              "    30% {\n",
              "      border-color: transparent;\n",
              "      border-left-color: var(--fill-color);\n",
              "      border-top-color: var(--fill-color);\n",
              "      border-right-color: var(--fill-color);\n",
              "    }\n",
              "    40% {\n",
              "      border-color: transparent;\n",
              "      border-right-color: var(--fill-color);\n",
              "      border-top-color: var(--fill-color);\n",
              "    }\n",
              "    60% {\n",
              "      border-color: transparent;\n",
              "      border-right-color: var(--fill-color);\n",
              "    }\n",
              "    80% {\n",
              "      border-color: transparent;\n",
              "      border-right-color: var(--fill-color);\n",
              "      border-bottom-color: var(--fill-color);\n",
              "    }\n",
              "    90% {\n",
              "      border-color: transparent;\n",
              "      border-bottom-color: var(--fill-color);\n",
              "    }\n",
              "  }\n",
              "</style>\n",
              "\n",
              "  <script>\n",
              "    async function quickchart(key) {\n",
              "      const quickchartButtonEl =\n",
              "        document.querySelector('#' + key + ' button');\n",
              "      quickchartButtonEl.disabled = true;  // To prevent multiple clicks.\n",
              "      quickchartButtonEl.classList.add('colab-df-spinner');\n",
              "      try {\n",
              "        const charts = await google.colab.kernel.invokeFunction(\n",
              "            'suggestCharts', [key], {});\n",
              "      } catch (error) {\n",
              "        console.error('Error during call to suggestCharts:', error);\n",
              "      }\n",
              "      quickchartButtonEl.classList.remove('colab-df-spinner');\n",
              "      quickchartButtonEl.classList.add('colab-df-quickchart-complete');\n",
              "    }\n",
              "    (() => {\n",
              "      let quickchartButtonEl =\n",
              "        document.querySelector('#df-2e66b5f7-4b45-445b-a130-5f9d56ec4204 button');\n",
              "      quickchartButtonEl.style.display =\n",
              "        google.colab.kernel.accessAllowed ? 'block' : 'none';\n",
              "    })();\n",
              "  </script>\n",
              "</div>\n",
              "    </div>\n",
              "  </div>\n"
            ],
            "application/vnd.google.colaboratory.intrinsic+json": {
              "type": "dataframe",
              "variable_name": "df_glove",
              "summary": "{\n  \"name\": \"df_glove\",\n  \"rows\": 11981,\n  \"fields\": [\n    {\n      \"column\": \"context\",\n      \"properties\": {\n        \"dtype\": \"string\",\n        \"num_unique_values\": 11981,\n        \"samples\": [\n          \"module information course delivery assessment learning outcomes on successful completion of this module students should be able to: critically evaluate relevant texts and consider the implications of these texts in performance;e. situate ancient and adapted texts in their cultural, political and historical contexts. demonstrate an awareness of the wider cultural and theoretical issues raised by adaptations of classical texts. produce organized, coherently structured and critically engaged written and oral work. aims the module focuses on adaptations and rewrites of \\\"the classics\\\" of antiquity with a view to asking the followng questions: what is a classic? is canonical status afforded to such work purely on the grounds of textual antiquity? why rewrite/adapt such works? what are the theatrical strategies of such reworkings? by looking at a variety of adaptations and rewrites students will develop an understanding of canon-formation and rewriting/performative rereading as a critical paradigm. brief description this module will provide a thorough introduction to plays that are representative of the key genres of ancient drama (satyr, tragedy and comedy) whilst providing a sound foundation for understanding how these ancient works have been and continue to be adapted and rewritten, for example as political protest, pacifist messages, critique of aesthetics and canonicity, a contemplation of our present age and beyond. in this respect, the module will provide a thorough overview of ancient drama, adaptation theory and a selection of modern (twentieth century and twenty first century) adaptations and rewrites. content lecture two: the trackers of oxyrynchus and sophocles' fragments: satyric drama and its regenerative potential lecture three: rewriting sophocles' antigone: brecht, fugard and gambaro - an overview lecture four: fugard, kani and ntshona's the island and \\\"life\\\" art: rewriting as political protest lecture five: pacifist antigones: gambaro's antigona furiosa, shaw's bury the dead and brecht's version of antigone after holderlin (screening of anouilh's antigone) lecture six: irish medeas; marina carr's by the bog o' the cats; (screening of meda - pasolini and lars von trier arranged) lecture seven: oedipus, freud and steven berkoff's greek; screening of lee breuer's gospel at colonos arranged lecture eight: genre and the ancients - from comedy to tragedy - tony harrison's the common chorus, aristophanes' lysistrata and euripides' the trojan women (screening of the trojan women arranged) lecture nine: why adapt and rewrite? lecture ten: tradition's progressive and subversive potential - a summation and revision pointers (maximum of 9 play texts accompanied by at least 6 screenings of play extracts)\",\n          \"jimmy savile, cyril smith, stuart hall and now max clifford. four powerful men, big figures with high public profiles. and all paedophiles who abused their positions to prey on vulnerable youngsters. savile and smith were, certainly, protected by the establishment. political clout intimidated police who protected the villains and failed their victims. savile escaped justice by dying before we knew the vile depths of his reign of terror. maggie thatcher\\u2019s favourite was considered off limits by the cops. rochdale lib dem mp cyril smith also largely cheated accounting for his offences. it wasn\\u2019t until after his death that labour mp simon danczuk was able to expose smith\\u2019s sadism. hall was sheltered by bbc fame but is now deservedly behind bars. publicist clifford will get his just deserts when sentenced on friday. sex abuse victims i\\u2019ve spoken to were doubly tormented when nobody listened to them. their complaints were dismissed, their testimony often rejected. they were ignored. the result was abusers escaped punishment to continue abusing. which brings me to the case of the tony blair minister highlighted in yesterday\\u2019s daily mirror. the allegation is this minister was involved in a london child sex ring in the 1980s. and a police inquiry was pulled in the 1990s when his name cropped up. hand on heart: i don\\u2019t know if he is guilty of a heinous crime or if his visits to a children\\u2019s home were misunderstood. but i do know there must be a thorough investigation. because the allegations are so serious they mustn\\u2019t be swept under the carpet. there must not be another cover-up. we owe the truth to victims of abuse. if i was the minister under suspicion and innocent, i\\u2019d be shouting loudest for an investigation to clear my name. over recent years so many people have come forward claiming they were abused by politicians there\\u2019s an argument for a wider inquiry. crusading mp tom watson spoke from a position of knowledge when he demanded an inquiry into a \\u201cpowerful paedophile ring\\u201d linked to the thatcher regime. the names of those linked to the elm guest house in south west london, a hive of abuse with cyril smith among the visitors, will shock you if they ever become public. victims who were insulted by cover-ups in the past deserve the truth in the future. we can\\u2019t right past wrongs but we owe it to those who endured unimaginable torment to learn from past mistakes.\",\n          \"this superior detached residence is situated in a quiet yet much sought after location within close proximity to the town centre and all local amenities. this property has been well maintained and is further enhanced by its spacious interior and extensive grounds making this an excellent family home. porch: 4\\u20191\\u2019\\u2019x7\\u20199\\u2019\\u2019, carpet flooring entrance hall: 7\\u20193\\u2019\\u2019 x 10\\u201910\\u201d carpet flooring, beams in ceiling, downlights, cloakroom, wc w.c: 4\\u201910\\u201d x 3\\u20193\\u201d tiled flooring, white suite, partially tiled walls living room: 11\\u201910\\u201d x 17\\u20193\\u201d carpet flooring, brick fireplace, bay window, tv point, beamed ceiling, down lights, telephone point. kitchen/dinette: 16\\u20199\\u201d x 10\\u20196\\u2019\\u2019 dark oak high and low level units, free standing cooker, freestanding dishwasher, free standing fridge freezer, extractor fan, tv point, tile flooring, partially tiled walls, beams in ceiling. dining room: 11\\u20198\\u2019\\u2019 x 12\\u201910\\u2019\\u2019 carpet flooring, patio doors, serving hatch from kitchen utility room: 12\\u2019x7\\u20194\\u2019\\u2019 tile flooring, plumbed for washing machine, s.s sink. landing: 17\\u201910\\u2019\\u2019x6\\u20191\\u2019\\u2019 carpet flooring, spot lights, hot press. bathroom: 7\\u20191\\u201d x 6\\u20191\\u201d cream suite, bath with mains shower above, tile flooring, partially tiled walls. master bedroom: 11\\u201911\\u201d x 17\\u201910\\u201d carpet flooring, tv point, 6 door robe built in, bay window. en- suite: 12\\u20199\\u2019\\u2019 x 10\\u20195\\u2019\\u2019 white suite, bath, large mains shower, tile flooring, fully tiled walls, double sink with storage unit. bedroom 2: 9\\u20194\\u201d x 9\\u20196\\u201d carpet flooring, walk-in wardrobe (11\\u2019x6\\u20191\\u2019\\u2019 vanity unit, fully railed, carpet flooring) bedroom 3: 10\\u20195\\u201d x 11\\u20193\\u201d carpet flooring. bedroom 4: 11\\u20193\\u2019\\u2019 x 13\\u20197\\u2019\\u2019 carpet flooring, built in wardrobes and drawer sets. pool: 9\\u201910\\u2019\\u2019 x 20\\u20195\\u2019\\u2019 heated pool sauna/ changing: 15\\u20195\\u2019\\u2019 x 8\\u20194\\u2019\\u2019 down lights, wooden ceiling, non slip flooring, shower office: 7\\u201910\\u2019\\u2019 x 7\\u20199\\u2019\\u2019 carpet flooring, telephone point games room: 11\\u20199\\u2019\\u2019x 13\\u20193\\u2019\\u2019 carpet flooring, pvc ceiling, full electrics, cladded walls, pool table garage 1: 11\\u2019 x 17\\u20198\\u2019\\u2019 up & over door, full electrics garage 2: 13\\u2019 x 12\\u20199\\u2019\\u2019 up & over door, full electrics other: pvc windows, wooden external doors, timber internal doors, beam hoover system. outside: spacious lawns with mature shrubs, large paved patio, full size tennis court, 9 hole mini golf course, tarmac driveway. epc ref: 9982-0527-6060-0739-4902\"\n        ],\n        \"semantic_type\": \"\",\n        \"description\": \"\"\n      }\n    },\n    {\n      \"column\": \"question\",\n      \"properties\": {\n        \"dtype\": \"string\",\n        \"num_unique_values\": 11981,\n        \"samples\": [\n          \"what are the learning outcomes of this module?\",\n          \"who were the four powerful men with high public profiles mentioned as paedophiles who abused their positions?\",\n          \"what are some of the features of the master bedroom in the described residence?\"\n        ],\n        \"semantic_type\": \"\",\n        \"description\": \"\"\n      }\n    },\n    {\n      \"column\": \"answer\",\n      \"properties\": {\n        \"dtype\": \"string\",\n        \"num_unique_values\": 11981,\n        \"samples\": [\n          \"on successful completion of this module students should be able to critically evaluate relevant texts and consider the implications of these texts in performance, situate ancient and adapted texts in their cultural, political and historical contexts, demonstrate an awareness of the wider cultural and theoretical issues raised by adaptations of classical texts, and produce organized, coherently structured and critically engaged written and oral work.\",\n          \"the four powerful men mentioned as paedophiles who abused their positions were jimmy savile, cyril smith, stuart hall and max clifford.\",\n          \"the master bedroom in the described residence features carpet flooring, a tv point, a 6 door robe built in, and a bay window. it also has an en-suite with a white suite, bath, large mains shower, tile flooring, fully tiled walls, and a double sink with a storage unit.\"\n        ],\n        \"semantic_type\": \"\",\n        \"description\": \"\"\n      }\n    },\n    {\n      \"column\": \"context_vec\",\n      \"properties\": {\n        \"dtype\": \"object\",\n        \"semantic_type\": \"\",\n        \"description\": \"\"\n      }\n    }\n  ]\n}"
            }
          },
          "metadata": {},
          "execution_count": 30
        }
      ]
    },
    {
      "cell_type": "code",
      "source": [
        "query = df.question[10]"
      ],
      "metadata": {
        "id": "3y3qTDJxNKFU"
      },
      "execution_count": null,
      "outputs": []
    },
    {
      "cell_type": "code",
      "source": [
        "# тест поиска ответа для query по датасету df_glove по косинусному сходству\n",
        "%time\n",
        "results = search(query, df_glove, 'cos', model_glove_100, top_k=1)\n",
        "print(results)"
      ],
      "metadata": {
        "colab": {
          "base_uri": "https://localhost:8080/"
        },
        "id": "HXjJuWQqCwe2",
        "outputId": "ffce2aac-7abb-4149-a7e0-5eb5c741e503"
      },
      "execution_count": null,
      "outputs": [
        {
          "output_type": "stream",
          "name": "stdout",
          "text": [
            "CPU times: user 4 µs, sys: 0 ns, total: 4 µs\n",
            "Wall time: 11.9 µs\n",
            "                                           context_vec\n",
            "110  [0.12597324, 0.12697911, 0.079099506, 0.094262...\n"
          ]
        }
      ]
    },
    {
      "cell_type": "code",
      "source": [
        "# тест поиска ответа для query по датасету df_glove по эвклидову расстоянию\n",
        "\n",
        "%time\n",
        "results = search(query, df_glove, 'euc',  model_glove_100, top_k=1)\n",
        "print(results)"
      ],
      "metadata": {
        "colab": {
          "base_uri": "https://localhost:8080/"
        },
        "id": "aN3JwsyTBVmn",
        "outputId": "2f6f4f49-12ef-489b-ed30-f009bf39c5fd"
      },
      "execution_count": null,
      "outputs": [
        {
          "output_type": "stream",
          "name": "stdout",
          "text": [
            "CPU times: user 4 µs, sys: 0 ns, total: 4 µs\n",
            "Wall time: 8.58 µs\n",
            "                                         context_vec\n",
            "3  [0.15724678, -0.051185735, 0.12862964, 0.12895...\n"
          ]
        }
      ]
    },
    {
      "cell_type": "code",
      "source": [
        "# вычисляем близость каждогго вопроса со своим контекстом\n",
        "cos_sim = similarity(df_glove, 'cos', model_glove_100)\n",
        "euc_dist = similarity(df_glove, 'euc', model_glove_100)"
      ],
      "metadata": {
        "colab": {
          "base_uri": "https://localhost:8080/"
        },
        "id": "Ppc4nEXF56Nk",
        "outputId": "ddd62a38-c472-41f4-eccf-9ece883e7ef9"
      },
      "execution_count": null,
      "outputs": [
        {
          "output_type": "stream",
          "name": "stderr",
          "text": [
            "11981it [00:56, 213.16it/s]\n",
            "11981it [00:45, 262.89it/s]\n"
          ]
        }
      ]
    },
    {
      "cell_type": "code",
      "source": [
        "# Добавляем близость и расстояние в датасет\n",
        "df_glove['cos_similarity_100'] = cos_sim\n",
        "df_glove['euc_dict_100'] = euc_dist\n",
        "df_glove"
      ],
      "metadata": {
        "colab": {
          "base_uri": "https://localhost:8080/",
          "height": 424
        },
        "id": "zaMFyeP4_Q1y",
        "outputId": "0484a494-2747-4cc7-a4a2-8543b7a1cb52"
      },
      "execution_count": null,
      "outputs": [
        {
          "output_type": "execute_result",
          "data": {
            "text/plain": [
              "                                                 context  \\\n",
              "0      caption: tasmanian berry grower nic hansen sho...   \n",
              "1      rwsn collaborations southern africa self-suppl...   \n",
              "2      all android applications categories descriptio...   \n",
              "3      how unequal is india? the question is simple, ...   \n",
              "4      gunnar nelson took his time on the feet agains...   \n",
              "...                                                  ...   \n",
              "11976  fuzzy's ultra premium vodka the myth, the man,...   \n",
              "11977  swedish grand prix rider malin nilsson got mar...   \n",
              "11978  the cracchiolo law library of the james e. rog...   \n",
              "11979  2nd physical emag store opens in mammut online...   \n",
              "11980  about this cadillac 2019 cadillac xt5 fwd 4dr ...   \n",
              "\n",
              "                                                question  \\\n",
              "0      what is the berry export summary 2028 and what...   \n",
              "1      what are some of the benefits reported from ha...   \n",
              "2      what are the unique features of the coolands f...   \n",
              "3      what is the main difference between the nation...   \n",
              "4      how did gunnar nelson win the fight against za...   \n",
              "...                                                  ...   \n",
              "11976  what are some of the achievements of fuzzy zoe...   \n",
              "11977        who did malin nilsson marry on 2 june 2018?   \n",
              "11978  what is the fellowship in law librarianship of...   \n",
              "11979  where has the second physical emag store been ...   \n",
              "11980  what are some of the key features of the 2019 ...   \n",
              "\n",
              "                                                  answer  \\\n",
              "0      the berry export summary 2028 is a dedicated e...   \n",
              "1      benefits reported from having access to self-s...   \n",
              "2      the unique features of the coolands for twitte...   \n",
              "3      the main difference between the nss and the ih...   \n",
              "4      gunnar nelson won the fight against zak cummin...   \n",
              "...                                                  ...   \n",
              "11976  fuzzy zoeller is known for his golfing success...   \n",
              "11977  malin nilsson got married to her partner, germ...   \n",
              "11978  the fellowship in law librarianship is a progr...   \n",
              "11979  the second physical emag store has been opened...   \n",
              "11980  the 2019 cadillac xt5 comes equipped with feat...   \n",
              "\n",
              "                                             context_vec  cos_similarity_100  \\\n",
              "0      [0.09504911, -0.049641673, 0.089875646, 0.0277...            0.955721   \n",
              "1      [0.1335789, -0.047594383, 0.0615254, 0.1200428...            0.982423   \n",
              "2      [0.17623802, 0.13942787, -0.0018227642, 0.1532...            0.963876   \n",
              "3      [0.15724678, -0.051185735, 0.12862964, 0.12895...            0.954969   \n",
              "4      [0.17708059, 0.06809667, 0.18565966, 0.0115498...            0.937649   \n",
              "...                                                  ...                 ...   \n",
              "11976  [0.06778479, -0.05240954, 0.07101283, 0.143693...            0.955015   \n",
              "11977  [0.06751342, -0.014983839, 0.10461176, 0.05301...            0.904924   \n",
              "11978  [0.11425761, 0.004999416, 0.13181105, 0.180119...            0.978600   \n",
              "11979  [0.15222545, 0.008151223, 0.051334146, 0.08177...            0.958414   \n",
              "11980  [0.13935551, -0.10910422, 0.0054076933, 0.0237...            0.905624   \n",
              "\n",
              "       euc_dict_100  \n",
              "0          1.647024  \n",
              "1          1.118146  \n",
              "2          1.541047  \n",
              "3          1.278227  \n",
              "4          1.508161  \n",
              "...             ...  \n",
              "11976      1.558333  \n",
              "11977      1.734967  \n",
              "11978      1.218177  \n",
              "11979      1.249325  \n",
              "11980      2.718674  \n",
              "\n",
              "[11981 rows x 6 columns]"
            ],
            "text/html": [
              "\n",
              "  <div id=\"df-b07f3db0-6431-410a-b9a1-aeaf62b13052\" class=\"colab-df-container\">\n",
              "    <div>\n",
              "<style scoped>\n",
              "    .dataframe tbody tr th:only-of-type {\n",
              "        vertical-align: middle;\n",
              "    }\n",
              "\n",
              "    .dataframe tbody tr th {\n",
              "        vertical-align: top;\n",
              "    }\n",
              "\n",
              "    .dataframe thead th {\n",
              "        text-align: right;\n",
              "    }\n",
              "</style>\n",
              "<table border=\"1\" class=\"dataframe\">\n",
              "  <thead>\n",
              "    <tr style=\"text-align: right;\">\n",
              "      <th></th>\n",
              "      <th>context</th>\n",
              "      <th>question</th>\n",
              "      <th>answer</th>\n",
              "      <th>context_vec</th>\n",
              "      <th>cos_similarity_100</th>\n",
              "      <th>euc_dict_100</th>\n",
              "    </tr>\n",
              "  </thead>\n",
              "  <tbody>\n",
              "    <tr>\n",
              "      <th>0</th>\n",
              "      <td>caption: tasmanian berry grower nic hansen sho...</td>\n",
              "      <td>what is the berry export summary 2028 and what...</td>\n",
              "      <td>the berry export summary 2028 is a dedicated e...</td>\n",
              "      <td>[0.09504911, -0.049641673, 0.089875646, 0.0277...</td>\n",
              "      <td>0.955721</td>\n",
              "      <td>1.647024</td>\n",
              "    </tr>\n",
              "    <tr>\n",
              "      <th>1</th>\n",
              "      <td>rwsn collaborations southern africa self-suppl...</td>\n",
              "      <td>what are some of the benefits reported from ha...</td>\n",
              "      <td>benefits reported from having access to self-s...</td>\n",
              "      <td>[0.1335789, -0.047594383, 0.0615254, 0.1200428...</td>\n",
              "      <td>0.982423</td>\n",
              "      <td>1.118146</td>\n",
              "    </tr>\n",
              "    <tr>\n",
              "      <th>2</th>\n",
              "      <td>all android applications categories descriptio...</td>\n",
              "      <td>what are the unique features of the coolands f...</td>\n",
              "      <td>the unique features of the coolands for twitte...</td>\n",
              "      <td>[0.17623802, 0.13942787, -0.0018227642, 0.1532...</td>\n",
              "      <td>0.963876</td>\n",
              "      <td>1.541047</td>\n",
              "    </tr>\n",
              "    <tr>\n",
              "      <th>3</th>\n",
              "      <td>how unequal is india? the question is simple, ...</td>\n",
              "      <td>what is the main difference between the nation...</td>\n",
              "      <td>the main difference between the nss and the ih...</td>\n",
              "      <td>[0.15724678, -0.051185735, 0.12862964, 0.12895...</td>\n",
              "      <td>0.954969</td>\n",
              "      <td>1.278227</td>\n",
              "    </tr>\n",
              "    <tr>\n",
              "      <th>4</th>\n",
              "      <td>gunnar nelson took his time on the feet agains...</td>\n",
              "      <td>how did gunnar nelson win the fight against za...</td>\n",
              "      <td>gunnar nelson won the fight against zak cummin...</td>\n",
              "      <td>[0.17708059, 0.06809667, 0.18565966, 0.0115498...</td>\n",
              "      <td>0.937649</td>\n",
              "      <td>1.508161</td>\n",
              "    </tr>\n",
              "    <tr>\n",
              "      <th>...</th>\n",
              "      <td>...</td>\n",
              "      <td>...</td>\n",
              "      <td>...</td>\n",
              "      <td>...</td>\n",
              "      <td>...</td>\n",
              "      <td>...</td>\n",
              "    </tr>\n",
              "    <tr>\n",
              "      <th>11976</th>\n",
              "      <td>fuzzy's ultra premium vodka the myth, the man,...</td>\n",
              "      <td>what are some of the achievements of fuzzy zoe...</td>\n",
              "      <td>fuzzy zoeller is known for his golfing success...</td>\n",
              "      <td>[0.06778479, -0.05240954, 0.07101283, 0.143693...</td>\n",
              "      <td>0.955015</td>\n",
              "      <td>1.558333</td>\n",
              "    </tr>\n",
              "    <tr>\n",
              "      <th>11977</th>\n",
              "      <td>swedish grand prix rider malin nilsson got mar...</td>\n",
              "      <td>who did malin nilsson marry on 2 june 2018?</td>\n",
              "      <td>malin nilsson got married to her partner, germ...</td>\n",
              "      <td>[0.06751342, -0.014983839, 0.10461176, 0.05301...</td>\n",
              "      <td>0.904924</td>\n",
              "      <td>1.734967</td>\n",
              "    </tr>\n",
              "    <tr>\n",
              "      <th>11978</th>\n",
              "      <td>the cracchiolo law library of the james e. rog...</td>\n",
              "      <td>what is the fellowship in law librarianship of...</td>\n",
              "      <td>the fellowship in law librarianship is a progr...</td>\n",
              "      <td>[0.11425761, 0.004999416, 0.13181105, 0.180119...</td>\n",
              "      <td>0.978600</td>\n",
              "      <td>1.218177</td>\n",
              "    </tr>\n",
              "    <tr>\n",
              "      <th>11979</th>\n",
              "      <td>2nd physical emag store opens in mammut online...</td>\n",
              "      <td>where has the second physical emag store been ...</td>\n",
              "      <td>the second physical emag store has been opened...</td>\n",
              "      <td>[0.15222545, 0.008151223, 0.051334146, 0.08177...</td>\n",
              "      <td>0.958414</td>\n",
              "      <td>1.249325</td>\n",
              "    </tr>\n",
              "    <tr>\n",
              "      <th>11980</th>\n",
              "      <td>about this cadillac 2019 cadillac xt5 fwd 4dr ...</td>\n",
              "      <td>what are some of the key features of the 2019 ...</td>\n",
              "      <td>the 2019 cadillac xt5 comes equipped with feat...</td>\n",
              "      <td>[0.13935551, -0.10910422, 0.0054076933, 0.0237...</td>\n",
              "      <td>0.905624</td>\n",
              "      <td>2.718674</td>\n",
              "    </tr>\n",
              "  </tbody>\n",
              "</table>\n",
              "<p>11981 rows × 6 columns</p>\n",
              "</div>\n",
              "    <div class=\"colab-df-buttons\">\n",
              "\n",
              "  <div class=\"colab-df-container\">\n",
              "    <button class=\"colab-df-convert\" onclick=\"convertToInteractive('df-b07f3db0-6431-410a-b9a1-aeaf62b13052')\"\n",
              "            title=\"Convert this dataframe to an interactive table.\"\n",
              "            style=\"display:none;\">\n",
              "\n",
              "  <svg xmlns=\"http://www.w3.org/2000/svg\" height=\"24px\" viewBox=\"0 -960 960 960\">\n",
              "    <path d=\"M120-120v-720h720v720H120Zm60-500h600v-160H180v160Zm220 220h160v-160H400v160Zm0 220h160v-160H400v160ZM180-400h160v-160H180v160Zm440 0h160v-160H620v160ZM180-180h160v-160H180v160Zm440 0h160v-160H620v160Z\"/>\n",
              "  </svg>\n",
              "    </button>\n",
              "\n",
              "  <style>\n",
              "    .colab-df-container {\n",
              "      display:flex;\n",
              "      gap: 12px;\n",
              "    }\n",
              "\n",
              "    .colab-df-convert {\n",
              "      background-color: #E8F0FE;\n",
              "      border: none;\n",
              "      border-radius: 50%;\n",
              "      cursor: pointer;\n",
              "      display: none;\n",
              "      fill: #1967D2;\n",
              "      height: 32px;\n",
              "      padding: 0 0 0 0;\n",
              "      width: 32px;\n",
              "    }\n",
              "\n",
              "    .colab-df-convert:hover {\n",
              "      background-color: #E2EBFA;\n",
              "      box-shadow: 0px 1px 2px rgba(60, 64, 67, 0.3), 0px 1px 3px 1px rgba(60, 64, 67, 0.15);\n",
              "      fill: #174EA6;\n",
              "    }\n",
              "\n",
              "    .colab-df-buttons div {\n",
              "      margin-bottom: 4px;\n",
              "    }\n",
              "\n",
              "    [theme=dark] .colab-df-convert {\n",
              "      background-color: #3B4455;\n",
              "      fill: #D2E3FC;\n",
              "    }\n",
              "\n",
              "    [theme=dark] .colab-df-convert:hover {\n",
              "      background-color: #434B5C;\n",
              "      box-shadow: 0px 1px 3px 1px rgba(0, 0, 0, 0.15);\n",
              "      filter: drop-shadow(0px 1px 2px rgba(0, 0, 0, 0.3));\n",
              "      fill: #FFFFFF;\n",
              "    }\n",
              "  </style>\n",
              "\n",
              "    <script>\n",
              "      const buttonEl =\n",
              "        document.querySelector('#df-b07f3db0-6431-410a-b9a1-aeaf62b13052 button.colab-df-convert');\n",
              "      buttonEl.style.display =\n",
              "        google.colab.kernel.accessAllowed ? 'block' : 'none';\n",
              "\n",
              "      async function convertToInteractive(key) {\n",
              "        const element = document.querySelector('#df-b07f3db0-6431-410a-b9a1-aeaf62b13052');\n",
              "        const dataTable =\n",
              "          await google.colab.kernel.invokeFunction('convertToInteractive',\n",
              "                                                    [key], {});\n",
              "        if (!dataTable) return;\n",
              "\n",
              "        const docLinkHtml = 'Like what you see? Visit the ' +\n",
              "          '<a target=\"_blank\" href=https://colab.research.google.com/notebooks/data_table.ipynb>data table notebook</a>'\n",
              "          + ' to learn more about interactive tables.';\n",
              "        element.innerHTML = '';\n",
              "        dataTable['output_type'] = 'display_data';\n",
              "        await google.colab.output.renderOutput(dataTable, element);\n",
              "        const docLink = document.createElement('div');\n",
              "        docLink.innerHTML = docLinkHtml;\n",
              "        element.appendChild(docLink);\n",
              "      }\n",
              "    </script>\n",
              "  </div>\n",
              "\n",
              "\n",
              "<div id=\"df-6b5feb27-d215-4fa7-a7da-3564bbb106f2\">\n",
              "  <button class=\"colab-df-quickchart\" onclick=\"quickchart('df-6b5feb27-d215-4fa7-a7da-3564bbb106f2')\"\n",
              "            title=\"Suggest charts\"\n",
              "            style=\"display:none;\">\n",
              "\n",
              "<svg xmlns=\"http://www.w3.org/2000/svg\" height=\"24px\"viewBox=\"0 0 24 24\"\n",
              "     width=\"24px\">\n",
              "    <g>\n",
              "        <path d=\"M19 3H5c-1.1 0-2 .9-2 2v14c0 1.1.9 2 2 2h14c1.1 0 2-.9 2-2V5c0-1.1-.9-2-2-2zM9 17H7v-7h2v7zm4 0h-2V7h2v10zm4 0h-2v-4h2v4z\"/>\n",
              "    </g>\n",
              "</svg>\n",
              "  </button>\n",
              "\n",
              "<style>\n",
              "  .colab-df-quickchart {\n",
              "      --bg-color: #E8F0FE;\n",
              "      --fill-color: #1967D2;\n",
              "      --hover-bg-color: #E2EBFA;\n",
              "      --hover-fill-color: #174EA6;\n",
              "      --disabled-fill-color: #AAA;\n",
              "      --disabled-bg-color: #DDD;\n",
              "  }\n",
              "\n",
              "  [theme=dark] .colab-df-quickchart {\n",
              "      --bg-color: #3B4455;\n",
              "      --fill-color: #D2E3FC;\n",
              "      --hover-bg-color: #434B5C;\n",
              "      --hover-fill-color: #FFFFFF;\n",
              "      --disabled-bg-color: #3B4455;\n",
              "      --disabled-fill-color: #666;\n",
              "  }\n",
              "\n",
              "  .colab-df-quickchart {\n",
              "    background-color: var(--bg-color);\n",
              "    border: none;\n",
              "    border-radius: 50%;\n",
              "    cursor: pointer;\n",
              "    display: none;\n",
              "    fill: var(--fill-color);\n",
              "    height: 32px;\n",
              "    padding: 0;\n",
              "    width: 32px;\n",
              "  }\n",
              "\n",
              "  .colab-df-quickchart:hover {\n",
              "    background-color: var(--hover-bg-color);\n",
              "    box-shadow: 0 1px 2px rgba(60, 64, 67, 0.3), 0 1px 3px 1px rgba(60, 64, 67, 0.15);\n",
              "    fill: var(--button-hover-fill-color);\n",
              "  }\n",
              "\n",
              "  .colab-df-quickchart-complete:disabled,\n",
              "  .colab-df-quickchart-complete:disabled:hover {\n",
              "    background-color: var(--disabled-bg-color);\n",
              "    fill: var(--disabled-fill-color);\n",
              "    box-shadow: none;\n",
              "  }\n",
              "\n",
              "  .colab-df-spinner {\n",
              "    border: 2px solid var(--fill-color);\n",
              "    border-color: transparent;\n",
              "    border-bottom-color: var(--fill-color);\n",
              "    animation:\n",
              "      spin 1s steps(1) infinite;\n",
              "  }\n",
              "\n",
              "  @keyframes spin {\n",
              "    0% {\n",
              "      border-color: transparent;\n",
              "      border-bottom-color: var(--fill-color);\n",
              "      border-left-color: var(--fill-color);\n",
              "    }\n",
              "    20% {\n",
              "      border-color: transparent;\n",
              "      border-left-color: var(--fill-color);\n",
              "      border-top-color: var(--fill-color);\n",
              "    }\n",
              "    30% {\n",
              "      border-color: transparent;\n",
              "      border-left-color: var(--fill-color);\n",
              "      border-top-color: var(--fill-color);\n",
              "      border-right-color: var(--fill-color);\n",
              "    }\n",
              "    40% {\n",
              "      border-color: transparent;\n",
              "      border-right-color: var(--fill-color);\n",
              "      border-top-color: var(--fill-color);\n",
              "    }\n",
              "    60% {\n",
              "      border-color: transparent;\n",
              "      border-right-color: var(--fill-color);\n",
              "    }\n",
              "    80% {\n",
              "      border-color: transparent;\n",
              "      border-right-color: var(--fill-color);\n",
              "      border-bottom-color: var(--fill-color);\n",
              "    }\n",
              "    90% {\n",
              "      border-color: transparent;\n",
              "      border-bottom-color: var(--fill-color);\n",
              "    }\n",
              "  }\n",
              "</style>\n",
              "\n",
              "  <script>\n",
              "    async function quickchart(key) {\n",
              "      const quickchartButtonEl =\n",
              "        document.querySelector('#' + key + ' button');\n",
              "      quickchartButtonEl.disabled = true;  // To prevent multiple clicks.\n",
              "      quickchartButtonEl.classList.add('colab-df-spinner');\n",
              "      try {\n",
              "        const charts = await google.colab.kernel.invokeFunction(\n",
              "            'suggestCharts', [key], {});\n",
              "      } catch (error) {\n",
              "        console.error('Error during call to suggestCharts:', error);\n",
              "      }\n",
              "      quickchartButtonEl.classList.remove('colab-df-spinner');\n",
              "      quickchartButtonEl.classList.add('colab-df-quickchart-complete');\n",
              "    }\n",
              "    (() => {\n",
              "      let quickchartButtonEl =\n",
              "        document.querySelector('#df-6b5feb27-d215-4fa7-a7da-3564bbb106f2 button');\n",
              "      quickchartButtonEl.style.display =\n",
              "        google.colab.kernel.accessAllowed ? 'block' : 'none';\n",
              "    })();\n",
              "  </script>\n",
              "</div>\n",
              "    </div>\n",
              "  </div>\n"
            ],
            "application/vnd.google.colaboratory.intrinsic+json": {
              "type": "dataframe",
              "variable_name": "df_glove",
              "summary": "{\n  \"name\": \"df_glove\",\n  \"rows\": 11981,\n  \"fields\": [\n    {\n      \"column\": \"context\",\n      \"properties\": {\n        \"dtype\": \"string\",\n        \"num_unique_values\": 11981,\n        \"samples\": [\n          \"module information course delivery assessment learning outcomes on successful completion of this module students should be able to: critically evaluate relevant texts and consider the implications of these texts in performance;e. situate ancient and adapted texts in their cultural, political and historical contexts. demonstrate an awareness of the wider cultural and theoretical issues raised by adaptations of classical texts. produce organized, coherently structured and critically engaged written and oral work. aims the module focuses on adaptations and rewrites of \\\"the classics\\\" of antiquity with a view to asking the followng questions: what is a classic? is canonical status afforded to such work purely on the grounds of textual antiquity? why rewrite/adapt such works? what are the theatrical strategies of such reworkings? by looking at a variety of adaptations and rewrites students will develop an understanding of canon-formation and rewriting/performative rereading as a critical paradigm. brief description this module will provide a thorough introduction to plays that are representative of the key genres of ancient drama (satyr, tragedy and comedy) whilst providing a sound foundation for understanding how these ancient works have been and continue to be adapted and rewritten, for example as political protest, pacifist messages, critique of aesthetics and canonicity, a contemplation of our present age and beyond. in this respect, the module will provide a thorough overview of ancient drama, adaptation theory and a selection of modern (twentieth century and twenty first century) adaptations and rewrites. content lecture two: the trackers of oxyrynchus and sophocles' fragments: satyric drama and its regenerative potential lecture three: rewriting sophocles' antigone: brecht, fugard and gambaro - an overview lecture four: fugard, kani and ntshona's the island and \\\"life\\\" art: rewriting as political protest lecture five: pacifist antigones: gambaro's antigona furiosa, shaw's bury the dead and brecht's version of antigone after holderlin (screening of anouilh's antigone) lecture six: irish medeas; marina carr's by the bog o' the cats; (screening of meda - pasolini and lars von trier arranged) lecture seven: oedipus, freud and steven berkoff's greek; screening of lee breuer's gospel at colonos arranged lecture eight: genre and the ancients - from comedy to tragedy - tony harrison's the common chorus, aristophanes' lysistrata and euripides' the trojan women (screening of the trojan women arranged) lecture nine: why adapt and rewrite? lecture ten: tradition's progressive and subversive potential - a summation and revision pointers (maximum of 9 play texts accompanied by at least 6 screenings of play extracts)\",\n          \"jimmy savile, cyril smith, stuart hall and now max clifford. four powerful men, big figures with high public profiles. and all paedophiles who abused their positions to prey on vulnerable youngsters. savile and smith were, certainly, protected by the establishment. political clout intimidated police who protected the villains and failed their victims. savile escaped justice by dying before we knew the vile depths of his reign of terror. maggie thatcher\\u2019s favourite was considered off limits by the cops. rochdale lib dem mp cyril smith also largely cheated accounting for his offences. it wasn\\u2019t until after his death that labour mp simon danczuk was able to expose smith\\u2019s sadism. hall was sheltered by bbc fame but is now deservedly behind bars. publicist clifford will get his just deserts when sentenced on friday. sex abuse victims i\\u2019ve spoken to were doubly tormented when nobody listened to them. their complaints were dismissed, their testimony often rejected. they were ignored. the result was abusers escaped punishment to continue abusing. which brings me to the case of the tony blair minister highlighted in yesterday\\u2019s daily mirror. the allegation is this minister was involved in a london child sex ring in the 1980s. and a police inquiry was pulled in the 1990s when his name cropped up. hand on heart: i don\\u2019t know if he is guilty of a heinous crime or if his visits to a children\\u2019s home were misunderstood. but i do know there must be a thorough investigation. because the allegations are so serious they mustn\\u2019t be swept under the carpet. there must not be another cover-up. we owe the truth to victims of abuse. if i was the minister under suspicion and innocent, i\\u2019d be shouting loudest for an investigation to clear my name. over recent years so many people have come forward claiming they were abused by politicians there\\u2019s an argument for a wider inquiry. crusading mp tom watson spoke from a position of knowledge when he demanded an inquiry into a \\u201cpowerful paedophile ring\\u201d linked to the thatcher regime. the names of those linked to the elm guest house in south west london, a hive of abuse with cyril smith among the visitors, will shock you if they ever become public. victims who were insulted by cover-ups in the past deserve the truth in the future. we can\\u2019t right past wrongs but we owe it to those who endured unimaginable torment to learn from past mistakes.\",\n          \"this superior detached residence is situated in a quiet yet much sought after location within close proximity to the town centre and all local amenities. this property has been well maintained and is further enhanced by its spacious interior and extensive grounds making this an excellent family home. porch: 4\\u20191\\u2019\\u2019x7\\u20199\\u2019\\u2019, carpet flooring entrance hall: 7\\u20193\\u2019\\u2019 x 10\\u201910\\u201d carpet flooring, beams in ceiling, downlights, cloakroom, wc w.c: 4\\u201910\\u201d x 3\\u20193\\u201d tiled flooring, white suite, partially tiled walls living room: 11\\u201910\\u201d x 17\\u20193\\u201d carpet flooring, brick fireplace, bay window, tv point, beamed ceiling, down lights, telephone point. kitchen/dinette: 16\\u20199\\u201d x 10\\u20196\\u2019\\u2019 dark oak high and low level units, free standing cooker, freestanding dishwasher, free standing fridge freezer, extractor fan, tv point, tile flooring, partially tiled walls, beams in ceiling. dining room: 11\\u20198\\u2019\\u2019 x 12\\u201910\\u2019\\u2019 carpet flooring, patio doors, serving hatch from kitchen utility room: 12\\u2019x7\\u20194\\u2019\\u2019 tile flooring, plumbed for washing machine, s.s sink. landing: 17\\u201910\\u2019\\u2019x6\\u20191\\u2019\\u2019 carpet flooring, spot lights, hot press. bathroom: 7\\u20191\\u201d x 6\\u20191\\u201d cream suite, bath with mains shower above, tile flooring, partially tiled walls. master bedroom: 11\\u201911\\u201d x 17\\u201910\\u201d carpet flooring, tv point, 6 door robe built in, bay window. en- suite: 12\\u20199\\u2019\\u2019 x 10\\u20195\\u2019\\u2019 white suite, bath, large mains shower, tile flooring, fully tiled walls, double sink with storage unit. bedroom 2: 9\\u20194\\u201d x 9\\u20196\\u201d carpet flooring, walk-in wardrobe (11\\u2019x6\\u20191\\u2019\\u2019 vanity unit, fully railed, carpet flooring) bedroom 3: 10\\u20195\\u201d x 11\\u20193\\u201d carpet flooring. bedroom 4: 11\\u20193\\u2019\\u2019 x 13\\u20197\\u2019\\u2019 carpet flooring, built in wardrobes and drawer sets. pool: 9\\u201910\\u2019\\u2019 x 20\\u20195\\u2019\\u2019 heated pool sauna/ changing: 15\\u20195\\u2019\\u2019 x 8\\u20194\\u2019\\u2019 down lights, wooden ceiling, non slip flooring, shower office: 7\\u201910\\u2019\\u2019 x 7\\u20199\\u2019\\u2019 carpet flooring, telephone point games room: 11\\u20199\\u2019\\u2019x 13\\u20193\\u2019\\u2019 carpet flooring, pvc ceiling, full electrics, cladded walls, pool table garage 1: 11\\u2019 x 17\\u20198\\u2019\\u2019 up & over door, full electrics garage 2: 13\\u2019 x 12\\u20199\\u2019\\u2019 up & over door, full electrics other: pvc windows, wooden external doors, timber internal doors, beam hoover system. outside: spacious lawns with mature shrubs, large paved patio, full size tennis court, 9 hole mini golf course, tarmac driveway. epc ref: 9982-0527-6060-0739-4902\"\n        ],\n        \"semantic_type\": \"\",\n        \"description\": \"\"\n      }\n    },\n    {\n      \"column\": \"question\",\n      \"properties\": {\n        \"dtype\": \"string\",\n        \"num_unique_values\": 11981,\n        \"samples\": [\n          \"what are the learning outcomes of this module?\",\n          \"who were the four powerful men with high public profiles mentioned as paedophiles who abused their positions?\",\n          \"what are some of the features of the master bedroom in the described residence?\"\n        ],\n        \"semantic_type\": \"\",\n        \"description\": \"\"\n      }\n    },\n    {\n      \"column\": \"answer\",\n      \"properties\": {\n        \"dtype\": \"string\",\n        \"num_unique_values\": 11981,\n        \"samples\": [\n          \"on successful completion of this module students should be able to critically evaluate relevant texts and consider the implications of these texts in performance, situate ancient and adapted texts in their cultural, political and historical contexts, demonstrate an awareness of the wider cultural and theoretical issues raised by adaptations of classical texts, and produce organized, coherently structured and critically engaged written and oral work.\",\n          \"the four powerful men mentioned as paedophiles who abused their positions were jimmy savile, cyril smith, stuart hall and max clifford.\",\n          \"the master bedroom in the described residence features carpet flooring, a tv point, a 6 door robe built in, and a bay window. it also has an en-suite with a white suite, bath, large mains shower, tile flooring, fully tiled walls, and a double sink with a storage unit.\"\n        ],\n        \"semantic_type\": \"\",\n        \"description\": \"\"\n      }\n    },\n    {\n      \"column\": \"context_vec\",\n      \"properties\": {\n        \"dtype\": \"object\",\n        \"semantic_type\": \"\",\n        \"description\": \"\"\n      }\n    },\n    {\n      \"column\": \"cos_similarity_100\",\n      \"properties\": {\n        \"dtype\": \"float32\",\n        \"num_unique_values\": 11889,\n        \"samples\": [\n          0.9718813300132751,\n          0.9716389179229736,\n          0.9623742699623108\n        ],\n        \"semantic_type\": \"\",\n        \"description\": \"\"\n      }\n    },\n    {\n      \"column\": \"euc_dict_100\",\n      \"properties\": {\n        \"dtype\": \"float32\",\n        \"num_unique_values\": 11969,\n        \"samples\": [\n          1.4139765501022339,\n          1.0524379014968872,\n          1.5794692039489746\n        ],\n        \"semantic_type\": \"\",\n        \"description\": \"\"\n      }\n    }\n  ]\n}"
            }
          },
          "metadata": {},
          "execution_count": 36
        }
      ]
    },
    {
      "cell_type": "code",
      "source": [
        "df_glove.describe().T"
      ],
      "metadata": {
        "colab": {
          "base_uri": "https://localhost:8080/",
          "height": 112
        },
        "id": "M97jOkhbBNRI",
        "outputId": "276e1cf7-9d1a-4997-f5b3-f7d35da9b359"
      },
      "execution_count": null,
      "outputs": [
        {
          "output_type": "execute_result",
          "data": {
            "text/plain": [
              "                      count      mean       std       min       25%       50%  \\\n",
              "cos_similarity_100  11981.0  0.958049  0.022720  0.684831  0.951347  0.963069   \n",
              "euc_dict_100        11981.0  1.381730  0.322113  0.567927  1.172611  1.329349   \n",
              "\n",
              "                         75%       max  \n",
              "cos_similarity_100  0.971624  0.991940  \n",
              "euc_dict_100        1.526611  3.716582  "
            ],
            "text/html": [
              "\n",
              "  <div id=\"df-a4e929de-4724-4a55-b0c3-e5927e831077\" class=\"colab-df-container\">\n",
              "    <div>\n",
              "<style scoped>\n",
              "    .dataframe tbody tr th:only-of-type {\n",
              "        vertical-align: middle;\n",
              "    }\n",
              "\n",
              "    .dataframe tbody tr th {\n",
              "        vertical-align: top;\n",
              "    }\n",
              "\n",
              "    .dataframe thead th {\n",
              "        text-align: right;\n",
              "    }\n",
              "</style>\n",
              "<table border=\"1\" class=\"dataframe\">\n",
              "  <thead>\n",
              "    <tr style=\"text-align: right;\">\n",
              "      <th></th>\n",
              "      <th>count</th>\n",
              "      <th>mean</th>\n",
              "      <th>std</th>\n",
              "      <th>min</th>\n",
              "      <th>25%</th>\n",
              "      <th>50%</th>\n",
              "      <th>75%</th>\n",
              "      <th>max</th>\n",
              "    </tr>\n",
              "  </thead>\n",
              "  <tbody>\n",
              "    <tr>\n",
              "      <th>cos_similarity_100</th>\n",
              "      <td>11981.0</td>\n",
              "      <td>0.958049</td>\n",
              "      <td>0.022720</td>\n",
              "      <td>0.684831</td>\n",
              "      <td>0.951347</td>\n",
              "      <td>0.963069</td>\n",
              "      <td>0.971624</td>\n",
              "      <td>0.991940</td>\n",
              "    </tr>\n",
              "    <tr>\n",
              "      <th>euc_dict_100</th>\n",
              "      <td>11981.0</td>\n",
              "      <td>1.381730</td>\n",
              "      <td>0.322113</td>\n",
              "      <td>0.567927</td>\n",
              "      <td>1.172611</td>\n",
              "      <td>1.329349</td>\n",
              "      <td>1.526611</td>\n",
              "      <td>3.716582</td>\n",
              "    </tr>\n",
              "  </tbody>\n",
              "</table>\n",
              "</div>\n",
              "    <div class=\"colab-df-buttons\">\n",
              "\n",
              "  <div class=\"colab-df-container\">\n",
              "    <button class=\"colab-df-convert\" onclick=\"convertToInteractive('df-a4e929de-4724-4a55-b0c3-e5927e831077')\"\n",
              "            title=\"Convert this dataframe to an interactive table.\"\n",
              "            style=\"display:none;\">\n",
              "\n",
              "  <svg xmlns=\"http://www.w3.org/2000/svg\" height=\"24px\" viewBox=\"0 -960 960 960\">\n",
              "    <path d=\"M120-120v-720h720v720H120Zm60-500h600v-160H180v160Zm220 220h160v-160H400v160Zm0 220h160v-160H400v160ZM180-400h160v-160H180v160Zm440 0h160v-160H620v160ZM180-180h160v-160H180v160Zm440 0h160v-160H620v160Z\"/>\n",
              "  </svg>\n",
              "    </button>\n",
              "\n",
              "  <style>\n",
              "    .colab-df-container {\n",
              "      display:flex;\n",
              "      gap: 12px;\n",
              "    }\n",
              "\n",
              "    .colab-df-convert {\n",
              "      background-color: #E8F0FE;\n",
              "      border: none;\n",
              "      border-radius: 50%;\n",
              "      cursor: pointer;\n",
              "      display: none;\n",
              "      fill: #1967D2;\n",
              "      height: 32px;\n",
              "      padding: 0 0 0 0;\n",
              "      width: 32px;\n",
              "    }\n",
              "\n",
              "    .colab-df-convert:hover {\n",
              "      background-color: #E2EBFA;\n",
              "      box-shadow: 0px 1px 2px rgba(60, 64, 67, 0.3), 0px 1px 3px 1px rgba(60, 64, 67, 0.15);\n",
              "      fill: #174EA6;\n",
              "    }\n",
              "\n",
              "    .colab-df-buttons div {\n",
              "      margin-bottom: 4px;\n",
              "    }\n",
              "\n",
              "    [theme=dark] .colab-df-convert {\n",
              "      background-color: #3B4455;\n",
              "      fill: #D2E3FC;\n",
              "    }\n",
              "\n",
              "    [theme=dark] .colab-df-convert:hover {\n",
              "      background-color: #434B5C;\n",
              "      box-shadow: 0px 1px 3px 1px rgba(0, 0, 0, 0.15);\n",
              "      filter: drop-shadow(0px 1px 2px rgba(0, 0, 0, 0.3));\n",
              "      fill: #FFFFFF;\n",
              "    }\n",
              "  </style>\n",
              "\n",
              "    <script>\n",
              "      const buttonEl =\n",
              "        document.querySelector('#df-a4e929de-4724-4a55-b0c3-e5927e831077 button.colab-df-convert');\n",
              "      buttonEl.style.display =\n",
              "        google.colab.kernel.accessAllowed ? 'block' : 'none';\n",
              "\n",
              "      async function convertToInteractive(key) {\n",
              "        const element = document.querySelector('#df-a4e929de-4724-4a55-b0c3-e5927e831077');\n",
              "        const dataTable =\n",
              "          await google.colab.kernel.invokeFunction('convertToInteractive',\n",
              "                                                    [key], {});\n",
              "        if (!dataTable) return;\n",
              "\n",
              "        const docLinkHtml = 'Like what you see? Visit the ' +\n",
              "          '<a target=\"_blank\" href=https://colab.research.google.com/notebooks/data_table.ipynb>data table notebook</a>'\n",
              "          + ' to learn more about interactive tables.';\n",
              "        element.innerHTML = '';\n",
              "        dataTable['output_type'] = 'display_data';\n",
              "        await google.colab.output.renderOutput(dataTable, element);\n",
              "        const docLink = document.createElement('div');\n",
              "        docLink.innerHTML = docLinkHtml;\n",
              "        element.appendChild(docLink);\n",
              "      }\n",
              "    </script>\n",
              "  </div>\n",
              "\n",
              "\n",
              "<div id=\"df-047d1ddc-f7f7-4d56-ad20-0df98d768dc1\">\n",
              "  <button class=\"colab-df-quickchart\" onclick=\"quickchart('df-047d1ddc-f7f7-4d56-ad20-0df98d768dc1')\"\n",
              "            title=\"Suggest charts\"\n",
              "            style=\"display:none;\">\n",
              "\n",
              "<svg xmlns=\"http://www.w3.org/2000/svg\" height=\"24px\"viewBox=\"0 0 24 24\"\n",
              "     width=\"24px\">\n",
              "    <g>\n",
              "        <path d=\"M19 3H5c-1.1 0-2 .9-2 2v14c0 1.1.9 2 2 2h14c1.1 0 2-.9 2-2V5c0-1.1-.9-2-2-2zM9 17H7v-7h2v7zm4 0h-2V7h2v10zm4 0h-2v-4h2v4z\"/>\n",
              "    </g>\n",
              "</svg>\n",
              "  </button>\n",
              "\n",
              "<style>\n",
              "  .colab-df-quickchart {\n",
              "      --bg-color: #E8F0FE;\n",
              "      --fill-color: #1967D2;\n",
              "      --hover-bg-color: #E2EBFA;\n",
              "      --hover-fill-color: #174EA6;\n",
              "      --disabled-fill-color: #AAA;\n",
              "      --disabled-bg-color: #DDD;\n",
              "  }\n",
              "\n",
              "  [theme=dark] .colab-df-quickchart {\n",
              "      --bg-color: #3B4455;\n",
              "      --fill-color: #D2E3FC;\n",
              "      --hover-bg-color: #434B5C;\n",
              "      --hover-fill-color: #FFFFFF;\n",
              "      --disabled-bg-color: #3B4455;\n",
              "      --disabled-fill-color: #666;\n",
              "  }\n",
              "\n",
              "  .colab-df-quickchart {\n",
              "    background-color: var(--bg-color);\n",
              "    border: none;\n",
              "    border-radius: 50%;\n",
              "    cursor: pointer;\n",
              "    display: none;\n",
              "    fill: var(--fill-color);\n",
              "    height: 32px;\n",
              "    padding: 0;\n",
              "    width: 32px;\n",
              "  }\n",
              "\n",
              "  .colab-df-quickchart:hover {\n",
              "    background-color: var(--hover-bg-color);\n",
              "    box-shadow: 0 1px 2px rgba(60, 64, 67, 0.3), 0 1px 3px 1px rgba(60, 64, 67, 0.15);\n",
              "    fill: var(--button-hover-fill-color);\n",
              "  }\n",
              "\n",
              "  .colab-df-quickchart-complete:disabled,\n",
              "  .colab-df-quickchart-complete:disabled:hover {\n",
              "    background-color: var(--disabled-bg-color);\n",
              "    fill: var(--disabled-fill-color);\n",
              "    box-shadow: none;\n",
              "  }\n",
              "\n",
              "  .colab-df-spinner {\n",
              "    border: 2px solid var(--fill-color);\n",
              "    border-color: transparent;\n",
              "    border-bottom-color: var(--fill-color);\n",
              "    animation:\n",
              "      spin 1s steps(1) infinite;\n",
              "  }\n",
              "\n",
              "  @keyframes spin {\n",
              "    0% {\n",
              "      border-color: transparent;\n",
              "      border-bottom-color: var(--fill-color);\n",
              "      border-left-color: var(--fill-color);\n",
              "    }\n",
              "    20% {\n",
              "      border-color: transparent;\n",
              "      border-left-color: var(--fill-color);\n",
              "      border-top-color: var(--fill-color);\n",
              "    }\n",
              "    30% {\n",
              "      border-color: transparent;\n",
              "      border-left-color: var(--fill-color);\n",
              "      border-top-color: var(--fill-color);\n",
              "      border-right-color: var(--fill-color);\n",
              "    }\n",
              "    40% {\n",
              "      border-color: transparent;\n",
              "      border-right-color: var(--fill-color);\n",
              "      border-top-color: var(--fill-color);\n",
              "    }\n",
              "    60% {\n",
              "      border-color: transparent;\n",
              "      border-right-color: var(--fill-color);\n",
              "    }\n",
              "    80% {\n",
              "      border-color: transparent;\n",
              "      border-right-color: var(--fill-color);\n",
              "      border-bottom-color: var(--fill-color);\n",
              "    }\n",
              "    90% {\n",
              "      border-color: transparent;\n",
              "      border-bottom-color: var(--fill-color);\n",
              "    }\n",
              "  }\n",
              "</style>\n",
              "\n",
              "  <script>\n",
              "    async function quickchart(key) {\n",
              "      const quickchartButtonEl =\n",
              "        document.querySelector('#' + key + ' button');\n",
              "      quickchartButtonEl.disabled = true;  // To prevent multiple clicks.\n",
              "      quickchartButtonEl.classList.add('colab-df-spinner');\n",
              "      try {\n",
              "        const charts = await google.colab.kernel.invokeFunction(\n",
              "            'suggestCharts', [key], {});\n",
              "      } catch (error) {\n",
              "        console.error('Error during call to suggestCharts:', error);\n",
              "      }\n",
              "      quickchartButtonEl.classList.remove('colab-df-spinner');\n",
              "      quickchartButtonEl.classList.add('colab-df-quickchart-complete');\n",
              "    }\n",
              "    (() => {\n",
              "      let quickchartButtonEl =\n",
              "        document.querySelector('#df-047d1ddc-f7f7-4d56-ad20-0df98d768dc1 button');\n",
              "      quickchartButtonEl.style.display =\n",
              "        google.colab.kernel.accessAllowed ? 'block' : 'none';\n",
              "    })();\n",
              "  </script>\n",
              "</div>\n",
              "    </div>\n",
              "  </div>\n"
            ],
            "application/vnd.google.colaboratory.intrinsic+json": {
              "type": "dataframe",
              "summary": "{\n  \"name\": \"df_glove\",\n  \"rows\": 2,\n  \"fields\": [\n    {\n      \"column\": \"count\",\n      \"properties\": {\n        \"dtype\": \"number\",\n        \"std\": 0.0,\n        \"min\": 11981.0,\n        \"max\": 11981.0,\n        \"num_unique_values\": 1,\n        \"samples\": [\n          11981.0\n        ],\n        \"semantic_type\": \"\",\n        \"description\": \"\"\n      }\n    },\n    {\n      \"column\": \"mean\",\n      \"properties\": {\n        \"dtype\": \"number\",\n        \"std\": 0.2995877649698033,\n        \"min\": 0.9580486416816711,\n        \"max\": 1.3817297220230103,\n        \"num_unique_values\": 2,\n        \"samples\": [\n          1.3817297220230103\n        ],\n        \"semantic_type\": \"\",\n        \"description\": \"\"\n      }\n    },\n    {\n      \"column\": \"std\",\n      \"properties\": {\n        \"dtype\": \"number\",\n        \"std\": 0.21170285352441343,\n        \"min\": 0.022719871252775192,\n        \"max\": 0.32211291790008545,\n        \"num_unique_values\": 2,\n        \"samples\": [\n          0.32211291790008545\n        ],\n        \"semantic_type\": \"\",\n        \"description\": \"\"\n      }\n    },\n    {\n      \"column\": \"min\",\n      \"properties\": {\n        \"dtype\": \"number\",\n        \"std\": 0.08266366765562924,\n        \"min\": 0.5679270029067993,\n        \"max\": 0.6848310828208923,\n        \"num_unique_values\": 2,\n        \"samples\": [\n          0.5679270029067993\n        ],\n        \"semantic_type\": \"\",\n        \"description\": \"\"\n      }\n    },\n    {\n      \"column\": \"25%\",\n      \"properties\": {\n        \"dtype\": \"number\",\n        \"std\": 0.15645736245474678,\n        \"min\": 0.9513466358184814,\n        \"max\": 1.1726107597351074,\n        \"num_unique_values\": 2,\n        \"samples\": [\n          1.1726107597351074\n        ],\n        \"semantic_type\": \"\",\n        \"description\": \"\"\n      }\n    },\n    {\n      \"column\": \"50%\",\n      \"properties\": {\n        \"dtype\": \"number\",\n        \"std\": 0.25899900115466,\n        \"min\": 0.9630687832832336,\n        \"max\": 1.3293486833572388,\n        \"num_unique_values\": 2,\n        \"samples\": [\n          1.3293486833572388\n        ],\n        \"semantic_type\": \"\",\n        \"description\": \"\"\n      }\n    },\n    {\n      \"column\": \"75%\",\n      \"properties\": {\n        \"dtype\": \"number\",\n        \"std\": 0.3924346591346952,\n        \"min\": 0.9716243147850037,\n        \"max\": 1.5266107320785522,\n        \"num_unique_values\": 2,\n        \"samples\": [\n          1.5266107320785522\n        ],\n        \"semantic_type\": \"\",\n        \"description\": \"\"\n      }\n    },\n    {\n      \"column\": \"max\",\n      \"properties\": {\n        \"dtype\": \"number\",\n        \"std\": 1.9266128194730765,\n        \"min\": 0.9919398427009583,\n        \"max\": 3.7165818214416504,\n        \"num_unique_values\": 2,\n        \"samples\": [\n          3.7165818214416504\n        ],\n        \"semantic_type\": \"\",\n        \"description\": \"\"\n      }\n    }\n  ]\n}"
            }
          },
          "metadata": {},
          "execution_count": 37
        }
      ]
    },
    {
      "cell_type": "code",
      "source": [
        "# смотрим на строку, у которых близость ниже 0,5\n",
        "df_glove.loc[df_glove['cos_similarity_100'] < 0.5]"
      ],
      "metadata": {
        "id": "YDl6kC0HBXSj"
      },
      "execution_count": null,
      "outputs": []
    },
    {
      "cell_type": "markdown",
      "source": [
        "Обнаружены 2 строки, где большинство слов не на английском языке.\n",
        "Лучше их удалить."
      ],
      "metadata": {
        "id": "vXbzKbKkDNW7"
      }
    },
    {
      "cell_type": "code",
      "source": [
        "df.drop(index=[7453, 10225], inplace=True)\n",
        "df.reset_index(drop=True, inplace=True) # обновление индексов"
      ],
      "metadata": {
        "id": "O9Y2BEoT7pYk"
      },
      "execution_count": null,
      "outputs": []
    },
    {
      "cell_type": "markdown",
      "source": [
        "Анализ столбца с контекстами и ранжирование кандидатов на основе косинусного расстояния."
      ],
      "metadata": {
        "id": "w1qElJvhEQ5E"
      }
    },
    {
      "cell_type": "markdown",
      "source": [
        "#### search_01 (качество на glove-twitter-100)"
      ],
      "metadata": {
        "id": "9zfUreXeoskB"
      }
    },
    {
      "cell_type": "code",
      "source": [
        "# проходим по датасету и для каждого вопроса находим один релевантный ответ (запоминаем его индекс)\n",
        "# если найденный индекс совпал с оригинальным  для него ставим 1 в колонку eval, добавим колонку с найденными индексами\n",
        "\n",
        "top_ind_search_cos = []\n",
        "top_ind_search_euc = []\n",
        "\n",
        "for index, row in tqdm(df_glove.iterrows()):\n",
        "    results_search_cos = search(row['question'], df_glove, 'cos', model_glove_100, top_k=1)\n",
        "    top_ind_search_cos.append(results_search_cos.index[0])\n",
        "    results_search_euc =search(row['question'], df_glove, 'euc', model_glove_100, top_k=1)\n",
        "    top_ind_search_euc.append(results_search_euc.index[0])\n",
        "\n",
        "df_glove['top_ind_search_cos'] = top_ind_search_cos\n",
        "df_glove['top_ind_search_euc'] = top_ind_search_euc\n",
        "df_glove['eval_cos'] = (df_glove['top_ind_search_cos'] == df_glove.index).astype(int)\n",
        "df_glove['eval_euc'] = (df_glove['top_ind_search_euc'] == df_glove.index).astype(int)"
      ],
      "metadata": {
        "colab": {
          "base_uri": "https://localhost:8080/"
        },
        "id": "7HrIXQ_QmrIs",
        "outputId": "3b1f8efe-f057-4b2c-a261-a7c4db9a8ad3"
      },
      "execution_count": null,
      "outputs": [
        {
          "output_type": "stream",
          "name": "stderr",
          "text": [
            "11981it [14:26, 13.82it/s]\n"
          ]
        }
      ]
    },
    {
      "cell_type": "code",
      "source": [
        "df_glove['eval_cos'].value_counts(normalize = True)"
      ],
      "metadata": {
        "colab": {
          "base_uri": "https://localhost:8080/",
          "height": 178
        },
        "id": "pDH9emoIDo0m",
        "outputId": "b284f843-5048-4152-cc77-c043820c6866"
      },
      "execution_count": null,
      "outputs": [
        {
          "output_type": "execute_result",
          "data": {
            "text/plain": [
              "eval_cos\n",
              "0    0.887238\n",
              "1    0.112762\n",
              "Name: proportion, dtype: float64"
            ],
            "text/html": [
              "<div>\n",
              "<style scoped>\n",
              "    .dataframe tbody tr th:only-of-type {\n",
              "        vertical-align: middle;\n",
              "    }\n",
              "\n",
              "    .dataframe tbody tr th {\n",
              "        vertical-align: top;\n",
              "    }\n",
              "\n",
              "    .dataframe thead th {\n",
              "        text-align: right;\n",
              "    }\n",
              "</style>\n",
              "<table border=\"1\" class=\"dataframe\">\n",
              "  <thead>\n",
              "    <tr style=\"text-align: right;\">\n",
              "      <th></th>\n",
              "      <th>proportion</th>\n",
              "    </tr>\n",
              "    <tr>\n",
              "      <th>eval_cos</th>\n",
              "      <th></th>\n",
              "    </tr>\n",
              "  </thead>\n",
              "  <tbody>\n",
              "    <tr>\n",
              "      <th>0</th>\n",
              "      <td>0.887238</td>\n",
              "    </tr>\n",
              "    <tr>\n",
              "      <th>1</th>\n",
              "      <td>0.112762</td>\n",
              "    </tr>\n",
              "  </tbody>\n",
              "</table>\n",
              "</div><br><label><b>dtype:</b> float64</label>"
            ]
          },
          "metadata": {},
          "execution_count": 41
        }
      ]
    },
    {
      "cell_type": "code",
      "source": [
        "df_glove['eval_euc'].value_counts(normalize = True)"
      ],
      "metadata": {
        "colab": {
          "base_uri": "https://localhost:8080/",
          "height": 178
        },
        "id": "8q01sCTBtvqN",
        "outputId": "003f886f-2360-4f78-df06-23d9957868ba"
      },
      "execution_count": null,
      "outputs": [
        {
          "output_type": "execute_result",
          "data": {
            "text/plain": [
              "eval_euc\n",
              "0    0.912027\n",
              "1    0.087973\n",
              "Name: proportion, dtype: float64"
            ],
            "text/html": [
              "<div>\n",
              "<style scoped>\n",
              "    .dataframe tbody tr th:only-of-type {\n",
              "        vertical-align: middle;\n",
              "    }\n",
              "\n",
              "    .dataframe tbody tr th {\n",
              "        vertical-align: top;\n",
              "    }\n",
              "\n",
              "    .dataframe thead th {\n",
              "        text-align: right;\n",
              "    }\n",
              "</style>\n",
              "<table border=\"1\" class=\"dataframe\">\n",
              "  <thead>\n",
              "    <tr style=\"text-align: right;\">\n",
              "      <th></th>\n",
              "      <th>proportion</th>\n",
              "    </tr>\n",
              "    <tr>\n",
              "      <th>eval_euc</th>\n",
              "      <th></th>\n",
              "    </tr>\n",
              "  </thead>\n",
              "  <tbody>\n",
              "    <tr>\n",
              "      <th>0</th>\n",
              "      <td>0.912027</td>\n",
              "    </tr>\n",
              "    <tr>\n",
              "      <th>1</th>\n",
              "      <td>0.087973</td>\n",
              "    </tr>\n",
              "  </tbody>\n",
              "</table>\n",
              "</div><br><label><b>dtype:</b> float64</label>"
            ]
          },
          "metadata": {},
          "execution_count": 42
        }
      ]
    },
    {
      "cell_type": "code",
      "source": [
        "precision_cos = precision_score(df_glove.index, df_glove.top_ind_search_cos, average='micro')\n",
        "precision_euc = precision_score(df_glove.index, df_glove.top_ind_search_euc, average='micro')\n",
        "\n",
        "print(precision_cos, precision_euc)"
      ],
      "metadata": {
        "colab": {
          "base_uri": "https://localhost:8080/"
        },
        "id": "F30ttyGtYhdZ",
        "outputId": "34e8f164-2485-4624-ccf1-2371ae55b7c4"
      },
      "execution_count": null,
      "outputs": [
        {
          "output_type": "stream",
          "name": "stdout",
          "text": [
            "0.11276187296552875 0.08797262332025707\n"
          ]
        }
      ]
    },
    {
      "cell_type": "markdown",
      "source": [
        "### обучение Word2Vec на тексте из датасета"
      ],
      "metadata": {
        "id": "vickGC_tD-iT"
      }
    },
    {
      "cell_type": "code",
      "execution_count": 21,
      "metadata": {
        "colab": {
          "base_uri": "https://localhost:8080/"
        },
        "outputId": "ed470078-9bce-4d7c-9571-9f7abe604644",
        "id": "z1SW46L3ERIk"
      },
      "outputs": [
        {
          "output_type": "execute_result",
          "data": {
            "text/plain": [
              "Index(['context', 'question', 'answer'], dtype='object')"
            ]
          },
          "metadata": {},
          "execution_count": 21
        }
      ],
      "source": [
        "df_w2v = df.copy()\n",
        "df_w2v.columns"
      ]
    },
    {
      "cell_type": "markdown",
      "source": [
        "Препроцессинг текста для подачи в w2vec для обучения модели"
      ],
      "metadata": {
        "id": "Wgnjwbn8BDUV"
      }
    },
    {
      "cell_type": "code",
      "source": [
        "STOPWORDS = set(nltk.corpus.stopwords.words('english') + ['-', '-', '–','&'])\n",
        "\n",
        "# набор функций для усиленного препроцессинга текста, чтобы в облаке слов не было предлогов, артиклей, цифр и других шумов\n",
        "\n",
        "# оставляем только слова и цифры, убираем пункцуацию\n",
        "def words_only(text):\n",
        "    return \" \".join(re.compile(\"[0-9A-Za-z]+\").findall(text))\n",
        "\n",
        "# удаление слов меньше 2-х букв\n",
        "def remove_word(text):\n",
        "    return \" \".join([token for token in text.split() if len(token) > 3])\n",
        "\n",
        "# удаление стоп слов\n",
        "def remove_stopwords(text, mystopwords = STOPWORDS):\n",
        "    try:\n",
        "        return \" \".join([token for token in text.split() if not token in mystopwords])\n",
        "    except:\n",
        "        return \"\"\n",
        "# приведение к нормальной форме\n",
        "# def lemmatize(text):\n",
        "#     lem = nltk.WordNetLemmatizer()\n",
        "#     try:\n",
        "#         return  \" \".join([lem.lemmatize(w) for w in text.split()])\n",
        "#     except:\n",
        "#         return \" \"\n",
        "\n",
        "# применение всех препроцессоров\n",
        "def prep(text):\n",
        "    # return remove_stopwords(lemmatize(remove_word(words_only(text.lower()))))\n",
        "    return remove_stopwords(remove_word(words_only(text.lower())))\n"
      ],
      "metadata": {
        "id": "TY5tNi5lBF7r"
      },
      "execution_count": 22,
      "outputs": []
    },
    {
      "cell_type": "code",
      "source": [
        "def clear_text(text):\n",
        "    #  разбиение на предложения + препроцессинг\n",
        "    sentences = []\n",
        "    for text_i in text:\n",
        "        for el in sent_tokenize(text_i):\n",
        "            sentences.append(el)\n",
        "\n",
        "    return [prep(sentence).split() for sentence in tqdm(sentences)]"
      ],
      "metadata": {
        "id": "6quGfwu3dHa7"
      },
      "execution_count": 23,
      "outputs": []
    },
    {
      "cell_type": "code",
      "source": [],
      "metadata": {
        "colab": {
          "base_uri": "https://localhost:8080/"
        },
        "id": "Fy4-cLKrLhRx",
        "outputId": "36b86c87-ddd0-4c27-8933-e9c503411bca"
      },
      "execution_count": 25,
      "outputs": [
        {
          "output_type": "stream",
          "name": "stderr",
          "text": [
            "[nltk_data] Downloading package punkt_tab to /root/nltk_data...\n",
            "[nltk_data]   Unzipping tokenizers/punkt_tab.zip.\n"
          ]
        },
        {
          "output_type": "execute_result",
          "data": {
            "text/plain": [
              "True"
            ]
          },
          "metadata": {},
          "execution_count": 25
        }
      ]
    },
    {
      "cell_type": "code",
      "source": [
        "corpus_1 = clear_text(df_w2v.context) # колонка с контекстами\n",
        "corpus_2 = clear_text(df_w2v.question) # колонка с вопросами\n",
        "text = corpus_1 + corpus_2\n",
        "len(text)"
      ],
      "metadata": {
        "colab": {
          "base_uri": "https://localhost:8080/"
        },
        "id": "VPQ7rbcjJmQI",
        "outputId": "0ba8e35b-5d94-4909-d6a6-800e4578a3ad"
      },
      "execution_count": 26,
      "outputs": [
        {
          "output_type": "stream",
          "name": "stderr",
          "text": [
            "100%|██████████| 348584/348584 [00:07<00:00, 43574.20it/s]\n",
            "100%|██████████| 12064/12064 [00:00<00:00, 49635.57it/s]\n"
          ]
        },
        {
          "output_type": "execute_result",
          "data": {
            "text/plain": [
              "360648"
            ]
          },
          "metadata": {},
          "execution_count": 26
        }
      ]
    },
    {
      "cell_type": "markdown",
      "source": [
        "Здесь мы обучаем две моддели с длиной вектора 1536 (это понадобиться в будущем для эксперимента).\n",
        "\n",
        "И вторую модель с векторами длиной в 1000, на которых будем производить оценку работы с w2vec."
      ],
      "metadata": {
        "id": "KWsUbAOunAN6"
      }
    },
    {
      "cell_type": "code",
      "source": [
        "# инициализация модели\n",
        "# используем Skip-gram она использует текущее слово, чтобы предугадывать окружающие его слова.\n",
        "# при использовании cbow предсказывает текущее слово, исходя из окружающего его контекста поиск похожих слов производится хуже\n",
        "# min_count=1 - берем слова, даже если они встретились 1 раз,  window=10 - окно контекста 10 слов\n",
        "\n",
        "# Модель для эксперимента с замерами времени\n",
        "%%time\n",
        "model_w2v_1536 = Word2Vec(text, workers=4, vector_size=1536, min_count=1, sg = 1, window=10, seed=42)"
      ],
      "metadata": {
        "colab": {
          "base_uri": "https://localhost:8080/"
        },
        "id": "1NEjIHt7AR-B",
        "outputId": "20eb8a36-16f0-4789-d9d4-b61fedbc32b8"
      },
      "execution_count": 28,
      "outputs": [
        {
          "output_type": "stream",
          "name": "stdout",
          "text": [
            "CPU times: user 25min 28s, sys: 5.36 s, total: 25min 33s\n",
            "Wall time: 15min 36s\n"
          ]
        }
      ]
    },
    {
      "cell_type": "code",
      "source": [
        "# данные для эксперимента\n",
        "w2v_rag_1536 = model_w2v_1536.wv\n",
        "df_w2v_1536 = df_w2v.copy()\n",
        "df_w2v_1536['context_vec'] = df_w2v_1536['context'].apply(lambda x: get_phrase_embedding(x, w2v_rag_1536))"
      ],
      "metadata": {
        "id": "i-a7kSSoLqwE"
      },
      "execution_count": 29,
      "outputs": []
    },
    {
      "cell_type": "markdown",
      "source": [
        "Обучение своей модели с длиной эмбеддинга 1000. По ранее проведенному EDA было установлено, что максимальная длина текстов 1200, чтобы не терять контекст, установим длину вектора в 1000"
      ],
      "metadata": {
        "id": "bwoZpdAJ_kPh"
      }
    },
    {
      "cell_type": "code",
      "source": [
        "# рабочая модель, которую оцениваем по качеству поиска\n",
        "%%time\n",
        "model_w2v_1000 = Word2Vec(text, workers=4, vector_size=1000, min_count=1, sg = 1, window=10, seed=42)"
      ],
      "metadata": {
        "colab": {
          "base_uri": "https://localhost:8080/"
        },
        "id": "OuqIQ4suPO8N",
        "outputId": "377e98b3-871f-4789-f51f-4a29cba7fa80"
      },
      "execution_count": 30,
      "outputs": [
        {
          "output_type": "stream",
          "name": "stdout",
          "text": [
            "CPU times: user 19min, sys: 3.93 s, total: 19min 4s\n",
            "Wall time: 11min 32s\n"
          ]
        }
      ]
    },
    {
      "cell_type": "code",
      "source": [
        "# model_w2v_1536.save(\"word2vec.model\")\n",
        "# model_w2v_1000.save(\"word2vec_1000.model\")\n",
        "# model_w2v = Word2Vec.load(\"word2vec.model\")"
      ],
      "metadata": {
        "id": "jn3ofJkErwKR"
      },
      "execution_count": null,
      "outputs": []
    },
    {
      "cell_type": "code",
      "source": [
        "# модель с длиной эмбеддинга 1000\n",
        "w2v_rag_1000= model_w2v_1000.wv"
      ],
      "metadata": {
        "id": "YMWlYBQmXqhJ"
      },
      "execution_count": 32,
      "outputs": []
    },
    {
      "cell_type": "code",
      "source": [
        "# проверка работы модели\n",
        "w2v_rag_1000.most_similar(positive=[\"international\"], topn=5)"
      ],
      "metadata": {
        "colab": {
          "base_uri": "https://localhost:8080/"
        },
        "id": "mlcyTrk__nAG",
        "outputId": "c1fceae1-ddf9-4477-9516-f86be4e55fba"
      },
      "execution_count": 35,
      "outputs": [
        {
          "output_type": "execute_result",
          "data": {
            "text/plain": [
              "[('worldskills', 0.5818547606468201),\n",
              " ('olympiad', 0.5749632716178894),\n",
              " ('worldteam', 0.562467634677887),\n",
              " ('federation', 0.5603850483894348),\n",
              " ('unctad', 0.5595822930335999)]"
            ]
          },
          "metadata": {},
          "execution_count": 35
        }
      ]
    },
    {
      "cell_type": "markdown",
      "source": [
        "#### search_02(оценка качества)"
      ],
      "metadata": {
        "id": "aBzLyXYVUEfD"
      }
    },
    {
      "cell_type": "code",
      "source": [
        "# Добавляем столбец с эмбеддингами контекста (длина вектора 1000) в датасет, чтобы использовать дальше\n",
        "df_w2v['context_vec'] = df_w2v['context'].apply(lambda x: get_phrase_embedding(x, w2v_rag_1000))"
      ],
      "metadata": {
        "id": "DS2PpmG2T8Su"
      },
      "execution_count": 36,
      "outputs": []
    },
    {
      "cell_type": "code",
      "source": [
        "# расчет близости и дистанции для каждого вопроса со своим контекстом\n",
        "cos_sim = similarity(df_w2v, 'cos', w2v_rag_1000)\n",
        "euc_dist = similarity(df_w2v, 'euc', w2v_rag_1000)\n",
        "df_w2v['cos_similarity_w2v'] = cos_sim\n",
        "df_w2v['euc_dict_w2v'] = euc_dist\n",
        "df_w2v"
      ],
      "metadata": {
        "colab": {
          "base_uri": "https://localhost:8080/",
          "height": 459
        },
        "outputId": "2e8461ec-8b73-46a8-e2d5-1a2ea5b19059",
        "id": "LzbmF9MgVvKi"
      },
      "execution_count": 37,
      "outputs": [
        {
          "output_type": "stream",
          "name": "stderr",
          "text": [
            "11981it [00:41, 287.83it/s]\n",
            "11981it [00:38, 308.95it/s]\n"
          ]
        },
        {
          "output_type": "execute_result",
          "data": {
            "text/plain": [
              "                                                 context  \\\n",
              "0      caption: tasmanian berry grower nic hansen sho...   \n",
              "1      rwsn collaborations southern africa self-suppl...   \n",
              "2      all android applications categories descriptio...   \n",
              "3      how unequal is india? the question is simple, ...   \n",
              "4      gunnar nelson took his time on the feet agains...   \n",
              "...                                                  ...   \n",
              "11976  fuzzy's ultra premium vodka the myth, the man,...   \n",
              "11977  swedish grand prix rider malin nilsson got mar...   \n",
              "11978  the cracchiolo law library of the james e. rog...   \n",
              "11979  2nd physical emag store opens in mammut online...   \n",
              "11980  about this cadillac 2019 cadillac xt5 fwd 4dr ...   \n",
              "\n",
              "                                                question  \\\n",
              "0      what is the berry export summary 2028 and what...   \n",
              "1      what are some of the benefits reported from ha...   \n",
              "2      what are the unique features of the coolands f...   \n",
              "3      what is the main difference between the nation...   \n",
              "4      how did gunnar nelson win the fight against za...   \n",
              "...                                                  ...   \n",
              "11976  what are some of the achievements of fuzzy zoe...   \n",
              "11977        who did malin nilsson marry on 2 june 2018?   \n",
              "11978  what is the fellowship in law librarianship of...   \n",
              "11979  where has the second physical emag store been ...   \n",
              "11980  what are some of the key features of the 2019 ...   \n",
              "\n",
              "                                                  answer  \\\n",
              "0      the berry export summary 2028 is a dedicated e...   \n",
              "1      benefits reported from having access to self-s...   \n",
              "2      the unique features of the coolands for twitte...   \n",
              "3      the main difference between the nss and the ih...   \n",
              "4      gunnar nelson won the fight against zak cummin...   \n",
              "...                                                  ...   \n",
              "11976  fuzzy zoeller is known for his golfing success...   \n",
              "11977  malin nilsson got married to her partner, germ...   \n",
              "11978  the fellowship in law librarianship is a progr...   \n",
              "11979  the second physical emag store has been opened...   \n",
              "11980  the 2019 cadillac xt5 comes equipped with feat...   \n",
              "\n",
              "                                             context_vec  cos_similarity_w2v  \\\n",
              "0      [0.047799077, 0.040789414, -0.019665565, -0.02...            0.854590   \n",
              "1      [0.0035377191, 0.018274318, -0.03173047, 0.006...            0.911136   \n",
              "2      [0.0053859954, 0.0037320252, -0.004880235, 0.0...            0.762634   \n",
              "3      [0.035331793, 0.016483296, -0.021997722, 0.014...            0.924179   \n",
              "4      [0.033706956, -0.011623101, 0.0009981426, 0.03...            0.819557   \n",
              "...                                                  ...                 ...   \n",
              "11976  [0.03114631, -0.016841419, -0.0041131047, 0.02...            0.821097   \n",
              "11977  [0.031853847, 0.0105595905, 0.00010517031, -0....            0.816099   \n",
              "11978  [0.02591402, 0.0020411639, -0.053499795, -0.02...            0.912186   \n",
              "11979  [-0.003168997, 0.028563568, 0.0001896221, 0.02...            0.880422   \n",
              "11980  [0.01612393, 0.00061646616, -0.020025874, 0.02...            0.681391   \n",
              "\n",
              "       euc_dict_w2v  \n",
              "0          1.181168  \n",
              "1          1.175348  \n",
              "2          1.623799  \n",
              "3          0.946295  \n",
              "4          1.322080  \n",
              "...             ...  \n",
              "11976      1.344740  \n",
              "11977      1.266028  \n",
              "11978      1.016505  \n",
              "11979      1.215781  \n",
              "11980      1.965363  \n",
              "\n",
              "[11981 rows x 6 columns]"
            ],
            "text/html": [
              "\n",
              "  <div id=\"df-86e1b7ab-f896-4c6c-983f-e8120f7075aa\" class=\"colab-df-container\">\n",
              "    <div>\n",
              "<style scoped>\n",
              "    .dataframe tbody tr th:only-of-type {\n",
              "        vertical-align: middle;\n",
              "    }\n",
              "\n",
              "    .dataframe tbody tr th {\n",
              "        vertical-align: top;\n",
              "    }\n",
              "\n",
              "    .dataframe thead th {\n",
              "        text-align: right;\n",
              "    }\n",
              "</style>\n",
              "<table border=\"1\" class=\"dataframe\">\n",
              "  <thead>\n",
              "    <tr style=\"text-align: right;\">\n",
              "      <th></th>\n",
              "      <th>context</th>\n",
              "      <th>question</th>\n",
              "      <th>answer</th>\n",
              "      <th>context_vec</th>\n",
              "      <th>cos_similarity_w2v</th>\n",
              "      <th>euc_dict_w2v</th>\n",
              "    </tr>\n",
              "  </thead>\n",
              "  <tbody>\n",
              "    <tr>\n",
              "      <th>0</th>\n",
              "      <td>caption: tasmanian berry grower nic hansen sho...</td>\n",
              "      <td>what is the berry export summary 2028 and what...</td>\n",
              "      <td>the berry export summary 2028 is a dedicated e...</td>\n",
              "      <td>[0.047799077, 0.040789414, -0.019665565, -0.02...</td>\n",
              "      <td>0.854590</td>\n",
              "      <td>1.181168</td>\n",
              "    </tr>\n",
              "    <tr>\n",
              "      <th>1</th>\n",
              "      <td>rwsn collaborations southern africa self-suppl...</td>\n",
              "      <td>what are some of the benefits reported from ha...</td>\n",
              "      <td>benefits reported from having access to self-s...</td>\n",
              "      <td>[0.0035377191, 0.018274318, -0.03173047, 0.006...</td>\n",
              "      <td>0.911136</td>\n",
              "      <td>1.175348</td>\n",
              "    </tr>\n",
              "    <tr>\n",
              "      <th>2</th>\n",
              "      <td>all android applications categories descriptio...</td>\n",
              "      <td>what are the unique features of the coolands f...</td>\n",
              "      <td>the unique features of the coolands for twitte...</td>\n",
              "      <td>[0.0053859954, 0.0037320252, -0.004880235, 0.0...</td>\n",
              "      <td>0.762634</td>\n",
              "      <td>1.623799</td>\n",
              "    </tr>\n",
              "    <tr>\n",
              "      <th>3</th>\n",
              "      <td>how unequal is india? the question is simple, ...</td>\n",
              "      <td>what is the main difference between the nation...</td>\n",
              "      <td>the main difference between the nss and the ih...</td>\n",
              "      <td>[0.035331793, 0.016483296, -0.021997722, 0.014...</td>\n",
              "      <td>0.924179</td>\n",
              "      <td>0.946295</td>\n",
              "    </tr>\n",
              "    <tr>\n",
              "      <th>4</th>\n",
              "      <td>gunnar nelson took his time on the feet agains...</td>\n",
              "      <td>how did gunnar nelson win the fight against za...</td>\n",
              "      <td>gunnar nelson won the fight against zak cummin...</td>\n",
              "      <td>[0.033706956, -0.011623101, 0.0009981426, 0.03...</td>\n",
              "      <td>0.819557</td>\n",
              "      <td>1.322080</td>\n",
              "    </tr>\n",
              "    <tr>\n",
              "      <th>...</th>\n",
              "      <td>...</td>\n",
              "      <td>...</td>\n",
              "      <td>...</td>\n",
              "      <td>...</td>\n",
              "      <td>...</td>\n",
              "      <td>...</td>\n",
              "    </tr>\n",
              "    <tr>\n",
              "      <th>11976</th>\n",
              "      <td>fuzzy's ultra premium vodka the myth, the man,...</td>\n",
              "      <td>what are some of the achievements of fuzzy zoe...</td>\n",
              "      <td>fuzzy zoeller is known for his golfing success...</td>\n",
              "      <td>[0.03114631, -0.016841419, -0.0041131047, 0.02...</td>\n",
              "      <td>0.821097</td>\n",
              "      <td>1.344740</td>\n",
              "    </tr>\n",
              "    <tr>\n",
              "      <th>11977</th>\n",
              "      <td>swedish grand prix rider malin nilsson got mar...</td>\n",
              "      <td>who did malin nilsson marry on 2 june 2018?</td>\n",
              "      <td>malin nilsson got married to her partner, germ...</td>\n",
              "      <td>[0.031853847, 0.0105595905, 0.00010517031, -0....</td>\n",
              "      <td>0.816099</td>\n",
              "      <td>1.266028</td>\n",
              "    </tr>\n",
              "    <tr>\n",
              "      <th>11978</th>\n",
              "      <td>the cracchiolo law library of the james e. rog...</td>\n",
              "      <td>what is the fellowship in law librarianship of...</td>\n",
              "      <td>the fellowship in law librarianship is a progr...</td>\n",
              "      <td>[0.02591402, 0.0020411639, -0.053499795, -0.02...</td>\n",
              "      <td>0.912186</td>\n",
              "      <td>1.016505</td>\n",
              "    </tr>\n",
              "    <tr>\n",
              "      <th>11979</th>\n",
              "      <td>2nd physical emag store opens in mammut online...</td>\n",
              "      <td>where has the second physical emag store been ...</td>\n",
              "      <td>the second physical emag store has been opened...</td>\n",
              "      <td>[-0.003168997, 0.028563568, 0.0001896221, 0.02...</td>\n",
              "      <td>0.880422</td>\n",
              "      <td>1.215781</td>\n",
              "    </tr>\n",
              "    <tr>\n",
              "      <th>11980</th>\n",
              "      <td>about this cadillac 2019 cadillac xt5 fwd 4dr ...</td>\n",
              "      <td>what are some of the key features of the 2019 ...</td>\n",
              "      <td>the 2019 cadillac xt5 comes equipped with feat...</td>\n",
              "      <td>[0.01612393, 0.00061646616, -0.020025874, 0.02...</td>\n",
              "      <td>0.681391</td>\n",
              "      <td>1.965363</td>\n",
              "    </tr>\n",
              "  </tbody>\n",
              "</table>\n",
              "<p>11981 rows × 6 columns</p>\n",
              "</div>\n",
              "    <div class=\"colab-df-buttons\">\n",
              "\n",
              "  <div class=\"colab-df-container\">\n",
              "    <button class=\"colab-df-convert\" onclick=\"convertToInteractive('df-86e1b7ab-f896-4c6c-983f-e8120f7075aa')\"\n",
              "            title=\"Convert this dataframe to an interactive table.\"\n",
              "            style=\"display:none;\">\n",
              "\n",
              "  <svg xmlns=\"http://www.w3.org/2000/svg\" height=\"24px\" viewBox=\"0 -960 960 960\">\n",
              "    <path d=\"M120-120v-720h720v720H120Zm60-500h600v-160H180v160Zm220 220h160v-160H400v160Zm0 220h160v-160H400v160ZM180-400h160v-160H180v160Zm440 0h160v-160H620v160ZM180-180h160v-160H180v160Zm440 0h160v-160H620v160Z\"/>\n",
              "  </svg>\n",
              "    </button>\n",
              "\n",
              "  <style>\n",
              "    .colab-df-container {\n",
              "      display:flex;\n",
              "      gap: 12px;\n",
              "    }\n",
              "\n",
              "    .colab-df-convert {\n",
              "      background-color: #E8F0FE;\n",
              "      border: none;\n",
              "      border-radius: 50%;\n",
              "      cursor: pointer;\n",
              "      display: none;\n",
              "      fill: #1967D2;\n",
              "      height: 32px;\n",
              "      padding: 0 0 0 0;\n",
              "      width: 32px;\n",
              "    }\n",
              "\n",
              "    .colab-df-convert:hover {\n",
              "      background-color: #E2EBFA;\n",
              "      box-shadow: 0px 1px 2px rgba(60, 64, 67, 0.3), 0px 1px 3px 1px rgba(60, 64, 67, 0.15);\n",
              "      fill: #174EA6;\n",
              "    }\n",
              "\n",
              "    .colab-df-buttons div {\n",
              "      margin-bottom: 4px;\n",
              "    }\n",
              "\n",
              "    [theme=dark] .colab-df-convert {\n",
              "      background-color: #3B4455;\n",
              "      fill: #D2E3FC;\n",
              "    }\n",
              "\n",
              "    [theme=dark] .colab-df-convert:hover {\n",
              "      background-color: #434B5C;\n",
              "      box-shadow: 0px 1px 3px 1px rgba(0, 0, 0, 0.15);\n",
              "      filter: drop-shadow(0px 1px 2px rgba(0, 0, 0, 0.3));\n",
              "      fill: #FFFFFF;\n",
              "    }\n",
              "  </style>\n",
              "\n",
              "    <script>\n",
              "      const buttonEl =\n",
              "        document.querySelector('#df-86e1b7ab-f896-4c6c-983f-e8120f7075aa button.colab-df-convert');\n",
              "      buttonEl.style.display =\n",
              "        google.colab.kernel.accessAllowed ? 'block' : 'none';\n",
              "\n",
              "      async function convertToInteractive(key) {\n",
              "        const element = document.querySelector('#df-86e1b7ab-f896-4c6c-983f-e8120f7075aa');\n",
              "        const dataTable =\n",
              "          await google.colab.kernel.invokeFunction('convertToInteractive',\n",
              "                                                    [key], {});\n",
              "        if (!dataTable) return;\n",
              "\n",
              "        const docLinkHtml = 'Like what you see? Visit the ' +\n",
              "          '<a target=\"_blank\" href=https://colab.research.google.com/notebooks/data_table.ipynb>data table notebook</a>'\n",
              "          + ' to learn more about interactive tables.';\n",
              "        element.innerHTML = '';\n",
              "        dataTable['output_type'] = 'display_data';\n",
              "        await google.colab.output.renderOutput(dataTable, element);\n",
              "        const docLink = document.createElement('div');\n",
              "        docLink.innerHTML = docLinkHtml;\n",
              "        element.appendChild(docLink);\n",
              "      }\n",
              "    </script>\n",
              "  </div>\n",
              "\n",
              "\n",
              "<div id=\"df-f6b43d8a-f68c-4b82-abcf-680b3de70150\">\n",
              "  <button class=\"colab-df-quickchart\" onclick=\"quickchart('df-f6b43d8a-f68c-4b82-abcf-680b3de70150')\"\n",
              "            title=\"Suggest charts\"\n",
              "            style=\"display:none;\">\n",
              "\n",
              "<svg xmlns=\"http://www.w3.org/2000/svg\" height=\"24px\"viewBox=\"0 0 24 24\"\n",
              "     width=\"24px\">\n",
              "    <g>\n",
              "        <path d=\"M19 3H5c-1.1 0-2 .9-2 2v14c0 1.1.9 2 2 2h14c1.1 0 2-.9 2-2V5c0-1.1-.9-2-2-2zM9 17H7v-7h2v7zm4 0h-2V7h2v10zm4 0h-2v-4h2v4z\"/>\n",
              "    </g>\n",
              "</svg>\n",
              "  </button>\n",
              "\n",
              "<style>\n",
              "  .colab-df-quickchart {\n",
              "      --bg-color: #E8F0FE;\n",
              "      --fill-color: #1967D2;\n",
              "      --hover-bg-color: #E2EBFA;\n",
              "      --hover-fill-color: #174EA6;\n",
              "      --disabled-fill-color: #AAA;\n",
              "      --disabled-bg-color: #DDD;\n",
              "  }\n",
              "\n",
              "  [theme=dark] .colab-df-quickchart {\n",
              "      --bg-color: #3B4455;\n",
              "      --fill-color: #D2E3FC;\n",
              "      --hover-bg-color: #434B5C;\n",
              "      --hover-fill-color: #FFFFFF;\n",
              "      --disabled-bg-color: #3B4455;\n",
              "      --disabled-fill-color: #666;\n",
              "  }\n",
              "\n",
              "  .colab-df-quickchart {\n",
              "    background-color: var(--bg-color);\n",
              "    border: none;\n",
              "    border-radius: 50%;\n",
              "    cursor: pointer;\n",
              "    display: none;\n",
              "    fill: var(--fill-color);\n",
              "    height: 32px;\n",
              "    padding: 0;\n",
              "    width: 32px;\n",
              "  }\n",
              "\n",
              "  .colab-df-quickchart:hover {\n",
              "    background-color: var(--hover-bg-color);\n",
              "    box-shadow: 0 1px 2px rgba(60, 64, 67, 0.3), 0 1px 3px 1px rgba(60, 64, 67, 0.15);\n",
              "    fill: var(--button-hover-fill-color);\n",
              "  }\n",
              "\n",
              "  .colab-df-quickchart-complete:disabled,\n",
              "  .colab-df-quickchart-complete:disabled:hover {\n",
              "    background-color: var(--disabled-bg-color);\n",
              "    fill: var(--disabled-fill-color);\n",
              "    box-shadow: none;\n",
              "  }\n",
              "\n",
              "  .colab-df-spinner {\n",
              "    border: 2px solid var(--fill-color);\n",
              "    border-color: transparent;\n",
              "    border-bottom-color: var(--fill-color);\n",
              "    animation:\n",
              "      spin 1s steps(1) infinite;\n",
              "  }\n",
              "\n",
              "  @keyframes spin {\n",
              "    0% {\n",
              "      border-color: transparent;\n",
              "      border-bottom-color: var(--fill-color);\n",
              "      border-left-color: var(--fill-color);\n",
              "    }\n",
              "    20% {\n",
              "      border-color: transparent;\n",
              "      border-left-color: var(--fill-color);\n",
              "      border-top-color: var(--fill-color);\n",
              "    }\n",
              "    30% {\n",
              "      border-color: transparent;\n",
              "      border-left-color: var(--fill-color);\n",
              "      border-top-color: var(--fill-color);\n",
              "      border-right-color: var(--fill-color);\n",
              "    }\n",
              "    40% {\n",
              "      border-color: transparent;\n",
              "      border-right-color: var(--fill-color);\n",
              "      border-top-color: var(--fill-color);\n",
              "    }\n",
              "    60% {\n",
              "      border-color: transparent;\n",
              "      border-right-color: var(--fill-color);\n",
              "    }\n",
              "    80% {\n",
              "      border-color: transparent;\n",
              "      border-right-color: var(--fill-color);\n",
              "      border-bottom-color: var(--fill-color);\n",
              "    }\n",
              "    90% {\n",
              "      border-color: transparent;\n",
              "      border-bottom-color: var(--fill-color);\n",
              "    }\n",
              "  }\n",
              "</style>\n",
              "\n",
              "  <script>\n",
              "    async function quickchart(key) {\n",
              "      const quickchartButtonEl =\n",
              "        document.querySelector('#' + key + ' button');\n",
              "      quickchartButtonEl.disabled = true;  // To prevent multiple clicks.\n",
              "      quickchartButtonEl.classList.add('colab-df-spinner');\n",
              "      try {\n",
              "        const charts = await google.colab.kernel.invokeFunction(\n",
              "            'suggestCharts', [key], {});\n",
              "      } catch (error) {\n",
              "        console.error('Error during call to suggestCharts:', error);\n",
              "      }\n",
              "      quickchartButtonEl.classList.remove('colab-df-spinner');\n",
              "      quickchartButtonEl.classList.add('colab-df-quickchart-complete');\n",
              "    }\n",
              "    (() => {\n",
              "      let quickchartButtonEl =\n",
              "        document.querySelector('#df-f6b43d8a-f68c-4b82-abcf-680b3de70150 button');\n",
              "      quickchartButtonEl.style.display =\n",
              "        google.colab.kernel.accessAllowed ? 'block' : 'none';\n",
              "    })();\n",
              "  </script>\n",
              "</div>\n",
              "    </div>\n",
              "  </div>\n"
            ],
            "application/vnd.google.colaboratory.intrinsic+json": {
              "type": "dataframe",
              "variable_name": "df_w2v",
              "summary": "{\n  \"name\": \"df_w2v\",\n  \"rows\": 11981,\n  \"fields\": [\n    {\n      \"column\": \"context\",\n      \"properties\": {\n        \"dtype\": \"string\",\n        \"num_unique_values\": 11981,\n        \"samples\": [\n          \"module information course delivery assessment learning outcomes on successful completion of this module students should be able to: critically evaluate relevant texts and consider the implications of these texts in performance;e. situate ancient and adapted texts in their cultural, political and historical contexts. demonstrate an awareness of the wider cultural and theoretical issues raised by adaptations of classical texts. produce organized, coherently structured and critically engaged written and oral work. aims the module focuses on adaptations and rewrites of \\\"the classics\\\" of antiquity with a view to asking the followng questions: what is a classic? is canonical status afforded to such work purely on the grounds of textual antiquity? why rewrite/adapt such works? what are the theatrical strategies of such reworkings? by looking at a variety of adaptations and rewrites students will develop an understanding of canon-formation and rewriting/performative rereading as a critical paradigm. brief description this module will provide a thorough introduction to plays that are representative of the key genres of ancient drama (satyr, tragedy and comedy) whilst providing a sound foundation for understanding how these ancient works have been and continue to be adapted and rewritten, for example as political protest, pacifist messages, critique of aesthetics and canonicity, a contemplation of our present age and beyond. in this respect, the module will provide a thorough overview of ancient drama, adaptation theory and a selection of modern (twentieth century and twenty first century) adaptations and rewrites. content lecture two: the trackers of oxyrynchus and sophocles' fragments: satyric drama and its regenerative potential lecture three: rewriting sophocles' antigone: brecht, fugard and gambaro - an overview lecture four: fugard, kani and ntshona's the island and \\\"life\\\" art: rewriting as political protest lecture five: pacifist antigones: gambaro's antigona furiosa, shaw's bury the dead and brecht's version of antigone after holderlin (screening of anouilh's antigone) lecture six: irish medeas; marina carr's by the bog o' the cats; (screening of meda - pasolini and lars von trier arranged) lecture seven: oedipus, freud and steven berkoff's greek; screening of lee breuer's gospel at colonos arranged lecture eight: genre and the ancients - from comedy to tragedy - tony harrison's the common chorus, aristophanes' lysistrata and euripides' the trojan women (screening of the trojan women arranged) lecture nine: why adapt and rewrite? lecture ten: tradition's progressive and subversive potential - a summation and revision pointers (maximum of 9 play texts accompanied by at least 6 screenings of play extracts)\",\n          \"jimmy savile, cyril smith, stuart hall and now max clifford. four powerful men, big figures with high public profiles. and all paedophiles who abused their positions to prey on vulnerable youngsters. savile and smith were, certainly, protected by the establishment. political clout intimidated police who protected the villains and failed their victims. savile escaped justice by dying before we knew the vile depths of his reign of terror. maggie thatcher\\u2019s favourite was considered off limits by the cops. rochdale lib dem mp cyril smith also largely cheated accounting for his offences. it wasn\\u2019t until after his death that labour mp simon danczuk was able to expose smith\\u2019s sadism. hall was sheltered by bbc fame but is now deservedly behind bars. publicist clifford will get his just deserts when sentenced on friday. sex abuse victims i\\u2019ve spoken to were doubly tormented when nobody listened to them. their complaints were dismissed, their testimony often rejected. they were ignored. the result was abusers escaped punishment to continue abusing. which brings me to the case of the tony blair minister highlighted in yesterday\\u2019s daily mirror. the allegation is this minister was involved in a london child sex ring in the 1980s. and a police inquiry was pulled in the 1990s when his name cropped up. hand on heart: i don\\u2019t know if he is guilty of a heinous crime or if his visits to a children\\u2019s home were misunderstood. but i do know there must be a thorough investigation. because the allegations are so serious they mustn\\u2019t be swept under the carpet. there must not be another cover-up. we owe the truth to victims of abuse. if i was the minister under suspicion and innocent, i\\u2019d be shouting loudest for an investigation to clear my name. over recent years so many people have come forward claiming they were abused by politicians there\\u2019s an argument for a wider inquiry. crusading mp tom watson spoke from a position of knowledge when he demanded an inquiry into a \\u201cpowerful paedophile ring\\u201d linked to the thatcher regime. the names of those linked to the elm guest house in south west london, a hive of abuse with cyril smith among the visitors, will shock you if they ever become public. victims who were insulted by cover-ups in the past deserve the truth in the future. we can\\u2019t right past wrongs but we owe it to those who endured unimaginable torment to learn from past mistakes.\",\n          \"this superior detached residence is situated in a quiet yet much sought after location within close proximity to the town centre and all local amenities. this property has been well maintained and is further enhanced by its spacious interior and extensive grounds making this an excellent family home. porch: 4\\u20191\\u2019\\u2019x7\\u20199\\u2019\\u2019, carpet flooring entrance hall: 7\\u20193\\u2019\\u2019 x 10\\u201910\\u201d carpet flooring, beams in ceiling, downlights, cloakroom, wc w.c: 4\\u201910\\u201d x 3\\u20193\\u201d tiled flooring, white suite, partially tiled walls living room: 11\\u201910\\u201d x 17\\u20193\\u201d carpet flooring, brick fireplace, bay window, tv point, beamed ceiling, down lights, telephone point. kitchen/dinette: 16\\u20199\\u201d x 10\\u20196\\u2019\\u2019 dark oak high and low level units, free standing cooker, freestanding dishwasher, free standing fridge freezer, extractor fan, tv point, tile flooring, partially tiled walls, beams in ceiling. dining room: 11\\u20198\\u2019\\u2019 x 12\\u201910\\u2019\\u2019 carpet flooring, patio doors, serving hatch from kitchen utility room: 12\\u2019x7\\u20194\\u2019\\u2019 tile flooring, plumbed for washing machine, s.s sink. landing: 17\\u201910\\u2019\\u2019x6\\u20191\\u2019\\u2019 carpet flooring, spot lights, hot press. bathroom: 7\\u20191\\u201d x 6\\u20191\\u201d cream suite, bath with mains shower above, tile flooring, partially tiled walls. master bedroom: 11\\u201911\\u201d x 17\\u201910\\u201d carpet flooring, tv point, 6 door robe built in, bay window. en- suite: 12\\u20199\\u2019\\u2019 x 10\\u20195\\u2019\\u2019 white suite, bath, large mains shower, tile flooring, fully tiled walls, double sink with storage unit. bedroom 2: 9\\u20194\\u201d x 9\\u20196\\u201d carpet flooring, walk-in wardrobe (11\\u2019x6\\u20191\\u2019\\u2019 vanity unit, fully railed, carpet flooring) bedroom 3: 10\\u20195\\u201d x 11\\u20193\\u201d carpet flooring. bedroom 4: 11\\u20193\\u2019\\u2019 x 13\\u20197\\u2019\\u2019 carpet flooring, built in wardrobes and drawer sets. pool: 9\\u201910\\u2019\\u2019 x 20\\u20195\\u2019\\u2019 heated pool sauna/ changing: 15\\u20195\\u2019\\u2019 x 8\\u20194\\u2019\\u2019 down lights, wooden ceiling, non slip flooring, shower office: 7\\u201910\\u2019\\u2019 x 7\\u20199\\u2019\\u2019 carpet flooring, telephone point games room: 11\\u20199\\u2019\\u2019x 13\\u20193\\u2019\\u2019 carpet flooring, pvc ceiling, full electrics, cladded walls, pool table garage 1: 11\\u2019 x 17\\u20198\\u2019\\u2019 up & over door, full electrics garage 2: 13\\u2019 x 12\\u20199\\u2019\\u2019 up & over door, full electrics other: pvc windows, wooden external doors, timber internal doors, beam hoover system. outside: spacious lawns with mature shrubs, large paved patio, full size tennis court, 9 hole mini golf course, tarmac driveway. epc ref: 9982-0527-6060-0739-4902\"\n        ],\n        \"semantic_type\": \"\",\n        \"description\": \"\"\n      }\n    },\n    {\n      \"column\": \"question\",\n      \"properties\": {\n        \"dtype\": \"string\",\n        \"num_unique_values\": 11981,\n        \"samples\": [\n          \"what are the learning outcomes of this module?\",\n          \"who were the four powerful men with high public profiles mentioned as paedophiles who abused their positions?\",\n          \"what are some of the features of the master bedroom in the described residence?\"\n        ],\n        \"semantic_type\": \"\",\n        \"description\": \"\"\n      }\n    },\n    {\n      \"column\": \"answer\",\n      \"properties\": {\n        \"dtype\": \"string\",\n        \"num_unique_values\": 11981,\n        \"samples\": [\n          \"on successful completion of this module students should be able to critically evaluate relevant texts and consider the implications of these texts in performance, situate ancient and adapted texts in their cultural, political and historical contexts, demonstrate an awareness of the wider cultural and theoretical issues raised by adaptations of classical texts, and produce organized, coherently structured and critically engaged written and oral work.\",\n          \"the four powerful men mentioned as paedophiles who abused their positions were jimmy savile, cyril smith, stuart hall and max clifford.\",\n          \"the master bedroom in the described residence features carpet flooring, a tv point, a 6 door robe built in, and a bay window. it also has an en-suite with a white suite, bath, large mains shower, tile flooring, fully tiled walls, and a double sink with a storage unit.\"\n        ],\n        \"semantic_type\": \"\",\n        \"description\": \"\"\n      }\n    },\n    {\n      \"column\": \"context_vec\",\n      \"properties\": {\n        \"dtype\": \"object\",\n        \"semantic_type\": \"\",\n        \"description\": \"\"\n      }\n    },\n    {\n      \"column\": \"cos_similarity_w2v\",\n      \"properties\": {\n        \"dtype\": \"float32\",\n        \"num_unique_values\": 11959,\n        \"samples\": [\n          0.8556120991706848,\n          0.8400213122367859,\n          0.7587810158729553\n        ],\n        \"semantic_type\": \"\",\n        \"description\": \"\"\n      }\n    },\n    {\n      \"column\": \"euc_dict_w2v\",\n      \"properties\": {\n        \"dtype\": \"float32\",\n        \"num_unique_values\": 11971,\n        \"samples\": [\n          1.4145011901855469,\n          1.005353569984436,\n          2.1361241340637207\n        ],\n        \"semantic_type\": \"\",\n        \"description\": \"\"\n      }\n    }\n  ]\n}"
            }
          },
          "metadata": {},
          "execution_count": 37
        }
      ]
    },
    {
      "cell_type": "code",
      "source": [
        "df_w2v.describe().T"
      ],
      "metadata": {
        "colab": {
          "base_uri": "https://localhost:8080/",
          "height": 112
        },
        "id": "h1qMoL0Zpgxo",
        "outputId": "4d2a8457-9932-4905-c0f6-1fe7ff70c45d"
      },
      "execution_count": 38,
      "outputs": [
        {
          "output_type": "execute_result",
          "data": {
            "text/plain": [
              "                      count      mean       std       min       25%       50%  \\\n",
              "cos_similarity_w2v  11981.0  0.852003  0.060017  0.000000  0.822771  0.862102   \n",
              "euc_dict_w2v        11981.0  1.333732  0.307071  0.533792  1.119995  1.294338   \n",
              "\n",
              "                         75%       max  \n",
              "cos_similarity_w2v  0.893496  0.975673  \n",
              "euc_dict_w2v        1.494772  4.431265  "
            ],
            "text/html": [
              "\n",
              "  <div id=\"df-247111fc-4ce1-4be9-ac56-70d04a283fa3\" class=\"colab-df-container\">\n",
              "    <div>\n",
              "<style scoped>\n",
              "    .dataframe tbody tr th:only-of-type {\n",
              "        vertical-align: middle;\n",
              "    }\n",
              "\n",
              "    .dataframe tbody tr th {\n",
              "        vertical-align: top;\n",
              "    }\n",
              "\n",
              "    .dataframe thead th {\n",
              "        text-align: right;\n",
              "    }\n",
              "</style>\n",
              "<table border=\"1\" class=\"dataframe\">\n",
              "  <thead>\n",
              "    <tr style=\"text-align: right;\">\n",
              "      <th></th>\n",
              "      <th>count</th>\n",
              "      <th>mean</th>\n",
              "      <th>std</th>\n",
              "      <th>min</th>\n",
              "      <th>25%</th>\n",
              "      <th>50%</th>\n",
              "      <th>75%</th>\n",
              "      <th>max</th>\n",
              "    </tr>\n",
              "  </thead>\n",
              "  <tbody>\n",
              "    <tr>\n",
              "      <th>cos_similarity_w2v</th>\n",
              "      <td>11981.0</td>\n",
              "      <td>0.852003</td>\n",
              "      <td>0.060017</td>\n",
              "      <td>0.000000</td>\n",
              "      <td>0.822771</td>\n",
              "      <td>0.862102</td>\n",
              "      <td>0.893496</td>\n",
              "      <td>0.975673</td>\n",
              "    </tr>\n",
              "    <tr>\n",
              "      <th>euc_dict_w2v</th>\n",
              "      <td>11981.0</td>\n",
              "      <td>1.333732</td>\n",
              "      <td>0.307071</td>\n",
              "      <td>0.533792</td>\n",
              "      <td>1.119995</td>\n",
              "      <td>1.294338</td>\n",
              "      <td>1.494772</td>\n",
              "      <td>4.431265</td>\n",
              "    </tr>\n",
              "  </tbody>\n",
              "</table>\n",
              "</div>\n",
              "    <div class=\"colab-df-buttons\">\n",
              "\n",
              "  <div class=\"colab-df-container\">\n",
              "    <button class=\"colab-df-convert\" onclick=\"convertToInteractive('df-247111fc-4ce1-4be9-ac56-70d04a283fa3')\"\n",
              "            title=\"Convert this dataframe to an interactive table.\"\n",
              "            style=\"display:none;\">\n",
              "\n",
              "  <svg xmlns=\"http://www.w3.org/2000/svg\" height=\"24px\" viewBox=\"0 -960 960 960\">\n",
              "    <path d=\"M120-120v-720h720v720H120Zm60-500h600v-160H180v160Zm220 220h160v-160H400v160Zm0 220h160v-160H400v160ZM180-400h160v-160H180v160Zm440 0h160v-160H620v160ZM180-180h160v-160H180v160Zm440 0h160v-160H620v160Z\"/>\n",
              "  </svg>\n",
              "    </button>\n",
              "\n",
              "  <style>\n",
              "    .colab-df-container {\n",
              "      display:flex;\n",
              "      gap: 12px;\n",
              "    }\n",
              "\n",
              "    .colab-df-convert {\n",
              "      background-color: #E8F0FE;\n",
              "      border: none;\n",
              "      border-radius: 50%;\n",
              "      cursor: pointer;\n",
              "      display: none;\n",
              "      fill: #1967D2;\n",
              "      height: 32px;\n",
              "      padding: 0 0 0 0;\n",
              "      width: 32px;\n",
              "    }\n",
              "\n",
              "    .colab-df-convert:hover {\n",
              "      background-color: #E2EBFA;\n",
              "      box-shadow: 0px 1px 2px rgba(60, 64, 67, 0.3), 0px 1px 3px 1px rgba(60, 64, 67, 0.15);\n",
              "      fill: #174EA6;\n",
              "    }\n",
              "\n",
              "    .colab-df-buttons div {\n",
              "      margin-bottom: 4px;\n",
              "    }\n",
              "\n",
              "    [theme=dark] .colab-df-convert {\n",
              "      background-color: #3B4455;\n",
              "      fill: #D2E3FC;\n",
              "    }\n",
              "\n",
              "    [theme=dark] .colab-df-convert:hover {\n",
              "      background-color: #434B5C;\n",
              "      box-shadow: 0px 1px 3px 1px rgba(0, 0, 0, 0.15);\n",
              "      filter: drop-shadow(0px 1px 2px rgba(0, 0, 0, 0.3));\n",
              "      fill: #FFFFFF;\n",
              "    }\n",
              "  </style>\n",
              "\n",
              "    <script>\n",
              "      const buttonEl =\n",
              "        document.querySelector('#df-247111fc-4ce1-4be9-ac56-70d04a283fa3 button.colab-df-convert');\n",
              "      buttonEl.style.display =\n",
              "        google.colab.kernel.accessAllowed ? 'block' : 'none';\n",
              "\n",
              "      async function convertToInteractive(key) {\n",
              "        const element = document.querySelector('#df-247111fc-4ce1-4be9-ac56-70d04a283fa3');\n",
              "        const dataTable =\n",
              "          await google.colab.kernel.invokeFunction('convertToInteractive',\n",
              "                                                    [key], {});\n",
              "        if (!dataTable) return;\n",
              "\n",
              "        const docLinkHtml = 'Like what you see? Visit the ' +\n",
              "          '<a target=\"_blank\" href=https://colab.research.google.com/notebooks/data_table.ipynb>data table notebook</a>'\n",
              "          + ' to learn more about interactive tables.';\n",
              "        element.innerHTML = '';\n",
              "        dataTable['output_type'] = 'display_data';\n",
              "        await google.colab.output.renderOutput(dataTable, element);\n",
              "        const docLink = document.createElement('div');\n",
              "        docLink.innerHTML = docLinkHtml;\n",
              "        element.appendChild(docLink);\n",
              "      }\n",
              "    </script>\n",
              "  </div>\n",
              "\n",
              "\n",
              "<div id=\"df-22b1ca86-6386-469d-8b98-5ccd0e4be123\">\n",
              "  <button class=\"colab-df-quickchart\" onclick=\"quickchart('df-22b1ca86-6386-469d-8b98-5ccd0e4be123')\"\n",
              "            title=\"Suggest charts\"\n",
              "            style=\"display:none;\">\n",
              "\n",
              "<svg xmlns=\"http://www.w3.org/2000/svg\" height=\"24px\"viewBox=\"0 0 24 24\"\n",
              "     width=\"24px\">\n",
              "    <g>\n",
              "        <path d=\"M19 3H5c-1.1 0-2 .9-2 2v14c0 1.1.9 2 2 2h14c1.1 0 2-.9 2-2V5c0-1.1-.9-2-2-2zM9 17H7v-7h2v7zm4 0h-2V7h2v10zm4 0h-2v-4h2v4z\"/>\n",
              "    </g>\n",
              "</svg>\n",
              "  </button>\n",
              "\n",
              "<style>\n",
              "  .colab-df-quickchart {\n",
              "      --bg-color: #E8F0FE;\n",
              "      --fill-color: #1967D2;\n",
              "      --hover-bg-color: #E2EBFA;\n",
              "      --hover-fill-color: #174EA6;\n",
              "      --disabled-fill-color: #AAA;\n",
              "      --disabled-bg-color: #DDD;\n",
              "  }\n",
              "\n",
              "  [theme=dark] .colab-df-quickchart {\n",
              "      --bg-color: #3B4455;\n",
              "      --fill-color: #D2E3FC;\n",
              "      --hover-bg-color: #434B5C;\n",
              "      --hover-fill-color: #FFFFFF;\n",
              "      --disabled-bg-color: #3B4455;\n",
              "      --disabled-fill-color: #666;\n",
              "  }\n",
              "\n",
              "  .colab-df-quickchart {\n",
              "    background-color: var(--bg-color);\n",
              "    border: none;\n",
              "    border-radius: 50%;\n",
              "    cursor: pointer;\n",
              "    display: none;\n",
              "    fill: var(--fill-color);\n",
              "    height: 32px;\n",
              "    padding: 0;\n",
              "    width: 32px;\n",
              "  }\n",
              "\n",
              "  .colab-df-quickchart:hover {\n",
              "    background-color: var(--hover-bg-color);\n",
              "    box-shadow: 0 1px 2px rgba(60, 64, 67, 0.3), 0 1px 3px 1px rgba(60, 64, 67, 0.15);\n",
              "    fill: var(--button-hover-fill-color);\n",
              "  }\n",
              "\n",
              "  .colab-df-quickchart-complete:disabled,\n",
              "  .colab-df-quickchart-complete:disabled:hover {\n",
              "    background-color: var(--disabled-bg-color);\n",
              "    fill: var(--disabled-fill-color);\n",
              "    box-shadow: none;\n",
              "  }\n",
              "\n",
              "  .colab-df-spinner {\n",
              "    border: 2px solid var(--fill-color);\n",
              "    border-color: transparent;\n",
              "    border-bottom-color: var(--fill-color);\n",
              "    animation:\n",
              "      spin 1s steps(1) infinite;\n",
              "  }\n",
              "\n",
              "  @keyframes spin {\n",
              "    0% {\n",
              "      border-color: transparent;\n",
              "      border-bottom-color: var(--fill-color);\n",
              "      border-left-color: var(--fill-color);\n",
              "    }\n",
              "    20% {\n",
              "      border-color: transparent;\n",
              "      border-left-color: var(--fill-color);\n",
              "      border-top-color: var(--fill-color);\n",
              "    }\n",
              "    30% {\n",
              "      border-color: transparent;\n",
              "      border-left-color: var(--fill-color);\n",
              "      border-top-color: var(--fill-color);\n",
              "      border-right-color: var(--fill-color);\n",
              "    }\n",
              "    40% {\n",
              "      border-color: transparent;\n",
              "      border-right-color: var(--fill-color);\n",
              "      border-top-color: var(--fill-color);\n",
              "    }\n",
              "    60% {\n",
              "      border-color: transparent;\n",
              "      border-right-color: var(--fill-color);\n",
              "    }\n",
              "    80% {\n",
              "      border-color: transparent;\n",
              "      border-right-color: var(--fill-color);\n",
              "      border-bottom-color: var(--fill-color);\n",
              "    }\n",
              "    90% {\n",
              "      border-color: transparent;\n",
              "      border-bottom-color: var(--fill-color);\n",
              "    }\n",
              "  }\n",
              "</style>\n",
              "\n",
              "  <script>\n",
              "    async function quickchart(key) {\n",
              "      const quickchartButtonEl =\n",
              "        document.querySelector('#' + key + ' button');\n",
              "      quickchartButtonEl.disabled = true;  // To prevent multiple clicks.\n",
              "      quickchartButtonEl.classList.add('colab-df-spinner');\n",
              "      try {\n",
              "        const charts = await google.colab.kernel.invokeFunction(\n",
              "            'suggestCharts', [key], {});\n",
              "      } catch (error) {\n",
              "        console.error('Error during call to suggestCharts:', error);\n",
              "      }\n",
              "      quickchartButtonEl.classList.remove('colab-df-spinner');\n",
              "      quickchartButtonEl.classList.add('colab-df-quickchart-complete');\n",
              "    }\n",
              "    (() => {\n",
              "      let quickchartButtonEl =\n",
              "        document.querySelector('#df-22b1ca86-6386-469d-8b98-5ccd0e4be123 button');\n",
              "      quickchartButtonEl.style.display =\n",
              "        google.colab.kernel.accessAllowed ? 'block' : 'none';\n",
              "    })();\n",
              "  </script>\n",
              "</div>\n",
              "    </div>\n",
              "  </div>\n"
            ],
            "application/vnd.google.colaboratory.intrinsic+json": {
              "type": "dataframe",
              "summary": "{\n  \"name\": \"df_w2v\",\n  \"rows\": 2,\n  \"fields\": [\n    {\n      \"column\": \"count\",\n      \"properties\": {\n        \"dtype\": \"number\",\n        \"std\": 0.0,\n        \"min\": 11981.0,\n        \"max\": 11981.0,\n        \"num_unique_values\": 1,\n        \"samples\": [\n          11981.0\n        ],\n        \"semantic_type\": \"\",\n        \"description\": \"\"\n      }\n    },\n    {\n      \"column\": \"mean\",\n      \"properties\": {\n        \"dtype\": \"number\",\n        \"std\": 0.3406344542940175,\n        \"min\": 0.8520025014877319,\n        \"max\": 1.3337323665618896,\n        \"num_unique_values\": 2,\n        \"samples\": [\n          1.3337323665618896\n        ],\n        \"semantic_type\": \"\",\n        \"description\": \"\"\n      }\n    },\n    {\n      \"column\": \"std\",\n      \"properties\": {\n        \"dtype\": \"number\",\n        \"std\": 0.17469358204062987,\n        \"min\": 0.06001666933298111,\n        \"max\": 0.30707070231437683,\n        \"num_unique_values\": 2,\n        \"samples\": [\n          0.30707070231437683\n        ],\n        \"semantic_type\": \"\",\n        \"description\": \"\"\n      }\n    },\n    {\n      \"column\": \"min\",\n      \"properties\": {\n        \"dtype\": \"number\",\n        \"std\": 0.3774476612727064,\n        \"min\": 0.0,\n        \"max\": 0.5337916016578674,\n        \"num_unique_values\": 2,\n        \"samples\": [\n          0.5337916016578674\n        ],\n        \"semantic_type\": \"\",\n        \"description\": \"\"\n      }\n    },\n    {\n      \"column\": \"25%\",\n      \"properties\": {\n        \"dtype\": \"number\",\n        \"std\": 0.2101690954627876,\n        \"min\": 0.8227705359458923,\n        \"max\": 1.1199945211410522,\n        \"num_unique_values\": 2,\n        \"samples\": [\n          1.1199945211410522\n        ],\n        \"semantic_type\": \"\",\n        \"description\": \"\"\n      }\n    },\n    {\n      \"column\": \"50%\",\n      \"properties\": {\n        \"dtype\": \"number\",\n        \"std\": 0.305637186430269,\n        \"min\": 0.862102210521698,\n        \"max\": 1.2943384647369385,\n        \"num_unique_values\": 2,\n        \"samples\": [\n          1.2943384647369385\n        ],\n        \"semantic_type\": \"\",\n        \"description\": \"\"\n      }\n    },\n    {\n      \"column\": \"75%\",\n      \"properties\": {\n        \"dtype\": \"number\",\n        \"std\": 0.4251661967161951,\n        \"min\": 0.8934959173202515,\n        \"max\": 1.4947717189788818,\n        \"num_unique_values\": 2,\n        \"samples\": [\n          1.4947717189788818\n        ],\n        \"semantic_type\": \"\",\n        \"description\": \"\"\n      }\n    },\n    {\n      \"column\": \"max\",\n      \"properties\": {\n        \"dtype\": \"number\",\n        \"std\": 2.443472435404117,\n        \"min\": 0.9756730198860168,\n        \"max\": 4.431264877319336,\n        \"num_unique_values\": 2,\n        \"samples\": [\n          4.431264877319336\n        ],\n        \"semantic_type\": \"\",\n        \"description\": \"\"\n      }\n    }\n  ]\n}"
            }
          },
          "metadata": {},
          "execution_count": 38
        }
      ]
    },
    {
      "cell_type": "code",
      "source": [
        "df_w2v.loc[df_w2v['cos_similarity_w2v'] < 0.5]"
      ],
      "metadata": {
        "colab": {
          "base_uri": "https://localhost:8080/",
          "height": 206
        },
        "id": "Rt5B2W_NWJa5",
        "outputId": "84a2ea0e-f49b-42c9-ea82-0dbc21d10b05"
      },
      "execution_count": 41,
      "outputs": [
        {
          "output_type": "execute_result",
          "data": {
            "text/plain": [
              "                                                context  \\\n",
              "413   funny or die search see all results history or...   \n",
              "1375  thinking about opening a coffee shop? consider...   \n",
              "2611  why we started paw.com and we believe we shoul...   \n",
              "5423  one ca plaza islandia, ny 11749 hq phone: 800-...   \n",
              "5651  expoconstruccion & expodiseño 2017 is an inter...   \n",
              "\n",
              "                                         question  \\\n",
              "413       what is the web series \"get hit\" about?   \n",
              "1375               what is the power of the cup®?   \n",
              "2611                   who is the ceo of paw.com?   \n",
              "5423                    who is the ceo of ca inc?   \n",
              "5651  what is expoconstruccion & expodiseño 2017?   \n",
              "\n",
              "                                                 answer  \\\n",
              "413   the web series \"get hit\" is about two viral vi...   \n",
              "1375  the power of the cup® is a proven system for o...   \n",
              "2611   the ceo of paw.com is marlie, the founder's dog.   \n",
              "5423             the ceo of ca inc is michael gregoire.   \n",
              "5651  expoconstruccion & expodiseño 2017 is an inter...   \n",
              "\n",
              "                                            context_vec  cos_similarity_w2v  \\\n",
              "413   [0.026333021, 0.007531439, 0.004736563, 0.0302...            0.450422   \n",
              "1375  [0.01171561, -0.01095232, 0.012029636, 0.01494...            0.438386   \n",
              "2611  [0.06501662, -0.011245415, -0.02943902, 0.0244...            0.000000   \n",
              "5423  [-0.019325536, 0.047684718, -0.010539344, -0.0...            0.000000   \n",
              "5651  [0.02471294, -0.007358714, -0.007396483, 0.020...            0.446668   \n",
              "\n",
              "      euc_dict_w2v  \n",
              "413       4.379334  \n",
              "1375      4.431265  \n",
              "2611      2.234077  \n",
              "5423      2.264278  \n",
              "5651      2.674087  "
            ],
            "text/html": [
              "\n",
              "  <div id=\"df-ff7f0c6a-ee60-484b-803f-6d03a69fa3b3\" class=\"colab-df-container\">\n",
              "    <div>\n",
              "<style scoped>\n",
              "    .dataframe tbody tr th:only-of-type {\n",
              "        vertical-align: middle;\n",
              "    }\n",
              "\n",
              "    .dataframe tbody tr th {\n",
              "        vertical-align: top;\n",
              "    }\n",
              "\n",
              "    .dataframe thead th {\n",
              "        text-align: right;\n",
              "    }\n",
              "</style>\n",
              "<table border=\"1\" class=\"dataframe\">\n",
              "  <thead>\n",
              "    <tr style=\"text-align: right;\">\n",
              "      <th></th>\n",
              "      <th>context</th>\n",
              "      <th>question</th>\n",
              "      <th>answer</th>\n",
              "      <th>context_vec</th>\n",
              "      <th>cos_similarity_w2v</th>\n",
              "      <th>euc_dict_w2v</th>\n",
              "    </tr>\n",
              "  </thead>\n",
              "  <tbody>\n",
              "    <tr>\n",
              "      <th>413</th>\n",
              "      <td>funny or die search see all results history or...</td>\n",
              "      <td>what is the web series \"get hit\" about?</td>\n",
              "      <td>the web series \"get hit\" is about two viral vi...</td>\n",
              "      <td>[0.026333021, 0.007531439, 0.004736563, 0.0302...</td>\n",
              "      <td>0.450422</td>\n",
              "      <td>4.379334</td>\n",
              "    </tr>\n",
              "    <tr>\n",
              "      <th>1375</th>\n",
              "      <td>thinking about opening a coffee shop? consider...</td>\n",
              "      <td>what is the power of the cup®?</td>\n",
              "      <td>the power of the cup® is a proven system for o...</td>\n",
              "      <td>[0.01171561, -0.01095232, 0.012029636, 0.01494...</td>\n",
              "      <td>0.438386</td>\n",
              "      <td>4.431265</td>\n",
              "    </tr>\n",
              "    <tr>\n",
              "      <th>2611</th>\n",
              "      <td>why we started paw.com and we believe we shoul...</td>\n",
              "      <td>who is the ceo of paw.com?</td>\n",
              "      <td>the ceo of paw.com is marlie, the founder's dog.</td>\n",
              "      <td>[0.06501662, -0.011245415, -0.02943902, 0.0244...</td>\n",
              "      <td>0.000000</td>\n",
              "      <td>2.234077</td>\n",
              "    </tr>\n",
              "    <tr>\n",
              "      <th>5423</th>\n",
              "      <td>one ca plaza islandia, ny 11749 hq phone: 800-...</td>\n",
              "      <td>who is the ceo of ca inc?</td>\n",
              "      <td>the ceo of ca inc is michael gregoire.</td>\n",
              "      <td>[-0.019325536, 0.047684718, -0.010539344, -0.0...</td>\n",
              "      <td>0.000000</td>\n",
              "      <td>2.264278</td>\n",
              "    </tr>\n",
              "    <tr>\n",
              "      <th>5651</th>\n",
              "      <td>expoconstruccion &amp; expodiseño 2017 is an inter...</td>\n",
              "      <td>what is expoconstruccion &amp; expodiseño 2017?</td>\n",
              "      <td>expoconstruccion &amp; expodiseño 2017 is an inter...</td>\n",
              "      <td>[0.02471294, -0.007358714, -0.007396483, 0.020...</td>\n",
              "      <td>0.446668</td>\n",
              "      <td>2.674087</td>\n",
              "    </tr>\n",
              "  </tbody>\n",
              "</table>\n",
              "</div>\n",
              "    <div class=\"colab-df-buttons\">\n",
              "\n",
              "  <div class=\"colab-df-container\">\n",
              "    <button class=\"colab-df-convert\" onclick=\"convertToInteractive('df-ff7f0c6a-ee60-484b-803f-6d03a69fa3b3')\"\n",
              "            title=\"Convert this dataframe to an interactive table.\"\n",
              "            style=\"display:none;\">\n",
              "\n",
              "  <svg xmlns=\"http://www.w3.org/2000/svg\" height=\"24px\" viewBox=\"0 -960 960 960\">\n",
              "    <path d=\"M120-120v-720h720v720H120Zm60-500h600v-160H180v160Zm220 220h160v-160H400v160Zm0 220h160v-160H400v160ZM180-400h160v-160H180v160Zm440 0h160v-160H620v160ZM180-180h160v-160H180v160Zm440 0h160v-160H620v160Z\"/>\n",
              "  </svg>\n",
              "    </button>\n",
              "\n",
              "  <style>\n",
              "    .colab-df-container {\n",
              "      display:flex;\n",
              "      gap: 12px;\n",
              "    }\n",
              "\n",
              "    .colab-df-convert {\n",
              "      background-color: #E8F0FE;\n",
              "      border: none;\n",
              "      border-radius: 50%;\n",
              "      cursor: pointer;\n",
              "      display: none;\n",
              "      fill: #1967D2;\n",
              "      height: 32px;\n",
              "      padding: 0 0 0 0;\n",
              "      width: 32px;\n",
              "    }\n",
              "\n",
              "    .colab-df-convert:hover {\n",
              "      background-color: #E2EBFA;\n",
              "      box-shadow: 0px 1px 2px rgba(60, 64, 67, 0.3), 0px 1px 3px 1px rgba(60, 64, 67, 0.15);\n",
              "      fill: #174EA6;\n",
              "    }\n",
              "\n",
              "    .colab-df-buttons div {\n",
              "      margin-bottom: 4px;\n",
              "    }\n",
              "\n",
              "    [theme=dark] .colab-df-convert {\n",
              "      background-color: #3B4455;\n",
              "      fill: #D2E3FC;\n",
              "    }\n",
              "\n",
              "    [theme=dark] .colab-df-convert:hover {\n",
              "      background-color: #434B5C;\n",
              "      box-shadow: 0px 1px 3px 1px rgba(0, 0, 0, 0.15);\n",
              "      filter: drop-shadow(0px 1px 2px rgba(0, 0, 0, 0.3));\n",
              "      fill: #FFFFFF;\n",
              "    }\n",
              "  </style>\n",
              "\n",
              "    <script>\n",
              "      const buttonEl =\n",
              "        document.querySelector('#df-ff7f0c6a-ee60-484b-803f-6d03a69fa3b3 button.colab-df-convert');\n",
              "      buttonEl.style.display =\n",
              "        google.colab.kernel.accessAllowed ? 'block' : 'none';\n",
              "\n",
              "      async function convertToInteractive(key) {\n",
              "        const element = document.querySelector('#df-ff7f0c6a-ee60-484b-803f-6d03a69fa3b3');\n",
              "        const dataTable =\n",
              "          await google.colab.kernel.invokeFunction('convertToInteractive',\n",
              "                                                    [key], {});\n",
              "        if (!dataTable) return;\n",
              "\n",
              "        const docLinkHtml = 'Like what you see? Visit the ' +\n",
              "          '<a target=\"_blank\" href=https://colab.research.google.com/notebooks/data_table.ipynb>data table notebook</a>'\n",
              "          + ' to learn more about interactive tables.';\n",
              "        element.innerHTML = '';\n",
              "        dataTable['output_type'] = 'display_data';\n",
              "        await google.colab.output.renderOutput(dataTable, element);\n",
              "        const docLink = document.createElement('div');\n",
              "        docLink.innerHTML = docLinkHtml;\n",
              "        element.appendChild(docLink);\n",
              "      }\n",
              "    </script>\n",
              "  </div>\n",
              "\n",
              "\n",
              "<div id=\"df-b1ec6c41-34c5-404c-9de6-fa8eb8b235a0\">\n",
              "  <button class=\"colab-df-quickchart\" onclick=\"quickchart('df-b1ec6c41-34c5-404c-9de6-fa8eb8b235a0')\"\n",
              "            title=\"Suggest charts\"\n",
              "            style=\"display:none;\">\n",
              "\n",
              "<svg xmlns=\"http://www.w3.org/2000/svg\" height=\"24px\"viewBox=\"0 0 24 24\"\n",
              "     width=\"24px\">\n",
              "    <g>\n",
              "        <path d=\"M19 3H5c-1.1 0-2 .9-2 2v14c0 1.1.9 2 2 2h14c1.1 0 2-.9 2-2V5c0-1.1-.9-2-2-2zM9 17H7v-7h2v7zm4 0h-2V7h2v10zm4 0h-2v-4h2v4z\"/>\n",
              "    </g>\n",
              "</svg>\n",
              "  </button>\n",
              "\n",
              "<style>\n",
              "  .colab-df-quickchart {\n",
              "      --bg-color: #E8F0FE;\n",
              "      --fill-color: #1967D2;\n",
              "      --hover-bg-color: #E2EBFA;\n",
              "      --hover-fill-color: #174EA6;\n",
              "      --disabled-fill-color: #AAA;\n",
              "      --disabled-bg-color: #DDD;\n",
              "  }\n",
              "\n",
              "  [theme=dark] .colab-df-quickchart {\n",
              "      --bg-color: #3B4455;\n",
              "      --fill-color: #D2E3FC;\n",
              "      --hover-bg-color: #434B5C;\n",
              "      --hover-fill-color: #FFFFFF;\n",
              "      --disabled-bg-color: #3B4455;\n",
              "      --disabled-fill-color: #666;\n",
              "  }\n",
              "\n",
              "  .colab-df-quickchart {\n",
              "    background-color: var(--bg-color);\n",
              "    border: none;\n",
              "    border-radius: 50%;\n",
              "    cursor: pointer;\n",
              "    display: none;\n",
              "    fill: var(--fill-color);\n",
              "    height: 32px;\n",
              "    padding: 0;\n",
              "    width: 32px;\n",
              "  }\n",
              "\n",
              "  .colab-df-quickchart:hover {\n",
              "    background-color: var(--hover-bg-color);\n",
              "    box-shadow: 0 1px 2px rgba(60, 64, 67, 0.3), 0 1px 3px 1px rgba(60, 64, 67, 0.15);\n",
              "    fill: var(--button-hover-fill-color);\n",
              "  }\n",
              "\n",
              "  .colab-df-quickchart-complete:disabled,\n",
              "  .colab-df-quickchart-complete:disabled:hover {\n",
              "    background-color: var(--disabled-bg-color);\n",
              "    fill: var(--disabled-fill-color);\n",
              "    box-shadow: none;\n",
              "  }\n",
              "\n",
              "  .colab-df-spinner {\n",
              "    border: 2px solid var(--fill-color);\n",
              "    border-color: transparent;\n",
              "    border-bottom-color: var(--fill-color);\n",
              "    animation:\n",
              "      spin 1s steps(1) infinite;\n",
              "  }\n",
              "\n",
              "  @keyframes spin {\n",
              "    0% {\n",
              "      border-color: transparent;\n",
              "      border-bottom-color: var(--fill-color);\n",
              "      border-left-color: var(--fill-color);\n",
              "    }\n",
              "    20% {\n",
              "      border-color: transparent;\n",
              "      border-left-color: var(--fill-color);\n",
              "      border-top-color: var(--fill-color);\n",
              "    }\n",
              "    30% {\n",
              "      border-color: transparent;\n",
              "      border-left-color: var(--fill-color);\n",
              "      border-top-color: var(--fill-color);\n",
              "      border-right-color: var(--fill-color);\n",
              "    }\n",
              "    40% {\n",
              "      border-color: transparent;\n",
              "      border-right-color: var(--fill-color);\n",
              "      border-top-color: var(--fill-color);\n",
              "    }\n",
              "    60% {\n",
              "      border-color: transparent;\n",
              "      border-right-color: var(--fill-color);\n",
              "    }\n",
              "    80% {\n",
              "      border-color: transparent;\n",
              "      border-right-color: var(--fill-color);\n",
              "      border-bottom-color: var(--fill-color);\n",
              "    }\n",
              "    90% {\n",
              "      border-color: transparent;\n",
              "      border-bottom-color: var(--fill-color);\n",
              "    }\n",
              "  }\n",
              "</style>\n",
              "\n",
              "  <script>\n",
              "    async function quickchart(key) {\n",
              "      const quickchartButtonEl =\n",
              "        document.querySelector('#' + key + ' button');\n",
              "      quickchartButtonEl.disabled = true;  // To prevent multiple clicks.\n",
              "      quickchartButtonEl.classList.add('colab-df-spinner');\n",
              "      try {\n",
              "        const charts = await google.colab.kernel.invokeFunction(\n",
              "            'suggestCharts', [key], {});\n",
              "      } catch (error) {\n",
              "        console.error('Error during call to suggestCharts:', error);\n",
              "      }\n",
              "      quickchartButtonEl.classList.remove('colab-df-spinner');\n",
              "      quickchartButtonEl.classList.add('colab-df-quickchart-complete');\n",
              "    }\n",
              "    (() => {\n",
              "      let quickchartButtonEl =\n",
              "        document.querySelector('#df-b1ec6c41-34c5-404c-9de6-fa8eb8b235a0 button');\n",
              "      quickchartButtonEl.style.display =\n",
              "        google.colab.kernel.accessAllowed ? 'block' : 'none';\n",
              "    })();\n",
              "  </script>\n",
              "</div>\n",
              "    </div>\n",
              "  </div>\n"
            ],
            "application/vnd.google.colaboratory.intrinsic+json": {
              "type": "dataframe",
              "summary": "{\n  \"name\": \"df_w2v\",\n  \"rows\": 5,\n  \"fields\": [\n    {\n      \"column\": \"context\",\n      \"properties\": {\n        \"dtype\": \"string\",\n        \"num_unique_values\": 5,\n        \"samples\": [\n          \"thinking about opening a coffee shop? consider putting the power of the cup\\u00ae behind you. with the power of the cup\\u00ae, you can learn everything you need to run a profitable \\u2013 and enjoyable \\u2013 independent coffee business. what\\u2019s the power of the cup\\u00ae? - a proven system for opening a coffee shop backed by 30 years of success. - a team of coffee, training and management experts eager to help you start out right. - delicious handcrafted coffee, tea, syrups and coffee-shop products that will delight your customers and fatten your bottom line. - a community of more than 150 independent coffee shops across 30 states ready to share their experience and expertise. - a business model powered by integrity and consistency, supporting small business owners who take pride in serving their communities. with the power of the cup\\u00ae, you get all the support of a coffee shop franchise, plus all the freedom of owning your own, independent business. with no franchise fees, royalties or long-term contracts. it all starts with seven steps to success in the specialty coffee industry, a common-sense guide to coffee shop start-up and operations. by crimson cup founder and president greg ubert, this handbook leads you step by step through everything you need to run a successful coffee house. it\\u2019s all here \\u2013 from finding an ideal (and affordable) location to choosing the right equipment, laying out your shop, hiring and training staff, attracting customers and much more. you\\u2019ll even find a coffee shop business plan that\\u2019s easily adapted to your operations. after reading seven steps to success, you\\u2019re ready for hands-on consulting, starting with a no-cost, no-obligation consultation with one of our coffee experts. we\\u2019ll discuss your plans, share our expertise and explore what your future looks like. once you\\u2019re convinced the power of the cup\\u00ae is right for you, we\\u2019ll get started on our seven steps to success coffee franchise alternative program. through hands-on training and business coaching, you\\u2019ll soon be on the road to success. we\\u2019ll help you discover: - how much does it cost to open a coffee shop? - what\\u2019s the ideal location for my coffee shop? - how can i maximize customer satisfaction and profit through my menu? - how can i hire and train qualified baristas and other employees? - what kind of coffee shop equipment do i need? - how can i attract new customers and market my coffee shop \\u2013 without breaking my budget? - and much more. your 7 steps trainer will be with you every step of the way, from build-out to opening day \\u2013 offering insider insight into what works and why. from drink preparation to back-room operations to marketing, you\\u2019ll learn the secrets to successful coffee shop operations. on-site training with you and your staff culminates in the grand opening of your coffee shop. but we\\u2019re always just a toll-free call away to answer your questions and help you solve problems. and a comprehensive menu of ongoing training is available to keep you and your staff at the cutting edge of specialty coffee. ultimately, the power of the cup\\u00ae is much more than a proven system and business support. it\\u2019s the spirit of the crimson cup community of independent coffee shops. we believe coffee is community. because local entrepreneurs beat with the pulse of their local communities, they create unique gathering places revolving around the art of serving truly great espresso-based beverages. we believe independents serve their communities better than coffee franchises and chains. we love helping independent spirits like you prosper. we share your pride as you craft a thriving business. your way. perhaps it\\u2019s because we got our start back when nearly all coffee houses were independent. when the centuries-old tradition of the european coffee house, or caf\\u00e9, was still struggling to make headway into the heartland of america. before the corporate green giant of specialty coffee spread to nearly every city corner. our true joy at crimson cup comes from seeing independent business owners like you having fun while transforming their long, hard hours into profits. that\\u2019s the spirit that creates the power of the cup\\u00ae. one response to the power of the cup\\u00ae in opening a coffee shop i really love your view on community and locally independently owned coffee houses. i\\u2019v never read someone whose mindset a lines with mine so well! i\\u2019m so glad to hear that i am not the only one with this view point. local independently owned shops have such a better over all experience and atmosphere. so much so that i want to be apart of creating that type of experience in my area! i am so glad that i found this site with such great information.\",\n          \"expoconstruccion & expodise\\u00f1o 2017 is an international specialized fair that has become, through the[...] penis enlargement +27780512997 penis enlargement pills & creams products to increase your penis siz[...] pamist center underthe guideness of peer syed shahmeer we offer the following services, 1) free [...] mzansi lost love specialist +27730009239 is there a special person in your life whom you love mostl[...] resturant loche & duna les ofrece el mejor buffet criollo para tu evento familiar o empresarial los[...] tired of wasting time and money for scammers from on-line mail-forwarding agencies? one of the leadi[...] if you have got marital disputes in your happy married life and want to stop marriage breakup but no[...] you might be wondering exactly what love spells are and do these really work? love spells are ironic[...] consult pt. anupam sharma to get back your ex lover, husband, wife, girlfriend, boyfriend, get back [...] want a casual hook up with someone nearby? wanna feel the adrenaline of 1 night stand 100% free? j[...] a gift horse is the emerging leader in the online gift registry industry! we have tons of new feat[...] is everyone ready for the biggest and best new years celebration of the year!?? make your plans to[...] khiclub helps you to connect and share with the people in your life. apparelnbags.com offers cheap activewear. we have huage selection of sports clothing including shirt[...] donate to help a children visit oxford hotels present conference hotels, country hotels with spas and golf course for golf breaks an[...] dear friend, soon we will proceed to the opening of an exclusive space for women who wish to find a[...] australias history traces back to the ancient times of gwondaland, the dinosaurs, the aborigines rig[...] if you not change browser settings, you agree to it. learn more i understand\",\n          \"why we started paw.com and we believe we should treat them that way. after being frustrated with the lack of beautiful and functional dog products, we knew we had to do something. designed for your dog with you in mind every dog bed and product that we put out is an original in-house design. they\\u2019re rigorously tested by dogs (and humans) and the materials are selected ourselves. i'm dave. i may be the founder of paw.com, but really marlie is the ceo. marlie is my dog. she's my roommate. she's my partner. she's my inspiration. she's family. i love her, and i know, from her looks and her licks, that she loves me. i started paw.com to create pet products worthy of a family member - worthy of marlie. she literally tests every dog bed and product we design. if marlie doesn't love it, we won't sell it. but i have to love it too, and i want marlie's stuff to look as good in my home as my stuff does. so that's what paw is all about - creating innovative pet products that satisfy marlie and me... that make you and your pet truly feel at home together. sincerely, we watch, listen and create with an understanding of what dogs (and their humans) need. our goal is to make something both functional and beautiful that allows your pet to lead a happier and healthier life. we don\\u2019t believe in cutting corners and obsess over every detail. no product ends up on paw.com without our ceo, marlie\\u2019s, paw-print of approval. sometimes we don\\u2019t get it right the first time. we learn something new with everything that we make and iterate on each design until it\\u2019s perfect. this is when things get exciting. each product is carefully crafted with only the best materials to ensure it stands the test of time. your dog is our number one customer and nothing makes us happier than seeing them (and you) enjoying our products. thank you for choosing paw!\"\n        ],\n        \"semantic_type\": \"\",\n        \"description\": \"\"\n      }\n    },\n    {\n      \"column\": \"question\",\n      \"properties\": {\n        \"dtype\": \"string\",\n        \"num_unique_values\": 5,\n        \"samples\": [\n          \"what is the power of the cup\\u00ae?\",\n          \"what is expoconstruccion & expodise\\u00f1o 2017?\",\n          \"who is the ceo of paw.com?\"\n        ],\n        \"semantic_type\": \"\",\n        \"description\": \"\"\n      }\n    },\n    {\n      \"column\": \"answer\",\n      \"properties\": {\n        \"dtype\": \"string\",\n        \"num_unique_values\": 5,\n        \"samples\": [\n          \"the power of the cup\\u00ae is a proven system for opening a coffee shop backed by 30 years of success. it includes a team of coffee, training and management experts, delicious handcrafted coffee, tea, syrups and coffee-shop products, a community of more than 150 independent coffee shops across 30 states, and a business model powered by integrity and consistency. it offers all the support of a coffee shop franchise, plus all the freedom of owning your own, independent business with no franchise fees, royalties or long-term contracts.\",\n          \"expoconstruccion & expodise\\u00f1o 2017 is an international specialized fair.\",\n          \"the ceo of paw.com is marlie, the founder's dog.\"\n        ],\n        \"semantic_type\": \"\",\n        \"description\": \"\"\n      }\n    },\n    {\n      \"column\": \"context_vec\",\n      \"properties\": {\n        \"dtype\": \"object\",\n        \"semantic_type\": \"\",\n        \"description\": \"\"\n      }\n    },\n    {\n      \"column\": \"cos_similarity_w2v\",\n      \"properties\": {\n        \"dtype\": \"float32\",\n        \"num_unique_values\": 4,\n        \"samples\": [\n          0.43838629126548767,\n          0.4466676414012909,\n          0.450422465801239\n        ],\n        \"semantic_type\": \"\",\n        \"description\": \"\"\n      }\n    },\n    {\n      \"column\": \"euc_dict_w2v\",\n      \"properties\": {\n        \"dtype\": \"float32\",\n        \"num_unique_values\": 5,\n        \"samples\": [\n          4.431264877319336,\n          2.6740872859954834,\n          2.234076976776123\n        ],\n        \"semantic_type\": \"\",\n        \"description\": \"\"\n      }\n    }\n  ]\n}"
            }
          },
          "metadata": {},
          "execution_count": 41
        }
      ]
    },
    {
      "cell_type": "markdown",
      "source": [
        "Нашлись строки у которых близость между вопросом и ответом очень низкая, и при этом эвклидово расстояние довольно большое. Возможно эти строки нужно удалить."
      ],
      "metadata": {
        "id": "QAI6Jz2YWrGc"
      }
    },
    {
      "cell_type": "code",
      "source": [
        "# выполнение поиска для всех вопросов ответа и вывод индекса топ_1,\n",
        "# если он совпал с тем, что в датасете для него ставим 1 в колонку eval, добавим колонку в индексами топ1\n",
        "\n",
        "top_ind_search_cos = []\n",
        "top_ind_search_euc = []\n",
        "\n",
        "for index, row in tqdm(df_w2v.iterrows()):\n",
        "    results_search_cos = search(row['question'], df_w2v, 'cos', w2v_rag_1000, top_k=1)\n",
        "    top_ind_search_cos.append(results_search_cos.index[0])\n",
        "    results_search_euc =search(row['question'], df_w2v, 'euc', w2v_rag_1000, top_k=1)\n",
        "    top_ind_search_euc.append(results_search_euc.index[0])\n",
        "\n",
        "df_w2v['top_ind_search_cos'] = top_ind_search_cos\n",
        "df_w2v['top_ind_search_euc'] = top_ind_search_euc\n",
        "df_w2v['eval_cos'] = (df_w2v['top_ind_search_cos'] == df_w2v.index).astype(int)\n",
        "df_w2v['eval_euc'] = (df_w2v['top_ind_search_euc'] == df_w2v.index).astype(int)"
      ],
      "metadata": {
        "colab": {
          "base_uri": "https://localhost:8080/"
        },
        "id": "jAXQKWg-UT1L",
        "outputId": "24cae912-045c-4236-ab23-43e44ae9fc47"
      },
      "execution_count": 42,
      "outputs": [
        {
          "output_type": "stream",
          "name": "stderr",
          "text": [
            "11981it [44:28,  4.49it/s]\n"
          ]
        }
      ]
    },
    {
      "cell_type": "code",
      "source": [
        "df_w2v.head(5)"
      ],
      "metadata": {
        "colab": {
          "base_uri": "https://localhost:8080/",
          "height": 293
        },
        "id": "06pY3wVrigrk",
        "outputId": "03c20d00-7c13-43da-902a-d33e727f689e"
      },
      "execution_count": 44,
      "outputs": [
        {
          "output_type": "execute_result",
          "data": {
            "text/plain": [
              "                                             context  \\\n",
              "0  caption: tasmanian berry grower nic hansen sho...   \n",
              "1  rwsn collaborations southern africa self-suppl...   \n",
              "2  all android applications categories descriptio...   \n",
              "3  how unequal is india? the question is simple, ...   \n",
              "4  gunnar nelson took his time on the feet agains...   \n",
              "\n",
              "                                            question  \\\n",
              "0  what is the berry export summary 2028 and what...   \n",
              "1  what are some of the benefits reported from ha...   \n",
              "2  what are the unique features of the coolands f...   \n",
              "3  what is the main difference between the nation...   \n",
              "4  how did gunnar nelson win the fight against za...   \n",
              "\n",
              "                                              answer  \\\n",
              "0  the berry export summary 2028 is a dedicated e...   \n",
              "1  benefits reported from having access to self-s...   \n",
              "2  the unique features of the coolands for twitte...   \n",
              "3  the main difference between the nss and the ih...   \n",
              "4  gunnar nelson won the fight against zak cummin...   \n",
              "\n",
              "                                         context_vec  cos_similarity_w2v  \\\n",
              "0  [0.047799077, 0.040789414, -0.019665565, -0.02...            0.854590   \n",
              "1  [0.0035377191, 0.018274318, -0.03173047, 0.006...            0.911136   \n",
              "2  [0.0053859954, 0.0037320252, -0.004880235, 0.0...            0.762634   \n",
              "3  [0.035331793, 0.016483296, -0.021997722, 0.014...            0.924179   \n",
              "4  [0.033706956, -0.011623101, 0.0009981426, 0.03...            0.819557   \n",
              "\n",
              "   euc_dict_w2v  top_ind_search_cos  top_ind_search_euc  eval_cos  eval_euc  \n",
              "0      1.181168                3977                9573         0         0  \n",
              "1      1.175348                   1                   1         1         1  \n",
              "2      1.623799                5270                 926         0         0  \n",
              "3      0.946295                   3                   3         1         1  \n",
              "4      1.322080               11898               11898         0         0  "
            ],
            "text/html": [
              "\n",
              "  <div id=\"df-9dd7cb3f-9a2d-429a-8859-eec946873155\" class=\"colab-df-container\">\n",
              "    <div>\n",
              "<style scoped>\n",
              "    .dataframe tbody tr th:only-of-type {\n",
              "        vertical-align: middle;\n",
              "    }\n",
              "\n",
              "    .dataframe tbody tr th {\n",
              "        vertical-align: top;\n",
              "    }\n",
              "\n",
              "    .dataframe thead th {\n",
              "        text-align: right;\n",
              "    }\n",
              "</style>\n",
              "<table border=\"1\" class=\"dataframe\">\n",
              "  <thead>\n",
              "    <tr style=\"text-align: right;\">\n",
              "      <th></th>\n",
              "      <th>context</th>\n",
              "      <th>question</th>\n",
              "      <th>answer</th>\n",
              "      <th>context_vec</th>\n",
              "      <th>cos_similarity_w2v</th>\n",
              "      <th>euc_dict_w2v</th>\n",
              "      <th>top_ind_search_cos</th>\n",
              "      <th>top_ind_search_euc</th>\n",
              "      <th>eval_cos</th>\n",
              "      <th>eval_euc</th>\n",
              "    </tr>\n",
              "  </thead>\n",
              "  <tbody>\n",
              "    <tr>\n",
              "      <th>0</th>\n",
              "      <td>caption: tasmanian berry grower nic hansen sho...</td>\n",
              "      <td>what is the berry export summary 2028 and what...</td>\n",
              "      <td>the berry export summary 2028 is a dedicated e...</td>\n",
              "      <td>[0.047799077, 0.040789414, -0.019665565, -0.02...</td>\n",
              "      <td>0.854590</td>\n",
              "      <td>1.181168</td>\n",
              "      <td>3977</td>\n",
              "      <td>9573</td>\n",
              "      <td>0</td>\n",
              "      <td>0</td>\n",
              "    </tr>\n",
              "    <tr>\n",
              "      <th>1</th>\n",
              "      <td>rwsn collaborations southern africa self-suppl...</td>\n",
              "      <td>what are some of the benefits reported from ha...</td>\n",
              "      <td>benefits reported from having access to self-s...</td>\n",
              "      <td>[0.0035377191, 0.018274318, -0.03173047, 0.006...</td>\n",
              "      <td>0.911136</td>\n",
              "      <td>1.175348</td>\n",
              "      <td>1</td>\n",
              "      <td>1</td>\n",
              "      <td>1</td>\n",
              "      <td>1</td>\n",
              "    </tr>\n",
              "    <tr>\n",
              "      <th>2</th>\n",
              "      <td>all android applications categories descriptio...</td>\n",
              "      <td>what are the unique features of the coolands f...</td>\n",
              "      <td>the unique features of the coolands for twitte...</td>\n",
              "      <td>[0.0053859954, 0.0037320252, -0.004880235, 0.0...</td>\n",
              "      <td>0.762634</td>\n",
              "      <td>1.623799</td>\n",
              "      <td>5270</td>\n",
              "      <td>926</td>\n",
              "      <td>0</td>\n",
              "      <td>0</td>\n",
              "    </tr>\n",
              "    <tr>\n",
              "      <th>3</th>\n",
              "      <td>how unequal is india? the question is simple, ...</td>\n",
              "      <td>what is the main difference between the nation...</td>\n",
              "      <td>the main difference between the nss and the ih...</td>\n",
              "      <td>[0.035331793, 0.016483296, -0.021997722, 0.014...</td>\n",
              "      <td>0.924179</td>\n",
              "      <td>0.946295</td>\n",
              "      <td>3</td>\n",
              "      <td>3</td>\n",
              "      <td>1</td>\n",
              "      <td>1</td>\n",
              "    </tr>\n",
              "    <tr>\n",
              "      <th>4</th>\n",
              "      <td>gunnar nelson took his time on the feet agains...</td>\n",
              "      <td>how did gunnar nelson win the fight against za...</td>\n",
              "      <td>gunnar nelson won the fight against zak cummin...</td>\n",
              "      <td>[0.033706956, -0.011623101, 0.0009981426, 0.03...</td>\n",
              "      <td>0.819557</td>\n",
              "      <td>1.322080</td>\n",
              "      <td>11898</td>\n",
              "      <td>11898</td>\n",
              "      <td>0</td>\n",
              "      <td>0</td>\n",
              "    </tr>\n",
              "  </tbody>\n",
              "</table>\n",
              "</div>\n",
              "    <div class=\"colab-df-buttons\">\n",
              "\n",
              "  <div class=\"colab-df-container\">\n",
              "    <button class=\"colab-df-convert\" onclick=\"convertToInteractive('df-9dd7cb3f-9a2d-429a-8859-eec946873155')\"\n",
              "            title=\"Convert this dataframe to an interactive table.\"\n",
              "            style=\"display:none;\">\n",
              "\n",
              "  <svg xmlns=\"http://www.w3.org/2000/svg\" height=\"24px\" viewBox=\"0 -960 960 960\">\n",
              "    <path d=\"M120-120v-720h720v720H120Zm60-500h600v-160H180v160Zm220 220h160v-160H400v160Zm0 220h160v-160H400v160ZM180-400h160v-160H180v160Zm440 0h160v-160H620v160ZM180-180h160v-160H180v160Zm440 0h160v-160H620v160Z\"/>\n",
              "  </svg>\n",
              "    </button>\n",
              "\n",
              "  <style>\n",
              "    .colab-df-container {\n",
              "      display:flex;\n",
              "      gap: 12px;\n",
              "    }\n",
              "\n",
              "    .colab-df-convert {\n",
              "      background-color: #E8F0FE;\n",
              "      border: none;\n",
              "      border-radius: 50%;\n",
              "      cursor: pointer;\n",
              "      display: none;\n",
              "      fill: #1967D2;\n",
              "      height: 32px;\n",
              "      padding: 0 0 0 0;\n",
              "      width: 32px;\n",
              "    }\n",
              "\n",
              "    .colab-df-convert:hover {\n",
              "      background-color: #E2EBFA;\n",
              "      box-shadow: 0px 1px 2px rgba(60, 64, 67, 0.3), 0px 1px 3px 1px rgba(60, 64, 67, 0.15);\n",
              "      fill: #174EA6;\n",
              "    }\n",
              "\n",
              "    .colab-df-buttons div {\n",
              "      margin-bottom: 4px;\n",
              "    }\n",
              "\n",
              "    [theme=dark] .colab-df-convert {\n",
              "      background-color: #3B4455;\n",
              "      fill: #D2E3FC;\n",
              "    }\n",
              "\n",
              "    [theme=dark] .colab-df-convert:hover {\n",
              "      background-color: #434B5C;\n",
              "      box-shadow: 0px 1px 3px 1px rgba(0, 0, 0, 0.15);\n",
              "      filter: drop-shadow(0px 1px 2px rgba(0, 0, 0, 0.3));\n",
              "      fill: #FFFFFF;\n",
              "    }\n",
              "  </style>\n",
              "\n",
              "    <script>\n",
              "      const buttonEl =\n",
              "        document.querySelector('#df-9dd7cb3f-9a2d-429a-8859-eec946873155 button.colab-df-convert');\n",
              "      buttonEl.style.display =\n",
              "        google.colab.kernel.accessAllowed ? 'block' : 'none';\n",
              "\n",
              "      async function convertToInteractive(key) {\n",
              "        const element = document.querySelector('#df-9dd7cb3f-9a2d-429a-8859-eec946873155');\n",
              "        const dataTable =\n",
              "          await google.colab.kernel.invokeFunction('convertToInteractive',\n",
              "                                                    [key], {});\n",
              "        if (!dataTable) return;\n",
              "\n",
              "        const docLinkHtml = 'Like what you see? Visit the ' +\n",
              "          '<a target=\"_blank\" href=https://colab.research.google.com/notebooks/data_table.ipynb>data table notebook</a>'\n",
              "          + ' to learn more about interactive tables.';\n",
              "        element.innerHTML = '';\n",
              "        dataTable['output_type'] = 'display_data';\n",
              "        await google.colab.output.renderOutput(dataTable, element);\n",
              "        const docLink = document.createElement('div');\n",
              "        docLink.innerHTML = docLinkHtml;\n",
              "        element.appendChild(docLink);\n",
              "      }\n",
              "    </script>\n",
              "  </div>\n",
              "\n",
              "\n",
              "<div id=\"df-61363bb1-6d00-4a16-9e02-fdac3ecaf47a\">\n",
              "  <button class=\"colab-df-quickchart\" onclick=\"quickchart('df-61363bb1-6d00-4a16-9e02-fdac3ecaf47a')\"\n",
              "            title=\"Suggest charts\"\n",
              "            style=\"display:none;\">\n",
              "\n",
              "<svg xmlns=\"http://www.w3.org/2000/svg\" height=\"24px\"viewBox=\"0 0 24 24\"\n",
              "     width=\"24px\">\n",
              "    <g>\n",
              "        <path d=\"M19 3H5c-1.1 0-2 .9-2 2v14c0 1.1.9 2 2 2h14c1.1 0 2-.9 2-2V5c0-1.1-.9-2-2-2zM9 17H7v-7h2v7zm4 0h-2V7h2v10zm4 0h-2v-4h2v4z\"/>\n",
              "    </g>\n",
              "</svg>\n",
              "  </button>\n",
              "\n",
              "<style>\n",
              "  .colab-df-quickchart {\n",
              "      --bg-color: #E8F0FE;\n",
              "      --fill-color: #1967D2;\n",
              "      --hover-bg-color: #E2EBFA;\n",
              "      --hover-fill-color: #174EA6;\n",
              "      --disabled-fill-color: #AAA;\n",
              "      --disabled-bg-color: #DDD;\n",
              "  }\n",
              "\n",
              "  [theme=dark] .colab-df-quickchart {\n",
              "      --bg-color: #3B4455;\n",
              "      --fill-color: #D2E3FC;\n",
              "      --hover-bg-color: #434B5C;\n",
              "      --hover-fill-color: #FFFFFF;\n",
              "      --disabled-bg-color: #3B4455;\n",
              "      --disabled-fill-color: #666;\n",
              "  }\n",
              "\n",
              "  .colab-df-quickchart {\n",
              "    background-color: var(--bg-color);\n",
              "    border: none;\n",
              "    border-radius: 50%;\n",
              "    cursor: pointer;\n",
              "    display: none;\n",
              "    fill: var(--fill-color);\n",
              "    height: 32px;\n",
              "    padding: 0;\n",
              "    width: 32px;\n",
              "  }\n",
              "\n",
              "  .colab-df-quickchart:hover {\n",
              "    background-color: var(--hover-bg-color);\n",
              "    box-shadow: 0 1px 2px rgba(60, 64, 67, 0.3), 0 1px 3px 1px rgba(60, 64, 67, 0.15);\n",
              "    fill: var(--button-hover-fill-color);\n",
              "  }\n",
              "\n",
              "  .colab-df-quickchart-complete:disabled,\n",
              "  .colab-df-quickchart-complete:disabled:hover {\n",
              "    background-color: var(--disabled-bg-color);\n",
              "    fill: var(--disabled-fill-color);\n",
              "    box-shadow: none;\n",
              "  }\n",
              "\n",
              "  .colab-df-spinner {\n",
              "    border: 2px solid var(--fill-color);\n",
              "    border-color: transparent;\n",
              "    border-bottom-color: var(--fill-color);\n",
              "    animation:\n",
              "      spin 1s steps(1) infinite;\n",
              "  }\n",
              "\n",
              "  @keyframes spin {\n",
              "    0% {\n",
              "      border-color: transparent;\n",
              "      border-bottom-color: var(--fill-color);\n",
              "      border-left-color: var(--fill-color);\n",
              "    }\n",
              "    20% {\n",
              "      border-color: transparent;\n",
              "      border-left-color: var(--fill-color);\n",
              "      border-top-color: var(--fill-color);\n",
              "    }\n",
              "    30% {\n",
              "      border-color: transparent;\n",
              "      border-left-color: var(--fill-color);\n",
              "      border-top-color: var(--fill-color);\n",
              "      border-right-color: var(--fill-color);\n",
              "    }\n",
              "    40% {\n",
              "      border-color: transparent;\n",
              "      border-right-color: var(--fill-color);\n",
              "      border-top-color: var(--fill-color);\n",
              "    }\n",
              "    60% {\n",
              "      border-color: transparent;\n",
              "      border-right-color: var(--fill-color);\n",
              "    }\n",
              "    80% {\n",
              "      border-color: transparent;\n",
              "      border-right-color: var(--fill-color);\n",
              "      border-bottom-color: var(--fill-color);\n",
              "    }\n",
              "    90% {\n",
              "      border-color: transparent;\n",
              "      border-bottom-color: var(--fill-color);\n",
              "    }\n",
              "  }\n",
              "</style>\n",
              "\n",
              "  <script>\n",
              "    async function quickchart(key) {\n",
              "      const quickchartButtonEl =\n",
              "        document.querySelector('#' + key + ' button');\n",
              "      quickchartButtonEl.disabled = true;  // To prevent multiple clicks.\n",
              "      quickchartButtonEl.classList.add('colab-df-spinner');\n",
              "      try {\n",
              "        const charts = await google.colab.kernel.invokeFunction(\n",
              "            'suggestCharts', [key], {});\n",
              "      } catch (error) {\n",
              "        console.error('Error during call to suggestCharts:', error);\n",
              "      }\n",
              "      quickchartButtonEl.classList.remove('colab-df-spinner');\n",
              "      quickchartButtonEl.classList.add('colab-df-quickchart-complete');\n",
              "    }\n",
              "    (() => {\n",
              "      let quickchartButtonEl =\n",
              "        document.querySelector('#df-61363bb1-6d00-4a16-9e02-fdac3ecaf47a button');\n",
              "      quickchartButtonEl.style.display =\n",
              "        google.colab.kernel.accessAllowed ? 'block' : 'none';\n",
              "    })();\n",
              "  </script>\n",
              "</div>\n",
              "    </div>\n",
              "  </div>\n"
            ],
            "application/vnd.google.colaboratory.intrinsic+json": {
              "type": "dataframe",
              "variable_name": "df_w2v",
              "summary": "{\n  \"name\": \"df_w2v\",\n  \"rows\": 11981,\n  \"fields\": [\n    {\n      \"column\": \"context\",\n      \"properties\": {\n        \"dtype\": \"string\",\n        \"num_unique_values\": 11981,\n        \"samples\": [\n          \"module information course delivery assessment learning outcomes on successful completion of this module students should be able to: critically evaluate relevant texts and consider the implications of these texts in performance;e. situate ancient and adapted texts in their cultural, political and historical contexts. demonstrate an awareness of the wider cultural and theoretical issues raised by adaptations of classical texts. produce organized, coherently structured and critically engaged written and oral work. aims the module focuses on adaptations and rewrites of \\\"the classics\\\" of antiquity with a view to asking the followng questions: what is a classic? is canonical status afforded to such work purely on the grounds of textual antiquity? why rewrite/adapt such works? what are the theatrical strategies of such reworkings? by looking at a variety of adaptations and rewrites students will develop an understanding of canon-formation and rewriting/performative rereading as a critical paradigm. brief description this module will provide a thorough introduction to plays that are representative of the key genres of ancient drama (satyr, tragedy and comedy) whilst providing a sound foundation for understanding how these ancient works have been and continue to be adapted and rewritten, for example as political protest, pacifist messages, critique of aesthetics and canonicity, a contemplation of our present age and beyond. in this respect, the module will provide a thorough overview of ancient drama, adaptation theory and a selection of modern (twentieth century and twenty first century) adaptations and rewrites. content lecture two: the trackers of oxyrynchus and sophocles' fragments: satyric drama and its regenerative potential lecture three: rewriting sophocles' antigone: brecht, fugard and gambaro - an overview lecture four: fugard, kani and ntshona's the island and \\\"life\\\" art: rewriting as political protest lecture five: pacifist antigones: gambaro's antigona furiosa, shaw's bury the dead and brecht's version of antigone after holderlin (screening of anouilh's antigone) lecture six: irish medeas; marina carr's by the bog o' the cats; (screening of meda - pasolini and lars von trier arranged) lecture seven: oedipus, freud and steven berkoff's greek; screening of lee breuer's gospel at colonos arranged lecture eight: genre and the ancients - from comedy to tragedy - tony harrison's the common chorus, aristophanes' lysistrata and euripides' the trojan women (screening of the trojan women arranged) lecture nine: why adapt and rewrite? lecture ten: tradition's progressive and subversive potential - a summation and revision pointers (maximum of 9 play texts accompanied by at least 6 screenings of play extracts)\",\n          \"jimmy savile, cyril smith, stuart hall and now max clifford. four powerful men, big figures with high public profiles. and all paedophiles who abused their positions to prey on vulnerable youngsters. savile and smith were, certainly, protected by the establishment. political clout intimidated police who protected the villains and failed their victims. savile escaped justice by dying before we knew the vile depths of his reign of terror. maggie thatcher\\u2019s favourite was considered off limits by the cops. rochdale lib dem mp cyril smith also largely cheated accounting for his offences. it wasn\\u2019t until after his death that labour mp simon danczuk was able to expose smith\\u2019s sadism. hall was sheltered by bbc fame but is now deservedly behind bars. publicist clifford will get his just deserts when sentenced on friday. sex abuse victims i\\u2019ve spoken to were doubly tormented when nobody listened to them. their complaints were dismissed, their testimony often rejected. they were ignored. the result was abusers escaped punishment to continue abusing. which brings me to the case of the tony blair minister highlighted in yesterday\\u2019s daily mirror. the allegation is this minister was involved in a london child sex ring in the 1980s. and a police inquiry was pulled in the 1990s when his name cropped up. hand on heart: i don\\u2019t know if he is guilty of a heinous crime or if his visits to a children\\u2019s home were misunderstood. but i do know there must be a thorough investigation. because the allegations are so serious they mustn\\u2019t be swept under the carpet. there must not be another cover-up. we owe the truth to victims of abuse. if i was the minister under suspicion and innocent, i\\u2019d be shouting loudest for an investigation to clear my name. over recent years so many people have come forward claiming they were abused by politicians there\\u2019s an argument for a wider inquiry. crusading mp tom watson spoke from a position of knowledge when he demanded an inquiry into a \\u201cpowerful paedophile ring\\u201d linked to the thatcher regime. the names of those linked to the elm guest house in south west london, a hive of abuse with cyril smith among the visitors, will shock you if they ever become public. victims who were insulted by cover-ups in the past deserve the truth in the future. we can\\u2019t right past wrongs but we owe it to those who endured unimaginable torment to learn from past mistakes.\",\n          \"this superior detached residence is situated in a quiet yet much sought after location within close proximity to the town centre and all local amenities. this property has been well maintained and is further enhanced by its spacious interior and extensive grounds making this an excellent family home. porch: 4\\u20191\\u2019\\u2019x7\\u20199\\u2019\\u2019, carpet flooring entrance hall: 7\\u20193\\u2019\\u2019 x 10\\u201910\\u201d carpet flooring, beams in ceiling, downlights, cloakroom, wc w.c: 4\\u201910\\u201d x 3\\u20193\\u201d tiled flooring, white suite, partially tiled walls living room: 11\\u201910\\u201d x 17\\u20193\\u201d carpet flooring, brick fireplace, bay window, tv point, beamed ceiling, down lights, telephone point. kitchen/dinette: 16\\u20199\\u201d x 10\\u20196\\u2019\\u2019 dark oak high and low level units, free standing cooker, freestanding dishwasher, free standing fridge freezer, extractor fan, tv point, tile flooring, partially tiled walls, beams in ceiling. dining room: 11\\u20198\\u2019\\u2019 x 12\\u201910\\u2019\\u2019 carpet flooring, patio doors, serving hatch from kitchen utility room: 12\\u2019x7\\u20194\\u2019\\u2019 tile flooring, plumbed for washing machine, s.s sink. landing: 17\\u201910\\u2019\\u2019x6\\u20191\\u2019\\u2019 carpet flooring, spot lights, hot press. bathroom: 7\\u20191\\u201d x 6\\u20191\\u201d cream suite, bath with mains shower above, tile flooring, partially tiled walls. master bedroom: 11\\u201911\\u201d x 17\\u201910\\u201d carpet flooring, tv point, 6 door robe built in, bay window. en- suite: 12\\u20199\\u2019\\u2019 x 10\\u20195\\u2019\\u2019 white suite, bath, large mains shower, tile flooring, fully tiled walls, double sink with storage unit. bedroom 2: 9\\u20194\\u201d x 9\\u20196\\u201d carpet flooring, walk-in wardrobe (11\\u2019x6\\u20191\\u2019\\u2019 vanity unit, fully railed, carpet flooring) bedroom 3: 10\\u20195\\u201d x 11\\u20193\\u201d carpet flooring. bedroom 4: 11\\u20193\\u2019\\u2019 x 13\\u20197\\u2019\\u2019 carpet flooring, built in wardrobes and drawer sets. pool: 9\\u201910\\u2019\\u2019 x 20\\u20195\\u2019\\u2019 heated pool sauna/ changing: 15\\u20195\\u2019\\u2019 x 8\\u20194\\u2019\\u2019 down lights, wooden ceiling, non slip flooring, shower office: 7\\u201910\\u2019\\u2019 x 7\\u20199\\u2019\\u2019 carpet flooring, telephone point games room: 11\\u20199\\u2019\\u2019x 13\\u20193\\u2019\\u2019 carpet flooring, pvc ceiling, full electrics, cladded walls, pool table garage 1: 11\\u2019 x 17\\u20198\\u2019\\u2019 up & over door, full electrics garage 2: 13\\u2019 x 12\\u20199\\u2019\\u2019 up & over door, full electrics other: pvc windows, wooden external doors, timber internal doors, beam hoover system. outside: spacious lawns with mature shrubs, large paved patio, full size tennis court, 9 hole mini golf course, tarmac driveway. epc ref: 9982-0527-6060-0739-4902\"\n        ],\n        \"semantic_type\": \"\",\n        \"description\": \"\"\n      }\n    },\n    {\n      \"column\": \"question\",\n      \"properties\": {\n        \"dtype\": \"string\",\n        \"num_unique_values\": 11981,\n        \"samples\": [\n          \"what are the learning outcomes of this module?\",\n          \"who were the four powerful men with high public profiles mentioned as paedophiles who abused their positions?\",\n          \"what are some of the features of the master bedroom in the described residence?\"\n        ],\n        \"semantic_type\": \"\",\n        \"description\": \"\"\n      }\n    },\n    {\n      \"column\": \"answer\",\n      \"properties\": {\n        \"dtype\": \"string\",\n        \"num_unique_values\": 11981,\n        \"samples\": [\n          \"on successful completion of this module students should be able to critically evaluate relevant texts and consider the implications of these texts in performance, situate ancient and adapted texts in their cultural, political and historical contexts, demonstrate an awareness of the wider cultural and theoretical issues raised by adaptations of classical texts, and produce organized, coherently structured and critically engaged written and oral work.\",\n          \"the four powerful men mentioned as paedophiles who abused their positions were jimmy savile, cyril smith, stuart hall and max clifford.\",\n          \"the master bedroom in the described residence features carpet flooring, a tv point, a 6 door robe built in, and a bay window. it also has an en-suite with a white suite, bath, large mains shower, tile flooring, fully tiled walls, and a double sink with a storage unit.\"\n        ],\n        \"semantic_type\": \"\",\n        \"description\": \"\"\n      }\n    },\n    {\n      \"column\": \"context_vec\",\n      \"properties\": {\n        \"dtype\": \"object\",\n        \"semantic_type\": \"\",\n        \"description\": \"\"\n      }\n    },\n    {\n      \"column\": \"cos_similarity_w2v\",\n      \"properties\": {\n        \"dtype\": \"float32\",\n        \"num_unique_values\": 11959,\n        \"samples\": [\n          0.8556120991706848,\n          0.8400213122367859,\n          0.7587810158729553\n        ],\n        \"semantic_type\": \"\",\n        \"description\": \"\"\n      }\n    },\n    {\n      \"column\": \"euc_dict_w2v\",\n      \"properties\": {\n        \"dtype\": \"float32\",\n        \"num_unique_values\": 11971,\n        \"samples\": [\n          1.4145011901855469,\n          1.005353569984436,\n          2.1361241340637207\n        ],\n        \"semantic_type\": \"\",\n        \"description\": \"\"\n      }\n    },\n    {\n      \"column\": \"top_ind_search_cos\",\n      \"properties\": {\n        \"dtype\": \"number\",\n        \"std\": 3442,\n        \"min\": 0,\n        \"max\": 11980,\n        \"num_unique_values\": 5788,\n        \"samples\": [\n          9261,\n          8606,\n          2512\n        ],\n        \"semantic_type\": \"\",\n        \"description\": \"\"\n      }\n    },\n    {\n      \"column\": \"top_ind_search_euc\",\n      \"properties\": {\n        \"dtype\": \"number\",\n        \"std\": 3446,\n        \"min\": 0,\n        \"max\": 11979,\n        \"num_unique_values\": 5805,\n        \"samples\": [\n          5855,\n          2783,\n          7668\n        ],\n        \"semantic_type\": \"\",\n        \"description\": \"\"\n      }\n    },\n    {\n      \"column\": \"eval_cos\",\n      \"properties\": {\n        \"dtype\": \"number\",\n        \"std\": 0,\n        \"min\": 0,\n        \"max\": 1,\n        \"num_unique_values\": 2,\n        \"samples\": [\n          1,\n          0\n        ],\n        \"semantic_type\": \"\",\n        \"description\": \"\"\n      }\n    },\n    {\n      \"column\": \"eval_euc\",\n      \"properties\": {\n        \"dtype\": \"number\",\n        \"std\": 0,\n        \"min\": 0,\n        \"max\": 1,\n        \"num_unique_values\": 2,\n        \"samples\": [\n          1,\n          0\n        ],\n        \"semantic_type\": \"\",\n        \"description\": \"\"\n      }\n    }\n  ]\n}"
            }
          },
          "metadata": {},
          "execution_count": 44
        }
      ]
    },
    {
      "cell_type": "markdown",
      "source": [
        "Оценка"
      ],
      "metadata": {
        "id": "aeN1pUhfhPr-"
      }
    },
    {
      "cell_type": "code",
      "source": [
        "df_w2v['eval_cos'].value_counts(normalize = True)\n"
      ],
      "metadata": {
        "colab": {
          "base_uri": "https://localhost:8080/",
          "height": 178
        },
        "id": "XSw5hDaNidKV",
        "outputId": "2a126a8a-71fd-4f1b-da5d-5fe312802465"
      },
      "execution_count": 43,
      "outputs": [
        {
          "output_type": "execute_result",
          "data": {
            "text/plain": [
              "eval_cos\n",
              "0    0.714548\n",
              "1    0.285452\n",
              "Name: proportion, dtype: float64"
            ],
            "text/html": [
              "<div>\n",
              "<style scoped>\n",
              "    .dataframe tbody tr th:only-of-type {\n",
              "        vertical-align: middle;\n",
              "    }\n",
              "\n",
              "    .dataframe tbody tr th {\n",
              "        vertical-align: top;\n",
              "    }\n",
              "\n",
              "    .dataframe thead th {\n",
              "        text-align: right;\n",
              "    }\n",
              "</style>\n",
              "<table border=\"1\" class=\"dataframe\">\n",
              "  <thead>\n",
              "    <tr style=\"text-align: right;\">\n",
              "      <th></th>\n",
              "      <th>proportion</th>\n",
              "    </tr>\n",
              "    <tr>\n",
              "      <th>eval_cos</th>\n",
              "      <th></th>\n",
              "    </tr>\n",
              "  </thead>\n",
              "  <tbody>\n",
              "    <tr>\n",
              "      <th>0</th>\n",
              "      <td>0.714548</td>\n",
              "    </tr>\n",
              "    <tr>\n",
              "      <th>1</th>\n",
              "      <td>0.285452</td>\n",
              "    </tr>\n",
              "  </tbody>\n",
              "</table>\n",
              "</div><br><label><b>dtype:</b> float64</label>"
            ]
          },
          "metadata": {},
          "execution_count": 43
        }
      ]
    },
    {
      "cell_type": "code",
      "source": [
        "df_w2v['eval_euc'].value_counts(normalize = True)"
      ],
      "metadata": {
        "colab": {
          "base_uri": "https://localhost:8080/",
          "height": 178
        },
        "id": "bh99Raihim_y",
        "outputId": "bf4b8416-f15f-452e-93b3-3138cc0689e9"
      },
      "execution_count": 45,
      "outputs": [
        {
          "output_type": "execute_result",
          "data": {
            "text/plain": [
              "eval_euc\n",
              "0    0.72014\n",
              "1    0.27986\n",
              "Name: proportion, dtype: float64"
            ],
            "text/html": [
              "<div>\n",
              "<style scoped>\n",
              "    .dataframe tbody tr th:only-of-type {\n",
              "        vertical-align: middle;\n",
              "    }\n",
              "\n",
              "    .dataframe tbody tr th {\n",
              "        vertical-align: top;\n",
              "    }\n",
              "\n",
              "    .dataframe thead th {\n",
              "        text-align: right;\n",
              "    }\n",
              "</style>\n",
              "<table border=\"1\" class=\"dataframe\">\n",
              "  <thead>\n",
              "    <tr style=\"text-align: right;\">\n",
              "      <th></th>\n",
              "      <th>proportion</th>\n",
              "    </tr>\n",
              "    <tr>\n",
              "      <th>eval_euc</th>\n",
              "      <th></th>\n",
              "    </tr>\n",
              "  </thead>\n",
              "  <tbody>\n",
              "    <tr>\n",
              "      <th>0</th>\n",
              "      <td>0.72014</td>\n",
              "    </tr>\n",
              "    <tr>\n",
              "      <th>1</th>\n",
              "      <td>0.27986</td>\n",
              "    </tr>\n",
              "  </tbody>\n",
              "</table>\n",
              "</div><br><label><b>dtype:</b> float64</label>"
            ]
          },
          "metadata": {},
          "execution_count": 45
        }
      ]
    },
    {
      "cell_type": "code",
      "source": [
        "precision_cos = precision_score(df_w2v.index, df_w2v.top_ind_search_cos, average='micro')\n",
        "precision_euc = precision_score(df_w2v.index, df_w2v.top_ind_search_euc, average='micro')\n",
        "\n",
        "print(precision_cos, precision_euc)"
      ],
      "metadata": {
        "colab": {
          "base_uri": "https://localhost:8080/"
        },
        "id": "rR2i7dYam0T5",
        "outputId": "88896ec7-ac28-4d75-cec1-5eeac478a60a"
      },
      "execution_count": 46,
      "outputs": [
        {
          "output_type": "stream",
          "name": "stdout",
          "text": [
            "0.28545196561221936 0.2798597779818045\n"
          ]
        }
      ]
    },
    {
      "cell_type": "markdown",
      "source": [
        "Вывод: на текущем этапе точность выдачи правильных ответов в соответствии с  датасетом по косинусной близости около 28%, по эвклидову расстоянию около 27%\n",
        "\n",
        "Здесь можно еще поработать с длинами векторов и с предобработкой текстов для улучшения результатов, но так результаты довольно далеки от приемлимых, использование данного метода исключается."
      ],
      "metadata": {
        "id": "Ug6ZRqdWl-Ax"
      }
    },
    {
      "cell_type": "markdown",
      "source": [
        "### Расширение датасета для сравнения времени извлечения ответа"
      ],
      "metadata": {
        "id": "yDsPbLCKjFU8"
      }
    },
    {
      "cell_type": "markdown",
      "source": [
        "Проводим эксперимент, который покажет, как меняется скорость поиска ответа при поиске брутфорсом при изменении размера базы. В исходном датасете 11981 строка.\n",
        "Увеличим его до 100 000 за счет использования другого датасета с готовыми векторами: dbpedia-entities-openai-1M.\n",
        "\n",
        "Для этого эксперимента ранее была обучена модель Word2Vec на векторах 1536, чтобы они совпадали со длиной в стороннем датасете."
      ],
      "metadata": {
        "id": "_7vXdWdRl8xJ"
      }
    },
    {
      "cell_type": "code",
      "source": [
        "%pip install datasets\n",
        "clear_output()"
      ],
      "metadata": {
        "id": "nYraMREemboh"
      },
      "execution_count": 42,
      "outputs": []
    },
    {
      "cell_type": "markdown",
      "source": [
        "Загрузим  датасет, который содержит векторы"
      ],
      "metadata": {
        "id": "yAZ7Ko7qNT3N"
      }
    },
    {
      "cell_type": "code",
      "source": [
        "from datasets import load_dataset\n",
        "ds = load_dataset(\"KShivendu/dbpedia-entities-openai-1M\")\n",
        "clear_output()"
      ],
      "metadata": {
        "id": "W9GnJI66mTHB"
      },
      "execution_count": 43,
      "outputs": []
    },
    {
      "cell_type": "markdown",
      "source": [
        "Добавим в датасет большое число векторов, чтобы отследить как изменяется время поиска ответа с увеличением базы ответов."
      ],
      "metadata": {
        "id": "rUeCIZ-RjPjG"
      }
    },
    {
      "cell_type": "code",
      "source": [
        "ds"
      ],
      "metadata": {
        "colab": {
          "base_uri": "https://localhost:8080/"
        },
        "id": "4QYc7vtLYLYN",
        "outputId": "23057cd1-4393-4c13-b393-ead0e784429f"
      },
      "execution_count": 45,
      "outputs": [
        {
          "output_type": "execute_result",
          "data": {
            "text/plain": [
              "DatasetDict({\n",
              "    train: Dataset({\n",
              "        features: ['_id', 'title', 'text', 'openai'],\n",
              "        num_rows: 1000000\n",
              "    })\n",
              "})"
            ]
          },
          "metadata": {},
          "execution_count": 45
        }
      ]
    },
    {
      "cell_type": "code",
      "source": [
        "ds_df = ds['train'].to_pandas()"
      ],
      "metadata": {
        "id": "H0aMPxoLsOrN"
      },
      "execution_count": 46,
      "outputs": []
    },
    {
      "cell_type": "code",
      "source": [
        "ds_df.head(5)\n",
        "# здесь нам понадобится только колонка с векторами 'openai' длина векторов 1536"
      ],
      "metadata": {
        "colab": {
          "base_uri": "https://localhost:8080/",
          "height": 206
        },
        "id": "F8Jw9m2HswYf",
        "outputId": "149bce2e-1f09-482c-f415-0118dfce39ca"
      },
      "execution_count": 47,
      "outputs": [
        {
          "output_type": "execute_result",
          "data": {
            "text/plain": [
              "                                                 _id  \\\n",
              "0                          <dbpedia:Animalia_(book)>   \n",
              "1  <dbpedia:Academy_Award_for_Best_Production_Des...   \n",
              "2                     <dbpedia:An_American_in_Paris>   \n",
              "3                               <dbpedia:Astronomer>   \n",
              "4                                   <dbpedia:Answer>   \n",
              "\n",
              "                                      title  \\\n",
              "0                           Animalia (book)   \n",
              "1  Academy Award for Best Production Design   \n",
              "2                      An American in Paris   \n",
              "3                                Astronomer   \n",
              "4                                    Answer   \n",
              "\n",
              "                                                text  \\\n",
              "0  Animalia is an illustrated children's book by ...   \n",
              "1  The Academy Awards are the oldest awards cerem...   \n",
              "2  An American in Paris is a jazz-influenced symp...   \n",
              "3  An astronomer is a scientist in the field of a...   \n",
              "4     Generally, an answer is a reply to a question.   \n",
              "\n",
              "                                              openai  \n",
              "0  [0.01739898, -0.014087932, -0.010348622, -0.02...  \n",
              "1  [0.007720728, -0.0005075968, 0.0010546186, -0....  \n",
              "2  [-0.004099648, -0.0010312927, 0.010681417, -0....  \n",
              "3  [0.0073957564, -0.0012736962, 0.0071257926, -0...  \n",
              "4  [-0.0064324955, 0.0026291676, 0.0003435213, -0...  "
            ],
            "text/html": [
              "\n",
              "  <div id=\"df-beafa6e4-2fbb-4be0-a3c4-7e6e7d67039f\" class=\"colab-df-container\">\n",
              "    <div>\n",
              "<style scoped>\n",
              "    .dataframe tbody tr th:only-of-type {\n",
              "        vertical-align: middle;\n",
              "    }\n",
              "\n",
              "    .dataframe tbody tr th {\n",
              "        vertical-align: top;\n",
              "    }\n",
              "\n",
              "    .dataframe thead th {\n",
              "        text-align: right;\n",
              "    }\n",
              "</style>\n",
              "<table border=\"1\" class=\"dataframe\">\n",
              "  <thead>\n",
              "    <tr style=\"text-align: right;\">\n",
              "      <th></th>\n",
              "      <th>_id</th>\n",
              "      <th>title</th>\n",
              "      <th>text</th>\n",
              "      <th>openai</th>\n",
              "    </tr>\n",
              "  </thead>\n",
              "  <tbody>\n",
              "    <tr>\n",
              "      <th>0</th>\n",
              "      <td>&lt;dbpedia:Animalia_(book)&gt;</td>\n",
              "      <td>Animalia (book)</td>\n",
              "      <td>Animalia is an illustrated children's book by ...</td>\n",
              "      <td>[0.01739898, -0.014087932, -0.010348622, -0.02...</td>\n",
              "    </tr>\n",
              "    <tr>\n",
              "      <th>1</th>\n",
              "      <td>&lt;dbpedia:Academy_Award_for_Best_Production_Des...</td>\n",
              "      <td>Academy Award for Best Production Design</td>\n",
              "      <td>The Academy Awards are the oldest awards cerem...</td>\n",
              "      <td>[0.007720728, -0.0005075968, 0.0010546186, -0....</td>\n",
              "    </tr>\n",
              "    <tr>\n",
              "      <th>2</th>\n",
              "      <td>&lt;dbpedia:An_American_in_Paris&gt;</td>\n",
              "      <td>An American in Paris</td>\n",
              "      <td>An American in Paris is a jazz-influenced symp...</td>\n",
              "      <td>[-0.004099648, -0.0010312927, 0.010681417, -0....</td>\n",
              "    </tr>\n",
              "    <tr>\n",
              "      <th>3</th>\n",
              "      <td>&lt;dbpedia:Astronomer&gt;</td>\n",
              "      <td>Astronomer</td>\n",
              "      <td>An astronomer is a scientist in the field of a...</td>\n",
              "      <td>[0.0073957564, -0.0012736962, 0.0071257926, -0...</td>\n",
              "    </tr>\n",
              "    <tr>\n",
              "      <th>4</th>\n",
              "      <td>&lt;dbpedia:Answer&gt;</td>\n",
              "      <td>Answer</td>\n",
              "      <td>Generally, an answer is a reply to a question.</td>\n",
              "      <td>[-0.0064324955, 0.0026291676, 0.0003435213, -0...</td>\n",
              "    </tr>\n",
              "  </tbody>\n",
              "</table>\n",
              "</div>\n",
              "    <div class=\"colab-df-buttons\">\n",
              "\n",
              "  <div class=\"colab-df-container\">\n",
              "    <button class=\"colab-df-convert\" onclick=\"convertToInteractive('df-beafa6e4-2fbb-4be0-a3c4-7e6e7d67039f')\"\n",
              "            title=\"Convert this dataframe to an interactive table.\"\n",
              "            style=\"display:none;\">\n",
              "\n",
              "  <svg xmlns=\"http://www.w3.org/2000/svg\" height=\"24px\" viewBox=\"0 -960 960 960\">\n",
              "    <path d=\"M120-120v-720h720v720H120Zm60-500h600v-160H180v160Zm220 220h160v-160H400v160Zm0 220h160v-160H400v160ZM180-400h160v-160H180v160Zm440 0h160v-160H620v160ZM180-180h160v-160H180v160Zm440 0h160v-160H620v160Z\"/>\n",
              "  </svg>\n",
              "    </button>\n",
              "\n",
              "  <style>\n",
              "    .colab-df-container {\n",
              "      display:flex;\n",
              "      gap: 12px;\n",
              "    }\n",
              "\n",
              "    .colab-df-convert {\n",
              "      background-color: #E8F0FE;\n",
              "      border: none;\n",
              "      border-radius: 50%;\n",
              "      cursor: pointer;\n",
              "      display: none;\n",
              "      fill: #1967D2;\n",
              "      height: 32px;\n",
              "      padding: 0 0 0 0;\n",
              "      width: 32px;\n",
              "    }\n",
              "\n",
              "    .colab-df-convert:hover {\n",
              "      background-color: #E2EBFA;\n",
              "      box-shadow: 0px 1px 2px rgba(60, 64, 67, 0.3), 0px 1px 3px 1px rgba(60, 64, 67, 0.15);\n",
              "      fill: #174EA6;\n",
              "    }\n",
              "\n",
              "    .colab-df-buttons div {\n",
              "      margin-bottom: 4px;\n",
              "    }\n",
              "\n",
              "    [theme=dark] .colab-df-convert {\n",
              "      background-color: #3B4455;\n",
              "      fill: #D2E3FC;\n",
              "    }\n",
              "\n",
              "    [theme=dark] .colab-df-convert:hover {\n",
              "      background-color: #434B5C;\n",
              "      box-shadow: 0px 1px 3px 1px rgba(0, 0, 0, 0.15);\n",
              "      filter: drop-shadow(0px 1px 2px rgba(0, 0, 0, 0.3));\n",
              "      fill: #FFFFFF;\n",
              "    }\n",
              "  </style>\n",
              "\n",
              "    <script>\n",
              "      const buttonEl =\n",
              "        document.querySelector('#df-beafa6e4-2fbb-4be0-a3c4-7e6e7d67039f button.colab-df-convert');\n",
              "      buttonEl.style.display =\n",
              "        google.colab.kernel.accessAllowed ? 'block' : 'none';\n",
              "\n",
              "      async function convertToInteractive(key) {\n",
              "        const element = document.querySelector('#df-beafa6e4-2fbb-4be0-a3c4-7e6e7d67039f');\n",
              "        const dataTable =\n",
              "          await google.colab.kernel.invokeFunction('convertToInteractive',\n",
              "                                                    [key], {});\n",
              "        if (!dataTable) return;\n",
              "\n",
              "        const docLinkHtml = 'Like what you see? Visit the ' +\n",
              "          '<a target=\"_blank\" href=https://colab.research.google.com/notebooks/data_table.ipynb>data table notebook</a>'\n",
              "          + ' to learn more about interactive tables.';\n",
              "        element.innerHTML = '';\n",
              "        dataTable['output_type'] = 'display_data';\n",
              "        await google.colab.output.renderOutput(dataTable, element);\n",
              "        const docLink = document.createElement('div');\n",
              "        docLink.innerHTML = docLinkHtml;\n",
              "        element.appendChild(docLink);\n",
              "      }\n",
              "    </script>\n",
              "  </div>\n",
              "\n",
              "\n",
              "<div id=\"df-a2798b5b-fa8a-4713-a7ee-2f9ff018cf45\">\n",
              "  <button class=\"colab-df-quickchart\" onclick=\"quickchart('df-a2798b5b-fa8a-4713-a7ee-2f9ff018cf45')\"\n",
              "            title=\"Suggest charts\"\n",
              "            style=\"display:none;\">\n",
              "\n",
              "<svg xmlns=\"http://www.w3.org/2000/svg\" height=\"24px\"viewBox=\"0 0 24 24\"\n",
              "     width=\"24px\">\n",
              "    <g>\n",
              "        <path d=\"M19 3H5c-1.1 0-2 .9-2 2v14c0 1.1.9 2 2 2h14c1.1 0 2-.9 2-2V5c0-1.1-.9-2-2-2zM9 17H7v-7h2v7zm4 0h-2V7h2v10zm4 0h-2v-4h2v4z\"/>\n",
              "    </g>\n",
              "</svg>\n",
              "  </button>\n",
              "\n",
              "<style>\n",
              "  .colab-df-quickchart {\n",
              "      --bg-color: #E8F0FE;\n",
              "      --fill-color: #1967D2;\n",
              "      --hover-bg-color: #E2EBFA;\n",
              "      --hover-fill-color: #174EA6;\n",
              "      --disabled-fill-color: #AAA;\n",
              "      --disabled-bg-color: #DDD;\n",
              "  }\n",
              "\n",
              "  [theme=dark] .colab-df-quickchart {\n",
              "      --bg-color: #3B4455;\n",
              "      --fill-color: #D2E3FC;\n",
              "      --hover-bg-color: #434B5C;\n",
              "      --hover-fill-color: #FFFFFF;\n",
              "      --disabled-bg-color: #3B4455;\n",
              "      --disabled-fill-color: #666;\n",
              "  }\n",
              "\n",
              "  .colab-df-quickchart {\n",
              "    background-color: var(--bg-color);\n",
              "    border: none;\n",
              "    border-radius: 50%;\n",
              "    cursor: pointer;\n",
              "    display: none;\n",
              "    fill: var(--fill-color);\n",
              "    height: 32px;\n",
              "    padding: 0;\n",
              "    width: 32px;\n",
              "  }\n",
              "\n",
              "  .colab-df-quickchart:hover {\n",
              "    background-color: var(--hover-bg-color);\n",
              "    box-shadow: 0 1px 2px rgba(60, 64, 67, 0.3), 0 1px 3px 1px rgba(60, 64, 67, 0.15);\n",
              "    fill: var(--button-hover-fill-color);\n",
              "  }\n",
              "\n",
              "  .colab-df-quickchart-complete:disabled,\n",
              "  .colab-df-quickchart-complete:disabled:hover {\n",
              "    background-color: var(--disabled-bg-color);\n",
              "    fill: var(--disabled-fill-color);\n",
              "    box-shadow: none;\n",
              "  }\n",
              "\n",
              "  .colab-df-spinner {\n",
              "    border: 2px solid var(--fill-color);\n",
              "    border-color: transparent;\n",
              "    border-bottom-color: var(--fill-color);\n",
              "    animation:\n",
              "      spin 1s steps(1) infinite;\n",
              "  }\n",
              "\n",
              "  @keyframes spin {\n",
              "    0% {\n",
              "      border-color: transparent;\n",
              "      border-bottom-color: var(--fill-color);\n",
              "      border-left-color: var(--fill-color);\n",
              "    }\n",
              "    20% {\n",
              "      border-color: transparent;\n",
              "      border-left-color: var(--fill-color);\n",
              "      border-top-color: var(--fill-color);\n",
              "    }\n",
              "    30% {\n",
              "      border-color: transparent;\n",
              "      border-left-color: var(--fill-color);\n",
              "      border-top-color: var(--fill-color);\n",
              "      border-right-color: var(--fill-color);\n",
              "    }\n",
              "    40% {\n",
              "      border-color: transparent;\n",
              "      border-right-color: var(--fill-color);\n",
              "      border-top-color: var(--fill-color);\n",
              "    }\n",
              "    60% {\n",
              "      border-color: transparent;\n",
              "      border-right-color: var(--fill-color);\n",
              "    }\n",
              "    80% {\n",
              "      border-color: transparent;\n",
              "      border-right-color: var(--fill-color);\n",
              "      border-bottom-color: var(--fill-color);\n",
              "    }\n",
              "    90% {\n",
              "      border-color: transparent;\n",
              "      border-bottom-color: var(--fill-color);\n",
              "    }\n",
              "  }\n",
              "</style>\n",
              "\n",
              "  <script>\n",
              "    async function quickchart(key) {\n",
              "      const quickchartButtonEl =\n",
              "        document.querySelector('#' + key + ' button');\n",
              "      quickchartButtonEl.disabled = true;  // To prevent multiple clicks.\n",
              "      quickchartButtonEl.classList.add('colab-df-spinner');\n",
              "      try {\n",
              "        const charts = await google.colab.kernel.invokeFunction(\n",
              "            'suggestCharts', [key], {});\n",
              "      } catch (error) {\n",
              "        console.error('Error during call to suggestCharts:', error);\n",
              "      }\n",
              "      quickchartButtonEl.classList.remove('colab-df-spinner');\n",
              "      quickchartButtonEl.classList.add('colab-df-quickchart-complete');\n",
              "    }\n",
              "    (() => {\n",
              "      let quickchartButtonEl =\n",
              "        document.querySelector('#df-a2798b5b-fa8a-4713-a7ee-2f9ff018cf45 button');\n",
              "      quickchartButtonEl.style.display =\n",
              "        google.colab.kernel.accessAllowed ? 'block' : 'none';\n",
              "    })();\n",
              "  </script>\n",
              "</div>\n",
              "    </div>\n",
              "  </div>\n"
            ],
            "application/vnd.google.colaboratory.intrinsic+json": {
              "type": "dataframe",
              "summary": "{\n  \"name\": \"# \\u0437\\u0434\\u0435\\u0441\\u044c \\u043d\\u0430\\u043c \\u043f\\u043e\\u043d\\u0430\\u0434\\u043e\\u0431\\u0438\\u0442\\u0441\\u044f \\u0442\\u043e\\u043b\\u044c\\u043a\\u043e \\u043a\\u043e\\u043b\\u043e\\u043d\\u043a\\u0430 \\u0441 \\u0432\\u0435\\u043a\\u0442\\u043e\\u0440\\u0430\\u043c\\u0438 'openai' \\u0434\\u043b\\u0438\\u043d\\u0430 \\u0432\\u0435\\u043a\\u0442\\u043e\\u0440\\u043e\\u0432 1536\",\n  \"rows\": 5,\n  \"fields\": [\n    {\n      \"column\": \"_id\",\n      \"properties\": {\n        \"dtype\": \"string\",\n        \"num_unique_values\": 5,\n        \"samples\": [\n          \"<dbpedia:Academy_Award_for_Best_Production_Design>\",\n          \"<dbpedia:Answer>\",\n          \"<dbpedia:An_American_in_Paris>\"\n        ],\n        \"semantic_type\": \"\",\n        \"description\": \"\"\n      }\n    },\n    {\n      \"column\": \"title\",\n      \"properties\": {\n        \"dtype\": \"string\",\n        \"num_unique_values\": 5,\n        \"samples\": [\n          \"Academy Award for Best Production Design\",\n          \"Answer\",\n          \"An American in Paris\"\n        ],\n        \"semantic_type\": \"\",\n        \"description\": \"\"\n      }\n    },\n    {\n      \"column\": \"text\",\n      \"properties\": {\n        \"dtype\": \"string\",\n        \"num_unique_values\": 5,\n        \"samples\": [\n          \"The Academy Awards are the oldest awards ceremony for achievements in motion pictures. The Academy Award for Best Production Design recognizes achievement in art direction on a film. The category's original name was Best Art Direction, but was changed to its current name in 2012 for the 85th Academy Awards.  This change resulted from the Art Director's branch of the Academy being renamed the Designer's branch.\",\n          \"Generally, an answer is a reply to a question.\",\n          \"An American in Paris is a jazz-influenced symphonic poem by the American composer George Gershwin, written in 1928. Inspired by the time Gershwin had spent in Paris, it evokes the sights and energy of the French capital in the 1920s and is one of his best-known compositions.Gershwin composed An American in Paris on commission from the conductor Walter Damrosch. He scored the piece for the standard instruments of the symphony orchestra plus celesta, saxophones, and automobile horns.\"\n        ],\n        \"semantic_type\": \"\",\n        \"description\": \"\"\n      }\n    },\n    {\n      \"column\": \"openai\",\n      \"properties\": {\n        \"dtype\": \"object\",\n        \"semantic_type\": \"\",\n        \"description\": \"\"\n      }\n    }\n  ]\n}"
            }
          },
          "metadata": {},
          "execution_count": 47
        }
      ]
    },
    {
      "cell_type": "code",
      "source": [
        "len(ds_df.openai[100])"
      ],
      "metadata": {
        "colab": {
          "base_uri": "https://localhost:8080/"
        },
        "id": "VSf7WoL2um9R",
        "outputId": "abdd2f90-4649-4aab-afc3-1f4a2f746dac"
      },
      "execution_count": 48,
      "outputs": [
        {
          "output_type": "execute_result",
          "data": {
            "text/plain": [
              "1536"
            ]
          },
          "metadata": {},
          "execution_count": 48
        }
      ]
    },
    {
      "cell_type": "code",
      "source": [
        "# объединение колонок с векторами для создания большого датасета\n",
        "new = pd.DataFrame()\n",
        "new['context_vec'] = ds_df['openai']\n",
        "new = new[:100000] # берем 100 000 строк, так как на большем объеме возникает нехватка памяти при брутфорсе\n",
        "\n",
        "small = pd.DataFrame()\n",
        "small['context_vec'] = df_w2v_1536['context_vec']\n",
        "\n",
        "big =  pd.concat([small, new], axis = 0)\n",
        "# перемешаем\n",
        "big = big.sample(frac = 1)\n",
        "big.reset_index(drop=True, inplace=True)\n",
        "big"
      ],
      "metadata": {
        "colab": {
          "base_uri": "https://localhost:8080/",
          "height": 424
        },
        "id": "PzzrSrpOBEB4",
        "outputId": "6fb1017a-25a6-4302-f6e1-7b1f00c10256"
      },
      "execution_count": 49,
      "outputs": [
        {
          "output_type": "execute_result",
          "data": {
            "text/plain": [
              "                                              context_vec\n",
              "0       [0.00013127529, 0.000654414, 0.007165503, -0.0...\n",
              "1       [-0.0156188235, 0.019545829, 0.017113866, 0.08...\n",
              "2       [-0.009712276, -0.021665346, -0.009451719, -0....\n",
              "3       [-0.024972843, 0.02056265, 0.022539133, 0.0949...\n",
              "4       [-0.015980568, -0.014273645, -0.011659498, -0....\n",
              "...                                                   ...\n",
              "111976  [0.009517315, 0.010230483, 0.023465104, -0.022...\n",
              "111977  [0.002097802, 0.022655016, 0.00629964, -0.0103...\n",
              "111978  [-0.021100154, 0.013022953, 0.016851714, -0.01...\n",
              "111979  [0.006903873, -0.00842802, -0.004817857, -0.01...\n",
              "111980  [0.0067061754, 0.0076111834, -0.011784638, 0.0...\n",
              "\n",
              "[111981 rows x 1 columns]"
            ],
            "text/html": [
              "\n",
              "  <div id=\"df-053b1e8b-91a2-4095-b546-9945e3f3b555\" class=\"colab-df-container\">\n",
              "    <div>\n",
              "<style scoped>\n",
              "    .dataframe tbody tr th:only-of-type {\n",
              "        vertical-align: middle;\n",
              "    }\n",
              "\n",
              "    .dataframe tbody tr th {\n",
              "        vertical-align: top;\n",
              "    }\n",
              "\n",
              "    .dataframe thead th {\n",
              "        text-align: right;\n",
              "    }\n",
              "</style>\n",
              "<table border=\"1\" class=\"dataframe\">\n",
              "  <thead>\n",
              "    <tr style=\"text-align: right;\">\n",
              "      <th></th>\n",
              "      <th>context_vec</th>\n",
              "    </tr>\n",
              "  </thead>\n",
              "  <tbody>\n",
              "    <tr>\n",
              "      <th>0</th>\n",
              "      <td>[0.00013127529, 0.000654414, 0.007165503, -0.0...</td>\n",
              "    </tr>\n",
              "    <tr>\n",
              "      <th>1</th>\n",
              "      <td>[-0.0156188235, 0.019545829, 0.017113866, 0.08...</td>\n",
              "    </tr>\n",
              "    <tr>\n",
              "      <th>2</th>\n",
              "      <td>[-0.009712276, -0.021665346, -0.009451719, -0....</td>\n",
              "    </tr>\n",
              "    <tr>\n",
              "      <th>3</th>\n",
              "      <td>[-0.024972843, 0.02056265, 0.022539133, 0.0949...</td>\n",
              "    </tr>\n",
              "    <tr>\n",
              "      <th>4</th>\n",
              "      <td>[-0.015980568, -0.014273645, -0.011659498, -0....</td>\n",
              "    </tr>\n",
              "    <tr>\n",
              "      <th>...</th>\n",
              "      <td>...</td>\n",
              "    </tr>\n",
              "    <tr>\n",
              "      <th>111976</th>\n",
              "      <td>[0.009517315, 0.010230483, 0.023465104, -0.022...</td>\n",
              "    </tr>\n",
              "    <tr>\n",
              "      <th>111977</th>\n",
              "      <td>[0.002097802, 0.022655016, 0.00629964, -0.0103...</td>\n",
              "    </tr>\n",
              "    <tr>\n",
              "      <th>111978</th>\n",
              "      <td>[-0.021100154, 0.013022953, 0.016851714, -0.01...</td>\n",
              "    </tr>\n",
              "    <tr>\n",
              "      <th>111979</th>\n",
              "      <td>[0.006903873, -0.00842802, -0.004817857, -0.01...</td>\n",
              "    </tr>\n",
              "    <tr>\n",
              "      <th>111980</th>\n",
              "      <td>[0.0067061754, 0.0076111834, -0.011784638, 0.0...</td>\n",
              "    </tr>\n",
              "  </tbody>\n",
              "</table>\n",
              "<p>111981 rows × 1 columns</p>\n",
              "</div>\n",
              "    <div class=\"colab-df-buttons\">\n",
              "\n",
              "  <div class=\"colab-df-container\">\n",
              "    <button class=\"colab-df-convert\" onclick=\"convertToInteractive('df-053b1e8b-91a2-4095-b546-9945e3f3b555')\"\n",
              "            title=\"Convert this dataframe to an interactive table.\"\n",
              "            style=\"display:none;\">\n",
              "\n",
              "  <svg xmlns=\"http://www.w3.org/2000/svg\" height=\"24px\" viewBox=\"0 -960 960 960\">\n",
              "    <path d=\"M120-120v-720h720v720H120Zm60-500h600v-160H180v160Zm220 220h160v-160H400v160Zm0 220h160v-160H400v160ZM180-400h160v-160H180v160Zm440 0h160v-160H620v160ZM180-180h160v-160H180v160Zm440 0h160v-160H620v160Z\"/>\n",
              "  </svg>\n",
              "    </button>\n",
              "\n",
              "  <style>\n",
              "    .colab-df-container {\n",
              "      display:flex;\n",
              "      gap: 12px;\n",
              "    }\n",
              "\n",
              "    .colab-df-convert {\n",
              "      background-color: #E8F0FE;\n",
              "      border: none;\n",
              "      border-radius: 50%;\n",
              "      cursor: pointer;\n",
              "      display: none;\n",
              "      fill: #1967D2;\n",
              "      height: 32px;\n",
              "      padding: 0 0 0 0;\n",
              "      width: 32px;\n",
              "    }\n",
              "\n",
              "    .colab-df-convert:hover {\n",
              "      background-color: #E2EBFA;\n",
              "      box-shadow: 0px 1px 2px rgba(60, 64, 67, 0.3), 0px 1px 3px 1px rgba(60, 64, 67, 0.15);\n",
              "      fill: #174EA6;\n",
              "    }\n",
              "\n",
              "    .colab-df-buttons div {\n",
              "      margin-bottom: 4px;\n",
              "    }\n",
              "\n",
              "    [theme=dark] .colab-df-convert {\n",
              "      background-color: #3B4455;\n",
              "      fill: #D2E3FC;\n",
              "    }\n",
              "\n",
              "    [theme=dark] .colab-df-convert:hover {\n",
              "      background-color: #434B5C;\n",
              "      box-shadow: 0px 1px 3px 1px rgba(0, 0, 0, 0.15);\n",
              "      filter: drop-shadow(0px 1px 2px rgba(0, 0, 0, 0.3));\n",
              "      fill: #FFFFFF;\n",
              "    }\n",
              "  </style>\n",
              "\n",
              "    <script>\n",
              "      const buttonEl =\n",
              "        document.querySelector('#df-053b1e8b-91a2-4095-b546-9945e3f3b555 button.colab-df-convert');\n",
              "      buttonEl.style.display =\n",
              "        google.colab.kernel.accessAllowed ? 'block' : 'none';\n",
              "\n",
              "      async function convertToInteractive(key) {\n",
              "        const element = document.querySelector('#df-053b1e8b-91a2-4095-b546-9945e3f3b555');\n",
              "        const dataTable =\n",
              "          await google.colab.kernel.invokeFunction('convertToInteractive',\n",
              "                                                    [key], {});\n",
              "        if (!dataTable) return;\n",
              "\n",
              "        const docLinkHtml = 'Like what you see? Visit the ' +\n",
              "          '<a target=\"_blank\" href=https://colab.research.google.com/notebooks/data_table.ipynb>data table notebook</a>'\n",
              "          + ' to learn more about interactive tables.';\n",
              "        element.innerHTML = '';\n",
              "        dataTable['output_type'] = 'display_data';\n",
              "        await google.colab.output.renderOutput(dataTable, element);\n",
              "        const docLink = document.createElement('div');\n",
              "        docLink.innerHTML = docLinkHtml;\n",
              "        element.appendChild(docLink);\n",
              "      }\n",
              "    </script>\n",
              "  </div>\n",
              "\n",
              "\n",
              "<div id=\"df-e0382b9f-b36e-4c58-92ae-b9506d1331ba\">\n",
              "  <button class=\"colab-df-quickchart\" onclick=\"quickchart('df-e0382b9f-b36e-4c58-92ae-b9506d1331ba')\"\n",
              "            title=\"Suggest charts\"\n",
              "            style=\"display:none;\">\n",
              "\n",
              "<svg xmlns=\"http://www.w3.org/2000/svg\" height=\"24px\"viewBox=\"0 0 24 24\"\n",
              "     width=\"24px\">\n",
              "    <g>\n",
              "        <path d=\"M19 3H5c-1.1 0-2 .9-2 2v14c0 1.1.9 2 2 2h14c1.1 0 2-.9 2-2V5c0-1.1-.9-2-2-2zM9 17H7v-7h2v7zm4 0h-2V7h2v10zm4 0h-2v-4h2v4z\"/>\n",
              "    </g>\n",
              "</svg>\n",
              "  </button>\n",
              "\n",
              "<style>\n",
              "  .colab-df-quickchart {\n",
              "      --bg-color: #E8F0FE;\n",
              "      --fill-color: #1967D2;\n",
              "      --hover-bg-color: #E2EBFA;\n",
              "      --hover-fill-color: #174EA6;\n",
              "      --disabled-fill-color: #AAA;\n",
              "      --disabled-bg-color: #DDD;\n",
              "  }\n",
              "\n",
              "  [theme=dark] .colab-df-quickchart {\n",
              "      --bg-color: #3B4455;\n",
              "      --fill-color: #D2E3FC;\n",
              "      --hover-bg-color: #434B5C;\n",
              "      --hover-fill-color: #FFFFFF;\n",
              "      --disabled-bg-color: #3B4455;\n",
              "      --disabled-fill-color: #666;\n",
              "  }\n",
              "\n",
              "  .colab-df-quickchart {\n",
              "    background-color: var(--bg-color);\n",
              "    border: none;\n",
              "    border-radius: 50%;\n",
              "    cursor: pointer;\n",
              "    display: none;\n",
              "    fill: var(--fill-color);\n",
              "    height: 32px;\n",
              "    padding: 0;\n",
              "    width: 32px;\n",
              "  }\n",
              "\n",
              "  .colab-df-quickchart:hover {\n",
              "    background-color: var(--hover-bg-color);\n",
              "    box-shadow: 0 1px 2px rgba(60, 64, 67, 0.3), 0 1px 3px 1px rgba(60, 64, 67, 0.15);\n",
              "    fill: var(--button-hover-fill-color);\n",
              "  }\n",
              "\n",
              "  .colab-df-quickchart-complete:disabled,\n",
              "  .colab-df-quickchart-complete:disabled:hover {\n",
              "    background-color: var(--disabled-bg-color);\n",
              "    fill: var(--disabled-fill-color);\n",
              "    box-shadow: none;\n",
              "  }\n",
              "\n",
              "  .colab-df-spinner {\n",
              "    border: 2px solid var(--fill-color);\n",
              "    border-color: transparent;\n",
              "    border-bottom-color: var(--fill-color);\n",
              "    animation:\n",
              "      spin 1s steps(1) infinite;\n",
              "  }\n",
              "\n",
              "  @keyframes spin {\n",
              "    0% {\n",
              "      border-color: transparent;\n",
              "      border-bottom-color: var(--fill-color);\n",
              "      border-left-color: var(--fill-color);\n",
              "    }\n",
              "    20% {\n",
              "      border-color: transparent;\n",
              "      border-left-color: var(--fill-color);\n",
              "      border-top-color: var(--fill-color);\n",
              "    }\n",
              "    30% {\n",
              "      border-color: transparent;\n",
              "      border-left-color: var(--fill-color);\n",
              "      border-top-color: var(--fill-color);\n",
              "      border-right-color: var(--fill-color);\n",
              "    }\n",
              "    40% {\n",
              "      border-color: transparent;\n",
              "      border-right-color: var(--fill-color);\n",
              "      border-top-color: var(--fill-color);\n",
              "    }\n",
              "    60% {\n",
              "      border-color: transparent;\n",
              "      border-right-color: var(--fill-color);\n",
              "    }\n",
              "    80% {\n",
              "      border-color: transparent;\n",
              "      border-right-color: var(--fill-color);\n",
              "      border-bottom-color: var(--fill-color);\n",
              "    }\n",
              "    90% {\n",
              "      border-color: transparent;\n",
              "      border-bottom-color: var(--fill-color);\n",
              "    }\n",
              "  }\n",
              "</style>\n",
              "\n",
              "  <script>\n",
              "    async function quickchart(key) {\n",
              "      const quickchartButtonEl =\n",
              "        document.querySelector('#' + key + ' button');\n",
              "      quickchartButtonEl.disabled = true;  // To prevent multiple clicks.\n",
              "      quickchartButtonEl.classList.add('colab-df-spinner');\n",
              "      try {\n",
              "        const charts = await google.colab.kernel.invokeFunction(\n",
              "            'suggestCharts', [key], {});\n",
              "      } catch (error) {\n",
              "        console.error('Error during call to suggestCharts:', error);\n",
              "      }\n",
              "      quickchartButtonEl.classList.remove('colab-df-spinner');\n",
              "      quickchartButtonEl.classList.add('colab-df-quickchart-complete');\n",
              "    }\n",
              "    (() => {\n",
              "      let quickchartButtonEl =\n",
              "        document.querySelector('#df-e0382b9f-b36e-4c58-92ae-b9506d1331ba button');\n",
              "      quickchartButtonEl.style.display =\n",
              "        google.colab.kernel.accessAllowed ? 'block' : 'none';\n",
              "    })();\n",
              "  </script>\n",
              "</div>\n",
              "    </div>\n",
              "  </div>\n"
            ],
            "application/vnd.google.colaboratory.intrinsic+json": {
              "type": "dataframe",
              "variable_name": "big"
            }
          },
          "metadata": {},
          "execution_count": 49
        }
      ]
    },
    {
      "cell_type": "code",
      "source": [
        "# big.to_parquet('big_common.parquet')\n",
        "# big = pd.read_parquet('big_common.parquet')\n",
        "# big"
      ],
      "metadata": {
        "id": "0J0SbuIlYDnI"
      },
      "execution_count": 48,
      "outputs": []
    },
    {
      "cell_type": "markdown",
      "source": [
        "получили датасет в 111 983 строки"
      ],
      "metadata": {
        "id": "jWHxFIJ4alaA"
      }
    },
    {
      "cell_type": "markdown",
      "source": [
        "#### search_03 (скорость/объем)\n",
        "\n"
      ],
      "metadata": {
        "id": "XhZX2LlYDG81"
      }
    },
    {
      "cell_type": "markdown",
      "source": [
        "Теперь протестируем время поиска и извлечения релевантного ответа по большому датасету\n",
        "Ранее искали по 11983 строкам, теперь по 111 983 строкам"
      ],
      "metadata": {
        "id": "n_FmjLaQa6ea"
      }
    },
    {
      "cell_type": "code",
      "source": [
        "# Тестовый набор векторов (берем 50 случайных вопросов)\n",
        "qq =  df_w2v_1536.question.sample(50, random_state=42).to_list()\n",
        "vectors = []\n",
        "for q in qq:\n",
        "    vec = get_phrase_embedding(q, w2v_rag_1536)\n",
        "    vectors.append(vec)"
      ],
      "metadata": {
        "id": "Fc08qhuRwgPZ"
      },
      "execution_count": 61,
      "outputs": []
    },
    {
      "cell_type": "code",
      "source": [
        "small.shape, big.shape  # датасет, в котором 11 983 строки наших контекстов из проекта, обогащенный датасет с википедей, в котором 111 983 строки наших"
      ],
      "metadata": {
        "colab": {
          "base_uri": "https://localhost:8080/"
        },
        "id": "b7atgxLSATwq",
        "outputId": "0f7f373f-311e-469c-c1ef-7765ae2c2fb3"
      },
      "execution_count": 53,
      "outputs": [
        {
          "output_type": "execute_result",
          "data": {
            "text/plain": [
              "((11981, 1), (111981, 1))"
            ]
          },
          "metadata": {},
          "execution_count": 53
        }
      ]
    },
    {
      "cell_type": "markdown",
      "source": [
        "Поиск по косинусному сходству"
      ],
      "metadata": {
        "id": "fse9zsayzbdM"
      }
    },
    {
      "cell_type": "code",
      "source": [
        "# тест для одного сэмпла\n",
        "df_w2v_1536.question[110]"
      ],
      "metadata": {
        "colab": {
          "base_uri": "https://localhost:8080/",
          "height": 35
        },
        "id": "biBTlMFvSZcz",
        "outputId": "e916aab7-a254-4f0a-ee2d-bd6c8baf1242"
      },
      "execution_count": 62,
      "outputs": [
        {
          "output_type": "execute_result",
          "data": {
            "text/plain": [
              "'why is the fairport public library moving to a new location?'"
            ],
            "application/vnd.google.colaboratory.intrinsic+json": {
              "type": "string"
            }
          },
          "metadata": {},
          "execution_count": 62
        }
      ]
    },
    {
      "cell_type": "code",
      "source": [
        "query = get_phrase_embedding(df_w2v.question[110], w2v_rag_1536) # тестовый вопрос"
      ],
      "metadata": {
        "id": "BRT621qvyBtv"
      },
      "execution_count": 63,
      "outputs": []
    },
    {
      "cell_type": "code",
      "source": [
        "# тест small cosine\n",
        "%%time\n",
        "results = search_(query, small, 'cos', w2v_rag_1536, top_k=1)\n",
        "print(results)"
      ],
      "metadata": {
        "colab": {
          "base_uri": "https://localhost:8080/"
        },
        "outputId": "523daabb-ef83-4f7c-8cab-caf519346354",
        "id": "e7QyS2cgDGCl"
      },
      "execution_count": 64,
      "outputs": [
        {
          "output_type": "stream",
          "name": "stdout",
          "text": [
            "                                           context_vec\n",
            "110  [-0.03583976, 0.055027705, 0.00070288294, 0.04...\n",
            "CPU times: user 106 ms, sys: 82.3 ms, total: 188 ms\n",
            "Wall time: 174 ms\n"
          ]
        }
      ]
    },
    {
      "cell_type": "code",
      "source": [
        "# функция для тестирования времени работы поиска\n",
        "# запускаем её на списке векторов из ранее сформированного набора случайных вопросов\n",
        "# на выходе получаем список с временами для отрисовки\n",
        "def test(qq, df, method):\n",
        "    plt = []\n",
        "    for q in qq:\n",
        "        start = time.time()\n",
        "        search_(q, df, method, w2v_rag_1536, top_k=1)\n",
        "        end = time.time()\n",
        "        res = end - start\n",
        "        plt.append(res)\n",
        "    return plt"
      ],
      "metadata": {
        "id": "WfV0Idh1w9ls"
      },
      "execution_count": 66,
      "outputs": []
    },
    {
      "cell_type": "code",
      "source": [
        "# Протестируем время извлечения ответов на 50 значениях + маленький датасет\n",
        "sns.set_theme(palette ='pastel', font_scale=0.8)\n",
        "t =  test(vectors, small, 'cos')\n",
        "mean = sum(t)/len(t)\n",
        "print('Среднее время извлечения ответа:', mean)\n",
        "sns.lineplot(t, color=\"red\").set_title(\"Время small cos\");"
      ],
      "metadata": {
        "colab": {
          "base_uri": "https://localhost:8080/",
          "height": 469
        },
        "id": "qQHz5b-EWEj9",
        "outputId": "21b6c3f9-e7ba-493e-ff24-34a1a1472148"
      },
      "execution_count": 67,
      "outputs": [
        {
          "output_type": "stream",
          "name": "stdout",
          "text": [
            "Среднее время извлечения ответа: 0.16072988033294677\n"
          ]
        },
        {
          "output_type": "display_data",
          "data": {
            "text/plain": [
              "<Figure size 640x480 with 1 Axes>"
            ],
            "image/png": "[encoded data removed]"
          },
          "metadata": {}
        }
      ]
    },
    {
      "cell_type": "code",
      "source": [
        "# тест big cosine\n",
        "%%time\n",
        "results = search_(query, big, 'cos', w2v_rag_1536, top_k=1)\n",
        "print(results)"
      ],
      "metadata": {
        "id": "Mz38BTLHAXju",
        "colab": {
          "base_uri": "https://localhost:8080/"
        },
        "outputId": "54ce2361-5220-424b-e3c2-14c64abb87cf"
      },
      "execution_count": 68,
      "outputs": [
        {
          "output_type": "stream",
          "name": "stdout",
          "text": [
            "                                             context_vec\n",
            "47184  [-0.009879556, -0.0032072135, 0.009872427, 0.0...\n",
            "CPU times: user 816 ms, sys: 660 ms, total: 1.48 s\n",
            "Wall time: 1.4 s\n"
          ]
        }
      ]
    },
    {
      "cell_type": "code",
      "source": [
        "# Протестируем время извлечения ответов на 50 значениях + большой датасет\n",
        "\n",
        "sns.set_theme(palette ='pastel', font_scale=0.8)\n",
        "t =  test(vectors, big, 'cos')\n",
        "mean = sum(t)/len(t)\n",
        "print('Среднее время извлечения ответа:', mean)\n",
        "sns.lineplot(t, color=\"green\").set_title(\"Время big cos\");"
      ],
      "metadata": {
        "colab": {
          "base_uri": "https://localhost:8080/",
          "height": 469
        },
        "id": "JzxAUAlTpY0g",
        "outputId": "25678bd5-09fd-4ce2-bccf-bf76fdc17498"
      },
      "execution_count": 69,
      "outputs": [
        {
          "output_type": "stream",
          "name": "stdout",
          "text": [
            "Среднее время извлечения ответа: 1.065962314605713\n"
          ]
        },
        {
          "output_type": "display_data",
          "data": {
            "text/plain": [
              "<Figure size 640x480 with 1 Axes>"
            ],
            "image/png": "[encoded data removed]"
          },
          "metadata": {}
        }
      ]
    },
    {
      "cell_type": "markdown",
      "source": [
        "Поиск по эвклидову расстоянию"
      ],
      "metadata": {
        "id": "22MlFTgTyefB"
      }
    },
    {
      "cell_type": "code",
      "source": [
        "t =  test(vectors, small, 'euc')\n",
        "mean = sum(t)/len(t)\n",
        "print('Среднее время извлечения ответа:', mean)\n",
        "sns.lineplot(t, color = 'red').set_title(\"Время small euc\");"
      ],
      "metadata": {
        "colab": {
          "base_uri": "https://localhost:8080/",
          "height": 469
        },
        "id": "SYXPUDieqeeP",
        "outputId": "bc6ec9a7-6bd4-458b-b5b0-312a769e537e"
      },
      "execution_count": 70,
      "outputs": [
        {
          "output_type": "stream",
          "name": "stdout",
          "text": [
            "Среднее время извлечения ответа: 0.11980637073516846\n"
          ]
        },
        {
          "output_type": "display_data",
          "data": {
            "text/plain": [
              "<Figure size 640x480 with 1 Axes>"
            ],
            "image/png": "[encoded data removed]"
          },
          "metadata": {}
        }
      ]
    },
    {
      "cell_type": "code",
      "source": [
        "t =  test(vectors, big, 'euc')\n",
        "mean = sum(t)/len(t)\n",
        "print('Среднее время извлечения ответа:', mean)\n",
        "sns.lineplot(t, color = 'green').set_title(\"Время big euc\");"
      ],
      "metadata": {
        "colab": {
          "base_uri": "https://localhost:8080/",
          "height": 469
        },
        "id": "a9_1HdToqfLv",
        "outputId": "23044050-c5a3-46d1-b762-9fb97e03c22c"
      },
      "execution_count": 71,
      "outputs": [
        {
          "output_type": "stream",
          "name": "stdout",
          "text": [
            "Среднее время извлечения ответа: 1.4433760404586793\n"
          ]
        },
        {
          "output_type": "display_data",
          "data": {
            "text/plain": [
              "<Figure size 640x480 with 1 Axes>"
            ],
            "image/png": "[encoded data removed]"
          },
          "metadata": {}
        }
      ]
    },
    {
      "cell_type": "markdown",
      "source": [
        "Выводы: при увеличении датасета в 10 раз время поиска ответа возрастает примерно в 10 раз. Если на ~12 тыс данных извлечение происходит в среднем за 0.1 секунду, то на большом в 120 000 примерно за 1 - 1.4 секунды, в зависимости от метода подсчета близости."
      ],
      "metadata": {
        "id": "nJiyPQrk1SQ5"
      }
    },
    {
      "cell_type": "markdown",
      "source": [
        "## QDRANT"
      ],
      "metadata": {
        "id": "nuLWFfDaAiX0"
      }
    },
    {
      "cell_type": "code",
      "source": [
        "%pip install -U qdrant-client\n",
        "clear_output()"
      ],
      "metadata": {
        "id": "6-sEDGXyvnKn"
      },
      "execution_count": 73,
      "outputs": []
    },
    {
      "cell_type": "code",
      "source": [
        "from qdrant_client import models, QdrantClient\n",
        "from qdrant_client.models import VectorParams, Distance\n",
        "from sentence_transformers import SentenceTransformer,CrossEncoder"
      ],
      "metadata": {
        "id": "I40NKM3Kn8ck"
      },
      "execution_count": 74,
      "outputs": []
    },
    {
      "cell_type": "markdown",
      "source": [
        "Загрузка готовых эмбеддингов w2vec в **qdrant**"
      ],
      "metadata": {
        "id": "cBA4CX7lr8AX"
      }
    },
    {
      "cell_type": "markdown",
      "source": [
        "### search_04 exact"
      ],
      "metadata": {
        "id": "23Qp4laiBZFZ"
      }
    },
    {
      "cell_type": "code",
      "source": [
        "qdrant_client = QdrantClient(\":memory:\")"
      ],
      "metadata": {
        "id": "wY71KYkb1A93"
      },
      "execution_count": 75,
      "outputs": []
    },
    {
      "cell_type": "code",
      "source": [
        "# Создание коллекции\n",
        "qdrant_client.recreate_collection(\n",
        "    collection_name=\"w2vec_embeddings\",\n",
        "    vectors_config=models.VectorParams(\n",
        "        size=1536,\n",
        "        distance=models.Distance.COSINE,\n",
        "    ),\n",
        ")\n"
      ],
      "metadata": {
        "colab": {
          "base_uri": "https://localhost:8080/"
        },
        "id": "EbZ4iR8T470b",
        "outputId": "f9e6463c-dcc2-4443-a48c-44c3aca328cc"
      },
      "execution_count": 76,
      "outputs": [
        {
          "output_type": "execute_result",
          "data": {
            "text/plain": [
              "True"
            ]
          },
          "metadata": {},
          "execution_count": 76
        }
      ]
    },
    {
      "cell_type": "code",
      "source": [
        "small['id'] = small.index\n",
        "df_w2v_1536['id'] = df_w2v_1536.index"
      ],
      "metadata": {
        "id": "VaYmHVtpqTmV"
      },
      "execution_count": 80,
      "outputs": []
    },
    {
      "cell_type": "code",
      "source": [
        "# загрузка данных в базу\n",
        "qdrant_client.upload_points(\n",
        "    collection_name=\"w2vec_embeddings\",\n",
        "    points=[\n",
        "        models.PointStruct(\n",
        "            id=row[1][\"id\"],\n",
        "            vector=(row[1][\"context_vec\"]),\n",
        "            payload={\"context\":row[1][\"context\"]}\n",
        "        )\n",
        "        for row in df_w2v_1536.iterrows()\n",
        "    ],\n",
        ")\n"
      ],
      "metadata": {
        "id": "GSXijO6z4zxS"
      },
      "execution_count": 81,
      "outputs": []
    },
    {
      "cell_type": "code",
      "source": [
        "qdrant_client.count(\n",
        "    collection_name='w2vec_embeddings',\n",
        "    exact=True,\n",
        ")"
      ],
      "metadata": {
        "colab": {
          "base_uri": "https://localhost:8080/"
        },
        "id": "FrMIDOzD30Mu",
        "outputId": "887446c7-321d-4121-cf2d-941b66638b0a"
      },
      "execution_count": 82,
      "outputs": [
        {
          "output_type": "execute_result",
          "data": {
            "text/plain": [
              "CountResult(count=11981)"
            ]
          },
          "metadata": {},
          "execution_count": 82
        }
      ]
    },
    {
      "cell_type": "code",
      "source": [
        "df_w2v_1536.context[1110]"
      ],
      "metadata": {
        "colab": {
          "base_uri": "https://localhost:8080/",
          "height": 107
        },
        "id": "-qXM9Zl93D7F",
        "outputId": "5b6490f6-90ac-40b5-adff-33dfd6cb9be1"
      },
      "execution_count": 83,
      "outputs": [
        {
          "output_type": "execute_result",
          "data": {
            "text/plain": [
              "'manual on how to use an undergraduate thesis database one of the best things that we can appreciate about the learning environment today, is the fact that there are so many support systems in place, systems that were never there before. as a student, you have so much going on, so much working in your favor, that it would be reckless for you to fail any paper, just because you did not know what to do. a key element in the support systems today is the dissertation database. this collection of resources is one of the finest things that you will ever come across. you can imagine being able to work on your paper without any challenges, and mostly because you have a lot of support material that can assist you. for those who have never used such a database in their lives before, do not worry. the following are some key pointers that will help you make the best use of systems like this one, and be able to appreciate the results that come with it: - request support as early as possible - work with professional databases - only use verifiable information - spare enough time to go through your work request support as early as possible these databases are always here for you to make use of whenever you need to. that being said however, it is important that you start your search for help as soon as you can. this allows you enough time to go through the database and look for something that will help you get some good results in the long run. work with professional databases professional databases are the best way for you to look for help today. they are properly organized, and it is easier for you to find anything that you need in there than anywhere else. besides, this organization will also make it really for you to find anything that you want. only use verifiable information for the sake of the good grades that you are after, it is important that you only try and work with information that you can verify. this kind of credibility is important since it helps you steer clear from sources that will harm your work instead of helping. spare enough time to go through your work always ensure that while you are working on this task, you will be able to spare more time to go through it and look for any mistakes that need to be corrected. write a comment'"
            ],
            "application/vnd.google.colaboratory.intrinsic+json": {
              "type": "string"
            }
          },
          "metadata": {},
          "execution_count": 83
        }
      ]
    },
    {
      "cell_type": "code",
      "source": [
        "query = df_w2v_1536.question[110]\n",
        "test_query = get_phrase_embedding(query, w2v_rag_1536)\n",
        "query, test_query"
      ],
      "metadata": {
        "colab": {
          "base_uri": "https://localhost:8080/"
        },
        "id": "xa1Gmq3k3RZw",
        "outputId": "62b9beeb-7002-4ed4-90a4-ee282630a490"
      },
      "execution_count": 84,
      "outputs": [
        {
          "output_type": "execute_result",
          "data": {
            "text/plain": [
              "('why is the fairport public library moving to a new location?',\n",
              " array([-0.05058416,  0.08277725,  0.06186242, ..., -0.01929357,\n",
              "         0.05533994,  0.03298458], dtype=float32))"
            ]
          },
          "metadata": {},
          "execution_count": 84
        }
      ]
    },
    {
      "cell_type": "code",
      "source": [
        "# тест поиска\n",
        "%%time\n",
        "hits = qdrant_client.search(\n",
        "    collection_name='w2vec_embeddings',\n",
        "    query_vector=test_query,\n",
        "    limit=1,\n",
        "\n",
        ")"
      ],
      "metadata": {
        "colab": {
          "base_uri": "https://localhost:8080/"
        },
        "id": "Jh0NhPPo1627",
        "outputId": "92e84a2f-a3b6-4c3f-eec2-b486eaba6c03"
      },
      "execution_count": 85,
      "outputs": [
        {
          "output_type": "stream",
          "name": "stdout",
          "text": [
            "CPU times: user 59.9 ms, sys: 25.6 ms, total: 85.5 ms\n",
            "Wall time: 86.8 ms\n"
          ]
        }
      ]
    },
    {
      "cell_type": "code",
      "source": [
        "hits"
      ],
      "metadata": {
        "colab": {
          "base_uri": "https://localhost:8080/"
        },
        "id": "5L_nCksd2xrj",
        "outputId": "ea268c0e-e9a0-4509-f2cd-dbab26655c45"
      },
      "execution_count": 86,
      "outputs": [
        {
          "output_type": "execute_result",
          "data": {
            "text/plain": [
              "[ScoredPoint(id=110, version=0, score=0.8523373603820801, payload={'context': 'fairport library closed for move the fairport public library will be moving to new digs as its current home undergoes renovations approved by voters. on monday the library at fairport village landing closed for its move to 30 perinton hills mall. the library hopes to reopen there on jan. 2. \"we will have most of our collection there and a few computers for intenet access,\" said assistant library director tori reilly. \"the staff will be available for reference questions and help.\" in may voters approved a $4.4 million renovation project for the library that includes new entrances, better lighting and new carpeting, and changes that will allow roomier space for programs. the renovations are expected to take eight to 10 months to complete, reilly said. library staff is working on how best to handle programs such as children story hours and book discussions while in the temporary space, she said. once in the new location, the library hours will return to normal. library staff is asking that users return books to other branches and call other branches with questions during the period when the library is moving to the new site. the fairport library staff will have limited access to branch telephones during that time. for more information, visit fairportlibrary.org. gcraig@democratandchronicle.com bond-approved whats ahappen dec 1 we wil close begin preparing to pacj and movbe libtary services totemp locatoipn 30- perintoin hills mall; we hope toi reopen thelibrary on dec 2 we will have most of our collection there and a few computers forintenet access and thestaff will be available for refe4rence cquestiosna and help with al of that we are workin out places tohave theprogramming styory hours book discussion groups \\'still working out details there isn\\'t space for that its going to take eight to 10 months for the renovation to be completed n we still have same footprint n twqo new enrabces -0 one off cmnal park n integnal inetrance moved to were going tohave more compfo4rtable eating for peopke when they want to come in th library new windows more lightin area basically everything that\\'s n tori reilly renovation relocation fairport public library, located in fairport village landing, will undergo an extensive renovation beginning in january 2015. the fairport public library, located at 1 fairport village landing, will close effective december 1, 2014, for relocation to temporary space at 30 perinton hills mall, 6687 pittsford palmyra road. the tentative date to reopen at the 30 perinton hills mall location is january 2, 2015. the library will be in office space that is located between the rochester athletic club and the american red cross. as of december 1st, our computer network and telephone system will be moved and not operational for a few days. please call another library with reference questions or about your library account until the library re-opens in january. · the library\\'s phone number will remain the same (223-9091). · library hours will remain the same after we re-open at the temporary location. monday through thursday- 9am-9pm; friday -9am-6pm; saturday- 9am-5pm; sunday- 2pm-5pm. · materials can be returned to other libraries while the library is closed. · holds will not be available for pickup during the month of december. fairport will not be available · as a pickup branch after november 17th. please contact us before december 1, if you wish to · change your pickup location for holds already placed. · call us or check the events calendar for the locations of library programs.'}, vector=None, shard_key=None, order_value=None)]"
            ]
          },
          "metadata": {},
          "execution_count": 86
        }
      ]
    },
    {
      "cell_type": "code",
      "source": [
        "def test_q(vectors):\n",
        "    plt = []\n",
        "    for test_query in vectors:\n",
        "        start = time.time()\n",
        "        qdrant_client.search(\n",
        "        collection_name='w2vec_embeddings',\n",
        "        query_vector=test_query,\n",
        "        limit=1,)\n",
        "        end = time.time()\n",
        "        res = end - start\n",
        "        plt.append(res)\n",
        "    return plt"
      ],
      "metadata": {
        "id": "NrHlhnk40-HT"
      },
      "execution_count": 89,
      "outputs": []
    },
    {
      "cell_type": "code",
      "source": [
        "# Протестируем время извлечения ответов на 50 значениях\n",
        "sns.set_theme(palette ='pastel', font_scale=0.8)\n",
        "t =  test_q(vectors)\n",
        "mean = sum(t)/len(t)\n",
        "print('Среднее время извлечения ответа:', mean)\n",
        "sns.lineplot(t, color=\"red\").set_title(\"Время small cos\");"
      ],
      "metadata": {
        "colab": {
          "base_uri": "https://localhost:8080/",
          "height": 469
        },
        "id": "khZ2s_KS0vbm",
        "outputId": "dd253bf8-59e1-4ff9-889e-dc90eb614234"
      },
      "execution_count": 90,
      "outputs": [
        {
          "output_type": "stream",
          "name": "stdout",
          "text": [
            "Среднее время извлечения ответа: 0.0733864164352417\n"
          ]
        },
        {
          "output_type": "display_data",
          "data": {
            "text/plain": [
              "<Figure size 640x480 with 1 Axes>"
            ],
            "image/png": "[encoded data removed]"
          },
          "metadata": {}
        }
      ]
    },
    {
      "cell_type": "markdown",
      "source": [
        "Время извлечения ответа из БД 0.07 секунды на ~12 тыc строках, против 0.1 при работе с датафремом пандаc. Результат значительно лучше!!!\n",
        "При том, что здесь используется exact поиск брутфорсом."
      ],
      "metadata": {
        "id": "yP-KzXlQ6ig7"
      }
    },
    {
      "cell_type": "markdown",
      "source": [
        "### search_05 qdrant когда в БД только векторы и HnswConfigDiff"
      ],
      "metadata": {
        "id": "WdGfyk33gfsL"
      }
    },
    {
      "cell_type": "markdown",
      "source": [
        "Используем ранее подготовленный датасет small, в нем только векторы длиной 1536"
      ],
      "metadata": {
        "id": "iIcmg9Z-yn9F"
      }
    },
    {
      "cell_type": "code",
      "source": [
        "small.shape"
      ],
      "metadata": {
        "colab": {
          "base_uri": "https://localhost:8080/"
        },
        "id": "FMzbShYm7C4x",
        "outputId": "bef0062a-9a42-430b-f6f5-319389295095"
      },
      "execution_count": 91,
      "outputs": [
        {
          "output_type": "execute_result",
          "data": {
            "text/plain": [
              "(11981, 2)"
            ]
          },
          "metadata": {},
          "execution_count": 91
        }
      ]
    },
    {
      "cell_type": "code",
      "source": [
        "qdrant_small = QdrantClient(\":memory:\")"
      ],
      "metadata": {
        "id": "cUc3XwIyGTGX"
      },
      "execution_count": 99,
      "outputs": []
    },
    {
      "cell_type": "code",
      "source": [
        "# Создание коллекции\n",
        "qdrant_small.recreate_collection(\n",
        "    collection_name=\"small\",\n",
        "    vectors_config=models.VectorParams(\n",
        "        size=1536,  # Vector size is defined by used model\n",
        "        distance=models.Distance.COSINE,\n",
        "    ),\n",
        ")"
      ],
      "metadata": {
        "colab": {
          "base_uri": "https://localhost:8080/"
        },
        "id": "HP0v8vRGsljA",
        "outputId": "3d95555e-8546-4562-c1ca-9f2731443a40"
      },
      "execution_count": 100,
      "outputs": [
        {
          "output_type": "execute_result",
          "data": {
            "text/plain": [
              "True"
            ]
          },
          "metadata": {},
          "execution_count": 100
        }
      ]
    },
    {
      "cell_type": "code",
      "source": [
        "qdrant_small.upload_points(\n",
        "    collection_name=\"small\",\n",
        "    points=[\n",
        "        models.PointStruct(\n",
        "            id=row[1][\"id\"],\n",
        "            vector=(row[1][\"context_vec\"]),\n",
        "        )\n",
        "        for row in small.iterrows()\n",
        "    ],\n",
        ")"
      ],
      "metadata": {
        "id": "sNsA9ydEkvEF"
      },
      "execution_count": 101,
      "outputs": []
    },
    {
      "cell_type": "code",
      "source": [
        "qdrant_small.count(\n",
        "    collection_name=\"small\",\n",
        "    exact=True,\n",
        ")"
      ],
      "metadata": {
        "colab": {
          "base_uri": "https://localhost:8080/"
        },
        "id": "r7S8hySotMN3",
        "outputId": "4d284d49-789d-4e37-d5f2-3c771d6f5445"
      },
      "execution_count": 102,
      "outputs": [
        {
          "output_type": "execute_result",
          "data": {
            "text/plain": [
              "CountResult(count=11981)"
            ]
          },
          "metadata": {},
          "execution_count": 102
        }
      ]
    },
    {
      "cell_type": "code",
      "source": [
        "def test_q(vectors):\n",
        "    plt = []\n",
        "    for test_query in vectors:\n",
        "        start = time.time()\n",
        "        qdrant_small.search(\n",
        "        collection_name='small',\n",
        "        query_vector=test_query,\n",
        "        limit=1,)\n",
        "        end = time.time()\n",
        "        res = end - start\n",
        "        plt.append(res)\n",
        "    return plt"
      ],
      "metadata": {
        "id": "qpVr9jjdtAGo"
      },
      "execution_count": 105,
      "outputs": []
    },
    {
      "cell_type": "code",
      "source": [
        "# Протестируем время извлечения ответов на 50 значениях\n",
        "sns.set_theme(palette ='pastel', font_scale=0.8)\n",
        "t =  test_q(vectors)\n",
        "mean = sum(t)/len(t)\n",
        "print('Среднее время извлечения ответа:', mean)\n",
        "sns.lineplot(t, color=\"red\").set_title(\"Время small\");"
      ],
      "metadata": {
        "colab": {
          "base_uri": "https://localhost:8080/",
          "height": 469
        },
        "id": "FnnYG_bNtIyM",
        "outputId": "a6a82182-927c-469a-bc9f-becd42bd43b1"
      },
      "execution_count": 117,
      "outputs": [
        {
          "output_type": "stream",
          "name": "stdout",
          "text": [
            "Среднее время извлечения ответа: 0.05421116352081299\n"
          ]
        },
        {
          "output_type": "display_data",
          "data": {
            "text/plain": [
              "<Figure size 640x480 with 1 Axes>"
            ],
            "image/png": "[encoded data removed]"
          },
          "metadata": {}
        }
      ]
    },
    {
      "cell_type": "markdown",
      "source": [
        "Создаем новую коллекцию с использованием HnswConfigDiff"
      ],
      "metadata": {
        "id": "f9BcUM40y1vY"
      }
    },
    {
      "cell_type": "code",
      "source": [
        "qdrant_small_hnsw = QdrantClient(\":memory:\")"
      ],
      "metadata": {
        "id": "9onxTJ4vt9Tw"
      },
      "execution_count": 108,
      "outputs": []
    },
    {
      "cell_type": "code",
      "source": [
        "qdrant_small_hnsw.recreate_collection(\n",
        "    collection_name=\"small\",\n",
        "    vectors_config=models.VectorParams(\n",
        "        size=1536,\n",
        "        distance=models.Distance.COSINE,\n",
        "        hnsw_config=models.HnswConfigDiff(\n",
        "        m=16,\n",
        "        ef_construct=80,\n",
        ")\n",
        "    ),\n",
        "        hnsw_config=models.HnswConfigDiff(\n",
        "        ef_construct=80,\n",
        "    )\n",
        ")"
      ],
      "metadata": {
        "colab": {
          "base_uri": "https://localhost:8080/"
        },
        "id": "NB08dGkFs_-I",
        "outputId": "4fbbe9f8-adb4-4ca0-b074-dc0d48d23467"
      },
      "execution_count": 122,
      "outputs": [
        {
          "output_type": "execute_result",
          "data": {
            "text/plain": [
              "True"
            ]
          },
          "metadata": {},
          "execution_count": 122
        }
      ]
    },
    {
      "cell_type": "code",
      "source": [
        "qdrant_small_hnsw.upload_points(\n",
        "    collection_name=\"small\",\n",
        "    points=[\n",
        "        models.PointStruct(\n",
        "            id=row[1][\"id\"],\n",
        "            vector=(row[1][\"context_vec\"]),\n",
        "        )\n",
        "        for row in small.iterrows()\n",
        "    ],\n",
        ")"
      ],
      "metadata": {
        "id": "z7eJAii7uFXz"
      },
      "execution_count": 123,
      "outputs": []
    },
    {
      "cell_type": "code",
      "source": [
        "qdrant_small_hnsw.count(\n",
        "    collection_name=\"small\",\n",
        "    exact=True,\n",
        ")"
      ],
      "metadata": {
        "colab": {
          "base_uri": "https://localhost:8080/"
        },
        "id": "YwHdDWLTuOt7",
        "outputId": "9f1b534c-f8ed-4ff7-ab65-c964b83c6582"
      },
      "execution_count": 111,
      "outputs": [
        {
          "output_type": "execute_result",
          "data": {
            "text/plain": [
              "CountResult(count=11981)"
            ]
          },
          "metadata": {},
          "execution_count": 111
        }
      ]
    },
    {
      "cell_type": "code",
      "source": [
        "def test_q(vectors):\n",
        "    plt = []\n",
        "    for test_query in vectors:\n",
        "        start = time.time()\n",
        "        qdrant_small_hnsw.search(\n",
        "        collection_name='small',\n",
        "        query_vector=test_query,\n",
        "        limit=1,)\n",
        "        end = time.time()\n",
        "        res = end - start\n",
        "        plt.append(res)\n",
        "    return plt"
      ],
      "metadata": {
        "id": "eiKVriQ8uadx"
      },
      "execution_count": 124,
      "outputs": []
    },
    {
      "cell_type": "code",
      "source": [
        "t =  test_q(vectors)\n",
        "mean = sum(t)/len(t)\n",
        "print('Среднее время извлечения ответа:', mean)\n",
        "sns.lineplot(t, color=\"red\").set_title(\"Время small\");"
      ],
      "metadata": {
        "colab": {
          "base_uri": "https://localhost:8080/",
          "height": 469
        },
        "id": "cnHv2Npwxxyd",
        "outputId": "f027d45e-dd61-4356-ea0c-dd74257e6f16"
      },
      "execution_count": 128,
      "outputs": [
        {
          "output_type": "stream",
          "name": "stdout",
          "text": [
            "Среднее время извлечения ответа: 0.053671135902404785\n"
          ]
        },
        {
          "output_type": "display_data",
          "data": {
            "text/plain": [
              "<Figure size 640x480 with 1 Axes>"
            ],
            "image/png": "[encoded data removed]"
          },
          "metadata": {}
        }
      ]
    },
    {
      "cell_type": "markdown",
      "source": [
        "## Выводы:\n",
        "\n",
        "1. По качеству использования векторизации с помощью Word2Vec не устраивает.\n",
        "2. По скорости работы с Word2Vec из датафрейма показывает,ч то чем больше данных, тем значительно медленнее идет извлечение. 12 тысяч 0.1 секунды, 120 тысяч - 1-1.3 секунды в среднем.\n",
        "3. Скорость извлечения векторов при использовании Qdrant значительно выше  - 0.07 секунды, если в БД лежат и контексты, вопросы, ответы и векторы; 0.05 если в БД только векторы.\n",
        "4. Далее планируется развернуть Qdrant в докере и протестировать на большом и маленьком объеме данных."
      ],
      "metadata": {
        "id": "Rg3GAJNvA5rW"
      }
    }
  ],
  "metadata": {
    "colab": {
      "provenance": [],
      "toc_visible": true,
      "collapsed_sections": [
        "yoBsAp-vlJIm",
        "ggjoDiQUjaz6",
        "9zfUreXeoskB"
      ]
    },
    "kernelspec": {
      "display_name": "Python 3",
      "name": "python3"
    },
    "language_info": {
      "name": "python"
    }
  },
  "nbformat": 4,
  "nbformat_minor": 0
}