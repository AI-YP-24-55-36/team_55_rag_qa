{
 "cells": [
  {
   "cell_type": "markdown",
   "metadata": {
    "id": "Je30l8GNk4t6"
   },
   "source": [
    "# Построение вопросно-ответной системы с использованием RAG"
   ]
  },
  {
   "cell_type": "markdown",
   "metadata": {
    "id": "o59n_lEVD82X"
   },
   "source": [
    "В этом ноутбуке продемонстрирована базовая модель на основе БД Qdrant, с кодированием SentenceTransformer"
   ]
  },
  {
   "cell_type": "markdown",
   "metadata": {
    "id": "oVRjOFLTlAoX"
   },
   "source": [
    "### импорты"
   ]
  },
  {
   "cell_type": "code",
   "execution_count": 27,
   "metadata": {
    "id": "Dy_4QnyIjAMz"
   },
   "outputs": [],
   "source": [
    "from IPython.display import clear_output\n",
    "import numpy as np\n",
    "import pandas as pd\n",
    "from tqdm import tqdm\n",
    "import random"
   ]
  },
  {
   "cell_type": "code",
   "execution_count": 28,
   "metadata": {},
   "outputs": [],
   "source": [
    "# фиксируем seed\n",
    "random.seed(42)\n",
    "np.random.seed(42)"
   ]
  },
  {
   "cell_type": "markdown",
   "metadata": {
    "id": "yoBsAp-vlJIm"
   },
   "source": [
    "### загрузка датасета"
   ]
  },
  {
   "cell_type": "code",
   "execution_count": 7,
   "metadata": {
    "colab": {
     "base_uri": "https://localhost:8080/"
    },
    "id": "dIg4KwrI0N0u",
    "outputId": "a1c923b0-4c23-4075-af71-1ee172128c0b"
   },
   "outputs": [],
   "source": [
    "# # загрузка csv файла из google drive\n",
    "# !wget --no-check-certificate 'https://docs.google.com/uc?export=download&id=1dgnwG1AZhspMJaDR6jz828qZkSnZg25t' -O full_dataset.csv"
   ]
  },
  {
   "cell_type": "code",
   "execution_count": 8,
   "metadata": {
    "colab": {
     "base_uri": "https://localhost:8080/",
     "height": 424
    },
    "id": "nWpz5QnU5SHJ",
    "outputId": "d9371e77-546d-457f-cef5-ff8decf82d74"
   },
   "outputs": [
    {
     "data": {
      "text/html": [
       "<div>\n",
       "<style scoped>\n",
       "    .dataframe tbody tr th:only-of-type {\n",
       "        vertical-align: middle;\n",
       "    }\n",
       "\n",
       "    .dataframe tbody tr th {\n",
       "        vertical-align: top;\n",
       "    }\n",
       "\n",
       "    .dataframe thead th {\n",
       "        text-align: right;\n",
       "    }\n",
       "</style>\n",
       "<table border=\"1\" class=\"dataframe\">\n",
       "  <thead>\n",
       "    <tr style=\"text-align: right;\">\n",
       "      <th></th>\n",
       "      <th>context</th>\n",
       "      <th>question</th>\n",
       "      <th>answer</th>\n",
       "    </tr>\n",
       "  </thead>\n",
       "  <tbody>\n",
       "    <tr>\n",
       "      <th>0</th>\n",
       "      <td>Caption: Tasmanian berry grower Nic Hansen sho...</td>\n",
       "      <td>What is the Berry Export Summary 2028 and what...</td>\n",
       "      <td>The Berry Export Summary 2028 is a dedicated e...</td>\n",
       "    </tr>\n",
       "    <tr>\n",
       "      <th>1</th>\n",
       "      <td>RWSN Collaborations\\nSouthern Africa Self-supp...</td>\n",
       "      <td>What are some of the benefits reported from ha...</td>\n",
       "      <td>Benefits reported from having access to Self-s...</td>\n",
       "    </tr>\n",
       "    <tr>\n",
       "      <th>2</th>\n",
       "      <td>All Android applications categories\\nDescripti...</td>\n",
       "      <td>What are the unique features of the Coolands f...</td>\n",
       "      <td>The unique features of the Coolands for Twitte...</td>\n",
       "    </tr>\n",
       "    <tr>\n",
       "      <th>3</th>\n",
       "      <td>How unequal is India? The question is simple, ...</td>\n",
       "      <td>What is the main difference between the Nation...</td>\n",
       "      <td>The main difference between the NSS and the IH...</td>\n",
       "    </tr>\n",
       "    <tr>\n",
       "      <th>4</th>\n",
       "      <td>Gunnar Nelson took his time on the feet agains...</td>\n",
       "      <td>How did Gunnar Nelson win the fight against Za...</td>\n",
       "      <td>Gunnar Nelson won the fight against Zak Cummin...</td>\n",
       "    </tr>\n",
       "    <tr>\n",
       "      <th>...</th>\n",
       "      <td>...</td>\n",
       "      <td>...</td>\n",
       "      <td>...</td>\n",
       "    </tr>\n",
       "    <tr>\n",
       "      <th>11995</th>\n",
       "      <td>Fuzzy's Ultra Premium Vodka\\nThe Myth, The Man...</td>\n",
       "      <td>What are some of the achievements of Fuzzy Zoe...</td>\n",
       "      <td>Fuzzy Zoeller is known for his golfing success...</td>\n",
       "    </tr>\n",
       "    <tr>\n",
       "      <th>11996</th>\n",
       "      <td>Swedish Grand Prix rider Malin Nilsson got mar...</td>\n",
       "      <td>Who did Malin Nilsson marry on 2 June 2018?</td>\n",
       "      <td>Malin Nilsson got married to her partner, Germ...</td>\n",
       "    </tr>\n",
       "    <tr>\n",
       "      <th>11997</th>\n",
       "      <td>The Cracchiolo Law Library of the James E. Rog...</td>\n",
       "      <td>What is the Fellowship in Law Librarianship of...</td>\n",
       "      <td>The Fellowship in Law Librarianship is a progr...</td>\n",
       "    </tr>\n",
       "    <tr>\n",
       "      <th>11998</th>\n",
       "      <td>2nd physical eMAG store opens in Mammut\\nOnlin...</td>\n",
       "      <td>Where has the second physical eMAG store been ...</td>\n",
       "      <td>The second physical eMAG store has been opened...</td>\n",
       "    </tr>\n",
       "    <tr>\n",
       "      <th>11999</th>\n",
       "      <td>About This Cadillac\\n2019 Cadillac XT5\\nFWD 4d...</td>\n",
       "      <td>What are some of the key features of the 2019 ...</td>\n",
       "      <td>The 2019 Cadillac XT5 comes equipped with feat...</td>\n",
       "    </tr>\n",
       "  </tbody>\n",
       "</table>\n",
       "<p>12000 rows × 3 columns</p>\n",
       "</div>"
      ],
      "text/plain": [
       "                                                 context  \\\n",
       "0      Caption: Tasmanian berry grower Nic Hansen sho...   \n",
       "1      RWSN Collaborations\\nSouthern Africa Self-supp...   \n",
       "2      All Android applications categories\\nDescripti...   \n",
       "3      How unequal is India? The question is simple, ...   \n",
       "4      Gunnar Nelson took his time on the feet agains...   \n",
       "...                                                  ...   \n",
       "11995  Fuzzy's Ultra Premium Vodka\\nThe Myth, The Man...   \n",
       "11996  Swedish Grand Prix rider Malin Nilsson got mar...   \n",
       "11997  The Cracchiolo Law Library of the James E. Rog...   \n",
       "11998  2nd physical eMAG store opens in Mammut\\nOnlin...   \n",
       "11999  About This Cadillac\\n2019 Cadillac XT5\\nFWD 4d...   \n",
       "\n",
       "                                                question  \\\n",
       "0      What is the Berry Export Summary 2028 and what...   \n",
       "1      What are some of the benefits reported from ha...   \n",
       "2      What are the unique features of the Coolands f...   \n",
       "3      What is the main difference between the Nation...   \n",
       "4      How did Gunnar Nelson win the fight against Za...   \n",
       "...                                                  ...   \n",
       "11995  What are some of the achievements of Fuzzy Zoe...   \n",
       "11996        Who did Malin Nilsson marry on 2 June 2018?   \n",
       "11997  What is the Fellowship in Law Librarianship of...   \n",
       "11998  Where has the second physical eMAG store been ...   \n",
       "11999  What are some of the key features of the 2019 ...   \n",
       "\n",
       "                                                  answer  \n",
       "0      The Berry Export Summary 2028 is a dedicated e...  \n",
       "1      Benefits reported from having access to Self-s...  \n",
       "2      The unique features of the Coolands for Twitte...  \n",
       "3      The main difference between the NSS and the IH...  \n",
       "4      Gunnar Nelson won the fight against Zak Cummin...  \n",
       "...                                                  ...  \n",
       "11995  Fuzzy Zoeller is known for his golfing success...  \n",
       "11996  Malin Nilsson got married to her partner, Germ...  \n",
       "11997  The Fellowship in Law Librarianship is a progr...  \n",
       "11998  The second physical eMAG store has been opened...  \n",
       "11999  The 2019 Cadillac XT5 comes equipped with feat...  \n",
       "\n",
       "[12000 rows x 3 columns]"
      ]
     },
     "execution_count": 8,
     "metadata": {},
     "output_type": "execute_result"
    }
   ],
   "source": [
    "rag_dataset = pd.read_csv('full_dataset.csv')\n",
    "rag_dataset"
   ]
  },
  {
   "cell_type": "code",
   "execution_count": 9,
   "metadata": {
    "colab": {
     "base_uri": "https://localhost:8080/"
    },
    "id": "gKxVh8CZrCNO",
    "outputId": "068ea046-931e-4ffd-9f58-1b04668549e7"
   },
   "outputs": [
    {
     "data": {
      "text/plain": [
       "array(['Caption: Tasmanian berry grower Nic Hansen showing Macau chef Antimo Merone around his property as part of export engagement activities.\\nTHE RISE and rise of the Australian strawberry, raspberry and blackberry industries has seen the sectors redouble their international trade focus, with the release of a dedicated export plan to grow their global presence over the next 10 years.\\nDriven by significant grower input, the Berry Export Summary 2028 maps the sectors’ current position, where they want to be, high-opportunity markets and next steps.\\nHort Innovation trade manager Jenny Van de Meeberg said the value and volume of raspberry and blackberry exports rose by 100 per cent between 2016 and 2017. She said the Australian strawberry industry experienced similar success with an almost 30 per cent rise in export volume and a 26 per cent rise in value to $32.6M over the same period.\\n“Australian berry sectors are in a firm position at the moment,” she said. “Production, adoption of protected substrate cropping, improved genetics and an expanding geographic footprint have all helped put Aussie berries on a positive trajectory.\\n“We are seeing a real transition point. Broad industry interest and a strong commercial appetite for export market development combined with the potential to capitalise on existing trade agreements and build new trade partnerships has created this perfect environment for growth.”\\nHigh-income countries across Europe, North America and Northern Asia have been identified as having a palate for Australian grown berries with more than 4244 tonnes of fresh berries exported in the last financial year alone.\\nThe strategy identified the best short-term prospect markets for the Australian blackberry and raspberry industry as Hong Kong, Singapore, The United Arab Emirates and Canada. The strongest short-term trade options identified for the strawberry sector were Thailand, Malaysia, New Zealand and Macau.\\nThe strategy focuses heavily on growing the existing strawberry export market from 4 per cent to at least 8 per cent of national production by volume, in markets with a capacity and willingness to pay a premium for quality fruit. For raspberries and blackberries, the sectors aim to achieve a 5 per cent boost in exports assessed by volume across identified markets by 2021.\\nTasmanian raspberry exporter Nic Hansen said Australia offers some of the sweetest and most attractive berries in the world, and this combined with our stringent food safety standards across all stages of the supply chain puts growers in a solid position.\\n“We have a great product, we are hungry to expand trade and now with this new plan in place, we have a clear roadmap towards driving growth,” Mr Hansen said.\\nHe said it is exciting to see new export market prospects for raspberries: “The more options we have for export the better. Now we just have to get on with the job of ensuring industry has all the tools it needs, such as supporting data and relationship building opportunities, to thrive in new markets.”\\nThis project was commissioned by Hort Innovation, and developed by market analysts and research consultants Auspex Strategic Advisory and AgInfinity. Hort Innovation will work now with berry sectors to determine levy-funded activities to support trade.\\nSee a summary of the strategy on the Hort Innovation website.\\nFor more information on the berry industries, refer to the Horticulture Statistics Handbook and the Strategic Investment Plans for strawberries, raspberries and blackberries. Growers seeking more information should email trade@horticulture.com.au',\n",
       "       'What is the Berry Export Summary 2028 and what is its purpose?',\n",
       "       'The Berry Export Summary 2028 is a dedicated export plan for the Australian strawberry, raspberry, and blackberry industries. It maps the sectors’ current position, where they want to be, high-opportunity markets, and next steps. The purpose of this plan is to grow their global presence over the next 10 years.'],\n",
       "      dtype=object)"
      ]
     },
     "execution_count": 9,
     "metadata": {},
     "output_type": "execute_result"
    }
   ],
   "source": [
    "# вывод одного сэмпла\n",
    "rag_dataset.values[0]"
   ]
  },
  {
   "cell_type": "markdown",
   "metadata": {
    "id": "Jk4KWddmQyxm"
   },
   "source": [
    "Видны посторонние символы, такие как перевод строки \\n"
   ]
  },
  {
   "cell_type": "markdown",
   "metadata": {
    "id": "3DVpCnCYmgw_"
   },
   "source": [
    "Имеется 3 колонки и 12000 строк"
   ]
  },
  {
   "cell_type": "code",
   "execution_count": null,
   "metadata": {
    "id": "GnF8bw_Jr78f"
   },
   "outputs": [],
   "source": [
    "# Предобработка текстов\n",
    "df = rag_dataset.copy()\n",
    "\n",
    "# удаление строк с пустыми значениями (None)\n",
    "df = df.dropna()\n",
    "\n",
    "# приведем к нижнему регистру тексты во всех колонках\n",
    "df['context'] = df['context'].apply(lambda x: x.lower())\n",
    "df['question'] = df['question'].apply(lambda x: x.lower())\n",
    "df['answer'] = df['answer'].apply(lambda x: x.lower())\n",
    "\n",
    "# удаление/замена на пробел знака перевода строки в колонке 'context'\n",
    "df['context'] = df['context'].apply(lambda x: x.replace('\\n', ' '))\n",
    "# удаление найденных дубликатов по 'question'\n",
    "df.duplicated(subset=['question'], keep=False)\n",
    "df.drop_duplicates(subset = ['question'], keep = 'first', inplace = True)\n",
    "\n",
    "# удаление двух строк на другом языке\n",
    "df.drop(index=[7453, 10225], inplace=True)\n",
    "df.reset_index(drop=True, inplace=True) # обновление индексов"
   ]
  },
  {
   "cell_type": "markdown",
   "metadata": {
    "id": "nuLWFfDaAiX0"
   },
   "source": [
    "\n",
    "\n",
    "## QDRANT Baseline"
   ]
  },
  {
   "cell_type": "code",
   "execution_count": null,
   "metadata": {
    "id": "6-sEDGXyvnKn"
   },
   "outputs": [],
   "source": [
    "# %pip install -U sentence-transformers\n",
    "# %pip install -U qdrant-client\n",
    "# clear_output()"
   ]
  },
  {
   "cell_type": "code",
   "execution_count": null,
   "metadata": {
    "colab": {
     "base_uri": "https://localhost:8080/"
    },
    "id": "I40NKM3Kn8ck",
    "outputId": "c109c27e-ea04-426b-c4a4-723045f672d0"
   },
   "outputs": [],
   "source": [
    "from qdrant_client import models, QdrantClient\n",
    "from qdrant_client.models import VectorParams, Distance\n",
    "from sentence_transformers import SentenceTransformer,CrossEncoder\n"
   ]
  },
  {
   "cell_type": "code",
   "execution_count": 15,
   "metadata": {
    "id": "ALstfOxRxSon"
   },
   "outputs": [],
   "source": [
    "# инициализация энкодера\n",
    "encoder = SentenceTransformer(\"all-MiniLM-L6-v2\")\n",
    "clear_output()\n",
    "# https://huggingface.co/sentence-transformers/all-MiniLM-L6-v2\n",
    "# https://www.sbert.net/docs/sentence_transformer/pretrained_models.html"
   ]
  },
  {
   "cell_type": "code",
   "execution_count": 13,
   "metadata": {
    "id": "L1kszRK-xc36"
   },
   "outputs": [],
   "source": [
    "qdrant = QdrantClient(url = \"http://localhost:6333\")"
   ]
  },
  {
   "cell_type": "code",
   "execution_count": 16,
   "metadata": {
    "colab": {
     "base_uri": "https://localhost:8080/",
     "height": 563
    },
    "id": "l4Tu4PRUxg3C",
    "outputId": "93fd28b8-ebda-47a8-c516-c7c3041995f2"
   },
   "outputs": [
    {
     "name": "stderr",
     "output_type": "stream",
     "text": [
      "/var/folders/wz/0r95_tjj5l56_7t1h3myrzlc0000gq/T/ipykernel_1117/2756378204.py:2: DeprecationWarning: `recreate_collection` method is deprecated and will be removed in the future. Use `collection_exists` to check collection existence and `create_collection` instead.\n",
      "  qdrant.recreate_collection(\n"
     ]
    },
    {
     "data": {
      "text/plain": [
       "True"
      ]
     },
     "execution_count": 16,
     "metadata": {},
     "output_type": "execute_result"
    }
   ],
   "source": [
    "# создание коллекции\n",
    "qdrant.recreate_collection(\n",
    "    collection_name=\"rag\",\n",
    "    vectors_config=models.VectorParams(\n",
    "        size=encoder.get_sentence_embedding_dimension(),\n",
    "        distance=models.Distance.COSINE,\n",
    "    ),\n",
    ")"
   ]
  },
  {
   "cell_type": "code",
   "execution_count": 18,
   "metadata": {
    "colab": {
     "base_uri": "https://localhost:8080/"
    },
    "id": "8ZC5XVrSxwz9",
    "outputId": "2a699465-e6bb-445d-df90-d486388b16af"
   },
   "outputs": [
    {
     "data": {
      "text/plain": [
       "((11981, 4), Index(['context', 'question', 'answer', 'id'], dtype='object'))"
      ]
     },
     "execution_count": 18,
     "metadata": {},
     "output_type": "execute_result"
    }
   ],
   "source": [
    "docs = df\n",
    "docs['id'] = docs.index\n",
    "docs.shape, docs.columns"
   ]
  },
  {
   "cell_type": "code",
   "execution_count": 21,
   "metadata": {
    "id": "KdTklMdMx5_z"
   },
   "outputs": [],
   "source": [
    "# https://qdrant.tech/documentation/concepts/points/\n",
    "# загрузка данных в БД\n",
    "qdrant.upload_points(\n",
    "    collection_name=\"rag\",\n",
    "    points=[\n",
    "        models.PointStruct(\n",
    "            id=row[1][\"id\"],\n",
    "            vector=encoder.encode(row[1][\"context\"]),\n",
    "            payload={ \"context\":row[1][\"context\"]}\n",
    "        )\n",
    "        for row in docs.iterrows()\n",
    "    ],\n",
    ")\n"
   ]
  },
  {
   "cell_type": "code",
   "execution_count": 22,
   "metadata": {
    "colab": {
     "base_uri": "https://localhost:8080/"
    },
    "id": "ZujJ7Yy-y_ST",
    "outputId": "d5790048-a60b-42c2-9ac2-836e0bc497df"
   },
   "outputs": [
    {
     "data": {
      "text/plain": [
       "CountResult(count=11981)"
      ]
     },
     "execution_count": 22,
     "metadata": {},
     "output_type": "execute_result"
    }
   ],
   "source": [
    "qdrant.count(\n",
    "    collection_name=\"rag\",\n",
    "    exact=True,\n",
    ")"
   ]
  },
  {
   "cell_type": "code",
   "execution_count": 25,
   "metadata": {
    "colab": {
     "base_uri": "https://localhost:8080/"
    },
    "id": "_dzN4UuEzbQL",
    "outputId": "9ee18a49-3891-4e20-bf9e-f854e60dc60b"
   },
   "outputs": [
    {
     "name": "stdout",
     "output_type": "stream",
     "text": [
      "what was the purpose of the lordstown plant according to the context?\n",
      "{'context': \"by tracey o'neill special to the standard north kingstown– monday night’s regular meeting of the north kingstown town council began in joint work session with the planning commission. they tackled economic development issues, focusing on the town’s vision for the future and the revitalization of the post road corridor. at the heart of the discussion were the issues of multi-level, mixed-use development and the possible integration of big-box stores into development plans. planning director jonathan j. reiner presented an overview of the benefits to the town’s moving forward with a plan that includes assimilation of both. he noted the evolution of the times and the present harsh economic climate that north kingstown and surrounding communities are experiencing. “if we allow box stores, route 2 is the most likely area that will receive them.” mixed-use development allows for a combination of residential, business, professional and retail. coupled with an addition of two-story or multi-level buildings, the area would be more likely to become a positive force in long-term viability for the town. “the [vision] developed through the comprehensive plan is to create a sense of place,” said reiner, who predicted such a zone would produce income for the town. the addition of sewer lines along the post road corridor was heralded by members of both the council and planning commission. town manager michael embury was supportive of the multi-level, mixed-level revitalization. “one of the big issues is that we’ve never had sewers on post road. it has limited the types of development that would go in there.” town council member charles brennan, a proponent of the addition of box stores in the post road area, said “allowing the big-box stores is the way to go. if another town gets [it], we don’t. we don’t get the money and we don’t get the jobs.” meanwhile, in town manager reports, embury addressed the continuing issue with the town’s firefighters. in clarifying information for the council, embury noted that the ruling by judge brian j. stern, in may, when deciding the fate of the recently-announced 56-hour schedule, only served to strike down the ordinance itself. “the judge’s decision did not invalidate the 56-hour work week,” said embury. “it invalidated the ordinance. the union has walked away from the table and has filed for arbitration for 2012-2013.” he said the 56-hour work week is “still in effect.” embury went on to explain that despite reports that the firefighters were being paid less, they had not lost the benefit of the 10-percent increase in their base salaries. “they are not hourly employees,” he said. “it does have an adverse effect on their overtime rate.” in turn, council member charles stamm suggested that the town pursue the possibility of creating a committee to explore moving to a volunteer fire department or a mixed department. no members of the department or union were present to respond. in other business, the school committee was meeting in work session while several items needing their attention were brought before the town council. the fate of a potential lease agreement between the greene school and the school committee regarding renting space in the vacant davisville elementary school building was tabled. discussion of a $250,000 carpet installation project at quidnessett elementary school and a $1.8 million improvement project slated for wickford elementary school was also delayed. “time is of the essence for these projects heading into july,” said elizabeth dolan, council president. “if we have to meet in special session, we will.” the next town council meeting is set for july 16. links: [1]\"} score:\n",
      "2076\n",
      "0.38238376\n"
     ]
    }
   ],
   "source": [
    "query_string = df.question[3000]\n",
    "\n",
    "hits = qdrant.search(\n",
    "    collection_name=\"rag\",\n",
    "    query_vector=encoder.encode(query_string).tolist(),\n",
    "    limit=1,\n",
    ")\n",
    "\n",
    "print(query_string)\n",
    "for hit in hits:\n",
    "    print(hit.payload, \"score:\")\n",
    "    print(hit.id)\n",
    "    print(hit.score)"
   ]
  },
  {
   "cell_type": "code",
   "execution_count": 30,
   "metadata": {
    "colab": {
     "base_uri": "https://localhost:8080/"
    },
    "id": "n4g31Bli9o_r",
    "outputId": "e52ec63d-ad25-4c5d-9240-85b1cd2b5a1d"
   },
   "outputs": [
    {
     "name": "stderr",
     "output_type": "stream",
     "text": [
      "11981it [05:25, 36.85it/s]\n"
     ]
    }
   ],
   "source": [
    "# в цикле проходим по датасету и для каждого вопроса находим id ответа из БД складваем id в список top_ind_search\n",
    "\n",
    "top_ind_search = []\n",
    "for index, row in tqdm(df.iterrows()):\n",
    "    query_string = row['question']\n",
    "    hits = qdrant.search(\n",
    "    collection_name=\"rag\",\n",
    "    query_vector=encoder.encode(query_string).tolist(),\n",
    "    limit=1,\n",
    "    )\n",
    "    top_ind_search.append(hits[0].id)\n",
    "\n"
   ]
  },
  {
   "cell_type": "code",
   "execution_count": 32,
   "metadata": {
    "id": "HTLhhKMGDh5x"
   },
   "outputs": [],
   "source": [
    "# делаем колонку top_ind_search и сравниваем оригинальный id и найденный в БД, в колонку eval ставим 1 при совпадении идентификаторов\n",
    "df['top_ind_search'] = top_ind_search\n",
    "df['eval'] = (df['top_ind_search'] == df.id).astype(int)"
   ]
  },
  {
   "cell_type": "code",
   "execution_count": null,
   "metadata": {
    "colab": {
     "base_uri": "https://localhost:8080/",
     "height": 424
    },
    "id": "VSaAdUuXIob1",
    "outputId": "bc140bef-51f5-470a-e063-c8d63b2a5d36"
   },
   "outputs": [
    {
     "data": {
      "application/vnd.google.colaboratory.intrinsic+json": {
       "summary": "{\n  \"name\": \"df\",\n  \"rows\": 11981,\n  \"fields\": [\n    {\n      \"column\": \"context\",\n      \"properties\": {\n        \"dtype\": \"string\",\n        \"num_unique_values\": 11981,\n        \"samples\": [\n          \"module information course delivery assessment learning outcomes on successful completion of this module students should be able to: critically evaluate relevant texts and consider the implications of these texts in performance;e. situate ancient and adapted texts in their cultural, political and historical contexts. demonstrate an awareness of the wider cultural and theoretical issues raised by adaptations of classical texts. produce organized, coherently structured and critically engaged written and oral work. aims the module focuses on adaptations and rewrites of \\\"the classics\\\" of antiquity with a view to asking the followng questions: what is a classic? is canonical status afforded to such work purely on the grounds of textual antiquity? why rewrite/adapt such works? what are the theatrical strategies of such reworkings? by looking at a variety of adaptations and rewrites students will develop an understanding of canon-formation and rewriting/performative rereading as a critical paradigm. brief description this module will provide a thorough introduction to plays that are representative of the key genres of ancient drama (satyr, tragedy and comedy) whilst providing a sound foundation for understanding how these ancient works have been and continue to be adapted and rewritten, for example as political protest, pacifist messages, critique of aesthetics and canonicity, a contemplation of our present age and beyond. in this respect, the module will provide a thorough overview of ancient drama, adaptation theory and a selection of modern (twentieth century and twenty first century) adaptations and rewrites. content lecture two: the trackers of oxyrynchus and sophocles' fragments: satyric drama and its regenerative potential lecture three: rewriting sophocles' antigone: brecht, fugard and gambaro - an overview lecture four: fugard, kani and ntshona's the island and \\\"life\\\" art: rewriting as political protest lecture five: pacifist antigones: gambaro's antigona furiosa, shaw's bury the dead and brecht's version of antigone after holderlin (screening of anouilh's antigone) lecture six: irish medeas; marina carr's by the bog o' the cats; (screening of meda - pasolini and lars von trier arranged) lecture seven: oedipus, freud and steven berkoff's greek; screening of lee breuer's gospel at colonos arranged lecture eight: genre and the ancients - from comedy to tragedy - tony harrison's the common chorus, aristophanes' lysistrata and euripides' the trojan women (screening of the trojan women arranged) lecture nine: why adapt and rewrite? lecture ten: tradition's progressive and subversive potential - a summation and revision pointers (maximum of 9 play texts accompanied by at least 6 screenings of play extracts)\",\n          \"jimmy savile, cyril smith, stuart hall and now max clifford. four powerful men, big figures with high public profiles. and all paedophiles who abused their positions to prey on vulnerable youngsters. savile and smith were, certainly, protected by the establishment. political clout intimidated police who protected the villains and failed their victims. savile escaped justice by dying before we knew the vile depths of his reign of terror. maggie thatcher\\u2019s favourite was considered off limits by the cops. rochdale lib dem mp cyril smith also largely cheated accounting for his offences. it wasn\\u2019t until after his death that labour mp simon danczuk was able to expose smith\\u2019s sadism. hall was sheltered by bbc fame but is now deservedly behind bars. publicist clifford will get his just deserts when sentenced on friday. sex abuse victims i\\u2019ve spoken to were doubly tormented when nobody listened to them. their complaints were dismissed, their testimony often rejected. they were ignored. the result was abusers escaped punishment to continue abusing. which brings me to the case of the tony blair minister highlighted in yesterday\\u2019s daily mirror. the allegation is this minister was involved in a london child sex ring in the 1980s. and a police inquiry was pulled in the 1990s when his name cropped up. hand on heart: i don\\u2019t know if he is guilty of a heinous crime or if his visits to a children\\u2019s home were misunderstood. but i do know there must be a thorough investigation. because the allegations are so serious they mustn\\u2019t be swept under the carpet. there must not be another cover-up. we owe the truth to victims of abuse. if i was the minister under suspicion and innocent, i\\u2019d be shouting loudest for an investigation to clear my name. over recent years so many people have come forward claiming they were abused by politicians there\\u2019s an argument for a wider inquiry. crusading mp tom watson spoke from a position of knowledge when he demanded an inquiry into a \\u201cpowerful paedophile ring\\u201d linked to the thatcher regime. the names of those linked to the elm guest house in south west london, a hive of abuse with cyril smith among the visitors, will shock you if they ever become public. victims who were insulted by cover-ups in the past deserve the truth in the future. we can\\u2019t right past wrongs but we owe it to those who endured unimaginable torment to learn from past mistakes.\",\n          \"this superior detached residence is situated in a quiet yet much sought after location within close proximity to the town centre and all local amenities. this property has been well maintained and is further enhanced by its spacious interior and extensive grounds making this an excellent family home. porch: 4\\u20191\\u2019\\u2019x7\\u20199\\u2019\\u2019, carpet flooring entrance hall: 7\\u20193\\u2019\\u2019 x 10\\u201910\\u201d carpet flooring, beams in ceiling, downlights, cloakroom, wc w.c: 4\\u201910\\u201d x 3\\u20193\\u201d tiled flooring, white suite, partially tiled walls living room: 11\\u201910\\u201d x 17\\u20193\\u201d carpet flooring, brick fireplace, bay window, tv point, beamed ceiling, down lights, telephone point. kitchen/dinette: 16\\u20199\\u201d x 10\\u20196\\u2019\\u2019 dark oak high and low level units, free standing cooker, freestanding dishwasher, free standing fridge freezer, extractor fan, tv point, tile flooring, partially tiled walls, beams in ceiling. dining room: 11\\u20198\\u2019\\u2019 x 12\\u201910\\u2019\\u2019 carpet flooring, patio doors, serving hatch from kitchen utility room: 12\\u2019x7\\u20194\\u2019\\u2019 tile flooring, plumbed for washing machine, s.s sink. landing: 17\\u201910\\u2019\\u2019x6\\u20191\\u2019\\u2019 carpet flooring, spot lights, hot press. bathroom: 7\\u20191\\u201d x 6\\u20191\\u201d cream suite, bath with mains shower above, tile flooring, partially tiled walls. master bedroom: 11\\u201911\\u201d x 17\\u201910\\u201d carpet flooring, tv point, 6 door robe built in, bay window. en- suite: 12\\u20199\\u2019\\u2019 x 10\\u20195\\u2019\\u2019 white suite, bath, large mains shower, tile flooring, fully tiled walls, double sink with storage unit. bedroom 2: 9\\u20194\\u201d x 9\\u20196\\u201d carpet flooring, walk-in wardrobe (11\\u2019x6\\u20191\\u2019\\u2019 vanity unit, fully railed, carpet flooring) bedroom 3: 10\\u20195\\u201d x 11\\u20193\\u201d carpet flooring. bedroom 4: 11\\u20193\\u2019\\u2019 x 13\\u20197\\u2019\\u2019 carpet flooring, built in wardrobes and drawer sets. pool: 9\\u201910\\u2019\\u2019 x 20\\u20195\\u2019\\u2019 heated pool sauna/ changing: 15\\u20195\\u2019\\u2019 x 8\\u20194\\u2019\\u2019 down lights, wooden ceiling, non slip flooring, shower office: 7\\u201910\\u2019\\u2019 x 7\\u20199\\u2019\\u2019 carpet flooring, telephone point games room: 11\\u20199\\u2019\\u2019x 13\\u20193\\u2019\\u2019 carpet flooring, pvc ceiling, full electrics, cladded walls, pool table garage 1: 11\\u2019 x 17\\u20198\\u2019\\u2019 up & over door, full electrics garage 2: 13\\u2019 x 12\\u20199\\u2019\\u2019 up & over door, full electrics other: pvc windows, wooden external doors, timber internal doors, beam hoover system. outside: spacious lawns with mature shrubs, large paved patio, full size tennis court, 9 hole mini golf course, tarmac driveway. epc ref: 9982-0527-6060-0739-4902\"\n        ],\n        \"semantic_type\": \"\",\n        \"description\": \"\"\n      }\n    },\n    {\n      \"column\": \"question\",\n      \"properties\": {\n        \"dtype\": \"string\",\n        \"num_unique_values\": 11981,\n        \"samples\": [\n          \"what are the learning outcomes of this module?\",\n          \"who were the four powerful men with high public profiles mentioned as paedophiles who abused their positions?\",\n          \"what are some of the features of the master bedroom in the described residence?\"\n        ],\n        \"semantic_type\": \"\",\n        \"description\": \"\"\n      }\n    },\n    {\n      \"column\": \"answer\",\n      \"properties\": {\n        \"dtype\": \"string\",\n        \"num_unique_values\": 11981,\n        \"samples\": [\n          \"on successful completion of this module students should be able to critically evaluate relevant texts and consider the implications of these texts in performance, situate ancient and adapted texts in their cultural, political and historical contexts, demonstrate an awareness of the wider cultural and theoretical issues raised by adaptations of classical texts, and produce organized, coherently structured and critically engaged written and oral work.\",\n          \"the four powerful men mentioned as paedophiles who abused their positions were jimmy savile, cyril smith, stuart hall and max clifford.\",\n          \"the master bedroom in the described residence features carpet flooring, a tv point, a 6 door robe built in, and a bay window. it also has an en-suite with a white suite, bath, large mains shower, tile flooring, fully tiled walls, and a double sink with a storage unit.\"\n        ],\n        \"semantic_type\": \"\",\n        \"description\": \"\"\n      }\n    },\n    {\n      \"column\": \"id\",\n      \"properties\": {\n        \"dtype\": \"number\",\n        \"std\": 3458,\n        \"min\": 0,\n        \"max\": 11980,\n        \"num_unique_values\": 11981,\n        \"samples\": [\n          9161,\n          1766,\n          8796\n        ],\n        \"semantic_type\": \"\",\n        \"description\": \"\"\n      }\n    },\n    {\n      \"column\": \"top_ind_search\",\n      \"properties\": {\n        \"dtype\": \"number\",\n        \"std\": 3444,\n        \"min\": 0,\n        \"max\": 11980,\n        \"num_unique_values\": 9530,\n        \"samples\": [\n          1115,\n          9563,\n          7155\n        ],\n        \"semantic_type\": \"\",\n        \"description\": \"\"\n      }\n    },\n    {\n      \"column\": \"eval\",\n      \"properties\": {\n        \"dtype\": \"number\",\n        \"std\": 0,\n        \"min\": 0,\n        \"max\": 1,\n        \"num_unique_values\": 2,\n        \"samples\": [\n          0,\n          1\n        ],\n        \"semantic_type\": \"\",\n        \"description\": \"\"\n      }\n    }\n  ]\n}",
       "type": "dataframe",
       "variable_name": "df"
      },
      "text/html": [
       "\n",
       "  <div id=\"df-b35f904d-46e1-4d52-91e2-e8a61dbad2cf\" class=\"colab-df-container\">\n",
       "    <div>\n",
       "<style scoped>\n",
       "    .dataframe tbody tr th:only-of-type {\n",
       "        vertical-align: middle;\n",
       "    }\n",
       "\n",
       "    .dataframe tbody tr th {\n",
       "        vertical-align: top;\n",
       "    }\n",
       "\n",
       "    .dataframe thead th {\n",
       "        text-align: right;\n",
       "    }\n",
       "</style>\n",
       "<table border=\"1\" class=\"dataframe\">\n",
       "  <thead>\n",
       "    <tr style=\"text-align: right;\">\n",
       "      <th></th>\n",
       "      <th>context</th>\n",
       "      <th>question</th>\n",
       "      <th>answer</th>\n",
       "      <th>id</th>\n",
       "      <th>top_ind_search</th>\n",
       "      <th>eval</th>\n",
       "    </tr>\n",
       "  </thead>\n",
       "  <tbody>\n",
       "    <tr>\n",
       "      <th>0</th>\n",
       "      <td>caption: tasmanian berry grower nic hansen sho...</td>\n",
       "      <td>what is the berry export summary 2028 and what...</td>\n",
       "      <td>the berry export summary 2028 is a dedicated e...</td>\n",
       "      <td>0</td>\n",
       "      <td>0</td>\n",
       "      <td>1</td>\n",
       "    </tr>\n",
       "    <tr>\n",
       "      <th>1</th>\n",
       "      <td>rwsn collaborations southern africa self-suppl...</td>\n",
       "      <td>what are some of the benefits reported from ha...</td>\n",
       "      <td>benefits reported from having access to self-s...</td>\n",
       "      <td>1</td>\n",
       "      <td>1</td>\n",
       "      <td>1</td>\n",
       "    </tr>\n",
       "    <tr>\n",
       "      <th>2</th>\n",
       "      <td>all android applications categories descriptio...</td>\n",
       "      <td>what are the unique features of the coolands f...</td>\n",
       "      <td>the unique features of the coolands for twitte...</td>\n",
       "      <td>2</td>\n",
       "      <td>2</td>\n",
       "      <td>1</td>\n",
       "    </tr>\n",
       "    <tr>\n",
       "      <th>3</th>\n",
       "      <td>how unequal is india? the question is simple, ...</td>\n",
       "      <td>what is the main difference between the nation...</td>\n",
       "      <td>the main difference between the nss and the ih...</td>\n",
       "      <td>3</td>\n",
       "      <td>3</td>\n",
       "      <td>1</td>\n",
       "    </tr>\n",
       "    <tr>\n",
       "      <th>4</th>\n",
       "      <td>gunnar nelson took his time on the feet agains...</td>\n",
       "      <td>how did gunnar nelson win the fight against za...</td>\n",
       "      <td>gunnar nelson won the fight against zak cummin...</td>\n",
       "      <td>4</td>\n",
       "      <td>4</td>\n",
       "      <td>1</td>\n",
       "    </tr>\n",
       "    <tr>\n",
       "      <th>...</th>\n",
       "      <td>...</td>\n",
       "      <td>...</td>\n",
       "      <td>...</td>\n",
       "      <td>...</td>\n",
       "      <td>...</td>\n",
       "      <td>...</td>\n",
       "    </tr>\n",
       "    <tr>\n",
       "      <th>11976</th>\n",
       "      <td>fuzzy's ultra premium vodka the myth, the man,...</td>\n",
       "      <td>what are some of the achievements of fuzzy zoe...</td>\n",
       "      <td>fuzzy zoeller is known for his golfing success...</td>\n",
       "      <td>11976</td>\n",
       "      <td>11976</td>\n",
       "      <td>1</td>\n",
       "    </tr>\n",
       "    <tr>\n",
       "      <th>11977</th>\n",
       "      <td>swedish grand prix rider malin nilsson got mar...</td>\n",
       "      <td>who did malin nilsson marry on 2 june 2018?</td>\n",
       "      <td>malin nilsson got married to her partner, germ...</td>\n",
       "      <td>11977</td>\n",
       "      <td>11977</td>\n",
       "      <td>1</td>\n",
       "    </tr>\n",
       "    <tr>\n",
       "      <th>11978</th>\n",
       "      <td>the cracchiolo law library of the james e. rog...</td>\n",
       "      <td>what is the fellowship in law librarianship of...</td>\n",
       "      <td>the fellowship in law librarianship is a progr...</td>\n",
       "      <td>11978</td>\n",
       "      <td>11978</td>\n",
       "      <td>1</td>\n",
       "    </tr>\n",
       "    <tr>\n",
       "      <th>11979</th>\n",
       "      <td>2nd physical emag store opens in mammut online...</td>\n",
       "      <td>where has the second physical emag store been ...</td>\n",
       "      <td>the second physical emag store has been opened...</td>\n",
       "      <td>11979</td>\n",
       "      <td>11979</td>\n",
       "      <td>1</td>\n",
       "    </tr>\n",
       "    <tr>\n",
       "      <th>11980</th>\n",
       "      <td>about this cadillac 2019 cadillac xt5 fwd 4dr ...</td>\n",
       "      <td>what are some of the key features of the 2019 ...</td>\n",
       "      <td>the 2019 cadillac xt5 comes equipped with feat...</td>\n",
       "      <td>11980</td>\n",
       "      <td>11980</td>\n",
       "      <td>1</td>\n",
       "    </tr>\n",
       "  </tbody>\n",
       "</table>\n",
       "<p>11981 rows × 6 columns</p>\n",
       "</div>\n",
       "    <div class=\"colab-df-buttons\">\n",
       "\n",
       "  <div class=\"colab-df-container\">\n",
       "    <button class=\"colab-df-convert\" onclick=\"convertToInteractive('df-b35f904d-46e1-4d52-91e2-e8a61dbad2cf')\"\n",
       "            title=\"Convert this dataframe to an interactive table.\"\n",
       "            style=\"display:none;\">\n",
       "\n",
       "  <svg xmlns=\"http://www.w3.org/2000/svg\" height=\"24px\" viewBox=\"0 -960 960 960\">\n",
       "    <path d=\"M120-120v-720h720v720H120Zm60-500h600v-160H180v160Zm220 220h160v-160H400v160Zm0 220h160v-160H400v160ZM180-400h160v-160H180v160Zm440 0h160v-160H620v160ZM180-180h160v-160H180v160Zm440 0h160v-160H620v160Z\"/>\n",
       "  </svg>\n",
       "    </button>\n",
       "\n",
       "  <style>\n",
       "    .colab-df-container {\n",
       "      display:flex;\n",
       "      gap: 12px;\n",
       "    }\n",
       "\n",
       "    .colab-df-convert {\n",
       "      background-color: #E8F0FE;\n",
       "      border: none;\n",
       "      border-radius: 50%;\n",
       "      cursor: pointer;\n",
       "      display: none;\n",
       "      fill: #1967D2;\n",
       "      height: 32px;\n",
       "      padding: 0 0 0 0;\n",
       "      width: 32px;\n",
       "    }\n",
       "\n",
       "    .colab-df-convert:hover {\n",
       "      background-color: #E2EBFA;\n",
       "      box-shadow: 0px 1px 2px rgba(60, 64, 67, 0.3), 0px 1px 3px 1px rgba(60, 64, 67, 0.15);\n",
       "      fill: #174EA6;\n",
       "    }\n",
       "\n",
       "    .colab-df-buttons div {\n",
       "      margin-bottom: 4px;\n",
       "    }\n",
       "\n",
       "    [theme=dark] .colab-df-convert {\n",
       "      background-color: #3B4455;\n",
       "      fill: #D2E3FC;\n",
       "    }\n",
       "\n",
       "    [theme=dark] .colab-df-convert:hover {\n",
       "      background-color: #434B5C;\n",
       "      box-shadow: 0px 1px 3px 1px rgba(0, 0, 0, 0.15);\n",
       "      filter: drop-shadow(0px 1px 2px rgba(0, 0, 0, 0.3));\n",
       "      fill: #FFFFFF;\n",
       "    }\n",
       "  </style>\n",
       "\n",
       "    <script>\n",
       "      const buttonEl =\n",
       "        document.querySelector('#df-b35f904d-46e1-4d52-91e2-e8a61dbad2cf button.colab-df-convert');\n",
       "      buttonEl.style.display =\n",
       "        google.colab.kernel.accessAllowed ? 'block' : 'none';\n",
       "\n",
       "      async function convertToInteractive(key) {\n",
       "        const element = document.querySelector('#df-b35f904d-46e1-4d52-91e2-e8a61dbad2cf');\n",
       "        const dataTable =\n",
       "          await google.colab.kernel.invokeFunction('convertToInteractive',\n",
       "                                                    [key], {});\n",
       "        if (!dataTable) return;\n",
       "\n",
       "        const docLinkHtml = 'Like what you see? Visit the ' +\n",
       "          '<a target=\"_blank\" href=https://colab.research.google.com/notebooks/data_table.ipynb>data table notebook</a>'\n",
       "          + ' to learn more about interactive tables.';\n",
       "        element.innerHTML = '';\n",
       "        dataTable['output_type'] = 'display_data';\n",
       "        await google.colab.output.renderOutput(dataTable, element);\n",
       "        const docLink = document.createElement('div');\n",
       "        docLink.innerHTML = docLinkHtml;\n",
       "        element.appendChild(docLink);\n",
       "      }\n",
       "    </script>\n",
       "  </div>\n",
       "\n",
       "\n",
       "<div id=\"df-19fe4caa-51f0-4f98-99ee-1f1e8fcedf60\">\n",
       "  <button class=\"colab-df-quickchart\" onclick=\"quickchart('df-19fe4caa-51f0-4f98-99ee-1f1e8fcedf60')\"\n",
       "            title=\"Suggest charts\"\n",
       "            style=\"display:none;\">\n",
       "\n",
       "<svg xmlns=\"http://www.w3.org/2000/svg\" height=\"24px\"viewBox=\"0 0 24 24\"\n",
       "     width=\"24px\">\n",
       "    <g>\n",
       "        <path d=\"M19 3H5c-1.1 0-2 .9-2 2v14c0 1.1.9 2 2 2h14c1.1 0 2-.9 2-2V5c0-1.1-.9-2-2-2zM9 17H7v-7h2v7zm4 0h-2V7h2v10zm4 0h-2v-4h2v4z\"/>\n",
       "    </g>\n",
       "</svg>\n",
       "  </button>\n",
       "\n",
       "<style>\n",
       "  .colab-df-quickchart {\n",
       "      --bg-color: #E8F0FE;\n",
       "      --fill-color: #1967D2;\n",
       "      --hover-bg-color: #E2EBFA;\n",
       "      --hover-fill-color: #174EA6;\n",
       "      --disabled-fill-color: #AAA;\n",
       "      --disabled-bg-color: #DDD;\n",
       "  }\n",
       "\n",
       "  [theme=dark] .colab-df-quickchart {\n",
       "      --bg-color: #3B4455;\n",
       "      --fill-color: #D2E3FC;\n",
       "      --hover-bg-color: #434B5C;\n",
       "      --hover-fill-color: #FFFFFF;\n",
       "      --disabled-bg-color: #3B4455;\n",
       "      --disabled-fill-color: #666;\n",
       "  }\n",
       "\n",
       "  .colab-df-quickchart {\n",
       "    background-color: var(--bg-color);\n",
       "    border: none;\n",
       "    border-radius: 50%;\n",
       "    cursor: pointer;\n",
       "    display: none;\n",
       "    fill: var(--fill-color);\n",
       "    height: 32px;\n",
       "    padding: 0;\n",
       "    width: 32px;\n",
       "  }\n",
       "\n",
       "  .colab-df-quickchart:hover {\n",
       "    background-color: var(--hover-bg-color);\n",
       "    box-shadow: 0 1px 2px rgba(60, 64, 67, 0.3), 0 1px 3px 1px rgba(60, 64, 67, 0.15);\n",
       "    fill: var(--button-hover-fill-color);\n",
       "  }\n",
       "\n",
       "  .colab-df-quickchart-complete:disabled,\n",
       "  .colab-df-quickchart-complete:disabled:hover {\n",
       "    background-color: var(--disabled-bg-color);\n",
       "    fill: var(--disabled-fill-color);\n",
       "    box-shadow: none;\n",
       "  }\n",
       "\n",
       "  .colab-df-spinner {\n",
       "    border: 2px solid var(--fill-color);\n",
       "    border-color: transparent;\n",
       "    border-bottom-color: var(--fill-color);\n",
       "    animation:\n",
       "      spin 1s steps(1) infinite;\n",
       "  }\n",
       "\n",
       "  @keyframes spin {\n",
       "    0% {\n",
       "      border-color: transparent;\n",
       "      border-bottom-color: var(--fill-color);\n",
       "      border-left-color: var(--fill-color);\n",
       "    }\n",
       "    20% {\n",
       "      border-color: transparent;\n",
       "      border-left-color: var(--fill-color);\n",
       "      border-top-color: var(--fill-color);\n",
       "    }\n",
       "    30% {\n",
       "      border-color: transparent;\n",
       "      border-left-color: var(--fill-color);\n",
       "      border-top-color: var(--fill-color);\n",
       "      border-right-color: var(--fill-color);\n",
       "    }\n",
       "    40% {\n",
       "      border-color: transparent;\n",
       "      border-right-color: var(--fill-color);\n",
       "      border-top-color: var(--fill-color);\n",
       "    }\n",
       "    60% {\n",
       "      border-color: transparent;\n",
       "      border-right-color: var(--fill-color);\n",
       "    }\n",
       "    80% {\n",
       "      border-color: transparent;\n",
       "      border-right-color: var(--fill-color);\n",
       "      border-bottom-color: var(--fill-color);\n",
       "    }\n",
       "    90% {\n",
       "      border-color: transparent;\n",
       "      border-bottom-color: var(--fill-color);\n",
       "    }\n",
       "  }\n",
       "</style>\n",
       "\n",
       "  <script>\n",
       "    async function quickchart(key) {\n",
       "      const quickchartButtonEl =\n",
       "        document.querySelector('#' + key + ' button');\n",
       "      quickchartButtonEl.disabled = true;  // To prevent multiple clicks.\n",
       "      quickchartButtonEl.classList.add('colab-df-spinner');\n",
       "      try {\n",
       "        const charts = await google.colab.kernel.invokeFunction(\n",
       "            'suggestCharts', [key], {});\n",
       "      } catch (error) {\n",
       "        console.error('Error during call to suggestCharts:', error);\n",
       "      }\n",
       "      quickchartButtonEl.classList.remove('colab-df-spinner');\n",
       "      quickchartButtonEl.classList.add('colab-df-quickchart-complete');\n",
       "    }\n",
       "    (() => {\n",
       "      let quickchartButtonEl =\n",
       "        document.querySelector('#df-19fe4caa-51f0-4f98-99ee-1f1e8fcedf60 button');\n",
       "      quickchartButtonEl.style.display =\n",
       "        google.colab.kernel.accessAllowed ? 'block' : 'none';\n",
       "    })();\n",
       "  </script>\n",
       "</div>\n",
       "    </div>\n",
       "  </div>\n"
      ],
      "text/plain": [
       "                                                 context  \\\n",
       "0      caption: tasmanian berry grower nic hansen sho...   \n",
       "1      rwsn collaborations southern africa self-suppl...   \n",
       "2      all android applications categories descriptio...   \n",
       "3      how unequal is india? the question is simple, ...   \n",
       "4      gunnar nelson took his time on the feet agains...   \n",
       "...                                                  ...   \n",
       "11976  fuzzy's ultra premium vodka the myth, the man,...   \n",
       "11977  swedish grand prix rider malin nilsson got mar...   \n",
       "11978  the cracchiolo law library of the james e. rog...   \n",
       "11979  2nd physical emag store opens in mammut online...   \n",
       "11980  about this cadillac 2019 cadillac xt5 fwd 4dr ...   \n",
       "\n",
       "                                                question  \\\n",
       "0      what is the berry export summary 2028 and what...   \n",
       "1      what are some of the benefits reported from ha...   \n",
       "2      what are the unique features of the coolands f...   \n",
       "3      what is the main difference between the nation...   \n",
       "4      how did gunnar nelson win the fight against za...   \n",
       "...                                                  ...   \n",
       "11976  what are some of the achievements of fuzzy zoe...   \n",
       "11977        who did malin nilsson marry on 2 june 2018?   \n",
       "11978  what is the fellowship in law librarianship of...   \n",
       "11979  where has the second physical emag store been ...   \n",
       "11980  what are some of the key features of the 2019 ...   \n",
       "\n",
       "                                                  answer     id  \\\n",
       "0      the berry export summary 2028 is a dedicated e...      0   \n",
       "1      benefits reported from having access to self-s...      1   \n",
       "2      the unique features of the coolands for twitte...      2   \n",
       "3      the main difference between the nss and the ih...      3   \n",
       "4      gunnar nelson won the fight against zak cummin...      4   \n",
       "...                                                  ...    ...   \n",
       "11976  fuzzy zoeller is known for his golfing success...  11976   \n",
       "11977  malin nilsson got married to her partner, germ...  11977   \n",
       "11978  the fellowship in law librarianship is a progr...  11978   \n",
       "11979  the second physical emag store has been opened...  11979   \n",
       "11980  the 2019 cadillac xt5 comes equipped with feat...  11980   \n",
       "\n",
       "       top_ind_search  eval  \n",
       "0                   0     1  \n",
       "1                   1     1  \n",
       "2                   2     1  \n",
       "3                   3     1  \n",
       "4                   4     1  \n",
       "...               ...   ...  \n",
       "11976           11976     1  \n",
       "11977           11977     1  \n",
       "11978           11978     1  \n",
       "11979           11979     1  \n",
       "11980           11980     1  \n",
       "\n",
       "[11981 rows x 6 columns]"
      ]
     },
     "execution_count": 86,
     "metadata": {},
     "output_type": "execute_result"
    }
   ],
   "source": [
    "df"
   ]
  },
  {
   "cell_type": "code",
   "execution_count": 33,
   "metadata": {
    "colab": {
     "base_uri": "https://localhost:8080/",
     "height": 178
    },
    "id": "X9cl-RmdDTxi",
    "outputId": "7cc63528-c003-4bc8-d939-aae953c9b0d0"
   },
   "outputs": [
    {
     "data": {
      "text/plain": [
       "eval\n",
       "1    0.754445\n",
       "0    0.245555\n",
       "Name: proportion, dtype: float64"
      ]
     },
     "execution_count": 33,
     "metadata": {},
     "output_type": "execute_result"
    }
   ],
   "source": [
    "# количество правильных/неправильных идентификаторов\n",
    "df['eval'].value_counts(normalize = True)"
   ]
  },
  {
   "cell_type": "code",
   "execution_count": 34,
   "metadata": {
    "colab": {
     "base_uri": "https://localhost:8080/"
    },
    "id": "N5jJGwwqH62s",
    "outputId": "de6b46f8-6d8e-49dc-fa60-7fbc149d86dd"
   },
   "outputs": [
    {
     "name": "stdout",
     "output_type": "stream",
     "text": [
      "0.7544445371838745\n"
     ]
    }
   ],
   "source": [
    "# расчет через precision\n",
    "from sklearn.metrics import precision_score\n",
    "\n",
    "precision = precision_score(df.id, df.top_ind_search, average='micro')\n",
    "print(precision)"
   ]
  },
  {
   "cell_type": "markdown",
   "metadata": {
    "id": "roA9EUg0DsTK"
   },
   "source": [
    "Качество (encoder - SentenceTransformer(\"all-MiniLM-L6-v2\")) 75%"
   ]
  }
 ],
 "metadata": {
  "colab": {
   "provenance": []
  },
  "kernelspec": {
   "display_name": "Python 3",
   "name": "python3"
  },
  "language_info": {
   "codemirror_mode": {
    "name": "ipython",
    "version": 3
   },
   "file_extension": ".py",
   "mimetype": "text/x-python",
   "name": "python",
   "nbconvert_exporter": "python",
   "pygments_lexer": "ipython3",
   "version": "3.11.2"
  }
 },
 "nbformat": 4,
 "nbformat_minor": 0
}
