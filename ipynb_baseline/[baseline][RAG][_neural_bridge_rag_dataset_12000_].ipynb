{
  "cells": [
    {
      "cell_type": "markdown",
      "source": [
        "<a href=\"https://colab.research.google.com/drive/19xaA0mqX2dBHO6PXeEPbqFtNQbNSma7_?usp=sharing\" target=\"_parent\"><img src=\"https://colab.research.google.com/assets/colab-badge.svg\" alt=\"Open In Colab\"/></a>"
      ],
      "metadata": {
        "id": "Rq5-g3MRHOOU"
      }
    },
    {
      "cell_type": "markdown",
      "metadata": {
        "id": "Je30l8GNk4t6"
      },
      "source": [
        "# Построение вопросно-ответной системы с использованием RAG"
      ]
    },
    {
      "cell_type": "markdown",
      "source": [
        "В этом ноутбуке продемонстрирована базовая модель на основе БД Qdrant, с кодированием SentenceTransformer"
      ],
      "metadata": {
        "id": "o59n_lEVD82X"
      }
    },
    {
      "cell_type": "markdown",
      "metadata": {
        "id": "oVRjOFLTlAoX"
      },
      "source": [
        "### импорты"
      ]
    },
    {
      "cell_type": "code",
      "execution_count": null,
      "metadata": {
        "id": "Dy_4QnyIjAMz"
      },
      "outputs": [],
      "source": [
        "from IPython.display import clear_output\n",
        "import numpy as np\n",
        "import pandas as pd\n",
        "from tqdm import tqdm"
      ]
    },
    {
      "cell_type": "markdown",
      "metadata": {
        "id": "yoBsAp-vlJIm"
      },
      "source": [
        "### загрузка датасета"
      ]
    },
    {
      "cell_type": "code",
      "source": [
        "# загрузка csv файла из google drive\n",
        "!wget --no-check-certificate 'https://docs.google.com/uc?export=download&id=1dgnwG1AZhspMJaDR6jz828qZkSnZg25t' -O full_dataset.csv"
      ],
      "metadata": {
        "colab": {
          "base_uri": "https://localhost:8080/"
        },
        "id": "dIg4KwrI0N0u",
        "outputId": "9ff37761-216d-49e2-b4fb-c4f31d34a307"
      },
      "execution_count": 3,
      "outputs": [
        {
          "output_type": "stream",
          "name": "stdout",
          "text": [
            "--2024-12-06 17:12:11--  https://docs.google.com/uc?export=download&id=1dgnwG1AZhspMJaDR6jz828qZkSnZg25t\n",
            "Resolving docs.google.com (docs.google.com)... 172.217.204.113, 172.217.204.139, 172.217.204.102, ...\n",
            "Connecting to docs.google.com (docs.google.com)|172.217.204.113|:443... connected.\n",
            "HTTP request sent, awaiting response... 303 See Other\n",
            "Location: https://drive.usercontent.google.com/download?id=1dgnwG1AZhspMJaDR6jz828qZkSnZg25t&export=download [following]\n",
            "--2024-12-06 17:12:11--  https://drive.usercontent.google.com/download?id=1dgnwG1AZhspMJaDR6jz828qZkSnZg25t&export=download\n",
            "Resolving drive.usercontent.google.com (drive.usercontent.google.com)... 173.194.217.132, 2607:f8b0:400c:c13::84\n",
            "Connecting to drive.usercontent.google.com (drive.usercontent.google.com)|173.194.217.132|:443... connected.\n",
            "HTTP request sent, awaiting response... 200 OK\n",
            "Length: 45451452 (43M) [application/octet-stream]\n",
            "Saving to: ‘full_dataset.csv’\n",
            "\n",
            "full_dataset.csv    100%[===================>]  43.35M  74.1MB/s    in 0.6s    \n",
            "\n",
            "2024-12-06 17:12:13 (74.1 MB/s) - ‘full_dataset.csv’ saved [45451452/45451452]\n",
            "\n"
          ]
        }
      ]
    },
    {
      "cell_type": "code",
      "source": [
        "rag_dataset = pd.read_csv('full_dataset.csv')\n",
        "rag_dataset"
      ],
      "metadata": {
        "colab": {
          "base_uri": "https://localhost:8080/",
          "height": 424
        },
        "id": "nWpz5QnU5SHJ",
        "outputId": "88771d79-c7f9-4d59-d25a-83dada6f1cfd"
      },
      "execution_count": 4,
      "outputs": [
        {
          "output_type": "execute_result",
          "data": {
            "text/plain": [
              "                                                 context  \\\n",
              "0      Caption: Tasmanian berry grower Nic Hansen sho...   \n",
              "1      RWSN Collaborations\\nSouthern Africa Self-supp...   \n",
              "2      All Android applications categories\\nDescripti...   \n",
              "3      How unequal is India? The question is simple, ...   \n",
              "4      Gunnar Nelson took his time on the feet agains...   \n",
              "...                                                  ...   \n",
              "11995  Fuzzy's Ultra Premium Vodka\\nThe Myth, The Man...   \n",
              "11996  Swedish Grand Prix rider Malin Nilsson got mar...   \n",
              "11997  The Cracchiolo Law Library of the James E. Rog...   \n",
              "11998  2nd physical eMAG store opens in Mammut\\nOnlin...   \n",
              "11999  About This Cadillac\\n2019 Cadillac XT5\\nFWD 4d...   \n",
              "\n",
              "                                                question  \\\n",
              "0      What is the Berry Export Summary 2028 and what...   \n",
              "1      What are some of the benefits reported from ha...   \n",
              "2      What are the unique features of the Coolands f...   \n",
              "3      What is the main difference between the Nation...   \n",
              "4      How did Gunnar Nelson win the fight against Za...   \n",
              "...                                                  ...   \n",
              "11995  What are some of the achievements of Fuzzy Zoe...   \n",
              "11996        Who did Malin Nilsson marry on 2 June 2018?   \n",
              "11997  What is the Fellowship in Law Librarianship of...   \n",
              "11998  Where has the second physical eMAG store been ...   \n",
              "11999  What are some of the key features of the 2019 ...   \n",
              "\n",
              "                                                  answer  \n",
              "0      The Berry Export Summary 2028 is a dedicated e...  \n",
              "1      Benefits reported from having access to Self-s...  \n",
              "2      The unique features of the Coolands for Twitte...  \n",
              "3      The main difference between the NSS and the IH...  \n",
              "4      Gunnar Nelson won the fight against Zak Cummin...  \n",
              "...                                                  ...  \n",
              "11995  Fuzzy Zoeller is known for his golfing success...  \n",
              "11996  Malin Nilsson got married to her partner, Germ...  \n",
              "11997  The Fellowship in Law Librarianship is a progr...  \n",
              "11998  The second physical eMAG store has been opened...  \n",
              "11999  The 2019 Cadillac XT5 comes equipped with feat...  \n",
              "\n",
              "[12000 rows x 3 columns]"
            ],
            "text/html": [
              "\n",
              "  <div id=\"df-5aeb7c8e-7500-4913-b5b2-17a7900791a1\" class=\"colab-df-container\">\n",
              "    <div>\n",
              "<style scoped>\n",
              "    .dataframe tbody tr th:only-of-type {\n",
              "        vertical-align: middle;\n",
              "    }\n",
              "\n",
              "    .dataframe tbody tr th {\n",
              "        vertical-align: top;\n",
              "    }\n",
              "\n",
              "    .dataframe thead th {\n",
              "        text-align: right;\n",
              "    }\n",
              "</style>\n",
              "<table border=\"1\" class=\"dataframe\">\n",
              "  <thead>\n",
              "    <tr style=\"text-align: right;\">\n",
              "      <th></th>\n",
              "      <th>context</th>\n",
              "      <th>question</th>\n",
              "      <th>answer</th>\n",
              "    </tr>\n",
              "  </thead>\n",
              "  <tbody>\n",
              "    <tr>\n",
              "      <th>0</th>\n",
              "      <td>Caption: Tasmanian berry grower Nic Hansen sho...</td>\n",
              "      <td>What is the Berry Export Summary 2028 and what...</td>\n",
              "      <td>The Berry Export Summary 2028 is a dedicated e...</td>\n",
              "    </tr>\n",
              "    <tr>\n",
              "      <th>1</th>\n",
              "      <td>RWSN Collaborations\\nSouthern Africa Self-supp...</td>\n",
              "      <td>What are some of the benefits reported from ha...</td>\n",
              "      <td>Benefits reported from having access to Self-s...</td>\n",
              "    </tr>\n",
              "    <tr>\n",
              "      <th>2</th>\n",
              "      <td>All Android applications categories\\nDescripti...</td>\n",
              "      <td>What are the unique features of the Coolands f...</td>\n",
              "      <td>The unique features of the Coolands for Twitte...</td>\n",
              "    </tr>\n",
              "    <tr>\n",
              "      <th>3</th>\n",
              "      <td>How unequal is India? The question is simple, ...</td>\n",
              "      <td>What is the main difference between the Nation...</td>\n",
              "      <td>The main difference between the NSS and the IH...</td>\n",
              "    </tr>\n",
              "    <tr>\n",
              "      <th>4</th>\n",
              "      <td>Gunnar Nelson took his time on the feet agains...</td>\n",
              "      <td>How did Gunnar Nelson win the fight against Za...</td>\n",
              "      <td>Gunnar Nelson won the fight against Zak Cummin...</td>\n",
              "    </tr>\n",
              "    <tr>\n",
              "      <th>...</th>\n",
              "      <td>...</td>\n",
              "      <td>...</td>\n",
              "      <td>...</td>\n",
              "    </tr>\n",
              "    <tr>\n",
              "      <th>11995</th>\n",
              "      <td>Fuzzy's Ultra Premium Vodka\\nThe Myth, The Man...</td>\n",
              "      <td>What are some of the achievements of Fuzzy Zoe...</td>\n",
              "      <td>Fuzzy Zoeller is known for his golfing success...</td>\n",
              "    </tr>\n",
              "    <tr>\n",
              "      <th>11996</th>\n",
              "      <td>Swedish Grand Prix rider Malin Nilsson got mar...</td>\n",
              "      <td>Who did Malin Nilsson marry on 2 June 2018?</td>\n",
              "      <td>Malin Nilsson got married to her partner, Germ...</td>\n",
              "    </tr>\n",
              "    <tr>\n",
              "      <th>11997</th>\n",
              "      <td>The Cracchiolo Law Library of the James E. Rog...</td>\n",
              "      <td>What is the Fellowship in Law Librarianship of...</td>\n",
              "      <td>The Fellowship in Law Librarianship is a progr...</td>\n",
              "    </tr>\n",
              "    <tr>\n",
              "      <th>11998</th>\n",
              "      <td>2nd physical eMAG store opens in Mammut\\nOnlin...</td>\n",
              "      <td>Where has the second physical eMAG store been ...</td>\n",
              "      <td>The second physical eMAG store has been opened...</td>\n",
              "    </tr>\n",
              "    <tr>\n",
              "      <th>11999</th>\n",
              "      <td>About This Cadillac\\n2019 Cadillac XT5\\nFWD 4d...</td>\n",
              "      <td>What are some of the key features of the 2019 ...</td>\n",
              "      <td>The 2019 Cadillac XT5 comes equipped with feat...</td>\n",
              "    </tr>\n",
              "  </tbody>\n",
              "</table>\n",
              "<p>12000 rows × 3 columns</p>\n",
              "</div>\n",
              "    <div class=\"colab-df-buttons\">\n",
              "\n",
              "  <div class=\"colab-df-container\">\n",
              "    <button class=\"colab-df-convert\" onclick=\"convertToInteractive('df-5aeb7c8e-7500-4913-b5b2-17a7900791a1')\"\n",
              "            title=\"Convert this dataframe to an interactive table.\"\n",
              "            style=\"display:none;\">\n",
              "\n",
              "  <svg xmlns=\"http://www.w3.org/2000/svg\" height=\"24px\" viewBox=\"0 -960 960 960\">\n",
              "    <path d=\"M120-120v-720h720v720H120Zm60-500h600v-160H180v160Zm220 220h160v-160H400v160Zm0 220h160v-160H400v160ZM180-400h160v-160H180v160Zm440 0h160v-160H620v160ZM180-180h160v-160H180v160Zm440 0h160v-160H620v160Z\"/>\n",
              "  </svg>\n",
              "    </button>\n",
              "\n",
              "  <style>\n",
              "    .colab-df-container {\n",
              "      display:flex;\n",
              "      gap: 12px;\n",
              "    }\n",
              "\n",
              "    .colab-df-convert {\n",
              "      background-color: #E8F0FE;\n",
              "      border: none;\n",
              "      border-radius: 50%;\n",
              "      cursor: pointer;\n",
              "      display: none;\n",
              "      fill: #1967D2;\n",
              "      height: 32px;\n",
              "      padding: 0 0 0 0;\n",
              "      width: 32px;\n",
              "    }\n",
              "\n",
              "    .colab-df-convert:hover {\n",
              "      background-color: #E2EBFA;\n",
              "      box-shadow: 0px 1px 2px rgba(60, 64, 67, 0.3), 0px 1px 3px 1px rgba(60, 64, 67, 0.15);\n",
              "      fill: #174EA6;\n",
              "    }\n",
              "\n",
              "    .colab-df-buttons div {\n",
              "      margin-bottom: 4px;\n",
              "    }\n",
              "\n",
              "    [theme=dark] .colab-df-convert {\n",
              "      background-color: #3B4455;\n",
              "      fill: #D2E3FC;\n",
              "    }\n",
              "\n",
              "    [theme=dark] .colab-df-convert:hover {\n",
              "      background-color: #434B5C;\n",
              "      box-shadow: 0px 1px 3px 1px rgba(0, 0, 0, 0.15);\n",
              "      filter: drop-shadow(0px 1px 2px rgba(0, 0, 0, 0.3));\n",
              "      fill: #FFFFFF;\n",
              "    }\n",
              "  </style>\n",
              "\n",
              "    <script>\n",
              "      const buttonEl =\n",
              "        document.querySelector('#df-5aeb7c8e-7500-4913-b5b2-17a7900791a1 button.colab-df-convert');\n",
              "      buttonEl.style.display =\n",
              "        google.colab.kernel.accessAllowed ? 'block' : 'none';\n",
              "\n",
              "      async function convertToInteractive(key) {\n",
              "        const element = document.querySelector('#df-5aeb7c8e-7500-4913-b5b2-17a7900791a1');\n",
              "        const dataTable =\n",
              "          await google.colab.kernel.invokeFunction('convertToInteractive',\n",
              "                                                    [key], {});\n",
              "        if (!dataTable) return;\n",
              "\n",
              "        const docLinkHtml = 'Like what you see? Visit the ' +\n",
              "          '<a target=\"_blank\" href=https://colab.research.google.com/notebooks/data_table.ipynb>data table notebook</a>'\n",
              "          + ' to learn more about interactive tables.';\n",
              "        element.innerHTML = '';\n",
              "        dataTable['output_type'] = 'display_data';\n",
              "        await google.colab.output.renderOutput(dataTable, element);\n",
              "        const docLink = document.createElement('div');\n",
              "        docLink.innerHTML = docLinkHtml;\n",
              "        element.appendChild(docLink);\n",
              "      }\n",
              "    </script>\n",
              "  </div>\n",
              "\n",
              "\n",
              "<div id=\"df-1db4d076-e784-483a-9308-b4d5f42ad071\">\n",
              "  <button class=\"colab-df-quickchart\" onclick=\"quickchart('df-1db4d076-e784-483a-9308-b4d5f42ad071')\"\n",
              "            title=\"Suggest charts\"\n",
              "            style=\"display:none;\">\n",
              "\n",
              "<svg xmlns=\"http://www.w3.org/2000/svg\" height=\"24px\"viewBox=\"0 0 24 24\"\n",
              "     width=\"24px\">\n",
              "    <g>\n",
              "        <path d=\"M19 3H5c-1.1 0-2 .9-2 2v14c0 1.1.9 2 2 2h14c1.1 0 2-.9 2-2V5c0-1.1-.9-2-2-2zM9 17H7v-7h2v7zm4 0h-2V7h2v10zm4 0h-2v-4h2v4z\"/>\n",
              "    </g>\n",
              "</svg>\n",
              "  </button>\n",
              "\n",
              "<style>\n",
              "  .colab-df-quickchart {\n",
              "      --bg-color: #E8F0FE;\n",
              "      --fill-color: #1967D2;\n",
              "      --hover-bg-color: #E2EBFA;\n",
              "      --hover-fill-color: #174EA6;\n",
              "      --disabled-fill-color: #AAA;\n",
              "      --disabled-bg-color: #DDD;\n",
              "  }\n",
              "\n",
              "  [theme=dark] .colab-df-quickchart {\n",
              "      --bg-color: #3B4455;\n",
              "      --fill-color: #D2E3FC;\n",
              "      --hover-bg-color: #434B5C;\n",
              "      --hover-fill-color: #FFFFFF;\n",
              "      --disabled-bg-color: #3B4455;\n",
              "      --disabled-fill-color: #666;\n",
              "  }\n",
              "\n",
              "  .colab-df-quickchart {\n",
              "    background-color: var(--bg-color);\n",
              "    border: none;\n",
              "    border-radius: 50%;\n",
              "    cursor: pointer;\n",
              "    display: none;\n",
              "    fill: var(--fill-color);\n",
              "    height: 32px;\n",
              "    padding: 0;\n",
              "    width: 32px;\n",
              "  }\n",
              "\n",
              "  .colab-df-quickchart:hover {\n",
              "    background-color: var(--hover-bg-color);\n",
              "    box-shadow: 0 1px 2px rgba(60, 64, 67, 0.3), 0 1px 3px 1px rgba(60, 64, 67, 0.15);\n",
              "    fill: var(--button-hover-fill-color);\n",
              "  }\n",
              "\n",
              "  .colab-df-quickchart-complete:disabled,\n",
              "  .colab-df-quickchart-complete:disabled:hover {\n",
              "    background-color: var(--disabled-bg-color);\n",
              "    fill: var(--disabled-fill-color);\n",
              "    box-shadow: none;\n",
              "  }\n",
              "\n",
              "  .colab-df-spinner {\n",
              "    border: 2px solid var(--fill-color);\n",
              "    border-color: transparent;\n",
              "    border-bottom-color: var(--fill-color);\n",
              "    animation:\n",
              "      spin 1s steps(1) infinite;\n",
              "  }\n",
              "\n",
              "  @keyframes spin {\n",
              "    0% {\n",
              "      border-color: transparent;\n",
              "      border-bottom-color: var(--fill-color);\n",
              "      border-left-color: var(--fill-color);\n",
              "    }\n",
              "    20% {\n",
              "      border-color: transparent;\n",
              "      border-left-color: var(--fill-color);\n",
              "      border-top-color: var(--fill-color);\n",
              "    }\n",
              "    30% {\n",
              "      border-color: transparent;\n",
              "      border-left-color: var(--fill-color);\n",
              "      border-top-color: var(--fill-color);\n",
              "      border-right-color: var(--fill-color);\n",
              "    }\n",
              "    40% {\n",
              "      border-color: transparent;\n",
              "      border-right-color: var(--fill-color);\n",
              "      border-top-color: var(--fill-color);\n",
              "    }\n",
              "    60% {\n",
              "      border-color: transparent;\n",
              "      border-right-color: var(--fill-color);\n",
              "    }\n",
              "    80% {\n",
              "      border-color: transparent;\n",
              "      border-right-color: var(--fill-color);\n",
              "      border-bottom-color: var(--fill-color);\n",
              "    }\n",
              "    90% {\n",
              "      border-color: transparent;\n",
              "      border-bottom-color: var(--fill-color);\n",
              "    }\n",
              "  }\n",
              "</style>\n",
              "\n",
              "  <script>\n",
              "    async function quickchart(key) {\n",
              "      const quickchartButtonEl =\n",
              "        document.querySelector('#' + key + ' button');\n",
              "      quickchartButtonEl.disabled = true;  // To prevent multiple clicks.\n",
              "      quickchartButtonEl.classList.add('colab-df-spinner');\n",
              "      try {\n",
              "        const charts = await google.colab.kernel.invokeFunction(\n",
              "            'suggestCharts', [key], {});\n",
              "      } catch (error) {\n",
              "        console.error('Error during call to suggestCharts:', error);\n",
              "      }\n",
              "      quickchartButtonEl.classList.remove('colab-df-spinner');\n",
              "      quickchartButtonEl.classList.add('colab-df-quickchart-complete');\n",
              "    }\n",
              "    (() => {\n",
              "      let quickchartButtonEl =\n",
              "        document.querySelector('#df-1db4d076-e784-483a-9308-b4d5f42ad071 button');\n",
              "      quickchartButtonEl.style.display =\n",
              "        google.colab.kernel.accessAllowed ? 'block' : 'none';\n",
              "    })();\n",
              "  </script>\n",
              "</div>\n",
              "    </div>\n",
              "  </div>\n"
            ],
            "application/vnd.google.colaboratory.intrinsic+json": {
              "type": "dataframe",
              "variable_name": "rag_dataset",
              "summary": "{\n  \"name\": \"rag_dataset\",\n  \"rows\": 12000,\n  \"fields\": [\n    {\n      \"column\": \"context\",\n      \"properties\": {\n        \"dtype\": \"string\",\n        \"num_unique_values\": 12000,\n        \"samples\": [\n          \"- THE MAGAZINE\\n- NEWS\\n- NEW PRODUCTS\\n- TOPICS\\n- COLUMNS\\n- RESOURCES\\n- MULTIMEDIA\\n- EVENTS\\n- DIRECTORIES\\nCeramic Society of Japan Announces Annual MeetingThe Annual Meeting of the Ceramic Society of Japan (CSJ) will be held at the Ohkubo campus of Waseda University in Tokyo, Japan, on March 21-23, 2001. The scientific program will cover structural ceramics, electroceramics, glass, raw materials, processing, bioceramics, materials analysis, cements, porcelain enamel, whitewares and education. The annual banquet and the Ceramographic Award Exhibition will also be part of the meeting.\\nFor more information, contact CSJ at ask_www@ceramic.or.jp or visit.\\nNasdaq Opens Branch in IndiaThe U.S.-based Nasdaq stock market, which specializes in technology stocks, has opened its first branch in India. The new Nasdaq office is in the southern city of Bangalore, the country\\u2019s information technology hub.\\nThe vice chairman of Nasdaq, Alfred Berkley, said the new branch would open a window for Indian companies to access global funds. This is the fourth Nasdaq office outside the U.S., after London, Tokyo and Brazil.\\nSource: BBC World Service newsroom ()\\nTosoh Renames Nippon Silica Glass USAJapan-based Tosoh Corp. has changed the name of Nippon Silica Glass USA, Inc. to TOSOH SGM, USA Inc., effective January 1, 2001. Located in Bound Brook, N.J., TOSOH SGM, USA Inc. will continue to be the sales and distribution channel for silica glass materials, zirconia powders and advanced ceramic products and materials in the U.S. for Tosoh Corp. As part of the quartz group unification process, Tosoh aims to further enhance its worldwide silica glass material line of business by bringing about a more efficient utilization of resources through the sharing of information and technology, as well as research and development and marketing efforts.\\nThis renaming strategically follows the recent name change of quartz material producer NSG Yamaguchi Co., Ltd., to TOSOH SGM Corp., as well as the transfer of silica glass sales assignments from Nippon Silica Glass Co., Ltd., to the Tosoh Quartz Division. In addition, Tosoh recently unified all Tosoh-affiliated quartz fabrication companies throughout the world under the name \\u201cTOSOH Quartz.\\u201d For more information, visit.\\nChina WTO Talks Expected by MarchBeijing\\u2019s chief World Trade Organization negotiator, Long Yongtu, said it was unlikely the next round of WTO talks would be held in February. He said that China wants to wait until all parties in the new Bush administration are ready before the two sides meet again. But he denied an Australian news report saying China may delay WTO entry until as late as next year.\\n\\u201cGiven the atmosphere and progress in Geneva in the last talks, I still believe we can get in the WTO this year,\\u201d he said. \\u201cWhich month is not important.\\u201d\\nAfter talks in January in Geneva, the next round of meetings was planned to take place at the end of February or in early March.\\n\\u201cIf we are to meet, I prefer to have a good meeting. But because of the changing of new administration in the U.S., they may have new adjustments. We want to wait until all the parties are ready. It will be in March but we will not press for a date.\\u201d\\nSource:\\nIndia\\u2019s Industrial Growth SlowsIndustrial growth in India slumped to 5.7% during the first nine months of the current financial year (April-December 2000), compared to the 6.4% growth achieved during the same period of the previous year. According to quick estimates of index of industrial production, the industrial growth for December 2000 also dropped, coming in at only 3.4% compared to the 8.1% growth achieved during December 1999.\\nHowever, mining and related industries remain strong, with the mining sector showing 4.1% growth during April-December 2000, compared to just 0.5% in the same period in 1999.\\nSource:\\nVietnam\\u2019s Building Sector Remains StrongSpeaking at a recent conference in Hanoi, Nguyen Manh Kiem, minister of construction, said Vietnam\\u2019s building materials production grew 17.5% over the past 10 years, an increase of 5.5% over the average growth rate of the national industrial production. He added that it was noteworthy that the production value of cement, ceramic tile, sanitaryware and construction glass accounted for 84% of total construction materials production in the 1990-2000 period, compared to 75% reported in the 1991-1995 period.\\nKiem said the country now has 32,450 companies producing construction materials, including 486 owned by the state, which make up 70% of the sector\\u2019s total production and 85% of aggregate tax payments.\\nOver the past 10 years, the population of urban areas has risen from 18% in 1990 to 20% in 1995 and 23.5% last year to 18 million.\\nSource:\",\n          \"The Sacred Drift of the Earth Pilgrim\\nLondon was looking beautiful today. Bright blue sky, the leaves just turning yellow and gold, a few puffy white clouds. Lunch with friends in the sun that got so hot it felt Mediterranean, signing some books in Watkins, London\\u2019s oldest occult bookstore, and then off to see at first hand Trafalgar Square\\u2019s Fourth Plinth. I had hoped to see some fascinating display of public performance art, but instead a chap was hoisted up and he proceeded to tell us about Benjamin Creme\\u2019s announcement of the imminent arrival of the Maitreya. Something Creme has managed to talk about for the last 20 or 30 years. He\\u2019s on his way! Yes he is. Hang on a moment. Yes he\\u2019s coming. Hang on\\u2026for decades!(Working with the seemingly opposite principle to the \\u2018Power of Now!\\u2019)\\nThen off to a book launch of Satish Kumar\\u2019s new book \\u2018Earth Pilgrim\\u2019. It looks to be a very inspiring and satisfying read. Rattling home on the train to Lewes, sun setting over the Thames and the London Eye I read:\\n\\u2018Journeying to \\u2026sacred destinations is a helpful inspiration to get me out of my home and bring me into a challenging and vivid relationship with the world. I welcome this practical and down-to-earth motivation, but at the same time I have to let go of the desire to arrive, and yield to the joy of sacred drift.\\u2019\\nSatish Kumar, Earth Pilgrim\\nI love that man. Will have to get a copy of his book.\",\n          \"David De Gea reassured over Spain role\\nVicente Del Bosque says David De Gea's time will come in the Spanish national team, but has suggested the Manchester United goalkeeper will have to wait for the moment.\\nThe Spain coach has included five of Spain\\u2019s recently crowned European Under-21 Champions in his panel for this week\\u2019s friendly in Ecuador, however there was no place for Premier League champion De Gea on the list.\\nSpeaking at his pre-game press conference the World Cup 2010 and Euro 2012 winning manager said he was well aware of De Gea\\u2019s potential but had decided to retain Pepe Reina, Victor Valdes and Iker Casillas as the trio get on so well together as a group, and are also superb 'keepers individually.\\n\\u201cI have been watching the Under-21s and De Gea is a goalkeeper who will mark an era,\\u201d Del Bosque said. \\u201cAt the present I do not find a reason to change the goalkeepers. If Casillas, Valdes and Reina are here it is not because they are funny guys, but because they are good 'keepers. At the Confederations Cup, the attention was focused on the goals because of Casillas\\u2019 situation and all worked well. They get on very well together, are good team-mates and I wanted to maintain the situation.\\u201d\\nThe five youngsters who have travelled - Isco, Thiago Alcantara, Inigo Martinez, Koke and Cristian Tello - could add new options for him to consider, Del Bosque said.\\n\\u201cIf they are here it is because they have the ability to play for the senior side,\\u201d he said. \\u201cThere are good reinforcements coming from behind, who we are going to add in bit by bit. But for sure the block from Euro 2012 still have some distance left to go. We have a stable team with few players over 30. This team has a future.\\u201d\\nThe 3-0 loss to Brazil in June\\u2019s Confederations Cup final would not lead to any panic or wholesale changes in Spain\\u2019s approach, said the experienced coach.\\n\\u201cAt the Confederations Cup everything went well,\\u201d Del Bosque said. \\u201cWe were very excited to reach the final against Brazil, but we were drained physically and they beat us there \\u2013 right from when the hymn began to play.\\u201d\\nLa Roja captain Casillas said he was expecting a tough test from Ecuador, who are currently well set to qualify for next summer\\u2019s World Cup in Brazil.\\n\\\"Ecuador is a team with technical ability but also great physical power,\\u201d the Real Madrid 'keeper said. \\u201cThey close up space very well and that becomes uncomfortable. We must run more than them and be accurate.\\u201d\\nCasillas brushed away a suggestion that Spain\\u2019s players were annoyed at yet another long trip to South America at an awkward time just before the club season kicked off.\\n\\\"Neither the journeys nor the kilometres are important,\\u201d he said. \\u201cTo be anywhere with \\u2018la seleccion\\u2019 is a source of pride. We are delighted. The affection with which we are received, especially in South America, is huge. We appreciate it.\\u201d\\nOne player delighted to have made the trip is Fernando Llorente, who returns to the Spain squad having slipped out of the picture last season while he was kicking his heels on the Athletic Bilbao bench.\\n\\u201cIt is always a very big excitement to return to the national team,\\u201d said the new Juventus centre-forward. \\\"I am arriving at a very nice moment for me. Llorente is back with a lot of motivation, as if it was the first day. It will be very difficult [to make World Cup squad], but I am going to try and give a.\"\n        ],\n        \"semantic_type\": \"\",\n        \"description\": \"\"\n      }\n    },\n    {\n      \"column\": \"question\",\n      \"properties\": {\n        \"dtype\": \"string\",\n        \"num_unique_values\": 11983,\n        \"samples\": [\n          \"Who is the author of \\\"Pittsburgh Steelers: The Complete Illustrated History\\\"?\",\n          \"What are the key ingredients for the Perfect Roast Chicken with Salsa Verde recipe?\",\n          \"What is the main lesson Kishore Mahbubani highlights in his article about small states?\"\n        ],\n        \"semantic_type\": \"\",\n        \"description\": \"\"\n      }\n    },\n    {\n      \"column\": \"answer\",\n      \"properties\": {\n        \"dtype\": \"string\",\n        \"num_unique_values\": 11997,\n        \"samples\": [\n          \"The Annual Meeting of the Ceramic Society of Japan will be held at the Ohkubo campus of Waseda University in Tokyo, Japan, on March 21-23, 2001.\",\n          \"The author suggests feeding your thoughts with problem-solving and reading books that make you look at life differently, feeding your senses of sound with different types of music, feeding your eyesight with new scenery instead of social media, feeding your body with healthy food and exercise, feeding your spirit by strengthening your faith, and feeding your life by applying yourself properly in every situation.\",\n          \"The breacher bikes make the Legionary Apothecary and Engineer more mobile and able to quickly arrive wherever they are needed the most on the battlefield. Additionally, the heavily armoured breacher bikes provide protection and have the ability to smash through anything.\"\n        ],\n        \"semantic_type\": \"\",\n        \"description\": \"\"\n      }\n    }\n  ]\n}"
            }
          },
          "metadata": {},
          "execution_count": 4
        }
      ]
    },
    {
      "cell_type": "code",
      "execution_count": 5,
      "metadata": {
        "colab": {
          "base_uri": "https://localhost:8080/"
        },
        "id": "gKxVh8CZrCNO",
        "outputId": "2e93f9e4-8aa0-4709-9d26-2369227e5d29"
      },
      "outputs": [
        {
          "output_type": "execute_result",
          "data": {
            "text/plain": [
              "array(['Caption: Tasmanian berry grower Nic Hansen showing Macau chef Antimo Merone around his property as part of export engagement activities.\\nTHE RISE and rise of the Australian strawberry, raspberry and blackberry industries has seen the sectors redouble their international trade focus, with the release of a dedicated export plan to grow their global presence over the next 10 years.\\nDriven by significant grower input, the Berry Export Summary 2028 maps the sectors’ current position, where they want to be, high-opportunity markets and next steps.\\nHort Innovation trade manager Jenny Van de Meeberg said the value and volume of raspberry and blackberry exports rose by 100 per cent between 2016 and 2017. She said the Australian strawberry industry experienced similar success with an almost 30 per cent rise in export volume and a 26 per cent rise in value to $32.6M over the same period.\\n“Australian berry sectors are in a firm position at the moment,” she said. “Production, adoption of protected substrate cropping, improved genetics and an expanding geographic footprint have all helped put Aussie berries on a positive trajectory.\\n“We are seeing a real transition point. Broad industry interest and a strong commercial appetite for export market development combined with the potential to capitalise on existing trade agreements and build new trade partnerships has created this perfect environment for growth.”\\nHigh-income countries across Europe, North America and Northern Asia have been identified as having a palate for Australian grown berries with more than 4244 tonnes of fresh berries exported in the last financial year alone.\\nThe strategy identified the best short-term prospect markets for the Australian blackberry and raspberry industry as Hong Kong, Singapore, The United Arab Emirates and Canada. The strongest short-term trade options identified for the strawberry sector were Thailand, Malaysia, New Zealand and Macau.\\nThe strategy focuses heavily on growing the existing strawberry export market from 4 per cent to at least 8 per cent of national production by volume, in markets with a capacity and willingness to pay a premium for quality fruit. For raspberries and blackberries, the sectors aim to achieve a 5 per cent boost in exports assessed by volume across identified markets by 2021.\\nTasmanian raspberry exporter Nic Hansen said Australia offers some of the sweetest and most attractive berries in the world, and this combined with our stringent food safety standards across all stages of the supply chain puts growers in a solid position.\\n“We have a great product, we are hungry to expand trade and now with this new plan in place, we have a clear roadmap towards driving growth,” Mr Hansen said.\\nHe said it is exciting to see new export market prospects for raspberries: “The more options we have for export the better. Now we just have to get on with the job of ensuring industry has all the tools it needs, such as supporting data and relationship building opportunities, to thrive in new markets.”\\nThis project was commissioned by Hort Innovation, and developed by market analysts and research consultants Auspex Strategic Advisory and AgInfinity. Hort Innovation will work now with berry sectors to determine levy-funded activities to support trade.\\nSee a summary of the strategy on the Hort Innovation website.\\nFor more information on the berry industries, refer to the Horticulture Statistics Handbook and the Strategic Investment Plans for strawberries, raspberries and blackberries. Growers seeking more information should email trade@horticulture.com.au',\n",
              "       'What is the Berry Export Summary 2028 and what is its purpose?',\n",
              "       'The Berry Export Summary 2028 is a dedicated export plan for the Australian strawberry, raspberry, and blackberry industries. It maps the sectors’ current position, where they want to be, high-opportunity markets, and next steps. The purpose of this plan is to grow their global presence over the next 10 years.'],\n",
              "      dtype=object)"
            ]
          },
          "metadata": {},
          "execution_count": 5
        }
      ],
      "source": [
        "# вывод одного сэмпла\n",
        "rag_dataset.values[0]"
      ]
    },
    {
      "cell_type": "markdown",
      "source": [
        "Видны посторонние символы, такие как перевод строки \\n"
      ],
      "metadata": {
        "id": "Jk4KWddmQyxm"
      }
    },
    {
      "cell_type": "markdown",
      "metadata": {
        "id": "3DVpCnCYmgw_"
      },
      "source": [
        "Имеется 3 колонки и 12000 строк"
      ]
    },
    {
      "cell_type": "code",
      "execution_count": 6,
      "metadata": {
        "id": "GnF8bw_Jr78f"
      },
      "outputs": [],
      "source": [
        "df = rag_dataset.copy()\n",
        "\n",
        "# удаление строк с пустыми значениями (None)\n",
        "df = df.dropna()\n",
        "\n",
        "# приведем к нижнему регистру тексты во всех колонках\n",
        "df['context'] = df['context'].apply(lambda x: x.lower())\n",
        "df['question'] = df['question'].apply(lambda x: x.lower())\n",
        "df['answer'] = df['answer'].apply(lambda x: x.lower())\n",
        "\n",
        "# удаление/замена на пробел знака перевода строки в колонке 'context'\n",
        "df['context'] = df['context'].apply(lambda x: x.replace('\\n', ' '))\n",
        "# удаление найденных дубликатов по 'question'\n",
        "df.duplicated(subset=['question'], keep=False)\n",
        "df.drop_duplicates(subset = ['question'], keep = 'first', inplace = True)\n",
        "\n",
        "# удаление двух строк на другом языке\n",
        "df.drop(index=[7453, 10225], inplace=True)\n",
        "df.reset_index(drop=True, inplace=True) # обновление индексов"
      ]
    },
    {
      "cell_type": "markdown",
      "source": [
        "\n",
        "\n",
        "## QDRANT Baseline"
      ],
      "metadata": {
        "id": "nuLWFfDaAiX0"
      }
    },
    {
      "cell_type": "code",
      "source": [
        "# ! pip install -U sentence-transformers\n",
        "%pip install -U qdrant-client\n",
        "clear_output()"
      ],
      "metadata": {
        "id": "6-sEDGXyvnKn"
      },
      "execution_count": 5,
      "outputs": []
    },
    {
      "cell_type": "code",
      "source": [
        "from qdrant_client import models, QdrantClient\n",
        "from qdrant_client.models import VectorParams, Distance\n",
        "from sentence_transformers import SentenceTransformer,CrossEncoder"
      ],
      "metadata": {
        "id": "I40NKM3Kn8ck"
      },
      "execution_count": 6,
      "outputs": []
    },
    {
      "cell_type": "code",
      "source": [
        "# инициализация энкодера\n",
        "encoder = SentenceTransformer(\"all-MiniLM-L6-v2\")\n",
        "clear_output()\n",
        "# https://huggingface.co/sentence-transformers/all-MiniLM-L6-v2\n",
        "# https://www.sbert.net/docs/sentence_transformer/pretrained_models.html"
      ],
      "metadata": {
        "id": "ALstfOxRxSon"
      },
      "execution_count": null,
      "outputs": []
    },
    {
      "cell_type": "code",
      "source": [
        "qdrant = QdrantClient(\":memory:\")"
      ],
      "metadata": {
        "id": "L1kszRK-xc36"
      },
      "execution_count": 8,
      "outputs": []
    },
    {
      "cell_type": "code",
      "source": [
        "# создание коллекции\n",
        "qdrant.recreate_collection(\n",
        "    collection_name=\"rag\",\n",
        "    vectors_config=models.VectorParams(\n",
        "        size=encoder.get_sentence_embedding_dimension(),\n",
        "        distance=models.Distance.COSINE,\n",
        "    ),\n",
        ")"
      ],
      "metadata": {
        "colab": {
          "base_uri": "https://localhost:8080/"
        },
        "id": "l4Tu4PRUxg3C",
        "outputId": "37b06534-af52-425f-d824-4280e161a557"
      },
      "execution_count": 9,
      "outputs": [
        {
          "output_type": "execute_result",
          "data": {
            "text/plain": [
              "True"
            ]
          },
          "metadata": {},
          "execution_count": 9
        }
      ]
    },
    {
      "cell_type": "code",
      "source": [
        "docs = df\n",
        "docs['id'] = docs.index\n",
        "docs.shape, docs.columns"
      ],
      "metadata": {
        "id": "8ZC5XVrSxwz9",
        "colab": {
          "base_uri": "https://localhost:8080/"
        },
        "outputId": "2a699465-e6bb-445d-df90-d486388b16af"
      },
      "execution_count": 12,
      "outputs": [
        {
          "output_type": "execute_result",
          "data": {
            "text/plain": [
              "((11981, 4), Index(['context', 'question', 'answer', 'id'], dtype='object'))"
            ]
          },
          "metadata": {},
          "execution_count": 12
        }
      ]
    },
    {
      "cell_type": "code",
      "source": [
        "# https://qdrant.tech/documentation/concepts/points/\n",
        "# загрузка данных в БД\n",
        "\n",
        "%%capture --no-display\n",
        "qdrant.upload_points(\n",
        "    collection_name=\"rag\",\n",
        "    points=[\n",
        "        models.PointStruct(\n",
        "            id=row[1][\"id\"],\n",
        "            vector=encoder.encode(row[1][\"context\"]),\n",
        "            payload={ \"context\":row[1][\"context\"]}\n",
        "        )\n",
        "        for row in docs.iterrows()\n",
        "    ],\n",
        ")\n"
      ],
      "metadata": {
        "id": "KdTklMdMx5_z"
      },
      "execution_count": 13,
      "outputs": []
    },
    {
      "cell_type": "code",
      "source": [
        "qdrant.count(\n",
        "    collection_name=\"rag\",\n",
        "    exact=True,\n",
        ")"
      ],
      "metadata": {
        "colab": {
          "base_uri": "https://localhost:8080/"
        },
        "id": "ZujJ7Yy-y_ST",
        "outputId": "d5790048-a60b-42c2-9ac2-836e0bc497df"
      },
      "execution_count": 14,
      "outputs": [
        {
          "output_type": "execute_result",
          "data": {
            "text/plain": [
              "CountResult(count=11981)"
            ]
          },
          "metadata": {},
          "execution_count": 14
        }
      ]
    },
    {
      "cell_type": "code",
      "source": [
        "# поиск ответа по query_string\n",
        "%%time\n",
        "hits = qdrant.search(\n",
        "    collection_name=\"rag\",\n",
        "    query_vector=encoder.encode(query_string).tolist(),\n",
        "    limit=3,\n",
        ")"
      ],
      "metadata": {
        "id": "qOR-ZGWuzEHB",
        "colab": {
          "base_uri": "https://localhost:8080/"
        },
        "outputId": "c034f35a-3cfe-4aad-a3af-c724a104196b"
      },
      "execution_count": 41,
      "outputs": [
        {
          "output_type": "stream",
          "name": "stdout",
          "text": [
            "CPU times: user 57.4 ms, sys: 9.98 ms, total: 67.4 ms\n",
            "Wall time: 77.6 ms\n"
          ]
        }
      ]
    },
    {
      "cell_type": "code",
      "source": [
        "query_string = df.question[3000]\n",
        "\n",
        "hits = qdrant.search(\n",
        "    collection_name=\"rag\",\n",
        "    query_vector=encoder.encode(query_string).tolist(),\n",
        "    limit=1,\n",
        ")\n",
        "\n",
        "print(query_string)\n",
        "for hit in hits:\n",
        "    print(hit.payload, \"score:\")\n",
        "    print(hit.id)\n",
        "    print(hit.score)"
      ],
      "metadata": {
        "id": "_dzN4UuEzbQL",
        "colab": {
          "base_uri": "https://localhost:8080/"
        },
        "outputId": "9ee18a49-3891-4e20-bf9e-f854e60dc60b"
      },
      "execution_count": 60,
      "outputs": [
        {
          "output_type": "stream",
          "name": "stdout",
          "text": [
            "what was the purpose of the lordstown plant according to the context?\n",
            "{'context': \"by tracey o'neill special to the standard north kingstown– monday night’s regular meeting of the north kingstown town council began in joint work session with the planning commission. they tackled economic development issues, focusing on the town’s vision for the future and the revitalization of the post road corridor. at the heart of the discussion were the issues of multi-level, mixed-use development and the possible integration of big-box stores into development plans. planning director jonathan j. reiner presented an overview of the benefits to the town’s moving forward with a plan that includes assimilation of both. he noted the evolution of the times and the present harsh economic climate that north kingstown and surrounding communities are experiencing. “if we allow box stores, route 2 is the most likely area that will receive them.” mixed-use development allows for a combination of residential, business, professional and retail. coupled with an addition of two-story or multi-level buildings, the area would be more likely to become a positive force in long-term viability for the town. “the [vision] developed through the comprehensive plan is to create a sense of place,” said reiner, who predicted such a zone would produce income for the town. the addition of sewer lines along the post road corridor was heralded by members of both the council and planning commission. town manager michael embury was supportive of the multi-level, mixed-level revitalization. “one of the big issues is that we’ve never had sewers on post road. it has limited the types of development that would go in there.” town council member charles brennan, a proponent of the addition of box stores in the post road area, said “allowing the big-box stores is the way to go. if another town gets [it], we don’t. we don’t get the money and we don’t get the jobs.” meanwhile, in town manager reports, embury addressed the continuing issue with the town’s firefighters. in clarifying information for the council, embury noted that the ruling by judge brian j. stern, in may, when deciding the fate of the recently-announced 56-hour schedule, only served to strike down the ordinance itself. “the judge’s decision did not invalidate the 56-hour work week,” said embury. “it invalidated the ordinance. the union has walked away from the table and has filed for arbitration for 2012-2013.” he said the 56-hour work week is “still in effect.” embury went on to explain that despite reports that the firefighters were being paid less, they had not lost the benefit of the 10-percent increase in their base salaries. “they are not hourly employees,” he said. “it does have an adverse effect on their overtime rate.” in turn, council member charles stamm suggested that the town pursue the possibility of creating a committee to explore moving to a volunteer fire department or a mixed department. no members of the department or union were present to respond. in other business, the school committee was meeting in work session while several items needing their attention were brought before the town council. the fate of a potential lease agreement between the greene school and the school committee regarding renting space in the vacant davisville elementary school building was tabled. discussion of a $250,000 carpet installation project at quidnessett elementary school and a $1.8 million improvement project slated for wickford elementary school was also delayed. “time is of the essence for these projects heading into july,” said elizabeth dolan, council president. “if we have to meet in special session, we will.” the next town council meeting is set for july 16. links: [1]\"} score:\n",
            "2076\n",
            "0.38238379450947524\n"
          ]
        }
      ]
    },
    {
      "cell_type": "code",
      "source": [
        "# в цикле проходим по датасету и для каждого вопроса находим id ответа из БД складваем id в список top_ind_search\n",
        "\n",
        "top_ind_search = []\n",
        "for index, row in tqdm(df.iterrows()):\n",
        "    query_string = row['question']\n",
        "    hits = qdrant.search(\n",
        "    collection_name=\"rag\",\n",
        "    query_vector=encoder.encode(query_string).tolist(),\n",
        "    limit=1,\n",
        "    )\n",
        "    top_ind_search.append(hits[0].id)\n",
        "\n"
      ],
      "metadata": {
        "colab": {
          "base_uri": "https://localhost:8080/"
        },
        "id": "n4g31Bli9o_r",
        "outputId": "e52ec63d-ad25-4c5d-9240-85b1cd2b5a1d"
      },
      "execution_count": 69,
      "outputs": [
        {
          "output_type": "stream",
          "name": "stderr",
          "text": [
            "11981it [15:58, 12.50it/s]\n"
          ]
        }
      ]
    },
    {
      "cell_type": "code",
      "source": [
        "# делаем колонку top_ind_search и сравниваем оригинальный id и найденный в БД, в колонку eval ставим 1 при совпадении идентификаторов\n",
        "df['top_ind_search'] = top_ind_search\n",
        "df['eval'] = (df['top_ind_search'] == df.id).astype(int)"
      ],
      "metadata": {
        "id": "HTLhhKMGDh5x"
      },
      "execution_count": 85,
      "outputs": []
    },
    {
      "cell_type": "code",
      "source": [
        "df"
      ],
      "metadata": {
        "colab": {
          "base_uri": "https://localhost:8080/",
          "height": 424
        },
        "id": "VSaAdUuXIob1",
        "outputId": "bc140bef-51f5-470a-e063-c8d63b2a5d36"
      },
      "execution_count": 86,
      "outputs": [
        {
          "output_type": "execute_result",
          "data": {
            "text/plain": [
              "                                                 context  \\\n",
              "0      caption: tasmanian berry grower nic hansen sho...   \n",
              "1      rwsn collaborations southern africa self-suppl...   \n",
              "2      all android applications categories descriptio...   \n",
              "3      how unequal is india? the question is simple, ...   \n",
              "4      gunnar nelson took his time on the feet agains...   \n",
              "...                                                  ...   \n",
              "11976  fuzzy's ultra premium vodka the myth, the man,...   \n",
              "11977  swedish grand prix rider malin nilsson got mar...   \n",
              "11978  the cracchiolo law library of the james e. rog...   \n",
              "11979  2nd physical emag store opens in mammut online...   \n",
              "11980  about this cadillac 2019 cadillac xt5 fwd 4dr ...   \n",
              "\n",
              "                                                question  \\\n",
              "0      what is the berry export summary 2028 and what...   \n",
              "1      what are some of the benefits reported from ha...   \n",
              "2      what are the unique features of the coolands f...   \n",
              "3      what is the main difference between the nation...   \n",
              "4      how did gunnar nelson win the fight against za...   \n",
              "...                                                  ...   \n",
              "11976  what are some of the achievements of fuzzy zoe...   \n",
              "11977        who did malin nilsson marry on 2 june 2018?   \n",
              "11978  what is the fellowship in law librarianship of...   \n",
              "11979  where has the second physical emag store been ...   \n",
              "11980  what are some of the key features of the 2019 ...   \n",
              "\n",
              "                                                  answer     id  \\\n",
              "0      the berry export summary 2028 is a dedicated e...      0   \n",
              "1      benefits reported from having access to self-s...      1   \n",
              "2      the unique features of the coolands for twitte...      2   \n",
              "3      the main difference between the nss and the ih...      3   \n",
              "4      gunnar nelson won the fight against zak cummin...      4   \n",
              "...                                                  ...    ...   \n",
              "11976  fuzzy zoeller is known for his golfing success...  11976   \n",
              "11977  malin nilsson got married to her partner, germ...  11977   \n",
              "11978  the fellowship in law librarianship is a progr...  11978   \n",
              "11979  the second physical emag store has been opened...  11979   \n",
              "11980  the 2019 cadillac xt5 comes equipped with feat...  11980   \n",
              "\n",
              "       top_ind_search  eval  \n",
              "0                   0     1  \n",
              "1                   1     1  \n",
              "2                   2     1  \n",
              "3                   3     1  \n",
              "4                   4     1  \n",
              "...               ...   ...  \n",
              "11976           11976     1  \n",
              "11977           11977     1  \n",
              "11978           11978     1  \n",
              "11979           11979     1  \n",
              "11980           11980     1  \n",
              "\n",
              "[11981 rows x 6 columns]"
            ],
            "text/html": [
              "\n",
              "  <div id=\"df-b35f904d-46e1-4d52-91e2-e8a61dbad2cf\" class=\"colab-df-container\">\n",
              "    <div>\n",
              "<style scoped>\n",
              "    .dataframe tbody tr th:only-of-type {\n",
              "        vertical-align: middle;\n",
              "    }\n",
              "\n",
              "    .dataframe tbody tr th {\n",
              "        vertical-align: top;\n",
              "    }\n",
              "\n",
              "    .dataframe thead th {\n",
              "        text-align: right;\n",
              "    }\n",
              "</style>\n",
              "<table border=\"1\" class=\"dataframe\">\n",
              "  <thead>\n",
              "    <tr style=\"text-align: right;\">\n",
              "      <th></th>\n",
              "      <th>context</th>\n",
              "      <th>question</th>\n",
              "      <th>answer</th>\n",
              "      <th>id</th>\n",
              "      <th>top_ind_search</th>\n",
              "      <th>eval</th>\n",
              "    </tr>\n",
              "  </thead>\n",
              "  <tbody>\n",
              "    <tr>\n",
              "      <th>0</th>\n",
              "      <td>caption: tasmanian berry grower nic hansen sho...</td>\n",
              "      <td>what is the berry export summary 2028 and what...</td>\n",
              "      <td>the berry export summary 2028 is a dedicated e...</td>\n",
              "      <td>0</td>\n",
              "      <td>0</td>\n",
              "      <td>1</td>\n",
              "    </tr>\n",
              "    <tr>\n",
              "      <th>1</th>\n",
              "      <td>rwsn collaborations southern africa self-suppl...</td>\n",
              "      <td>what are some of the benefits reported from ha...</td>\n",
              "      <td>benefits reported from having access to self-s...</td>\n",
              "      <td>1</td>\n",
              "      <td>1</td>\n",
              "      <td>1</td>\n",
              "    </tr>\n",
              "    <tr>\n",
              "      <th>2</th>\n",
              "      <td>all android applications categories descriptio...</td>\n",
              "      <td>what are the unique features of the coolands f...</td>\n",
              "      <td>the unique features of the coolands for twitte...</td>\n",
              "      <td>2</td>\n",
              "      <td>2</td>\n",
              "      <td>1</td>\n",
              "    </tr>\n",
              "    <tr>\n",
              "      <th>3</th>\n",
              "      <td>how unequal is india? the question is simple, ...</td>\n",
              "      <td>what is the main difference between the nation...</td>\n",
              "      <td>the main difference between the nss and the ih...</td>\n",
              "      <td>3</td>\n",
              "      <td>3</td>\n",
              "      <td>1</td>\n",
              "    </tr>\n",
              "    <tr>\n",
              "      <th>4</th>\n",
              "      <td>gunnar nelson took his time on the feet agains...</td>\n",
              "      <td>how did gunnar nelson win the fight against za...</td>\n",
              "      <td>gunnar nelson won the fight against zak cummin...</td>\n",
              "      <td>4</td>\n",
              "      <td>4</td>\n",
              "      <td>1</td>\n",
              "    </tr>\n",
              "    <tr>\n",
              "      <th>...</th>\n",
              "      <td>...</td>\n",
              "      <td>...</td>\n",
              "      <td>...</td>\n",
              "      <td>...</td>\n",
              "      <td>...</td>\n",
              "      <td>...</td>\n",
              "    </tr>\n",
              "    <tr>\n",
              "      <th>11976</th>\n",
              "      <td>fuzzy's ultra premium vodka the myth, the man,...</td>\n",
              "      <td>what are some of the achievements of fuzzy zoe...</td>\n",
              "      <td>fuzzy zoeller is known for his golfing success...</td>\n",
              "      <td>11976</td>\n",
              "      <td>11976</td>\n",
              "      <td>1</td>\n",
              "    </tr>\n",
              "    <tr>\n",
              "      <th>11977</th>\n",
              "      <td>swedish grand prix rider malin nilsson got mar...</td>\n",
              "      <td>who did malin nilsson marry on 2 june 2018?</td>\n",
              "      <td>malin nilsson got married to her partner, germ...</td>\n",
              "      <td>11977</td>\n",
              "      <td>11977</td>\n",
              "      <td>1</td>\n",
              "    </tr>\n",
              "    <tr>\n",
              "      <th>11978</th>\n",
              "      <td>the cracchiolo law library of the james e. rog...</td>\n",
              "      <td>what is the fellowship in law librarianship of...</td>\n",
              "      <td>the fellowship in law librarianship is a progr...</td>\n",
              "      <td>11978</td>\n",
              "      <td>11978</td>\n",
              "      <td>1</td>\n",
              "    </tr>\n",
              "    <tr>\n",
              "      <th>11979</th>\n",
              "      <td>2nd physical emag store opens in mammut online...</td>\n",
              "      <td>where has the second physical emag store been ...</td>\n",
              "      <td>the second physical emag store has been opened...</td>\n",
              "      <td>11979</td>\n",
              "      <td>11979</td>\n",
              "      <td>1</td>\n",
              "    </tr>\n",
              "    <tr>\n",
              "      <th>11980</th>\n",
              "      <td>about this cadillac 2019 cadillac xt5 fwd 4dr ...</td>\n",
              "      <td>what are some of the key features of the 2019 ...</td>\n",
              "      <td>the 2019 cadillac xt5 comes equipped with feat...</td>\n",
              "      <td>11980</td>\n",
              "      <td>11980</td>\n",
              "      <td>1</td>\n",
              "    </tr>\n",
              "  </tbody>\n",
              "</table>\n",
              "<p>11981 rows × 6 columns</p>\n",
              "</div>\n",
              "    <div class=\"colab-df-buttons\">\n",
              "\n",
              "  <div class=\"colab-df-container\">\n",
              "    <button class=\"colab-df-convert\" onclick=\"convertToInteractive('df-b35f904d-46e1-4d52-91e2-e8a61dbad2cf')\"\n",
              "            title=\"Convert this dataframe to an interactive table.\"\n",
              "            style=\"display:none;\">\n",
              "\n",
              "  <svg xmlns=\"http://www.w3.org/2000/svg\" height=\"24px\" viewBox=\"0 -960 960 960\">\n",
              "    <path d=\"M120-120v-720h720v720H120Zm60-500h600v-160H180v160Zm220 220h160v-160H400v160Zm0 220h160v-160H400v160ZM180-400h160v-160H180v160Zm440 0h160v-160H620v160ZM180-180h160v-160H180v160Zm440 0h160v-160H620v160Z\"/>\n",
              "  </svg>\n",
              "    </button>\n",
              "\n",
              "  <style>\n",
              "    .colab-df-container {\n",
              "      display:flex;\n",
              "      gap: 12px;\n",
              "    }\n",
              "\n",
              "    .colab-df-convert {\n",
              "      background-color: #E8F0FE;\n",
              "      border: none;\n",
              "      border-radius: 50%;\n",
              "      cursor: pointer;\n",
              "      display: none;\n",
              "      fill: #1967D2;\n",
              "      height: 32px;\n",
              "      padding: 0 0 0 0;\n",
              "      width: 32px;\n",
              "    }\n",
              "\n",
              "    .colab-df-convert:hover {\n",
              "      background-color: #E2EBFA;\n",
              "      box-shadow: 0px 1px 2px rgba(60, 64, 67, 0.3), 0px 1px 3px 1px rgba(60, 64, 67, 0.15);\n",
              "      fill: #174EA6;\n",
              "    }\n",
              "\n",
              "    .colab-df-buttons div {\n",
              "      margin-bottom: 4px;\n",
              "    }\n",
              "\n",
              "    [theme=dark] .colab-df-convert {\n",
              "      background-color: #3B4455;\n",
              "      fill: #D2E3FC;\n",
              "    }\n",
              "\n",
              "    [theme=dark] .colab-df-convert:hover {\n",
              "      background-color: #434B5C;\n",
              "      box-shadow: 0px 1px 3px 1px rgba(0, 0, 0, 0.15);\n",
              "      filter: drop-shadow(0px 1px 2px rgba(0, 0, 0, 0.3));\n",
              "      fill: #FFFFFF;\n",
              "    }\n",
              "  </style>\n",
              "\n",
              "    <script>\n",
              "      const buttonEl =\n",
              "        document.querySelector('#df-b35f904d-46e1-4d52-91e2-e8a61dbad2cf button.colab-df-convert');\n",
              "      buttonEl.style.display =\n",
              "        google.colab.kernel.accessAllowed ? 'block' : 'none';\n",
              "\n",
              "      async function convertToInteractive(key) {\n",
              "        const element = document.querySelector('#df-b35f904d-46e1-4d52-91e2-e8a61dbad2cf');\n",
              "        const dataTable =\n",
              "          await google.colab.kernel.invokeFunction('convertToInteractive',\n",
              "                                                    [key], {});\n",
              "        if (!dataTable) return;\n",
              "\n",
              "        const docLinkHtml = 'Like what you see? Visit the ' +\n",
              "          '<a target=\"_blank\" href=https://colab.research.google.com/notebooks/data_table.ipynb>data table notebook</a>'\n",
              "          + ' to learn more about interactive tables.';\n",
              "        element.innerHTML = '';\n",
              "        dataTable['output_type'] = 'display_data';\n",
              "        await google.colab.output.renderOutput(dataTable, element);\n",
              "        const docLink = document.createElement('div');\n",
              "        docLink.innerHTML = docLinkHtml;\n",
              "        element.appendChild(docLink);\n",
              "      }\n",
              "    </script>\n",
              "  </div>\n",
              "\n",
              "\n",
              "<div id=\"df-19fe4caa-51f0-4f98-99ee-1f1e8fcedf60\">\n",
              "  <button class=\"colab-df-quickchart\" onclick=\"quickchart('df-19fe4caa-51f0-4f98-99ee-1f1e8fcedf60')\"\n",
              "            title=\"Suggest charts\"\n",
              "            style=\"display:none;\">\n",
              "\n",
              "<svg xmlns=\"http://www.w3.org/2000/svg\" height=\"24px\"viewBox=\"0 0 24 24\"\n",
              "     width=\"24px\">\n",
              "    <g>\n",
              "        <path d=\"M19 3H5c-1.1 0-2 .9-2 2v14c0 1.1.9 2 2 2h14c1.1 0 2-.9 2-2V5c0-1.1-.9-2-2-2zM9 17H7v-7h2v7zm4 0h-2V7h2v10zm4 0h-2v-4h2v4z\"/>\n",
              "    </g>\n",
              "</svg>\n",
              "  </button>\n",
              "\n",
              "<style>\n",
              "  .colab-df-quickchart {\n",
              "      --bg-color: #E8F0FE;\n",
              "      --fill-color: #1967D2;\n",
              "      --hover-bg-color: #E2EBFA;\n",
              "      --hover-fill-color: #174EA6;\n",
              "      --disabled-fill-color: #AAA;\n",
              "      --disabled-bg-color: #DDD;\n",
              "  }\n",
              "\n",
              "  [theme=dark] .colab-df-quickchart {\n",
              "      --bg-color: #3B4455;\n",
              "      --fill-color: #D2E3FC;\n",
              "      --hover-bg-color: #434B5C;\n",
              "      --hover-fill-color: #FFFFFF;\n",
              "      --disabled-bg-color: #3B4455;\n",
              "      --disabled-fill-color: #666;\n",
              "  }\n",
              "\n",
              "  .colab-df-quickchart {\n",
              "    background-color: var(--bg-color);\n",
              "    border: none;\n",
              "    border-radius: 50%;\n",
              "    cursor: pointer;\n",
              "    display: none;\n",
              "    fill: var(--fill-color);\n",
              "    height: 32px;\n",
              "    padding: 0;\n",
              "    width: 32px;\n",
              "  }\n",
              "\n",
              "  .colab-df-quickchart:hover {\n",
              "    background-color: var(--hover-bg-color);\n",
              "    box-shadow: 0 1px 2px rgba(60, 64, 67, 0.3), 0 1px 3px 1px rgba(60, 64, 67, 0.15);\n",
              "    fill: var(--button-hover-fill-color);\n",
              "  }\n",
              "\n",
              "  .colab-df-quickchart-complete:disabled,\n",
              "  .colab-df-quickchart-complete:disabled:hover {\n",
              "    background-color: var(--disabled-bg-color);\n",
              "    fill: var(--disabled-fill-color);\n",
              "    box-shadow: none;\n",
              "  }\n",
              "\n",
              "  .colab-df-spinner {\n",
              "    border: 2px solid var(--fill-color);\n",
              "    border-color: transparent;\n",
              "    border-bottom-color: var(--fill-color);\n",
              "    animation:\n",
              "      spin 1s steps(1) infinite;\n",
              "  }\n",
              "\n",
              "  @keyframes spin {\n",
              "    0% {\n",
              "      border-color: transparent;\n",
              "      border-bottom-color: var(--fill-color);\n",
              "      border-left-color: var(--fill-color);\n",
              "    }\n",
              "    20% {\n",
              "      border-color: transparent;\n",
              "      border-left-color: var(--fill-color);\n",
              "      border-top-color: var(--fill-color);\n",
              "    }\n",
              "    30% {\n",
              "      border-color: transparent;\n",
              "      border-left-color: var(--fill-color);\n",
              "      border-top-color: var(--fill-color);\n",
              "      border-right-color: var(--fill-color);\n",
              "    }\n",
              "    40% {\n",
              "      border-color: transparent;\n",
              "      border-right-color: var(--fill-color);\n",
              "      border-top-color: var(--fill-color);\n",
              "    }\n",
              "    60% {\n",
              "      border-color: transparent;\n",
              "      border-right-color: var(--fill-color);\n",
              "    }\n",
              "    80% {\n",
              "      border-color: transparent;\n",
              "      border-right-color: var(--fill-color);\n",
              "      border-bottom-color: var(--fill-color);\n",
              "    }\n",
              "    90% {\n",
              "      border-color: transparent;\n",
              "      border-bottom-color: var(--fill-color);\n",
              "    }\n",
              "  }\n",
              "</style>\n",
              "\n",
              "  <script>\n",
              "    async function quickchart(key) {\n",
              "      const quickchartButtonEl =\n",
              "        document.querySelector('#' + key + ' button');\n",
              "      quickchartButtonEl.disabled = true;  // To prevent multiple clicks.\n",
              "      quickchartButtonEl.classList.add('colab-df-spinner');\n",
              "      try {\n",
              "        const charts = await google.colab.kernel.invokeFunction(\n",
              "            'suggestCharts', [key], {});\n",
              "      } catch (error) {\n",
              "        console.error('Error during call to suggestCharts:', error);\n",
              "      }\n",
              "      quickchartButtonEl.classList.remove('colab-df-spinner');\n",
              "      quickchartButtonEl.classList.add('colab-df-quickchart-complete');\n",
              "    }\n",
              "    (() => {\n",
              "      let quickchartButtonEl =\n",
              "        document.querySelector('#df-19fe4caa-51f0-4f98-99ee-1f1e8fcedf60 button');\n",
              "      quickchartButtonEl.style.display =\n",
              "        google.colab.kernel.accessAllowed ? 'block' : 'none';\n",
              "    })();\n",
              "  </script>\n",
              "</div>\n",
              "    </div>\n",
              "  </div>\n"
            ],
            "application/vnd.google.colaboratory.intrinsic+json": {
              "type": "dataframe",
              "variable_name": "df",
              "summary": "{\n  \"name\": \"df\",\n  \"rows\": 11981,\n  \"fields\": [\n    {\n      \"column\": \"context\",\n      \"properties\": {\n        \"dtype\": \"string\",\n        \"num_unique_values\": 11981,\n        \"samples\": [\n          \"module information course delivery assessment learning outcomes on successful completion of this module students should be able to: critically evaluate relevant texts and consider the implications of these texts in performance;e. situate ancient and adapted texts in their cultural, political and historical contexts. demonstrate an awareness of the wider cultural and theoretical issues raised by adaptations of classical texts. produce organized, coherently structured and critically engaged written and oral work. aims the module focuses on adaptations and rewrites of \\\"the classics\\\" of antiquity with a view to asking the followng questions: what is a classic? is canonical status afforded to such work purely on the grounds of textual antiquity? why rewrite/adapt such works? what are the theatrical strategies of such reworkings? by looking at a variety of adaptations and rewrites students will develop an understanding of canon-formation and rewriting/performative rereading as a critical paradigm. brief description this module will provide a thorough introduction to plays that are representative of the key genres of ancient drama (satyr, tragedy and comedy) whilst providing a sound foundation for understanding how these ancient works have been and continue to be adapted and rewritten, for example as political protest, pacifist messages, critique of aesthetics and canonicity, a contemplation of our present age and beyond. in this respect, the module will provide a thorough overview of ancient drama, adaptation theory and a selection of modern (twentieth century and twenty first century) adaptations and rewrites. content lecture two: the trackers of oxyrynchus and sophocles' fragments: satyric drama and its regenerative potential lecture three: rewriting sophocles' antigone: brecht, fugard and gambaro - an overview lecture four: fugard, kani and ntshona's the island and \\\"life\\\" art: rewriting as political protest lecture five: pacifist antigones: gambaro's antigona furiosa, shaw's bury the dead and brecht's version of antigone after holderlin (screening of anouilh's antigone) lecture six: irish medeas; marina carr's by the bog o' the cats; (screening of meda - pasolini and lars von trier arranged) lecture seven: oedipus, freud and steven berkoff's greek; screening of lee breuer's gospel at colonos arranged lecture eight: genre and the ancients - from comedy to tragedy - tony harrison's the common chorus, aristophanes' lysistrata and euripides' the trojan women (screening of the trojan women arranged) lecture nine: why adapt and rewrite? lecture ten: tradition's progressive and subversive potential - a summation and revision pointers (maximum of 9 play texts accompanied by at least 6 screenings of play extracts)\",\n          \"jimmy savile, cyril smith, stuart hall and now max clifford. four powerful men, big figures with high public profiles. and all paedophiles who abused their positions to prey on vulnerable youngsters. savile and smith were, certainly, protected by the establishment. political clout intimidated police who protected the villains and failed their victims. savile escaped justice by dying before we knew the vile depths of his reign of terror. maggie thatcher\\u2019s favourite was considered off limits by the cops. rochdale lib dem mp cyril smith also largely cheated accounting for his offences. it wasn\\u2019t until after his death that labour mp simon danczuk was able to expose smith\\u2019s sadism. hall was sheltered by bbc fame but is now deservedly behind bars. publicist clifford will get his just deserts when sentenced on friday. sex abuse victims i\\u2019ve spoken to were doubly tormented when nobody listened to them. their complaints were dismissed, their testimony often rejected. they were ignored. the result was abusers escaped punishment to continue abusing. which brings me to the case of the tony blair minister highlighted in yesterday\\u2019s daily mirror. the allegation is this minister was involved in a london child sex ring in the 1980s. and a police inquiry was pulled in the 1990s when his name cropped up. hand on heart: i don\\u2019t know if he is guilty of a heinous crime or if his visits to a children\\u2019s home were misunderstood. but i do know there must be a thorough investigation. because the allegations are so serious they mustn\\u2019t be swept under the carpet. there must not be another cover-up. we owe the truth to victims of abuse. if i was the minister under suspicion and innocent, i\\u2019d be shouting loudest for an investigation to clear my name. over recent years so many people have come forward claiming they were abused by politicians there\\u2019s an argument for a wider inquiry. crusading mp tom watson spoke from a position of knowledge when he demanded an inquiry into a \\u201cpowerful paedophile ring\\u201d linked to the thatcher regime. the names of those linked to the elm guest house in south west london, a hive of abuse with cyril smith among the visitors, will shock you if they ever become public. victims who were insulted by cover-ups in the past deserve the truth in the future. we can\\u2019t right past wrongs but we owe it to those who endured unimaginable torment to learn from past mistakes.\",\n          \"this superior detached residence is situated in a quiet yet much sought after location within close proximity to the town centre and all local amenities. this property has been well maintained and is further enhanced by its spacious interior and extensive grounds making this an excellent family home. porch: 4\\u20191\\u2019\\u2019x7\\u20199\\u2019\\u2019, carpet flooring entrance hall: 7\\u20193\\u2019\\u2019 x 10\\u201910\\u201d carpet flooring, beams in ceiling, downlights, cloakroom, wc w.c: 4\\u201910\\u201d x 3\\u20193\\u201d tiled flooring, white suite, partially tiled walls living room: 11\\u201910\\u201d x 17\\u20193\\u201d carpet flooring, brick fireplace, bay window, tv point, beamed ceiling, down lights, telephone point. kitchen/dinette: 16\\u20199\\u201d x 10\\u20196\\u2019\\u2019 dark oak high and low level units, free standing cooker, freestanding dishwasher, free standing fridge freezer, extractor fan, tv point, tile flooring, partially tiled walls, beams in ceiling. dining room: 11\\u20198\\u2019\\u2019 x 12\\u201910\\u2019\\u2019 carpet flooring, patio doors, serving hatch from kitchen utility room: 12\\u2019x7\\u20194\\u2019\\u2019 tile flooring, plumbed for washing machine, s.s sink. landing: 17\\u201910\\u2019\\u2019x6\\u20191\\u2019\\u2019 carpet flooring, spot lights, hot press. bathroom: 7\\u20191\\u201d x 6\\u20191\\u201d cream suite, bath with mains shower above, tile flooring, partially tiled walls. master bedroom: 11\\u201911\\u201d x 17\\u201910\\u201d carpet flooring, tv point, 6 door robe built in, bay window. en- suite: 12\\u20199\\u2019\\u2019 x 10\\u20195\\u2019\\u2019 white suite, bath, large mains shower, tile flooring, fully tiled walls, double sink with storage unit. bedroom 2: 9\\u20194\\u201d x 9\\u20196\\u201d carpet flooring, walk-in wardrobe (11\\u2019x6\\u20191\\u2019\\u2019 vanity unit, fully railed, carpet flooring) bedroom 3: 10\\u20195\\u201d x 11\\u20193\\u201d carpet flooring. bedroom 4: 11\\u20193\\u2019\\u2019 x 13\\u20197\\u2019\\u2019 carpet flooring, built in wardrobes and drawer sets. pool: 9\\u201910\\u2019\\u2019 x 20\\u20195\\u2019\\u2019 heated pool sauna/ changing: 15\\u20195\\u2019\\u2019 x 8\\u20194\\u2019\\u2019 down lights, wooden ceiling, non slip flooring, shower office: 7\\u201910\\u2019\\u2019 x 7\\u20199\\u2019\\u2019 carpet flooring, telephone point games room: 11\\u20199\\u2019\\u2019x 13\\u20193\\u2019\\u2019 carpet flooring, pvc ceiling, full electrics, cladded walls, pool table garage 1: 11\\u2019 x 17\\u20198\\u2019\\u2019 up & over door, full electrics garage 2: 13\\u2019 x 12\\u20199\\u2019\\u2019 up & over door, full electrics other: pvc windows, wooden external doors, timber internal doors, beam hoover system. outside: spacious lawns with mature shrubs, large paved patio, full size tennis court, 9 hole mini golf course, tarmac driveway. epc ref: 9982-0527-6060-0739-4902\"\n        ],\n        \"semantic_type\": \"\",\n        \"description\": \"\"\n      }\n    },\n    {\n      \"column\": \"question\",\n      \"properties\": {\n        \"dtype\": \"string\",\n        \"num_unique_values\": 11981,\n        \"samples\": [\n          \"what are the learning outcomes of this module?\",\n          \"who were the four powerful men with high public profiles mentioned as paedophiles who abused their positions?\",\n          \"what are some of the features of the master bedroom in the described residence?\"\n        ],\n        \"semantic_type\": \"\",\n        \"description\": \"\"\n      }\n    },\n    {\n      \"column\": \"answer\",\n      \"properties\": {\n        \"dtype\": \"string\",\n        \"num_unique_values\": 11981,\n        \"samples\": [\n          \"on successful completion of this module students should be able to critically evaluate relevant texts and consider the implications of these texts in performance, situate ancient and adapted texts in their cultural, political and historical contexts, demonstrate an awareness of the wider cultural and theoretical issues raised by adaptations of classical texts, and produce organized, coherently structured and critically engaged written and oral work.\",\n          \"the four powerful men mentioned as paedophiles who abused their positions were jimmy savile, cyril smith, stuart hall and max clifford.\",\n          \"the master bedroom in the described residence features carpet flooring, a tv point, a 6 door robe built in, and a bay window. it also has an en-suite with a white suite, bath, large mains shower, tile flooring, fully tiled walls, and a double sink with a storage unit.\"\n        ],\n        \"semantic_type\": \"\",\n        \"description\": \"\"\n      }\n    },\n    {\n      \"column\": \"id\",\n      \"properties\": {\n        \"dtype\": \"number\",\n        \"std\": 3458,\n        \"min\": 0,\n        \"max\": 11980,\n        \"num_unique_values\": 11981,\n        \"samples\": [\n          9161,\n          1766,\n          8796\n        ],\n        \"semantic_type\": \"\",\n        \"description\": \"\"\n      }\n    },\n    {\n      \"column\": \"top_ind_search\",\n      \"properties\": {\n        \"dtype\": \"number\",\n        \"std\": 3444,\n        \"min\": 0,\n        \"max\": 11980,\n        \"num_unique_values\": 9530,\n        \"samples\": [\n          1115,\n          9563,\n          7155\n        ],\n        \"semantic_type\": \"\",\n        \"description\": \"\"\n      }\n    },\n    {\n      \"column\": \"eval\",\n      \"properties\": {\n        \"dtype\": \"number\",\n        \"std\": 0,\n        \"min\": 0,\n        \"max\": 1,\n        \"num_unique_values\": 2,\n        \"samples\": [\n          0,\n          1\n        ],\n        \"semantic_type\": \"\",\n        \"description\": \"\"\n      }\n    }\n  ]\n}"
            }
          },
          "metadata": {},
          "execution_count": 86
        }
      ]
    },
    {
      "cell_type": "code",
      "source": [
        "# количество правильных/неправильных идентификаторов\n",
        "df['eval'].value_counts(normalize = True)"
      ],
      "metadata": {
        "colab": {
          "base_uri": "https://localhost:8080/",
          "height": 178
        },
        "id": "X9cl-RmdDTxi",
        "outputId": "7cc63528-c003-4bc8-d939-aae953c9b0d0"
      },
      "execution_count": 87,
      "outputs": [
        {
          "output_type": "execute_result",
          "data": {
            "text/plain": [
              "eval\n",
              "1    0.754445\n",
              "0    0.245555\n",
              "Name: proportion, dtype: float64"
            ],
            "text/html": [
              "<div>\n",
              "<style scoped>\n",
              "    .dataframe tbody tr th:only-of-type {\n",
              "        vertical-align: middle;\n",
              "    }\n",
              "\n",
              "    .dataframe tbody tr th {\n",
              "        vertical-align: top;\n",
              "    }\n",
              "\n",
              "    .dataframe thead th {\n",
              "        text-align: right;\n",
              "    }\n",
              "</style>\n",
              "<table border=\"1\" class=\"dataframe\">\n",
              "  <thead>\n",
              "    <tr style=\"text-align: right;\">\n",
              "      <th></th>\n",
              "      <th>proportion</th>\n",
              "    </tr>\n",
              "    <tr>\n",
              "      <th>eval</th>\n",
              "      <th></th>\n",
              "    </tr>\n",
              "  </thead>\n",
              "  <tbody>\n",
              "    <tr>\n",
              "      <th>1</th>\n",
              "      <td>0.754445</td>\n",
              "    </tr>\n",
              "    <tr>\n",
              "      <th>0</th>\n",
              "      <td>0.245555</td>\n",
              "    </tr>\n",
              "  </tbody>\n",
              "</table>\n",
              "</div><br><label><b>dtype:</b> float64</label>"
            ]
          },
          "metadata": {},
          "execution_count": 87
        }
      ]
    },
    {
      "cell_type": "code",
      "source": [
        "# расчет через precision\n",
        "from sklearn.metrics import precision_score\n",
        "\n",
        "precision = precision_score(df.id, df.top_ind_search, average='micro')\n",
        "print(precision)"
      ],
      "metadata": {
        "colab": {
          "base_uri": "https://localhost:8080/"
        },
        "id": "N5jJGwwqH62s",
        "outputId": "de6b46f8-6d8e-49dc-fa60-7fbc149d86dd"
      },
      "execution_count": 90,
      "outputs": [
        {
          "output_type": "stream",
          "name": "stdout",
          "text": [
            "0.7544445371838745\n"
          ]
        }
      ]
    },
    {
      "cell_type": "markdown",
      "source": [
        "Качество (encoder - SentenceTransformer(\"all-MiniLM-L6-v2\")) 75%"
      ],
      "metadata": {
        "id": "roA9EUg0DsTK"
      }
    }
  ],
  "metadata": {
    "colab": {
      "provenance": [],
      "toc_visible": true
    },
    "kernelspec": {
      "display_name": "Python 3",
      "name": "python3"
    },
    "language_info": {
      "name": "python"
    }
  },
  "nbformat": 4,
  "nbformat_minor": 0
}