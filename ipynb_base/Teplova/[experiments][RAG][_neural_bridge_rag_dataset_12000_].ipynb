{
 "cells": [
  {
   "cell_type": "markdown",
   "metadata": {
    "id": "Je30l8GNk4t6"
   },
   "source": [
    "# Построение вопросно-ответной системы с использованием RAG"
   ]
  },
  {
   "cell_type": "markdown",
   "metadata": {
    "id": "4N4GKxUA5k_S"
   },
   "source": [
    "План проведения экспериментов:\n",
    "\n",
    "1. Использовать готовую модель Word2Vec, преобразовать колонку с контекстами в вектора, провести брутфорсом поиск для каждого вопроса в БД (использовать косинусную близость и эвклидово расстояние), посчитать качество.\n",
    "\n",
    "\n",
    "2. Обучить свою модель Word2Vec, преобразовать колонку с контекстами в вектора, провести брутфорсом поиск для каждого вопроса в БД (использовать косинусную близость и эвклидово расстояние), посчитать качество.\n",
    "\n",
    "3. Обогатить датасет, увеличить до 100 000 строк и замерить время извлечения ответа на маленьком (12 000) и большом (100 000) датасете.\n",
    "\n",
    "4. Поместить полученные с помощью word2vec векторы (маленький датасет 12000) в БД Qdrant.\n",
    "\n",
    "5. Замерить качество.\n",
    "\n",
    "6. Замерить время извлечения ответа и сравнить с пунктом 3.\n",
    "\n",
    "7. Увеличить кол-во векторов в БД, замерить время."
   ]
  },
  {
   "cell_type": "markdown",
   "metadata": {
    "id": "oVRjOFLTlAoX"
   },
   "source": [
    "### импорты"
   ]
  },
  {
   "cell_type": "code",
   "execution_count": null,
   "metadata": {
    "colab": {
     "base_uri": "https://localhost:8080/"
    },
    "id": "Dy_4QnyIjAMz",
    "outputId": "a6a7f665-f73d-47dc-96a3-2b727cce6e58"
   },
   "outputs": [],
   "source": [
    "from IPython.display import clear_output\n",
    "import numpy as np\n",
    "import pandas as pd\n",
    "from tqdm import tqdm\n",
    "import seaborn as sns\n",
    "import matplotlib.pyplot as plt\n",
    "\n",
    "import re\n",
    "import random\n",
    "import time\n",
    "\n",
    "from sklearn.metrics.pairwise import cosine_similarity\n",
    "from sklearn.metrics.pairwise import euclidean_distances\n",
    "from sklearn.metrics import precision_score\n",
    "\n",
    "\n",
    "import nltk\n",
    "from nltk.tokenize import sent_tokenize\n",
    "from nltk.tokenize import word_tokenize\n",
    "from nltk.tokenize import WordPunctTokenizer\n",
    "from nltk.stem import WordNetLemmatizer\n",
    "\n",
    "tokenizer = WordPunctTokenizer()\n",
    "\n",
    "import gensim\n",
    "from gensim.models import Word2Vec\n",
    "import warnings\n",
    "warnings.filterwarnings(\"ignore\")"
   ]
  },
  {
   "cell_type": "code",
   "execution_count": 3,
   "metadata": {
    "id": "6SWwcshFaRgx"
   },
   "outputs": [],
   "source": [
    "# фиксируем seed\n",
    "random.seed(42)\n",
    "np.random.seed(42)"
   ]
  },
  {
   "cell_type": "markdown",
   "metadata": {
    "id": "yoBsAp-vlJIm"
   },
   "source": [
    "### загрузка датасета"
   ]
  },
  {
   "cell_type": "code",
   "execution_count": 246,
   "metadata": {
    "colab": {
     "base_uri": "https://localhost:8080/"
    },
    "id": "dIg4KwrI0N0u",
    "outputId": "f4987cbb-e260-4c77-e5be-49300566a79f"
   },
   "outputs": [],
   "source": [
    "# загрузка csv файла из google drive\n",
    "# !wget --no-check-certificate 'https://docs.google.com/uc?export=download&id=1dgnwG1AZhspMJaDR6jz828qZkSnZg25t' -O full_dataset.csv"
   ]
  },
  {
   "cell_type": "code",
   "execution_count": 247,
   "metadata": {
    "colab": {
     "base_uri": "https://localhost:8080/",
     "height": 0
    },
    "id": "nWpz5QnU5SHJ",
    "outputId": "5299fc8d-3ffa-4c18-fb56-7b45954c3d14"
   },
   "outputs": [
    {
     "data": {
      "text/html": [
       "<div>\n",
       "<style scoped>\n",
       "    .dataframe tbody tr th:only-of-type {\n",
       "        vertical-align: middle;\n",
       "    }\n",
       "\n",
       "    .dataframe tbody tr th {\n",
       "        vertical-align: top;\n",
       "    }\n",
       "\n",
       "    .dataframe thead th {\n",
       "        text-align: right;\n",
       "    }\n",
       "</style>\n",
       "<table border=\"1\" class=\"dataframe\">\n",
       "  <thead>\n",
       "    <tr style=\"text-align: right;\">\n",
       "      <th></th>\n",
       "      <th>context</th>\n",
       "      <th>question</th>\n",
       "      <th>answer</th>\n",
       "    </tr>\n",
       "  </thead>\n",
       "  <tbody>\n",
       "    <tr>\n",
       "      <th>0</th>\n",
       "      <td>Caption: Tasmanian berry grower Nic Hansen sho...</td>\n",
       "      <td>What is the Berry Export Summary 2028 and what...</td>\n",
       "      <td>The Berry Export Summary 2028 is a dedicated e...</td>\n",
       "    </tr>\n",
       "    <tr>\n",
       "      <th>1</th>\n",
       "      <td>RWSN Collaborations\\nSouthern Africa Self-supp...</td>\n",
       "      <td>What are some of the benefits reported from ha...</td>\n",
       "      <td>Benefits reported from having access to Self-s...</td>\n",
       "    </tr>\n",
       "    <tr>\n",
       "      <th>2</th>\n",
       "      <td>All Android applications categories\\nDescripti...</td>\n",
       "      <td>What are the unique features of the Coolands f...</td>\n",
       "      <td>The unique features of the Coolands for Twitte...</td>\n",
       "    </tr>\n",
       "    <tr>\n",
       "      <th>3</th>\n",
       "      <td>How unequal is India? The question is simple, ...</td>\n",
       "      <td>What is the main difference between the Nation...</td>\n",
       "      <td>The main difference between the NSS and the IH...</td>\n",
       "    </tr>\n",
       "    <tr>\n",
       "      <th>4</th>\n",
       "      <td>Gunnar Nelson took his time on the feet agains...</td>\n",
       "      <td>How did Gunnar Nelson win the fight against Za...</td>\n",
       "      <td>Gunnar Nelson won the fight against Zak Cummin...</td>\n",
       "    </tr>\n",
       "    <tr>\n",
       "      <th>...</th>\n",
       "      <td>...</td>\n",
       "      <td>...</td>\n",
       "      <td>...</td>\n",
       "    </tr>\n",
       "    <tr>\n",
       "      <th>11995</th>\n",
       "      <td>Fuzzy's Ultra Premium Vodka\\nThe Myth, The Man...</td>\n",
       "      <td>What are some of the achievements of Fuzzy Zoe...</td>\n",
       "      <td>Fuzzy Zoeller is known for his golfing success...</td>\n",
       "    </tr>\n",
       "    <tr>\n",
       "      <th>11996</th>\n",
       "      <td>Swedish Grand Prix rider Malin Nilsson got mar...</td>\n",
       "      <td>Who did Malin Nilsson marry on 2 June 2018?</td>\n",
       "      <td>Malin Nilsson got married to her partner, Germ...</td>\n",
       "    </tr>\n",
       "    <tr>\n",
       "      <th>11997</th>\n",
       "      <td>The Cracchiolo Law Library of the James E. Rog...</td>\n",
       "      <td>What is the Fellowship in Law Librarianship of...</td>\n",
       "      <td>The Fellowship in Law Librarianship is a progr...</td>\n",
       "    </tr>\n",
       "    <tr>\n",
       "      <th>11998</th>\n",
       "      <td>2nd physical eMAG store opens in Mammut\\nOnlin...</td>\n",
       "      <td>Where has the second physical eMAG store been ...</td>\n",
       "      <td>The second physical eMAG store has been opened...</td>\n",
       "    </tr>\n",
       "    <tr>\n",
       "      <th>11999</th>\n",
       "      <td>About This Cadillac\\n2019 Cadillac XT5\\nFWD 4d...</td>\n",
       "      <td>What are some of the key features of the 2019 ...</td>\n",
       "      <td>The 2019 Cadillac XT5 comes equipped with feat...</td>\n",
       "    </tr>\n",
       "  </tbody>\n",
       "</table>\n",
       "<p>12000 rows × 3 columns</p>\n",
       "</div>"
      ],
      "text/plain": [
       "                                                 context  \\\n",
       "0      Caption: Tasmanian berry grower Nic Hansen sho...   \n",
       "1      RWSN Collaborations\\nSouthern Africa Self-supp...   \n",
       "2      All Android applications categories\\nDescripti...   \n",
       "3      How unequal is India? The question is simple, ...   \n",
       "4      Gunnar Nelson took his time on the feet agains...   \n",
       "...                                                  ...   \n",
       "11995  Fuzzy's Ultra Premium Vodka\\nThe Myth, The Man...   \n",
       "11996  Swedish Grand Prix rider Malin Nilsson got mar...   \n",
       "11997  The Cracchiolo Law Library of the James E. Rog...   \n",
       "11998  2nd physical eMAG store opens in Mammut\\nOnlin...   \n",
       "11999  About This Cadillac\\n2019 Cadillac XT5\\nFWD 4d...   \n",
       "\n",
       "                                                question  \\\n",
       "0      What is the Berry Export Summary 2028 and what...   \n",
       "1      What are some of the benefits reported from ha...   \n",
       "2      What are the unique features of the Coolands f...   \n",
       "3      What is the main difference between the Nation...   \n",
       "4      How did Gunnar Nelson win the fight against Za...   \n",
       "...                                                  ...   \n",
       "11995  What are some of the achievements of Fuzzy Zoe...   \n",
       "11996        Who did Malin Nilsson marry on 2 June 2018?   \n",
       "11997  What is the Fellowship in Law Librarianship of...   \n",
       "11998  Where has the second physical eMAG store been ...   \n",
       "11999  What are some of the key features of the 2019 ...   \n",
       "\n",
       "                                                  answer  \n",
       "0      The Berry Export Summary 2028 is a dedicated e...  \n",
       "1      Benefits reported from having access to Self-s...  \n",
       "2      The unique features of the Coolands for Twitte...  \n",
       "3      The main difference between the NSS and the IH...  \n",
       "4      Gunnar Nelson won the fight against Zak Cummin...  \n",
       "...                                                  ...  \n",
       "11995  Fuzzy Zoeller is known for his golfing success...  \n",
       "11996  Malin Nilsson got married to her partner, Germ...  \n",
       "11997  The Fellowship in Law Librarianship is a progr...  \n",
       "11998  The second physical eMAG store has been opened...  \n",
       "11999  The 2019 Cadillac XT5 comes equipped with feat...  \n",
       "\n",
       "[12000 rows x 3 columns]"
      ]
     },
     "execution_count": 247,
     "metadata": {},
     "output_type": "execute_result"
    }
   ],
   "source": [
    "rag_dataset = pd.read_csv('full_dataset.csv')\n",
    "rag_dataset"
   ]
  },
  {
   "cell_type": "code",
   "execution_count": 248,
   "metadata": {
    "colab": {
     "base_uri": "https://localhost:8080/"
    },
    "id": "gKxVh8CZrCNO",
    "outputId": "f129333e-54e6-47e6-eb39-5dfa6a4e1b73"
   },
   "outputs": [
    {
     "data": {
      "text/plain": [
       "array(['Caption: Tasmanian berry grower Nic Hansen showing Macau chef Antimo Merone around his property as part of export engagement activities.\\nTHE RISE and rise of the Australian strawberry, raspberry and blackberry industries has seen the sectors redouble their international trade focus, with the release of a dedicated export plan to grow their global presence over the next 10 years.\\nDriven by significant grower input, the Berry Export Summary 2028 maps the sectors’ current position, where they want to be, high-opportunity markets and next steps.\\nHort Innovation trade manager Jenny Van de Meeberg said the value and volume of raspberry and blackberry exports rose by 100 per cent between 2016 and 2017. She said the Australian strawberry industry experienced similar success with an almost 30 per cent rise in export volume and a 26 per cent rise in value to $32.6M over the same period.\\n“Australian berry sectors are in a firm position at the moment,” she said. “Production, adoption of protected substrate cropping, improved genetics and an expanding geographic footprint have all helped put Aussie berries on a positive trajectory.\\n“We are seeing a real transition point. Broad industry interest and a strong commercial appetite for export market development combined with the potential to capitalise on existing trade agreements and build new trade partnerships has created this perfect environment for growth.”\\nHigh-income countries across Europe, North America and Northern Asia have been identified as having a palate for Australian grown berries with more than 4244 tonnes of fresh berries exported in the last financial year alone.\\nThe strategy identified the best short-term prospect markets for the Australian blackberry and raspberry industry as Hong Kong, Singapore, The United Arab Emirates and Canada. The strongest short-term trade options identified for the strawberry sector were Thailand, Malaysia, New Zealand and Macau.\\nThe strategy focuses heavily on growing the existing strawberry export market from 4 per cent to at least 8 per cent of national production by volume, in markets with a capacity and willingness to pay a premium for quality fruit. For raspberries and blackberries, the sectors aim to achieve a 5 per cent boost in exports assessed by volume across identified markets by 2021.\\nTasmanian raspberry exporter Nic Hansen said Australia offers some of the sweetest and most attractive berries in the world, and this combined with our stringent food safety standards across all stages of the supply chain puts growers in a solid position.\\n“We have a great product, we are hungry to expand trade and now with this new plan in place, we have a clear roadmap towards driving growth,” Mr Hansen said.\\nHe said it is exciting to see new export market prospects for raspberries: “The more options we have for export the better. Now we just have to get on with the job of ensuring industry has all the tools it needs, such as supporting data and relationship building opportunities, to thrive in new markets.”\\nThis project was commissioned by Hort Innovation, and developed by market analysts and research consultants Auspex Strategic Advisory and AgInfinity. Hort Innovation will work now with berry sectors to determine levy-funded activities to support trade.\\nSee a summary of the strategy on the Hort Innovation website.\\nFor more information on the berry industries, refer to the Horticulture Statistics Handbook and the Strategic Investment Plans for strawberries, raspberries and blackberries. Growers seeking more information should email trade@horticulture.com.au',\n",
       "       'What is the Berry Export Summary 2028 and what is its purpose?',\n",
       "       'The Berry Export Summary 2028 is a dedicated export plan for the Australian strawberry, raspberry, and blackberry industries. It maps the sectors’ current position, where they want to be, high-opportunity markets, and next steps. The purpose of this plan is to grow their global presence over the next 10 years.'],\n",
       "      dtype=object)"
      ]
     },
     "execution_count": 248,
     "metadata": {},
     "output_type": "execute_result"
    }
   ],
   "source": [
    "# вывод одного сэмпла\n",
    "rag_dataset.values[0]"
   ]
  },
  {
   "cell_type": "markdown",
   "metadata": {
    "id": "Jk4KWddmQyxm"
   },
   "source": [
    "Видны посторонние символы, такие как перевод строки \\n"
   ]
  },
  {
   "cell_type": "markdown",
   "metadata": {
    "id": "3DVpCnCYmgw_"
   },
   "source": [
    "Имеется 3 колонки и 12000 строк"
   ]
  },
  {
   "cell_type": "code",
   "execution_count": 249,
   "metadata": {
    "colab": {
     "base_uri": "https://localhost:8080/"
    },
    "id": "_mJ5DVhKlps4",
    "outputId": "42aa2a26-5582-4620-a172-9e3f95f8fef7"
   },
   "outputs": [
    {
     "name": "stdout",
     "output_type": "stream",
     "text": [
      "<class 'pandas.core.frame.DataFrame'>\n",
      "RangeIndex: 12000 entries, 0 to 11999\n",
      "Data columns (total 3 columns):\n",
      " #   Column    Non-Null Count  Dtype \n",
      "---  ------    --------------  ----- \n",
      " 0   context   12000 non-null  object\n",
      " 1   question  11997 non-null  object\n",
      " 2   answer    11997 non-null  object\n",
      "dtypes: object(3)\n",
      "memory usage: 281.4+ KB\n"
     ]
    }
   ],
   "source": [
    "rag_dataset.info()"
   ]
  },
  {
   "cell_type": "code",
   "execution_count": 250,
   "metadata": {
    "colab": {
     "base_uri": "https://localhost:8080/"
    },
    "id": "GnF8bw_Jr78f",
    "outputId": "a84dba76-f942-46fa-c6a9-56a0a22c7e2f"
   },
   "outputs": [
    {
     "data": {
      "text/plain": [
       "Index(['context', 'question', 'answer'], dtype='object')"
      ]
     },
     "execution_count": 250,
     "metadata": {},
     "output_type": "execute_result"
    }
   ],
   "source": [
    "df = rag_dataset.copy()\n",
    "\n",
    "df.columns"
   ]
  },
  {
   "cell_type": "code",
   "execution_count": 251,
   "metadata": {
    "id": "xYEJxz6k1633"
   },
   "outputs": [],
   "source": [
    "# удаление строк с пустыми значениями (None)\n",
    "df = df.dropna()"
   ]
  },
  {
   "cell_type": "code",
   "execution_count": 252,
   "metadata": {
    "colab": {
     "base_uri": "https://localhost:8080/",
     "height": 0
    },
    "id": "v6yNwU8v2KVp",
    "outputId": "1007ffe4-56ab-48e7-9378-cfab7207c32a"
   },
   "outputs": [
    {
     "data": {
      "text/html": [
       "<div>\n",
       "<style scoped>\n",
       "    .dataframe tbody tr th:only-of-type {\n",
       "        vertical-align: middle;\n",
       "    }\n",
       "\n",
       "    .dataframe tbody tr th {\n",
       "        vertical-align: top;\n",
       "    }\n",
       "\n",
       "    .dataframe thead th {\n",
       "        text-align: right;\n",
       "    }\n",
       "</style>\n",
       "<table border=\"1\" class=\"dataframe\">\n",
       "  <thead>\n",
       "    <tr style=\"text-align: right;\">\n",
       "      <th></th>\n",
       "      <th>context</th>\n",
       "      <th>question</th>\n",
       "      <th>answer</th>\n",
       "    </tr>\n",
       "  </thead>\n",
       "  <tbody>\n",
       "    <tr>\n",
       "      <th>0</th>\n",
       "      <td>caption: tasmanian berry grower nic hansen sho...</td>\n",
       "      <td>what is the berry export summary 2028 and what...</td>\n",
       "      <td>the berry export summary 2028 is a dedicated e...</td>\n",
       "    </tr>\n",
       "    <tr>\n",
       "      <th>1</th>\n",
       "      <td>rwsn collaborations\\nsouthern africa self-supp...</td>\n",
       "      <td>what are some of the benefits reported from ha...</td>\n",
       "      <td>benefits reported from having access to self-s...</td>\n",
       "    </tr>\n",
       "    <tr>\n",
       "      <th>2</th>\n",
       "      <td>all android applications categories\\ndescripti...</td>\n",
       "      <td>what are the unique features of the coolands f...</td>\n",
       "      <td>the unique features of the coolands for twitte...</td>\n",
       "    </tr>\n",
       "    <tr>\n",
       "      <th>3</th>\n",
       "      <td>how unequal is india? the question is simple, ...</td>\n",
       "      <td>what is the main difference between the nation...</td>\n",
       "      <td>the main difference between the nss and the ih...</td>\n",
       "    </tr>\n",
       "    <tr>\n",
       "      <th>4</th>\n",
       "      <td>gunnar nelson took his time on the feet agains...</td>\n",
       "      <td>how did gunnar nelson win the fight against za...</td>\n",
       "      <td>gunnar nelson won the fight against zak cummin...</td>\n",
       "    </tr>\n",
       "    <tr>\n",
       "      <th>...</th>\n",
       "      <td>...</td>\n",
       "      <td>...</td>\n",
       "      <td>...</td>\n",
       "    </tr>\n",
       "    <tr>\n",
       "      <th>11995</th>\n",
       "      <td>fuzzy's ultra premium vodka\\nthe myth, the man...</td>\n",
       "      <td>what are some of the achievements of fuzzy zoe...</td>\n",
       "      <td>fuzzy zoeller is known for his golfing success...</td>\n",
       "    </tr>\n",
       "    <tr>\n",
       "      <th>11996</th>\n",
       "      <td>swedish grand prix rider malin nilsson got mar...</td>\n",
       "      <td>who did malin nilsson marry on 2 june 2018?</td>\n",
       "      <td>malin nilsson got married to her partner, germ...</td>\n",
       "    </tr>\n",
       "    <tr>\n",
       "      <th>11997</th>\n",
       "      <td>the cracchiolo law library of the james e. rog...</td>\n",
       "      <td>what is the fellowship in law librarianship of...</td>\n",
       "      <td>the fellowship in law librarianship is a progr...</td>\n",
       "    </tr>\n",
       "    <tr>\n",
       "      <th>11998</th>\n",
       "      <td>2nd physical emag store opens in mammut\\nonlin...</td>\n",
       "      <td>where has the second physical emag store been ...</td>\n",
       "      <td>the second physical emag store has been opened...</td>\n",
       "    </tr>\n",
       "    <tr>\n",
       "      <th>11999</th>\n",
       "      <td>about this cadillac\\n2019 cadillac xt5\\nfwd 4d...</td>\n",
       "      <td>what are some of the key features of the 2019 ...</td>\n",
       "      <td>the 2019 cadillac xt5 comes equipped with feat...</td>\n",
       "    </tr>\n",
       "  </tbody>\n",
       "</table>\n",
       "<p>11997 rows × 3 columns</p>\n",
       "</div>"
      ],
      "text/plain": [
       "                                                 context  \\\n",
       "0      caption: tasmanian berry grower nic hansen sho...   \n",
       "1      rwsn collaborations\\nsouthern africa self-supp...   \n",
       "2      all android applications categories\\ndescripti...   \n",
       "3      how unequal is india? the question is simple, ...   \n",
       "4      gunnar nelson took his time on the feet agains...   \n",
       "...                                                  ...   \n",
       "11995  fuzzy's ultra premium vodka\\nthe myth, the man...   \n",
       "11996  swedish grand prix rider malin nilsson got mar...   \n",
       "11997  the cracchiolo law library of the james e. rog...   \n",
       "11998  2nd physical emag store opens in mammut\\nonlin...   \n",
       "11999  about this cadillac\\n2019 cadillac xt5\\nfwd 4d...   \n",
       "\n",
       "                                                question  \\\n",
       "0      what is the berry export summary 2028 and what...   \n",
       "1      what are some of the benefits reported from ha...   \n",
       "2      what are the unique features of the coolands f...   \n",
       "3      what is the main difference between the nation...   \n",
       "4      how did gunnar nelson win the fight against za...   \n",
       "...                                                  ...   \n",
       "11995  what are some of the achievements of fuzzy zoe...   \n",
       "11996        who did malin nilsson marry on 2 june 2018?   \n",
       "11997  what is the fellowship in law librarianship of...   \n",
       "11998  where has the second physical emag store been ...   \n",
       "11999  what are some of the key features of the 2019 ...   \n",
       "\n",
       "                                                  answer  \n",
       "0      the berry export summary 2028 is a dedicated e...  \n",
       "1      benefits reported from having access to self-s...  \n",
       "2      the unique features of the coolands for twitte...  \n",
       "3      the main difference between the nss and the ih...  \n",
       "4      gunnar nelson won the fight against zak cummin...  \n",
       "...                                                  ...  \n",
       "11995  fuzzy zoeller is known for his golfing success...  \n",
       "11996  malin nilsson got married to her partner, germ...  \n",
       "11997  the fellowship in law librarianship is a progr...  \n",
       "11998  the second physical emag store has been opened...  \n",
       "11999  the 2019 cadillac xt5 comes equipped with feat...  \n",
       "\n",
       "[11997 rows x 3 columns]"
      ]
     },
     "execution_count": 252,
     "metadata": {},
     "output_type": "execute_result"
    }
   ],
   "source": [
    "# приведем к нижнему регистру тексты во всех колонках\n",
    "df['context'] = df['context'].apply(lambda x: x.lower())\n",
    "df['question'] = df['question'].apply(lambda x: x.lower())\n",
    "df['answer'] = df['answer'].apply(lambda x: x.lower())\n",
    "\n",
    "df"
   ]
  },
  {
   "cell_type": "code",
   "execution_count": 253,
   "metadata": {
    "id": "0jvyfCkx2a0B"
   },
   "outputs": [],
   "source": [
    "# удаление/замена на пробел знака перевода строки в колонке 'context'\n",
    "df['context'] = df['context'].apply(lambda x: x.replace('\\n', ' '))"
   ]
  },
  {
   "cell_type": "code",
   "execution_count": 254,
   "metadata": {
    "colab": {
     "base_uri": "https://localhost:8080/",
     "height": 0
    },
    "id": "XQKfLmF9a7ei",
    "outputId": "9b8c2c4d-6010-4a70-f30d-e54e53244770"
   },
   "outputs": [
    {
     "data": {
      "text/html": [
       "<div>\n",
       "<style scoped>\n",
       "    .dataframe tbody tr th:only-of-type {\n",
       "        vertical-align: middle;\n",
       "    }\n",
       "\n",
       "    .dataframe tbody tr th {\n",
       "        vertical-align: top;\n",
       "    }\n",
       "\n",
       "    .dataframe thead th {\n",
       "        text-align: right;\n",
       "    }\n",
       "</style>\n",
       "<table border=\"1\" class=\"dataframe\">\n",
       "  <thead>\n",
       "    <tr style=\"text-align: right;\">\n",
       "      <th></th>\n",
       "      <th>context</th>\n",
       "      <th>question</th>\n",
       "      <th>answer</th>\n",
       "    </tr>\n",
       "  </thead>\n",
       "  <tbody>\n",
       "  </tbody>\n",
       "</table>\n",
       "</div>"
      ],
      "text/plain": [
       "Empty DataFrame\n",
       "Columns: [context, question, answer]\n",
       "Index: []"
      ]
     },
     "execution_count": 254,
     "metadata": {},
     "output_type": "execute_result"
    }
   ],
   "source": [
    "# проверка на полные дубликаты\n",
    "df[df.duplicated()]"
   ]
  },
  {
   "cell_type": "code",
   "execution_count": 255,
   "metadata": {
    "colab": {
     "base_uri": "https://localhost:8080/",
     "height": 0
    },
    "id": "B5ZvN1YibASh",
    "outputId": "a7fa296e-f8a3-4cb9-d015-f0a5511e1dfd"
   },
   "outputs": [
    {
     "data": {
      "text/html": [
       "<div>\n",
       "<style scoped>\n",
       "    .dataframe tbody tr th:only-of-type {\n",
       "        vertical-align: middle;\n",
       "    }\n",
       "\n",
       "    .dataframe tbody tr th {\n",
       "        vertical-align: top;\n",
       "    }\n",
       "\n",
       "    .dataframe thead th {\n",
       "        text-align: right;\n",
       "    }\n",
       "</style>\n",
       "<table border=\"1\" class=\"dataframe\">\n",
       "  <thead>\n",
       "    <tr style=\"text-align: right;\">\n",
       "      <th></th>\n",
       "      <th>context</th>\n",
       "      <th>question</th>\n",
       "      <th>answer</th>\n",
       "    </tr>\n",
       "  </thead>\n",
       "  <tbody>\n",
       "  </tbody>\n",
       "</table>\n",
       "</div>"
      ],
      "text/plain": [
       "Empty DataFrame\n",
       "Columns: [context, question, answer]\n",
       "Index: []"
      ]
     },
     "execution_count": 255,
     "metadata": {},
     "output_type": "execute_result"
    }
   ],
   "source": [
    "# проверка на дубликаты в колонке context\n",
    "df[df.duplicated(subset=['context'])]"
   ]
  },
  {
   "cell_type": "code",
   "execution_count": 256,
   "metadata": {
    "colab": {
     "base_uri": "https://localhost:8080/",
     "height": 0
    },
    "id": "qlxKvgRv13T1",
    "outputId": "fa9c50a1-0c1b-4585-825a-1f20838488ed"
   },
   "outputs": [
    {
     "data": {
      "text/html": [
       "<div>\n",
       "<style scoped>\n",
       "    .dataframe tbody tr th:only-of-type {\n",
       "        vertical-align: middle;\n",
       "    }\n",
       "\n",
       "    .dataframe tbody tr th {\n",
       "        vertical-align: top;\n",
       "    }\n",
       "\n",
       "    .dataframe thead th {\n",
       "        text-align: right;\n",
       "    }\n",
       "</style>\n",
       "<table border=\"1\" class=\"dataframe\">\n",
       "  <thead>\n",
       "    <tr style=\"text-align: right;\">\n",
       "      <th></th>\n",
       "      <th>context</th>\n",
       "      <th>question</th>\n",
       "      <th>answer</th>\n",
       "    </tr>\n",
       "  </thead>\n",
       "  <tbody>\n",
       "  </tbody>\n",
       "</table>\n",
       "</div>"
      ],
      "text/plain": [
       "Empty DataFrame\n",
       "Columns: [context, question, answer]\n",
       "Index: []"
      ]
     },
     "execution_count": 256,
     "metadata": {},
     "output_type": "execute_result"
    }
   ],
   "source": [
    "# проверка на дубликаты в колонке answer\n",
    "df[df.duplicated(subset=['answer'])]"
   ]
  },
  {
   "cell_type": "code",
   "execution_count": 257,
   "metadata": {
    "colab": {
     "base_uri": "https://localhost:8080/",
     "height": 0
    },
    "id": "Gn-tLtjpbH7c",
    "outputId": "01a793b0-a308-489a-e25d-67ac441aaf77"
   },
   "outputs": [
    {
     "data": {
      "text/html": [
       "<div>\n",
       "<style scoped>\n",
       "    .dataframe tbody tr th:only-of-type {\n",
       "        vertical-align: middle;\n",
       "    }\n",
       "\n",
       "    .dataframe tbody tr th {\n",
       "        vertical-align: top;\n",
       "    }\n",
       "\n",
       "    .dataframe thead th {\n",
       "        text-align: right;\n",
       "    }\n",
       "</style>\n",
       "<table border=\"1\" class=\"dataframe\">\n",
       "  <thead>\n",
       "    <tr style=\"text-align: right;\">\n",
       "      <th></th>\n",
       "      <th>context</th>\n",
       "      <th>question</th>\n",
       "      <th>answer</th>\n",
       "    </tr>\n",
       "  </thead>\n",
       "  <tbody>\n",
       "    <tr>\n",
       "      <th>9991</th>\n",
       "      <td>background – nectar mattress review – is this ...</td>\n",
       "      <td>what are some of the features that set the nec...</td>\n",
       "      <td>some of the features that set the nectar mattr...</td>\n",
       "    </tr>\n",
       "    <tr>\n",
       "      <th>6225</th>\n",
       "      <td>background – nectar mattress review – is this ...</td>\n",
       "      <td>what are some of the features that set the nec...</td>\n",
       "      <td>the nectar mattress is a reasonably priced foa...</td>\n",
       "    </tr>\n",
       "    <tr>\n",
       "      <th>9259</th>\n",
       "      <td>explore concrete pump operator careers and fin...</td>\n",
       "      <td>what are some of the job roles mentioned in th...</td>\n",
       "      <td>some of the job roles mentioned in the context...</td>\n",
       "    </tr>\n",
       "    <tr>\n",
       "      <th>9070</th>\n",
       "      <td>lead teacher jobs teacher - early childhoodnew...</td>\n",
       "      <td>what are some of the job roles mentioned in th...</td>\n",
       "      <td>some of the job roles mentioned in the context...</td>\n",
       "    </tr>\n",
       "    <tr>\n",
       "      <th>11587</th>\n",
       "      <td>i'm sorry the pictures are so dark.....\"someon...</td>\n",
       "      <td>what are the ingredients needed for the recipe...</td>\n",
       "      <td>the ingredients needed for the recipe are .5 c...</td>\n",
       "    </tr>\n",
       "    <tr>\n",
       "      <th>2599</th>\n",
       "      <td>description if i eat flour i prefer to eat rye...</td>\n",
       "      <td>what are the ingredients needed for the recipe...</td>\n",
       "      <td>the ingredients needed for the recipe are rye ...</td>\n",
       "    </tr>\n",
       "    <tr>\n",
       "      <th>10753</th>\n",
       "      <td>hose hook up for jet skichameleon dating sites...</td>\n",
       "      <td>what is the context about?</td>\n",
       "      <td>the context is about various topics, including...</td>\n",
       "    </tr>\n",
       "    <tr>\n",
       "      <th>8322</th>\n",
       "      <td>\"they are both comparatively late age, on n'a ...</td>\n",
       "      <td>what is the context about?</td>\n",
       "      <td>the context is a collection of various sentenc...</td>\n",
       "    </tr>\n",
       "    <tr>\n",
       "      <th>11483</th>\n",
       "      <td>order by popularity | order by alphabet like s...</td>\n",
       "      <td>what is the context about?</td>\n",
       "      <td>the context is about a list of titles or phras...</td>\n",
       "    </tr>\n",
       "    <tr>\n",
       "      <th>6217</th>\n",
       "      <td>the synthetic fragrant compounds based on 2-te...</td>\n",
       "      <td>what is the context about?</td>\n",
       "      <td>the context is about synthetic fragrant compou...</td>\n",
       "    </tr>\n",
       "    <tr>\n",
       "      <th>3245</th>\n",
       "      <td>surprisingly, it took me a long time to find t...</td>\n",
       "      <td>what is the context about?</td>\n",
       "      <td>the context is about sorting 2d associative ar...</td>\n",
       "    </tr>\n",
       "    <tr>\n",
       "      <th>6156</th>\n",
       "      <td>view diary: family chooses prayer over medicin...</td>\n",
       "      <td>what is the context about?</td>\n",
       "      <td>the context is about a family choosing prayer ...</td>\n",
       "    </tr>\n",
       "    <tr>\n",
       "      <th>2392</th>\n",
       "      <td>it's this!!! honestly one of the greatest fig...</td>\n",
       "      <td>what is the context discussing about?</td>\n",
       "      <td>the context is discussing about the favorite n...</td>\n",
       "    </tr>\n",
       "    <tr>\n",
       "      <th>9966</th>\n",
       "      <td>published at monday, march 18th, 2019 - 6:35 p...</td>\n",
       "      <td>what is the context discussing about?</td>\n",
       "      <td>the context is discussing about citroen c5 fus...</td>\n",
       "    </tr>\n",
       "    <tr>\n",
       "      <th>4059</th>\n",
       "      <td>create new account | my profile | my account |...</td>\n",
       "      <td>what is the date mentioned in the context?</td>\n",
       "      <td>the date mentioned in the context is sep 29, 2...</td>\n",
       "    </tr>\n",
       "    <tr>\n",
       "      <th>1639</th>\n",
       "      <td>create new account | my profile | my account |...</td>\n",
       "      <td>what is the date mentioned in the context?</td>\n",
       "      <td>the date mentioned in the context is tue jan 1...</td>\n",
       "    </tr>\n",
       "    <tr>\n",
       "      <th>5806</th>\n",
       "      <td>credit cards with 0 interest and no transfer f...</td>\n",
       "      <td>what is the main topic discussed in the context?</td>\n",
       "      <td>the main topic discussed in the context is cre...</td>\n",
       "    </tr>\n",
       "    <tr>\n",
       "      <th>6465</th>\n",
       "      <td>remembering the dogs of the titanic april 15th...</td>\n",
       "      <td>what is the main topic discussed in the context?</td>\n",
       "      <td>the main topic discussed in the context is rem...</td>\n",
       "    </tr>\n",
       "    <tr>\n",
       "      <th>10333</th>\n",
       "      <td>armour thyroid and hashimotos no humoured squa...</td>\n",
       "      <td>what is the main topic discussed in the context?</td>\n",
       "      <td>the main topic discussed in the context is arm...</td>\n",
       "    </tr>\n",
       "    <tr>\n",
       "      <th>131</th>\n",
       "      <td>virginia asthma and allergy way alteration do ...</td>\n",
       "      <td>what is the main topic discussed in the context?</td>\n",
       "      <td>virginia asthma and allergy</td>\n",
       "    </tr>\n",
       "    <tr>\n",
       "      <th>5707</th>\n",
       "      <td>&lt;&lt; heart angel bell ornament from $11.95 cross...</td>\n",
       "      <td>what is the price range of the items listed in...</td>\n",
       "      <td>the price range of the items listed in the con...</td>\n",
       "    </tr>\n",
       "    <tr>\n",
       "      <th>1813</th>\n",
       "      <td>&lt;&lt; purple paw swirl lightweight hooded tunic f...</td>\n",
       "      <td>what is the price range of the items listed in...</td>\n",
       "      <td>the price range of the items listed in the con...</td>\n",
       "    </tr>\n",
       "  </tbody>\n",
       "</table>\n",
       "</div>"
      ],
      "text/plain": [
       "                                                 context  \\\n",
       "9991   background – nectar mattress review – is this ...   \n",
       "6225   background – nectar mattress review – is this ...   \n",
       "9259   explore concrete pump operator careers and fin...   \n",
       "9070   lead teacher jobs teacher - early childhoodnew...   \n",
       "11587  i'm sorry the pictures are so dark.....\"someon...   \n",
       "2599   description if i eat flour i prefer to eat rye...   \n",
       "10753  hose hook up for jet skichameleon dating sites...   \n",
       "8322   \"they are both comparatively late age, on n'a ...   \n",
       "11483  order by popularity | order by alphabet like s...   \n",
       "6217   the synthetic fragrant compounds based on 2-te...   \n",
       "3245   surprisingly, it took me a long time to find t...   \n",
       "6156   view diary: family chooses prayer over medicin...   \n",
       "2392    it's this!!! honestly one of the greatest fig...   \n",
       "9966   published at monday, march 18th, 2019 - 6:35 p...   \n",
       "4059   create new account | my profile | my account |...   \n",
       "1639   create new account | my profile | my account |...   \n",
       "5806   credit cards with 0 interest and no transfer f...   \n",
       "6465   remembering the dogs of the titanic april 15th...   \n",
       "10333  armour thyroid and hashimotos no humoured squa...   \n",
       "131    virginia asthma and allergy way alteration do ...   \n",
       "5707   << heart angel bell ornament from $11.95 cross...   \n",
       "1813   << purple paw swirl lightweight hooded tunic f...   \n",
       "\n",
       "                                                question  \\\n",
       "9991   what are some of the features that set the nec...   \n",
       "6225   what are some of the features that set the nec...   \n",
       "9259   what are some of the job roles mentioned in th...   \n",
       "9070   what are some of the job roles mentioned in th...   \n",
       "11587  what are the ingredients needed for the recipe...   \n",
       "2599   what are the ingredients needed for the recipe...   \n",
       "10753                         what is the context about?   \n",
       "8322                          what is the context about?   \n",
       "11483                         what is the context about?   \n",
       "6217                          what is the context about?   \n",
       "3245                          what is the context about?   \n",
       "6156                          what is the context about?   \n",
       "2392               what is the context discussing about?   \n",
       "9966               what is the context discussing about?   \n",
       "4059          what is the date mentioned in the context?   \n",
       "1639          what is the date mentioned in the context?   \n",
       "5806    what is the main topic discussed in the context?   \n",
       "6465    what is the main topic discussed in the context?   \n",
       "10333   what is the main topic discussed in the context?   \n",
       "131     what is the main topic discussed in the context?   \n",
       "5707   what is the price range of the items listed in...   \n",
       "1813   what is the price range of the items listed in...   \n",
       "\n",
       "                                                  answer  \n",
       "9991   some of the features that set the nectar mattr...  \n",
       "6225   the nectar mattress is a reasonably priced foa...  \n",
       "9259   some of the job roles mentioned in the context...  \n",
       "9070   some of the job roles mentioned in the context...  \n",
       "11587  the ingredients needed for the recipe are .5 c...  \n",
       "2599   the ingredients needed for the recipe are rye ...  \n",
       "10753  the context is about various topics, including...  \n",
       "8322   the context is a collection of various sentenc...  \n",
       "11483  the context is about a list of titles or phras...  \n",
       "6217   the context is about synthetic fragrant compou...  \n",
       "3245   the context is about sorting 2d associative ar...  \n",
       "6156   the context is about a family choosing prayer ...  \n",
       "2392   the context is discussing about the favorite n...  \n",
       "9966   the context is discussing about citroen c5 fus...  \n",
       "4059   the date mentioned in the context is sep 29, 2...  \n",
       "1639   the date mentioned in the context is tue jan 1...  \n",
       "5806   the main topic discussed in the context is cre...  \n",
       "6465   the main topic discussed in the context is rem...  \n",
       "10333  the main topic discussed in the context is arm...  \n",
       "131                          virginia asthma and allergy  \n",
       "5707   the price range of the items listed in the con...  \n",
       "1813   the price range of the items listed in the con...  "
      ]
     },
     "execution_count": 257,
     "metadata": {},
     "output_type": "execute_result"
    }
   ],
   "source": [
    "# проверка на дубликаты в колонке question\n",
    "df[df.duplicated(subset=['question'], keep=False)].sort_values('question')"
   ]
  },
  {
   "cell_type": "code",
   "execution_count": 258,
   "metadata": {
    "id": "rIHaTqVE2f1O"
   },
   "outputs": [],
   "source": [
    "# удаление найденных дубликатов по 'question'\n",
    "df.duplicated(subset=['question'], keep=False)\n",
    "df.drop_duplicates(subset = ['question'], keep = 'first', inplace = True)\n"
   ]
  },
  {
   "cell_type": "code",
   "execution_count": null,
   "metadata": {
    "id": "X-BTzygorZpD"
   },
   "outputs": [],
   "source": [
    "# в ходе экспериментов ниже с векторами были обнаружены две строки с другим языком\n",
    "df.drop(index=[7453, 10225], inplace=True)\n",
    "df.reset_index(drop=True, inplace=True) # обновление индексов"
   ]
  },
  {
   "cell_type": "code",
   "execution_count": 261,
   "metadata": {},
   "outputs": [
    {
     "data": {
      "text/html": [
       "<div>\n",
       "<style scoped>\n",
       "    .dataframe tbody tr th:only-of-type {\n",
       "        vertical-align: middle;\n",
       "    }\n",
       "\n",
       "    .dataframe tbody tr th {\n",
       "        vertical-align: top;\n",
       "    }\n",
       "\n",
       "    .dataframe thead th {\n",
       "        text-align: right;\n",
       "    }\n",
       "</style>\n",
       "<table border=\"1\" class=\"dataframe\">\n",
       "  <thead>\n",
       "    <tr style=\"text-align: right;\">\n",
       "      <th></th>\n",
       "      <th>context</th>\n",
       "      <th>question</th>\n",
       "      <th>answer</th>\n",
       "    </tr>\n",
       "  </thead>\n",
       "  <tbody>\n",
       "    <tr>\n",
       "      <th>7448</th>\n",
       "      <td>dr. cleland has. he held executive management ...</td>\n",
       "      <td>who was appointed as the president and chief e...</td>\n",
       "      <td>neil k. warma was appointed as the president a...</td>\n",
       "    </tr>\n",
       "    <tr>\n",
       "      <th>7449</th>\n",
       "      <td>5573 danbury cir, lake in the hills, il 60156 ...</td>\n",
       "      <td>what are some of the features of the property ...</td>\n",
       "      <td>the property at 5573 danbury cir, lake in the ...</td>\n",
       "    </tr>\n",
       "    <tr>\n",
       "      <th>7450</th>\n",
       "      <td>jemjem offers the refurbished apple macbook pr...</td>\n",
       "      <td>what is the discount offered by the coupon cod...</td>\n",
       "      <td>the coupon code \"dealnews10\" cuts the price by...</td>\n",
       "    </tr>\n",
       "    <tr>\n",
       "      <th>7451</th>\n",
       "      <td>one of many most crucial profit for making use...</td>\n",
       "      <td>what is one of the most crucial benefits of us...</td>\n",
       "      <td>one of the most crucial benefits of using rasp...</td>\n",
       "    </tr>\n",
       "    <tr>\n",
       "      <th>7452</th>\n",
       "      <td>ahora que se acerca san valentín he pensado qu...</td>\n",
       "      <td>what is the author's habit related to glass ja...</td>\n",
       "      <td>the author never throws glass jars or tins awa...</td>\n",
       "    </tr>\n",
       "    <tr>\n",
       "      <th>7453</th>\n",
       "      <td>【学术活动预告】numerical characterization of powder f...</td>\n",
       "      <td>who is the speaker for the lecture on numerica...</td>\n",
       "      <td>the speaker for the lecture on numerical chara...</td>\n",
       "    </tr>\n",
       "    <tr>\n",
       "      <th>7454</th>\n",
       "      <td>write code to test code one of the job descrip...</td>\n",
       "      <td>what are the three dominant roles in engineeri...</td>\n",
       "      <td>the three dominant roles in engineering terms ...</td>\n",
       "    </tr>\n",
       "    <tr>\n",
       "      <th>7455</th>\n",
       "      <td>these financial loans produce personal debt, a...</td>\n",
       "      <td>what is the key to a bright financial future a...</td>\n",
       "      <td>the key to a bright financial future is to eff...</td>\n",
       "    </tr>\n",
       "    <tr>\n",
       "      <th>7456</th>\n",
       "      <td>motogp correspondent bruce allen previews the ...</td>\n",
       "      <td>who were the two main competitors in the 2011 ...</td>\n",
       "      <td>the two main competitors in the 2011 motogp se...</td>\n",
       "    </tr>\n",
       "    <tr>\n",
       "      <th>7457</th>\n",
       "      <td>doing a complete 180 in life: “progress is imp...</td>\n",
       "      <td>what were the new rules the person set for the...</td>\n",
       "      <td>none of the meat that they choose to eat will ...</td>\n",
       "    </tr>\n",
       "    <tr>\n",
       "      <th>7458</th>\n",
       "      <td>hotel koutriaris - distomo38.4282778028028, 22...</td>\n",
       "      <td>what amenities does hotel koutriaris offer to ...</td>\n",
       "      <td>hotel koutriaris offers amenities such as a pe...</td>\n",
       "    </tr>\n",
       "    <tr>\n",
       "      <th>7459</th>\n",
       "      <td>i consider it a true honor that couples, like ...</td>\n",
       "      <td>what is the photographer's goal when documenti...</td>\n",
       "      <td>the photographer's goal is to make sure the co...</td>\n",
       "    </tr>\n",
       "    <tr>\n",
       "      <th>7460</th>\n",
       "      <td>4g sim card???jes583 nov 26, 2011 2:41 am once...</td>\n",
       "      <td>can a deactivated 4g sim card be activated again?</td>\n",
       "      <td>there are different scenarios with sim cards; ...</td>\n",
       "    </tr>\n",
       "    <tr>\n",
       "      <th>7461</th>\n",
       "      <td>all posts tagged with home remedies - -(natura...</td>\n",
       "      <td>how can one keep their home fruit fly-free?</td>\n",
       "      <td>one can keep their home fruit fly-free using n...</td>\n",
       "    </tr>\n",
       "    <tr>\n",
       "      <th>7462</th>\n",
       "      <td>the following analysis investigates the accura...</td>\n",
       "      <td>what method was used to determine the instrume...</td>\n",
       "      <td>the instrumental magnitude was determined usin...</td>\n",
       "    </tr>\n",
       "  </tbody>\n",
       "</table>\n",
       "</div>"
      ],
      "text/plain": [
       "                                                context  \\\n",
       "7448  dr. cleland has. he held executive management ...   \n",
       "7449  5573 danbury cir, lake in the hills, il 60156 ...   \n",
       "7450  jemjem offers the refurbished apple macbook pr...   \n",
       "7451  one of many most crucial profit for making use...   \n",
       "7452  ahora que se acerca san valentín he pensado qu...   \n",
       "7453  【学术活动预告】numerical characterization of powder f...   \n",
       "7454  write code to test code one of the job descrip...   \n",
       "7455  these financial loans produce personal debt, a...   \n",
       "7456  motogp correspondent bruce allen previews the ...   \n",
       "7457  doing a complete 180 in life: “progress is imp...   \n",
       "7458  hotel koutriaris - distomo38.4282778028028, 22...   \n",
       "7459  i consider it a true honor that couples, like ...   \n",
       "7460  4g sim card???jes583 nov 26, 2011 2:41 am once...   \n",
       "7461  all posts tagged with home remedies - -(natura...   \n",
       "7462  the following analysis investigates the accura...   \n",
       "\n",
       "                                               question  \\\n",
       "7448  who was appointed as the president and chief e...   \n",
       "7449  what are some of the features of the property ...   \n",
       "7450  what is the discount offered by the coupon cod...   \n",
       "7451  what is one of the most crucial benefits of us...   \n",
       "7452  what is the author's habit related to glass ja...   \n",
       "7453  who is the speaker for the lecture on numerica...   \n",
       "7454  what are the three dominant roles in engineeri...   \n",
       "7455  what is the key to a bright financial future a...   \n",
       "7456  who were the two main competitors in the 2011 ...   \n",
       "7457  what were the new rules the person set for the...   \n",
       "7458  what amenities does hotel koutriaris offer to ...   \n",
       "7459  what is the photographer's goal when documenti...   \n",
       "7460  can a deactivated 4g sim card be activated again?   \n",
       "7461        how can one keep their home fruit fly-free?   \n",
       "7462  what method was used to determine the instrume...   \n",
       "\n",
       "                                                 answer  \n",
       "7448  neil k. warma was appointed as the president a...  \n",
       "7449  the property at 5573 danbury cir, lake in the ...  \n",
       "7450  the coupon code \"dealnews10\" cuts the price by...  \n",
       "7451  one of the most crucial benefits of using rasp...  \n",
       "7452  the author never throws glass jars or tins awa...  \n",
       "7453  the speaker for the lecture on numerical chara...  \n",
       "7454  the three dominant roles in engineering terms ...  \n",
       "7455  the key to a bright financial future is to eff...  \n",
       "7456  the two main competitors in the 2011 motogp se...  \n",
       "7457  none of the meat that they choose to eat will ...  \n",
       "7458  hotel koutriaris offers amenities such as a pe...  \n",
       "7459  the photographer's goal is to make sure the co...  \n",
       "7460  there are different scenarios with sim cards; ...  \n",
       "7461  one can keep their home fruit fly-free using n...  \n",
       "7462  the instrumental magnitude was determined usin...  "
      ]
     },
     "execution_count": 261,
     "metadata": {},
     "output_type": "execute_result"
    }
   ],
   "source": [
    "df[7440:7455]"
   ]
  },
  {
   "cell_type": "markdown",
   "metadata": {
    "id": "Xy3P4acirBaj"
   },
   "source": [
    "## Word2Vec"
   ]
  },
  {
   "cell_type": "markdown",
   "metadata": {
    "id": "ggjoDiQUjaz6"
   },
   "source": [
    "#### Функции"
   ]
  },
  {
   "cell_type": "markdown",
   "metadata": {
    "id": "bSPa-ygJj19V"
   },
   "source": [
    "1. Функция для извлечения эмбеддинга из фразы/контекста - делаем усреднение (принимает фразу и модель, отдает вектор)\n",
    "2. Функция для вычисления косинусной близости и эвклидова расстояния контекстов и вопросов по датасету (принимает датафрейм, метод близости, модель и число топ, возвращает индекс наиболее близкого ответа).\n",
    "3. Функция, осуществляющая поиск брутфорсом (принимает вопрос, ищет по базе ответ)"
   ]
  },
  {
   "cell_type": "code",
   "execution_count": 30,
   "metadata": {
    "id": "RnHYSfCd5FA5"
   },
   "outputs": [],
   "source": [
    "# функция для формирования эмбеддинга из фразы через среднее\n",
    "\n",
    "def get_phrase_embedding(phrase, model):\n",
    "    \"\"\"\n",
    "    конвертация фразы в вектор через усреднение\n",
    "    \"\"\"\n",
    "    vector = np.zeros([model.vector_size], dtype='float32')\n",
    "    phrase_tokenized = tokenizer.tokenize(phrase.lower())\n",
    "    phrase_vectors = [model[x] for x in phrase_tokenized if model.has_index_for(x)]\n",
    "\n",
    "    if len(phrase_vectors) != 0:\n",
    "        vector = np.mean(phrase_vectors, axis=0)\n",
    "    return vector"
   ]
  },
  {
   "cell_type": "code",
   "execution_count": 31,
   "metadata": {
    "id": "k5g3zdqH4lII"
   },
   "outputs": [],
   "source": [
    "# Функция для вычисления близости по паре вопрос-ответ\n",
    "def similarity(df, method, model):\n",
    "    if method == 'cos':\n",
    "        cos_sim = []\n",
    "        for index, row in tqdm(df.iterrows()):\n",
    "            sim = cosine_similarity(get_phrase_embedding(row['context'], model).reshape(1, -1), get_phrase_embedding(row['question'], model).reshape(1, -1))\n",
    "            cos_sim.append(sim[0][0])\n",
    "        return cos_sim\n",
    "    if method == 'euc':\n",
    "        euc_sim = []\n",
    "        for index, row in tqdm(df.iterrows()):\n",
    "            euc = euclidean_distances(get_phrase_embedding(row['context'], model).reshape(1, -1), get_phrase_embedding(row['question'], model).reshape(1, -1))\n",
    "            euc_sim.append(euc[0][0])\n",
    "        return euc_sim"
   ]
  },
  {
   "cell_type": "code",
   "execution_count": 32,
   "metadata": {
    "id": "-1vCvfdQAPFf"
   },
   "outputs": [],
   "source": [
    "# поиск осуществляет поиск и преобразует вопрос в вектор\n",
    "def search(query, df, sim_method, model, top_k=3):\n",
    "    query_vec = get_phrase_embedding(query, model)\n",
    "    if sim_method == 'cos':\n",
    "        similarities = cosine_similarity([query_vec], list(df['context_vec']))\n",
    "        top_indices = similarities[0].argsort()[-top_k:][::-1]\n",
    "        return df.iloc[top_indices][['context_vec']]\n",
    "    if sim_method == 'euc':\n",
    "        similarities = euclidean_distances([query_vec], list(df['context_vec']))\n",
    "        top_indices = similarities[0].argsort()[:top_k]\n",
    "        return df.iloc[top_indices][['context_vec']]"
   ]
  },
  {
   "cell_type": "code",
   "execution_count": 33,
   "metadata": {
    "id": "nt8liHUQOEzf"
   },
   "outputs": [],
   "source": [
    "# поиск осуществляет только поиск\n",
    "def search_(query_vec, df, sim_method, model, top_k=3):\n",
    "    if sim_method == 'cos':\n",
    "        similarities = cosine_similarity([query_vec], list(df['context_vec']))\n",
    "        top_indices = similarities[0].argsort()[-top_k:][::-1]\n",
    "        return df.iloc[top_indices][['context_vec']]\n",
    "    if sim_method == 'euc':\n",
    "        similarities = euclidean_distances([query_vec], list(df['context_vec']))\n",
    "        top_indices = similarities[0].argsort()[:top_k]\n",
    "        return df.iloc[top_indices][['context_vec']]"
   ]
  },
  {
   "cell_type": "markdown",
   "metadata": {
    "id": "kwZW0oSUD3MQ"
   },
   "source": [
    "### готовая модель glove-twitter-100"
   ]
  },
  {
   "cell_type": "markdown",
   "metadata": {
    "id": "vOBTGHIjcY4X"
   },
   "source": [
    "Попробуем готовую модель 'glove-twitter-100' для получения эмбеддингов"
   ]
  },
  {
   "cell_type": "code",
   "execution_count": null,
   "metadata": {
    "colab": {
     "base_uri": "https://localhost:8080/"
    },
    "id": "UG1U0JPZspWP",
    "outputId": "a3e864e2-9dcd-4aa1-cb0b-03ec70bea1b1"
   },
   "outputs": [],
   "source": [
    "# пробуем готовую модель 'glove-twitter-100' для получения эмбеддингов\n",
    "# загрузка модели\n",
    "import gensim.downloader as api\n",
    "model_glove_100 = api.load('glove-twitter-100')"
   ]
  },
  {
   "cell_type": "code",
   "execution_count": 208,
   "metadata": {
    "colab": {
     "base_uri": "https://localhost:8080/"
    },
    "id": "_49OF8q53Ymb",
    "outputId": "6b1d42c7-ac40-43e2-f76c-c86b14a4ac0c"
   },
   "outputs": [
    {
     "data": {
      "text/plain": [
       "(array([-0.69571 , -0.25803 ,  1.1461  , -0.092474,  0.013327,  0.88868 ,\n",
       "         0.6629  , -0.22854 , -0.61239 ,  0.023411,  0.13384 , -1.2871  ,\n",
       "        -3.9963  ,  0.05135 , -0.16849 ,  0.2833  ,  0.23867 , -0.29322 ,\n",
       "        -0.47725 ,  0.27753 ,  0.6445  ,  0.13722 , -0.05108 ,  0.16066 ,\n",
       "         0.07651 ,  1.1067  ,  0.045127,  0.44216 ,  0.50982 ,  0.21219 ,\n",
       "        -0.65819 ,  0.070122, -0.048726,  0.29361 ,  1.1018  ,  0.56088 ,\n",
       "         0.53527 ,  0.071109, -0.76369 , -0.27487 ,  0.58741 ,  0.46964 ,\n",
       "        -0.097834, -0.070362,  0.7466  , -0.23906 , -0.3333  , -0.44176 ,\n",
       "         0.28084 ,  0.36565 ,  0.49095 , -0.1077  , -0.66796 , -0.29881 ,\n",
       "         0.20242 ,  0.10429 ,  0.29653 , -0.24588 , -0.87941 , -0.41375 ,\n",
       "        -0.046369, -0.373   ,  0.17329 ,  0.19251 ,  0.89135 , -0.11747 ,\n",
       "         0.42172 , -0.75693 , -0.35015 , -0.12428 ,  0.33944 , -0.096263,\n",
       "        -0.43658 ,  0.92614 ,  0.2422  , -0.35407 ,  0.38964 , -0.69092 ,\n",
       "        -0.16011 , -0.43882 ,  0.24384 ,  0.25598 ,  0.46328 ,  0.43624 ,\n",
       "        -0.34234 , -0.036377, -0.37853 ,  0.80977 , -0.21563 ,  0.02084 ,\n",
       "         0.40732 ,  0.39493 ,  0.060852,  0.096097,  0.096956, -0.16213 ,\n",
       "         0.14411 ,  0.22278 ,  0.38351 , -0.45459 ], dtype=float32),\n",
       " 100)"
      ]
     },
     "execution_count": 208,
     "metadata": {},
     "output_type": "execute_result"
    }
   ],
   "source": [
    "# вектор слова и длина вектора\n",
    "model_glove_100.get_vector('success'), model_glove_100.vector_size"
   ]
  },
  {
   "cell_type": "code",
   "execution_count": 207,
   "metadata": {
    "colab": {
     "base_uri": "https://localhost:8080/"
    },
    "id": "Q-u3gEmw0yV6",
    "outputId": "80c05114-cca5-4014-b181-78c9d90b2133"
   },
   "outputs": [
    {
     "data": {
      "text/plain": [
       "[('failure', 0.7855759263038635),\n",
       " ('achieve', 0.7644058465957642),\n",
       " ('progress', 0.7620401382446289),\n",
       " ('successful', 0.7617712616920471),\n",
       " ('happiness', 0.7570056319236755)]"
      ]
     },
     "execution_count": 207,
     "metadata": {},
     "output_type": "execute_result"
    }
   ],
   "source": [
    "# проверка модели\n",
    "model_glove_100.most_similar(positive=['success'], topn=5)"
   ]
  },
  {
   "cell_type": "markdown",
   "metadata": {
    "id": "0CzKaYe8omoO"
   },
   "source": [
    "#### cos_sim/euc_dist"
   ]
  },
  {
   "cell_type": "code",
   "execution_count": 264,
   "metadata": {
    "id": "oZNs3uZZAeU8"
   },
   "outputs": [],
   "source": [
    "df_glove = df.copy()"
   ]
  },
  {
   "cell_type": "code",
   "execution_count": 265,
   "metadata": {
    "colab": {
     "base_uri": "https://localhost:8080/",
     "height": 597
    },
    "id": "IndfEEk1CPdc",
    "outputId": "5c31eb51-7f12-4128-ec1d-d7987ecfe2b0"
   },
   "outputs": [
    {
     "data": {
      "text/html": [
       "<div>\n",
       "<style scoped>\n",
       "    .dataframe tbody tr th:only-of-type {\n",
       "        vertical-align: middle;\n",
       "    }\n",
       "\n",
       "    .dataframe tbody tr th {\n",
       "        vertical-align: top;\n",
       "    }\n",
       "\n",
       "    .dataframe thead th {\n",
       "        text-align: right;\n",
       "    }\n",
       "</style>\n",
       "<table border=\"1\" class=\"dataframe\">\n",
       "  <thead>\n",
       "    <tr style=\"text-align: right;\">\n",
       "      <th></th>\n",
       "      <th>context</th>\n",
       "      <th>question</th>\n",
       "      <th>answer</th>\n",
       "      <th>context_vec</th>\n",
       "    </tr>\n",
       "  </thead>\n",
       "  <tbody>\n",
       "    <tr>\n",
       "      <th>0</th>\n",
       "      <td>caption: tasmanian berry grower nic hansen sho...</td>\n",
       "      <td>what is the berry export summary 2028 and what...</td>\n",
       "      <td>the berry export summary 2028 is a dedicated e...</td>\n",
       "      <td>[0.09504911, -0.049641673, 0.089875646, 0.0277...</td>\n",
       "    </tr>\n",
       "    <tr>\n",
       "      <th>1</th>\n",
       "      <td>rwsn collaborations southern africa self-suppl...</td>\n",
       "      <td>what are some of the benefits reported from ha...</td>\n",
       "      <td>benefits reported from having access to self-s...</td>\n",
       "      <td>[0.1335789, -0.047594383, 0.0615254, 0.1200428...</td>\n",
       "    </tr>\n",
       "    <tr>\n",
       "      <th>2</th>\n",
       "      <td>all android applications categories descriptio...</td>\n",
       "      <td>what are the unique features of the coolands f...</td>\n",
       "      <td>the unique features of the coolands for twitte...</td>\n",
       "      <td>[0.17623802, 0.13942787, -0.0018227642, 0.1532...</td>\n",
       "    </tr>\n",
       "    <tr>\n",
       "      <th>3</th>\n",
       "      <td>how unequal is india? the question is simple, ...</td>\n",
       "      <td>what is the main difference between the nation...</td>\n",
       "      <td>the main difference between the nss and the ih...</td>\n",
       "      <td>[0.15724678, -0.051185735, 0.12862964, 0.12895...</td>\n",
       "    </tr>\n",
       "    <tr>\n",
       "      <th>4</th>\n",
       "      <td>gunnar nelson took his time on the feet agains...</td>\n",
       "      <td>how did gunnar nelson win the fight against za...</td>\n",
       "      <td>gunnar nelson won the fight against zak cummin...</td>\n",
       "      <td>[0.17708059, 0.06809667, 0.18565966, 0.0115498...</td>\n",
       "    </tr>\n",
       "    <tr>\n",
       "      <th>...</th>\n",
       "      <td>...</td>\n",
       "      <td>...</td>\n",
       "      <td>...</td>\n",
       "      <td>...</td>\n",
       "    </tr>\n",
       "    <tr>\n",
       "      <th>11995</th>\n",
       "      <td>fuzzy's ultra premium vodka the myth, the man,...</td>\n",
       "      <td>what are some of the achievements of fuzzy zoe...</td>\n",
       "      <td>fuzzy zoeller is known for his golfing success...</td>\n",
       "      <td>[0.06778479, -0.05240954, 0.07101283, 0.143693...</td>\n",
       "    </tr>\n",
       "    <tr>\n",
       "      <th>11996</th>\n",
       "      <td>swedish grand prix rider malin nilsson got mar...</td>\n",
       "      <td>who did malin nilsson marry on 2 june 2018?</td>\n",
       "      <td>malin nilsson got married to her partner, germ...</td>\n",
       "      <td>[0.06751342, -0.014983839, 0.10461176, 0.05301...</td>\n",
       "    </tr>\n",
       "    <tr>\n",
       "      <th>11997</th>\n",
       "      <td>the cracchiolo law library of the james e. rog...</td>\n",
       "      <td>what is the fellowship in law librarianship of...</td>\n",
       "      <td>the fellowship in law librarianship is a progr...</td>\n",
       "      <td>[0.11425761, 0.004999416, 0.13181105, 0.180119...</td>\n",
       "    </tr>\n",
       "    <tr>\n",
       "      <th>11998</th>\n",
       "      <td>2nd physical emag store opens in mammut online...</td>\n",
       "      <td>where has the second physical emag store been ...</td>\n",
       "      <td>the second physical emag store has been opened...</td>\n",
       "      <td>[0.15222545, 0.008151223, 0.051334146, 0.08177...</td>\n",
       "    </tr>\n",
       "    <tr>\n",
       "      <th>11999</th>\n",
       "      <td>about this cadillac 2019 cadillac xt5 fwd 4dr ...</td>\n",
       "      <td>what are some of the key features of the 2019 ...</td>\n",
       "      <td>the 2019 cadillac xt5 comes equipped with feat...</td>\n",
       "      <td>[0.13935551, -0.10910422, 0.0054076933, 0.0237...</td>\n",
       "    </tr>\n",
       "  </tbody>\n",
       "</table>\n",
       "<p>11983 rows × 4 columns</p>\n",
       "</div>"
      ],
      "text/plain": [
       "                                                 context  \\\n",
       "0      caption: tasmanian berry grower nic hansen sho...   \n",
       "1      rwsn collaborations southern africa self-suppl...   \n",
       "2      all android applications categories descriptio...   \n",
       "3      how unequal is india? the question is simple, ...   \n",
       "4      gunnar nelson took his time on the feet agains...   \n",
       "...                                                  ...   \n",
       "11995  fuzzy's ultra premium vodka the myth, the man,...   \n",
       "11996  swedish grand prix rider malin nilsson got mar...   \n",
       "11997  the cracchiolo law library of the james e. rog...   \n",
       "11998  2nd physical emag store opens in mammut online...   \n",
       "11999  about this cadillac 2019 cadillac xt5 fwd 4dr ...   \n",
       "\n",
       "                                                question  \\\n",
       "0      what is the berry export summary 2028 and what...   \n",
       "1      what are some of the benefits reported from ha...   \n",
       "2      what are the unique features of the coolands f...   \n",
       "3      what is the main difference between the nation...   \n",
       "4      how did gunnar nelson win the fight against za...   \n",
       "...                                                  ...   \n",
       "11995  what are some of the achievements of fuzzy zoe...   \n",
       "11996        who did malin nilsson marry on 2 june 2018?   \n",
       "11997  what is the fellowship in law librarianship of...   \n",
       "11998  where has the second physical emag store been ...   \n",
       "11999  what are some of the key features of the 2019 ...   \n",
       "\n",
       "                                                  answer  \\\n",
       "0      the berry export summary 2028 is a dedicated e...   \n",
       "1      benefits reported from having access to self-s...   \n",
       "2      the unique features of the coolands for twitte...   \n",
       "3      the main difference between the nss and the ih...   \n",
       "4      gunnar nelson won the fight against zak cummin...   \n",
       "...                                                  ...   \n",
       "11995  fuzzy zoeller is known for his golfing success...   \n",
       "11996  malin nilsson got married to her partner, germ...   \n",
       "11997  the fellowship in law librarianship is a progr...   \n",
       "11998  the second physical emag store has been opened...   \n",
       "11999  the 2019 cadillac xt5 comes equipped with feat...   \n",
       "\n",
       "                                             context_vec  \n",
       "0      [0.09504911, -0.049641673, 0.089875646, 0.0277...  \n",
       "1      [0.1335789, -0.047594383, 0.0615254, 0.1200428...  \n",
       "2      [0.17623802, 0.13942787, -0.0018227642, 0.1532...  \n",
       "3      [0.15724678, -0.051185735, 0.12862964, 0.12895...  \n",
       "4      [0.17708059, 0.06809667, 0.18565966, 0.0115498...  \n",
       "...                                                  ...  \n",
       "11995  [0.06778479, -0.05240954, 0.07101283, 0.143693...  \n",
       "11996  [0.06751342, -0.014983839, 0.10461176, 0.05301...  \n",
       "11997  [0.11425761, 0.004999416, 0.13181105, 0.180119...  \n",
       "11998  [0.15222545, 0.008151223, 0.051334146, 0.08177...  \n",
       "11999  [0.13935551, -0.10910422, 0.0054076933, 0.0237...  \n",
       "\n",
       "[11983 rows x 4 columns]"
      ]
     },
     "execution_count": 265,
     "metadata": {},
     "output_type": "execute_result"
    }
   ],
   "source": [
    "# Добавляем столбец с эмбеддингами контекста в датасет:\n",
    "df_glove['context_vec'] = df_glove['context'].apply(lambda x: get_phrase_embedding(x, model_glove_100))\n",
    "df_glove"
   ]
  },
  {
   "cell_type": "code",
   "execution_count": 211,
   "metadata": {
    "id": "3y3qTDJxNKFU"
   },
   "outputs": [],
   "source": [
    "query = df.question[10]"
   ]
  },
  {
   "cell_type": "code",
   "execution_count": 240,
   "metadata": {
    "colab": {
     "base_uri": "https://localhost:8080/"
    },
    "id": "HXjJuWQqCwe2",
    "outputId": "ffce2aac-7abb-4149-a7e0-5eb5c741e503"
   },
   "outputs": [
    {
     "name": "stdout",
     "output_type": "stream",
     "text": [
      "CPU times: user 7 μs, sys: 43 μs, total: 50 μs\n",
      "Wall time: 530 μs\n",
      "                                            context_vec\n",
      "4494  [0.19853029, 0.055699263, 0.121624224, 0.02299...\n"
     ]
    }
   ],
   "source": [
    "# тест поиска ответа для query по датасету df_glove по косинусному сходству\n",
    "%time\n",
    "results = search(query, df_glove, 'cos', model_glove_100, top_k=1)\n",
    "print(results)"
   ]
  },
  {
   "cell_type": "code",
   "execution_count": 241,
   "metadata": {
    "colab": {
     "base_uri": "https://localhost:8080/"
    },
    "id": "aN3JwsyTBVmn",
    "outputId": "2f6f4f49-12ef-489b-ed30-f009bf39c5fd"
   },
   "outputs": [
    {
     "name": "stdout",
     "output_type": "stream",
     "text": [
      "CPU times: user 3 μs, sys: 1e+03 ns, total: 4 μs\n",
      "Wall time: 8.34 μs\n",
      "                                            context_vec\n",
      "4494  [0.19853029, 0.055699263, 0.121624224, 0.02299...\n"
     ]
    }
   ],
   "source": [
    "# тест поиска ответа для query по датасету df_glove по эвклидову расстоянию\n",
    "\n",
    "%time\n",
    "results = search(query, df_glove, 'euc',  model_glove_100, top_k=1)\n",
    "print(results)"
   ]
  },
  {
   "cell_type": "code",
   "execution_count": 266,
   "metadata": {
    "colab": {
     "base_uri": "https://localhost:8080/"
    },
    "id": "Ppc4nEXF56Nk",
    "outputId": "ddd62a38-c472-41f4-eccf-9ece883e7ef9"
   },
   "outputs": [
    {
     "name": "stderr",
     "output_type": "stream",
     "text": [
      "11983it [00:17, 681.29it/s]\n",
      "11983it [00:15, 769.37it/s]\n"
     ]
    }
   ],
   "source": [
    "# вычисляем близость каждогго вопроса со своим контекстом\n",
    "cos_sim = similarity(df_glove, 'cos', model_glove_100)\n",
    "euc_dist = similarity(df_glove, 'euc', model_glove_100)"
   ]
  },
  {
   "cell_type": "code",
   "execution_count": 267,
   "metadata": {
    "colab": {
     "base_uri": "https://localhost:8080/",
     "height": 424
    },
    "id": "zaMFyeP4_Q1y",
    "outputId": "0484a494-2747-4cc7-a4a2-8543b7a1cb52"
   },
   "outputs": [
    {
     "data": {
      "text/html": [
       "<div>\n",
       "<style scoped>\n",
       "    .dataframe tbody tr th:only-of-type {\n",
       "        vertical-align: middle;\n",
       "    }\n",
       "\n",
       "    .dataframe tbody tr th {\n",
       "        vertical-align: top;\n",
       "    }\n",
       "\n",
       "    .dataframe thead th {\n",
       "        text-align: right;\n",
       "    }\n",
       "</style>\n",
       "<table border=\"1\" class=\"dataframe\">\n",
       "  <thead>\n",
       "    <tr style=\"text-align: right;\">\n",
       "      <th></th>\n",
       "      <th>context</th>\n",
       "      <th>question</th>\n",
       "      <th>answer</th>\n",
       "      <th>context_vec</th>\n",
       "      <th>cos_similarity_100</th>\n",
       "      <th>euc_dict_100</th>\n",
       "    </tr>\n",
       "  </thead>\n",
       "  <tbody>\n",
       "    <tr>\n",
       "      <th>0</th>\n",
       "      <td>caption: tasmanian berry grower nic hansen sho...</td>\n",
       "      <td>what is the berry export summary 2028 and what...</td>\n",
       "      <td>the berry export summary 2028 is a dedicated e...</td>\n",
       "      <td>[0.09504911, -0.049641673, 0.089875646, 0.0277...</td>\n",
       "      <td>0.955721</td>\n",
       "      <td>1.647024</td>\n",
       "    </tr>\n",
       "    <tr>\n",
       "      <th>1</th>\n",
       "      <td>rwsn collaborations southern africa self-suppl...</td>\n",
       "      <td>what are some of the benefits reported from ha...</td>\n",
       "      <td>benefits reported from having access to self-s...</td>\n",
       "      <td>[0.1335789, -0.047594383, 0.0615254, 0.1200428...</td>\n",
       "      <td>0.982423</td>\n",
       "      <td>1.118146</td>\n",
       "    </tr>\n",
       "    <tr>\n",
       "      <th>2</th>\n",
       "      <td>all android applications categories descriptio...</td>\n",
       "      <td>what are the unique features of the coolands f...</td>\n",
       "      <td>the unique features of the coolands for twitte...</td>\n",
       "      <td>[0.17623802, 0.13942787, -0.0018227642, 0.1532...</td>\n",
       "      <td>0.963876</td>\n",
       "      <td>1.541047</td>\n",
       "    </tr>\n",
       "    <tr>\n",
       "      <th>3</th>\n",
       "      <td>how unequal is india? the question is simple, ...</td>\n",
       "      <td>what is the main difference between the nation...</td>\n",
       "      <td>the main difference between the nss and the ih...</td>\n",
       "      <td>[0.15724678, -0.051185735, 0.12862964, 0.12895...</td>\n",
       "      <td>0.954969</td>\n",
       "      <td>1.278227</td>\n",
       "    </tr>\n",
       "    <tr>\n",
       "      <th>4</th>\n",
       "      <td>gunnar nelson took his time on the feet agains...</td>\n",
       "      <td>how did gunnar nelson win the fight against za...</td>\n",
       "      <td>gunnar nelson won the fight against zak cummin...</td>\n",
       "      <td>[0.17708059, 0.06809667, 0.18565966, 0.0115498...</td>\n",
       "      <td>0.937649</td>\n",
       "      <td>1.508161</td>\n",
       "    </tr>\n",
       "    <tr>\n",
       "      <th>...</th>\n",
       "      <td>...</td>\n",
       "      <td>...</td>\n",
       "      <td>...</td>\n",
       "      <td>...</td>\n",
       "      <td>...</td>\n",
       "      <td>...</td>\n",
       "    </tr>\n",
       "    <tr>\n",
       "      <th>11995</th>\n",
       "      <td>fuzzy's ultra premium vodka the myth, the man,...</td>\n",
       "      <td>what are some of the achievements of fuzzy zoe...</td>\n",
       "      <td>fuzzy zoeller is known for his golfing success...</td>\n",
       "      <td>[0.06778479, -0.05240954, 0.07101283, 0.143693...</td>\n",
       "      <td>0.955014</td>\n",
       "      <td>1.558333</td>\n",
       "    </tr>\n",
       "    <tr>\n",
       "      <th>11996</th>\n",
       "      <td>swedish grand prix rider malin nilsson got mar...</td>\n",
       "      <td>who did malin nilsson marry on 2 june 2018?</td>\n",
       "      <td>malin nilsson got married to her partner, germ...</td>\n",
       "      <td>[0.06751342, -0.014983839, 0.10461176, 0.05301...</td>\n",
       "      <td>0.904924</td>\n",
       "      <td>1.734967</td>\n",
       "    </tr>\n",
       "    <tr>\n",
       "      <th>11997</th>\n",
       "      <td>the cracchiolo law library of the james e. rog...</td>\n",
       "      <td>what is the fellowship in law librarianship of...</td>\n",
       "      <td>the fellowship in law librarianship is a progr...</td>\n",
       "      <td>[0.11425761, 0.004999416, 0.13181105, 0.180119...</td>\n",
       "      <td>0.978600</td>\n",
       "      <td>1.218177</td>\n",
       "    </tr>\n",
       "    <tr>\n",
       "      <th>11998</th>\n",
       "      <td>2nd physical emag store opens in mammut online...</td>\n",
       "      <td>where has the second physical emag store been ...</td>\n",
       "      <td>the second physical emag store has been opened...</td>\n",
       "      <td>[0.15222545, 0.008151223, 0.051334146, 0.08177...</td>\n",
       "      <td>0.958414</td>\n",
       "      <td>1.249325</td>\n",
       "    </tr>\n",
       "    <tr>\n",
       "      <th>11999</th>\n",
       "      <td>about this cadillac 2019 cadillac xt5 fwd 4dr ...</td>\n",
       "      <td>what are some of the key features of the 2019 ...</td>\n",
       "      <td>the 2019 cadillac xt5 comes equipped with feat...</td>\n",
       "      <td>[0.13935551, -0.10910422, 0.0054076933, 0.0237...</td>\n",
       "      <td>0.905624</td>\n",
       "      <td>2.718674</td>\n",
       "    </tr>\n",
       "  </tbody>\n",
       "</table>\n",
       "<p>11983 rows × 6 columns</p>\n",
       "</div>"
      ],
      "text/plain": [
       "                                                 context  \\\n",
       "0      caption: tasmanian berry grower nic hansen sho...   \n",
       "1      rwsn collaborations southern africa self-suppl...   \n",
       "2      all android applications categories descriptio...   \n",
       "3      how unequal is india? the question is simple, ...   \n",
       "4      gunnar nelson took his time on the feet agains...   \n",
       "...                                                  ...   \n",
       "11995  fuzzy's ultra premium vodka the myth, the man,...   \n",
       "11996  swedish grand prix rider malin nilsson got mar...   \n",
       "11997  the cracchiolo law library of the james e. rog...   \n",
       "11998  2nd physical emag store opens in mammut online...   \n",
       "11999  about this cadillac 2019 cadillac xt5 fwd 4dr ...   \n",
       "\n",
       "                                                question  \\\n",
       "0      what is the berry export summary 2028 and what...   \n",
       "1      what are some of the benefits reported from ha...   \n",
       "2      what are the unique features of the coolands f...   \n",
       "3      what is the main difference between the nation...   \n",
       "4      how did gunnar nelson win the fight against za...   \n",
       "...                                                  ...   \n",
       "11995  what are some of the achievements of fuzzy zoe...   \n",
       "11996        who did malin nilsson marry on 2 june 2018?   \n",
       "11997  what is the fellowship in law librarianship of...   \n",
       "11998  where has the second physical emag store been ...   \n",
       "11999  what are some of the key features of the 2019 ...   \n",
       "\n",
       "                                                  answer  \\\n",
       "0      the berry export summary 2028 is a dedicated e...   \n",
       "1      benefits reported from having access to self-s...   \n",
       "2      the unique features of the coolands for twitte...   \n",
       "3      the main difference between the nss and the ih...   \n",
       "4      gunnar nelson won the fight against zak cummin...   \n",
       "...                                                  ...   \n",
       "11995  fuzzy zoeller is known for his golfing success...   \n",
       "11996  malin nilsson got married to her partner, germ...   \n",
       "11997  the fellowship in law librarianship is a progr...   \n",
       "11998  the second physical emag store has been opened...   \n",
       "11999  the 2019 cadillac xt5 comes equipped with feat...   \n",
       "\n",
       "                                             context_vec  cos_similarity_100  \\\n",
       "0      [0.09504911, -0.049641673, 0.089875646, 0.0277...            0.955721   \n",
       "1      [0.1335789, -0.047594383, 0.0615254, 0.1200428...            0.982423   \n",
       "2      [0.17623802, 0.13942787, -0.0018227642, 0.1532...            0.963876   \n",
       "3      [0.15724678, -0.051185735, 0.12862964, 0.12895...            0.954969   \n",
       "4      [0.17708059, 0.06809667, 0.18565966, 0.0115498...            0.937649   \n",
       "...                                                  ...                 ...   \n",
       "11995  [0.06778479, -0.05240954, 0.07101283, 0.143693...            0.955014   \n",
       "11996  [0.06751342, -0.014983839, 0.10461176, 0.05301...            0.904924   \n",
       "11997  [0.11425761, 0.004999416, 0.13181105, 0.180119...            0.978600   \n",
       "11998  [0.15222545, 0.008151223, 0.051334146, 0.08177...            0.958414   \n",
       "11999  [0.13935551, -0.10910422, 0.0054076933, 0.0237...            0.905624   \n",
       "\n",
       "       euc_dict_100  \n",
       "0          1.647024  \n",
       "1          1.118146  \n",
       "2          1.541047  \n",
       "3          1.278227  \n",
       "4          1.508161  \n",
       "...             ...  \n",
       "11995      1.558333  \n",
       "11996      1.734967  \n",
       "11997      1.218177  \n",
       "11998      1.249325  \n",
       "11999      2.718674  \n",
       "\n",
       "[11983 rows x 6 columns]"
      ]
     },
     "execution_count": 267,
     "metadata": {},
     "output_type": "execute_result"
    }
   ],
   "source": [
    "# Добавляем близость и расстояние в датасет\n",
    "df_glove['cos_similarity_100'] = cos_sim\n",
    "df_glove['euc_dict_100'] = euc_dist\n",
    "df_glove"
   ]
  },
  {
   "cell_type": "code",
   "execution_count": 238,
   "metadata": {
    "colab": {
     "base_uri": "https://localhost:8080/",
     "height": 112
    },
    "id": "M97jOkhbBNRI",
    "outputId": "276e1cf7-9d1a-4997-f5b3-f7d35da9b359"
   },
   "outputs": [
    {
     "data": {
      "text/html": [
       "<div>\n",
       "<style scoped>\n",
       "    .dataframe tbody tr th:only-of-type {\n",
       "        vertical-align: middle;\n",
       "    }\n",
       "\n",
       "    .dataframe tbody tr th {\n",
       "        vertical-align: top;\n",
       "    }\n",
       "\n",
       "    .dataframe thead th {\n",
       "        text-align: right;\n",
       "    }\n",
       "</style>\n",
       "<table border=\"1\" class=\"dataframe\">\n",
       "  <thead>\n",
       "    <tr style=\"text-align: right;\">\n",
       "      <th></th>\n",
       "      <th>count</th>\n",
       "      <th>mean</th>\n",
       "      <th>std</th>\n",
       "      <th>min</th>\n",
       "      <th>25%</th>\n",
       "      <th>50%</th>\n",
       "      <th>75%</th>\n",
       "      <th>max</th>\n",
       "    </tr>\n",
       "  </thead>\n",
       "  <tbody>\n",
       "    <tr>\n",
       "      <th>cos_similarity_100</th>\n",
       "      <td>11981.0</td>\n",
       "      <td>0.852331</td>\n",
       "      <td>0.060056</td>\n",
       "      <td>0.00000</td>\n",
       "      <td>0.823396</td>\n",
       "      <td>0.862363</td>\n",
       "      <td>0.893854</td>\n",
       "      <td>0.974562</td>\n",
       "    </tr>\n",
       "    <tr>\n",
       "      <th>euc_dict_100</th>\n",
       "      <td>11981.0</td>\n",
       "      <td>1.331255</td>\n",
       "      <td>0.306164</td>\n",
       "      <td>0.53666</td>\n",
       "      <td>1.118106</td>\n",
       "      <td>1.290738</td>\n",
       "      <td>1.491720</td>\n",
       "      <td>4.489572</td>\n",
       "    </tr>\n",
       "  </tbody>\n",
       "</table>\n",
       "</div>"
      ],
      "text/plain": [
       "                      count      mean       std      min       25%       50%  \\\n",
       "cos_similarity_100  11981.0  0.852331  0.060056  0.00000  0.823396  0.862363   \n",
       "euc_dict_100        11981.0  1.331255  0.306164  0.53666  1.118106  1.290738   \n",
       "\n",
       "                         75%       max  \n",
       "cos_similarity_100  0.893854  0.974562  \n",
       "euc_dict_100        1.491720  4.489572  "
      ]
     },
     "execution_count": 238,
     "metadata": {},
     "output_type": "execute_result"
    }
   ],
   "source": [
    "df_glove.describe().T"
   ]
  },
  {
   "cell_type": "code",
   "execution_count": 269,
   "metadata": {
    "id": "YDl6kC0HBXSj"
   },
   "outputs": [
    {
     "data": {
      "text/html": [
       "<div>\n",
       "<style scoped>\n",
       "    .dataframe tbody tr th:only-of-type {\n",
       "        vertical-align: middle;\n",
       "    }\n",
       "\n",
       "    .dataframe tbody tr th {\n",
       "        vertical-align: top;\n",
       "    }\n",
       "\n",
       "    .dataframe thead th {\n",
       "        text-align: right;\n",
       "    }\n",
       "</style>\n",
       "<table border=\"1\" class=\"dataframe\">\n",
       "  <thead>\n",
       "    <tr style=\"text-align: right;\">\n",
       "      <th></th>\n",
       "      <th>context</th>\n",
       "      <th>question</th>\n",
       "      <th>answer</th>\n",
       "      <th>context_vec</th>\n",
       "      <th>cos_similarity_100</th>\n",
       "      <th>euc_dict_100</th>\n",
       "    </tr>\n",
       "  </thead>\n",
       "  <tbody>\n",
       "    <tr>\n",
       "      <th>7453</th>\n",
       "      <td>【学术活动预告】numerical characterization of powder f...</td>\n",
       "      <td>who is the speaker for the lecture on numerica...</td>\n",
       "      <td>the speaker for the lecture on numerical chara...</td>\n",
       "      <td>[0.37513217, -0.24063699, 0.05441612, -0.13101...</td>\n",
       "      <td>0.482954</td>\n",
       "      <td>4.293553</td>\n",
       "    </tr>\n",
       "    <tr>\n",
       "      <th>10225</th>\n",
       "      <td>@festivalbelia15 aksi kejuaraan silat puteri p...</td>\n",
       "      <td>what event is taking place at zon aktif, datar...</td>\n",
       "      <td>the event taking place at zon aktif, dataran g...</td>\n",
       "      <td>[-0.10401457, 0.14923306, 0.077006586, -0.0191...</td>\n",
       "      <td>0.486190</td>\n",
       "      <td>3.310278</td>\n",
       "    </tr>\n",
       "  </tbody>\n",
       "</table>\n",
       "</div>"
      ],
      "text/plain": [
       "                                                 context  \\\n",
       "7453   【学术活动预告】numerical characterization of powder f...   \n",
       "10225  @festivalbelia15 aksi kejuaraan silat puteri p...   \n",
       "\n",
       "                                                question  \\\n",
       "7453   who is the speaker for the lecture on numerica...   \n",
       "10225  what event is taking place at zon aktif, datar...   \n",
       "\n",
       "                                                  answer  \\\n",
       "7453   the speaker for the lecture on numerical chara...   \n",
       "10225  the event taking place at zon aktif, dataran g...   \n",
       "\n",
       "                                             context_vec  cos_similarity_100  \\\n",
       "7453   [0.37513217, -0.24063699, 0.05441612, -0.13101...            0.482954   \n",
       "10225  [-0.10401457, 0.14923306, 0.077006586, -0.0191...            0.486190   \n",
       "\n",
       "       euc_dict_100  \n",
       "7453       4.293553  \n",
       "10225      3.310278  "
      ]
     },
     "execution_count": 269,
     "metadata": {},
     "output_type": "execute_result"
    }
   ],
   "source": [
    "# смотрим на строку, у которых близость ниже 0,5\n",
    "df_glove.loc[df_glove['cos_similarity_100'] < 0.5]"
   ]
  },
  {
   "cell_type": "markdown",
   "metadata": {
    "id": "vXbzKbKkDNW7"
   },
   "source": [
    "Обнаружены 2 строки, где большинство слов не на английском языке.\n",
    "Лучше их удалить."
   ]
  },
  {
   "cell_type": "code",
   "execution_count": null,
   "metadata": {
    "id": "O9Y2BEoT7pYk"
   },
   "outputs": [],
   "source": [
    "df.drop(index=[7453, 10225], inplace=True)\n",
    "df.reset_index(drop=True, inplace=True) # обновление индексов"
   ]
  },
  {
   "cell_type": "markdown",
   "metadata": {
    "id": "w1qElJvhEQ5E"
   },
   "source": [
    "Анализ столбца с контекстами и ранжирование кандидатов на основе косинусного расстояния."
   ]
  },
  {
   "cell_type": "markdown",
   "metadata": {
    "id": "9zfUreXeoskB"
   },
   "source": [
    "#### search_01 (качество на glove-twitter-100)"
   ]
  },
  {
   "cell_type": "code",
   "execution_count": null,
   "metadata": {
    "colab": {
     "base_uri": "https://localhost:8080/"
    },
    "id": "7HrIXQ_QmrIs",
    "outputId": "3b1f8efe-f057-4b2c-a261-a7c4db9a8ad3"
   },
   "outputs": [
    {
     "name": "stderr",
     "output_type": "stream",
     "text": [
      "11981it [14:26, 13.82it/s]\n"
     ]
    }
   ],
   "source": [
    "# проходим по датасету и для каждого вопроса находим один релевантный ответ (запоминаем его индекс)\n",
    "# если найденный индекс совпал с оригинальным  для него ставим 1 в колонку eval, добавим колонку с найденными индексами\n",
    "\n",
    "top_ind_search_cos = []\n",
    "top_ind_search_euc = []\n",
    "\n",
    "for index, row in tqdm(df_glove.iterrows()):\n",
    "    results_search_cos = search(row['question'], df_glove, 'cos', model_glove_100, top_k=1)\n",
    "    top_ind_search_cos.append(results_search_cos.index[0])\n",
    "    results_search_euc =search(row['question'], df_glove, 'euc', model_glove_100, top_k=1)\n",
    "    top_ind_search_euc.append(results_search_euc.index[0])\n",
    "\n",
    "df_glove['top_ind_search_cos'] = top_ind_search_cos\n",
    "df_glove['top_ind_search_euc'] = top_ind_search_euc\n",
    "df_glove['eval_cos'] = (df_glove['top_ind_search_cos'] == df_glove.index).astype(int)\n",
    "df_glove['eval_euc'] = (df_glove['top_ind_search_euc'] == df_glove.index).astype(int)"
   ]
  },
  {
   "cell_type": "code",
   "execution_count": null,
   "metadata": {
    "colab": {
     "base_uri": "https://localhost:8080/",
     "height": 178
    },
    "id": "pDH9emoIDo0m",
    "outputId": "b284f843-5048-4152-cc77-c043820c6866"
   },
   "outputs": [
    {
     "data": {
      "text/html": [
       "<div>\n",
       "<style scoped>\n",
       "    .dataframe tbody tr th:only-of-type {\n",
       "        vertical-align: middle;\n",
       "    }\n",
       "\n",
       "    .dataframe tbody tr th {\n",
       "        vertical-align: top;\n",
       "    }\n",
       "\n",
       "    .dataframe thead th {\n",
       "        text-align: right;\n",
       "    }\n",
       "</style>\n",
       "<table border=\"1\" class=\"dataframe\">\n",
       "  <thead>\n",
       "    <tr style=\"text-align: right;\">\n",
       "      <th></th>\n",
       "      <th>proportion</th>\n",
       "    </tr>\n",
       "    <tr>\n",
       "      <th>eval_cos</th>\n",
       "      <th></th>\n",
       "    </tr>\n",
       "  </thead>\n",
       "  <tbody>\n",
       "    <tr>\n",
       "      <th>0</th>\n",
       "      <td>0.887238</td>\n",
       "    </tr>\n",
       "    <tr>\n",
       "      <th>1</th>\n",
       "      <td>0.112762</td>\n",
       "    </tr>\n",
       "  </tbody>\n",
       "</table>\n",
       "</div><br><label><b>dtype:</b> float64</label>"
      ],
      "text/plain": [
       "eval_cos\n",
       "0    0.887238\n",
       "1    0.112762\n",
       "Name: proportion, dtype: float64"
      ]
     },
     "execution_count": 41,
     "metadata": {},
     "output_type": "execute_result"
    }
   ],
   "source": [
    "df_glove['eval_cos'].value_counts(normalize = True)"
   ]
  },
  {
   "cell_type": "code",
   "execution_count": null,
   "metadata": {
    "colab": {
     "base_uri": "https://localhost:8080/",
     "height": 178
    },
    "id": "8q01sCTBtvqN",
    "outputId": "003f886f-2360-4f78-df06-23d9957868ba"
   },
   "outputs": [
    {
     "data": {
      "text/html": [
       "<div>\n",
       "<style scoped>\n",
       "    .dataframe tbody tr th:only-of-type {\n",
       "        vertical-align: middle;\n",
       "    }\n",
       "\n",
       "    .dataframe tbody tr th {\n",
       "        vertical-align: top;\n",
       "    }\n",
       "\n",
       "    .dataframe thead th {\n",
       "        text-align: right;\n",
       "    }\n",
       "</style>\n",
       "<table border=\"1\" class=\"dataframe\">\n",
       "  <thead>\n",
       "    <tr style=\"text-align: right;\">\n",
       "      <th></th>\n",
       "      <th>proportion</th>\n",
       "    </tr>\n",
       "    <tr>\n",
       "      <th>eval_euc</th>\n",
       "      <th></th>\n",
       "    </tr>\n",
       "  </thead>\n",
       "  <tbody>\n",
       "    <tr>\n",
       "      <th>0</th>\n",
       "      <td>0.912027</td>\n",
       "    </tr>\n",
       "    <tr>\n",
       "      <th>1</th>\n",
       "      <td>0.087973</td>\n",
       "    </tr>\n",
       "  </tbody>\n",
       "</table>\n",
       "</div><br><label><b>dtype:</b> float64</label>"
      ],
      "text/plain": [
       "eval_euc\n",
       "0    0.912027\n",
       "1    0.087973\n",
       "Name: proportion, dtype: float64"
      ]
     },
     "execution_count": 42,
     "metadata": {},
     "output_type": "execute_result"
    }
   ],
   "source": [
    "df_glove['eval_euc'].value_counts(normalize = True)"
   ]
  },
  {
   "cell_type": "code",
   "execution_count": null,
   "metadata": {
    "colab": {
     "base_uri": "https://localhost:8080/"
    },
    "id": "F30ttyGtYhdZ",
    "outputId": "34e8f164-2485-4624-ccf1-2371ae55b7c4"
   },
   "outputs": [
    {
     "name": "stdout",
     "output_type": "stream",
     "text": [
      "0.11276187296552875 0.08797262332025707\n"
     ]
    }
   ],
   "source": [
    "precision_cos = precision_score(df_glove.index, df_glove.top_ind_search_cos, average='micro')\n",
    "precision_euc = precision_score(df_glove.index, df_glove.top_ind_search_euc, average='micro')\n",
    "\n",
    "print(precision_cos, precision_euc)"
   ]
  },
  {
   "cell_type": "markdown",
   "metadata": {
    "id": "vickGC_tD-iT"
   },
   "source": [
    "### обучение Word2Vec на тексте из датасета"
   ]
  },
  {
   "cell_type": "code",
   "execution_count": 199,
   "metadata": {
    "colab": {
     "base_uri": "https://localhost:8080/"
    },
    "id": "z1SW46L3ERIk",
    "outputId": "ed470078-9bce-4d7c-9571-9f7abe604644"
   },
   "outputs": [
    {
     "data": {
      "text/plain": [
       "Index(['context', 'question', 'answer'], dtype='object')"
      ]
     },
     "execution_count": 199,
     "metadata": {},
     "output_type": "execute_result"
    }
   ],
   "source": [
    "df_w2v = df.copy()\n",
    "df_w2v.columns"
   ]
  },
  {
   "cell_type": "markdown",
   "metadata": {
    "id": "Wgnjwbn8BDUV"
   },
   "source": [
    "Препроцессинг текста для подачи в w2vec для обучения модели"
   ]
  },
  {
   "cell_type": "code",
   "execution_count": 200,
   "metadata": {
    "id": "TY5tNi5lBF7r"
   },
   "outputs": [],
   "source": [
    "STOPWORDS = set(nltk.corpus.stopwords.words('english') + ['-', '-', '–','&'])\n",
    "\n",
    "# набор функций для усиленного препроцессинга текста, чтобы в облаке слов не было предлогов, артиклей, цифр и других шумов\n",
    "\n",
    "# оставляем только слова и цифры, убираем пункцуацию\n",
    "def words_only(text):\n",
    "    return \" \".join(re.compile(\"[0-9A-Za-z]+\").findall(text))\n",
    "\n",
    "# удаление слов меньше 2-х букв\n",
    "def remove_word(text):\n",
    "    return \" \".join([token for token in text.split() if len(token) > 3])\n",
    "\n",
    "# удаление стоп слов\n",
    "def remove_stopwords(text, mystopwords = STOPWORDS):\n",
    "    try:\n",
    "        return \" \".join([token for token in text.split() if not token in mystopwords])\n",
    "    except:\n",
    "        return \"\"\n",
    "# приведение к нормальной форме\n",
    "# def lemmatize(text):\n",
    "#     lem = nltk.WordNetLemmatizer()\n",
    "#     try:\n",
    "#         return  \" \".join([lem.lemmatize(w) for w in text.split()])\n",
    "#     except:\n",
    "#         return \" \"\n",
    "\n",
    "# применение всех препроцессоров\n",
    "def prep(text):\n",
    "    # return remove_stopwords(lemmatize(remove_word(words_only(text.lower()))))\n",
    "    return remove_stopwords(remove_word(words_only(text.lower())))\n"
   ]
  },
  {
   "cell_type": "code",
   "execution_count": 201,
   "metadata": {
    "id": "6quGfwu3dHa7"
   },
   "outputs": [],
   "source": [
    "def clear_text(text):\n",
    "    #  разбиение на предложения + препроцессинг\n",
    "    sentences = []\n",
    "    for text_i in text:\n",
    "        for el in sent_tokenize(text_i):\n",
    "            sentences.append(el)\n",
    "\n",
    "    return [prep(sentence).split() for sentence in tqdm(sentences)]"
   ]
  },
  {
   "cell_type": "code",
   "execution_count": 202,
   "metadata": {
    "colab": {
     "base_uri": "https://localhost:8080/"
    },
    "id": "VPQ7rbcjJmQI",
    "outputId": "0ba8e35b-5d94-4909-d6a6-800e4578a3ad"
   },
   "outputs": [
    {
     "name": "stderr",
     "output_type": "stream",
     "text": [
      "100%|██████████| 348584/348584 [00:05<00:00, 59604.66it/s] \n",
      "100%|██████████| 12064/12064 [00:00<00:00, 144316.84it/s]\n"
     ]
    },
    {
     "data": {
      "text/plain": [
       "360648"
      ]
     },
     "execution_count": 202,
     "metadata": {},
     "output_type": "execute_result"
    }
   ],
   "source": [
    "corpus_1 = clear_text(df_w2v.context) # колонка с контекстами\n",
    "corpus_2 = clear_text(df_w2v.question) # колонка с вопросами\n",
    "text = corpus_1 + corpus_2\n",
    "len(text)"
   ]
  },
  {
   "cell_type": "markdown",
   "metadata": {
    "id": "KWsUbAOunAN6"
   },
   "source": [
    "Здесь мы обучаем две моддели с длиной вектора 1536 (это понадобиться в будущем для эксперимента).\n",
    "\n",
    "И вторую модель с векторами длиной в 1000, на которых будем производить оценку работы с w2vec."
   ]
  },
  {
   "cell_type": "code",
   "execution_count": 43,
   "metadata": {
    "colab": {
     "base_uri": "https://localhost:8080/"
    },
    "id": "1NEjIHt7AR-B",
    "outputId": "20eb8a36-16f0-4789-d9d4-b61fedbc32b8"
   },
   "outputs": [],
   "source": [
    "# инициализация модели\n",
    "# используем Skip-gram она использует текущее слово, чтобы предугадывать окружающие его слова.\n",
    "# при использовании cbow предсказывает текущее слово, исходя из окружающего его контекста поиск похожих слов производится хуже\n",
    "# min_count=1 - берем слова, даже если они встретились 1 раз,  window=10 - окно контекста 10 слов\n",
    "\n",
    "# Модель для эксперимента с замерами времени\n",
    "model_w2v_1536 = Word2Vec(text, workers=4, vector_size=1536, min_count=1, sg = 1, window=10, seed=42)"
   ]
  },
  {
   "cell_type": "code",
   "execution_count": 44,
   "metadata": {},
   "outputs": [],
   "source": [
    "model_w2v_1536.save(\"word2vec.model\")\n",
    "w2v_rag_1536 = model_w2v_1536.wv"
   ]
  },
  {
   "cell_type": "code",
   "execution_count": 51,
   "metadata": {
    "id": "i-a7kSSoLqwE"
   },
   "outputs": [],
   "source": [
    "# данные для эксперимента\n",
    "w2v_rag_1536 = model_w2v_1536.wv\n",
    "df_w2v_1536 = df_w2v.copy()\n",
    "df_w2v_1536['context_vec'] = df_w2v_1536['context'].apply(lambda x: get_phrase_embedding(x, w2v_rag_1536))"
   ]
  },
  {
   "cell_type": "markdown",
   "metadata": {
    "id": "bwoZpdAJ_kPh"
   },
   "source": [
    "Обучение своей модели с длиной эмбеддинга 1000. По ранее проведенному EDA было установлено, что максимальная длина текстов 1200, чтобы не терять контекст, установим длину вектора в 1000"
   ]
  },
  {
   "cell_type": "code",
   "execution_count": 52,
   "metadata": {
    "colab": {
     "base_uri": "https://localhost:8080/"
    },
    "id": "OuqIQ4suPO8N",
    "outputId": "377e98b3-871f-4789-f51f-4a29cba7fa80"
   },
   "outputs": [],
   "source": [
    "# рабочая модель, которую оцениваем по качеству поиска\n",
    "model_w2v_1000 = Word2Vec(text, workers=4, vector_size=1000, min_count=1, sg = 1, window=10, seed=42)"
   ]
  },
  {
   "cell_type": "code",
   "execution_count": null,
   "metadata": {
    "id": "jn3ofJkErwKR"
   },
   "outputs": [],
   "source": [
    "# model_w2v_1000.save(\"word2vec_1000.model\")\n",
    "# model_w2v = Word2Vec.load(\"word2vec.model\")\n",
    "# w2v_rag_1000.save(\"1000.model\")"
   ]
  },
  {
   "cell_type": "code",
   "execution_count": 53,
   "metadata": {
    "id": "YMWlYBQmXqhJ"
   },
   "outputs": [],
   "source": [
    "# модель с длиной эмбеддинга 1000\n",
    "w2v_rag_1000= model_w2v_1000.wv"
   ]
  },
  {
   "cell_type": "code",
   "execution_count": 38,
   "metadata": {
    "colab": {
     "base_uri": "https://localhost:8080/"
    },
    "id": "mlcyTrk__nAG",
    "outputId": "c1fceae1-ddf9-4477-9516-f86be4e55fba"
   },
   "outputs": [
    {
     "data": {
      "text/plain": [
       "[('worldskills', 0.5873443484306335),\n",
       " ('olympiad', 0.5800009369850159),\n",
       " ('kazakhstan', 0.561029851436615),\n",
       " ('basel', 0.5571545362472534),\n",
       " ('qantas', 0.5561686158180237)]"
      ]
     },
     "execution_count": 38,
     "metadata": {},
     "output_type": "execute_result"
    }
   ],
   "source": [
    "# проверка работы модели\n",
    "w2v_rag_1000.most_similar(positive=[\"international\"], topn=5)"
   ]
  },
  {
   "cell_type": "markdown",
   "metadata": {
    "id": "aBzLyXYVUEfD"
   },
   "source": [
    "#### search_02(оценка качества)"
   ]
  },
  {
   "cell_type": "code",
   "execution_count": 232,
   "metadata": {
    "id": "DS2PpmG2T8Su"
   },
   "outputs": [],
   "source": [
    "# Добавляем столбец с эмбеддингами контекста (длина вектора 1000) в датасет, чтобы использовать дальше\n",
    "df_w2v['context_vec'] = df_w2v['context'].apply(lambda x: get_phrase_embedding(x, w2v_rag_1000))"
   ]
  },
  {
   "cell_type": "code",
   "execution_count": 233,
   "metadata": {
    "colab": {
     "base_uri": "https://localhost:8080/",
     "height": 459
    },
    "id": "LzbmF9MgVvKi",
    "outputId": "2e8461ec-8b73-46a8-e2d5-1a2ea5b19059"
   },
   "outputs": [
    {
     "name": "stderr",
     "output_type": "stream",
     "text": [
      "11981it [00:17, 678.49it/s]\n",
      "11981it [00:17, 697.21it/s]\n"
     ]
    },
    {
     "data": {
      "text/html": [
       "<div>\n",
       "<style scoped>\n",
       "    .dataframe tbody tr th:only-of-type {\n",
       "        vertical-align: middle;\n",
       "    }\n",
       "\n",
       "    .dataframe tbody tr th {\n",
       "        vertical-align: top;\n",
       "    }\n",
       "\n",
       "    .dataframe thead th {\n",
       "        text-align: right;\n",
       "    }\n",
       "</style>\n",
       "<table border=\"1\" class=\"dataframe\">\n",
       "  <thead>\n",
       "    <tr style=\"text-align: right;\">\n",
       "      <th></th>\n",
       "      <th>context</th>\n",
       "      <th>question</th>\n",
       "      <th>answer</th>\n",
       "      <th>context_vec</th>\n",
       "      <th>cos_similarity_w2v</th>\n",
       "      <th>euc_dict_w2v</th>\n",
       "    </tr>\n",
       "  </thead>\n",
       "  <tbody>\n",
       "    <tr>\n",
       "      <th>0</th>\n",
       "      <td>caption: tasmanian berry grower nic hansen sho...</td>\n",
       "      <td>what is the berry export summary 2028 and what...</td>\n",
       "      <td>the berry export summary 2028 is a dedicated e...</td>\n",
       "      <td>[0.03363177, 0.054826614, -0.020893654, 0.0101...</td>\n",
       "      <td>0.853297</td>\n",
       "      <td>1.185740</td>\n",
       "    </tr>\n",
       "    <tr>\n",
       "      <th>1</th>\n",
       "      <td>rwsn collaborations southern africa self-suppl...</td>\n",
       "      <td>what are some of the benefits reported from ha...</td>\n",
       "      <td>benefits reported from having access to self-s...</td>\n",
       "      <td>[0.018075626, 0.03999233, -0.03049925, 0.03014...</td>\n",
       "      <td>0.911614</td>\n",
       "      <td>1.170354</td>\n",
       "    </tr>\n",
       "    <tr>\n",
       "      <th>2</th>\n",
       "      <td>all android applications categories descriptio...</td>\n",
       "      <td>what are the unique features of the coolands f...</td>\n",
       "      <td>the unique features of the coolands for twitte...</td>\n",
       "      <td>[0.014879584, 0.015688213, -0.0041411635, 0.04...</td>\n",
       "      <td>0.771513</td>\n",
       "      <td>1.586742</td>\n",
       "    </tr>\n",
       "    <tr>\n",
       "      <th>3</th>\n",
       "      <td>how unequal is india? the question is simple, ...</td>\n",
       "      <td>what is the main difference between the nation...</td>\n",
       "      <td>the main difference between the nss and the ih...</td>\n",
       "      <td>[0.04067226, 0.039211955, -0.031194255, 0.0341...</td>\n",
       "      <td>0.921573</td>\n",
       "      <td>0.958815</td>\n",
       "    </tr>\n",
       "    <tr>\n",
       "      <th>4</th>\n",
       "      <td>gunnar nelson took his time on the feet agains...</td>\n",
       "      <td>how did gunnar nelson win the fight against za...</td>\n",
       "      <td>gunnar nelson won the fight against zak cummin...</td>\n",
       "      <td>[0.034368947, 0.007700634, -0.0026054732, 0.05...</td>\n",
       "      <td>0.818377</td>\n",
       "      <td>1.325763</td>\n",
       "    </tr>\n",
       "    <tr>\n",
       "      <th>...</th>\n",
       "      <td>...</td>\n",
       "      <td>...</td>\n",
       "      <td>...</td>\n",
       "      <td>...</td>\n",
       "      <td>...</td>\n",
       "      <td>...</td>\n",
       "    </tr>\n",
       "    <tr>\n",
       "      <th>11976</th>\n",
       "      <td>fuzzy's ultra premium vodka the myth, the man,...</td>\n",
       "      <td>what are some of the achievements of fuzzy zoe...</td>\n",
       "      <td>fuzzy zoeller is known for his golfing success...</td>\n",
       "      <td>[0.04326153, -0.006483441, 0.0047294553, 0.035...</td>\n",
       "      <td>0.821762</td>\n",
       "      <td>1.336086</td>\n",
       "    </tr>\n",
       "    <tr>\n",
       "      <th>11977</th>\n",
       "      <td>swedish grand prix rider malin nilsson got mar...</td>\n",
       "      <td>who did malin nilsson marry on 2 june 2018?</td>\n",
       "      <td>malin nilsson got married to her partner, germ...</td>\n",
       "      <td>[0.02250488, 0.025335042, -0.0033836027, 0.013...</td>\n",
       "      <td>0.809089</td>\n",
       "      <td>1.296191</td>\n",
       "    </tr>\n",
       "    <tr>\n",
       "      <th>11978</th>\n",
       "      <td>the cracchiolo law library of the james e. rog...</td>\n",
       "      <td>what is the fellowship in law librarianship of...</td>\n",
       "      <td>the fellowship in law librarianship is a progr...</td>\n",
       "      <td>[0.0030598838, 0.009576085, -0.050387494, -0.0...</td>\n",
       "      <td>0.908839</td>\n",
       "      <td>1.034287</td>\n",
       "    </tr>\n",
       "    <tr>\n",
       "      <th>11979</th>\n",
       "      <td>2nd physical emag store opens in mammut online...</td>\n",
       "      <td>where has the second physical emag store been ...</td>\n",
       "      <td>the second physical emag store has been opened...</td>\n",
       "      <td>[0.0044637537, 0.046248544, 0.0044615343, 0.02...</td>\n",
       "      <td>0.877997</td>\n",
       "      <td>1.227666</td>\n",
       "    </tr>\n",
       "    <tr>\n",
       "      <th>11980</th>\n",
       "      <td>about this cadillac 2019 cadillac xt5 fwd 4dr ...</td>\n",
       "      <td>what are some of the key features of the 2019 ...</td>\n",
       "      <td>the 2019 cadillac xt5 comes equipped with feat...</td>\n",
       "      <td>[0.025784787, 0.020883497, -0.035792317, 0.060...</td>\n",
       "      <td>0.685886</td>\n",
       "      <td>1.934647</td>\n",
       "    </tr>\n",
       "  </tbody>\n",
       "</table>\n",
       "<p>11981 rows × 6 columns</p>\n",
       "</div>"
      ],
      "text/plain": [
       "                                                 context  \\\n",
       "0      caption: tasmanian berry grower nic hansen sho...   \n",
       "1      rwsn collaborations southern africa self-suppl...   \n",
       "2      all android applications categories descriptio...   \n",
       "3      how unequal is india? the question is simple, ...   \n",
       "4      gunnar nelson took his time on the feet agains...   \n",
       "...                                                  ...   \n",
       "11976  fuzzy's ultra premium vodka the myth, the man,...   \n",
       "11977  swedish grand prix rider malin nilsson got mar...   \n",
       "11978  the cracchiolo law library of the james e. rog...   \n",
       "11979  2nd physical emag store opens in mammut online...   \n",
       "11980  about this cadillac 2019 cadillac xt5 fwd 4dr ...   \n",
       "\n",
       "                                                question  \\\n",
       "0      what is the berry export summary 2028 and what...   \n",
       "1      what are some of the benefits reported from ha...   \n",
       "2      what are the unique features of the coolands f...   \n",
       "3      what is the main difference between the nation...   \n",
       "4      how did gunnar nelson win the fight against za...   \n",
       "...                                                  ...   \n",
       "11976  what are some of the achievements of fuzzy zoe...   \n",
       "11977        who did malin nilsson marry on 2 june 2018?   \n",
       "11978  what is the fellowship in law librarianship of...   \n",
       "11979  where has the second physical emag store been ...   \n",
       "11980  what are some of the key features of the 2019 ...   \n",
       "\n",
       "                                                  answer  \\\n",
       "0      the berry export summary 2028 is a dedicated e...   \n",
       "1      benefits reported from having access to self-s...   \n",
       "2      the unique features of the coolands for twitte...   \n",
       "3      the main difference between the nss and the ih...   \n",
       "4      gunnar nelson won the fight against zak cummin...   \n",
       "...                                                  ...   \n",
       "11976  fuzzy zoeller is known for his golfing success...   \n",
       "11977  malin nilsson got married to her partner, germ...   \n",
       "11978  the fellowship in law librarianship is a progr...   \n",
       "11979  the second physical emag store has been opened...   \n",
       "11980  the 2019 cadillac xt5 comes equipped with feat...   \n",
       "\n",
       "                                             context_vec  cos_similarity_w2v  \\\n",
       "0      [0.03363177, 0.054826614, -0.020893654, 0.0101...            0.853297   \n",
       "1      [0.018075626, 0.03999233, -0.03049925, 0.03014...            0.911614   \n",
       "2      [0.014879584, 0.015688213, -0.0041411635, 0.04...            0.771513   \n",
       "3      [0.04067226, 0.039211955, -0.031194255, 0.0341...            0.921573   \n",
       "4      [0.034368947, 0.007700634, -0.0026054732, 0.05...            0.818377   \n",
       "...                                                  ...                 ...   \n",
       "11976  [0.04326153, -0.006483441, 0.0047294553, 0.035...            0.821762   \n",
       "11977  [0.02250488, 0.025335042, -0.0033836027, 0.013...            0.809089   \n",
       "11978  [0.0030598838, 0.009576085, -0.050387494, -0.0...            0.908839   \n",
       "11979  [0.0044637537, 0.046248544, 0.0044615343, 0.02...            0.877997   \n",
       "11980  [0.025784787, 0.020883497, -0.035792317, 0.060...            0.685886   \n",
       "\n",
       "       euc_dict_w2v  \n",
       "0          1.185740  \n",
       "1          1.170354  \n",
       "2          1.586742  \n",
       "3          0.958815  \n",
       "4          1.325763  \n",
       "...             ...  \n",
       "11976      1.336086  \n",
       "11977      1.296191  \n",
       "11978      1.034287  \n",
       "11979      1.227666  \n",
       "11980      1.934647  \n",
       "\n",
       "[11981 rows x 6 columns]"
      ]
     },
     "execution_count": 233,
     "metadata": {},
     "output_type": "execute_result"
    }
   ],
   "source": [
    "# расчет близости и дистанции для каждого вопроса со своим контекстом\n",
    "cos_sim = similarity(df_w2v, 'cos', w2v_rag_1000)\n",
    "euc_dist = similarity(df_w2v, 'euc', w2v_rag_1000)\n",
    "df_w2v['cos_similarity_w2v'] = cos_sim\n",
    "df_w2v['euc_dict_w2v'] = euc_dist\n",
    "df_w2v"
   ]
  },
  {
   "cell_type": "code",
   "execution_count": 234,
   "metadata": {
    "colab": {
     "base_uri": "https://localhost:8080/",
     "height": 112
    },
    "id": "h1qMoL0Zpgxo",
    "outputId": "4d2a8457-9932-4905-c0f6-1fe7ff70c45d"
   },
   "outputs": [
    {
     "data": {
      "text/html": [
       "<div>\n",
       "<style scoped>\n",
       "    .dataframe tbody tr th:only-of-type {\n",
       "        vertical-align: middle;\n",
       "    }\n",
       "\n",
       "    .dataframe tbody tr th {\n",
       "        vertical-align: top;\n",
       "    }\n",
       "\n",
       "    .dataframe thead th {\n",
       "        text-align: right;\n",
       "    }\n",
       "</style>\n",
       "<table border=\"1\" class=\"dataframe\">\n",
       "  <thead>\n",
       "    <tr style=\"text-align: right;\">\n",
       "      <th></th>\n",
       "      <th>count</th>\n",
       "      <th>mean</th>\n",
       "      <th>std</th>\n",
       "      <th>min</th>\n",
       "      <th>25%</th>\n",
       "      <th>50%</th>\n",
       "      <th>75%</th>\n",
       "      <th>max</th>\n",
       "    </tr>\n",
       "  </thead>\n",
       "  <tbody>\n",
       "    <tr>\n",
       "      <th>cos_similarity_w2v</th>\n",
       "      <td>11981.0</td>\n",
       "      <td>0.852331</td>\n",
       "      <td>0.060056</td>\n",
       "      <td>0.00000</td>\n",
       "      <td>0.823396</td>\n",
       "      <td>0.862363</td>\n",
       "      <td>0.893854</td>\n",
       "      <td>0.974562</td>\n",
       "    </tr>\n",
       "    <tr>\n",
       "      <th>euc_dict_w2v</th>\n",
       "      <td>11981.0</td>\n",
       "      <td>1.331255</td>\n",
       "      <td>0.306164</td>\n",
       "      <td>0.53666</td>\n",
       "      <td>1.118106</td>\n",
       "      <td>1.290738</td>\n",
       "      <td>1.491720</td>\n",
       "      <td>4.489572</td>\n",
       "    </tr>\n",
       "  </tbody>\n",
       "</table>\n",
       "</div>"
      ],
      "text/plain": [
       "                      count      mean       std      min       25%       50%  \\\n",
       "cos_similarity_w2v  11981.0  0.852331  0.060056  0.00000  0.823396  0.862363   \n",
       "euc_dict_w2v        11981.0  1.331255  0.306164  0.53666  1.118106  1.290738   \n",
       "\n",
       "                         75%       max  \n",
       "cos_similarity_w2v  0.893854  0.974562  \n",
       "euc_dict_w2v        1.491720  4.489572  "
      ]
     },
     "execution_count": 234,
     "metadata": {},
     "output_type": "execute_result"
    }
   ],
   "source": [
    "df_w2v.describe().T"
   ]
  },
  {
   "cell_type": "code",
   "execution_count": 235,
   "metadata": {
    "colab": {
     "base_uri": "https://localhost:8080/",
     "height": 206
    },
    "id": "Rt5B2W_NWJa5",
    "outputId": "84a2ea0e-f49b-42c9-ea82-0dbc21d10b05"
   },
   "outputs": [
    {
     "data": {
      "text/html": [
       "<div>\n",
       "<style scoped>\n",
       "    .dataframe tbody tr th:only-of-type {\n",
       "        vertical-align: middle;\n",
       "    }\n",
       "\n",
       "    .dataframe tbody tr th {\n",
       "        vertical-align: top;\n",
       "    }\n",
       "\n",
       "    .dataframe thead th {\n",
       "        text-align: right;\n",
       "    }\n",
       "</style>\n",
       "<table border=\"1\" class=\"dataframe\">\n",
       "  <thead>\n",
       "    <tr style=\"text-align: right;\">\n",
       "      <th></th>\n",
       "      <th>context</th>\n",
       "      <th>question</th>\n",
       "      <th>answer</th>\n",
       "      <th>context_vec</th>\n",
       "      <th>cos_similarity_w2v</th>\n",
       "      <th>euc_dict_w2v</th>\n",
       "    </tr>\n",
       "  </thead>\n",
       "  <tbody>\n",
       "    <tr>\n",
       "      <th>413</th>\n",
       "      <td>funny or die search see all results history or...</td>\n",
       "      <td>what is the web series \"get hit\" about?</td>\n",
       "      <td>the web series \"get hit\" is about two viral vi...</td>\n",
       "      <td>[0.03517157, 0.0076769507, -0.00240897, 0.0397...</td>\n",
       "      <td>0.460176</td>\n",
       "      <td>4.240878</td>\n",
       "    </tr>\n",
       "    <tr>\n",
       "      <th>1375</th>\n",
       "      <td>thinking about opening a coffee shop? consider...</td>\n",
       "      <td>what is the power of the cup®?</td>\n",
       "      <td>the power of the cup® is a proven system for o...</td>\n",
       "      <td>[0.023659986, 0.0054824417, 0.017328355, 0.032...</td>\n",
       "      <td>0.433916</td>\n",
       "      <td>4.489572</td>\n",
       "    </tr>\n",
       "    <tr>\n",
       "      <th>2611</th>\n",
       "      <td>why we started paw.com and we believe we shoul...</td>\n",
       "      <td>who is the ceo of paw.com?</td>\n",
       "      <td>the ceo of paw.com is marlie, the founder's dog.</td>\n",
       "      <td>[0.05545666, 0.0017477979, -0.004681185, 0.035...</td>\n",
       "      <td>0.000000</td>\n",
       "      <td>2.229920</td>\n",
       "    </tr>\n",
       "    <tr>\n",
       "      <th>5423</th>\n",
       "      <td>one ca plaza islandia, ny 11749 hq phone: 800-...</td>\n",
       "      <td>who is the ceo of ca inc?</td>\n",
       "      <td>the ceo of ca inc is michael gregoire.</td>\n",
       "      <td>[-0.040363085, 0.00542269, -0.04912982, 0.0084...</td>\n",
       "      <td>0.000000</td>\n",
       "      <td>2.274377</td>\n",
       "    </tr>\n",
       "    <tr>\n",
       "      <th>5651</th>\n",
       "      <td>expoconstruccion &amp; expodiseño 2017 is an inter...</td>\n",
       "      <td>what is expoconstruccion &amp; expodiseño 2017?</td>\n",
       "      <td>expoconstruccion &amp; expodiseño 2017 is an inter...</td>\n",
       "      <td>[0.034700647, -0.013829315, 0.0076777223, 0.03...</td>\n",
       "      <td>0.438212</td>\n",
       "      <td>2.708447</td>\n",
       "    </tr>\n",
       "    <tr>\n",
       "      <th>10157</th>\n",
       "      <td>the start of the 2016 major league baseball se...</td>\n",
       "      <td>what is the purpose of the mlb.com at bat app?</td>\n",
       "      <td>the mlb.com at bat app is designed to stream a...</td>\n",
       "      <td>[0.016760584, 0.010649627, -0.0040048575, 0.06...</td>\n",
       "      <td>0.496222</td>\n",
       "      <td>3.311338</td>\n",
       "    </tr>\n",
       "  </tbody>\n",
       "</table>\n",
       "</div>"
      ],
      "text/plain": [
       "                                                 context  \\\n",
       "413    funny or die search see all results history or...   \n",
       "1375   thinking about opening a coffee shop? consider...   \n",
       "2611   why we started paw.com and we believe we shoul...   \n",
       "5423   one ca plaza islandia, ny 11749 hq phone: 800-...   \n",
       "5651   expoconstruccion & expodiseño 2017 is an inter...   \n",
       "10157  the start of the 2016 major league baseball se...   \n",
       "\n",
       "                                             question  \\\n",
       "413           what is the web series \"get hit\" about?   \n",
       "1375                   what is the power of the cup®?   \n",
       "2611                       who is the ceo of paw.com?   \n",
       "5423                        who is the ceo of ca inc?   \n",
       "5651      what is expoconstruccion & expodiseño 2017?   \n",
       "10157  what is the purpose of the mlb.com at bat app?   \n",
       "\n",
       "                                                  answer  \\\n",
       "413    the web series \"get hit\" is about two viral vi...   \n",
       "1375   the power of the cup® is a proven system for o...   \n",
       "2611    the ceo of paw.com is marlie, the founder's dog.   \n",
       "5423              the ceo of ca inc is michael gregoire.   \n",
       "5651   expoconstruccion & expodiseño 2017 is an inter...   \n",
       "10157  the mlb.com at bat app is designed to stream a...   \n",
       "\n",
       "                                             context_vec  cos_similarity_w2v  \\\n",
       "413    [0.03517157, 0.0076769507, -0.00240897, 0.0397...            0.460176   \n",
       "1375   [0.023659986, 0.0054824417, 0.017328355, 0.032...            0.433916   \n",
       "2611   [0.05545666, 0.0017477979, -0.004681185, 0.035...            0.000000   \n",
       "5423   [-0.040363085, 0.00542269, -0.04912982, 0.0084...            0.000000   \n",
       "5651   [0.034700647, -0.013829315, 0.0076777223, 0.03...            0.438212   \n",
       "10157  [0.016760584, 0.010649627, -0.0040048575, 0.06...            0.496222   \n",
       "\n",
       "       euc_dict_w2v  \n",
       "413        4.240878  \n",
       "1375       4.489572  \n",
       "2611       2.229920  \n",
       "5423       2.274377  \n",
       "5651       2.708447  \n",
       "10157      3.311338  "
      ]
     },
     "execution_count": 235,
     "metadata": {},
     "output_type": "execute_result"
    }
   ],
   "source": [
    "df_w2v.loc[df_w2v['cos_similarity_w2v'] < 0.5]"
   ]
  },
  {
   "cell_type": "markdown",
   "metadata": {
    "id": "QAI6Jz2YWrGc"
   },
   "source": [
    "Нашлись строки у которых близость между вопросом и ответом очень низкая, и при этом эвклидово расстояние довольно большое. Возможно эти строки нужно удалить."
   ]
  },
  {
   "cell_type": "code",
   "execution_count": 192,
   "metadata": {
    "colab": {
     "base_uri": "https://localhost:8080/"
    },
    "id": "jAXQKWg-UT1L",
    "outputId": "24cae912-045c-4236-ab23-43e44ae9fc47"
   },
   "outputs": [
    {
     "name": "stderr",
     "output_type": "stream",
     "text": [
      "11981it [11:12, 17.81it/s]\n"
     ]
    }
   ],
   "source": [
    "# выполнение поиска для всех вопросов ответа и вывод индекса топ_1,\n",
    "# если он совпал с тем, что в датасете для него ставим 1 в колонку eval, добавим колонку в индексами топ1\n",
    "\n",
    "top_ind_search_cos = []\n",
    "top_ind_search_euc = []\n",
    "\n",
    "for index, row in tqdm(df_w2v.iterrows()):\n",
    "    results_search_cos = search(row['question'], df_w2v, 'cos', w2v_rag_1000, top_k=1)\n",
    "    top_ind_search_cos.append(results_search_cos.index[0])\n",
    "    results_search_euc =search(row['question'], df_w2v, 'euc', w2v_rag_1000, top_k=1)\n",
    "    top_ind_search_euc.append(results_search_euc.index[0])\n",
    "\n",
    "df_w2v['top_ind_search_cos'] = top_ind_search_cos\n",
    "df_w2v['top_ind_search_euc'] = top_ind_search_euc\n",
    "df_w2v['eval_cos'] = (df_w2v['top_ind_search_cos'] == df_w2v.index).astype(int)\n",
    "df_w2v['eval_euc'] = (df_w2v['top_ind_search_euc'] == df_w2v.index).astype(int)"
   ]
  },
  {
   "cell_type": "code",
   "execution_count": 194,
   "metadata": {
    "colab": {
     "base_uri": "https://localhost:8080/",
     "height": 293
    },
    "id": "06pY3wVrigrk",
    "outputId": "03c20d00-7c13-43da-902a-d33e727f689e"
   },
   "outputs": [
    {
     "data": {
      "text/html": [
       "<div>\n",
       "<style scoped>\n",
       "    .dataframe tbody tr th:only-of-type {\n",
       "        vertical-align: middle;\n",
       "    }\n",
       "\n",
       "    .dataframe tbody tr th {\n",
       "        vertical-align: top;\n",
       "    }\n",
       "\n",
       "    .dataframe thead th {\n",
       "        text-align: right;\n",
       "    }\n",
       "</style>\n",
       "<table border=\"1\" class=\"dataframe\">\n",
       "  <thead>\n",
       "    <tr style=\"text-align: right;\">\n",
       "      <th></th>\n",
       "      <th>context</th>\n",
       "      <th>question</th>\n",
       "      <th>answer</th>\n",
       "      <th>context_vec</th>\n",
       "      <th>cos_similarity_w2v</th>\n",
       "      <th>euc_dict_w2v</th>\n",
       "      <th>top_ind_search_cos</th>\n",
       "      <th>top_ind_search_euc</th>\n",
       "      <th>eval_cos</th>\n",
       "      <th>eval_euc</th>\n",
       "    </tr>\n",
       "  </thead>\n",
       "  <tbody>\n",
       "    <tr>\n",
       "      <th>0</th>\n",
       "      <td>caption: tasmanian berry grower nic hansen sho...</td>\n",
       "      <td>what is the berry export summary 2028 and what...</td>\n",
       "      <td>the berry export summary 2028 is a dedicated e...</td>\n",
       "      <td>[0.03363177, 0.054826614, -0.020893654, 0.0101...</td>\n",
       "      <td>0.853297</td>\n",
       "      <td>1.185740</td>\n",
       "      <td>3977</td>\n",
       "      <td>9573</td>\n",
       "      <td>0</td>\n",
       "      <td>0</td>\n",
       "    </tr>\n",
       "    <tr>\n",
       "      <th>1</th>\n",
       "      <td>rwsn collaborations southern africa self-suppl...</td>\n",
       "      <td>what are some of the benefits reported from ha...</td>\n",
       "      <td>benefits reported from having access to self-s...</td>\n",
       "      <td>[0.018075626, 0.03999233, -0.03049925, 0.03014...</td>\n",
       "      <td>0.911614</td>\n",
       "      <td>1.170354</td>\n",
       "      <td>1</td>\n",
       "      <td>1</td>\n",
       "      <td>1</td>\n",
       "      <td>1</td>\n",
       "    </tr>\n",
       "    <tr>\n",
       "      <th>2</th>\n",
       "      <td>all android applications categories descriptio...</td>\n",
       "      <td>what are the unique features of the coolands f...</td>\n",
       "      <td>the unique features of the coolands for twitte...</td>\n",
       "      <td>[0.014879584, 0.015688213, -0.0041411635, 0.04...</td>\n",
       "      <td>0.771513</td>\n",
       "      <td>1.586742</td>\n",
       "      <td>926</td>\n",
       "      <td>926</td>\n",
       "      <td>0</td>\n",
       "      <td>0</td>\n",
       "    </tr>\n",
       "    <tr>\n",
       "      <th>3</th>\n",
       "      <td>how unequal is india? the question is simple, ...</td>\n",
       "      <td>what is the main difference between the nation...</td>\n",
       "      <td>the main difference between the nss and the ih...</td>\n",
       "      <td>[0.04067226, 0.039211955, -0.031194255, 0.0341...</td>\n",
       "      <td>0.921573</td>\n",
       "      <td>0.958815</td>\n",
       "      <td>3</td>\n",
       "      <td>3</td>\n",
       "      <td>1</td>\n",
       "      <td>1</td>\n",
       "    </tr>\n",
       "    <tr>\n",
       "      <th>4</th>\n",
       "      <td>gunnar nelson took his time on the feet agains...</td>\n",
       "      <td>how did gunnar nelson win the fight against za...</td>\n",
       "      <td>gunnar nelson won the fight against zak cummin...</td>\n",
       "      <td>[0.034368947, 0.007700634, -0.0026054732, 0.05...</td>\n",
       "      <td>0.818377</td>\n",
       "      <td>1.325763</td>\n",
       "      <td>11898</td>\n",
       "      <td>11898</td>\n",
       "      <td>0</td>\n",
       "      <td>0</td>\n",
       "    </tr>\n",
       "  </tbody>\n",
       "</table>\n",
       "</div>"
      ],
      "text/plain": [
       "                                             context  \\\n",
       "0  caption: tasmanian berry grower nic hansen sho...   \n",
       "1  rwsn collaborations southern africa self-suppl...   \n",
       "2  all android applications categories descriptio...   \n",
       "3  how unequal is india? the question is simple, ...   \n",
       "4  gunnar nelson took his time on the feet agains...   \n",
       "\n",
       "                                            question  \\\n",
       "0  what is the berry export summary 2028 and what...   \n",
       "1  what are some of the benefits reported from ha...   \n",
       "2  what are the unique features of the coolands f...   \n",
       "3  what is the main difference between the nation...   \n",
       "4  how did gunnar nelson win the fight against za...   \n",
       "\n",
       "                                              answer  \\\n",
       "0  the berry export summary 2028 is a dedicated e...   \n",
       "1  benefits reported from having access to self-s...   \n",
       "2  the unique features of the coolands for twitte...   \n",
       "3  the main difference between the nss and the ih...   \n",
       "4  gunnar nelson won the fight against zak cummin...   \n",
       "\n",
       "                                         context_vec  cos_similarity_w2v  \\\n",
       "0  [0.03363177, 0.054826614, -0.020893654, 0.0101...            0.853297   \n",
       "1  [0.018075626, 0.03999233, -0.03049925, 0.03014...            0.911614   \n",
       "2  [0.014879584, 0.015688213, -0.0041411635, 0.04...            0.771513   \n",
       "3  [0.04067226, 0.039211955, -0.031194255, 0.0341...            0.921573   \n",
       "4  [0.034368947, 0.007700634, -0.0026054732, 0.05...            0.818377   \n",
       "\n",
       "   euc_dict_w2v  top_ind_search_cos  top_ind_search_euc  eval_cos  eval_euc  \n",
       "0      1.185740                3977                9573         0         0  \n",
       "1      1.170354                   1                   1         1         1  \n",
       "2      1.586742                 926                 926         0         0  \n",
       "3      0.958815                   3                   3         1         1  \n",
       "4      1.325763               11898               11898         0         0  "
      ]
     },
     "execution_count": 194,
     "metadata": {},
     "output_type": "execute_result"
    }
   ],
   "source": [
    "df_w2v.head(5)"
   ]
  },
  {
   "cell_type": "markdown",
   "metadata": {
    "id": "aeN1pUhfhPr-"
   },
   "source": [
    "Оценка"
   ]
  },
  {
   "cell_type": "code",
   "execution_count": 195,
   "metadata": {
    "colab": {
     "base_uri": "https://localhost:8080/",
     "height": 178
    },
    "id": "XSw5hDaNidKV",
    "outputId": "2a126a8a-71fd-4f1b-da5d-5fe312802465"
   },
   "outputs": [
    {
     "data": {
      "text/plain": [
       "eval_cos\n",
       "0    0.714047\n",
       "1    0.285953\n",
       "Name: proportion, dtype: float64"
      ]
     },
     "execution_count": 195,
     "metadata": {},
     "output_type": "execute_result"
    }
   ],
   "source": [
    "df_w2v['eval_cos'].value_counts(normalize = True)\n"
   ]
  },
  {
   "cell_type": "code",
   "execution_count": 196,
   "metadata": {
    "colab": {
     "base_uri": "https://localhost:8080/",
     "height": 178
    },
    "id": "bh99Raihim_y",
    "outputId": "bf4b8416-f15f-452e-93b3-3138cc0689e9"
   },
   "outputs": [
    {
     "data": {
      "text/plain": [
       "eval_euc\n",
       "0    0.719055\n",
       "1    0.280945\n",
       "Name: proportion, dtype: float64"
      ]
     },
     "execution_count": 196,
     "metadata": {},
     "output_type": "execute_result"
    }
   ],
   "source": [
    "df_w2v['eval_euc'].value_counts(normalize = True)"
   ]
  },
  {
   "cell_type": "code",
   "execution_count": 197,
   "metadata": {
    "colab": {
     "base_uri": "https://localhost:8080/"
    },
    "id": "rR2i7dYam0T5",
    "outputId": "88896ec7-ac28-4d75-cec1-5eeac478a60a"
   },
   "outputs": [
    {
     "name": "stdout",
     "output_type": "stream",
     "text": [
      "0.28595275853434604 0.280944829313079\n"
     ]
    }
   ],
   "source": [
    "precision_cos = precision_score(df_w2v.index, df_w2v.top_ind_search_cos, average='micro')\n",
    "precision_euc = precision_score(df_w2v.index, df_w2v.top_ind_search_euc, average='micro')\n",
    "\n",
    "print(precision_cos, precision_euc)"
   ]
  },
  {
   "cell_type": "markdown",
   "metadata": {
    "id": "Ug6ZRqdWl-Ax"
   },
   "source": [
    "Вывод: на текущем этапе точность выдачи правильных ответов в соответствии с  датасетом по косинусной близости около 28%, по эвклидову расстоянию около 27%\n",
    "\n",
    "Здесь можно еще поработать с длинами векторов и с предобработкой текстов для улучшения результатов, но так результаты довольно далеки от приемлимых, использование данного метода исключается."
   ]
  },
  {
   "cell_type": "markdown",
   "metadata": {
    "id": "yDsPbLCKjFU8"
   },
   "source": [
    "### Расширение датасета для сравнения времени извлечения ответа"
   ]
  },
  {
   "cell_type": "markdown",
   "metadata": {
    "id": "_7vXdWdRl8xJ"
   },
   "source": [
    "Проводим эксперимент, который покажет, как меняется скорость поиска ответа при поиске брутфорсом при изменении размера базы. В исходном датасете 11981 строка.\n",
    "Увеличим его до 100 000 за счет использования другого датасета с готовыми векторами: dbpedia-entities-openai-1M.\n",
    "\n",
    "Для этого эксперимента ранее была обучена модель Word2Vec на векторах 1536, чтобы они совпадали со длиной в стороннем датасете."
   ]
  },
  {
   "cell_type": "code",
   "execution_count": 40,
   "metadata": {
    "id": "nYraMREemboh"
   },
   "outputs": [],
   "source": [
    "%pip install datasets\n",
    "clear_output()"
   ]
  },
  {
   "cell_type": "markdown",
   "metadata": {
    "id": "yAZ7Ko7qNT3N"
   },
   "source": [
    "Загрузим  датасет, который содержит векторы"
   ]
  },
  {
   "cell_type": "code",
   "execution_count": null,
   "metadata": {
    "id": "W9GnJI66mTHB"
   },
   "outputs": [],
   "source": [
    "from datasets import load_dataset\n",
    "\n",
    "ds = load_dataset(\"KShivendu/dbpedia-entities-openai-1M\")\n",
    "clear_output()"
   ]
  },
  {
   "cell_type": "markdown",
   "metadata": {
    "id": "rUeCIZ-RjPjG"
   },
   "source": [
    "Добавим в датасет большое число векторов, чтобы отследить как изменяется время поиска ответа с увеличением базы ответов."
   ]
  },
  {
   "cell_type": "code",
   "execution_count": 45,
   "metadata": {
    "colab": {
     "base_uri": "https://localhost:8080/"
    },
    "id": "4QYc7vtLYLYN",
    "outputId": "23057cd1-4393-4c13-b393-ead0e784429f"
   },
   "outputs": [
    {
     "data": {
      "text/plain": [
       "DatasetDict({\n",
       "    train: Dataset({\n",
       "        features: ['_id', 'title', 'text', 'openai'],\n",
       "        num_rows: 1000000\n",
       "    })\n",
       "})"
      ]
     },
     "execution_count": 45,
     "metadata": {},
     "output_type": "execute_result"
    }
   ],
   "source": [
    "ds"
   ]
  },
  {
   "cell_type": "code",
   "execution_count": 46,
   "metadata": {
    "id": "H0aMPxoLsOrN"
   },
   "outputs": [],
   "source": [
    "ds_df = ds['train'].to_pandas()"
   ]
  },
  {
   "cell_type": "code",
   "execution_count": 47,
   "metadata": {
    "colab": {
     "base_uri": "https://localhost:8080/",
     "height": 206
    },
    "id": "F8Jw9m2HswYf",
    "outputId": "149bce2e-1f09-482c-f415-0118dfce39ca"
   },
   "outputs": [
    {
     "data": {
      "application/vnd.google.colaboratory.intrinsic+json": {
       "summary": "{\n  \"name\": \"# \\u0437\\u0434\\u0435\\u0441\\u044c \\u043d\\u0430\\u043c \\u043f\\u043e\\u043d\\u0430\\u0434\\u043e\\u0431\\u0438\\u0442\\u0441\\u044f \\u0442\\u043e\\u043b\\u044c\\u043a\\u043e \\u043a\\u043e\\u043b\\u043e\\u043d\\u043a\\u0430 \\u0441 \\u0432\\u0435\\u043a\\u0442\\u043e\\u0440\\u0430\\u043c\\u0438 'openai' \\u0434\\u043b\\u0438\\u043d\\u0430 \\u0432\\u0435\\u043a\\u0442\\u043e\\u0440\\u043e\\u0432 1536\",\n  \"rows\": 5,\n  \"fields\": [\n    {\n      \"column\": \"_id\",\n      \"properties\": {\n        \"dtype\": \"string\",\n        \"num_unique_values\": 5,\n        \"samples\": [\n          \"<dbpedia:Academy_Award_for_Best_Production_Design>\",\n          \"<dbpedia:Answer>\",\n          \"<dbpedia:An_American_in_Paris>\"\n        ],\n        \"semantic_type\": \"\",\n        \"description\": \"\"\n      }\n    },\n    {\n      \"column\": \"title\",\n      \"properties\": {\n        \"dtype\": \"string\",\n        \"num_unique_values\": 5,\n        \"samples\": [\n          \"Academy Award for Best Production Design\",\n          \"Answer\",\n          \"An American in Paris\"\n        ],\n        \"semantic_type\": \"\",\n        \"description\": \"\"\n      }\n    },\n    {\n      \"column\": \"text\",\n      \"properties\": {\n        \"dtype\": \"string\",\n        \"num_unique_values\": 5,\n        \"samples\": [\n          \"The Academy Awards are the oldest awards ceremony for achievements in motion pictures. The Academy Award for Best Production Design recognizes achievement in art direction on a film. The category's original name was Best Art Direction, but was changed to its current name in 2012 for the 85th Academy Awards.  This change resulted from the Art Director's branch of the Academy being renamed the Designer's branch.\",\n          \"Generally, an answer is a reply to a question.\",\n          \"An American in Paris is a jazz-influenced symphonic poem by the American composer George Gershwin, written in 1928. Inspired by the time Gershwin had spent in Paris, it evokes the sights and energy of the French capital in the 1920s and is one of his best-known compositions.Gershwin composed An American in Paris on commission from the conductor Walter Damrosch. He scored the piece for the standard instruments of the symphony orchestra plus celesta, saxophones, and automobile horns.\"\n        ],\n        \"semantic_type\": \"\",\n        \"description\": \"\"\n      }\n    },\n    {\n      \"column\": \"openai\",\n      \"properties\": {\n        \"dtype\": \"object\",\n        \"semantic_type\": \"\",\n        \"description\": \"\"\n      }\n    }\n  ]\n}",
       "type": "dataframe"
      },
      "text/html": [
       "\n",
       "  <div id=\"df-beafa6e4-2fbb-4be0-a3c4-7e6e7d67039f\" class=\"colab-df-container\">\n",
       "    <div>\n",
       "<style scoped>\n",
       "    .dataframe tbody tr th:only-of-type {\n",
       "        vertical-align: middle;\n",
       "    }\n",
       "\n",
       "    .dataframe tbody tr th {\n",
       "        vertical-align: top;\n",
       "    }\n",
       "\n",
       "    .dataframe thead th {\n",
       "        text-align: right;\n",
       "    }\n",
       "</style>\n",
       "<table border=\"1\" class=\"dataframe\">\n",
       "  <thead>\n",
       "    <tr style=\"text-align: right;\">\n",
       "      <th></th>\n",
       "      <th>_id</th>\n",
       "      <th>title</th>\n",
       "      <th>text</th>\n",
       "      <th>openai</th>\n",
       "    </tr>\n",
       "  </thead>\n",
       "  <tbody>\n",
       "    <tr>\n",
       "      <th>0</th>\n",
       "      <td>&lt;dbpedia:Animalia_(book)&gt;</td>\n",
       "      <td>Animalia (book)</td>\n",
       "      <td>Animalia is an illustrated children's book by ...</td>\n",
       "      <td>[0.01739898, -0.014087932, -0.010348622, -0.02...</td>\n",
       "    </tr>\n",
       "    <tr>\n",
       "      <th>1</th>\n",
       "      <td>&lt;dbpedia:Academy_Award_for_Best_Production_Des...</td>\n",
       "      <td>Academy Award for Best Production Design</td>\n",
       "      <td>The Academy Awards are the oldest awards cerem...</td>\n",
       "      <td>[0.007720728, -0.0005075968, 0.0010546186, -0....</td>\n",
       "    </tr>\n",
       "    <tr>\n",
       "      <th>2</th>\n",
       "      <td>&lt;dbpedia:An_American_in_Paris&gt;</td>\n",
       "      <td>An American in Paris</td>\n",
       "      <td>An American in Paris is a jazz-influenced symp...</td>\n",
       "      <td>[-0.004099648, -0.0010312927, 0.010681417, -0....</td>\n",
       "    </tr>\n",
       "    <tr>\n",
       "      <th>3</th>\n",
       "      <td>&lt;dbpedia:Astronomer&gt;</td>\n",
       "      <td>Astronomer</td>\n",
       "      <td>An astronomer is a scientist in the field of a...</td>\n",
       "      <td>[0.0073957564, -0.0012736962, 0.0071257926, -0...</td>\n",
       "    </tr>\n",
       "    <tr>\n",
       "      <th>4</th>\n",
       "      <td>&lt;dbpedia:Answer&gt;</td>\n",
       "      <td>Answer</td>\n",
       "      <td>Generally, an answer is a reply to a question.</td>\n",
       "      <td>[-0.0064324955, 0.0026291676, 0.0003435213, -0...</td>\n",
       "    </tr>\n",
       "  </tbody>\n",
       "</table>\n",
       "</div>\n",
       "    <div class=\"colab-df-buttons\">\n",
       "\n",
       "  <div class=\"colab-df-container\">\n",
       "    <button class=\"colab-df-convert\" onclick=\"convertToInteractive('df-beafa6e4-2fbb-4be0-a3c4-7e6e7d67039f')\"\n",
       "            title=\"Convert this dataframe to an interactive table.\"\n",
       "            style=\"display:none;\">\n",
       "\n",
       "  <svg xmlns=\"http://www.w3.org/2000/svg\" height=\"24px\" viewBox=\"0 -960 960 960\">\n",
       "    <path d=\"M120-120v-720h720v720H120Zm60-500h600v-160H180v160Zm220 220h160v-160H400v160Zm0 220h160v-160H400v160ZM180-400h160v-160H180v160Zm440 0h160v-160H620v160ZM180-180h160v-160H180v160Zm440 0h160v-160H620v160Z\"/>\n",
       "  </svg>\n",
       "    </button>\n",
       "\n",
       "  <style>\n",
       "    .colab-df-container {\n",
       "      display:flex;\n",
       "      gap: 12px;\n",
       "    }\n",
       "\n",
       "    .colab-df-convert {\n",
       "      background-color: #E8F0FE;\n",
       "      border: none;\n",
       "      border-radius: 50%;\n",
       "      cursor: pointer;\n",
       "      display: none;\n",
       "      fill: #1967D2;\n",
       "      height: 32px;\n",
       "      padding: 0 0 0 0;\n",
       "      width: 32px;\n",
       "    }\n",
       "\n",
       "    .colab-df-convert:hover {\n",
       "      background-color: #E2EBFA;\n",
       "      box-shadow: 0px 1px 2px rgba(60, 64, 67, 0.3), 0px 1px 3px 1px rgba(60, 64, 67, 0.15);\n",
       "      fill: #174EA6;\n",
       "    }\n",
       "\n",
       "    .colab-df-buttons div {\n",
       "      margin-bottom: 4px;\n",
       "    }\n",
       "\n",
       "    [theme=dark] .colab-df-convert {\n",
       "      background-color: #3B4455;\n",
       "      fill: #D2E3FC;\n",
       "    }\n",
       "\n",
       "    [theme=dark] .colab-df-convert:hover {\n",
       "      background-color: #434B5C;\n",
       "      box-shadow: 0px 1px 3px 1px rgba(0, 0, 0, 0.15);\n",
       "      filter: drop-shadow(0px 1px 2px rgba(0, 0, 0, 0.3));\n",
       "      fill: #FFFFFF;\n",
       "    }\n",
       "  </style>\n",
       "\n",
       "    <script>\n",
       "      const buttonEl =\n",
       "        document.querySelector('#df-beafa6e4-2fbb-4be0-a3c4-7e6e7d67039f button.colab-df-convert');\n",
       "      buttonEl.style.display =\n",
       "        google.colab.kernel.accessAllowed ? 'block' : 'none';\n",
       "\n",
       "      async function convertToInteractive(key) {\n",
       "        const element = document.querySelector('#df-beafa6e4-2fbb-4be0-a3c4-7e6e7d67039f');\n",
       "        const dataTable =\n",
       "          await google.colab.kernel.invokeFunction('convertToInteractive',\n",
       "                                                    [key], {});\n",
       "        if (!dataTable) return;\n",
       "\n",
       "        const docLinkHtml = 'Like what you see? Visit the ' +\n",
       "          '<a target=\"_blank\" href=https://colab.research.google.com/notebooks/data_table.ipynb>data table notebook</a>'\n",
       "          + ' to learn more about interactive tables.';\n",
       "        element.innerHTML = '';\n",
       "        dataTable['output_type'] = 'display_data';\n",
       "        await google.colab.output.renderOutput(dataTable, element);\n",
       "        const docLink = document.createElement('div');\n",
       "        docLink.innerHTML = docLinkHtml;\n",
       "        element.appendChild(docLink);\n",
       "      }\n",
       "    </script>\n",
       "  </div>\n",
       "\n",
       "\n",
       "<div id=\"df-a2798b5b-fa8a-4713-a7ee-2f9ff018cf45\">\n",
       "  <button class=\"colab-df-quickchart\" onclick=\"quickchart('df-a2798b5b-fa8a-4713-a7ee-2f9ff018cf45')\"\n",
       "            title=\"Suggest charts\"\n",
       "            style=\"display:none;\">\n",
       "\n",
       "<svg xmlns=\"http://www.w3.org/2000/svg\" height=\"24px\"viewBox=\"0 0 24 24\"\n",
       "     width=\"24px\">\n",
       "    <g>\n",
       "        <path d=\"M19 3H5c-1.1 0-2 .9-2 2v14c0 1.1.9 2 2 2h14c1.1 0 2-.9 2-2V5c0-1.1-.9-2-2-2zM9 17H7v-7h2v7zm4 0h-2V7h2v10zm4 0h-2v-4h2v4z\"/>\n",
       "    </g>\n",
       "</svg>\n",
       "  </button>\n",
       "\n",
       "<style>\n",
       "  .colab-df-quickchart {\n",
       "      --bg-color: #E8F0FE;\n",
       "      --fill-color: #1967D2;\n",
       "      --hover-bg-color: #E2EBFA;\n",
       "      --hover-fill-color: #174EA6;\n",
       "      --disabled-fill-color: #AAA;\n",
       "      --disabled-bg-color: #DDD;\n",
       "  }\n",
       "\n",
       "  [theme=dark] .colab-df-quickchart {\n",
       "      --bg-color: #3B4455;\n",
       "      --fill-color: #D2E3FC;\n",
       "      --hover-bg-color: #434B5C;\n",
       "      --hover-fill-color: #FFFFFF;\n",
       "      --disabled-bg-color: #3B4455;\n",
       "      --disabled-fill-color: #666;\n",
       "  }\n",
       "\n",
       "  .colab-df-quickchart {\n",
       "    background-color: var(--bg-color);\n",
       "    border: none;\n",
       "    border-radius: 50%;\n",
       "    cursor: pointer;\n",
       "    display: none;\n",
       "    fill: var(--fill-color);\n",
       "    height: 32px;\n",
       "    padding: 0;\n",
       "    width: 32px;\n",
       "  }\n",
       "\n",
       "  .colab-df-quickchart:hover {\n",
       "    background-color: var(--hover-bg-color);\n",
       "    box-shadow: 0 1px 2px rgba(60, 64, 67, 0.3), 0 1px 3px 1px rgba(60, 64, 67, 0.15);\n",
       "    fill: var(--button-hover-fill-color);\n",
       "  }\n",
       "\n",
       "  .colab-df-quickchart-complete:disabled,\n",
       "  .colab-df-quickchart-complete:disabled:hover {\n",
       "    background-color: var(--disabled-bg-color);\n",
       "    fill: var(--disabled-fill-color);\n",
       "    box-shadow: none;\n",
       "  }\n",
       "\n",
       "  .colab-df-spinner {\n",
       "    border: 2px solid var(--fill-color);\n",
       "    border-color: transparent;\n",
       "    border-bottom-color: var(--fill-color);\n",
       "    animation:\n",
       "      spin 1s steps(1) infinite;\n",
       "  }\n",
       "\n",
       "  @keyframes spin {\n",
       "    0% {\n",
       "      border-color: transparent;\n",
       "      border-bottom-color: var(--fill-color);\n",
       "      border-left-color: var(--fill-color);\n",
       "    }\n",
       "    20% {\n",
       "      border-color: transparent;\n",
       "      border-left-color: var(--fill-color);\n",
       "      border-top-color: var(--fill-color);\n",
       "    }\n",
       "    30% {\n",
       "      border-color: transparent;\n",
       "      border-left-color: var(--fill-color);\n",
       "      border-top-color: var(--fill-color);\n",
       "      border-right-color: var(--fill-color);\n",
       "    }\n",
       "    40% {\n",
       "      border-color: transparent;\n",
       "      border-right-color: var(--fill-color);\n",
       "      border-top-color: var(--fill-color);\n",
       "    }\n",
       "    60% {\n",
       "      border-color: transparent;\n",
       "      border-right-color: var(--fill-color);\n",
       "    }\n",
       "    80% {\n",
       "      border-color: transparent;\n",
       "      border-right-color: var(--fill-color);\n",
       "      border-bottom-color: var(--fill-color);\n",
       "    }\n",
       "    90% {\n",
       "      border-color: transparent;\n",
       "      border-bottom-color: var(--fill-color);\n",
       "    }\n",
       "  }\n",
       "</style>\n",
       "\n",
       "  <script>\n",
       "    async function quickchart(key) {\n",
       "      const quickchartButtonEl =\n",
       "        document.querySelector('#' + key + ' button');\n",
       "      quickchartButtonEl.disabled = true;  // To prevent multiple clicks.\n",
       "      quickchartButtonEl.classList.add('colab-df-spinner');\n",
       "      try {\n",
       "        const charts = await google.colab.kernel.invokeFunction(\n",
       "            'suggestCharts', [key], {});\n",
       "      } catch (error) {\n",
       "        console.error('Error during call to suggestCharts:', error);\n",
       "      }\n",
       "      quickchartButtonEl.classList.remove('colab-df-spinner');\n",
       "      quickchartButtonEl.classList.add('colab-df-quickchart-complete');\n",
       "    }\n",
       "    (() => {\n",
       "      let quickchartButtonEl =\n",
       "        document.querySelector('#df-a2798b5b-fa8a-4713-a7ee-2f9ff018cf45 button');\n",
       "      quickchartButtonEl.style.display =\n",
       "        google.colab.kernel.accessAllowed ? 'block' : 'none';\n",
       "    })();\n",
       "  </script>\n",
       "</div>\n",
       "    </div>\n",
       "  </div>\n"
      ],
      "text/plain": [
       "                                                 _id  \\\n",
       "0                          <dbpedia:Animalia_(book)>   \n",
       "1  <dbpedia:Academy_Award_for_Best_Production_Des...   \n",
       "2                     <dbpedia:An_American_in_Paris>   \n",
       "3                               <dbpedia:Astronomer>   \n",
       "4                                   <dbpedia:Answer>   \n",
       "\n",
       "                                      title  \\\n",
       "0                           Animalia (book)   \n",
       "1  Academy Award for Best Production Design   \n",
       "2                      An American in Paris   \n",
       "3                                Astronomer   \n",
       "4                                    Answer   \n",
       "\n",
       "                                                text  \\\n",
       "0  Animalia is an illustrated children's book by ...   \n",
       "1  The Academy Awards are the oldest awards cerem...   \n",
       "2  An American in Paris is a jazz-influenced symp...   \n",
       "3  An astronomer is a scientist in the field of a...   \n",
       "4     Generally, an answer is a reply to a question.   \n",
       "\n",
       "                                              openai  \n",
       "0  [0.01739898, -0.014087932, -0.010348622, -0.02...  \n",
       "1  [0.007720728, -0.0005075968, 0.0010546186, -0....  \n",
       "2  [-0.004099648, -0.0010312927, 0.010681417, -0....  \n",
       "3  [0.0073957564, -0.0012736962, 0.0071257926, -0...  \n",
       "4  [-0.0064324955, 0.0026291676, 0.0003435213, -0...  "
      ]
     },
     "execution_count": 47,
     "metadata": {},
     "output_type": "execute_result"
    }
   ],
   "source": [
    "ds_df.head(5)\n",
    "# здесь нам понадобится только колонка с векторами 'openai' длина векторов 1536"
   ]
  },
  {
   "cell_type": "code",
   "execution_count": 48,
   "metadata": {
    "colab": {
     "base_uri": "https://localhost:8080/"
    },
    "id": "VSf7WoL2um9R",
    "outputId": "abdd2f90-4649-4aab-afc3-1f4a2f746dac"
   },
   "outputs": [
    {
     "data": {
      "text/plain": [
       "1536"
      ]
     },
     "execution_count": 48,
     "metadata": {},
     "output_type": "execute_result"
    }
   ],
   "source": [
    "len(ds_df.openai[100])"
   ]
  },
  {
   "cell_type": "code",
   "execution_count": 49,
   "metadata": {
    "colab": {
     "base_uri": "https://localhost:8080/",
     "height": 424
    },
    "id": "PzzrSrpOBEB4",
    "outputId": "6fb1017a-25a6-4302-f6e1-7b1f00c10256"
   },
   "outputs": [
    {
     "data": {
      "application/vnd.google.colaboratory.intrinsic+json": {
       "type": "dataframe",
       "variable_name": "big"
      },
      "text/html": [
       "\n",
       "  <div id=\"df-053b1e8b-91a2-4095-b546-9945e3f3b555\" class=\"colab-df-container\">\n",
       "    <div>\n",
       "<style scoped>\n",
       "    .dataframe tbody tr th:only-of-type {\n",
       "        vertical-align: middle;\n",
       "    }\n",
       "\n",
       "    .dataframe tbody tr th {\n",
       "        vertical-align: top;\n",
       "    }\n",
       "\n",
       "    .dataframe thead th {\n",
       "        text-align: right;\n",
       "    }\n",
       "</style>\n",
       "<table border=\"1\" class=\"dataframe\">\n",
       "  <thead>\n",
       "    <tr style=\"text-align: right;\">\n",
       "      <th></th>\n",
       "      <th>context_vec</th>\n",
       "    </tr>\n",
       "  </thead>\n",
       "  <tbody>\n",
       "    <tr>\n",
       "      <th>0</th>\n",
       "      <td>[0.00013127529, 0.000654414, 0.007165503, -0.0...</td>\n",
       "    </tr>\n",
       "    <tr>\n",
       "      <th>1</th>\n",
       "      <td>[-0.0156188235, 0.019545829, 0.017113866, 0.08...</td>\n",
       "    </tr>\n",
       "    <tr>\n",
       "      <th>2</th>\n",
       "      <td>[-0.009712276, -0.021665346, -0.009451719, -0....</td>\n",
       "    </tr>\n",
       "    <tr>\n",
       "      <th>3</th>\n",
       "      <td>[-0.024972843, 0.02056265, 0.022539133, 0.0949...</td>\n",
       "    </tr>\n",
       "    <tr>\n",
       "      <th>4</th>\n",
       "      <td>[-0.015980568, -0.014273645, -0.011659498, -0....</td>\n",
       "    </tr>\n",
       "    <tr>\n",
       "      <th>...</th>\n",
       "      <td>...</td>\n",
       "    </tr>\n",
       "    <tr>\n",
       "      <th>111976</th>\n",
       "      <td>[0.009517315, 0.010230483, 0.023465104, -0.022...</td>\n",
       "    </tr>\n",
       "    <tr>\n",
       "      <th>111977</th>\n",
       "      <td>[0.002097802, 0.022655016, 0.00629964, -0.0103...</td>\n",
       "    </tr>\n",
       "    <tr>\n",
       "      <th>111978</th>\n",
       "      <td>[-0.021100154, 0.013022953, 0.016851714, -0.01...</td>\n",
       "    </tr>\n",
       "    <tr>\n",
       "      <th>111979</th>\n",
       "      <td>[0.006903873, -0.00842802, -0.004817857, -0.01...</td>\n",
       "    </tr>\n",
       "    <tr>\n",
       "      <th>111980</th>\n",
       "      <td>[0.0067061754, 0.0076111834, -0.011784638, 0.0...</td>\n",
       "    </tr>\n",
       "  </tbody>\n",
       "</table>\n",
       "<p>111981 rows × 1 columns</p>\n",
       "</div>\n",
       "    <div class=\"colab-df-buttons\">\n",
       "\n",
       "  <div class=\"colab-df-container\">\n",
       "    <button class=\"colab-df-convert\" onclick=\"convertToInteractive('df-053b1e8b-91a2-4095-b546-9945e3f3b555')\"\n",
       "            title=\"Convert this dataframe to an interactive table.\"\n",
       "            style=\"display:none;\">\n",
       "\n",
       "  <svg xmlns=\"http://www.w3.org/2000/svg\" height=\"24px\" viewBox=\"0 -960 960 960\">\n",
       "    <path d=\"M120-120v-720h720v720H120Zm60-500h600v-160H180v160Zm220 220h160v-160H400v160Zm0 220h160v-160H400v160ZM180-400h160v-160H180v160Zm440 0h160v-160H620v160ZM180-180h160v-160H180v160Zm440 0h160v-160H620v160Z\"/>\n",
       "  </svg>\n",
       "    </button>\n",
       "\n",
       "  <style>\n",
       "    .colab-df-container {\n",
       "      display:flex;\n",
       "      gap: 12px;\n",
       "    }\n",
       "\n",
       "    .colab-df-convert {\n",
       "      background-color: #E8F0FE;\n",
       "      border: none;\n",
       "      border-radius: 50%;\n",
       "      cursor: pointer;\n",
       "      display: none;\n",
       "      fill: #1967D2;\n",
       "      height: 32px;\n",
       "      padding: 0 0 0 0;\n",
       "      width: 32px;\n",
       "    }\n",
       "\n",
       "    .colab-df-convert:hover {\n",
       "      background-color: #E2EBFA;\n",
       "      box-shadow: 0px 1px 2px rgba(60, 64, 67, 0.3), 0px 1px 3px 1px rgba(60, 64, 67, 0.15);\n",
       "      fill: #174EA6;\n",
       "    }\n",
       "\n",
       "    .colab-df-buttons div {\n",
       "      margin-bottom: 4px;\n",
       "    }\n",
       "\n",
       "    [theme=dark] .colab-df-convert {\n",
       "      background-color: #3B4455;\n",
       "      fill: #D2E3FC;\n",
       "    }\n",
       "\n",
       "    [theme=dark] .colab-df-convert:hover {\n",
       "      background-color: #434B5C;\n",
       "      box-shadow: 0px 1px 3px 1px rgba(0, 0, 0, 0.15);\n",
       "      filter: drop-shadow(0px 1px 2px rgba(0, 0, 0, 0.3));\n",
       "      fill: #FFFFFF;\n",
       "    }\n",
       "  </style>\n",
       "\n",
       "    <script>\n",
       "      const buttonEl =\n",
       "        document.querySelector('#df-053b1e8b-91a2-4095-b546-9945e3f3b555 button.colab-df-convert');\n",
       "      buttonEl.style.display =\n",
       "        google.colab.kernel.accessAllowed ? 'block' : 'none';\n",
       "\n",
       "      async function convertToInteractive(key) {\n",
       "        const element = document.querySelector('#df-053b1e8b-91a2-4095-b546-9945e3f3b555');\n",
       "        const dataTable =\n",
       "          await google.colab.kernel.invokeFunction('convertToInteractive',\n",
       "                                                    [key], {});\n",
       "        if (!dataTable) return;\n",
       "\n",
       "        const docLinkHtml = 'Like what you see? Visit the ' +\n",
       "          '<a target=\"_blank\" href=https://colab.research.google.com/notebooks/data_table.ipynb>data table notebook</a>'\n",
       "          + ' to learn more about interactive tables.';\n",
       "        element.innerHTML = '';\n",
       "        dataTable['output_type'] = 'display_data';\n",
       "        await google.colab.output.renderOutput(dataTable, element);\n",
       "        const docLink = document.createElement('div');\n",
       "        docLink.innerHTML = docLinkHtml;\n",
       "        element.appendChild(docLink);\n",
       "      }\n",
       "    </script>\n",
       "  </div>\n",
       "\n",
       "\n",
       "<div id=\"df-e0382b9f-b36e-4c58-92ae-b9506d1331ba\">\n",
       "  <button class=\"colab-df-quickchart\" onclick=\"quickchart('df-e0382b9f-b36e-4c58-92ae-b9506d1331ba')\"\n",
       "            title=\"Suggest charts\"\n",
       "            style=\"display:none;\">\n",
       "\n",
       "<svg xmlns=\"http://www.w3.org/2000/svg\" height=\"24px\"viewBox=\"0 0 24 24\"\n",
       "     width=\"24px\">\n",
       "    <g>\n",
       "        <path d=\"M19 3H5c-1.1 0-2 .9-2 2v14c0 1.1.9 2 2 2h14c1.1 0 2-.9 2-2V5c0-1.1-.9-2-2-2zM9 17H7v-7h2v7zm4 0h-2V7h2v10zm4 0h-2v-4h2v4z\"/>\n",
       "    </g>\n",
       "</svg>\n",
       "  </button>\n",
       "\n",
       "<style>\n",
       "  .colab-df-quickchart {\n",
       "      --bg-color: #E8F0FE;\n",
       "      --fill-color: #1967D2;\n",
       "      --hover-bg-color: #E2EBFA;\n",
       "      --hover-fill-color: #174EA6;\n",
       "      --disabled-fill-color: #AAA;\n",
       "      --disabled-bg-color: #DDD;\n",
       "  }\n",
       "\n",
       "  [theme=dark] .colab-df-quickchart {\n",
       "      --bg-color: #3B4455;\n",
       "      --fill-color: #D2E3FC;\n",
       "      --hover-bg-color: #434B5C;\n",
       "      --hover-fill-color: #FFFFFF;\n",
       "      --disabled-bg-color: #3B4455;\n",
       "      --disabled-fill-color: #666;\n",
       "  }\n",
       "\n",
       "  .colab-df-quickchart {\n",
       "    background-color: var(--bg-color);\n",
       "    border: none;\n",
       "    border-radius: 50%;\n",
       "    cursor: pointer;\n",
       "    display: none;\n",
       "    fill: var(--fill-color);\n",
       "    height: 32px;\n",
       "    padding: 0;\n",
       "    width: 32px;\n",
       "  }\n",
       "\n",
       "  .colab-df-quickchart:hover {\n",
       "    background-color: var(--hover-bg-color);\n",
       "    box-shadow: 0 1px 2px rgba(60, 64, 67, 0.3), 0 1px 3px 1px rgba(60, 64, 67, 0.15);\n",
       "    fill: var(--button-hover-fill-color);\n",
       "  }\n",
       "\n",
       "  .colab-df-quickchart-complete:disabled,\n",
       "  .colab-df-quickchart-complete:disabled:hover {\n",
       "    background-color: var(--disabled-bg-color);\n",
       "    fill: var(--disabled-fill-color);\n",
       "    box-shadow: none;\n",
       "  }\n",
       "\n",
       "  .colab-df-spinner {\n",
       "    border: 2px solid var(--fill-color);\n",
       "    border-color: transparent;\n",
       "    border-bottom-color: var(--fill-color);\n",
       "    animation:\n",
       "      spin 1s steps(1) infinite;\n",
       "  }\n",
       "\n",
       "  @keyframes spin {\n",
       "    0% {\n",
       "      border-color: transparent;\n",
       "      border-bottom-color: var(--fill-color);\n",
       "      border-left-color: var(--fill-color);\n",
       "    }\n",
       "    20% {\n",
       "      border-color: transparent;\n",
       "      border-left-color: var(--fill-color);\n",
       "      border-top-color: var(--fill-color);\n",
       "    }\n",
       "    30% {\n",
       "      border-color: transparent;\n",
       "      border-left-color: var(--fill-color);\n",
       "      border-top-color: var(--fill-color);\n",
       "      border-right-color: var(--fill-color);\n",
       "    }\n",
       "    40% {\n",
       "      border-color: transparent;\n",
       "      border-right-color: var(--fill-color);\n",
       "      border-top-color: var(--fill-color);\n",
       "    }\n",
       "    60% {\n",
       "      border-color: transparent;\n",
       "      border-right-color: var(--fill-color);\n",
       "    }\n",
       "    80% {\n",
       "      border-color: transparent;\n",
       "      border-right-color: var(--fill-color);\n",
       "      border-bottom-color: var(--fill-color);\n",
       "    }\n",
       "    90% {\n",
       "      border-color: transparent;\n",
       "      border-bottom-color: var(--fill-color);\n",
       "    }\n",
       "  }\n",
       "</style>\n",
       "\n",
       "  <script>\n",
       "    async function quickchart(key) {\n",
       "      const quickchartButtonEl =\n",
       "        document.querySelector('#' + key + ' button');\n",
       "      quickchartButtonEl.disabled = true;  // To prevent multiple clicks.\n",
       "      quickchartButtonEl.classList.add('colab-df-spinner');\n",
       "      try {\n",
       "        const charts = await google.colab.kernel.invokeFunction(\n",
       "            'suggestCharts', [key], {});\n",
       "      } catch (error) {\n",
       "        console.error('Error during call to suggestCharts:', error);\n",
       "      }\n",
       "      quickchartButtonEl.classList.remove('colab-df-spinner');\n",
       "      quickchartButtonEl.classList.add('colab-df-quickchart-complete');\n",
       "    }\n",
       "    (() => {\n",
       "      let quickchartButtonEl =\n",
       "        document.querySelector('#df-e0382b9f-b36e-4c58-92ae-b9506d1331ba button');\n",
       "      quickchartButtonEl.style.display =\n",
       "        google.colab.kernel.accessAllowed ? 'block' : 'none';\n",
       "    })();\n",
       "  </script>\n",
       "</div>\n",
       "    </div>\n",
       "  </div>\n"
      ],
      "text/plain": [
       "                                              context_vec\n",
       "0       [0.00013127529, 0.000654414, 0.007165503, -0.0...\n",
       "1       [-0.0156188235, 0.019545829, 0.017113866, 0.08...\n",
       "2       [-0.009712276, -0.021665346, -0.009451719, -0....\n",
       "3       [-0.024972843, 0.02056265, 0.022539133, 0.0949...\n",
       "4       [-0.015980568, -0.014273645, -0.011659498, -0....\n",
       "...                                                   ...\n",
       "111976  [0.009517315, 0.010230483, 0.023465104, -0.022...\n",
       "111977  [0.002097802, 0.022655016, 0.00629964, -0.0103...\n",
       "111978  [-0.021100154, 0.013022953, 0.016851714, -0.01...\n",
       "111979  [0.006903873, -0.00842802, -0.004817857, -0.01...\n",
       "111980  [0.0067061754, 0.0076111834, -0.011784638, 0.0...\n",
       "\n",
       "[111981 rows x 1 columns]"
      ]
     },
     "execution_count": 49,
     "metadata": {},
     "output_type": "execute_result"
    }
   ],
   "source": [
    "# объединение колонок с векторами для создания большого датасета\n",
    "new = pd.DataFrame()\n",
    "new['context_vec'] = ds_df['openai']\n",
    "new = new[:100000] # берем 100 000 строк, так как на большем объеме возникает нехватка памяти при брутфорсе\n",
    "\n",
    "small = pd.DataFrame()\n",
    "small['context_vec'] = df_w2v_1536['context_vec']\n",
    "\n",
    "big =  pd.concat([small, new], axis = 0)\n",
    "# перемешаем\n",
    "big = big.sample(frac = 1)\n",
    "big.reset_index(drop=True, inplace=True)\n",
    "big"
   ]
  },
  {
   "cell_type": "code",
   "execution_count": null,
   "metadata": {
    "id": "0J0SbuIlYDnI"
   },
   "outputs": [],
   "source": [
    "# big.to_parquet('big_common.parquet')\n",
    "# big = pd.read_parquet('big_common.parquet')\n",
    "\n",
    "# big"
   ]
  },
  {
   "cell_type": "markdown",
   "metadata": {
    "id": "jWHxFIJ4alaA"
   },
   "source": [
    "получили датасет в 111 983 строки"
   ]
  },
  {
   "cell_type": "markdown",
   "metadata": {
    "id": "XhZX2LlYDG81"
   },
   "source": [
    "#### search_03 (скорость/объем)\n",
    "\n"
   ]
  },
  {
   "cell_type": "markdown",
   "metadata": {
    "id": "n_FmjLaQa6ea"
   },
   "source": [
    "Теперь протестируем время поиска и извлечения релевантного ответа по большому датасету\n",
    "Ранее искали по 11983 строкам, теперь по 111 983 строкам"
   ]
  },
  {
   "cell_type": "code",
   "execution_count": 109,
   "metadata": {},
   "outputs": [],
   "source": [
    "# Словарь для сохранения времени для сравнительной таблицы\n",
    "result_time = {}"
   ]
  },
  {
   "cell_type": "code",
   "execution_count": 60,
   "metadata": {
    "id": "Fc08qhuRwgPZ"
   },
   "outputs": [],
   "source": [
    "# Тестовый набор векторов (берем 50 случайных вопросов)\n",
    "qq =  df_w2v_1536.question.sample(50, random_state=42).to_list()\n",
    "vectors = []\n",
    "for q in qq:\n",
    "    vec = get_phrase_embedding(q, w2v_rag_1536)\n",
    "    vectors.append(vec)"
   ]
  },
  {
   "cell_type": "code",
   "execution_count": 63,
   "metadata": {
    "colab": {
     "base_uri": "https://localhost:8080/"
    },
    "id": "b7atgxLSATwq",
    "outputId": "0f7f373f-311e-469c-c1ef-7765ae2c2fb3"
   },
   "outputs": [
    {
     "data": {
      "text/plain": [
       "((11981, 1), (111981, 2))"
      ]
     },
     "execution_count": 63,
     "metadata": {},
     "output_type": "execute_result"
    }
   ],
   "source": [
    "small.shape, big.shape  # датасет, в котором 11 983 строки наших контекстов из проекта, обогащенный датасет с википедей, в котором 111 983 строки наших"
   ]
  },
  {
   "cell_type": "markdown",
   "metadata": {
    "id": "fse9zsayzbdM"
   },
   "source": [
    "Поиск по косинусному сходству"
   ]
  },
  {
   "cell_type": "code",
   "execution_count": 62,
   "metadata": {
    "colab": {
     "base_uri": "https://localhost:8080/",
     "height": 35
    },
    "id": "biBTlMFvSZcz",
    "outputId": "e916aab7-a254-4f0a-ee2d-bd6c8baf1242"
   },
   "outputs": [
    {
     "data": {
      "application/vnd.google.colaboratory.intrinsic+json": {
       "type": "string"
      },
      "text/plain": [
       "'why is the fairport public library moving to a new location?'"
      ]
     },
     "execution_count": 62,
     "metadata": {},
     "output_type": "execute_result"
    }
   ],
   "source": [
    "# тест для одного сэмпла\n",
    "df_w2v_1536.question[110]"
   ]
  },
  {
   "cell_type": "code",
   "execution_count": 67,
   "metadata": {
    "id": "BRT621qvyBtv"
   },
   "outputs": [],
   "source": [
    "query = get_phrase_embedding(df_w2v.question[110], w2v_rag_1536) # тестовый вопрос"
   ]
  },
  {
   "cell_type": "code",
   "execution_count": 64,
   "metadata": {
    "colab": {
     "base_uri": "https://localhost:8080/"
    },
    "id": "e7QyS2cgDGCl",
    "outputId": "523daabb-ef83-4f7c-8cab-caf519346354"
   },
   "outputs": [
    {
     "name": "stdout",
     "output_type": "stream",
     "text": [
      "                                           context_vec\n",
      "110  [-0.03583976, 0.055027705, 0.00070288294, 0.04...\n",
      "CPU times: user 106 ms, sys: 82.3 ms, total: 188 ms\n",
      "Wall time: 174 ms\n"
     ]
    }
   ],
   "source": [
    "# тест small cosine\n",
    "%%time\n",
    "results = search_(query, small, 'cos', w2v_rag_1536, top_k=1)\n",
    "print(results)"
   ]
  },
  {
   "cell_type": "code",
   "execution_count": 64,
   "metadata": {
    "id": "WfV0Idh1w9ls"
   },
   "outputs": [],
   "source": [
    "# функция для тестирования времени работы поиска\n",
    "# запускаем её на списке векторов из ранее сформированного набора случайных вопросов\n",
    "# на выходе получаем список с временами для отрисовки\n",
    "def test(qq, df, method):\n",
    "    plt = []\n",
    "    for q in qq:\n",
    "        start = time.time()\n",
    "        search_(q, df, method, w2v_rag_1536, top_k=1)\n",
    "        end = time.time()\n",
    "        res = end - start\n",
    "        plt.append(res)\n",
    "    return plt"
   ]
  },
  {
   "cell_type": "code",
   "execution_count": null,
   "metadata": {},
   "outputs": [],
   "source": []
  },
  {
   "cell_type": "code",
   "execution_count": 158,
   "metadata": {
    "colab": {
     "base_uri": "https://localhost:8080/",
     "height": 469
    },
    "id": "qQHz5b-EWEj9",
    "outputId": "21b6c3f9-e7ba-493e-ff24-34a1a1472148"
   },
   "outputs": [
    {
     "name": "stdout",
     "output_type": "stream",
     "text": [
      "Среднее время извлечения ответа: 0.03980562210083008\n"
     ]
    },
    {
     "data": {
      "image/png": "[encoded data removed]",
      "text/plain": [
       "<Figure size 640x480 with 1 Axes>"
      ]
     },
     "metadata": {},
     "output_type": "display_data"
    }
   ],
   "source": [
    "# Протестируем время извлечения ответов на 50 значениях + маленький датасет\n",
    "sns.set_theme(palette ='pastel', font_scale=0.8)\n",
    "t =  test(vectors, small, 'cos')\n",
    "mean = sum(t)/len(t)\n",
    "result_time['small_cos_pandas'] = mean\n",
    "print('Среднее время извлечения ответа:', mean)\n",
    "sns.lineplot(t, color=\"red\").set_title(\"Время small cos pandas\")\n",
    "plt.xlabel('вопрос')\n",
    "plt.ylabel('время');"
   ]
  },
  {
   "cell_type": "code",
   "execution_count": 68,
   "metadata": {
    "colab": {
     "base_uri": "https://localhost:8080/"
    },
    "id": "Mz38BTLHAXju",
    "outputId": "54ce2361-5220-424b-e3c2-14c64abb87cf"
   },
   "outputs": [
    {
     "name": "stdout",
     "output_type": "stream",
     "text": [
      "CPU times: user 3 μs, sys: 3 μs, total: 6 μs\n",
      "Wall time: 24.8 μs\n",
      "                                             context_vec\n",
      "47184  [-0.009879556, -0.0032072135, 0.009872427, 0.0...\n"
     ]
    }
   ],
   "source": [
    "# тест big cosine\n",
    "%time\n",
    "results = search_(query, big, 'cos', w2v_rag_1536, top_k=1)\n",
    "print(results)"
   ]
  },
  {
   "cell_type": "code",
   "execution_count": 159,
   "metadata": {
    "colab": {
     "base_uri": "https://localhost:8080/",
     "height": 469
    },
    "id": "JzxAUAlTpY0g",
    "outputId": "25678bd5-09fd-4ce2-bccf-bf76fdc17498"
   },
   "outputs": [
    {
     "name": "stdout",
     "output_type": "stream",
     "text": [
      "Среднее время извлечения ответа: 0.8537402248382568\n"
     ]
    },
    {
     "data": {
      "image/png": "[encoded data removed]",
      "text/plain": [
       "<Figure size 640x480 with 1 Axes>"
      ]
     },
     "metadata": {},
     "output_type": "display_data"
    }
   ],
   "source": [
    "# Протестируем время извлечения ответов на 50 значениях + большой датасет\n",
    "t =  test(vectors, big, 'cos')\n",
    "mean = sum(t)/len(t)\n",
    "result_time['big_cos_pandas'] = mean\n",
    "print('Среднее время извлечения ответа:', mean)\n",
    "sns.lineplot(t, color=\"green\").set_title(\"Время big cos pandas\")\n",
    "plt.xlabel('вопрос')\n",
    "plt.ylabel('время');"
   ]
  },
  {
   "cell_type": "markdown",
   "metadata": {
    "id": "22MlFTgTyefB"
   },
   "source": [
    "Поиск по эвклидову расстоянию"
   ]
  },
  {
   "cell_type": "code",
   "execution_count": 160,
   "metadata": {
    "colab": {
     "base_uri": "https://localhost:8080/",
     "height": 469
    },
    "id": "SYXPUDieqeeP",
    "outputId": "bc6ec9a7-6bd4-458b-b5b0-312a769e537e"
   },
   "outputs": [
    {
     "name": "stdout",
     "output_type": "stream",
     "text": [
      "Среднее время извлечения ответа: 0.043849091529846194\n"
     ]
    },
    {
     "data": {
      "image/png": "[encoded data removed]",
      "text/plain": [
       "<Figure size 640x480 with 1 Axes>"
      ]
     },
     "metadata": {},
     "output_type": "display_data"
    }
   ],
   "source": [
    "t =  test(vectors, small, 'euc')\n",
    "mean = sum(t)/len(t)\n",
    "result_time['small_euc_pandas'] = mean\n",
    "print('Среднее время извлечения ответа:', mean)\n",
    "sns.lineplot(t, color = 'red').set_title(\"Время small euc pandas\")\n",
    "plt.xlabel('вопрос')\n",
    "plt.ylabel('время');"
   ]
  },
  {
   "cell_type": "code",
   "execution_count": 162,
   "metadata": {
    "colab": {
     "base_uri": "https://localhost:8080/",
     "height": 469
    },
    "id": "a9_1HdToqfLv",
    "outputId": "23044050-c5a3-46d1-b762-9fb97e03c22c"
   },
   "outputs": [
    {
     "name": "stdout",
     "output_type": "stream",
     "text": [
      "Среднее время извлечения ответа: 0.5548609447479248\n"
     ]
    },
    {
     "data": {
      "image/png": "[encoded data removed]",
      "text/plain": [
       "<Figure size 640x480 with 1 Axes>"
      ]
     },
     "metadata": {},
     "output_type": "display_data"
    }
   ],
   "source": [
    "t =  test(vectors, big, 'euc')\n",
    "mean = sum(t)/len(t)\n",
    "result_time['big_euc_pandas'] = mean\n",
    "print('Среднее время извлечения ответа:', mean)\n",
    "sns.lineplot(t, color = 'green').set_title(\"Время big euc pandas\")\n",
    "plt.xlabel('вопрос')\n",
    "plt.ylabel('время');"
   ]
  },
  {
   "cell_type": "markdown",
   "metadata": {
    "id": "nJiyPQrk1SQ5"
   },
   "source": [
    "Выводы: при увеличении датасета в 10 раз время поиска ответа возрастает примерно в 10 раз. Если на ~12 тыс данных извлечение происходит в среднем за 0.1 секунду, то на большом в 120 000 примерно за 1 - 1.4 секунды, в зависимости от метода подсчета близости."
   ]
  },
  {
   "cell_type": "markdown",
   "metadata": {
    "id": "nuLWFfDaAiX0"
   },
   "source": [
    "## QDRANT"
   ]
  },
  {
   "cell_type": "code",
   "execution_count": 73,
   "metadata": {
    "id": "6-sEDGXyvnKn"
   },
   "outputs": [],
   "source": [
    "%pip install -U qdrant-client\n",
    "clear_output()"
   ]
  },
  {
   "cell_type": "code",
   "execution_count": null,
   "metadata": {
    "id": "I40NKM3Kn8ck"
   },
   "outputs": [],
   "source": [
    "from qdrant_client import models, QdrantClient\n",
    "from qdrant_client.models import VectorParams, Distance"
   ]
  },
  {
   "cell_type": "markdown",
   "metadata": {
    "id": "cBA4CX7lr8AX"
   },
   "source": [
    "Загрузка готовых эмбеддингов w2vec в **qdrant**"
   ]
  },
  {
   "cell_type": "markdown",
   "metadata": {
    "id": "23Qp4laiBZFZ"
   },
   "source": [
    "### search_04 exact"
   ]
  },
  {
   "cell_type": "markdown",
   "metadata": {},
   "source": [
    "Эксперименты со временем по большому и маленькому датасету"
   ]
  },
  {
   "cell_type": "code",
   "execution_count": 75,
   "metadata": {},
   "outputs": [
    {
     "data": {
      "text/plain": [
       "((11981, 2), (111981, 2))"
      ]
     },
     "execution_count": 75,
     "metadata": {},
     "output_type": "execute_result"
    }
   ],
   "source": [
    "small['id'] = small.index\n",
    "big['id'] = big.index\n",
    "small.shape, big.shape"
   ]
  },
  {
   "cell_type": "code",
   "execution_count": 76,
   "metadata": {
    "id": "wY71KYkb1A93"
   },
   "outputs": [],
   "source": [
    "qdrant = QdrantClient(url = \"http://localhost:6333\")"
   ]
  },
  {
   "cell_type": "markdown",
   "metadata": {},
   "source": [
    "#### Эксперимент с Distance.COSINE маленький датасет"
   ]
  },
  {
   "cell_type": "code",
   "execution_count": null,
   "metadata": {},
   "outputs": [
    {
     "data": {
      "text/plain": [
       "CountResult(count=11981)"
      ]
     },
     "execution_count": 78,
     "metadata": {},
     "output_type": "execute_result"
    }
   ],
   "source": [
    "# Создание коллекции\n",
    "qdrant.recreate_collection(\n",
    "    collection_name=\"small\",\n",
    "    vectors_config=models.VectorParams(\n",
    "        size=1536,\n",
    "        distance=models.Distance.COSINE,\n",
    "    ),\n",
    ")\n",
    "\n",
    "# загрузка данных в базу\n",
    "qdrant.upload_points(\n",
    "    collection_name=\"small\",\n",
    "    points=[\n",
    "        models.PointStruct(\n",
    "            id=row[1][\"id\"],\n",
    "            vector=(row[1][\"context_vec\"]),\n",
    "        )\n",
    "        for row in small.iterrows()\n",
    "    ],\n",
    ")\n",
    "\n",
    "qdrant.count(\n",
    "    collection_name='small',\n",
    "    exact=True,\n",
    ")"
   ]
  },
  {
   "cell_type": "code",
   "execution_count": null,
   "metadata": {},
   "outputs": [],
   "source": [
    "# функция для тестирования среднего времени извлечения ответа на 50 вопросах\n",
    "# запускаем её на списке векторов из ранее сформированного набора случайных вопросов\n",
    "# на выходе получаем список с временем для отрисовки\n",
    "def test_q(vectors, collect):\n",
    "    plt = []\n",
    "    for test_query in vectors:\n",
    "        start = time.time()\n",
    "        qdrant.search(\n",
    "        collection_name=collect,\n",
    "        query_vector=test_query,\n",
    "        limit=1,)\n",
    "        end = time.time()\n",
    "        res = end - start\n",
    "        plt.append(res)\n",
    "    return plt"
   ]
  },
  {
   "cell_type": "code",
   "execution_count": 165,
   "metadata": {},
   "outputs": [
    {
     "name": "stdout",
     "output_type": "stream",
     "text": [
      "Среднее время извлечения ответа: 0.008340625762939454\n"
     ]
    },
    {
     "data": {
      "image/png": "[encoded data removed]",
      "text/plain": [
       "<Figure size 640x480 with 1 Axes>"
      ]
     },
     "metadata": {},
     "output_type": "display_data"
    }
   ],
   "source": [
    "# Протестируем время извлечения ответов на 50 значениях\n",
    "t =  test_q(vectors, 'small')\n",
    "mean = sum(t)/len(t)\n",
    "result_time['small_cos_qdrant_exact'] = mean\n",
    "print('Среднее время извлечения ответа:', mean)\n",
    "sns.lineplot(t, color=\"red\").set_title(\"Время small cos qdrant exact\")\n",
    "plt.xlabel('вопрос')\n",
    "plt.ylabel('время');"
   ]
  },
  {
   "cell_type": "markdown",
   "metadata": {},
   "source": [
    "#### Эксперимент с Distance.DOT маленький датасет"
   ]
  },
  {
   "cell_type": "code",
   "execution_count": null,
   "metadata": {},
   "outputs": [],
   "source": [
    "# Создание коллекции\n",
    "qdrant.recreate_collection(\n",
    "    collection_name=\"small_dist\",\n",
    "    vectors_config=models.VectorParams(\n",
    "        size=1536,\n",
    "        distance=models.Distance.DOT,\n",
    "    ),\n",
    ")\n",
    "\n",
    "# загрузка данных в базу\n",
    "qdrant.upload_points(\n",
    "    collection_name=\"small_dist\",\n",
    "    points=[\n",
    "        models.PointStruct(\n",
    "            id=row[1][\"id\"],\n",
    "            vector=(row[1][\"context_vec\"]),\n",
    "        )\n",
    "        for row in small.iterrows()\n",
    "    ],\n",
    ")\n",
    "\n",
    "\n",
    "\n",
    "qdrant.count(\n",
    "    collection_name='small',\n",
    "    exact=True,\n",
    ")"
   ]
  },
  {
   "cell_type": "code",
   "execution_count": 164,
   "metadata": {},
   "outputs": [
    {
     "name": "stdout",
     "output_type": "stream",
     "text": [
      "Среднее время извлечения ответа: 0.009940104484558105\n"
     ]
    },
    {
     "data": {
      "image/png": "[encoded data removed]",
      "text/plain": [
       "<Figure size 640x480 with 1 Axes>"
      ]
     },
     "metadata": {},
     "output_type": "display_data"
    }
   ],
   "source": [
    "# Протестируем время извлечения ответов на 50 значениях\n",
    "t =  test_q(vectors, 'small_dist')\n",
    "mean = sum(t)/len(t)\n",
    "result_time['small_dist_qdrant_exact'] = mean\n",
    "print('Среднее время извлечения ответа:', mean)\n",
    "sns.lineplot(t, color=\"red\").set_title(\"Время small euc qdrant exact\")\n",
    "plt.xlabel('вопрос')\n",
    "plt.ylabel('время');"
   ]
  },
  {
   "cell_type": "markdown",
   "metadata": {},
   "source": [
    "#### Эксперимент с Distance.COSINE большой датасет"
   ]
  },
  {
   "cell_type": "code",
   "execution_count": null,
   "metadata": {
    "colab": {
     "base_uri": "https://localhost:8080/"
    },
    "id": "EbZ4iR8T470b",
    "outputId": "f9e6463c-dcc2-4443-a48c-44c3aca328cc"
   },
   "outputs": [
    {
     "data": {
      "text/plain": [
       "True"
      ]
     },
     "execution_count": 11,
     "metadata": {},
     "output_type": "execute_result"
    }
   ],
   "source": [
    "# Создание коллекции\n",
    "qdrant.recreate_collection(\n",
    "    collection_name=\"big\",\n",
    "    vectors_config=models.VectorParams(\n",
    "        size=1536,\n",
    "        distance=models.Distance.COSINE,\n",
    "    ),\n",
    ")\n",
    "\n",
    "# загрузка данных в базу\n",
    "qdrant.upload_points(\n",
    "    collection_name=\"big\",\n",
    "    points=[\n",
    "        models.PointStruct(\n",
    "            id=row[1][\"id\"],\n",
    "            vector=(row[1][\"context_vec\"]),\n",
    "        )\n",
    "        for row in big.iterrows()\n",
    "    ],\n",
    ")\n",
    "\n",
    "\n",
    "qdrant.count(\n",
    "    collection_name='big',\n",
    "    exact=True,\n",
    ")"
   ]
  },
  {
   "cell_type": "code",
   "execution_count": 95,
   "metadata": {
    "colab": {
     "base_uri": "https://localhost:8080/"
    },
    "id": "xa1Gmq3k3RZw",
    "outputId": "62b9beeb-7002-4ed4-90a4-ee282630a490"
   },
   "outputs": [
    {
     "data": {
      "text/plain": [
       "('why is the fairport public library moving to a new location?',\n",
       " array([-0.07530392,  0.0643885 , -0.01327899, ..., -0.08938366,\n",
       "         0.03563269,  0.06804655], dtype=float32))"
      ]
     },
     "execution_count": 95,
     "metadata": {},
     "output_type": "execute_result"
    }
   ],
   "source": [
    "query = df_w2v_1536.question[110]\n",
    "test_query = get_phrase_embedding(query, w2v_rag_1536)\n",
    "query, test_query"
   ]
  },
  {
   "cell_type": "code",
   "execution_count": 96,
   "metadata": {
    "colab": {
     "base_uri": "https://localhost:8080/"
    },
    "id": "Jh0NhPPo1627",
    "outputId": "92e84a2f-a3b6-4c3f-eec2-b486eaba6c03"
   },
   "outputs": [
    {
     "name": "stdout",
     "output_type": "stream",
     "text": [
      "CPU times: user 9 μs, sys: 8 μs, total: 17 μs\n",
      "Wall time: 141 μs\n"
     ]
    }
   ],
   "source": [
    "# тест поиска\n",
    "%time\n",
    "hits = qdrant.search(\n",
    "    collection_name='big',\n",
    "    query_vector=test_query,\n",
    "    limit=1,\n",
    "\n",
    ")"
   ]
  },
  {
   "cell_type": "code",
   "execution_count": 166,
   "metadata": {
    "colab": {
     "base_uri": "https://localhost:8080/",
     "height": 469
    },
    "id": "khZ2s_KS0vbm",
    "outputId": "dd253bf8-59e1-4ff9-889e-dc90eb614234"
   },
   "outputs": [
    {
     "name": "stdout",
     "output_type": "stream",
     "text": [
      "Среднее время извлечения ответа: 0.036346230506896976\n"
     ]
    },
    {
     "data": {
      "image/png": "[encoded data removed]",
      "text/plain": [
       "<Figure size 640x480 with 1 Axes>"
      ]
     },
     "metadata": {},
     "output_type": "display_data"
    }
   ],
   "source": [
    "# Протестируем время извлечения ответов на 50 значениях\n",
    "t =  test_q(vectors, 'big')\n",
    "mean = sum(t)/len(t)\n",
    "result_time['big_cos_qdrant_exact'] = mean\n",
    "print('Среднее время извлечения ответа:', mean)\n",
    "sns.lineplot(t, color=\"green\").set_title(\"Время big cos qdrant exact\")\n",
    "plt.xlabel('вопрос')\n",
    "plt.ylabel('время');"
   ]
  },
  {
   "cell_type": "markdown",
   "metadata": {},
   "source": [
    "#### Эксперимент с Distance.DOT большой датасет"
   ]
  },
  {
   "cell_type": "code",
   "execution_count": 100,
   "metadata": {},
   "outputs": [
    {
     "data": {
      "text/plain": [
       "CountResult(count=111981)"
      ]
     },
     "execution_count": 100,
     "metadata": {},
     "output_type": "execute_result"
    }
   ],
   "source": [
    "# Создание коллекции\n",
    "qdrant.recreate_collection(\n",
    "    collection_name=\"big_dist\",\n",
    "    vectors_config=models.VectorParams(\n",
    "        size=1536,\n",
    "        distance=models.Distance.DOT,\n",
    "    ),\n",
    ")\n",
    "\n",
    "# загрузка данных в базу\n",
    "qdrant.upload_points(\n",
    "    collection_name=\"big_dist\",\n",
    "    points=[\n",
    "        models.PointStruct(\n",
    "            id=row[1][\"id\"],\n",
    "            vector=(row[1][\"context_vec\"]),\n",
    "        )\n",
    "        for row in big.iterrows()\n",
    "    ],\n",
    ")\n",
    "\n",
    "\n",
    "qdrant.count(\n",
    "    collection_name='big_dist',\n",
    "    exact=True,\n",
    ")"
   ]
  },
  {
   "cell_type": "code",
   "execution_count": 167,
   "metadata": {},
   "outputs": [
    {
     "name": "stdout",
     "output_type": "stream",
     "text": [
      "Среднее время извлечения ответа: 0.06615833759307861\n"
     ]
    },
    {
     "data": {
      "image/png": "[encoded data removed]",
      "text/plain": [
       "<Figure size 640x480 with 1 Axes>"
      ]
     },
     "metadata": {},
     "output_type": "display_data"
    }
   ],
   "source": [
    "# Протестируем время извлечения ответов на 50 значениях\n",
    "t =  test_q(vectors, 'big_dist')\n",
    "mean = sum(t)/len(t)\n",
    "result_time['big_dist_qdrant_exact'] = mean\n",
    "print('Среднее время извлечения ответа:', mean)\n",
    "sns.lineplot(t, color=\"green\").set_title(\"Время big euc qdrant exact\")\n",
    "plt.xlabel('вопрос')\n",
    "plt.ylabel('время');"
   ]
  },
  {
   "cell_type": "markdown",
   "metadata": {
    "id": "yP-KzXlQ6ig7"
   },
   "source": [
    "Время извлечения ответа из БД 0.07 секунды на ~12 тыc строках, против 0.1 при работе с датафремом пандаc. Результат значительно лучше!!!\n",
    "При том, что здесь используется exact поиск брутфорсом."
   ]
  },
  {
   "cell_type": "markdown",
   "metadata": {
    "id": "WdGfyk33gfsL"
   },
   "source": [
    "### search_05 qdrant HnswConfigDiff"
   ]
  },
  {
   "cell_type": "markdown",
   "metadata": {
    "id": "iIcmg9Z-yn9F"
   },
   "source": [
    "Маленький датасет"
   ]
  },
  {
   "cell_type": "markdown",
   "metadata": {},
   "source": [
    "#### Эксперимент с Distance.COSINE маленький датасет"
   ]
  },
  {
   "cell_type": "markdown",
   "metadata": {
    "id": "f9BcUM40y1vY"
   },
   "source": [
    "Создаем новую коллекцию с использованием HnswConfigDiff"
   ]
  },
  {
   "cell_type": "code",
   "execution_count": 145,
   "metadata": {
    "colab": {
     "base_uri": "https://localhost:8080/"
    },
    "id": "NB08dGkFs_-I",
    "outputId": "4fbbe9f8-adb4-4ca0-b074-dc0d48d23467"
   },
   "outputs": [],
   "source": [
    "qdrant.recreate_collection(\n",
    "    collection_name=\"small_hnsw\",\n",
    "    vectors_config=models.VectorParams(\n",
    "        size=1536,\n",
    "        distance=models.Distance.COSINE,\n",
    "        hnsw_config=models.HnswConfigDiff(\n",
    "        m=16,\n",
    "        ef_construct=80,\n",
    ")\n",
    "    ),\n",
    "        hnsw_config=models.HnswConfigDiff(\n",
    "        ef_construct=100,\n",
    "        full_scan_threshold=10000,\n",
    "        max_indexing_threads=4,\n",
    "        on_disk=True\n",
    "    )\n",
    "    )\n",
    "\n",
    "qdrant.upload_points(\n",
    "    collection_name=\"small_hnsw\",\n",
    "    points=[\n",
    "        models.PointStruct(\n",
    "            id=row[1][\"id\"],\n",
    "            vector=(row[1][\"context_vec\"]),\n",
    "        )\n",
    "        for row in small.iterrows()\n",
    "    ],\n",
    ")"
   ]
  },
  {
   "cell_type": "code",
   "execution_count": 146,
   "metadata": {},
   "outputs": [
    {
     "data": {
      "text/plain": [
       "CountResult(count=11981)"
      ]
     },
     "execution_count": 146,
     "metadata": {},
     "output_type": "execute_result"
    }
   ],
   "source": [
    "qdrant.count(\n",
    "    collection_name=\"small_hnsw\",\n",
    ")"
   ]
  },
  {
   "cell_type": "code",
   "execution_count": 168,
   "metadata": {
    "colab": {
     "base_uri": "https://localhost:8080/",
     "height": 469
    },
    "id": "cnHv2Npwxxyd",
    "outputId": "f027d45e-dd61-4356-ea0c-dd74257e6f16"
   },
   "outputs": [
    {
     "name": "stdout",
     "output_type": "stream",
     "text": [
      "Среднее время извлечения ответа: 0.010783753395080566\n"
     ]
    },
    {
     "data": {
      "image/png": "[encoded data removed]",
      "text/plain": [
       "<Figure size 640x480 with 1 Axes>"
      ]
     },
     "metadata": {},
     "output_type": "display_data"
    }
   ],
   "source": [
    "t =  test_q(vectors,'small_hnsw')\n",
    "mean = sum(t)/len(t)\n",
    "result_time['small_cos_qdrant_hnsw'] = mean\n",
    "print('Среднее время извлечения ответа:', mean)\n",
    "sns.lineplot(t, color=\"red\").set_title(\"Время small cos qdrant hnsw\")\n",
    "plt.xlabel('вопрос')\n",
    "plt.ylabel('время');"
   ]
  },
  {
   "cell_type": "markdown",
   "metadata": {},
   "source": [
    "#### Эксперимент с Distance.DOT маленький датасет"
   ]
  },
  {
   "cell_type": "code",
   "execution_count": 172,
   "metadata": {},
   "outputs": [
    {
     "name": "stdout",
     "output_type": "stream",
     "text": [
      "Среднее время извлечения ответа: 0.00748830795288086\n"
     ]
    },
    {
     "data": {
      "image/png": "[encoded data removed]",
      "text/plain": [
       "<Figure size 640x480 with 1 Axes>"
      ]
     },
     "metadata": {},
     "output_type": "display_data"
    }
   ],
   "source": [
    "qdrant.recreate_collection(\n",
    "    collection_name=\"small_hnsw_dist\",\n",
    "    vectors_config=models.VectorParams(\n",
    "        size=1536,\n",
    "        distance=models.Distance.DOT,\n",
    "        hnsw_config=models.HnswConfigDiff(\n",
    "        m=16,\n",
    "        ef_construct=80,\n",
    ")\n",
    "    ),\n",
    "        hnsw_config=models.HnswConfigDiff(\n",
    "        ef_construct=100,\n",
    "        full_scan_threshold=10000,\n",
    "        max_indexing_threads=4,\n",
    "        on_disk=True\n",
    "    )\n",
    "    )\n",
    "\n",
    "qdrant.upload_points(\n",
    "    collection_name=\"small_hnsw_dist\",\n",
    "    points=[\n",
    "        models.PointStruct(\n",
    "            id=row[1][\"id\"],\n",
    "            vector=(row[1][\"context_vec\"]),\n",
    "        )\n",
    "        for row in small.iterrows()\n",
    "    ],\n",
    ")\n",
    "\n",
    "t =  test_q(vectors,'small_hnsw_dist')\n",
    "mean = sum(t)/len(t)\n",
    "result_time['small_euc_qdrant_hnsw'] = mean\n",
    "print('Среднее время извлечения ответа:', mean)\n",
    "sns.lineplot(t, color=\"red\").set_title(\"Время small euc qdrant hnsw\")\n",
    "plt.xlabel('вопрос')\n",
    "plt.ylabel('время');"
   ]
  },
  {
   "cell_type": "markdown",
   "metadata": {},
   "source": [
    "Большой датасет"
   ]
  },
  {
   "cell_type": "markdown",
   "metadata": {},
   "source": [
    "#### Эксперимент с Distance.COSINE большой датасет"
   ]
  },
  {
   "cell_type": "code",
   "execution_count": null,
   "metadata": {},
   "outputs": [],
   "source": [
    "qdrant.recreate_collection(\n",
    "    collection_name=\"big_hnsw\",\n",
    "    vectors_config=models.VectorParams(\n",
    "        size=1536,\n",
    "        distance=models.Distance.COSINE,\n",
    "        hnsw_config=models.HnswConfigDiff(\n",
    "        m=16,\n",
    "        ef_construct=100,\n",
    ")\n",
    "    ),\n",
    "        hnsw_config=models.HnswConfigDiff(\n",
    "        ef_construct=100,\n",
    "        full_scan_threshold=10000,\n",
    "        max_indexing_threads=4,\n",
    "        on_disk=True\n",
    "    )\n",
    ")\n",
    "\n",
    "qdrant.upload_points(\n",
    "    collection_name=\"big_hnsw\",\n",
    "    points=[\n",
    "        models.PointStruct(\n",
    "            id=row[1][\"id\"],\n",
    "            vector=(row[1][\"context_vec\"]),\n",
    "        )\n",
    "        for row in big.iterrows()\n",
    "    ],\n",
    ")"
   ]
  },
  {
   "cell_type": "code",
   "execution_count": 110,
   "metadata": {},
   "outputs": [
    {
     "data": {
      "text/plain": [
       "CountResult(count=111981)"
      ]
     },
     "execution_count": 110,
     "metadata": {},
     "output_type": "execute_result"
    }
   ],
   "source": [
    "qdrant.count(\n",
    "    collection_name=\"big_hnsw\",\n",
    ")"
   ]
  },
  {
   "cell_type": "code",
   "execution_count": null,
   "metadata": {},
   "outputs": [
    {
     "name": "stdout",
     "output_type": "stream",
     "text": [
      "Среднее время извлечения ответа: 0.02886152744293213\n"
     ]
    },
    {
     "data": {
      "image/png": "[encoded data removed]",
      "text/plain": [
       "<Figure size 640x480 with 1 Axes>"
      ]
     },
     "metadata": {},
     "output_type": "display_data"
    }
   ],
   "source": [
    "t =  test_q(vectors,'big_hnsw')\n",
    "mean = sum(t)/len(t)\n",
    "result_time['big_cos_qdrant_hnsw'] = mean\n",
    "print('Среднее время извлечения ответа:', mean)\n",
    "sns.lineplot(t, color=\"green\").set_title(\"Время big cos qdrant hnsw\")\n",
    "plt.xlabel('вопрос')\n",
    "plt.ylabel('время');"
   ]
  },
  {
   "cell_type": "markdown",
   "metadata": {},
   "source": [
    "#### Эксперимент с Distance.DOT большой датасет"
   ]
  },
  {
   "cell_type": "code",
   "execution_count": 173,
   "metadata": {},
   "outputs": [],
   "source": [
    "qdrant.recreate_collection(\n",
    "    collection_name=\"big_hnsw_euc\",\n",
    "    vectors_config=models.VectorParams(\n",
    "        size=1536,\n",
    "        distance=models.Distance.DOT,\n",
    "        hnsw_config=models.HnswConfigDiff(\n",
    "        m=16,\n",
    "        ef_construct=100,\n",
    ")\n",
    "    ),\n",
    "        hnsw_config=models.HnswConfigDiff(\n",
    "        ef_construct=100,\n",
    "        full_scan_threshold=10000,\n",
    "        max_indexing_threads=4,\n",
    "        on_disk=True\n",
    "    )\n",
    ")\n",
    "\n",
    "qdrant.upload_points(\n",
    "    collection_name=\"big_hnsw_euc\",\n",
    "    points=[\n",
    "        models.PointStruct(\n",
    "            id=row[1][\"id\"],\n",
    "            vector=(row[1][\"context_vec\"]),\n",
    "        )\n",
    "        for row in big.iterrows()\n",
    "    ],\n",
    ")"
   ]
  },
  {
   "cell_type": "code",
   "execution_count": 174,
   "metadata": {},
   "outputs": [
    {
     "name": "stdout",
     "output_type": "stream",
     "text": [
      "Среднее время извлечения ответа: 0.04629810810089111\n"
     ]
    },
    {
     "data": {
      "image/png": "[encoded data removed]",
      "text/plain": [
       "<Figure size 640x480 with 1 Axes>"
      ]
     },
     "metadata": {},
     "output_type": "display_data"
    }
   ],
   "source": [
    "t =  test_q(vectors,'big_hnsw')\n",
    "mean = sum(t)/len(t)\n",
    "result_time['big_euc_qdrant_hnsw'] = mean\n",
    "print('Среднее время извлечения ответа:', mean)\n",
    "sns.lineplot(t, color=\"green\").set_title(\"Время big euc qdrant hnsw\")\n",
    "plt.xlabel('вопрос')\n",
    "plt.ylabel('время');"
   ]
  },
  {
   "cell_type": "markdown",
   "metadata": {},
   "source": [
    "## Выводы:"
   ]
  },
  {
   "cell_type": "markdown",
   "metadata": {},
   "source": [
    "Таблица сравнения времени"
   ]
  },
  {
   "cell_type": "code",
   "execution_count": 176,
   "metadata": {},
   "outputs": [
    {
     "data": {
      "text/html": [
       "<div>\n",
       "<style scoped>\n",
       "    .dataframe tbody tr th:only-of-type {\n",
       "        vertical-align: middle;\n",
       "    }\n",
       "\n",
       "    .dataframe tbody tr th {\n",
       "        vertical-align: top;\n",
       "    }\n",
       "\n",
       "    .dataframe thead th {\n",
       "        text-align: right;\n",
       "    }\n",
       "</style>\n",
       "<table border=\"1\" class=\"dataframe\">\n",
       "  <thead>\n",
       "    <tr style=\"text-align: right;\">\n",
       "      <th></th>\n",
       "      <th>search_method</th>\n",
       "      <th>mean_time</th>\n",
       "    </tr>\n",
       "  </thead>\n",
       "  <tbody>\n",
       "    <tr>\n",
       "      <th>0</th>\n",
       "      <td>small_euc_qdrant_hnsw</td>\n",
       "      <td>0.007488</td>\n",
       "    </tr>\n",
       "    <tr>\n",
       "      <th>1</th>\n",
       "      <td>small_cos_qdrant_exact</td>\n",
       "      <td>0.008341</td>\n",
       "    </tr>\n",
       "    <tr>\n",
       "      <th>2</th>\n",
       "      <td>small_dist_qdrant_exact</td>\n",
       "      <td>0.009940</td>\n",
       "    </tr>\n",
       "    <tr>\n",
       "      <th>3</th>\n",
       "      <td>small_cos_qdrant_hnsw</td>\n",
       "      <td>0.010784</td>\n",
       "    </tr>\n",
       "    <tr>\n",
       "      <th>4</th>\n",
       "      <td>big_cos_qdrant_hnsw</td>\n",
       "      <td>0.028862</td>\n",
       "    </tr>\n",
       "    <tr>\n",
       "      <th>5</th>\n",
       "      <td>big_cos_qdrant_exact</td>\n",
       "      <td>0.036346</td>\n",
       "    </tr>\n",
       "    <tr>\n",
       "      <th>6</th>\n",
       "      <td>small_cos_pandas</td>\n",
       "      <td>0.039806</td>\n",
       "    </tr>\n",
       "    <tr>\n",
       "      <th>7</th>\n",
       "      <td>small_euc_pandas</td>\n",
       "      <td>0.043849</td>\n",
       "    </tr>\n",
       "    <tr>\n",
       "      <th>8</th>\n",
       "      <td>big_euc_qdrant_hnsw</td>\n",
       "      <td>0.046298</td>\n",
       "    </tr>\n",
       "    <tr>\n",
       "      <th>9</th>\n",
       "      <td>big_dist_qdrant_exact</td>\n",
       "      <td>0.066158</td>\n",
       "    </tr>\n",
       "    <tr>\n",
       "      <th>10</th>\n",
       "      <td>big_euc_pandas</td>\n",
       "      <td>0.554861</td>\n",
       "    </tr>\n",
       "    <tr>\n",
       "      <th>11</th>\n",
       "      <td>big_cos_pandas</td>\n",
       "      <td>0.853740</td>\n",
       "    </tr>\n",
       "  </tbody>\n",
       "</table>\n",
       "</div>"
      ],
      "text/plain": [
       "              search_method  mean_time\n",
       "0     small_euc_qdrant_hnsw   0.007488\n",
       "1    small_cos_qdrant_exact   0.008341\n",
       "2   small_dist_qdrant_exact   0.009940\n",
       "3     small_cos_qdrant_hnsw   0.010784\n",
       "4       big_cos_qdrant_hnsw   0.028862\n",
       "5      big_cos_qdrant_exact   0.036346\n",
       "6          small_cos_pandas   0.039806\n",
       "7          small_euc_pandas   0.043849\n",
       "8       big_euc_qdrant_hnsw   0.046298\n",
       "9     big_dist_qdrant_exact   0.066158\n",
       "10           big_euc_pandas   0.554861\n",
       "11           big_cos_pandas   0.853740"
      ]
     },
     "execution_count": 176,
     "metadata": {},
     "output_type": "execute_result"
    }
   ],
   "source": [
    "result = pd.DataFrame(list(result_time.items()), columns=['search_method', 'mean_time'])\n",
    "result = result.sort_values(by='mean_time').reset_index()\n",
    "result.drop(columns='index', inplace=True)\n",
    "result"
   ]
  },
  {
   "cell_type": "code",
   "execution_count": null,
   "metadata": {},
   "outputs": [
    {
     "data": {
      "image/png": "[encoded data removed]",
      "text/plain": [
       "<Figure size 1000x800 with 1 Axes>"
      ]
     },
     "metadata": {},
     "output_type": "display_data"
    }
   ],
   "source": [
    "# визуализация результирующей таблицы\n",
    "plt.figure(figsize=(10, 8))\n",
    "ax = sns.barplot(x='search_method', y='mean_time', data=result)\n",
    "plt.xticks(rotation=45, ha='right')\n",
    "plt.title('Среднее время поиска для различных методов', fontsize=16)\n",
    "plt.xlabel('Метод поиска', fontsize=12)\n",
    "plt.ylabel('Среднее время (секунды)', fontsize=12)\n",
    "\n",
    "for i, v in enumerate(result['mean_time']):\n",
    "    ax.text(i, v, f'{v:.6f}', ha='center', va='bottom')\n",
    "\n",
    "plt.tight_layout()\n",
    "plt.show()\n"
   ]
  },
  {
   "cell_type": "markdown",
   "metadata": {
    "id": "Rg3GAJNvA5rW"
   },
   "source": [
    "Эксприменты проводились для dense векторов, которые были получены с помощью Word2Vec.\n",
    "\n",
    "1. По качеству (точности поиска ответов) использование векторизации с помощью Word2Vec не устраивает.\n",
    "2. По скорости работы с Word2Vec из датафрейма показывает, что чем больше данных, тем значительно медленнее идет извлечение. 12 тысяч 0.03 -0.04 секунды, 120 тысяч - 0.55-0.85 секунды в среднем.\n",
    "3. Скорость извлечения векторов при использовании Qdrant значительно выше  - 0.007 - 0.009 на маленьком датасете, 0.02-0.03 на большом датасете, что быстрее, чем на маленьком датасетев  пандас! \n",
    "5. На большом датасете поиск с помощью hnssw отработал быстрее, чем exact\n",
    "6. Использование метода подсчета близости векторов по косинусному сходству или эвклидово расстояние незначительно влияет на скорость извлечения ответов.\n",
    "7. Далее планируется более подробгно изучить гибридный поиск"
   ]
  }
 ],
 "metadata": {
  "colab": {
   "collapsed_sections": [
    "yoBsAp-vlJIm",
    "ggjoDiQUjaz6",
    "9zfUreXeoskB"
   ],
   "provenance": [],
   "toc_visible": true
  },
  "kernelspec": {
   "display_name": "Python 3 (ipykernel)",
   "language": "python",
   "name": "python3"
  },
  "language_info": {
   "codemirror_mode": {
    "name": "ipython",
    "version": 3
   },
   "file_extension": ".py",
   "mimetype": "text/x-python",
   "name": "python",
   "nbconvert_exporter": "python",
   "pygments_lexer": "ipython3",
   "version": "3.12.7"
  }
 },
 "nbformat": 4,
 "nbformat_minor": 4
}
