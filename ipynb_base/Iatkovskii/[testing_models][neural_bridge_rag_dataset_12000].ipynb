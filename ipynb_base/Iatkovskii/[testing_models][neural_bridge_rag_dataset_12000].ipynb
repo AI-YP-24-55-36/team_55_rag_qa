{
  "cells": [
    {
      "cell_type": "code",
      "execution_count": 1,
      "metadata": {
        "colab": {
          "base_uri": "https://localhost:8080/"
        },
        "id": "yUKQcvsCIXBQ",
        "outputId": "7ebe5f13-23e5-4d15-898d-30813f844579",
        "collapsed": true
      },
      "outputs": [
        {
          "output_type": "stream",
          "name": "stdout",
          "text": [
            "Requirement already satisfied: rank-bm25 in c:\\users\\lex09\\anaconda3\\lib\\site-packages (0.2.2)\n",
            "Requirement already satisfied: faiss-cpu in c:\\users\\lex09\\anaconda3\\lib\\site-packages (1.9.0.post1)\n",
            "Requirement already satisfied: qdrant_client in c:\\users\\lex09\\anaconda3\\lib\\site-packages (1.12.1)\n",
            "Requirement already satisfied: numpy in c:\\users\\lex09\\anaconda3\\lib\\site-packages (from rank-bm25) (1.26.4)\n",
            "Requirement already satisfied: packaging in c:\\users\\lex09\\anaconda3\\lib\\site-packages (from faiss-cpu) (23.2)\n",
            "Requirement already satisfied: grpcio>=1.41.0 in c:\\users\\lex09\\anaconda3\\lib\\site-packages (from qdrant_client) (1.68.1)\n",
            "Requirement already satisfied: grpcio-tools>=1.41.0 in c:\\users\\lex09\\anaconda3\\lib\\site-packages (from qdrant_client) (1.68.1)\n",
            "Requirement already satisfied: httpx>=0.20.0 in c:\\users\\lex09\\anaconda3\\lib\\site-packages (from httpx[http2]>=0.20.0->qdrant_client) (0.27.0)\n",
            "Requirement already satisfied: portalocker<3.0.0,>=2.7.0 in c:\\users\\lex09\\anaconda3\\lib\\site-packages (from qdrant_client) (2.10.1)\n",
            "Requirement already satisfied: pydantic>=1.10.8 in c:\\users\\lex09\\anaconda3\\lib\\site-packages (from qdrant_client) (2.5.3)\n",
            "Requirement already satisfied: urllib3<3,>=1.26.14 in c:\\users\\lex09\\anaconda3\\lib\\site-packages (from qdrant_client) (2.2.2)\n",
            "Requirement already satisfied: protobuf<6.0dev,>=5.26.1 in c:\\users\\lex09\\anaconda3\\lib\\site-packages (from grpcio-tools>=1.41.0->qdrant_client) (5.29.1)\n",
            "Requirement already satisfied: setuptools in c:\\users\\lex09\\anaconda3\\lib\\site-packages (from grpcio-tools>=1.41.0->qdrant_client) (69.5.1)\n",
            "Requirement already satisfied: anyio in c:\\users\\lex09\\anaconda3\\lib\\site-packages (from httpx>=0.20.0->httpx[http2]>=0.20.0->qdrant_client) (4.2.0)\n",
            "Requirement already satisfied: certifi in c:\\users\\lex09\\anaconda3\\lib\\site-packages (from httpx>=0.20.0->httpx[http2]>=0.20.0->qdrant_client) (2024.8.30)\n",
            "Requirement already satisfied: httpcore==1.* in c:\\users\\lex09\\anaconda3\\lib\\site-packages (from httpx>=0.20.0->httpx[http2]>=0.20.0->qdrant_client) (1.0.2)\n",
            "Requirement already satisfied: idna in c:\\users\\lex09\\anaconda3\\lib\\site-packages (from httpx>=0.20.0->httpx[http2]>=0.20.0->qdrant_client) (3.7)\n",
            "Requirement already satisfied: sniffio in c:\\users\\lex09\\anaconda3\\lib\\site-packages (from httpx>=0.20.0->httpx[http2]>=0.20.0->qdrant_client) (1.3.0)\n",
            "Requirement already satisfied: h11<0.15,>=0.13 in c:\\users\\lex09\\anaconda3\\lib\\site-packages (from httpcore==1.*->httpx>=0.20.0->httpx[http2]>=0.20.0->qdrant_client) (0.14.0)\n",
            "Requirement already satisfied: h2<5,>=3 in c:\\users\\lex09\\anaconda3\\lib\\site-packages (from httpx[http2]>=0.20.0->qdrant_client) (4.1.0)\n",
            "Requirement already satisfied: pywin32>=226 in c:\\users\\lex09\\anaconda3\\lib\\site-packages (from portalocker<3.0.0,>=2.7.0->qdrant_client) (305.1)\n",
            "Requirement already satisfied: annotated-types>=0.4.0 in c:\\users\\lex09\\anaconda3\\lib\\site-packages (from pydantic>=1.10.8->qdrant_client) (0.6.0)\n",
            "Requirement already satisfied: pydantic-core==2.14.6 in c:\\users\\lex09\\anaconda3\\lib\\site-packages (from pydantic>=1.10.8->qdrant_client) (2.14.6)\n",
            "Requirement already satisfied: typing-extensions>=4.6.1 in c:\\users\\lex09\\anaconda3\\lib\\site-packages (from pydantic>=1.10.8->qdrant_client) (4.11.0)\n",
            "Requirement already satisfied: hyperframe<7,>=6.0 in c:\\users\\lex09\\anaconda3\\lib\\site-packages (from h2<5,>=3->httpx[http2]>=0.20.0->qdrant_client) (6.0.1)\n",
            "Requirement already satisfied: hpack<5,>=4.0 in c:\\users\\lex09\\anaconda3\\lib\\site-packages (from h2<5,>=3->httpx[http2]>=0.20.0->qdrant_client) (4.0.0)\n"
          ]
        }
      ],
      "source": [
        "!pip install rank-bm25 faiss-cpu qdrant_client"
      ]
    },
    {
      "cell_type": "code",
      "execution_count": 188,
      "metadata": {
        "id": "eo3VNAeoIZlp"
      },
      "outputs": [],
      "source": [
        "# библиотеки и инструменты использовавшиеся в процессе экспериментов (для текущей версии актуальны не все)\n",
        "from sklearn.feature_extraction.text import TfidfVectorizer\n",
        "from sklearn.metrics.pairwise import cosine_similarity\n",
        "from sklearn.model_selection import train_test_split\n",
        "from sklearn.neighbors import NearestNeighbors\n",
        "import numpy as np\n",
        "import pandas as pd\n",
        "import re\n",
        "from sentence_transformers import SentenceTransformer, util\n",
        "import faiss\n",
        "from rank_bm25 import BM25Okapi\n",
        "import time\n",
        "from tqdm import tqdm\n",
        "from qdrant_client.models import VectorParams, Distance, PointStruct\n",
        "from nltk.tokenize import word_tokenize\n",
        "from multiprocessing import Pool, cpu_count\n",
        "from sklearn.preprocessing import normalize\n",
        "import faiss\n",
        "from scipy.spatial import distance\n",
        "from fastembed import SparseTextEmbedding, TextEmbedding, LateInteractionTextEmbedding\n",
        "from concurrent.futures import ThreadPoolExecutor\n",
        "from qdrant_client import QdrantClient, models\n",
        "from transformers import AutoTokenizer, AutoModel"
      ]
    },
    {
      "cell_type": "markdown",
      "metadata": {
        "id": "MrVgUqwpv1AC"
      },
      "source": [
        "# Очистка данных"
      ]
    },
    {
      "cell_type": "code",
      "execution_count": 3,
      "metadata": {
        "colab": {
          "base_uri": "https://localhost:8080/",
          "height": 423
        },
        "id": "W-gaAR85Iben",
        "outputId": "f6dadbb8-4ec2-4ebd-8056-8e0ac026c313"
      },
      "outputs": [
        {
          "output_type": "execute_result",
          "data": {
            "text/plain": [
              "                                                 context  \\\n",
              "0      Caption: Tasmanian berry grower Nic Hansen sho...   \n",
              "1      RWSN Collaborations\\nSouthern Africa Self-supp...   \n",
              "2      All Android applications categories\\nDescripti...   \n",
              "3      How unequal is India? The question is simple, ...   \n",
              "4      Gunnar Nelson took his time on the feet agains...   \n",
              "...                                                  ...   \n",
              "11995  Fuzzy's Ultra Premium Vodka\\nThe Myth, The Man...   \n",
              "11996  Swedish Grand Prix rider Malin Nilsson got mar...   \n",
              "11997  The Cracchiolo Law Library of the James E. Rog...   \n",
              "11998  2nd physical eMAG store opens in Mammut\\nOnlin...   \n",
              "11999  About This Cadillac\\n2019 Cadillac XT5\\nFWD 4d...   \n",
              "\n",
              "                                                question  \\\n",
              "0      What is the Berry Export Summary 2028 and what...   \n",
              "1      What are some of the benefits reported from ha...   \n",
              "2      What are the unique features of the Coolands f...   \n",
              "3      What is the main difference between the Nation...   \n",
              "4      How did Gunnar Nelson win the fight against Za...   \n",
              "...                                                  ...   \n",
              "11995  What are some of the achievements of Fuzzy Zoe...   \n",
              "11996        Who did Malin Nilsson marry on 2 June 2018?   \n",
              "11997  What is the Fellowship in Law Librarianship of...   \n",
              "11998  Where has the second physical eMAG store been ...   \n",
              "11999  What are some of the key features of the 2019 ...   \n",
              "\n",
              "                                                  answer  \n",
              "0      The Berry Export Summary 2028 is a dedicated e...  \n",
              "1      Benefits reported from having access to Self-s...  \n",
              "2      The unique features of the Coolands for Twitte...  \n",
              "3      The main difference between the NSS and the IH...  \n",
              "4      Gunnar Nelson won the fight against Zak Cummin...  \n",
              "...                                                  ...  \n",
              "11995  Fuzzy Zoeller is known for his golfing success...  \n",
              "11996  Malin Nilsson got married to her partner, Germ...  \n",
              "11997  The Fellowship in Law Librarianship is a progr...  \n",
              "11998  The second physical eMAG store has been opened...  \n",
              "11999  The 2019 Cadillac XT5 comes equipped with feat...  \n",
              "\n",
              "[12000 rows x 3 columns]"
            ],
            "text/html": [
              "<div>\n",
              "<style scoped>\n",
              "    .dataframe tbody tr th:only-of-type {\n",
              "        vertical-align: middle;\n",
              "    }\n",
              "\n",
              "    .dataframe tbody tr th {\n",
              "        vertical-align: top;\n",
              "    }\n",
              "\n",
              "    .dataframe thead th {\n",
              "        text-align: right;\n",
              "    }\n",
              "</style>\n",
              "<table border=\"1\" class=\"dataframe\">\n",
              "  <thead>\n",
              "    <tr style=\"text-align: right;\">\n",
              "      <th></th>\n",
              "      <th>context</th>\n",
              "      <th>question</th>\n",
              "      <th>answer</th>\n",
              "    </tr>\n",
              "  </thead>\n",
              "  <tbody>\n",
              "    <tr>\n",
              "      <th>0</th>\n",
              "      <td>Caption: Tasmanian berry grower Nic Hansen sho...</td>\n",
              "      <td>What is the Berry Export Summary 2028 and what...</td>\n",
              "      <td>The Berry Export Summary 2028 is a dedicated e...</td>\n",
              "    </tr>\n",
              "    <tr>\n",
              "      <th>1</th>\n",
              "      <td>RWSN Collaborations\\nSouthern Africa Self-supp...</td>\n",
              "      <td>What are some of the benefits reported from ha...</td>\n",
              "      <td>Benefits reported from having access to Self-s...</td>\n",
              "    </tr>\n",
              "    <tr>\n",
              "      <th>2</th>\n",
              "      <td>All Android applications categories\\nDescripti...</td>\n",
              "      <td>What are the unique features of the Coolands f...</td>\n",
              "      <td>The unique features of the Coolands for Twitte...</td>\n",
              "    </tr>\n",
              "    <tr>\n",
              "      <th>3</th>\n",
              "      <td>How unequal is India? The question is simple, ...</td>\n",
              "      <td>What is the main difference between the Nation...</td>\n",
              "      <td>The main difference between the NSS and the IH...</td>\n",
              "    </tr>\n",
              "    <tr>\n",
              "      <th>4</th>\n",
              "      <td>Gunnar Nelson took his time on the feet agains...</td>\n",
              "      <td>How did Gunnar Nelson win the fight against Za...</td>\n",
              "      <td>Gunnar Nelson won the fight against Zak Cummin...</td>\n",
              "    </tr>\n",
              "    <tr>\n",
              "      <th>...</th>\n",
              "      <td>...</td>\n",
              "      <td>...</td>\n",
              "      <td>...</td>\n",
              "    </tr>\n",
              "    <tr>\n",
              "      <th>11995</th>\n",
              "      <td>Fuzzy's Ultra Premium Vodka\\nThe Myth, The Man...</td>\n",
              "      <td>What are some of the achievements of Fuzzy Zoe...</td>\n",
              "      <td>Fuzzy Zoeller is known for his golfing success...</td>\n",
              "    </tr>\n",
              "    <tr>\n",
              "      <th>11996</th>\n",
              "      <td>Swedish Grand Prix rider Malin Nilsson got mar...</td>\n",
              "      <td>Who did Malin Nilsson marry on 2 June 2018?</td>\n",
              "      <td>Malin Nilsson got married to her partner, Germ...</td>\n",
              "    </tr>\n",
              "    <tr>\n",
              "      <th>11997</th>\n",
              "      <td>The Cracchiolo Law Library of the James E. Rog...</td>\n",
              "      <td>What is the Fellowship in Law Librarianship of...</td>\n",
              "      <td>The Fellowship in Law Librarianship is a progr...</td>\n",
              "    </tr>\n",
              "    <tr>\n",
              "      <th>11998</th>\n",
              "      <td>2nd physical eMAG store opens in Mammut\\nOnlin...</td>\n",
              "      <td>Where has the second physical eMAG store been ...</td>\n",
              "      <td>The second physical eMAG store has been opened...</td>\n",
              "    </tr>\n",
              "    <tr>\n",
              "      <th>11999</th>\n",
              "      <td>About This Cadillac\\n2019 Cadillac XT5\\nFWD 4d...</td>\n",
              "      <td>What are some of the key features of the 2019 ...</td>\n",
              "      <td>The 2019 Cadillac XT5 comes equipped with feat...</td>\n",
              "    </tr>\n",
              "  </tbody>\n",
              "</table>\n",
              "<p>12000 rows × 3 columns</p>\n",
              "</div>"
            ]
          },
          "metadata": {},
          "execution_count": 3
        }
      ],
      "source": [
        "data_path = \"https://docs.google.com/uc?export=download&id=1dgnwG1AZhspMJaDR6jz828qZkSnZg25t\"\n",
        "df_base = pd.read_csv(data_path)\n",
        "df_base"
      ]
    },
    {
      "cell_type": "code",
      "execution_count": 4,
      "metadata": {
        "colab": {
          "base_uri": "https://localhost:8080/"
        },
        "id": "WLYN4KyrIeIh",
        "outputId": "b7a2c488-0b02-440e-d542-a5ae84fc708d"
      },
      "outputs": [
        {
          "output_type": "execute_result",
          "data": {
            "text/plain": [
              "context     0\n",
              "question    3\n",
              "answer      3\n",
              "dtype: int64"
            ]
          },
          "metadata": {},
          "execution_count": 4
        }
      ],
      "source": [
        "df = df_base.copy()\n",
        "df.isna().sum()"
      ]
    },
    {
      "cell_type": "code",
      "execution_count": 5,
      "metadata": {
        "id": "9SBB213AIf-T"
      },
      "outputs": [],
      "source": [
        "df = df.dropna()\n",
        "def clean_text(text):\n",
        "    if isinstance(text, str):\n",
        "        text = str(text)\n",
        "        text = text.lower()  # Приводим текст к нижнему регистру\n",
        "        text = re.sub(r'[^a-zA-Z0-9\\s]', '', text)  # Удаляем всё, кроме букв и пробелов\n",
        "        text = re.sub(r'\\s+', ' ', text)  # Заменяем множественные пробелы одним\n",
        "        return text.strip()  # Удаляем лишние пробелы в начале и конце\n",
        "    return text\n",
        "df['context'] = df['context'].apply(clean_text)\n",
        "df['question'] = df['question'].apply(clean_text)\n",
        "df['answer'] = df['answer'].apply(clean_text)"
      ]
    },
    {
      "cell_type": "code",
      "execution_count": 6,
      "metadata": {
        "colab": {
          "base_uri": "https://localhost:8080/"
        },
        "id": "MecoXsPpIhpo",
        "outputId": "1f7769f0-904c-47aa-f1d5-9241add8fda2"
      },
      "outputs": [
        {
          "output_type": "stream",
          "name": "stdout",
          "text": [
            "<class 'pandas.core.frame.DataFrame'>\n",
            "Index: 11997 entries, 0 to 11999\n",
            "Data columns (total 3 columns):\n",
            " #   Column    Non-Null Count  Dtype \n",
            "---  ------    --------------  ----- \n",
            " 0   context   11997 non-null  object\n",
            " 1   question  11997 non-null  object\n",
            " 2   answer    11997 non-null  object\n",
            "dtypes: object(3)\n",
            "memory usage: 374.9+ KB\n"
          ]
        }
      ],
      "source": [
        "df.info()"
      ]
    },
    {
      "cell_type": "code",
      "execution_count": 7,
      "metadata": {
        "colab": {
          "base_uri": "https://localhost:8080/"
        },
        "id": "jVrWnpECIjSl",
        "outputId": "91b9bf47-19a8-4098-b8ce-a51a0abfa84d"
      },
      "outputs": [
        {
          "output_type": "execute_result",
          "data": {
            "text/plain": [
              "context     0\n",
              "question    0\n",
              "answer      0\n",
              "dtype: int64"
            ]
          },
          "metadata": {},
          "execution_count": 7
        }
      ],
      "source": [
        "df.isna().sum()"
      ]
    },
    {
      "cell_type": "code",
      "execution_count": 8,
      "metadata": {
        "colab": {
          "base_uri": "https://localhost:8080/"
        },
        "id": "X2KSlU7FIk3P",
        "outputId": "08da5ecc-bf2b-4269-95ac-b04352d8f918"
      },
      "outputs": [
        {
          "output_type": "execute_result",
          "data": {
            "text/plain": [
              "array(['caption tasmanian berry grower nic hansen showing macau chef antimo merone around his property as part of export engagement activities the rise and rise of the australian strawberry raspberry and blackberry industries has seen the sectors redouble their international trade focus with the release of a dedicated export plan to grow their global presence over the next 10 years driven by significant grower input the berry export summary 2028 maps the sectors current position where they want to be highopportunity markets and next steps hort innovation trade manager jenny van de meeberg said the value and volume of raspberry and blackberry exports rose by 100 per cent between 2016 and 2017 she said the australian strawberry industry experienced similar success with an almost 30 per cent rise in export volume and a 26 per cent rise in value to 326m over the same period australian berry sectors are in a firm position at the moment she said production adoption of protected substrate cropping improved genetics and an expanding geographic footprint have all helped put aussie berries on a positive trajectory we are seeing a real transition point broad industry interest and a strong commercial appetite for export market development combined with the potential to capitalise on existing trade agreements and build new trade partnerships has created this perfect environment for growth highincome countries across europe north america and northern asia have been identified as having a palate for australian grown berries with more than 4244 tonnes of fresh berries exported in the last financial year alone the strategy identified the best shortterm prospect markets for the australian blackberry and raspberry industry as hong kong singapore the united arab emirates and canada the strongest shortterm trade options identified for the strawberry sector were thailand malaysia new zealand and macau the strategy focuses heavily on growing the existing strawberry export market from 4 per cent to at least 8 per cent of national production by volume in markets with a capacity and willingness to pay a premium for quality fruit for raspberries and blackberries the sectors aim to achieve a 5 per cent boost in exports assessed by volume across identified markets by 2021 tasmanian raspberry exporter nic hansen said australia offers some of the sweetest and most attractive berries in the world and this combined with our stringent food safety standards across all stages of the supply chain puts growers in a solid position we have a great product we are hungry to expand trade and now with this new plan in place we have a clear roadmap towards driving growth mr hansen said he said it is exciting to see new export market prospects for raspberries the more options we have for export the better now we just have to get on with the job of ensuring industry has all the tools it needs such as supporting data and relationship building opportunities to thrive in new markets this project was commissioned by hort innovation and developed by market analysts and research consultants auspex strategic advisory and aginfinity hort innovation will work now with berry sectors to determine levyfunded activities to support trade see a summary of the strategy on the hort innovation website for more information on the berry industries refer to the horticulture statistics handbook and the strategic investment plans for strawberries raspberries and blackberries growers seeking more information should email tradehorticulturecomau',\n",
              "       'what is the berry export summary 2028 and what is its purpose',\n",
              "       'the berry export summary 2028 is a dedicated export plan for the australian strawberry raspberry and blackberry industries it maps the sectors current position where they want to be highopportunity markets and next steps the purpose of this plan is to grow their global presence over the next 10 years'],\n",
              "      dtype=object)"
            ]
          },
          "metadata": {},
          "execution_count": 8
        }
      ],
      "source": [
        "df.values[0]"
      ]
    },
    {
      "cell_type": "code",
      "execution_count": 9,
      "metadata": {
        "colab": {
          "base_uri": "https://localhost:8080/",
          "height": 423
        },
        "id": "9GWGC52KImZ7",
        "outputId": "603411a3-3f13-4384-b536-2c60f2d05965"
      },
      "outputs": [
        {
          "output_type": "execute_result",
          "data": {
            "text/plain": [
              "                                                 context  \\\n",
              "0      caption tasmanian berry grower nic hansen show...   \n",
              "1      rwsn collaborations southern africa selfsupply...   \n",
              "2      all android applications categories descriptio...   \n",
              "3      how unequal is india the question is simple th...   \n",
              "4      gunnar nelson took his time on the feet agains...   \n",
              "...                                                  ...   \n",
              "11995  fuzzys ultra premium vodka the myth the man th...   \n",
              "11996  swedish grand prix rider malin nilsson got mar...   \n",
              "11997  the cracchiolo law library of the james e roge...   \n",
              "11998  2nd physical emag store opens in mammut online...   \n",
              "11999  about this cadillac 2019 cadillac xt5 fwd 4dr ...   \n",
              "\n",
              "                                                question  \\\n",
              "0      what is the berry export summary 2028 and what...   \n",
              "1      what are some of the benefits reported from ha...   \n",
              "2      what are the unique features of the coolands f...   \n",
              "3      what is the main difference between the nation...   \n",
              "4      how did gunnar nelson win the fight against za...   \n",
              "...                                                  ...   \n",
              "11995  what are some of the achievements of fuzzy zoe...   \n",
              "11996         who did malin nilsson marry on 2 june 2018   \n",
              "11997  what is the fellowship in law librarianship of...   \n",
              "11998  where has the second physical emag store been ...   \n",
              "11999  what are some of the key features of the 2019 ...   \n",
              "\n",
              "                                                  answer  \n",
              "0      the berry export summary 2028 is a dedicated e...  \n",
              "1      benefits reported from having access to selfsu...  \n",
              "2      the unique features of the coolands for twitte...  \n",
              "3      the main difference between the nss and the ih...  \n",
              "4      gunnar nelson won the fight against zak cummin...  \n",
              "...                                                  ...  \n",
              "11995  fuzzy zoeller is known for his golfing success...  \n",
              "11996  malin nilsson got married to her partner germa...  \n",
              "11997  the fellowship in law librarianship is a progr...  \n",
              "11998  the second physical emag store has been opened...  \n",
              "11999  the 2019 cadillac xt5 comes equipped with feat...  \n",
              "\n",
              "[11997 rows x 3 columns]"
            ],
            "text/html": [
              "<div>\n",
              "<style scoped>\n",
              "    .dataframe tbody tr th:only-of-type {\n",
              "        vertical-align: middle;\n",
              "    }\n",
              "\n",
              "    .dataframe tbody tr th {\n",
              "        vertical-align: top;\n",
              "    }\n",
              "\n",
              "    .dataframe thead th {\n",
              "        text-align: right;\n",
              "    }\n",
              "</style>\n",
              "<table border=\"1\" class=\"dataframe\">\n",
              "  <thead>\n",
              "    <tr style=\"text-align: right;\">\n",
              "      <th></th>\n",
              "      <th>context</th>\n",
              "      <th>question</th>\n",
              "      <th>answer</th>\n",
              "    </tr>\n",
              "  </thead>\n",
              "  <tbody>\n",
              "    <tr>\n",
              "      <th>0</th>\n",
              "      <td>caption tasmanian berry grower nic hansen show...</td>\n",
              "      <td>what is the berry export summary 2028 and what...</td>\n",
              "      <td>the berry export summary 2028 is a dedicated e...</td>\n",
              "    </tr>\n",
              "    <tr>\n",
              "      <th>1</th>\n",
              "      <td>rwsn collaborations southern africa selfsupply...</td>\n",
              "      <td>what are some of the benefits reported from ha...</td>\n",
              "      <td>benefits reported from having access to selfsu...</td>\n",
              "    </tr>\n",
              "    <tr>\n",
              "      <th>2</th>\n",
              "      <td>all android applications categories descriptio...</td>\n",
              "      <td>what are the unique features of the coolands f...</td>\n",
              "      <td>the unique features of the coolands for twitte...</td>\n",
              "    </tr>\n",
              "    <tr>\n",
              "      <th>3</th>\n",
              "      <td>how unequal is india the question is simple th...</td>\n",
              "      <td>what is the main difference between the nation...</td>\n",
              "      <td>the main difference between the nss and the ih...</td>\n",
              "    </tr>\n",
              "    <tr>\n",
              "      <th>4</th>\n",
              "      <td>gunnar nelson took his time on the feet agains...</td>\n",
              "      <td>how did gunnar nelson win the fight against za...</td>\n",
              "      <td>gunnar nelson won the fight against zak cummin...</td>\n",
              "    </tr>\n",
              "    <tr>\n",
              "      <th>...</th>\n",
              "      <td>...</td>\n",
              "      <td>...</td>\n",
              "      <td>...</td>\n",
              "    </tr>\n",
              "    <tr>\n",
              "      <th>11995</th>\n",
              "      <td>fuzzys ultra premium vodka the myth the man th...</td>\n",
              "      <td>what are some of the achievements of fuzzy zoe...</td>\n",
              "      <td>fuzzy zoeller is known for his golfing success...</td>\n",
              "    </tr>\n",
              "    <tr>\n",
              "      <th>11996</th>\n",
              "      <td>swedish grand prix rider malin nilsson got mar...</td>\n",
              "      <td>who did malin nilsson marry on 2 june 2018</td>\n",
              "      <td>malin nilsson got married to her partner germa...</td>\n",
              "    </tr>\n",
              "    <tr>\n",
              "      <th>11997</th>\n",
              "      <td>the cracchiolo law library of the james e roge...</td>\n",
              "      <td>what is the fellowship in law librarianship of...</td>\n",
              "      <td>the fellowship in law librarianship is a progr...</td>\n",
              "    </tr>\n",
              "    <tr>\n",
              "      <th>11998</th>\n",
              "      <td>2nd physical emag store opens in mammut online...</td>\n",
              "      <td>where has the second physical emag store been ...</td>\n",
              "      <td>the second physical emag store has been opened...</td>\n",
              "    </tr>\n",
              "    <tr>\n",
              "      <th>11999</th>\n",
              "      <td>about this cadillac 2019 cadillac xt5 fwd 4dr ...</td>\n",
              "      <td>what are some of the key features of the 2019 ...</td>\n",
              "      <td>the 2019 cadillac xt5 comes equipped with feat...</td>\n",
              "    </tr>\n",
              "  </tbody>\n",
              "</table>\n",
              "<p>11997 rows × 3 columns</p>\n",
              "</div>"
            ]
          },
          "metadata": {},
          "execution_count": 9
        }
      ],
      "source": [
        "df"
      ]
    },
    {
      "cell_type": "code",
      "execution_count": 10,
      "metadata": {
        "colab": {
          "base_uri": "https://localhost:8080/"
        },
        "id": "A3rj7XRNIoEB",
        "outputId": "a2081f86-0608-4f4e-a82d-062ef66a0144"
      },
      "outputs": [
        {
          "output_type": "stream",
          "name": "stdout",
          "text": [
            "Количество дубликатов context: 0\n",
            "Количество дубликатов question: 22\n",
            "Количество дубликатов answer: 0\n"
          ]
        }
      ],
      "source": [
        "print('Number of duplicates context:', df[df['context'].duplicated(keep=False)].shape[0])\n",
        "print('Number of duplicates question:', df[df['question'].duplicated(keep=False)].shape[0])\n",
        "print('Number of duplicates answer:', df[df['answer'].duplicated(keep=False)].shape[0])"
      ]
    },
    {
      "cell_type": "code",
      "execution_count": 11,
      "metadata": {
        "colab": {
          "base_uri": "https://localhost:8080/",
          "height": 739
        },
        "id": "8-6pUIiJIpkV",
        "outputId": "34b76205-bdef-4501-cfa3-30d36a23a2ad"
      },
      "outputs": [
        {
          "output_type": "execute_result",
          "data": {
            "text/plain": [
              "                                                 context  \\\n",
              "9991   background nectar mattress review is this foam...   \n",
              "6225   background nectar mattress review is this foam...   \n",
              "9259   explore concrete pump operator careers and fin...   \n",
              "9070   lead teacher jobs teacher early childhoodnew p...   \n",
              "11587  im sorry the pictures are so darksomeone im no...   \n",
              "2599   description if i eat flour i prefer to eat rye...   \n",
              "10753  hose hook up for jet skichameleon dating sites...   \n",
              "8322   they are both comparatively late age on na rie...   \n",
              "11483  order by popularity order by alphabet like spr...   \n",
              "6217   the synthetic fragrant compounds based on 2ter...   \n",
              "3245   surprisingly it took me a long time to find th...   \n",
              "6156   view diary family chooses prayer over medicine...   \n",
              "2392   its this honestly one of the greatest fights i...   \n",
              "9966   published at monday march 18th 2019 635 pm cit...   \n",
              "4059   create new account my profile my account my bo...   \n",
              "1639   create new account my profile my account my bo...   \n",
              "5806   credit cards with 0 interest and no transfer f...   \n",
              "6465   remembering the dogs of the titanic april 15th...   \n",
              "10333  armour thyroid and hashimotos no humoured squa...   \n",
              "131    virginia asthma and allergy way alteration do ...   \n",
              "5707   heart angel bell ornament from 1195 cross adju...   \n",
              "1813   purple paw swirl lightweight hooded tunic from...   \n",
              "\n",
              "                                                question  \\\n",
              "9991   what are some of the features that set the nec...   \n",
              "6225   what are some of the features that set the nec...   \n",
              "9259   what are some of the job roles mentioned in th...   \n",
              "9070   what are some of the job roles mentioned in th...   \n",
              "11587  what are the ingredients needed for the recipe...   \n",
              "2599   what are the ingredients needed for the recipe...   \n",
              "10753                          what is the context about   \n",
              "8322                           what is the context about   \n",
              "11483                          what is the context about   \n",
              "6217                           what is the context about   \n",
              "3245                           what is the context about   \n",
              "6156                           what is the context about   \n",
              "2392                what is the context discussing about   \n",
              "9966                what is the context discussing about   \n",
              "4059           what is the date mentioned in the context   \n",
              "1639           what is the date mentioned in the context   \n",
              "5806     what is the main topic discussed in the context   \n",
              "6465     what is the main topic discussed in the context   \n",
              "10333    what is the main topic discussed in the context   \n",
              "131      what is the main topic discussed in the context   \n",
              "5707   what is the price range of the items listed in...   \n",
              "1813   what is the price range of the items listed in...   \n",
              "\n",
              "                                                  answer  \n",
              "9991   some of the features that set the nectar mattr...  \n",
              "6225   the nectar mattress is a reasonably priced foa...  \n",
              "9259   some of the job roles mentioned in the context...  \n",
              "9070   some of the job roles mentioned in the context...  \n",
              "11587  the ingredients needed for the recipe are 5 c ...  \n",
              "2599   the ingredients needed for the recipe are rye ...  \n",
              "10753  the context is about various topics including ...  \n",
              "8322   the context is a collection of various sentenc...  \n",
              "11483  the context is about a list of titles or phras...  \n",
              "6217   the context is about synthetic fragrant compou...  \n",
              "3245   the context is about sorting 2d associative ar...  \n",
              "6156   the context is about a family choosing prayer ...  \n",
              "2392   the context is discussing about the favorite n...  \n",
              "9966   the context is discussing about citroen c5 fus...  \n",
              "4059    the date mentioned in the context is sep 29 2020  \n",
              "1639   the date mentioned in the context is tue jan 1...  \n",
              "5806   the main topic discussed in the context is cre...  \n",
              "6465   the main topic discussed in the context is rem...  \n",
              "10333  the main topic discussed in the context is arm...  \n",
              "131                          virginia asthma and allergy  \n",
              "5707   the price range of the items listed in the con...  \n",
              "1813   the price range of the items listed in the con...  "
            ],
            "text/html": [
              "<div>\n",
              "<style scoped>\n",
              "    .dataframe tbody tr th:only-of-type {\n",
              "        vertical-align: middle;\n",
              "    }\n",
              "\n",
              "    .dataframe tbody tr th {\n",
              "        vertical-align: top;\n",
              "    }\n",
              "\n",
              "    .dataframe thead th {\n",
              "        text-align: right;\n",
              "    }\n",
              "</style>\n",
              "<table border=\"1\" class=\"dataframe\">\n",
              "  <thead>\n",
              "    <tr style=\"text-align: right;\">\n",
              "      <th></th>\n",
              "      <th>context</th>\n",
              "      <th>question</th>\n",
              "      <th>answer</th>\n",
              "    </tr>\n",
              "  </thead>\n",
              "  <tbody>\n",
              "    <tr>\n",
              "      <th>9991</th>\n",
              "      <td>background nectar mattress review is this foam...</td>\n",
              "      <td>what are some of the features that set the nec...</td>\n",
              "      <td>some of the features that set the nectar mattr...</td>\n",
              "    </tr>\n",
              "    <tr>\n",
              "      <th>6225</th>\n",
              "      <td>background nectar mattress review is this foam...</td>\n",
              "      <td>what are some of the features that set the nec...</td>\n",
              "      <td>the nectar mattress is a reasonably priced foa...</td>\n",
              "    </tr>\n",
              "    <tr>\n",
              "      <th>9259</th>\n",
              "      <td>explore concrete pump operator careers and fin...</td>\n",
              "      <td>what are some of the job roles mentioned in th...</td>\n",
              "      <td>some of the job roles mentioned in the context...</td>\n",
              "    </tr>\n",
              "    <tr>\n",
              "      <th>9070</th>\n",
              "      <td>lead teacher jobs teacher early childhoodnew p...</td>\n",
              "      <td>what are some of the job roles mentioned in th...</td>\n",
              "      <td>some of the job roles mentioned in the context...</td>\n",
              "    </tr>\n",
              "    <tr>\n",
              "      <th>11587</th>\n",
              "      <td>im sorry the pictures are so darksomeone im no...</td>\n",
              "      <td>what are the ingredients needed for the recipe...</td>\n",
              "      <td>the ingredients needed for the recipe are 5 c ...</td>\n",
              "    </tr>\n",
              "    <tr>\n",
              "      <th>2599</th>\n",
              "      <td>description if i eat flour i prefer to eat rye...</td>\n",
              "      <td>what are the ingredients needed for the recipe...</td>\n",
              "      <td>the ingredients needed for the recipe are rye ...</td>\n",
              "    </tr>\n",
              "    <tr>\n",
              "      <th>10753</th>\n",
              "      <td>hose hook up for jet skichameleon dating sites...</td>\n",
              "      <td>what is the context about</td>\n",
              "      <td>the context is about various topics including ...</td>\n",
              "    </tr>\n",
              "    <tr>\n",
              "      <th>8322</th>\n",
              "      <td>they are both comparatively late age on na rie...</td>\n",
              "      <td>what is the context about</td>\n",
              "      <td>the context is a collection of various sentenc...</td>\n",
              "    </tr>\n",
              "    <tr>\n",
              "      <th>11483</th>\n",
              "      <td>order by popularity order by alphabet like spr...</td>\n",
              "      <td>what is the context about</td>\n",
              "      <td>the context is about a list of titles or phras...</td>\n",
              "    </tr>\n",
              "    <tr>\n",
              "      <th>6217</th>\n",
              "      <td>the synthetic fragrant compounds based on 2ter...</td>\n",
              "      <td>what is the context about</td>\n",
              "      <td>the context is about synthetic fragrant compou...</td>\n",
              "    </tr>\n",
              "    <tr>\n",
              "      <th>3245</th>\n",
              "      <td>surprisingly it took me a long time to find th...</td>\n",
              "      <td>what is the context about</td>\n",
              "      <td>the context is about sorting 2d associative ar...</td>\n",
              "    </tr>\n",
              "    <tr>\n",
              "      <th>6156</th>\n",
              "      <td>view diary family chooses prayer over medicine...</td>\n",
              "      <td>what is the context about</td>\n",
              "      <td>the context is about a family choosing prayer ...</td>\n",
              "    </tr>\n",
              "    <tr>\n",
              "      <th>2392</th>\n",
              "      <td>its this honestly one of the greatest fights i...</td>\n",
              "      <td>what is the context discussing about</td>\n",
              "      <td>the context is discussing about the favorite n...</td>\n",
              "    </tr>\n",
              "    <tr>\n",
              "      <th>9966</th>\n",
              "      <td>published at monday march 18th 2019 635 pm cit...</td>\n",
              "      <td>what is the context discussing about</td>\n",
              "      <td>the context is discussing about citroen c5 fus...</td>\n",
              "    </tr>\n",
              "    <tr>\n",
              "      <th>4059</th>\n",
              "      <td>create new account my profile my account my bo...</td>\n",
              "      <td>what is the date mentioned in the context</td>\n",
              "      <td>the date mentioned in the context is sep 29 2020</td>\n",
              "    </tr>\n",
              "    <tr>\n",
              "      <th>1639</th>\n",
              "      <td>create new account my profile my account my bo...</td>\n",
              "      <td>what is the date mentioned in the context</td>\n",
              "      <td>the date mentioned in the context is tue jan 1...</td>\n",
              "    </tr>\n",
              "    <tr>\n",
              "      <th>5806</th>\n",
              "      <td>credit cards with 0 interest and no transfer f...</td>\n",
              "      <td>what is the main topic discussed in the context</td>\n",
              "      <td>the main topic discussed in the context is cre...</td>\n",
              "    </tr>\n",
              "    <tr>\n",
              "      <th>6465</th>\n",
              "      <td>remembering the dogs of the titanic april 15th...</td>\n",
              "      <td>what is the main topic discussed in the context</td>\n",
              "      <td>the main topic discussed in the context is rem...</td>\n",
              "    </tr>\n",
              "    <tr>\n",
              "      <th>10333</th>\n",
              "      <td>armour thyroid and hashimotos no humoured squa...</td>\n",
              "      <td>what is the main topic discussed in the context</td>\n",
              "      <td>the main topic discussed in the context is arm...</td>\n",
              "    </tr>\n",
              "    <tr>\n",
              "      <th>131</th>\n",
              "      <td>virginia asthma and allergy way alteration do ...</td>\n",
              "      <td>what is the main topic discussed in the context</td>\n",
              "      <td>virginia asthma and allergy</td>\n",
              "    </tr>\n",
              "    <tr>\n",
              "      <th>5707</th>\n",
              "      <td>heart angel bell ornament from 1195 cross adju...</td>\n",
              "      <td>what is the price range of the items listed in...</td>\n",
              "      <td>the price range of the items listed in the con...</td>\n",
              "    </tr>\n",
              "    <tr>\n",
              "      <th>1813</th>\n",
              "      <td>purple paw swirl lightweight hooded tunic from...</td>\n",
              "      <td>what is the price range of the items listed in...</td>\n",
              "      <td>the price range of the items listed in the con...</td>\n",
              "    </tr>\n",
              "  </tbody>\n",
              "</table>\n",
              "</div>"
            ]
          },
          "metadata": {},
          "execution_count": 11
        }
      ],
      "source": [
        "df[df['question'].duplicated(keep=False)].sort_values(by='question')"
      ]
    },
    {
      "cell_type": "code",
      "execution_count": 12,
      "metadata": {
        "colab": {
          "base_uri": "https://localhost:8080/"
        },
        "id": "kMTSXkOoIrS4",
        "outputId": "61a0143b-3d41-4f2b-fc5b-6f81610d5666"
      },
      "outputs": [
        {
          "output_type": "stream",
          "name": "stdout",
          "text": [
            "Количество дубликатов question: 0\n"
          ]
        }
      ],
      "source": [
        "df_b = df.drop_duplicates(subset=['question'], keep='first')\n",
        "df_b.reset_index(drop=True, inplace=True)\n",
        "print('Number of duplicates question:', df_b[df_b['question'].duplicated(keep=False)].shape[0])"
      ]
    },
    {
      "cell_type": "markdown",
      "source": [
        "При очистке данных удалены все знаки не несущие полезной информации, удалены все явные дубликаты, данные приведены к нижнему регистру"
      ],
      "metadata": {
        "id": "kszQF2LSAt4q"
      }
    },
    {
      "cell_type": "markdown",
      "metadata": {
        "id": "HgU2lQZMqa1N"
      },
      "source": [
        "# Testing Models v.5"
      ]
    },
    {
      "cell_type": "code",
      "execution_count": 208,
      "metadata": {
        "colab": {
          "base_uri": "https://localhost:8080/"
        },
        "id": "ci5GCNwfVgJn",
        "outputId": "17d98d58-41b2-47f7-9cf7-6254f12cc519"
      },
      "outputs": [
        {
          "output_type": "stream",
          "name": "stderr",
          "text": [
            "100%|██████████████████████████████████████████████████████████████████████| 11983/11983 [25:40<00:00,  7.78question/s]"
          ]
        },
        {
          "output_type": "stream",
          "name": "stdout",
          "text": [
            "BM25Okapi accuracy: 87.31%\n"
          ]
        },
        {
          "output_type": "stream",
          "name": "stderr",
          "text": [
            "\n"
          ]
        }
      ],
      "source": [
        "#BM25\n",
        "contexts = [word_tokenize(context) for context in df_b['context']]\n",
        "questions = [word_tokenize(question) for question in df_b['question']]\n",
        "answers = df_b['answer'].tolist()\n",
        "# Инициализация BM25\n",
        "bm25 = BM25Okapi(contexts)\n",
        "# Проверка точности на датасете\n",
        "def evaluate_bm25(df_b, bm25):\n",
        "    correct = 0\n",
        "    for i in tqdm(range(len(df_b)), unit=\"question\"):\n",
        "        question = df_b.iloc[i]['question']\n",
        "        true_answer = df_b.iloc[i]['answer']\n",
        "        tokenized_question = word_tokenize(question)\n",
        "        scores = bm25.get_scores(tokenized_question)\n",
        "        top_index = scores.argmax()\n",
        "        retrieved_answer = df_b.iloc[top_index]['answer']\n",
        "        if retrieved_answer == true_answer:\n",
        "            correct += 1\n",
        "    accuracy = correct / len(df_b)\n",
        "    return accuracy\n",
        "# Вычисление точности\n",
        "accuracy = evaluate_bm25(df_b, bm25)\n",
        "print(f'BM25Okapi accuracy: {accuracy * 100:.2f}%')"
      ]
    },
    {
      "cell_type": "code",
      "execution_count": null,
      "metadata": {
        "id": "uwt43WHLdh_c"
      },
      "outputs": [],
      "source": [
        "#BM25 with ANN\n",
        "contexts = [word_tokenize(context) for context in df_b['context']]\n",
        "questions = df_b['question'].tolist()\n",
        "answers = df_b['answer'].tolist()\n",
        "# Инициализация BM25\n",
        "bm25 = BM25Okapi(contexts)\n",
        "# Параллельное вычисление BM25-оценок\n",
        "def compute_bm25_parallel(tokenized_documents, bm25):\n",
        "    with Pool(cpu_count()) as pool:\n",
        "        scores = list(tqdm(pool.imap(bm25.get_scores, tokenized_documents), total=len(tokenized_documents), unit=\"context\"))\n",
        "    return scores\n",
        "# Создание матрицы BM25 для контекстов\n",
        "bm25_matrix = compute_bm25_parallel(contexts, bm25)\n",
        "bm25_matrix = np.array(bm25_matrix)\n",
        "# Обучение ANN модели на основе BM25\n",
        "ann_bm25_model = NearestNeighbors(n_neighbors=1, metric='cosine').fit(bm25_matrix)"
      ]
    },
    {
      "cell_type": "code",
      "execution_count": null,
      "metadata": {
        "id": "pJZJk1kNkxxO"
      },
      "outputs": [],
      "source": [
        "questions = [word_tokenize(question) for question in df_b['question']]\n",
        "question_matrix = compute_bm25_parallel(questions, bm25)\n",
        "question_matrix = np.array(question_matrix)\n",
        "question_matrix = normalize(question_matrix, norm='l2')"
      ]
    },
    {
      "cell_type": "code",
      "execution_count": null,
      "metadata": {
        "colab": {
          "base_uri": "https://localhost:8080/"
        },
        "id": "7GawcjKB-Xgx",
        "outputId": "a3163752-ff6b-4984-8b0d-860d5faadcc5"
      },
      "outputs": [
        {
          "name": "stderr",
          "output_type": "stream",
          "text": [
            "Evaluating ANN with BM25: 100%|██████████████████████████████████████████| 11983/11983 [3:03:20<00:00,  1.09question/s]"
          ]
        },
        {
          "name": "stdout",
          "output_type": "stream",
          "text": [
            "ANN with BM25 Top-1 Accuracy: 8.55%\n"
          ]
        },
        {
          "name": "stderr",
          "output_type": "stream",
          "text": [
            "\n"
          ]
        }
      ],
      "source": [
        "# Проверка точности\n",
        "def evaluate_ann_bm25(df_b, question_matrix, ann_bm25_model):\n",
        "    correct = 0\n",
        "    for i in tqdm(range(len(df_b)), unit=\"question\"):\n",
        "        true_answer = df_b.iloc[i]['answer']\n",
        "        question_scores = question_matrix[i].reshape(1, -1)\n",
        "        distances, indices = ann_bm25_model.kneighbors(question_scores)\n",
        "        top_index = indices[0][0]\n",
        "        retrieved_answer = df_b.iloc[top_index]['answer']\n",
        "        if retrieved_answer == true_answer:\n",
        "            correct += 1\n",
        "    accuracy = correct / len(df_b)\n",
        "    return accuracy\n",
        "# Вычисление точности ANN с BM25\n",
        "accuracy_ann_bm25 = evaluate_ann_bm25(df_b, question_matrix, ann_bm25_model)\n",
        "print(f'ANN with BM25 Top-1 Accuracy: {accuracy_ann_bm25 * 100:.2f}%')"
      ]
    },
    {
      "cell_type": "code",
      "source": [
        "# Sentence Transformer 'all-MiniLM-L6-v2'\n",
        "# Подготовка данных\n",
        "contexts = df_b['context'].tolist()\n",
        "questions = df_b['question'].tolist()\n",
        "answers = df_b['answer'].tolist()\n",
        "# Инициализация Sentence Transformers\n",
        "model = SentenceTransformer('all-MiniLM-L6-v2')\n",
        "# Генерация эмбеддингов для контекстов\n",
        "context_vectors = []\n",
        "for context in tqdm(contexts):\n",
        "    context_vector = model.encode(context, show_progress_bar=False)\n",
        "    context_vectors.append(context_vector)\n",
        "context_vectors = np.array(context_vectors, dtype='float32')\n",
        "# Генерация эмбеддингов для вопросов\n",
        "question_vectors = []\n",
        "for question in tqdm(questions):\n",
        "    question_vector = model.encode(question, show_progress_bar=False)\n",
        "    question_vectors.append(question_vector)\n",
        "question_vectors = np.array(question_vectors, dtype='float32')\n",
        "# Нормализация векторов\n",
        "context_vectors = normalize(context_vectors, norm='l2')\n",
        "question_vectors = normalize(question_vectors, norm='l2')\n",
        "# Проверка точности\n",
        "def evaluate_embeddings(df_b, question_vectors, context_vectors):\n",
        "    correct = 0\n",
        "    for i in tqdm(range(len(df_b)), unit=\"question\"):\n",
        "        true_answer = df_b.iloc[i]['answer']\n",
        "        question_vector = question_vectors[i].reshape(1, -1)\n",
        "        similarities = cosine_similarity(question_vector, context_vectors).flatten()\n",
        "        top_index = np.argmax(similarities)\n",
        "        retrieved_answer = df_b.iloc[top_index]['answer']\n",
        "        if retrieved_answer == true_answer:\n",
        "            correct += 1\n",
        "    accuracy = correct / len(df_b)\n",
        "    return accuracy\n",
        "# Вычисление точности\n",
        "accuracy_embeddings = evaluate_embeddings(df_b, question_vectors, context_vectors)\n",
        "print(f'Sentence Transformers accuracy: {accuracy_embeddings * 100:.2f}%')"
      ],
      "metadata": {
        "colab": {
          "base_uri": "https://localhost:8080/"
        },
        "id": "bFYJd4Ujtui1",
        "outputId": "1cd3e8b0-52a7-41bd-f112-3c16a878d40e"
      },
      "execution_count": 103,
      "outputs": [
        {
          "output_type": "stream",
          "name": "stderr",
          "text": [
            "100%|████████████████████████████████████████████████████████████████████████████| 11983/11983 [02:13<00:00, 89.55it/s]\n",
            "100%|███████████████████████████████████████████████████████████████████████████| 11983/11983 [01:43<00:00, 115.60it/s]\n",
            "100%|██████████████████████████████████████████████████████████████████████| 11983/11983 [04:30<00:00, 44.36question/s]"
          ]
        },
        {
          "output_type": "stream",
          "name": "stdout",
          "text": [
            "Sentence Transformers accuracy: 75.52%\n"
          ]
        },
        {
          "output_type": "stream",
          "name": "stderr",
          "text": [
            "\n"
          ]
        }
      ]
    },
    {
      "cell_type": "code",
      "execution_count": 23,
      "metadata": {
        "colab": {
          "base_uri": "https://localhost:8080/"
        },
        "id": "vl4kcFvBKFdo",
        "outputId": "c2be6028-63a5-40e4-a613-4d791ddaf9ff"
      },
      "outputs": [
        {
          "output_type": "stream",
          "name": "stderr",
          "text": [
            "100%|████████████████████████████████████████████████████████████████████████████| 11983/11983 [02:01<00:00, 98.79it/s]\n",
            "100%|███████████████████████████████████████████████████████████████████████████| 11983/11983 [01:38<00:00, 121.33it/s]\n",
            "100%|████████████████████████████████████████████████████████████████████| 11983/11983 [00:10<00:00, 1124.44question/s]"
          ]
        },
        {
          "output_type": "stream",
          "name": "stdout",
          "text": [
            "FAISS with Sentence Transformers accuracy: 75.52%\n"
          ]
        },
        {
          "output_type": "stream",
          "name": "stderr",
          "text": [
            "\n"
          ]
        }
      ],
      "source": [
        "# FAISS with Sentence Transformers\n",
        "# Инициализация Sentence Transformers\n",
        "model = SentenceTransformer('all-MiniLM-L6-v2')\n",
        "# Генерация эмбеддингов для контекстов\n",
        "context_vectors = []\n",
        "for context in tqdm(contexts):\n",
        "    context_vector = model.encode(context, show_progress_bar=False)\n",
        "    context_vectors.append(context_vector)\n",
        "context_vectors = np.array(context_vectors, dtype='float32')\n",
        "# Генерация эмбеддингов для вопросов\n",
        "question_vectors = []\n",
        "for question in tqdm(questions):\n",
        "    question_vector = model.encode(question, show_progress_bar=False)\n",
        "    question_vectors.append(question_vector)\n",
        "question_vectors = np.array(question_vectors, dtype='float32')\n",
        "# Нормализация векторов\n",
        "context_vectors = normalize(context_vectors, norm='l2')\n",
        "question_vectors = normalize(question_vectors, norm='l2')\n",
        "# Создание индекса FAISS\n",
        "dimension = context_vectors.shape[1]\n",
        "index = faiss.IndexFlatL2(dimension)\n",
        "index.add(context_vectors)\n",
        "# Проверка точности FAISS с Sentence Transformers\n",
        "def evaluate_faiss_embeddings(df_b, question_vectors, index):\n",
        "    correct = 0\n",
        "    for i in tqdm(range(len(df_b)), unit=\"question\"):\n",
        "        true_answer = df_b.iloc[i]['answer']\n",
        "        question_vector = question_vectors[i].reshape(1, -1)\n",
        "        distances, indices = index.search(question_vector, k=1)\n",
        "        top_index = indices[0][0]\n",
        "        retrieved_answer = df_b.iloc[top_index]['answer']\n",
        "        if retrieved_answer == true_answer:\n",
        "            correct += 1\n",
        "    accuracy = correct / len(df_b)\n",
        "    return accuracy\n",
        "# Вычисление точности\n",
        "accuracy_embeddings = evaluate_faiss_embeddings(df_b, question_vectors, index)\n",
        "print(f'FAISS with Sentence Transformers accuracy: {accuracy_embeddings * 100:.2f}%')"
      ]
    },
    {
      "cell_type": "code",
      "execution_count": 24,
      "metadata": {
        "colab": {
          "base_uri": "https://localhost:8080/"
        },
        "id": "0phuK1jnd030",
        "outputId": "2222d157-4c4b-4022-e191-2b92781b0657"
      },
      "outputs": [
        {
          "output_type": "stream",
          "name": "stderr",
          "text": [
            "100%|████████████████████████████████████████████████████████████████████████████| 11983/11983 [02:02<00:00, 97.87it/s]\n",
            "100%|███████████████████████████████████████████████████████████████████████████| 11983/11983 [01:39<00:00, 119.92it/s]\n",
            "100%|██████████████████████████████████████████████████████████████████████| 11983/11983 [12:04<00:00, 16.55question/s]"
          ]
        },
        {
          "output_type": "stream",
          "name": "stdout",
          "text": [
            "Hybrid Search (BM25 + Sentence Transformers) accuracy: 81.73%\n"
          ]
        },
        {
          "output_type": "stream",
          "name": "stderr",
          "text": [
            "\n"
          ]
        }
      ],
      "source": [
        "# Hybrid Search (BM25 + Sentence Transformers)\n",
        "# Подготовка данных\n",
        "contexts = df_b['context'].tolist()\n",
        "questions = df_b['question'].tolist()\n",
        "answers = df_b['answer'].tolist()\n",
        "# Инициализация Sentence Transformers\n",
        "model = SentenceTransformer('all-MiniLM-L6-v2')\n",
        "# Инициализация BM25\n",
        "tokenized_contexts = [context.split() for context in contexts]\n",
        "bm25 = BM25Okapi(tokenized_contexts)\n",
        "# Генерация эмбеддингов для контекстов\n",
        "context_vectors = []\n",
        "for context in tqdm(contexts):\n",
        "    context_vector = model.encode(context, show_progress_bar=False)\n",
        "    context_vectors.append(context_vector)\n",
        "context_vectors = np.array(context_vectors, dtype='float32')\n",
        "# Генерация эмбеддингов для вопросов\n",
        "question_vectors = []\n",
        "for question in tqdm(questions):\n",
        "    question_vector = model.encode(question, show_progress_bar=False)\n",
        "    question_vectors.append(question_vector)\n",
        "question_vectors = np.array(question_vectors, dtype='float32')\n",
        "# Гибридный поиск\n",
        "def evaluate_hybrid_search(df_b, question_vectors, context_vectors, bm25, top_k=3):\n",
        "    correct = 0\n",
        "    for i in tqdm(range(len(df_b)), unit=\"question\"):\n",
        "        true_answer = df_b.iloc[i]['answer']\n",
        "        question = df_b.iloc[i]['question']\n",
        "        bm25_scores = bm25.get_scores(question.split())\n",
        "        top_bm25_indices = np.argsort(bm25_scores)[::-1][:top_k]\n",
        "        filtered_context_vectors = context_vectors[top_bm25_indices]\n",
        "        question_vector = question_vectors[i].reshape(1, -1)\n",
        "        similarities = cosine_similarity(question_vector, filtered_context_vectors).flatten()\n",
        "        best_match_index = top_bm25_indices[np.argmax(similarities)]\n",
        "        retrieved_answer = df_b.iloc[best_match_index]['answer']\n",
        "        if retrieved_answer == true_answer:\n",
        "            correct += 1\n",
        "    accuracy = correct / len(df_b)\n",
        "    return accuracy\n",
        "# Вычисление точности\n",
        "accuracy_hybrid = evaluate_hybrid_search(df_b, question_vectors, context_vectors, bm25, top_k=10)\n",
        "print(f'Hybrid Search (BM25 + Sentence Transformers) accuracy: {accuracy_hybrid * 100:.2f}%')"
      ]
    },
    {
      "cell_type": "code",
      "execution_count": 25,
      "metadata": {
        "colab": {
          "base_uri": "https://localhost:8080/"
        },
        "id": "fs03L4fojQ1o",
        "outputId": "254d6e88-12c9-4aa8-ed86-3711f2ef5930"
      },
      "outputs": [
        {
          "output_type": "stream",
          "name": "stderr",
          "text": [
            "100%|████████████████████████████████████████████████████████████████████████████| 11983/11983 [02:00<00:00, 99.73it/s]\n",
            "100%|███████████████████████████████████████████████████████████████████████████| 11983/11983 [01:37<00:00, 122.89it/s]\n"
          ]
        },
        {
          "output_type": "stream",
          "name": "stdout",
          "text": [
            "top_k = 2\n"
          ]
        },
        {
          "output_type": "stream",
          "name": "stderr",
          "text": [
            "100%|██████████████████████████████████████████████████████████████████████| 11983/11983 [13:19<00:00, 14.99question/s]\n"
          ]
        },
        {
          "output_type": "stream",
          "name": "stdout",
          "text": [
            "top_k = 2, accuracy = 85.05%\n",
            "top_k = 3\n"
          ]
        },
        {
          "output_type": "stream",
          "name": "stderr",
          "text": [
            "100%|██████████████████████████████████████████████████████████████████████| 11983/11983 [13:20<00:00, 14.98question/s]\n"
          ]
        },
        {
          "output_type": "stream",
          "name": "stdout",
          "text": [
            "top_k = 3, accuracy = 83.91%\n",
            "top_k = 4\n"
          ]
        },
        {
          "output_type": "stream",
          "name": "stderr",
          "text": [
            "100%|██████████████████████████████████████████████████████████████████████| 11983/11983 [12:11<00:00, 16.37question/s]\n"
          ]
        },
        {
          "output_type": "stream",
          "name": "stdout",
          "text": [
            "top_k = 4, accuracy = 83.26%\n",
            "top_k = 5\n"
          ]
        },
        {
          "output_type": "stream",
          "name": "stderr",
          "text": [
            "100%|██████████████████████████████████████████████████████████████████████| 11983/11983 [11:30<00:00, 17.34question/s]\n"
          ]
        },
        {
          "output_type": "stream",
          "name": "stdout",
          "text": [
            "top_k = 5, accuracy = 82.87%\n",
            "top_k = 6\n"
          ]
        },
        {
          "output_type": "stream",
          "name": "stderr",
          "text": [
            "100%|██████████████████████████████████████████████████████████████████████| 11983/11983 [11:15<00:00, 17.73question/s]\n"
          ]
        },
        {
          "output_type": "stream",
          "name": "stdout",
          "text": [
            "top_k = 6, accuracy = 82.48%\n",
            "top_k = 7\n"
          ]
        },
        {
          "output_type": "stream",
          "name": "stderr",
          "text": [
            "100%|██████████████████████████████████████████████████████████████████████| 11983/11983 [11:13<00:00, 17.79question/s]"
          ]
        },
        {
          "output_type": "stream",
          "name": "stdout",
          "text": [
            "top_k = 7, accuracy = 82.27%\n"
          ]
        },
        {
          "output_type": "stream",
          "name": "stderr",
          "text": [
            "\n"
          ]
        }
      ],
      "source": [
        "# Hybrid Search (BM25 + Sentence Transformers) Проверка разных значенний top_k\n",
        "# Подготовка данных\n",
        "contexts = df_b['context'].tolist()\n",
        "questions = df_b['question'].tolist()\n",
        "answers = df_b['answer'].tolist()\n",
        "# Инициализация Sentence Transformers\n",
        "model = SentenceTransformer('all-MiniLM-L6-v2')\n",
        "# Инициализация BM25\n",
        "tokenized_contexts = [context.split() for context in contexts]\n",
        "bm25 = BM25Okapi(tokenized_contexts)\n",
        "# Генерация эмбеддингов для контекстов\n",
        "context_vectors = []\n",
        "for context in tqdm(contexts):\n",
        "    context_vector = model.encode(context, show_progress_bar=False)\n",
        "    context_vectors.append(context_vector)\n",
        "context_vectors = np.array(context_vectors, dtype='float32')\n",
        "# Генерация эмбеддингов для вопросов\n",
        "question_vectors = []\n",
        "for question in tqdm(questions):\n",
        "    question_vector = model.encode(question, show_progress_bar=False)\n",
        "    question_vectors.append(question_vector)\n",
        "question_vectors = np.array(question_vectors, dtype='float32')\n",
        "# Гибридный поиск\n",
        "def evaluate_hybrid_search(df_b, question_vectors, context_vectors, bm25, top_k=5):\n",
        "    correct = 0\n",
        "    for i in tqdm(range(len(df_b)), unit=\"question\"):\n",
        "        true_answer = df_b.iloc[i]['answer']\n",
        "        question = df_b.iloc[i]['question']\n",
        "        bm25_scores = bm25.get_scores(question.split())\n",
        "        top_bm25_indices = np.argsort(bm25_scores)[::-1][:top_k]\n",
        "        filtered_context_vectors = context_vectors[top_bm25_indices]\n",
        "        question_vector = question_vectors[i].reshape(1, -1)\n",
        "        similarities = cosine_similarity(question_vector, filtered_context_vectors).flatten()\n",
        "        best_match_index = top_bm25_indices[np.argmax(similarities)]\n",
        "        retrieved_answer = df_b.iloc[best_match_index]['answer']\n",
        "        if retrieved_answer == true_answer:\n",
        "            correct += 1\n",
        "    accuracy = correct / len(df_b)\n",
        "    return accuracy\n",
        "# Подбор параметра top_k\n",
        "def tune_top_k(df_b, question_vectors, context_vectors, bm25, top_k_values):\n",
        "    results = []\n",
        "    for top_k in top_k_values:\n",
        "        print(f\"top_k = {top_k}\")\n",
        "        accuracy = evaluate_hybrid_search(df_b, question_vectors, context_vectors, bm25, top_k=top_k)\n",
        "        results.append({\"top_k\": top_k, \"accuracy\": accuracy})\n",
        "        print(f\"top_k = {top_k}, accuracy = {accuracy * 100:.2f}%\")\n",
        "    return results\n",
        "# Диапазон значений top_k\n",
        "top_k_values = [2, 3, 4, 5, 6, 7]\n",
        "results = tune_top_k(df_b, question_vectors, context_vectors, bm25, top_k_values)"
      ]
    },
    {
      "cell_type": "code",
      "source": [
        "# Hybrid Search (BM25 + Sentence Transformers) combine scores\n",
        "# Подготовка данных\n",
        "contexts = df_b['context'].tolist()\n",
        "questions = df_b['question'].tolist()\n",
        "answers = df_b['answer'].tolist()\n",
        "# Инициализация Sentence Transformers\n",
        "model = SentenceTransformer('all-MiniLM-L6-v2')\n",
        "# Инициализация BM25\n",
        "tokenized_contexts = [context.split() for context in contexts]\n",
        "bm25 = BM25Okapi(tokenized_contexts)\n",
        "# Генерация эмбеддингов для контекстов\n",
        "context_vectors = []\n",
        "for context in tqdm(contexts):\n",
        "    context_vector = model.encode(context, show_progress_bar=False)\n",
        "    context_vectors.append(context_vector)\n",
        "context_vectors = np.array(context_vectors, dtype='float32')\n",
        "# Генерация эмбеддингов для вопросов\n",
        "question_vectors = []\n",
        "for question in tqdm(questions):\n",
        "    question_vector = model.encode(question, show_progress_bar=False)\n",
        "    question_vectors.append(question_vector)\n",
        "question_vectors = np.array(question_vectors, dtype='float32')\n",
        "# Гибридный поиск\n",
        "def evaluate_hybrid_search(df_b, question_vectors, context_vectors, bm25, top_k=3):\n",
        "    correct = 0\n",
        "    for i in tqdm(range(len(df_b)), unit=\"question\"):\n",
        "        true_answer = df_b.iloc[i]['answer']\n",
        "        question = df_b.iloc[i]['question']\n",
        "        bm25_scores = bm25.get_scores(question.split())\n",
        "        top_bm25_indices = np.argsort(bm25_scores)[::-1][:top_k]\n",
        "        filtered_context_vectors = context_vectors[top_bm25_indices]\n",
        "        question_vector = question_vectors[i].reshape(1, -1)\n",
        "        similarities = cosine_similarity(question_vector, filtered_context_vectors).flatten()\n",
        "# Комбинирование оценок BM25 и косинусного сходства\n",
        "        combined_scores = bm25_scores[top_bm25_indices] + similarities\n",
        "        best_match_index = top_bm25_indices[np.argmax(combined_scores)]\n",
        "        retrieved_answer = df_b.iloc[best_match_index]['answer']\n",
        "        if retrieved_answer == true_answer:\n",
        "            correct += 1\n",
        "    accuracy = correct / len(df_b)\n",
        "    return accuracy\n",
        "# Вычисление точности\n",
        "accuracy_hybrid = evaluate_hybrid_search(df_b, question_vectors, context_vectors, bm25, top_k=10)\n",
        "print(f'Hybrid Search (BM25 + Sentence Transformers) combine scores accuracy: {accuracy_hybrid * 100:.2f}%')"
      ],
      "metadata": {
        "colab": {
          "base_uri": "https://localhost:8080/"
        },
        "id": "nqSoTAo8Br21",
        "outputId": "bd10f778-c6f3-4cca-bcdf-8803bda3973b"
      },
      "execution_count": 207,
      "outputs": [
        {
          "output_type": "stream",
          "name": "stderr",
          "text": [
            "100%|████████████████████████████████████████████████████████████████████████████| 11983/11983 [05:18<00:00, 37.68it/s]\n",
            "100%|████████████████████████████████████████████████████████████████████████████| 11983/11983 [02:15<00:00, 88.72it/s]\n",
            "100%|██████████████████████████████████████████████████████████████████████| 11983/11983 [30:19<00:00,  6.59question/s]"
          ]
        },
        {
          "output_type": "stream",
          "name": "stdout",
          "text": [
            "Hybrid Search (BM25 + Sentence Transformers) combine scores accuracy: 87.60%\n"
          ]
        },
        {
          "output_type": "stream",
          "name": "stderr",
          "text": [
            "\n"
          ]
        }
      ]
    },
    {
      "cell_type": "code",
      "source": [
        "#RRF\n",
        "# Подготовка данных\n",
        "contexts = df_b['context'].tolist()\n",
        "questions = df_b['question'].tolist()\n",
        "answers = df_b['answer'].tolist()\n",
        "# Инициализация Sentence Transformers\n",
        "model = SentenceTransformer('all-MiniLM-L6-v2')\n",
        "# Инициализация BM25\n",
        "tokenized_contexts = [context.split() for context in contexts]\n",
        "bm25 = BM25Okapi(tokenized_contexts)\n",
        "# Генерация эмбеддингов для контекстов\n",
        "context_vectors = []\n",
        "for context in tqdm(contexts):\n",
        "    context_vector = model.encode(context, show_progress_bar=False)\n",
        "    context_vectors.append(context_vector)\n",
        "context_vectors = np.array(context_vectors, dtype='float32')\n",
        "# Генерация эмбеддингов для вопросов\n",
        "question_vectors = []\n",
        "for question in tqdm(questions):\n",
        "    question_vector = model.encode(question, show_progress_bar=False)\n",
        "    question_vectors.append(question_vector)\n",
        "question_vectors = np.array(question_vectors, dtype='float32')\n",
        "# Гибридный поиск с использованием RRF\n",
        "def evaluate_rrf(df_b, question_vectors, context_vectors, bm25, k=60):\n",
        "    correct = 0\n",
        "    for i in tqdm(range(len(df_b)), unit=\"question\"):\n",
        "        true_answer = df_b.iloc[i]['answer']\n",
        "        question = df_b.iloc[i]['question']\n",
        "        bm25_scores = bm25.get_scores(question.split())\n",
        "        bm25_ranks = np.argsort(bm25_scores)[::-1]\n",
        "        question_vector = question_vectors[i].reshape(1, -1)\n",
        "        similarities = cosine_similarity(question_vector, context_vectors).flatten()\n",
        "        st_ranks = np.argsort(similarities)[::-1]\n",
        "        # Комбинирование рангов с использованием RRF\n",
        "        rrf_scores = {idx: 0 for idx in range(len(df_b))}\n",
        "        for rank, idx in enumerate(bm25_ranks[:k]):\n",
        "            rrf_scores[idx] += 1 / (60 + rank)\n",
        "        for rank, idx in enumerate(st_ranks[:k]):\n",
        "            rrf_scores[idx] += 1 / (60 + rank)\n",
        "        best_match_index = max(rrf_scores, key=rrf_scores.get)\n",
        "        retrieved_answer = df_b.iloc[best_match_index]['answer']\n",
        "        if retrieved_answer == true_answer:\n",
        "            correct += 1\n",
        "    accuracy = correct / len(df_b)\n",
        "    return accuracy\n",
        "# Вычисление точности\n",
        "accuracy_rrf = evaluate_rrf(df_b, question_vectors, context_vectors, bm25, k=60)\n",
        "print(f'RRF accuracy: {accuracy_rrf * 100:.2f}%')"
      ],
      "metadata": {
        "colab": {
          "base_uri": "https://localhost:8080/"
        },
        "id": "1KWHNPXL4FUX",
        "outputId": "0a1ba451-a1fd-4cdf-ceb2-b0d78d241970"
      },
      "execution_count": 206,
      "outputs": [
        {
          "output_type": "stream",
          "name": "stderr",
          "text": [
            "100%|████████████████████████████████████████████████████████████████████████████| 11983/11983 [05:26<00:00, 36.72it/s]\n",
            "100%|████████████████████████████████████████████████████████████████████████████| 11983/11983 [02:12<00:00, 90.53it/s]\n",
            "100%|██████████████████████████████████████████████████████████████████████| 11983/11983 [55:14<00:00,  3.62question/s]"
          ]
        },
        {
          "output_type": "stream",
          "name": "stdout",
          "text": [
            "RRF accuracy: 83.25%\n"
          ]
        },
        {
          "output_type": "stream",
          "name": "stderr",
          "text": [
            "\n"
          ]
        }
      ]
    },
    {
      "cell_type": "markdown",
      "source": [
        "Использование гибридного поиска с отбором кандидатов только ухудшило результат, при увеличении отобранных элементов с помощью BM25 показатель accuracy снижается."
      ],
      "metadata": {
        "id": "629yZE6uoXO2"
      }
    },
    {
      "cell_type": "markdown",
      "source": [
        "Метод гибридного поиска из комбинации BM25 и Sentence Transformers с помощью линейного сложения их оценок показал наилучшие результаты accuracy: 87.60%"
      ],
      "metadata": {
        "id": "un_rLNRnjl-a"
      }
    },
    {
      "cell_type": "markdown",
      "source": [
        "Дополнительно интересно отметить что использование FAISS с Sentence Transformers ускорило поиск в 43 раза, но так же стоит отметить, что использовались разные метрики: для FAISS евклидово расстояние, для Sentence Transformers косинусное расстояние. Следует произвести дополнительные исследования"
      ],
      "metadata": {
        "id": "zzGY5CrNmC1T"
      }
    },
    {
      "cell_type": "markdown",
      "metadata": {
        "id": "uTknLV1sFDtD"
      },
      "source": [
        "# Cоздание коллекции qdrant"
      ]
    },
    {
      "cell_type": "code",
      "source": [
        "data = [\n",
        "    {\"_id\": idx, \"context\": row[\"context\"], \"question\": row[\"question\"], \"answer\": row[\"answer\"]}\n",
        "    for idx, row in df_b.iterrows()\n",
        "]\n",
        "data[:3]"
      ],
      "metadata": {
        "colab": {
          "base_uri": "https://localhost:8080/"
        },
        "id": "z20kyS2282dv",
        "outputId": "3ff583db-70f4-4a07-f4a5-83b845f0f432",
        "collapsed": true
      },
      "execution_count": 145,
      "outputs": [
        {
          "output_type": "execute_result",
          "data": {
            "text/plain": [
              "[{'_id': 0,\n",
              "  'context': 'caption tasmanian berry grower nic hansen showing macau chef antimo merone around his property as part of export engagement activities the rise and rise of the australian strawberry raspberry and blackberry industries has seen the sectors redouble their international trade focus with the release of a dedicated export plan to grow their global presence over the next 10 years driven by significant grower input the berry export summary 2028 maps the sectors current position where they want to be highopportunity markets and next steps hort innovation trade manager jenny van de meeberg said the value and volume of raspberry and blackberry exports rose by 100 per cent between 2016 and 2017 she said the australian strawberry industry experienced similar success with an almost 30 per cent rise in export volume and a 26 per cent rise in value to 326m over the same period australian berry sectors are in a firm position at the moment she said production adoption of protected substrate cropping improved genetics and an expanding geographic footprint have all helped put aussie berries on a positive trajectory we are seeing a real transition point broad industry interest and a strong commercial appetite for export market development combined with the potential to capitalise on existing trade agreements and build new trade partnerships has created this perfect environment for growth highincome countries across europe north america and northern asia have been identified as having a palate for australian grown berries with more than 4244 tonnes of fresh berries exported in the last financial year alone the strategy identified the best shortterm prospect markets for the australian blackberry and raspberry industry as hong kong singapore the united arab emirates and canada the strongest shortterm trade options identified for the strawberry sector were thailand malaysia new zealand and macau the strategy focuses heavily on growing the existing strawberry export market from 4 per cent to at least 8 per cent of national production by volume in markets with a capacity and willingness to pay a premium for quality fruit for raspberries and blackberries the sectors aim to achieve a 5 per cent boost in exports assessed by volume across identified markets by 2021 tasmanian raspberry exporter nic hansen said australia offers some of the sweetest and most attractive berries in the world and this combined with our stringent food safety standards across all stages of the supply chain puts growers in a solid position we have a great product we are hungry to expand trade and now with this new plan in place we have a clear roadmap towards driving growth mr hansen said he said it is exciting to see new export market prospects for raspberries the more options we have for export the better now we just have to get on with the job of ensuring industry has all the tools it needs such as supporting data and relationship building opportunities to thrive in new markets this project was commissioned by hort innovation and developed by market analysts and research consultants auspex strategic advisory and aginfinity hort innovation will work now with berry sectors to determine levyfunded activities to support trade see a summary of the strategy on the hort innovation website for more information on the berry industries refer to the horticulture statistics handbook and the strategic investment plans for strawberries raspberries and blackberries growers seeking more information should email tradehorticulturecomau',\n",
              "  'question': 'what is the berry export summary 2028 and what is its purpose',\n",
              "  'answer': 'the berry export summary 2028 is a dedicated export plan for the australian strawberry raspberry and blackberry industries it maps the sectors current position where they want to be highopportunity markets and next steps the purpose of this plan is to grow their global presence over the next 10 years'},\n",
              " {'_id': 1,\n",
              "  'context': 'rwsn collaborations southern africa selfsupply study review of selfsupply and its support services in african countries a lady in zimbabwe proudly shows off her onions watered from her selfsupply well 2015 andr olschewski skat project starts 2015 project finished 2016 collaborators partners project description unicef and skat have collaborated on a perspectives reach and benefits selfsupply is practised by millions of rural households in subsahara africa as well as in europe usa and other areas of the world benefits reported from having access to selfsupply water sources include convenience less time spent for fetching water and access to more and better quality water in some areas selfsupply sources offer important added values such as water for productive use income generation family safety and improved food security sustainability of services from selfsupply is high as there is strong ownership by people investing in own sources as selfsupply sources are shared sources many people including poor and vulnerable households benefit from investments in selfsupply often at no costs this means that selfsupply can be effective in reaching the hardtoreach for millions of people in rural areas of africa supported selfsupply will be the most cost effective service delivery model to provide access to safe water this also includes those parts of the population which actually have poor access as they eg cannot afford water from communal supplies however in areas where external support for selfsupply is lacking only marginal improvements can usually be achieved and the quality of services is lower than in areas where a dedicated support effort was made costs and business model for supported selfsupply in many rural contexts supported selfsupply is the most cost effective approach for water service delivery however as it is not applicable in all contexts a blended approach combining communal water supply and supported selfsupply models should be followed based on a life cycle cost lcc analysis of different service delivery approaches the lcc for communal supplies are about 40 uscapita served in the study countries whereas the lcc for supported selfsupply is about 10 ucapita in sparsely populated areas communal supplies eg handpumps are even more costly up to 100 ucapita served as only few people can be served with one additional unit serving all rural people with communal supply is therefore not financially viable considering the applicability of selfsupply technologies in zambia and zimbabwe the cost saving of following a blended approach using both communal supplies and supported selfsupply is almost 50 of the total lcc for reaching 100 of the population by 2030 these cost savings are equivalent to more than 330 million us in zambia and more than 260 million us in zimbabwe support services needed supported selfsupply is a service delivery model putting support services in place to improve selfsupply so it is not about a particular technology supported selfsupply is aligned with the human rights to water and sanitation which allows a progressive realisation of the universal access to safe water however supported selfsupply is not a way to exempt government from its duties government has specific roles to play to ensure that everybody will have access to safe water finally to sustain and to take selfsupply to scale there is need for contextualised support as well as longterm engagement capacity development at all levels me and technical support reliable funding and learning and sharing interministerial cooperation and champions within government agencies are needed to ensure sustainable embedding and for taking selfsupply further particularly in remote rural areas there is noonesizefitsall solution for supported selfsupply for each programme it needs a contextualized design and followup to achieve desired impact hygiene promotion including household water treatment and safe storage hwts is highly recommended for any nonpiped water supply services including selfsupply water sources the huge potential for substantially improving the level of water supply for millions of people in rural areas should be accessed through supported selfsupply some countries have endorsed supported selfsupply as service delivery model such as zimbabwe or sierra leone and in ethiopia selfsupply is now being scaled up at national level more information review of selfsupply and its support services in african countries synthesis report',\n",
              "  'question': 'what are some of the benefits reported from having access to selfsupply water sources',\n",
              "  'answer': 'benefits reported from having access to selfsupply water sources include convenience less time spent for fetching water and access to more and better quality water in some areas selfsupply sources offer important added values such as water for productive use income generation family safety and improved food security'},\n",
              " {'_id': 2,\n",
              "  'context': 'all android applications categories description coolands for twitter is a revolutionary twitter client it has many unique features gives you the best mobile twitter experience you never imagined before the first unique feature is realtime you cant find any refresh button in this app because you absolutely dont need to every time you open it youll get the latest tweets and while youre reading youll get incoming tweets in realtime so if your friend mentioned you you can reply instantly the second unique feature is avatar indicator avatar indicator is small avatars showed on the title bar to indicate that youve got new messagetweetmention since its realtime youll keep getting incoming tweets while youre reading your older timeline avatarindicator will let you know whos tweet youve just got and decide whether to check it out right away the third unique feature is direct link i think it is obviously the most intuitive and convenient way to open a link when you want to open a link just click it in the time line you can also click a username to open a profile window click a hash tag to open a search result window different kind of links displayed in different colors you can change it to whatever color you like the fourth unique feature is smart bookmark have you ever experienced this scenario when you are reading your home timeline the app notified you that youve got some new tweets you click gototop button to read the newest tweets and then you want to get back to the previous position to continue your reading how can you do this in other twitter clients you have to scroll down all the way to find where you were a lot of time wasted but in this app gototop button will appear when you scrolling up click it you can got to top read the newest tweets after that when you scrolling down smart bookmark button will appear at the corner click it you can get back to exactly where you were the fifth unique feature is user level notification notification for all your new tweets is meaningless if you following more than a few users youll get new tweets all the time what if you only want to be notified when someone you most care about posted a new tweet in this app its easy you can change your friends notification setting directly in hisher profile screen you can also set different notification ringtone for your friends respectively so when you heard a notification ringtone youll know who heshe is without the need to open your phone and you can manage all the enabled userlevelnotification settings in one place also has most of the basic twitter client features like postdelete tweets retweet retweet with comment reply quote senddelete direct message subscribeunsubscribe lists followunfollow user multiple accounts support append picture with your tweets mention auto complete recent search auto complete conversation view please give me feedbacks if you have tried it and i promise to reply all your emails 130136 update adfree 3 times faster when launching and loading older tweets support unlimited accounts rather than 3 accounts support notifications for all accounts rather than only for the current account improved mention suggestion feature use url link to do rt with comment so you can comment more characters conversation view click the orangeyou can change the color username in replied tweet to show conversation view support longer tweet longer tweet will be converted to a picture automatically you really should try it out your self refined tweet composing view to support longer tweet support handle text shared by other app from 103 reviews download coolands for twitter free v138 298k sorry this app is no longer available share this app screenshots',\n",
              "  'question': 'what are the unique features of the coolands for twitter app',\n",
              "  'answer': 'the unique features of the coolands for twitter app include realtime updates without the need for a refresh button avatar indicator which shows small avatars on the title bar for new messages direct link for intuitive and convenient link opening smart bookmark to easily return to previous reading position and user level notification which allows customized notification settings for different users'}]"
            ]
          },
          "metadata": {},
          "execution_count": 145
        }
      ]
    },
    {
      "cell_type": "code",
      "source": [
        "type(data)"
      ],
      "metadata": {
        "colab": {
          "base_uri": "https://localhost:8080/"
        },
        "id": "zG9xvUaBBLdH",
        "outputId": "b25ce698-052a-4a80-af14-1307ede83ab9"
      },
      "execution_count": 146,
      "outputs": [
        {
          "output_type": "execute_result",
          "data": {
            "text/plain": [
              "list"
            ]
          },
          "metadata": {},
          "execution_count": 146
        }
      ]
    },
    {
      "cell_type": "code",
      "execution_count": 152,
      "metadata": {
        "colab": {
          "base_uri": "https://localhost:8080/"
        },
        "id": "U6oKafBrrnYe",
        "outputId": "e613d25c-3738-4efb-875d-0259237064c1",
        "collapsed": true
      },
      "outputs": [
        {
          "output_type": "stream",
          "name": "stdout",
          "text": [
            "Requirement already satisfied: fastembed in c:\\users\\lex09\\anaconda3\\lib\\site-packages (0.4.2)\n",
            "Requirement already satisfied: huggingface-hub<1.0,>=0.20 in c:\\users\\lex09\\anaconda3\\lib\\site-packages (from fastembed) (0.26.5)\n",
            "Requirement already satisfied: loguru<0.8.0,>=0.7.2 in c:\\users\\lex09\\anaconda3\\lib\\site-packages (from fastembed) (0.7.3)\n",
            "Requirement already satisfied: mmh3<5.0.0,>=4.1.0 in c:\\users\\lex09\\anaconda3\\lib\\site-packages (from fastembed) (4.1.0)\n",
            "Requirement already satisfied: numpy>=1.26 in c:\\users\\lex09\\anaconda3\\lib\\site-packages (from fastembed) (1.26.4)\n",
            "Requirement already satisfied: onnx<2.0.0,>=1.15.0 in c:\\users\\lex09\\anaconda3\\lib\\site-packages (from fastembed) (1.17.0)\n",
            "Requirement already satisfied: onnxruntime<1.20.0,>=1.17.0 in c:\\users\\lex09\\anaconda3\\lib\\site-packages (from fastembed) (1.19.2)\n",
            "Requirement already satisfied: pillow<11.0.0,>=10.3.0 in c:\\users\\lex09\\anaconda3\\lib\\site-packages (from fastembed) (10.3.0)\n",
            "Requirement already satisfied: py-rust-stemmers<0.2.0,>=0.1.0 in c:\\users\\lex09\\anaconda3\\lib\\site-packages (from fastembed) (0.1.3)\n",
            "Requirement already satisfied: requests<3.0,>=2.31 in c:\\users\\lex09\\anaconda3\\lib\\site-packages (from fastembed) (2.32.2)\n",
            "Requirement already satisfied: tokenizers<1.0,>=0.15 in c:\\users\\lex09\\anaconda3\\lib\\site-packages (from fastembed) (0.21.0)\n",
            "Requirement already satisfied: tqdm<5.0,>=4.66 in c:\\users\\lex09\\anaconda3\\lib\\site-packages (from fastembed) (4.66.4)\n",
            "Requirement already satisfied: filelock in c:\\users\\lex09\\anaconda3\\lib\\site-packages (from huggingface-hub<1.0,>=0.20->fastembed) (3.13.1)\n",
            "Requirement already satisfied: fsspec>=2023.5.0 in c:\\users\\lex09\\anaconda3\\lib\\site-packages (from huggingface-hub<1.0,>=0.20->fastembed) (2024.3.1)\n",
            "Requirement already satisfied: packaging>=20.9 in c:\\users\\lex09\\anaconda3\\lib\\site-packages (from huggingface-hub<1.0,>=0.20->fastembed) (23.2)\n",
            "Requirement already satisfied: pyyaml>=5.1 in c:\\users\\lex09\\anaconda3\\lib\\site-packages (from huggingface-hub<1.0,>=0.20->fastembed) (6.0.1)\n",
            "Requirement already satisfied: typing-extensions>=3.7.4.3 in c:\\users\\lex09\\anaconda3\\lib\\site-packages (from huggingface-hub<1.0,>=0.20->fastembed) (4.11.0)\n",
            "Requirement already satisfied: colorama>=0.3.4 in c:\\users\\lex09\\anaconda3\\lib\\site-packages (from loguru<0.8.0,>=0.7.2->fastembed) (0.4.6)\n",
            "Requirement already satisfied: win32-setctime>=1.0.0 in c:\\users\\lex09\\anaconda3\\lib\\site-packages (from loguru<0.8.0,>=0.7.2->fastembed) (1.2.0)\n",
            "Requirement already satisfied: protobuf>=3.20.2 in c:\\users\\lex09\\anaconda3\\lib\\site-packages (from onnx<2.0.0,>=1.15.0->fastembed) (5.29.1)\n",
            "Requirement already satisfied: coloredlogs in c:\\users\\lex09\\anaconda3\\lib\\site-packages (from onnxruntime<1.20.0,>=1.17.0->fastembed) (15.0.1)\n",
            "Requirement already satisfied: flatbuffers in c:\\users\\lex09\\anaconda3\\lib\\site-packages (from onnxruntime<1.20.0,>=1.17.0->fastembed) (24.3.25)\n",
            "Requirement already satisfied: sympy in c:\\users\\lex09\\anaconda3\\lib\\site-packages (from onnxruntime<1.20.0,>=1.17.0->fastembed) (1.13.1)\n",
            "Requirement already satisfied: charset-normalizer<4,>=2 in c:\\users\\lex09\\anaconda3\\lib\\site-packages (from requests<3.0,>=2.31->fastembed) (2.0.4)\n",
            "Requirement already satisfied: idna<4,>=2.5 in c:\\users\\lex09\\anaconda3\\lib\\site-packages (from requests<3.0,>=2.31->fastembed) (3.7)\n",
            "Requirement already satisfied: urllib3<3,>=1.21.1 in c:\\users\\lex09\\anaconda3\\lib\\site-packages (from requests<3.0,>=2.31->fastembed) (2.2.2)\n",
            "Requirement already satisfied: certifi>=2017.4.17 in c:\\users\\lex09\\anaconda3\\lib\\site-packages (from requests<3.0,>=2.31->fastembed) (2024.8.30)\n",
            "Requirement already satisfied: humanfriendly>=9.1 in c:\\users\\lex09\\anaconda3\\lib\\site-packages (from coloredlogs->onnxruntime<1.20.0,>=1.17.0->fastembed) (10.0)\n",
            "Requirement already satisfied: mpmath<1.4,>=1.1.0 in c:\\users\\lex09\\anaconda3\\lib\\site-packages (from sympy->onnxruntime<1.20.0,>=1.17.0->fastembed) (1.3.0)\n",
            "Requirement already satisfied: pyreadline3 in c:\\users\\lex09\\anaconda3\\lib\\site-packages (from humanfriendly>=9.1->coloredlogs->onnxruntime<1.20.0,>=1.17.0->fastembed) (3.5.4)\n"
          ]
        }
      ],
      "source": [
        "!pip install qdrant_client datasets fastembed"
      ]
    },
    {
      "cell_type": "code",
      "source": [
        "# Инициализация модели\n",
        "bm25_embedding_model = SparseTextEmbedding(\"Qdrant/bm25\")\n",
        "# Извлечение текстов из \"context\"\n",
        "contexts = [item[\"context\"] for item in data]\n",
        "# Создание эмбеддингов для всех текстов\n",
        "bm25_embeddings = list(bm25_embedding_model.passage_embed(contexts))\n",
        "# Проверка количества эмбеддингов\n",
        "len(bm25_embeddings)"
      ],
      "metadata": {
        "colab": {
          "base_uri": "https://localhost:8080/",
          "height": 67,
          "referenced_widgets": [
            "cb910c8c5f7d40c3ad5fab6e6b90b1d7",
            "19ae0a04e30d44e3a94d8aadb7a60c2e",
            "ad5789dcbd6745ab9744f7352db832ee",
            "e83a6300d463488bade308564cbc7d8e",
            "c9c6edd6174b43c3954764cf23aee29a",
            "9bd0c8193f33466f86abd5b8e48699ff",
            "c7f0a39fa5724cef8559ec33d6d431f2",
            "6a4526befcb14bc683ad96a92909245c",
            "1da0031bda424751a64db487b04b2320",
            "65b36b27bd954cd49eccd98c354da994",
            "d42e6b00cbd94f498185645227a39810"
          ]
        },
        "id": "YgZjcYrr_JNR",
        "outputId": "471bd7be-13aa-4fdf-834a-01b43196f33d"
      },
      "execution_count": 153,
      "outputs": [
        {
          "output_type": "display_data",
          "data": {
            "text/plain": [
              "Fetching 29 files:   0%|          | 0/29 [00:00<?, ?it/s]"
            ],
            "application/vnd.jupyter.widget-view+json": {
              "version_major": 2,
              "version_minor": 0,
              "model_id": "cb910c8c5f7d40c3ad5fab6e6b90b1d7"
            }
          },
          "metadata": {}
        },
        {
          "output_type": "execute_result",
          "data": {
            "text/plain": [
              "11983"
            ]
          },
          "metadata": {},
          "execution_count": 153
        }
      ]
    },
    {
      "cell_type": "code",
      "source": [
        "# Инициализация модели\n",
        "dense_embedding_model = TextEmbedding(\"sentence-transformers/all-MiniLM-L6-v2\")\n",
        "# Извлечение текста из \"context\"\n",
        "texts = [item[\"context\"] for item in data]\n",
        "# Создание эмбеддингов для всех текстов с прогресс-баром\n",
        "dense_embeddings = list(\n",
        "    tqdm(dense_embedding_model.passage_embed(texts), total=len(texts))\n",
        ")\n",
        "# Проверка количества эмбеддингов\n",
        "len(dense_embeddings)"
      ],
      "metadata": {
        "colab": {
          "base_uri": "https://localhost:8080/",
          "height": 85,
          "referenced_widgets": [
            "c96c655dd14b4524a1e87d798108bfea",
            "fc9e04a3c6584024a3b6a811b1f7b137",
            "23ae04745965465885bc264d2352a4fe",
            "2dc34dc064764c889b9e7506eda5282a",
            "7c5a6d2367044319a5e34c7a823d12a3",
            "a5b8fa403121454fbac7c9f8db29b444",
            "905b6c16f38c4577a9c3e2e34ca7ea4a",
            "5d57c20b923843d28fda1dc86d80ce4a",
            "331eb5433d8b40818e39d3477c159e10",
            "f62f6fe8ae6e4c359d397b97495458de",
            "1e4d61d6909e4886a905fb21d0b3382f"
          ]
        },
        "id": "1SS8wv0NaGxK",
        "outputId": "27c189f3-a6fb-40da-b54e-d0cbedbf90b9"
      },
      "execution_count": 154,
      "outputs": [
        {
          "output_type": "display_data",
          "data": {
            "text/plain": [
              "Fetching 5 files:   0%|          | 0/5 [00:00<?, ?it/s]"
            ],
            "application/vnd.jupyter.widget-view+json": {
              "version_major": 2,
              "version_minor": 0,
              "model_id": "c96c655dd14b4524a1e87d798108bfea"
            }
          },
          "metadata": {}
        },
        {
          "output_type": "stream",
          "name": "stderr",
          "text": [
            "100%|████████████████████████████████████████████████████████████████████████████| 11983/11983 [04:06<00:00, 48.67it/s]\n"
          ]
        },
        {
          "output_type": "execute_result",
          "data": {
            "text/plain": [
              "11983"
            ]
          },
          "metadata": {},
          "execution_count": 154
        }
      ]
    },
    {
      "cell_type": "code",
      "execution_count": 155,
      "metadata": {
        "colab": {
          "base_uri": "https://localhost:8080/"
        },
        "id": "ajs4IeT8Lza7",
        "outputId": "7d81c946-573a-4ec5-e928-f3d69c05ca19"
      },
      "outputs": [
        {
          "output_type": "execute_result",
          "data": {
            "text/plain": [
              "384"
            ]
          },
          "metadata": {},
          "execution_count": 155
        }
      ],
      "source": [
        "len(dense_embeddings[0])"
      ]
    },
    {
      "cell_type": "code",
      "source": [
        "# Инициализация модели\n",
        "late_interaction_embedding_model = LateInteractionTextEmbedding(\"colbert-ir/colbertv2.0\")\n",
        "# Функция для разбиения текста на части\n",
        "def chunk_text(text, max_length):\n",
        "    return [text[i:i + max_length] for i in range(0, len(text), max_length)]\n",
        "# Функция для обработки одного текста\n",
        "def process_context(context, max_length, model):\n",
        "    chunks = chunk_text(context, max_length)\n",
        "    chunk_embeddings = [\n",
        "        np.array(list(model.passage_embed([chunk]))[0])\n",
        "        for chunk in chunks\n",
        "    ]\n",
        "    return np.concatenate(chunk_embeddings, axis=0)\n",
        "# Извлечение текстов и обработка с многозадачностью\n",
        "contexts = [item[\"context\"] for item in data]\n",
        "max_length = 1024\n",
        "final_embeddings = []\n",
        "with ThreadPoolExecutor() as executor:\n",
        "    futures = [\n",
        "        executor.submit(process_context, context, max_length, late_interaction_embedding_model)\n",
        "        for context in contexts\n",
        "    ]\n",
        "    for future in tqdm(futures):\n",
        "        final_embeddings.append(future.result())\n",
        "len(final_embeddings)"
      ],
      "metadata": {
        "colab": {
          "base_uri": "https://localhost:8080/",
          "height": 85,
          "referenced_widgets": [
            "8bd7829024524fd0a0012ab4fa0e8102",
            "273527a430d34b63954a7dccb48dfe58",
            "d1d153c5446d44cc9a6a389c78cb032f",
            "fcc13a65d5a146978699e2ef93fc04ae",
            "7fb493238aa3475da23185246949c77c",
            "f6c098d2438441a4a72e8364ab70cf44",
            "5a2656131483498493679b89b2012649",
            "ddcc943e6f6b436985c7b714911eda8b",
            "7f3e27e35b314c8da571c7997136a4c7",
            "e9e255c1e5aa4b9dbcdc19ae4786e30b",
            "1a57fadfbda4450db7bab836858c2612"
          ]
        },
        "id": "9o_hIOVRMd8L",
        "outputId": "f48db37c-1a01-41c7-d1e2-5093d1fdaa27"
      },
      "execution_count": 156,
      "outputs": [
        {
          "output_type": "display_data",
          "data": {
            "text/plain": [
              "Fetching 5 files:   0%|          | 0/5 [00:00<?, ?it/s]"
            ],
            "application/vnd.jupyter.widget-view+json": {
              "version_major": 2,
              "version_minor": 0,
              "model_id": "8bd7829024524fd0a0012ab4fa0e8102"
            }
          },
          "metadata": {}
        },
        {
          "output_type": "stream",
          "name": "stderr",
          "text": [
            "100%|██████████████████████████████████████████████████████████████████████████| 11983/11983 [1:15:30<00:00,  2.64it/s]\n"
          ]
        },
        {
          "output_type": "execute_result",
          "data": {
            "text/plain": [
              "11983"
            ]
          },
          "metadata": {},
          "execution_count": 156
        }
      ]
    },
    {
      "cell_type": "code",
      "execution_count": 157,
      "metadata": {
        "colab": {
          "base_uri": "https://localhost:8080/"
        },
        "id": "FwiEjgTHLkE-",
        "outputId": "4a68eff5-31a2-46bd-8e97-ab7d3e77a138"
      },
      "outputs": [
        {
          "output_type": "execute_result",
          "data": {
            "text/plain": [
              "650"
            ]
          },
          "metadata": {},
          "execution_count": 157
        }
      ],
      "source": [
        "len(final_embeddings[0])"
      ]
    },
    {
      "cell_type": "code",
      "execution_count": null,
      "metadata": {
        "id": "khNai5VOMLl-"
      },
      "outputs": [],
      "source": [
        "!docker run -d -p 6333:6333 -p 6334:6334 qdrant/qdrant:v1.10.0"
      ]
    },
    {
      "cell_type": "code",
      "source": [
        "client.delete_collection(\"RAG\")"
      ],
      "metadata": {
        "colab": {
          "base_uri": "https://localhost:8080/"
        },
        "id": "2MZiYLrMVG6Q",
        "outputId": "359952a2-3bb5-49ce-996f-c99db22845ad"
      },
      "execution_count": 184,
      "outputs": [
        {
          "output_type": "execute_result",
          "data": {
            "text/plain": [
              "True"
            ]
          },
          "metadata": {},
          "execution_count": 184
        }
      ]
    },
    {
      "cell_type": "code",
      "execution_count": 159,
      "metadata": {
        "colab": {
          "base_uri": "https://localhost:8080/"
        },
        "id": "kanl7wVqOrJf",
        "outputId": "3369b397-c625-4cb6-ea5a-eb045dc2b359"
      },
      "outputs": [
        {
          "output_type": "execute_result",
          "data": {
            "text/plain": [
              "True"
            ]
          },
          "metadata": {},
          "execution_count": 159
        }
      ],
      "source": [
        "# Создание qdrant коллекции\n",
        "client = QdrantClient(\"http://localhost:6333\", timeout=600)\n",
        "client.create_collection(\n",
        "    \"RAG\",\n",
        "    vectors_config={\n",
        "        \"all-MiniLM-L6-v2\": models.VectorParams(\n",
        "            size=len(context_vectors[0]),\n",
        "            distance=models.Distance.COSINE,\n",
        "        ),\n",
        "        \"colbertv2.0\": models.VectorParams(\n",
        "            size=len(final_embeddings[0][0]),\n",
        "            distance=models.Distance.COSINE,\n",
        "            multivector_config=models.MultiVectorConfig(\n",
        "                comparator=models.MultiVectorComparator.MAX_SIM,\n",
        "            )\n",
        "        ),\n",
        "    },\n",
        "    sparse_vectors_config = {\n",
        "        \"bm25\": models.SparseVectorParams(\n",
        "            modifier=models.Modifier.IDF,\n",
        "        )\n",
        "    }\n",
        ")"
      ]
    },
    {
      "cell_type": "code",
      "source": [
        "batch_size = 4\n",
        "for batch_index in tqdm(range(0, len(data), batch_size)):\n",
        "    batch = data[batch_index:batch_index + batch_size]\n",
        "    # Формируем точки для загрузки\n",
        "    points = [\n",
        "        models.PointStruct(\n",
        "            id=int(item[\"_id\"]),\n",
        "            vector={\n",
        "                \"all-MiniLM-L6-v2\": context_vectors[i].tolist(),\n",
        "                \"bm25\": bm25_embeddings[i].as_object(),\n",
        "                \"colbertv2.0\": final_embeddings[i].tolist(),\n",
        "            },\n",
        "            payload={\n",
        "                \"_id\": item[\"_id\"],\n",
        "                \"context\": item[\"context\"],\n",
        "                \"question\": item[\"question\"],\n",
        "                \"answer\": item[\"answer\"],\n",
        "            }\n",
        "        )\n",
        "        for i, item in enumerate(batch)\n",
        "    ]\n",
        "    # Загружаем точки в хранилище\n",
        "    client.upload_points(\n",
        "        collection_name = \"RAG\",\n",
        "        points=points,\n",
        "    )"
      ],
      "metadata": {
        "colab": {
          "base_uri": "https://localhost:8080/"
        },
        "id": "aa0HRouTev5M",
        "outputId": "49721865-6530-49a7-988c-9decb3bd430d"
      },
      "execution_count": 162,
      "outputs": [
        {
          "output_type": "stream",
          "name": "stderr",
          "text": [
            "100%|██████████████████████████████████████████████████████████████████████████████| 2996/2996 [38:00<00:00,  1.31it/s]\n"
          ]
        }
      ]
    },
    {
      "cell_type": "code",
      "execution_count": 163,
      "metadata": {
        "colab": {
          "base_uri": "https://localhost:8080/"
        },
        "id": "v8N-hru8U3nC",
        "outputId": "691933bb-5fbb-4e59-9da4-7c1918c748e2"
      },
      "outputs": [
        {
          "output_type": "execute_result",
          "data": {
            "text/plain": [
              "CollectionInfo(status=<CollectionStatus.YELLOW: 'yellow'>, optimizer_status=<OptimizersStatusOneOf.OK: 'ok'>, vectors_count=None, indexed_vectors_count=3996, points_count=13315, segments_count=9, config=CollectionConfig(params=CollectionParams(vectors={'all-MiniLM-L6-v2': VectorParams(size=384, distance=<Distance.COSINE: 'Cosine'>, hnsw_config=None, quantization_config=None, on_disk=None, datatype=None, multivector_config=None), 'colbertv2.0': VectorParams(size=128, distance=<Distance.COSINE: 'Cosine'>, hnsw_config=None, quantization_config=None, on_disk=None, datatype=None, multivector_config=MultiVectorConfig(comparator=<MultiVectorComparator.MAX_SIM: 'max_sim'>))}, shard_number=1, sharding_method=None, replication_factor=1, write_consistency_factor=1, read_fan_out_factor=None, on_disk_payload=True, sparse_vectors={'bm25': SparseVectorParams(index=None, modifier=<Modifier.IDF: 'idf'>)}), hnsw_config=HnswConfig(m=16, ef_construct=100, full_scan_threshold=10000, max_indexing_threads=0, on_disk=False, payload_m=None), optimizer_config=OptimizersConfig(deleted_threshold=0.2, vacuum_min_vector_number=1000, default_segment_number=0, max_segment_size=None, memmap_threshold=None, indexing_threshold=20000, flush_interval_sec=5, max_optimization_threads=None), wal_config=WalConfig(wal_capacity_mb=32, wal_segments_ahead=0), quantization_config=None), payload_schema={})"
            ]
          },
          "metadata": {},
          "execution_count": 163
        }
      ],
      "source": [
        "client.get_collection(\"RAG\")"
      ]
    },
    {
      "cell_type": "code",
      "execution_count": 183,
      "metadata": {
        "colab": {
          "base_uri": "https://localhost:8080/"
        },
        "id": "V7BbYeLbUyUh",
        "outputId": "d1743475-af93-4bb3-81cd-04887d715cd9"
      },
      "outputs": [
        {
          "output_type": "stream",
          "name": "stdout",
          "text": [
            "'RAG' count: 11983\n"
          ]
        }
      ],
      "source": [
        "response = client.count(\n",
        "    collection_name=\"RAG\"\n",
        ")\n",
        "print(f\"'RAG' count: {response.count}\")"
      ]
    },
    {
      "cell_type": "markdown",
      "source": [
        "Коллекция создана успешно, для дальнейшего сравнения и экспериментов в коллекцию поместил вектора обработанные all-MiniLM-L6-v2, bm25, colbertv2.0 и payload всего очищенного датасета"
      ],
      "metadata": {
        "id": "_Yot8dRXz1JS"
      }
    },
    {
      "cell_type": "markdown",
      "source": [
        "# Тестирование данных в коллекции (в разработке)"
      ],
      "metadata": {
        "id": "xgvzywmAYAuM"
      }
    },
    {
      "cell_type": "code",
      "source": [
        "client = QdrantClient(url='http://localhost:6333')"
      ],
      "metadata": {
        "id": "yD9yNz9Ubsxr"
      },
      "execution_count": null,
      "outputs": []
    },
    {
      "cell_type": "code",
      "source": [
        "# Тестирование all-MiniLM-L6-v2\n",
        "# Извлекаем вектора и ответы из коллекции\n",
        "context_vectors = []\n",
        "answers = []\n",
        "offset=None\n",
        "while True:\n",
        "    points, next_page = client.scroll(\n",
        "        collection_name='RAG',\n",
        "        scroll_filter={},\n",
        "        limit = 200,\n",
        "        offset=offset,\n",
        "        with_vectors=['all-MiniLM-L6-v2'],\n",
        "        with_payload=True\n",
        "    )\n",
        "# Добавляем вектора и ответы в списки\n",
        "    for point in points:\n",
        "        vector = point.vector['all-MiniLM-L6-v2']\n",
        "        context_vectors.append(vector)\n",
        "        answer = point.payload['answer']\n",
        "        answers.append(answer)\n",
        "#Проверяем, есть ли следующая страница\n",
        "    if next_page is None:\n",
        "        break\n",
        "    offset = next_page\n",
        "# Преобразуем список векторов в numpy массив\n",
        "context_vectors = np.array(context_vectors, dtype='float32')\n",
        "# Проверка точности Sentence Transformers\n",
        "def evaluate_embeddings(df_b, question_vectors, context_vectors, answers):\n",
        "    correct = 0\n",
        "    for i in tqdm(range(len(df_b)), unit=\"question\"):\n",
        "        true_answer = df_b.iloc[i]['answer']\n",
        "        question_vector = question_vectors[i].reshape(1, -1)\n",
        "        similarities = cosine_similarity(question_vector, context_vectors).flatten()\n",
        "        top_index = np.argmax(similarities)\n",
        "        retrieved_answer = answers[top_index]\n",
        "        if retrieved_answer == true_answer:\n",
        "            correct += 1\n",
        "    accuracy = correct / len(df_b)\n",
        "    return accuracy\n",
        "# Вычисление точности\n",
        "accuracy_embeddings = evaluate_embeddings(df_b, question_vectors, context_vectors, answers)\n",
        "print(f'Sentence Transformers accuracy: {accuracy_embeddings * 100:.2f}%')"
      ],
      "metadata": {
        "colab": {
          "base_uri": "https://localhost:8080/"
        },
        "id": "fQnQxWELXRGC",
        "outputId": "0d920ecf-537c-440a-d6f4-f1fa890a7c3e"
      },
      "execution_count": 198,
      "outputs": [
        {
          "output_type": "stream",
          "name": "stderr",
          "text": [
            "100%|██████████████████████████████████████████████████████████████████████| 11983/11983 [05:55<00:00, 33.67question/s]"
          ]
        },
        {
          "output_type": "stream",
          "name": "stdout",
          "text": [
            "Sentence Transformers accuracy: 0.03%\n"
          ]
        },
        {
          "output_type": "stream",
          "name": "stderr",
          "text": [
            "\n"
          ]
        }
      ]
    },
    {
      "cell_type": "markdown",
      "source": [
        "В тестировании all-MiniLM-L6-v2 точность крайне низкая, вероятно присутствует баг\n",
        "\n",
        "При проверке выявлена неккоректная загрузка векторов, исправлено - векторы до загрузки и после выгрузки соответствуют\n",
        "\n",
        "Проблема сохраняется, измерения не изменились, требуется дополнительное исследование\n"
      ],
      "metadata": {
        "id": "9CxluHRRgZ53"
      }
    },
    {
      "cell_type": "markdown",
      "source": [
        "# Данные для проверки, (создан для выявления причины бага вычисления Sentence Transformers accuracy после загрузки векторов в коллекцию, на данный момент в разработке)"
      ],
      "metadata": {
        "id": "r_JrXUfH4K5D"
      }
    },
    {
      "cell_type": "code",
      "source": [
        "# Инициализация модели Sentence Transformers\n",
        "model = SentenceTransformer('all-MiniLM-L6-v2')\n",
        "# Создание эмбеддингов для вопросов\n",
        "questions = df_b['question'].tolist()\n",
        "answers = df_b['answer'].tolist()\n",
        "question_embeddings = []\n",
        "for question in tqdm(questions):\n",
        "    question_embedding = model.encode(question, show_progress_bar=False)\n",
        "    question_embeddings.append(question_embedding)\n",
        "question_embeddings = np.array(question_embeddings, dtype='float32')\n",
        "# Связь эмбеддингов с ответами в порядке, соответствующем оригиналу\n",
        "question_embeddings_with_answers = [(embedding, answer) for embedding, answer in zip(question_embeddings, answers)]"
      ],
      "metadata": {
        "colab": {
          "base_uri": "https://localhost:8080/"
        },
        "id": "AwIwWs6z4PPO",
        "outputId": "9563b445-e862-457e-b396-89028049fa99"
      },
      "execution_count": 149,
      "outputs": [
        {
          "output_type": "stream",
          "name": "stderr",
          "text": [
            "100%|███████████████████████████████████████████████████████████████████████████| 11983/11983 [01:43<00:00, 116.18it/s]\n"
          ]
        }
      ]
    },
    {
      "cell_type": "code",
      "source": [
        "# Нормализация векторов\n",
        "question_embeddings = normalize(question_embeddings, norm='l2')\n",
        "context_vectors = normalize(context_vectors, norm='l2')\n",
        "# Проверка точности\n",
        "def evaluate_embeddings(df_b, question_embeddings, context_vectors, answers):\n",
        "    correct = 0\n",
        "    for i in tqdm(range(len(df_b)), unit=\"question\"):\n",
        "        true_answer = df_b.iloc[i]['answer']\n",
        "        question_embedding = question_embeddings[i].reshape(1, -1)\n",
        "        distances = distance.cdist(question_embedding, context_vectors, metric='euclidean').flatten()\n",
        "        top_index = np.argmin(distances)\n",
        "        retrieved_answer = answers[top_index]\n",
        "        if retrieved_answer == true_answer:\n",
        "            correct += 1\n",
        "    accuracy = correct / len(df_b)\n",
        "    return accuracy\n",
        "# Вычисление точности\n",
        "accuracy_embeddings = evaluate_embeddings(df_b, question_embeddings, context_vectors, answers)\n",
        "print(f'Sentence Transformers accuracy: {accuracy_embeddings * 100:.2f}%')"
      ],
      "metadata": {
        "colab": {
          "base_uri": "https://localhost:8080/"
        },
        "id": "_8entZ8V4S1E",
        "outputId": "1d3bb5a0-5874-4daa-c060-c6053b6a5031"
      },
      "execution_count": 150,
      "outputs": [
        {
          "output_type": "stream",
          "name": "stderr",
          "text": [
            "100%|██████████████████████████████████████████████████████████████████████| 11983/11983 [03:19<00:00, 60.19question/s]"
          ]
        },
        {
          "output_type": "stream",
          "name": "stdout",
          "text": [
            "Sentence Transformers accuracy: 0.03%\n"
          ]
        },
        {
          "output_type": "stream",
          "name": "stderr",
          "text": [
            "\n"
          ]
        }
      ]
    },
    {
      "cell_type": "markdown",
      "source": [
        "# Дополнительные эксперименты с коллекцией (в разработке)"
      ],
      "metadata": {
        "id": "jUHGqGCI7C6o"
      }
    },
    {
      "cell_type": "code",
      "source": [
        "!pip install ranx"
      ],
      "metadata": {
        "colab": {
          "base_uri": "https://localhost:8080/"
        },
        "collapsed": true,
        "id": "HSYIYzP9GBSj",
        "outputId": "473f6b78-306a-41a3-a2e3-cc3e01e46533"
      },
      "execution_count": 13,
      "outputs": [
        {
          "output_type": "stream",
          "name": "stdout",
          "text": [
            "Requirement already satisfied: ranx in c:\\users\\lex09\\anaconda3\\lib\\site-packages (0.3.20)\n",
            "Requirement already satisfied: numpy in c:\\users\\lex09\\anaconda3\\lib\\site-packages (from ranx) (1.26.4)\n",
            "Requirement already satisfied: numba>=0.54.1 in c:\\users\\lex09\\anaconda3\\lib\\site-packages (from ranx) (0.59.1)\n",
            "Requirement already satisfied: pandas in c:\\users\\lex09\\anaconda3\\lib\\site-packages (from ranx) (2.2.2)\n",
            "Requirement already satisfied: tabulate in c:\\users\\lex09\\anaconda3\\lib\\site-packages (from ranx) (0.9.0)\n",
            "Requirement already satisfied: tqdm in c:\\users\\lex09\\anaconda3\\lib\\site-packages (from ranx) (4.66.4)\n",
            "Requirement already satisfied: scipy>=1.8.0 in c:\\users\\lex09\\anaconda3\\lib\\site-packages (from ranx) (1.13.1)\n",
            "Requirement already satisfied: ir-datasets in c:\\users\\lex09\\anaconda3\\lib\\site-packages (from ranx) (0.5.9)\n",
            "Requirement already satisfied: rich in c:\\users\\lex09\\anaconda3\\lib\\site-packages (from ranx) (13.3.5)\n",
            "Requirement already satisfied: orjson in c:\\users\\lex09\\anaconda3\\lib\\site-packages (from ranx) (3.10.12)\n",
            "Requirement already satisfied: lz4 in c:\\users\\lex09\\anaconda3\\lib\\site-packages (from ranx) (4.3.2)\n",
            "Requirement already satisfied: cbor2 in c:\\users\\lex09\\anaconda3\\lib\\site-packages (from ranx) (5.6.5)\n",
            "Requirement already satisfied: seaborn in c:\\users\\lex09\\anaconda3\\lib\\site-packages (from ranx) (0.13.2)\n",
            "Requirement already satisfied: fastparquet in c:\\users\\lex09\\anaconda3\\lib\\site-packages (from ranx) (2024.11.0)\n",
            "Requirement already satisfied: llvmlite<0.43,>=0.42.0dev0 in c:\\users\\lex09\\anaconda3\\lib\\site-packages (from numba>=0.54.1->ranx) (0.42.0)\n",
            "Requirement already satisfied: cramjam>=2.3 in c:\\users\\lex09\\anaconda3\\lib\\site-packages (from fastparquet->ranx) (2.9.1)\n",
            "Requirement already satisfied: fsspec in c:\\users\\lex09\\anaconda3\\lib\\site-packages (from fastparquet->ranx) (2024.3.1)\n",
            "Requirement already satisfied: packaging in c:\\users\\lex09\\anaconda3\\lib\\site-packages (from fastparquet->ranx) (23.2)\n",
            "Requirement already satisfied: python-dateutil>=2.8.2 in c:\\users\\lex09\\anaconda3\\lib\\site-packages (from pandas->ranx) (2.9.0.post0)\n",
            "Requirement already satisfied: pytz>=2020.1 in c:\\users\\lex09\\anaconda3\\lib\\site-packages (from pandas->ranx) (2024.1)\n",
            "Requirement already satisfied: tzdata>=2022.7 in c:\\users\\lex09\\anaconda3\\lib\\site-packages (from pandas->ranx) (2023.3)\n",
            "Requirement already satisfied: beautifulsoup4>=4.4.1 in c:\\users\\lex09\\anaconda3\\lib\\site-packages (from ir-datasets->ranx) (4.12.3)\n",
            "Requirement already satisfied: inscriptis>=2.2.0 in c:\\users\\lex09\\anaconda3\\lib\\site-packages (from ir-datasets->ranx) (2.5.0)\n",
            "Requirement already satisfied: lxml>=4.5.2 in c:\\users\\lex09\\anaconda3\\lib\\site-packages (from ir-datasets->ranx) (5.2.1)\n",
            "Requirement already satisfied: pyyaml>=5.3.1 in c:\\users\\lex09\\anaconda3\\lib\\site-packages (from ir-datasets->ranx) (6.0.1)\n",
            "Requirement already satisfied: requests>=2.22.0 in c:\\users\\lex09\\anaconda3\\lib\\site-packages (from ir-datasets->ranx) (2.32.2)\n",
            "Requirement already satisfied: trec-car-tools>=2.5.4 in c:\\users\\lex09\\anaconda3\\lib\\site-packages (from ir-datasets->ranx) (2.6)\n",
            "Requirement already satisfied: warc3-wet>=0.2.3 in c:\\users\\lex09\\anaconda3\\lib\\site-packages (from ir-datasets->ranx) (0.2.5)\n",
            "Requirement already satisfied: warc3-wet-clueweb09>=0.2.5 in c:\\users\\lex09\\anaconda3\\lib\\site-packages (from ir-datasets->ranx) (0.2.5)\n",
            "Requirement already satisfied: zlib-state>=0.1.3 in c:\\users\\lex09\\anaconda3\\lib\\site-packages (from ir-datasets->ranx) (0.1.9)\n",
            "Requirement already satisfied: ijson>=3.1.3 in c:\\users\\lex09\\anaconda3\\lib\\site-packages (from ir-datasets->ranx) (3.3.0)\n",
            "Requirement already satisfied: unlzw3>=0.2.1 in c:\\users\\lex09\\anaconda3\\lib\\site-packages (from ir-datasets->ranx) (0.2.2)\n",
            "Requirement already satisfied: colorama in c:\\users\\lex09\\anaconda3\\lib\\site-packages (from tqdm->ranx) (0.4.6)\n",
            "Requirement already satisfied: markdown-it-py<3.0.0,>=2.2.0 in c:\\users\\lex09\\anaconda3\\lib\\site-packages (from rich->ranx) (2.2.0)\n",
            "Requirement already satisfied: pygments<3.0.0,>=2.13.0 in c:\\users\\lex09\\anaconda3\\lib\\site-packages (from rich->ranx) (2.15.1)\n",
            "Requirement already satisfied: matplotlib!=3.6.1,>=3.4 in c:\\users\\lex09\\anaconda3\\lib\\site-packages (from seaborn->ranx) (3.8.4)\n",
            "Requirement already satisfied: soupsieve>1.2 in c:\\users\\lex09\\anaconda3\\lib\\site-packages (from beautifulsoup4>=4.4.1->ir-datasets->ranx) (2.5)\n",
            "Requirement already satisfied: mdurl~=0.1 in c:\\users\\lex09\\anaconda3\\lib\\site-packages (from markdown-it-py<3.0.0,>=2.2.0->rich->ranx) (0.1.0)\n",
            "Requirement already satisfied: contourpy>=1.0.1 in c:\\users\\lex09\\anaconda3\\lib\\site-packages (from matplotlib!=3.6.1,>=3.4->seaborn->ranx) (1.2.0)\n",
            "Requirement already satisfied: cycler>=0.10 in c:\\users\\lex09\\anaconda3\\lib\\site-packages (from matplotlib!=3.6.1,>=3.4->seaborn->ranx) (0.11.0)\n",
            "Requirement already satisfied: fonttools>=4.22.0 in c:\\users\\lex09\\anaconda3\\lib\\site-packages (from matplotlib!=3.6.1,>=3.4->seaborn->ranx) (4.51.0)\n",
            "Requirement already satisfied: kiwisolver>=1.3.1 in c:\\users\\lex09\\anaconda3\\lib\\site-packages (from matplotlib!=3.6.1,>=3.4->seaborn->ranx) (1.4.4)\n",
            "Requirement already satisfied: pillow>=8 in c:\\users\\lex09\\anaconda3\\lib\\site-packages (from matplotlib!=3.6.1,>=3.4->seaborn->ranx) (10.3.0)\n",
            "Requirement already satisfied: pyparsing>=2.3.1 in c:\\users\\lex09\\anaconda3\\lib\\site-packages (from matplotlib!=3.6.1,>=3.4->seaborn->ranx) (3.0.9)\n",
            "Requirement already satisfied: six>=1.5 in c:\\users\\lex09\\anaconda3\\lib\\site-packages (from python-dateutil>=2.8.2->pandas->ranx) (1.16.0)\n",
            "Requirement already satisfied: charset-normalizer<4,>=2 in c:\\users\\lex09\\anaconda3\\lib\\site-packages (from requests>=2.22.0->ir-datasets->ranx) (2.0.4)\n",
            "Requirement already satisfied: idna<4,>=2.5 in c:\\users\\lex09\\anaconda3\\lib\\site-packages (from requests>=2.22.0->ir-datasets->ranx) (3.7)\n",
            "Requirement already satisfied: urllib3<3,>=1.21.1 in c:\\users\\lex09\\anaconda3\\lib\\site-packages (from requests>=2.22.0->ir-datasets->ranx) (2.2.2)\n",
            "Requirement already satisfied: certifi>=2017.4.17 in c:\\users\\lex09\\anaconda3\\lib\\site-packages (from requests>=2.22.0->ir-datasets->ranx) (2024.8.30)\n",
            "Requirement already satisfied: cbor>=1.0.0 in c:\\users\\lex09\\anaconda3\\lib\\site-packages (from trec-car-tools>=2.5.4->ir-datasets->ranx) (1.0.0)\n"
          ]
        }
      ]
    },
    {
      "cell_type": "code",
      "source": [
        "client = QdrantClient(\"http://localhost:6333\", timeout=600)\n",
        "client.count(\"RAG\")"
      ],
      "metadata": {
        "colab": {
          "base_uri": "https://localhost:8080/",
          "height": 0
        },
        "id": "5lbnjeIz7Izh",
        "outputId": "8cc01b73-61a6-4f55-db57-64521e58d02d",
        "collapsed": true
      },
      "execution_count": 17,
      "outputs": [
        {
          "output_type": "error",
          "ename": "UnexpectedResponse",
          "evalue": "Unexpected Response: 404 (Not Found)\nRaw response content:\nb'{\"status\":{\"error\":\"Not found: Collection `RAG` doesn\\'t exist!\"},\"time\":7.687e-6}'",
          "traceback": [
            "\u001b[1;31m---------------------------------------------------------------------------\u001b[0m",
            "\u001b[1;31mUnexpectedResponse\u001b[0m                        Traceback (most recent call last)",
            "Cell \u001b[1;32mIn[17], line 3\u001b[0m\n\u001b[0;32m      1\u001b[0m \u001b[38;5;28;01mfrom\u001b[39;00m \u001b[38;5;21;01mqdrant_client\u001b[39;00m \u001b[38;5;28;01mimport\u001b[39;00m QdrantClient, models\n\u001b[0;32m      2\u001b[0m client \u001b[38;5;241m=\u001b[39m QdrantClient(\u001b[38;5;124m\"\u001b[39m\u001b[38;5;124mhttp://localhost:6333\u001b[39m\u001b[38;5;124m\"\u001b[39m, timeout\u001b[38;5;241m=\u001b[39m\u001b[38;5;241m600\u001b[39m)\n\u001b[1;32m----> 3\u001b[0m client\u001b[38;5;241m.\u001b[39mcount(\u001b[38;5;124m\"\u001b[39m\u001b[38;5;124mRAG\u001b[39m\u001b[38;5;124m\"\u001b[39m)\n",
            "File \u001b[1;32m~\\anaconda3\\Lib\\site-packages\\qdrant_client\\qdrant_client.py:1411\u001b[0m, in \u001b[0;36mQdrantClient.count\u001b[1;34m(self, collection_name, count_filter, exact, shard_key_selector, timeout, **kwargs)\u001b[0m\n\u001b[0;32m   1388\u001b[0m \u001b[38;5;250m\u001b[39m\u001b[38;5;124;03m\"\"\"Count points in the collection.\u001b[39;00m\n\u001b[0;32m   1389\u001b[0m \n\u001b[0;32m   1390\u001b[0m \u001b[38;5;124;03mCount points in the collection matching the given filter.\u001b[39;00m\n\u001b[1;32m   (...)\u001b[0m\n\u001b[0;32m   1407\u001b[0m \u001b[38;5;124;03m    Amount of points in the collection matching the filter.\u001b[39;00m\n\u001b[0;32m   1408\u001b[0m \u001b[38;5;124;03m\"\"\"\u001b[39;00m\n\u001b[0;32m   1409\u001b[0m \u001b[38;5;28;01massert\u001b[39;00m \u001b[38;5;28mlen\u001b[39m(kwargs) \u001b[38;5;241m==\u001b[39m \u001b[38;5;241m0\u001b[39m, \u001b[38;5;124mf\u001b[39m\u001b[38;5;124m\"\u001b[39m\u001b[38;5;124mUnknown arguments: \u001b[39m\u001b[38;5;132;01m{\u001b[39;00m\u001b[38;5;28mlist\u001b[39m(kwargs\u001b[38;5;241m.\u001b[39mkeys())\u001b[38;5;132;01m}\u001b[39;00m\u001b[38;5;124m\"\u001b[39m\n\u001b[1;32m-> 1411\u001b[0m \u001b[38;5;28;01mreturn\u001b[39;00m \u001b[38;5;28mself\u001b[39m\u001b[38;5;241m.\u001b[39m_client\u001b[38;5;241m.\u001b[39mcount(\n\u001b[0;32m   1412\u001b[0m     collection_name\u001b[38;5;241m=\u001b[39mcollection_name,\n\u001b[0;32m   1413\u001b[0m     count_filter\u001b[38;5;241m=\u001b[39mcount_filter,\n\u001b[0;32m   1414\u001b[0m     exact\u001b[38;5;241m=\u001b[39mexact,\n\u001b[0;32m   1415\u001b[0m     shard_key_selector\u001b[38;5;241m=\u001b[39mshard_key_selector,\n\u001b[0;32m   1416\u001b[0m     timeout\u001b[38;5;241m=\u001b[39mtimeout,\n\u001b[0;32m   1417\u001b[0m     \u001b[38;5;241m*\u001b[39m\u001b[38;5;241m*\u001b[39mkwargs,\n\u001b[0;32m   1418\u001b[0m )\n",
            "File \u001b[1;32m~\\anaconda3\\Lib\\site-packages\\qdrant_client\\qdrant_remote.py:1795\u001b[0m, in \u001b[0;36mQdrantRemote.count\u001b[1;34m(self, collection_name, count_filter, exact, shard_key_selector, timeout, **kwargs)\u001b[0m\n\u001b[0;32m   1792\u001b[0m \u001b[38;5;28;01mif\u001b[39;00m \u001b[38;5;28misinstance\u001b[39m(count_filter, grpc\u001b[38;5;241m.\u001b[39mFilter):\n\u001b[0;32m   1793\u001b[0m     count_filter \u001b[38;5;241m=\u001b[39m GrpcToRest\u001b[38;5;241m.\u001b[39mconvert_filter(model\u001b[38;5;241m=\u001b[39mcount_filter)\n\u001b[1;32m-> 1795\u001b[0m count_result \u001b[38;5;241m=\u001b[39m \u001b[38;5;28mself\u001b[39m\u001b[38;5;241m.\u001b[39mopenapi_client\u001b[38;5;241m.\u001b[39mpoints_api\u001b[38;5;241m.\u001b[39mcount_points(\n\u001b[0;32m   1796\u001b[0m     collection_name\u001b[38;5;241m=\u001b[39mcollection_name,\n\u001b[0;32m   1797\u001b[0m     count_request\u001b[38;5;241m=\u001b[39mmodels\u001b[38;5;241m.\u001b[39mCountRequest(\n\u001b[0;32m   1798\u001b[0m         \u001b[38;5;28mfilter\u001b[39m\u001b[38;5;241m=\u001b[39mcount_filter,\n\u001b[0;32m   1799\u001b[0m         exact\u001b[38;5;241m=\u001b[39mexact,\n\u001b[0;32m   1800\u001b[0m         shard_key\u001b[38;5;241m=\u001b[39mshard_key_selector,\n\u001b[0;32m   1801\u001b[0m     ),\n\u001b[0;32m   1802\u001b[0m     timeout\u001b[38;5;241m=\u001b[39mtimeout,\n\u001b[0;32m   1803\u001b[0m )\u001b[38;5;241m.\u001b[39mresult\n\u001b[0;32m   1804\u001b[0m \u001b[38;5;28;01massert\u001b[39;00m count_result \u001b[38;5;129;01mis\u001b[39;00m \u001b[38;5;129;01mnot\u001b[39;00m \u001b[38;5;28;01mNone\u001b[39;00m, \u001b[38;5;124m\"\u001b[39m\u001b[38;5;124mCount points returned None result\u001b[39m\u001b[38;5;124m\"\u001b[39m\n\u001b[0;32m   1805\u001b[0m \u001b[38;5;28;01mreturn\u001b[39;00m count_result\n",
            "File \u001b[1;32m~\\anaconda3\\Lib\\site-packages\\qdrant_client\\http\\api\\points_api.py:1466\u001b[0m, in \u001b[0;36mSyncPointsApi.count_points\u001b[1;34m(self, collection_name, timeout, count_request)\u001b[0m\n\u001b[0;32m   1457\u001b[0m \u001b[38;5;28;01mdef\u001b[39;00m \u001b[38;5;21mcount_points\u001b[39m(\n\u001b[0;32m   1458\u001b[0m     \u001b[38;5;28mself\u001b[39m,\n\u001b[0;32m   1459\u001b[0m     collection_name: \u001b[38;5;28mstr\u001b[39m,\n\u001b[0;32m   1460\u001b[0m     timeout: \u001b[38;5;28mint\u001b[39m \u001b[38;5;241m=\u001b[39m \u001b[38;5;28;01mNone\u001b[39;00m,\n\u001b[0;32m   1461\u001b[0m     count_request: m\u001b[38;5;241m.\u001b[39mCountRequest \u001b[38;5;241m=\u001b[39m \u001b[38;5;28;01mNone\u001b[39;00m,\n\u001b[0;32m   1462\u001b[0m ) \u001b[38;5;241m-\u001b[39m\u001b[38;5;241m>\u001b[39m m\u001b[38;5;241m.\u001b[39mInlineResponse20019:\n\u001b[0;32m   1463\u001b[0m \u001b[38;5;250m    \u001b[39m\u001b[38;5;124;03m\"\"\"\u001b[39;00m\n\u001b[0;32m   1464\u001b[0m \u001b[38;5;124;03m    Count points which matches given filtering condition\u001b[39;00m\n\u001b[0;32m   1465\u001b[0m \u001b[38;5;124;03m    \"\"\"\u001b[39;00m\n\u001b[1;32m-> 1466\u001b[0m     \u001b[38;5;28;01mreturn\u001b[39;00m \u001b[38;5;28mself\u001b[39m\u001b[38;5;241m.\u001b[39m_build_for_count_points(\n\u001b[0;32m   1467\u001b[0m         collection_name\u001b[38;5;241m=\u001b[39mcollection_name,\n\u001b[0;32m   1468\u001b[0m         timeout\u001b[38;5;241m=\u001b[39mtimeout,\n\u001b[0;32m   1469\u001b[0m         count_request\u001b[38;5;241m=\u001b[39mcount_request,\n\u001b[0;32m   1470\u001b[0m     )\n",
            "File \u001b[1;32m~\\anaconda3\\Lib\\site-packages\\qdrant_client\\http\\api\\points_api.py:144\u001b[0m, in \u001b[0;36m_PointsApi._build_for_count_points\u001b[1;34m(self, collection_name, timeout, count_request)\u001b[0m\n\u001b[0;32m    142\u001b[0m \u001b[38;5;28;01mif\u001b[39;00m \u001b[38;5;124m\"\u001b[39m\u001b[38;5;124mContent-Type\u001b[39m\u001b[38;5;124m\"\u001b[39m \u001b[38;5;129;01mnot\u001b[39;00m \u001b[38;5;129;01min\u001b[39;00m headers:\n\u001b[0;32m    143\u001b[0m     headers[\u001b[38;5;124m\"\u001b[39m\u001b[38;5;124mContent-Type\u001b[39m\u001b[38;5;124m\"\u001b[39m] \u001b[38;5;241m=\u001b[39m \u001b[38;5;124m\"\u001b[39m\u001b[38;5;124mapplication/json\u001b[39m\u001b[38;5;124m\"\u001b[39m\n\u001b[1;32m--> 144\u001b[0m \u001b[38;5;28;01mreturn\u001b[39;00m \u001b[38;5;28mself\u001b[39m\u001b[38;5;241m.\u001b[39mapi_client\u001b[38;5;241m.\u001b[39mrequest(\n\u001b[0;32m    145\u001b[0m     type_\u001b[38;5;241m=\u001b[39mm\u001b[38;5;241m.\u001b[39mInlineResponse20019,\n\u001b[0;32m    146\u001b[0m     method\u001b[38;5;241m=\u001b[39m\u001b[38;5;124m\"\u001b[39m\u001b[38;5;124mPOST\u001b[39m\u001b[38;5;124m\"\u001b[39m,\n\u001b[0;32m    147\u001b[0m     url\u001b[38;5;241m=\u001b[39m\u001b[38;5;124m\"\u001b[39m\u001b[38;5;124m/collections/\u001b[39m\u001b[38;5;132;01m{collection_name}\u001b[39;00m\u001b[38;5;124m/points/count\u001b[39m\u001b[38;5;124m\"\u001b[39m,\n\u001b[0;32m    148\u001b[0m     headers\u001b[38;5;241m=\u001b[39mheaders \u001b[38;5;28;01mif\u001b[39;00m headers \u001b[38;5;28;01melse\u001b[39;00m \u001b[38;5;28;01mNone\u001b[39;00m,\n\u001b[0;32m    149\u001b[0m     path_params\u001b[38;5;241m=\u001b[39mpath_params,\n\u001b[0;32m    150\u001b[0m     params\u001b[38;5;241m=\u001b[39mquery_params,\n\u001b[0;32m    151\u001b[0m     content\u001b[38;5;241m=\u001b[39mbody,\n\u001b[0;32m    152\u001b[0m )\n",
            "File \u001b[1;32m~\\anaconda3\\Lib\\site-packages\\qdrant_client\\http\\api_client.py:79\u001b[0m, in \u001b[0;36mApiClient.request\u001b[1;34m(self, type_, method, url, path_params, **kwargs)\u001b[0m\n\u001b[0;32m     77\u001b[0m     kwargs[\u001b[38;5;124m\"\u001b[39m\u001b[38;5;124mtimeout\u001b[39m\u001b[38;5;124m\"\u001b[39m] \u001b[38;5;241m=\u001b[39m \u001b[38;5;28mint\u001b[39m(kwargs[\u001b[38;5;124m\"\u001b[39m\u001b[38;5;124mparams\u001b[39m\u001b[38;5;124m\"\u001b[39m][\u001b[38;5;124m\"\u001b[39m\u001b[38;5;124mtimeout\u001b[39m\u001b[38;5;124m\"\u001b[39m])\n\u001b[0;32m     78\u001b[0m request \u001b[38;5;241m=\u001b[39m \u001b[38;5;28mself\u001b[39m\u001b[38;5;241m.\u001b[39m_client\u001b[38;5;241m.\u001b[39mbuild_request(method, url, \u001b[38;5;241m*\u001b[39m\u001b[38;5;241m*\u001b[39mkwargs)\n\u001b[1;32m---> 79\u001b[0m \u001b[38;5;28;01mreturn\u001b[39;00m \u001b[38;5;28mself\u001b[39m\u001b[38;5;241m.\u001b[39msend(request, type_)\n",
            "File \u001b[1;32m~\\anaconda3\\Lib\\site-packages\\qdrant_client\\http\\api_client.py:102\u001b[0m, in \u001b[0;36mApiClient.send\u001b[1;34m(self, request, type_)\u001b[0m\n\u001b[0;32m    100\u001b[0m     \u001b[38;5;28;01mexcept\u001b[39;00m ValidationError \u001b[38;5;28;01mas\u001b[39;00m e:\n\u001b[0;32m    101\u001b[0m         \u001b[38;5;28;01mraise\u001b[39;00m ResponseHandlingException(e)\n\u001b[1;32m--> 102\u001b[0m \u001b[38;5;28;01mraise\u001b[39;00m UnexpectedResponse\u001b[38;5;241m.\u001b[39mfor_response(response)\n",
            "\u001b[1;31mUnexpectedResponse\u001b[0m: Unexpected Response: 404 (Not Found)\nRaw response content:\nb'{\"status\":{\"error\":\"Not found: Collection `RAG` doesn\\'t exist!\"},\"time\":7.687e-6}'"
          ]
        }
      ]
    },
    {
      "cell_type": "code",
      "source": [
        "collection_info = client.get_collection(collection_name=\"RAG\")\n",
        "collection_info"
      ],
      "metadata": {
        "colab": {
          "base_uri": "https://localhost:8080/"
        },
        "id": "cTC56aOibHvf",
        "outputId": "f974fa2d-74fd-4345-d973-9d0911e3ce87"
      },
      "execution_count": null,
      "outputs": [
        {
          "output_type": "execute_result",
          "data": {
            "text/plain": [
              "CollectionInfo(status=<CollectionStatus.YELLOW: 'yellow'>, optimizer_status=<OptimizersStatusOneOf.OK: 'ok'>, vectors_count=None, indexed_vectors_count=35949, points_count=11983, segments_count=7, config=CollectionConfig(params=CollectionParams(vectors={'all-MiniLM-L6-v2': VectorParams(size=384, distance=<Distance.COSINE: 'Cosine'>, hnsw_config=None, quantization_config=None, on_disk=None, datatype=None, multivector_config=None), 'colbertv2.0': VectorParams(size=128, distance=<Distance.COSINE: 'Cosine'>, hnsw_config=None, quantization_config=None, on_disk=None, datatype=None, multivector_config=MultiVectorConfig(comparator=<MultiVectorComparator.MAX_SIM: 'max_sim'>))}, shard_number=1, sharding_method=None, replication_factor=1, write_consistency_factor=1, read_fan_out_factor=None, on_disk_payload=True, sparse_vectors={'bm25': SparseVectorParams(index=None, modifier=<Modifier.IDF: 'idf'>)}), hnsw_config=HnswConfig(m=16, ef_construct=100, full_scan_threshold=10000, max_indexing_threads=0, on_disk=False, payload_m=None), optimizer_config=OptimizersConfig(deleted_threshold=0.2, vacuum_min_vector_number=1000, default_segment_number=0, max_segment_size=None, memmap_threshold=None, indexing_threshold=20000, flush_interval_sec=5, max_optimization_threads=None), wal_config=WalConfig(wal_capacity_mb=32, wal_segments_ahead=0), quantization_config=None), payload_schema={})"
            ]
          },
          "metadata": {},
          "execution_count": 224
        }
      ]
    },
    {
      "cell_type": "code",
      "source": [
        "# Инициализация моделей эмбеддингов\n",
        "dense_embedding_model = TextEmbedding(\"sentence-transformers/all-MiniLM-L6-v2\")\n",
        "bm25_embedding_model = SparseTextEmbedding(\"Qdrant/bm25\")\n",
        "late_interaction_embedding_model = LateInteractionTextEmbedding(\"colbert-ir/colbertv2.0\")"
      ],
      "metadata": {
        "colab": {
          "base_uri": "https://localhost:8080/",
          "height": 113,
          "referenced_widgets": [
            "374fe53275994a33a89212f65630732f",
            "dc9616b3231f4289b804f3eeb3db670f",
            "1e92527f62cd48d0ac5c051f44fb9231",
            "1297d93a0de34f9384e13684785eb0d1",
            "f04696921f9047bfba1dbac533f7a9dd",
            "d6c5bdf0e92145e38aaf0d5ad9fe94f7",
            "c4e22465f2cf403bb8e50e04140c36c4",
            "f6c5a5d7355b4121a68b5667ae0c7bf8",
            "81c371ac62ba40758956731be9ac1a9b",
            "1eb1794a44a540ceacfb5209a52ae9bb",
            "b1db1ecd757644c4b4e43f66e4db1fb6",
            "c92c99fd7f274e9c88a6eb6e26f53502",
            "98b300b02d4843d6a9554d9d19f60b40",
            "4a5182298d4a47e79256cfb30928aa5a",
            "d699b503b70340d3928b16c2e22ee726",
            "c41f5139484e4eaab6d911927c11411c",
            "84ef7b50c5d0489782ec245d0f7b00a2",
            "a16cda614db442cabf6fdd8f4ed404fe",
            "f8c44ec7ee42487fa9cafa49b38f21a0",
            "d4006ec33da4472889a984585c62794b",
            "11c73a234d4a4331ae9bc25f91e92207",
            "0b2cd92f09db4f41b5f7f20afcec903f",
            "2346eaa4d5c6482f881ad4280fb12068",
            "223e22f714b14188823108969a85658c",
            "6700e78068994865bb450823ad539af6",
            "6cb57536de154318a8d354bb435fd23b",
            "963f4fb5db3b4b80a3c704e2c801b3f9",
            "aa4c4a3f046d4cc6a0e17f743c7f2f6d",
            "ea7ab339f2e444649dc215dc1b662c0c",
            "7be64969fc50412f87da48df60b1105f",
            "3359bd3ae6f64d32b3a9ac5906fee52f",
            "20663741203f4e59b6163c2104445cfe",
            "2accada76ab24e2da7ebba7d29566b19"
          ]
        },
        "id": "k81mZEhG7dFU",
        "outputId": "fc879c8b-a5be-4427-c831-de3eef8a5a12"
      },
      "execution_count": null,
      "outputs": [
        {
          "output_type": "display_data",
          "data": {
            "text/plain": [
              "Fetching 5 files:   0%|          | 0/5 [00:00<?, ?it/s]"
            ],
            "application/vnd.jupyter.widget-view+json": {
              "version_major": 2,
              "version_minor": 0,
              "model_id": "374fe53275994a33a89212f65630732f"
            }
          },
          "metadata": {}
        },
        {
          "output_type": "display_data",
          "data": {
            "text/plain": [
              "Fetching 29 files:   0%|          | 0/29 [00:00<?, ?it/s]"
            ],
            "application/vnd.jupyter.widget-view+json": {
              "version_major": 2,
              "version_minor": 0,
              "model_id": "c92c99fd7f274e9c88a6eb6e26f53502"
            }
          },
          "metadata": {}
        },
        {
          "output_type": "display_data",
          "data": {
            "text/plain": [
              "Fetching 5 files:   0%|          | 0/5 [00:00<?, ?it/s]"
            ],
            "application/vnd.jupyter.widget-view+json": {
              "version_major": 2,
              "version_minor": 0,
              "model_id": "2346eaa4d5c6482f881ad4280fb12068"
            }
          },
          "metadata": {}
        }
      ]
    },
    {
      "cell_type": "code",
      "source": [
        "# Загрузка из коллекции RAG\n",
        "queries, query_ids, answers, contexts = [], [], [], []\n",
        "response = client.scroll(collection_name=\"RAG\", scroll_filter=None, limit=12000)\n",
        "for point in response[0]:\n",
        "    queries.append(point.payload[\"question\"])\n",
        "    query_ids.append(point.payload[\"_id\"])\n",
        "    answers.append(point.payload[\"answer\"])\n",
        "    contexts.append(point.payload[\"context\"])"
      ],
      "metadata": {
        "id": "jEAPLbllujVE"
      },
      "execution_count": null,
      "outputs": []
    },
    {
      "cell_type": "code",
      "source": [
        "data = {\n",
        "    \"_id\": query_ids,\n",
        "    \"question\": queries,\n",
        "    \"answer\": answers,\n",
        "}\n",
        "df_t = pd.DataFrame(data)"
      ],
      "metadata": {
        "id": "al5O6zQGqPDA"
      },
      "execution_count": null,
      "outputs": []
    },
    {
      "cell_type": "code",
      "source": [
        "df_t.info()"
      ],
      "metadata": {
        "colab": {
          "base_uri": "https://localhost:8080/"
        },
        "id": "_xZUKo15q7CX",
        "outputId": "9d3b2acf-f2f9-4684-b9bd-3cab47ea2814"
      },
      "execution_count": null,
      "outputs": [
        {
          "output_type": "stream",
          "name": "stdout",
          "text": [
            "<class 'pandas.core.frame.DataFrame'>\n",
            "RangeIndex: 11983 entries, 0 to 11982\n",
            "Data columns (total 3 columns):\n",
            " #   Column    Non-Null Count  Dtype \n",
            "---  ------    --------------  ----- \n",
            " 0   _id       11983 non-null  int64 \n",
            " 1   question  11983 non-null  object\n",
            " 2   answer    11983 non-null  object\n",
            "dtypes: int64(1), object(2)\n",
            "memory usage: 281.0+ KB\n"
          ]
        }
      ]
    },
    {
      "cell_type": "code",
      "source": [
        "tqdm.pandas()\n",
        "dense_embeddings = []\n",
        "bm25_embeddings = []\n",
        "late_interaction_embeddings = []\n",
        "# Генерация эмбеддингов и их сохранение\n",
        "for question in tqdm(df_t['question']):\n",
        "    # Обработка dense_embedding\n",
        "    dense_embedding = list(dense_embedding_model.embed(question))\n",
        "    dense_embeddings.append(dense_embedding)\n",
        "    # Обработка bm25_embedding\n",
        "    bm25_embedding = list(bm25_embedding_model.embed(question))\n",
        "    bm25_embeddings.append(bm25_embedding)\n",
        "    # Обработка late_interaction_embedding\n",
        "    late_interaction_embedding = list(late_interaction_embedding_model.embed(question))\n",
        "    late_interaction_embeddings.append(late_interaction_embedding)\n",
        "# Добавляем эмбеддинги в датафрейм\n",
        "df_t['dense_embedding'] = dense_embeddings\n",
        "df_t['bm25_embedding'] = bm25_embeddings\n",
        "df_t['late_interaction_embedding'] = late_interaction_embeddings"
      ],
      "metadata": {
        "colab": {
          "base_uri": "https://localhost:8080/"
        },
        "id": "Df7Q-OeP18R9",
        "outputId": "4a3ff059-bfd8-4745-e68f-995b61d3b9a0"
      },
      "execution_count": null,
      "outputs": [
        {
          "output_type": "stream",
          "name": "stderr",
          "text": [
            "100%|████████████████████████████████████████████████████████████████████████████| 11983/11983 [21:07<00:00,  9.45it/s]\n"
          ]
        }
      ]
    },
    {
      "cell_type": "code",
      "source": [
        "# Создаем словари для хранения векторов с индексами равными значению из df_t['_id']\n",
        "dense_vectors = {}\n",
        "sparse_vectors = {}\n",
        "late_vectors = {}\n",
        "# Генерация эмбеддингов и сохранение их с индексами\n",
        "for _id, query in tqdm(zip(df_t['_id'], df_t['question']), total=len(df_t)):\n",
        "    # Сохранение эмбеддингов\n",
        "    dense_vectors[_id] = next(dense_embedding_model.query_embed(query))\n",
        "    sparse_vectors[_id] = next(bm25_embedding_model.query_embed(query))\n",
        "    late_vectors[_id] = next(late_interaction_embedding_model.query_embed(query))\n",
        "# Преобразуем словари обратно в DataFrame\n",
        "df_t['dense_embedding'] = df_t['_id'].map(dense_vectors)\n",
        "df_t['bm25_embedding'] = df_t['_id'].map(sparse_vectors)\n",
        "df_t['late_interaction_embedding'] = df_t['_id'].map(late_vectors)\n",
        "print(df_t.head())"
      ],
      "metadata": {
        "colab": {
          "base_uri": "https://localhost:8080/"
        },
        "id": "pZMgfy-tNZPW",
        "outputId": "0f109d68-317e-461a-b418-3db3d5fef584",
        "collapsed": true
      },
      "execution_count": null,
      "outputs": [
        {
          "output_type": "stream",
          "name": "stderr",
          "text": [
            "Генерация эмбеддингов: 100%|█████████████████████████████████████████████████████| 11983/11983 [35:54<00:00,  5.56it/s]"
          ]
        },
        {
          "output_type": "stream",
          "name": "stdout",
          "text": [
            "   _id                                           question  \\\n",
            "0    0  what is the berry export summary 2028 and what...   \n",
            "1    1  what are some of the benefits reported from ha...   \n",
            "2    2  what are the unique features of the coolands f...   \n",
            "3    3  what is the main difference between the nation...   \n",
            "4    4  how did gunnar nelson win the fight against za...   \n",
            "\n",
            "                                              answer  \\\n",
            "0  the berry export summary 2028 is a dedicated e...   \n",
            "1  benefits reported from having access to selfsu...   \n",
            "2  the unique features of the coolands for twitte...   \n",
            "3  the main difference between the nss and the ih...   \n",
            "4  gunnar nelson won the fight against zak cummin...   \n",
            "\n",
            "                                     dense_embedding  \\\n",
            "0  [-0.08194435, -0.013052515, -0.044808928, 0.01...   \n",
            "1  [-0.014962784, 0.057150137, 0.05230261, 0.0215...   \n",
            "2  [-0.10045761, -0.022892212, 0.016677994, -0.03...   \n",
            "3  [-0.022077423, -0.01830665, -0.03164753, -0.00...   \n",
            "4  [-0.10147287, 0.089658484, -0.07340542, 0.0602...   \n",
            "\n",
            "                                      bm25_embedding  \\\n",
            "0  SparseEmbedding(values=array([1, 1, 1, 1, 1]),...   \n",
            "1  SparseEmbedding(values=array([1, 1, 1, 1, 1, 1...   \n",
            "2  SparseEmbedding(values=array([1, 1, 1, 1, 1]),...   \n",
            "3  SparseEmbedding(values=array([1, 1, 1, 1, 1, 1...   \n",
            "4  SparseEmbedding(values=array([1, 1, 1, 1, 1, 1...   \n",
            "\n",
            "                          late_interaction_embedding  \n",
            "0  [[0.16226938, 0.11266623, -0.045512345, -0.067...  \n",
            "1  [[0.08227405, -0.1081699, 0.061193872, 0.05260...  \n",
            "2  [[0.08518108, 0.073610246, -0.120548524, 0.008...  \n",
            "3  [[0.0005671443, 0.058605876, -0.0029329108, 0....  \n",
            "4  [[0.006889339, 0.021416165, 0.086233966, 0.184...  \n"
          ]
        },
        {
          "output_type": "stream",
          "name": "stderr",
          "text": [
            "\n"
          ]
        }
      ]
    },
    {
      "cell_type": "code",
      "source": [
        "df_t.info()"
      ],
      "metadata": {
        "colab": {
          "base_uri": "https://localhost:8080/"
        },
        "id": "BgHb2bmKHDyS",
        "outputId": "682c838f-3de9-45fa-d855-1e384f430c17"
      },
      "execution_count": null,
      "outputs": [
        {
          "output_type": "stream",
          "name": "stdout",
          "text": [
            "<class 'pandas.core.frame.DataFrame'>\n",
            "RangeIndex: 11983 entries, 0 to 11982\n",
            "Data columns (total 6 columns):\n",
            " #   Column                      Non-Null Count  Dtype \n",
            "---  ------                      --------------  ----- \n",
            " 0   _id                         11983 non-null  int64 \n",
            " 1   question                    11983 non-null  object\n",
            " 2   answer                      11983 non-null  object\n",
            " 3   dense_embedding             11983 non-null  object\n",
            " 4   bm25_embedding              11983 non-null  object\n",
            " 5   late_interaction_embedding  11983 non-null  object\n",
            "dtypes: int64(1), object(5)\n",
            "memory usage: 561.8+ KB\n"
          ]
        }
      ]
    }
  ],
  "metadata": {
    "colab": {
      "collapsed_sections": [
        "MrVgUqwpv1AC",
        "uTknLV1sFDtD",
        "xgvzywmAYAuM",
        "r_JrXUfH4K5D",
        "jUHGqGCI7C6o"
      ],
      "provenance": []
    },
    "kernelspec": {
      "display_name": "Python 3",
      "name": "python3"
    },
    "language_info": {
      "name": "python"
    },
    "widgets": {
      "application/vnd.jupyter.widget-state+json": {
        "374fe53275994a33a89212f65630732f": {
          "model_module": "@jupyter-widgets/controls",
          "model_name": "HBoxModel",
          "model_module_version": "1.5.0",
          "state": {
            "_dom_classes": [],
            "_model_module": "@jupyter-widgets/controls",
            "_model_module_version": "1.5.0",
            "_model_name": "HBoxModel",
            "_view_count": null,
            "_view_module": "@jupyter-widgets/controls",
            "_view_module_version": "1.5.0",
            "_view_name": "HBoxView",
            "box_style": "",
            "children": [
              "IPY_MODEL_dc9616b3231f4289b804f3eeb3db670f",
              "IPY_MODEL_1e92527f62cd48d0ac5c051f44fb9231",
              "IPY_MODEL_1297d93a0de34f9384e13684785eb0d1"
            ],
            "layout": "IPY_MODEL_f04696921f9047bfba1dbac533f7a9dd"
          }
        },
        "dc9616b3231f4289b804f3eeb3db670f": {
          "model_module": "@jupyter-widgets/controls",
          "model_name": "HTMLModel",
          "model_module_version": "1.5.0",
          "state": {
            "_dom_classes": [],
            "_model_module": "@jupyter-widgets/controls",
            "_model_module_version": "1.5.0",
            "_model_name": "HTMLModel",
            "_view_count": null,
            "_view_module": "@jupyter-widgets/controls",
            "_view_module_version": "1.5.0",
            "_view_name": "HTMLView",
            "description": "",
            "description_tooltip": null,
            "layout": "IPY_MODEL_d6c5bdf0e92145e38aaf0d5ad9fe94f7",
            "placeholder": "​",
            "style": "IPY_MODEL_c4e22465f2cf403bb8e50e04140c36c4",
            "value": "Fetching 5 files: 100%"
          }
        },
        "1e92527f62cd48d0ac5c051f44fb9231": {
          "model_module": "@jupyter-widgets/controls",
          "model_name": "FloatProgressModel",
          "model_module_version": "1.5.0",
          "state": {
            "_dom_classes": [],
            "_model_module": "@jupyter-widgets/controls",
            "_model_module_version": "1.5.0",
            "_model_name": "FloatProgressModel",
            "_view_count": null,
            "_view_module": "@jupyter-widgets/controls",
            "_view_module_version": "1.5.0",
            "_view_name": "ProgressView",
            "bar_style": "success",
            "description": "",
            "description_tooltip": null,
            "layout": "IPY_MODEL_f6c5a5d7355b4121a68b5667ae0c7bf8",
            "max": 5,
            "min": 0,
            "orientation": "horizontal",
            "style": "IPY_MODEL_81c371ac62ba40758956731be9ac1a9b",
            "value": 5
          }
        },
        "1297d93a0de34f9384e13684785eb0d1": {
          "model_module": "@jupyter-widgets/controls",
          "model_name": "HTMLModel",
          "model_module_version": "1.5.0",
          "state": {
            "_dom_classes": [],
            "_model_module": "@jupyter-widgets/controls",
            "_model_module_version": "1.5.0",
            "_model_name": "HTMLModel",
            "_view_count": null,
            "_view_module": "@jupyter-widgets/controls",
            "_view_module_version": "1.5.0",
            "_view_name": "HTMLView",
            "description": "",
            "description_tooltip": null,
            "layout": "IPY_MODEL_1eb1794a44a540ceacfb5209a52ae9bb",
            "placeholder": "​",
            "style": "IPY_MODEL_b1db1ecd757644c4b4e43f66e4db1fb6",
            "value": " 5/5 [00:00&lt;00:00, 502.84it/s]"
          }
        },
        "f04696921f9047bfba1dbac533f7a9dd": {
          "model_module": "@jupyter-widgets/base",
          "model_name": "LayoutModel",
          "model_module_version": "1.2.0",
          "state": {
            "_model_module": "@jupyter-widgets/base",
            "_model_module_version": "1.2.0",
            "_model_name": "LayoutModel",
            "_view_count": null,
            "_view_module": "@jupyter-widgets/base",
            "_view_module_version": "1.2.0",
            "_view_name": "LayoutView",
            "align_content": null,
            "align_items": null,
            "align_self": null,
            "border": null,
            "bottom": null,
            "display": null,
            "flex": null,
            "flex_flow": null,
            "grid_area": null,
            "grid_auto_columns": null,
            "grid_auto_flow": null,
            "grid_auto_rows": null,
            "grid_column": null,
            "grid_gap": null,
            "grid_row": null,
            "grid_template_areas": null,
            "grid_template_columns": null,
            "grid_template_rows": null,
            "height": null,
            "justify_content": null,
            "justify_items": null,
            "left": null,
            "margin": null,
            "max_height": null,
            "max_width": null,
            "min_height": null,
            "min_width": null,
            "object_fit": null,
            "object_position": null,
            "order": null,
            "overflow": null,
            "overflow_x": null,
            "overflow_y": null,
            "padding": null,
            "right": null,
            "top": null,
            "visibility": null,
            "width": null
          }
        },
        "d6c5bdf0e92145e38aaf0d5ad9fe94f7": {
          "model_module": "@jupyter-widgets/base",
          "model_name": "LayoutModel",
          "model_module_version": "1.2.0",
          "state": {
            "_model_module": "@jupyter-widgets/base",
            "_model_module_version": "1.2.0",
            "_model_name": "LayoutModel",
            "_view_count": null,
            "_view_module": "@jupyter-widgets/base",
            "_view_module_version": "1.2.0",
            "_view_name": "LayoutView",
            "align_content": null,
            "align_items": null,
            "align_self": null,
            "border": null,
            "bottom": null,
            "display": null,
            "flex": null,
            "flex_flow": null,
            "grid_area": null,
            "grid_auto_columns": null,
            "grid_auto_flow": null,
            "grid_auto_rows": null,
            "grid_column": null,
            "grid_gap": null,
            "grid_row": null,
            "grid_template_areas": null,
            "grid_template_columns": null,
            "grid_template_rows": null,
            "height": null,
            "justify_content": null,
            "justify_items": null,
            "left": null,
            "margin": null,
            "max_height": null,
            "max_width": null,
            "min_height": null,
            "min_width": null,
            "object_fit": null,
            "object_position": null,
            "order": null,
            "overflow": null,
            "overflow_x": null,
            "overflow_y": null,
            "padding": null,
            "right": null,
            "top": null,
            "visibility": null,
            "width": null
          }
        },
        "c4e22465f2cf403bb8e50e04140c36c4": {
          "model_module": "@jupyter-widgets/controls",
          "model_name": "DescriptionStyleModel",
          "model_module_version": "1.5.0",
          "state": {
            "_model_module": "@jupyter-widgets/controls",
            "_model_module_version": "1.5.0",
            "_model_name": "DescriptionStyleModel",
            "_view_count": null,
            "_view_module": "@jupyter-widgets/base",
            "_view_module_version": "1.2.0",
            "_view_name": "StyleView",
            "description_width": ""
          }
        },
        "f6c5a5d7355b4121a68b5667ae0c7bf8": {
          "model_module": "@jupyter-widgets/base",
          "model_name": "LayoutModel",
          "model_module_version": "1.2.0",
          "state": {
            "_model_module": "@jupyter-widgets/base",
            "_model_module_version": "1.2.0",
            "_model_name": "LayoutModel",
            "_view_count": null,
            "_view_module": "@jupyter-widgets/base",
            "_view_module_version": "1.2.0",
            "_view_name": "LayoutView",
            "align_content": null,
            "align_items": null,
            "align_self": null,
            "border": null,
            "bottom": null,
            "display": null,
            "flex": null,
            "flex_flow": null,
            "grid_area": null,
            "grid_auto_columns": null,
            "grid_auto_flow": null,
            "grid_auto_rows": null,
            "grid_column": null,
            "grid_gap": null,
            "grid_row": null,
            "grid_template_areas": null,
            "grid_template_columns": null,
            "grid_template_rows": null,
            "height": null,
            "justify_content": null,
            "justify_items": null,
            "left": null,
            "margin": null,
            "max_height": null,
            "max_width": null,
            "min_height": null,
            "min_width": null,
            "object_fit": null,
            "object_position": null,
            "order": null,
            "overflow": null,
            "overflow_x": null,
            "overflow_y": null,
            "padding": null,
            "right": null,
            "top": null,
            "visibility": null,
            "width": null
          }
        },
        "81c371ac62ba40758956731be9ac1a9b": {
          "model_module": "@jupyter-widgets/controls",
          "model_name": "ProgressStyleModel",
          "model_module_version": "1.5.0",
          "state": {
            "_model_module": "@jupyter-widgets/controls",
            "_model_module_version": "1.5.0",
            "_model_name": "ProgressStyleModel",
            "_view_count": null,
            "_view_module": "@jupyter-widgets/base",
            "_view_module_version": "1.2.0",
            "_view_name": "StyleView",
            "bar_color": null,
            "description_width": ""
          }
        },
        "1eb1794a44a540ceacfb5209a52ae9bb": {
          "model_module": "@jupyter-widgets/base",
          "model_name": "LayoutModel",
          "model_module_version": "1.2.0",
          "state": {
            "_model_module": "@jupyter-widgets/base",
            "_model_module_version": "1.2.0",
            "_model_name": "LayoutModel",
            "_view_count": null,
            "_view_module": "@jupyter-widgets/base",
            "_view_module_version": "1.2.0",
            "_view_name": "LayoutView",
            "align_content": null,
            "align_items": null,
            "align_self": null,
            "border": null,
            "bottom": null,
            "display": null,
            "flex": null,
            "flex_flow": null,
            "grid_area": null,
            "grid_auto_columns": null,
            "grid_auto_flow": null,
            "grid_auto_rows": null,
            "grid_column": null,
            "grid_gap": null,
            "grid_row": null,
            "grid_template_areas": null,
            "grid_template_columns": null,
            "grid_template_rows": null,
            "height": null,
            "justify_content": null,
            "justify_items": null,
            "left": null,
            "margin": null,
            "max_height": null,
            "max_width": null,
            "min_height": null,
            "min_width": null,
            "object_fit": null,
            "object_position": null,
            "order": null,
            "overflow": null,
            "overflow_x": null,
            "overflow_y": null,
            "padding": null,
            "right": null,
            "top": null,
            "visibility": null,
            "width": null
          }
        },
        "b1db1ecd757644c4b4e43f66e4db1fb6": {
          "model_module": "@jupyter-widgets/controls",
          "model_name": "DescriptionStyleModel",
          "model_module_version": "1.5.0",
          "state": {
            "_model_module": "@jupyter-widgets/controls",
            "_model_module_version": "1.5.0",
            "_model_name": "DescriptionStyleModel",
            "_view_count": null,
            "_view_module": "@jupyter-widgets/base",
            "_view_module_version": "1.2.0",
            "_view_name": "StyleView",
            "description_width": ""
          }
        },
        "c92c99fd7f274e9c88a6eb6e26f53502": {
          "model_module": "@jupyter-widgets/controls",
          "model_name": "HBoxModel",
          "model_module_version": "1.5.0",
          "state": {
            "_dom_classes": [],
            "_model_module": "@jupyter-widgets/controls",
            "_model_module_version": "1.5.0",
            "_model_name": "HBoxModel",
            "_view_count": null,
            "_view_module": "@jupyter-widgets/controls",
            "_view_module_version": "1.5.0",
            "_view_name": "HBoxView",
            "box_style": "",
            "children": [
              "IPY_MODEL_98b300b02d4843d6a9554d9d19f60b40",
              "IPY_MODEL_4a5182298d4a47e79256cfb30928aa5a",
              "IPY_MODEL_d699b503b70340d3928b16c2e22ee726"
            ],
            "layout": "IPY_MODEL_c41f5139484e4eaab6d911927c11411c"
          }
        },
        "98b300b02d4843d6a9554d9d19f60b40": {
          "model_module": "@jupyter-widgets/controls",
          "model_name": "HTMLModel",
          "model_module_version": "1.5.0",
          "state": {
            "_dom_classes": [],
            "_model_module": "@jupyter-widgets/controls",
            "_model_module_version": "1.5.0",
            "_model_name": "HTMLModel",
            "_view_count": null,
            "_view_module": "@jupyter-widgets/controls",
            "_view_module_version": "1.5.0",
            "_view_name": "HTMLView",
            "description": "",
            "description_tooltip": null,
            "layout": "IPY_MODEL_84ef7b50c5d0489782ec245d0f7b00a2",
            "placeholder": "​",
            "style": "IPY_MODEL_a16cda614db442cabf6fdd8f4ed404fe",
            "value": "Fetching 29 files: 100%"
          }
        },
        "4a5182298d4a47e79256cfb30928aa5a": {
          "model_module": "@jupyter-widgets/controls",
          "model_name": "FloatProgressModel",
          "model_module_version": "1.5.0",
          "state": {
            "_dom_classes": [],
            "_model_module": "@jupyter-widgets/controls",
            "_model_module_version": "1.5.0",
            "_model_name": "FloatProgressModel",
            "_view_count": null,
            "_view_module": "@jupyter-widgets/controls",
            "_view_module_version": "1.5.0",
            "_view_name": "ProgressView",
            "bar_style": "success",
            "description": "",
            "description_tooltip": null,
            "layout": "IPY_MODEL_f8c44ec7ee42487fa9cafa49b38f21a0",
            "max": 29,
            "min": 0,
            "orientation": "horizontal",
            "style": "IPY_MODEL_d4006ec33da4472889a984585c62794b",
            "value": 29
          }
        },
        "d699b503b70340d3928b16c2e22ee726": {
          "model_module": "@jupyter-widgets/controls",
          "model_name": "HTMLModel",
          "model_module_version": "1.5.0",
          "state": {
            "_dom_classes": [],
            "_model_module": "@jupyter-widgets/controls",
            "_model_module_version": "1.5.0",
            "_model_name": "HTMLModel",
            "_view_count": null,
            "_view_module": "@jupyter-widgets/controls",
            "_view_module_version": "1.5.0",
            "_view_name": "HTMLView",
            "description": "",
            "description_tooltip": null,
            "layout": "IPY_MODEL_11c73a234d4a4331ae9bc25f91e92207",
            "placeholder": "​",
            "style": "IPY_MODEL_0b2cd92f09db4f41b5f7f20afcec903f",
            "value": " 29/29 [00:00&lt;00:00, 2862.53it/s]"
          }
        },
        "c41f5139484e4eaab6d911927c11411c": {
          "model_module": "@jupyter-widgets/base",
          "model_name": "LayoutModel",
          "model_module_version": "1.2.0",
          "state": {
            "_model_module": "@jupyter-widgets/base",
            "_model_module_version": "1.2.0",
            "_model_name": "LayoutModel",
            "_view_count": null,
            "_view_module": "@jupyter-widgets/base",
            "_view_module_version": "1.2.0",
            "_view_name": "LayoutView",
            "align_content": null,
            "align_items": null,
            "align_self": null,
            "border": null,
            "bottom": null,
            "display": null,
            "flex": null,
            "flex_flow": null,
            "grid_area": null,
            "grid_auto_columns": null,
            "grid_auto_flow": null,
            "grid_auto_rows": null,
            "grid_column": null,
            "grid_gap": null,
            "grid_row": null,
            "grid_template_areas": null,
            "grid_template_columns": null,
            "grid_template_rows": null,
            "height": null,
            "justify_content": null,
            "justify_items": null,
            "left": null,
            "margin": null,
            "max_height": null,
            "max_width": null,
            "min_height": null,
            "min_width": null,
            "object_fit": null,
            "object_position": null,
            "order": null,
            "overflow": null,
            "overflow_x": null,
            "overflow_y": null,
            "padding": null,
            "right": null,
            "top": null,
            "visibility": null,
            "width": null
          }
        },
        "84ef7b50c5d0489782ec245d0f7b00a2": {
          "model_module": "@jupyter-widgets/base",
          "model_name": "LayoutModel",
          "model_module_version": "1.2.0",
          "state": {
            "_model_module": "@jupyter-widgets/base",
            "_model_module_version": "1.2.0",
            "_model_name": "LayoutModel",
            "_view_count": null,
            "_view_module": "@jupyter-widgets/base",
            "_view_module_version": "1.2.0",
            "_view_name": "LayoutView",
            "align_content": null,
            "align_items": null,
            "align_self": null,
            "border": null,
            "bottom": null,
            "display": null,
            "flex": null,
            "flex_flow": null,
            "grid_area": null,
            "grid_auto_columns": null,
            "grid_auto_flow": null,
            "grid_auto_rows": null,
            "grid_column": null,
            "grid_gap": null,
            "grid_row": null,
            "grid_template_areas": null,
            "grid_template_columns": null,
            "grid_template_rows": null,
            "height": null,
            "justify_content": null,
            "justify_items": null,
            "left": null,
            "margin": null,
            "max_height": null,
            "max_width": null,
            "min_height": null,
            "min_width": null,
            "object_fit": null,
            "object_position": null,
            "order": null,
            "overflow": null,
            "overflow_x": null,
            "overflow_y": null,
            "padding": null,
            "right": null,
            "top": null,
            "visibility": null,
            "width": null
          }
        },
        "a16cda614db442cabf6fdd8f4ed404fe": {
          "model_module": "@jupyter-widgets/controls",
          "model_name": "DescriptionStyleModel",
          "model_module_version": "1.5.0",
          "state": {
            "_model_module": "@jupyter-widgets/controls",
            "_model_module_version": "1.5.0",
            "_model_name": "DescriptionStyleModel",
            "_view_count": null,
            "_view_module": "@jupyter-widgets/base",
            "_view_module_version": "1.2.0",
            "_view_name": "StyleView",
            "description_width": ""
          }
        },
        "f8c44ec7ee42487fa9cafa49b38f21a0": {
          "model_module": "@jupyter-widgets/base",
          "model_name": "LayoutModel",
          "model_module_version": "1.2.0",
          "state": {
            "_model_module": "@jupyter-widgets/base",
            "_model_module_version": "1.2.0",
            "_model_name": "LayoutModel",
            "_view_count": null,
            "_view_module": "@jupyter-widgets/base",
            "_view_module_version": "1.2.0",
            "_view_name": "LayoutView",
            "align_content": null,
            "align_items": null,
            "align_self": null,
            "border": null,
            "bottom": null,
            "display": null,
            "flex": null,
            "flex_flow": null,
            "grid_area": null,
            "grid_auto_columns": null,
            "grid_auto_flow": null,
            "grid_auto_rows": null,
            "grid_column": null,
            "grid_gap": null,
            "grid_row": null,
            "grid_template_areas": null,
            "grid_template_columns": null,
            "grid_template_rows": null,
            "height": null,
            "justify_content": null,
            "justify_items": null,
            "left": null,
            "margin": null,
            "max_height": null,
            "max_width": null,
            "min_height": null,
            "min_width": null,
            "object_fit": null,
            "object_position": null,
            "order": null,
            "overflow": null,
            "overflow_x": null,
            "overflow_y": null,
            "padding": null,
            "right": null,
            "top": null,
            "visibility": null,
            "width": null
          }
        },
        "d4006ec33da4472889a984585c62794b": {
          "model_module": "@jupyter-widgets/controls",
          "model_name": "ProgressStyleModel",
          "model_module_version": "1.5.0",
          "state": {
            "_model_module": "@jupyter-widgets/controls",
            "_model_module_version": "1.5.0",
            "_model_name": "ProgressStyleModel",
            "_view_count": null,
            "_view_module": "@jupyter-widgets/base",
            "_view_module_version": "1.2.0",
            "_view_name": "StyleView",
            "bar_color": null,
            "description_width": ""
          }
        },
        "11c73a234d4a4331ae9bc25f91e92207": {
          "model_module": "@jupyter-widgets/base",
          "model_name": "LayoutModel",
          "model_module_version": "1.2.0",
          "state": {
            "_model_module": "@jupyter-widgets/base",
            "_model_module_version": "1.2.0",
            "_model_name": "LayoutModel",
            "_view_count": null,
            "_view_module": "@jupyter-widgets/base",
            "_view_module_version": "1.2.0",
            "_view_name": "LayoutView",
            "align_content": null,
            "align_items": null,
            "align_self": null,
            "border": null,
            "bottom": null,
            "display": null,
            "flex": null,
            "flex_flow": null,
            "grid_area": null,
            "grid_auto_columns": null,
            "grid_auto_flow": null,
            "grid_auto_rows": null,
            "grid_column": null,
            "grid_gap": null,
            "grid_row": null,
            "grid_template_areas": null,
            "grid_template_columns": null,
            "grid_template_rows": null,
            "height": null,
            "justify_content": null,
            "justify_items": null,
            "left": null,
            "margin": null,
            "max_height": null,
            "max_width": null,
            "min_height": null,
            "min_width": null,
            "object_fit": null,
            "object_position": null,
            "order": null,
            "overflow": null,
            "overflow_x": null,
            "overflow_y": null,
            "padding": null,
            "right": null,
            "top": null,
            "visibility": null,
            "width": null
          }
        },
        "0b2cd92f09db4f41b5f7f20afcec903f": {
          "model_module": "@jupyter-widgets/controls",
          "model_name": "DescriptionStyleModel",
          "model_module_version": "1.5.0",
          "state": {
            "_model_module": "@jupyter-widgets/controls",
            "_model_module_version": "1.5.0",
            "_model_name": "DescriptionStyleModel",
            "_view_count": null,
            "_view_module": "@jupyter-widgets/base",
            "_view_module_version": "1.2.0",
            "_view_name": "StyleView",
            "description_width": ""
          }
        },
        "2346eaa4d5c6482f881ad4280fb12068": {
          "model_module": "@jupyter-widgets/controls",
          "model_name": "HBoxModel",
          "model_module_version": "1.5.0",
          "state": {
            "_dom_classes": [],
            "_model_module": "@jupyter-widgets/controls",
            "_model_module_version": "1.5.0",
            "_model_name": "HBoxModel",
            "_view_count": null,
            "_view_module": "@jupyter-widgets/controls",
            "_view_module_version": "1.5.0",
            "_view_name": "HBoxView",
            "box_style": "",
            "children": [
              "IPY_MODEL_223e22f714b14188823108969a85658c",
              "IPY_MODEL_6700e78068994865bb450823ad539af6",
              "IPY_MODEL_6cb57536de154318a8d354bb435fd23b"
            ],
            "layout": "IPY_MODEL_963f4fb5db3b4b80a3c704e2c801b3f9"
          }
        },
        "223e22f714b14188823108969a85658c": {
          "model_module": "@jupyter-widgets/controls",
          "model_name": "HTMLModel",
          "model_module_version": "1.5.0",
          "state": {
            "_dom_classes": [],
            "_model_module": "@jupyter-widgets/controls",
            "_model_module_version": "1.5.0",
            "_model_name": "HTMLModel",
            "_view_count": null,
            "_view_module": "@jupyter-widgets/controls",
            "_view_module_version": "1.5.0",
            "_view_name": "HTMLView",
            "description": "",
            "description_tooltip": null,
            "layout": "IPY_MODEL_aa4c4a3f046d4cc6a0e17f743c7f2f6d",
            "placeholder": "​",
            "style": "IPY_MODEL_ea7ab339f2e444649dc215dc1b662c0c",
            "value": "Fetching 5 files: 100%"
          }
        },
        "6700e78068994865bb450823ad539af6": {
          "model_module": "@jupyter-widgets/controls",
          "model_name": "FloatProgressModel",
          "model_module_version": "1.5.0",
          "state": {
            "_dom_classes": [],
            "_model_module": "@jupyter-widgets/controls",
            "_model_module_version": "1.5.0",
            "_model_name": "FloatProgressModel",
            "_view_count": null,
            "_view_module": "@jupyter-widgets/controls",
            "_view_module_version": "1.5.0",
            "_view_name": "ProgressView",
            "bar_style": "success",
            "description": "",
            "description_tooltip": null,
            "layout": "IPY_MODEL_7be64969fc50412f87da48df60b1105f",
            "max": 5,
            "min": 0,
            "orientation": "horizontal",
            "style": "IPY_MODEL_3359bd3ae6f64d32b3a9ac5906fee52f",
            "value": 5
          }
        },
        "6cb57536de154318a8d354bb435fd23b": {
          "model_module": "@jupyter-widgets/controls",
          "model_name": "HTMLModel",
          "model_module_version": "1.5.0",
          "state": {
            "_dom_classes": [],
            "_model_module": "@jupyter-widgets/controls",
            "_model_module_version": "1.5.0",
            "_model_name": "HTMLModel",
            "_view_count": null,
            "_view_module": "@jupyter-widgets/controls",
            "_view_module_version": "1.5.0",
            "_view_name": "HTMLView",
            "description": "",
            "description_tooltip": null,
            "layout": "IPY_MODEL_20663741203f4e59b6163c2104445cfe",
            "placeholder": "​",
            "style": "IPY_MODEL_2accada76ab24e2da7ebba7d29566b19",
            "value": " 5/5 [00:00&lt;00:00, 633.70it/s]"
          }
        },
        "963f4fb5db3b4b80a3c704e2c801b3f9": {
          "model_module": "@jupyter-widgets/base",
          "model_name": "LayoutModel",
          "model_module_version": "1.2.0",
          "state": {
            "_model_module": "@jupyter-widgets/base",
            "_model_module_version": "1.2.0",
            "_model_name": "LayoutModel",
            "_view_count": null,
            "_view_module": "@jupyter-widgets/base",
            "_view_module_version": "1.2.0",
            "_view_name": "LayoutView",
            "align_content": null,
            "align_items": null,
            "align_self": null,
            "border": null,
            "bottom": null,
            "display": null,
            "flex": null,
            "flex_flow": null,
            "grid_area": null,
            "grid_auto_columns": null,
            "grid_auto_flow": null,
            "grid_auto_rows": null,
            "grid_column": null,
            "grid_gap": null,
            "grid_row": null,
            "grid_template_areas": null,
            "grid_template_columns": null,
            "grid_template_rows": null,
            "height": null,
            "justify_content": null,
            "justify_items": null,
            "left": null,
            "margin": null,
            "max_height": null,
            "max_width": null,
            "min_height": null,
            "min_width": null,
            "object_fit": null,
            "object_position": null,
            "order": null,
            "overflow": null,
            "overflow_x": null,
            "overflow_y": null,
            "padding": null,
            "right": null,
            "top": null,
            "visibility": null,
            "width": null
          }
        },
        "aa4c4a3f046d4cc6a0e17f743c7f2f6d": {
          "model_module": "@jupyter-widgets/base",
          "model_name": "LayoutModel",
          "model_module_version": "1.2.0",
          "state": {
            "_model_module": "@jupyter-widgets/base",
            "_model_module_version": "1.2.0",
            "_model_name": "LayoutModel",
            "_view_count": null,
            "_view_module": "@jupyter-widgets/base",
            "_view_module_version": "1.2.0",
            "_view_name": "LayoutView",
            "align_content": null,
            "align_items": null,
            "align_self": null,
            "border": null,
            "bottom": null,
            "display": null,
            "flex": null,
            "flex_flow": null,
            "grid_area": null,
            "grid_auto_columns": null,
            "grid_auto_flow": null,
            "grid_auto_rows": null,
            "grid_column": null,
            "grid_gap": null,
            "grid_row": null,
            "grid_template_areas": null,
            "grid_template_columns": null,
            "grid_template_rows": null,
            "height": null,
            "justify_content": null,
            "justify_items": null,
            "left": null,
            "margin": null,
            "max_height": null,
            "max_width": null,
            "min_height": null,
            "min_width": null,
            "object_fit": null,
            "object_position": null,
            "order": null,
            "overflow": null,
            "overflow_x": null,
            "overflow_y": null,
            "padding": null,
            "right": null,
            "top": null,
            "visibility": null,
            "width": null
          }
        },
        "ea7ab339f2e444649dc215dc1b662c0c": {
          "model_module": "@jupyter-widgets/controls",
          "model_name": "DescriptionStyleModel",
          "model_module_version": "1.5.0",
          "state": {
            "_model_module": "@jupyter-widgets/controls",
            "_model_module_version": "1.5.0",
            "_model_name": "DescriptionStyleModel",
            "_view_count": null,
            "_view_module": "@jupyter-widgets/base",
            "_view_module_version": "1.2.0",
            "_view_name": "StyleView",
            "description_width": ""
          }
        },
        "7be64969fc50412f87da48df60b1105f": {
          "model_module": "@jupyter-widgets/base",
          "model_name": "LayoutModel",
          "model_module_version": "1.2.0",
          "state": {
            "_model_module": "@jupyter-widgets/base",
            "_model_module_version": "1.2.0",
            "_model_name": "LayoutModel",
            "_view_count": null,
            "_view_module": "@jupyter-widgets/base",
            "_view_module_version": "1.2.0",
            "_view_name": "LayoutView",
            "align_content": null,
            "align_items": null,
            "align_self": null,
            "border": null,
            "bottom": null,
            "display": null,
            "flex": null,
            "flex_flow": null,
            "grid_area": null,
            "grid_auto_columns": null,
            "grid_auto_flow": null,
            "grid_auto_rows": null,
            "grid_column": null,
            "grid_gap": null,
            "grid_row": null,
            "grid_template_areas": null,
            "grid_template_columns": null,
            "grid_template_rows": null,
            "height": null,
            "justify_content": null,
            "justify_items": null,
            "left": null,
            "margin": null,
            "max_height": null,
            "max_width": null,
            "min_height": null,
            "min_width": null,
            "object_fit": null,
            "object_position": null,
            "order": null,
            "overflow": null,
            "overflow_x": null,
            "overflow_y": null,
            "padding": null,
            "right": null,
            "top": null,
            "visibility": null,
            "width": null
          }
        },
        "3359bd3ae6f64d32b3a9ac5906fee52f": {
          "model_module": "@jupyter-widgets/controls",
          "model_name": "ProgressStyleModel",
          "model_module_version": "1.5.0",
          "state": {
            "_model_module": "@jupyter-widgets/controls",
            "_model_module_version": "1.5.0",
            "_model_name": "ProgressStyleModel",
            "_view_count": null,
            "_view_module": "@jupyter-widgets/base",
            "_view_module_version": "1.2.0",
            "_view_name": "StyleView",
            "bar_color": null,
            "description_width": ""
          }
        },
        "20663741203f4e59b6163c2104445cfe": {
          "model_module": "@jupyter-widgets/base",
          "model_name": "LayoutModel",
          "model_module_version": "1.2.0",
          "state": {
            "_model_module": "@jupyter-widgets/base",
            "_model_module_version": "1.2.0",
            "_model_name": "LayoutModel",
            "_view_count": null,
            "_view_module": "@jupyter-widgets/base",
            "_view_module_version": "1.2.0",
            "_view_name": "LayoutView",
            "align_content": null,
            "align_items": null,
            "align_self": null,
            "border": null,
            "bottom": null,
            "display": null,
            "flex": null,
            "flex_flow": null,
            "grid_area": null,
            "grid_auto_columns": null,
            "grid_auto_flow": null,
            "grid_auto_rows": null,
            "grid_column": null,
            "grid_gap": null,
            "grid_row": null,
            "grid_template_areas": null,
            "grid_template_columns": null,
            "grid_template_rows": null,
            "height": null,
            "justify_content": null,
            "justify_items": null,
            "left": null,
            "margin": null,
            "max_height": null,
            "max_width": null,
            "min_height": null,
            "min_width": null,
            "object_fit": null,
            "object_position": null,
            "order": null,
            "overflow": null,
            "overflow_x": null,
            "overflow_y": null,
            "padding": null,
            "right": null,
            "top": null,
            "visibility": null,
            "width": null
          }
        },
        "2accada76ab24e2da7ebba7d29566b19": {
          "model_module": "@jupyter-widgets/controls",
          "model_name": "DescriptionStyleModel",
          "model_module_version": "1.5.0",
          "state": {
            "_model_module": "@jupyter-widgets/controls",
            "_model_module_version": "1.5.0",
            "_model_name": "DescriptionStyleModel",
            "_view_count": null,
            "_view_module": "@jupyter-widgets/base",
            "_view_module_version": "1.2.0",
            "_view_name": "StyleView",
            "description_width": ""
          }
        },
        "cb910c8c5f7d40c3ad5fab6e6b90b1d7": {
          "model_module": "@jupyter-widgets/controls",
          "model_name": "HBoxModel",
          "model_module_version": "1.5.0",
          "state": {
            "_dom_classes": [],
            "_model_module": "@jupyter-widgets/controls",
            "_model_module_version": "1.5.0",
            "_model_name": "HBoxModel",
            "_view_count": null,
            "_view_module": "@jupyter-widgets/controls",
            "_view_module_version": "1.5.0",
            "_view_name": "HBoxView",
            "box_style": "",
            "children": [
              "IPY_MODEL_19ae0a04e30d44e3a94d8aadb7a60c2e",
              "IPY_MODEL_ad5789dcbd6745ab9744f7352db832ee",
              "IPY_MODEL_e83a6300d463488bade308564cbc7d8e"
            ],
            "layout": "IPY_MODEL_c9c6edd6174b43c3954764cf23aee29a"
          }
        },
        "19ae0a04e30d44e3a94d8aadb7a60c2e": {
          "model_module": "@jupyter-widgets/controls",
          "model_name": "HTMLModel",
          "model_module_version": "1.5.0",
          "state": {
            "_dom_classes": [],
            "_model_module": "@jupyter-widgets/controls",
            "_model_module_version": "1.5.0",
            "_model_name": "HTMLModel",
            "_view_count": null,
            "_view_module": "@jupyter-widgets/controls",
            "_view_module_version": "1.5.0",
            "_view_name": "HTMLView",
            "description": "",
            "description_tooltip": null,
            "layout": "IPY_MODEL_9bd0c8193f33466f86abd5b8e48699ff",
            "placeholder": "​",
            "style": "IPY_MODEL_c7f0a39fa5724cef8559ec33d6d431f2",
            "value": "Fetching 29 files: 100%"
          }
        },
        "ad5789dcbd6745ab9744f7352db832ee": {
          "model_module": "@jupyter-widgets/controls",
          "model_name": "FloatProgressModel",
          "model_module_version": "1.5.0",
          "state": {
            "_dom_classes": [],
            "_model_module": "@jupyter-widgets/controls",
            "_model_module_version": "1.5.0",
            "_model_name": "FloatProgressModel",
            "_view_count": null,
            "_view_module": "@jupyter-widgets/controls",
            "_view_module_version": "1.5.0",
            "_view_name": "ProgressView",
            "bar_style": "success",
            "description": "",
            "description_tooltip": null,
            "layout": "IPY_MODEL_6a4526befcb14bc683ad96a92909245c",
            "max": 29,
            "min": 0,
            "orientation": "horizontal",
            "style": "IPY_MODEL_1da0031bda424751a64db487b04b2320",
            "value": 29
          }
        },
        "e83a6300d463488bade308564cbc7d8e": {
          "model_module": "@jupyter-widgets/controls",
          "model_name": "HTMLModel",
          "model_module_version": "1.5.0",
          "state": {
            "_dom_classes": [],
            "_model_module": "@jupyter-widgets/controls",
            "_model_module_version": "1.5.0",
            "_model_name": "HTMLModel",
            "_view_count": null,
            "_view_module": "@jupyter-widgets/controls",
            "_view_module_version": "1.5.0",
            "_view_name": "HTMLView",
            "description": "",
            "description_tooltip": null,
            "layout": "IPY_MODEL_65b36b27bd954cd49eccd98c354da994",
            "placeholder": "​",
            "style": "IPY_MODEL_d42e6b00cbd94f498185645227a39810",
            "value": " 29/29 [00:00&lt;00:00, 3860.44it/s]"
          }
        },
        "c9c6edd6174b43c3954764cf23aee29a": {
          "model_module": "@jupyter-widgets/base",
          "model_name": "LayoutModel",
          "model_module_version": "1.2.0",
          "state": {
            "_model_module": "@jupyter-widgets/base",
            "_model_module_version": "1.2.0",
            "_model_name": "LayoutModel",
            "_view_count": null,
            "_view_module": "@jupyter-widgets/base",
            "_view_module_version": "1.2.0",
            "_view_name": "LayoutView",
            "align_content": null,
            "align_items": null,
            "align_self": null,
            "border": null,
            "bottom": null,
            "display": null,
            "flex": null,
            "flex_flow": null,
            "grid_area": null,
            "grid_auto_columns": null,
            "grid_auto_flow": null,
            "grid_auto_rows": null,
            "grid_column": null,
            "grid_gap": null,
            "grid_row": null,
            "grid_template_areas": null,
            "grid_template_columns": null,
            "grid_template_rows": null,
            "height": null,
            "justify_content": null,
            "justify_items": null,
            "left": null,
            "margin": null,
            "max_height": null,
            "max_width": null,
            "min_height": null,
            "min_width": null,
            "object_fit": null,
            "object_position": null,
            "order": null,
            "overflow": null,
            "overflow_x": null,
            "overflow_y": null,
            "padding": null,
            "right": null,
            "top": null,
            "visibility": null,
            "width": null
          }
        },
        "9bd0c8193f33466f86abd5b8e48699ff": {
          "model_module": "@jupyter-widgets/base",
          "model_name": "LayoutModel",
          "model_module_version": "1.2.0",
          "state": {
            "_model_module": "@jupyter-widgets/base",
            "_model_module_version": "1.2.0",
            "_model_name": "LayoutModel",
            "_view_count": null,
            "_view_module": "@jupyter-widgets/base",
            "_view_module_version": "1.2.0",
            "_view_name": "LayoutView",
            "align_content": null,
            "align_items": null,
            "align_self": null,
            "border": null,
            "bottom": null,
            "display": null,
            "flex": null,
            "flex_flow": null,
            "grid_area": null,
            "grid_auto_columns": null,
            "grid_auto_flow": null,
            "grid_auto_rows": null,
            "grid_column": null,
            "grid_gap": null,
            "grid_row": null,
            "grid_template_areas": null,
            "grid_template_columns": null,
            "grid_template_rows": null,
            "height": null,
            "justify_content": null,
            "justify_items": null,
            "left": null,
            "margin": null,
            "max_height": null,
            "max_width": null,
            "min_height": null,
            "min_width": null,
            "object_fit": null,
            "object_position": null,
            "order": null,
            "overflow": null,
            "overflow_x": null,
            "overflow_y": null,
            "padding": null,
            "right": null,
            "top": null,
            "visibility": null,
            "width": null
          }
        },
        "c7f0a39fa5724cef8559ec33d6d431f2": {
          "model_module": "@jupyter-widgets/controls",
          "model_name": "DescriptionStyleModel",
          "model_module_version": "1.5.0",
          "state": {
            "_model_module": "@jupyter-widgets/controls",
            "_model_module_version": "1.5.0",
            "_model_name": "DescriptionStyleModel",
            "_view_count": null,
            "_view_module": "@jupyter-widgets/base",
            "_view_module_version": "1.2.0",
            "_view_name": "StyleView",
            "description_width": ""
          }
        },
        "6a4526befcb14bc683ad96a92909245c": {
          "model_module": "@jupyter-widgets/base",
          "model_name": "LayoutModel",
          "model_module_version": "1.2.0",
          "state": {
            "_model_module": "@jupyter-widgets/base",
            "_model_module_version": "1.2.0",
            "_model_name": "LayoutModel",
            "_view_count": null,
            "_view_module": "@jupyter-widgets/base",
            "_view_module_version": "1.2.0",
            "_view_name": "LayoutView",
            "align_content": null,
            "align_items": null,
            "align_self": null,
            "border": null,
            "bottom": null,
            "display": null,
            "flex": null,
            "flex_flow": null,
            "grid_area": null,
            "grid_auto_columns": null,
            "grid_auto_flow": null,
            "grid_auto_rows": null,
            "grid_column": null,
            "grid_gap": null,
            "grid_row": null,
            "grid_template_areas": null,
            "grid_template_columns": null,
            "grid_template_rows": null,
            "height": null,
            "justify_content": null,
            "justify_items": null,
            "left": null,
            "margin": null,
            "max_height": null,
            "max_width": null,
            "min_height": null,
            "min_width": null,
            "object_fit": null,
            "object_position": null,
            "order": null,
            "overflow": null,
            "overflow_x": null,
            "overflow_y": null,
            "padding": null,
            "right": null,
            "top": null,
            "visibility": null,
            "width": null
          }
        },
        "1da0031bda424751a64db487b04b2320": {
          "model_module": "@jupyter-widgets/controls",
          "model_name": "ProgressStyleModel",
          "model_module_version": "1.5.0",
          "state": {
            "_model_module": "@jupyter-widgets/controls",
            "_model_module_version": "1.5.0",
            "_model_name": "ProgressStyleModel",
            "_view_count": null,
            "_view_module": "@jupyter-widgets/base",
            "_view_module_version": "1.2.0",
            "_view_name": "StyleView",
            "bar_color": null,
            "description_width": ""
          }
        },
        "65b36b27bd954cd49eccd98c354da994": {
          "model_module": "@jupyter-widgets/base",
          "model_name": "LayoutModel",
          "model_module_version": "1.2.0",
          "state": {
            "_model_module": "@jupyter-widgets/base",
            "_model_module_version": "1.2.0",
            "_model_name": "LayoutModel",
            "_view_count": null,
            "_view_module": "@jupyter-widgets/base",
            "_view_module_version": "1.2.0",
            "_view_name": "LayoutView",
            "align_content": null,
            "align_items": null,
            "align_self": null,
            "border": null,
            "bottom": null,
            "display": null,
            "flex": null,
            "flex_flow": null,
            "grid_area": null,
            "grid_auto_columns": null,
            "grid_auto_flow": null,
            "grid_auto_rows": null,
            "grid_column": null,
            "grid_gap": null,
            "grid_row": null,
            "grid_template_areas": null,
            "grid_template_columns": null,
            "grid_template_rows": null,
            "height": null,
            "justify_content": null,
            "justify_items": null,
            "left": null,
            "margin": null,
            "max_height": null,
            "max_width": null,
            "min_height": null,
            "min_width": null,
            "object_fit": null,
            "object_position": null,
            "order": null,
            "overflow": null,
            "overflow_x": null,
            "overflow_y": null,
            "padding": null,
            "right": null,
            "top": null,
            "visibility": null,
            "width": null
          }
        },
        "d42e6b00cbd94f498185645227a39810": {
          "model_module": "@jupyter-widgets/controls",
          "model_name": "DescriptionStyleModel",
          "model_module_version": "1.5.0",
          "state": {
            "_model_module": "@jupyter-widgets/controls",
            "_model_module_version": "1.5.0",
            "_model_name": "DescriptionStyleModel",
            "_view_count": null,
            "_view_module": "@jupyter-widgets/base",
            "_view_module_version": "1.2.0",
            "_view_name": "StyleView",
            "description_width": ""
          }
        },
        "c96c655dd14b4524a1e87d798108bfea": {
          "model_module": "@jupyter-widgets/controls",
          "model_name": "HBoxModel",
          "model_module_version": "1.5.0",
          "state": {
            "_dom_classes": [],
            "_model_module": "@jupyter-widgets/controls",
            "_model_module_version": "1.5.0",
            "_model_name": "HBoxModel",
            "_view_count": null,
            "_view_module": "@jupyter-widgets/controls",
            "_view_module_version": "1.5.0",
            "_view_name": "HBoxView",
            "box_style": "",
            "children": [
              "IPY_MODEL_fc9e04a3c6584024a3b6a811b1f7b137",
              "IPY_MODEL_23ae04745965465885bc264d2352a4fe",
              "IPY_MODEL_2dc34dc064764c889b9e7506eda5282a"
            ],
            "layout": "IPY_MODEL_7c5a6d2367044319a5e34c7a823d12a3"
          }
        },
        "fc9e04a3c6584024a3b6a811b1f7b137": {
          "model_module": "@jupyter-widgets/controls",
          "model_name": "HTMLModel",
          "model_module_version": "1.5.0",
          "state": {
            "_dom_classes": [],
            "_model_module": "@jupyter-widgets/controls",
            "_model_module_version": "1.5.0",
            "_model_name": "HTMLModel",
            "_view_count": null,
            "_view_module": "@jupyter-widgets/controls",
            "_view_module_version": "1.5.0",
            "_view_name": "HTMLView",
            "description": "",
            "description_tooltip": null,
            "layout": "IPY_MODEL_a5b8fa403121454fbac7c9f8db29b444",
            "placeholder": "​",
            "style": "IPY_MODEL_905b6c16f38c4577a9c3e2e34ca7ea4a",
            "value": "Fetching 5 files: 100%"
          }
        },
        "23ae04745965465885bc264d2352a4fe": {
          "model_module": "@jupyter-widgets/controls",
          "model_name": "FloatProgressModel",
          "model_module_version": "1.5.0",
          "state": {
            "_dom_classes": [],
            "_model_module": "@jupyter-widgets/controls",
            "_model_module_version": "1.5.0",
            "_model_name": "FloatProgressModel",
            "_view_count": null,
            "_view_module": "@jupyter-widgets/controls",
            "_view_module_version": "1.5.0",
            "_view_name": "ProgressView",
            "bar_style": "success",
            "description": "",
            "description_tooltip": null,
            "layout": "IPY_MODEL_5d57c20b923843d28fda1dc86d80ce4a",
            "max": 5,
            "min": 0,
            "orientation": "horizontal",
            "style": "IPY_MODEL_331eb5433d8b40818e39d3477c159e10",
            "value": 5
          }
        },
        "2dc34dc064764c889b9e7506eda5282a": {
          "model_module": "@jupyter-widgets/controls",
          "model_name": "HTMLModel",
          "model_module_version": "1.5.0",
          "state": {
            "_dom_classes": [],
            "_model_module": "@jupyter-widgets/controls",
            "_model_module_version": "1.5.0",
            "_model_name": "HTMLModel",
            "_view_count": null,
            "_view_module": "@jupyter-widgets/controls",
            "_view_module_version": "1.5.0",
            "_view_name": "HTMLView",
            "description": "",
            "description_tooltip": null,
            "layout": "IPY_MODEL_f62f6fe8ae6e4c359d397b97495458de",
            "placeholder": "​",
            "style": "IPY_MODEL_1e4d61d6909e4886a905fb21d0b3382f",
            "value": " 5/5 [00:00&lt;00:00, 907.98it/s]"
          }
        },
        "7c5a6d2367044319a5e34c7a823d12a3": {
          "model_module": "@jupyter-widgets/base",
          "model_name": "LayoutModel",
          "model_module_version": "1.2.0",
          "state": {
            "_model_module": "@jupyter-widgets/base",
            "_model_module_version": "1.2.0",
            "_model_name": "LayoutModel",
            "_view_count": null,
            "_view_module": "@jupyter-widgets/base",
            "_view_module_version": "1.2.0",
            "_view_name": "LayoutView",
            "align_content": null,
            "align_items": null,
            "align_self": null,
            "border": null,
            "bottom": null,
            "display": null,
            "flex": null,
            "flex_flow": null,
            "grid_area": null,
            "grid_auto_columns": null,
            "grid_auto_flow": null,
            "grid_auto_rows": null,
            "grid_column": null,
            "grid_gap": null,
            "grid_row": null,
            "grid_template_areas": null,
            "grid_template_columns": null,
            "grid_template_rows": null,
            "height": null,
            "justify_content": null,
            "justify_items": null,
            "left": null,
            "margin": null,
            "max_height": null,
            "max_width": null,
            "min_height": null,
            "min_width": null,
            "object_fit": null,
            "object_position": null,
            "order": null,
            "overflow": null,
            "overflow_x": null,
            "overflow_y": null,
            "padding": null,
            "right": null,
            "top": null,
            "visibility": null,
            "width": null
          }
        },
        "a5b8fa403121454fbac7c9f8db29b444": {
          "model_module": "@jupyter-widgets/base",
          "model_name": "LayoutModel",
          "model_module_version": "1.2.0",
          "state": {
            "_model_module": "@jupyter-widgets/base",
            "_model_module_version": "1.2.0",
            "_model_name": "LayoutModel",
            "_view_count": null,
            "_view_module": "@jupyter-widgets/base",
            "_view_module_version": "1.2.0",
            "_view_name": "LayoutView",
            "align_content": null,
            "align_items": null,
            "align_self": null,
            "border": null,
            "bottom": null,
            "display": null,
            "flex": null,
            "flex_flow": null,
            "grid_area": null,
            "grid_auto_columns": null,
            "grid_auto_flow": null,
            "grid_auto_rows": null,
            "grid_column": null,
            "grid_gap": null,
            "grid_row": null,
            "grid_template_areas": null,
            "grid_template_columns": null,
            "grid_template_rows": null,
            "height": null,
            "justify_content": null,
            "justify_items": null,
            "left": null,
            "margin": null,
            "max_height": null,
            "max_width": null,
            "min_height": null,
            "min_width": null,
            "object_fit": null,
            "object_position": null,
            "order": null,
            "overflow": null,
            "overflow_x": null,
            "overflow_y": null,
            "padding": null,
            "right": null,
            "top": null,
            "visibility": null,
            "width": null
          }
        },
        "905b6c16f38c4577a9c3e2e34ca7ea4a": {
          "model_module": "@jupyter-widgets/controls",
          "model_name": "DescriptionStyleModel",
          "model_module_version": "1.5.0",
          "state": {
            "_model_module": "@jupyter-widgets/controls",
            "_model_module_version": "1.5.0",
            "_model_name": "DescriptionStyleModel",
            "_view_count": null,
            "_view_module": "@jupyter-widgets/base",
            "_view_module_version": "1.2.0",
            "_view_name": "StyleView",
            "description_width": ""
          }
        },
        "5d57c20b923843d28fda1dc86d80ce4a": {
          "model_module": "@jupyter-widgets/base",
          "model_name": "LayoutModel",
          "model_module_version": "1.2.0",
          "state": {
            "_model_module": "@jupyter-widgets/base",
            "_model_module_version": "1.2.0",
            "_model_name": "LayoutModel",
            "_view_count": null,
            "_view_module": "@jupyter-widgets/base",
            "_view_module_version": "1.2.0",
            "_view_name": "LayoutView",
            "align_content": null,
            "align_items": null,
            "align_self": null,
            "border": null,
            "bottom": null,
            "display": null,
            "flex": null,
            "flex_flow": null,
            "grid_area": null,
            "grid_auto_columns": null,
            "grid_auto_flow": null,
            "grid_auto_rows": null,
            "grid_column": null,
            "grid_gap": null,
            "grid_row": null,
            "grid_template_areas": null,
            "grid_template_columns": null,
            "grid_template_rows": null,
            "height": null,
            "justify_content": null,
            "justify_items": null,
            "left": null,
            "margin": null,
            "max_height": null,
            "max_width": null,
            "min_height": null,
            "min_width": null,
            "object_fit": null,
            "object_position": null,
            "order": null,
            "overflow": null,
            "overflow_x": null,
            "overflow_y": null,
            "padding": null,
            "right": null,
            "top": null,
            "visibility": null,
            "width": null
          }
        },
        "331eb5433d8b40818e39d3477c159e10": {
          "model_module": "@jupyter-widgets/controls",
          "model_name": "ProgressStyleModel",
          "model_module_version": "1.5.0",
          "state": {
            "_model_module": "@jupyter-widgets/controls",
            "_model_module_version": "1.5.0",
            "_model_name": "ProgressStyleModel",
            "_view_count": null,
            "_view_module": "@jupyter-widgets/base",
            "_view_module_version": "1.2.0",
            "_view_name": "StyleView",
            "bar_color": null,
            "description_width": ""
          }
        },
        "f62f6fe8ae6e4c359d397b97495458de": {
          "model_module": "@jupyter-widgets/base",
          "model_name": "LayoutModel",
          "model_module_version": "1.2.0",
          "state": {
            "_model_module": "@jupyter-widgets/base",
            "_model_module_version": "1.2.0",
            "_model_name": "LayoutModel",
            "_view_count": null,
            "_view_module": "@jupyter-widgets/base",
            "_view_module_version": "1.2.0",
            "_view_name": "LayoutView",
            "align_content": null,
            "align_items": null,
            "align_self": null,
            "border": null,
            "bottom": null,
            "display": null,
            "flex": null,
            "flex_flow": null,
            "grid_area": null,
            "grid_auto_columns": null,
            "grid_auto_flow": null,
            "grid_auto_rows": null,
            "grid_column": null,
            "grid_gap": null,
            "grid_row": null,
            "grid_template_areas": null,
            "grid_template_columns": null,
            "grid_template_rows": null,
            "height": null,
            "justify_content": null,
            "justify_items": null,
            "left": null,
            "margin": null,
            "max_height": null,
            "max_width": null,
            "min_height": null,
            "min_width": null,
            "object_fit": null,
            "object_position": null,
            "order": null,
            "overflow": null,
            "overflow_x": null,
            "overflow_y": null,
            "padding": null,
            "right": null,
            "top": null,
            "visibility": null,
            "width": null
          }
        },
        "1e4d61d6909e4886a905fb21d0b3382f": {
          "model_module": "@jupyter-widgets/controls",
          "model_name": "DescriptionStyleModel",
          "model_module_version": "1.5.0",
          "state": {
            "_model_module": "@jupyter-widgets/controls",
            "_model_module_version": "1.5.0",
            "_model_name": "DescriptionStyleModel",
            "_view_count": null,
            "_view_module": "@jupyter-widgets/base",
            "_view_module_version": "1.2.0",
            "_view_name": "StyleView",
            "description_width": ""
          }
        },
        "8bd7829024524fd0a0012ab4fa0e8102": {
          "model_module": "@jupyter-widgets/controls",
          "model_name": "HBoxModel",
          "model_module_version": "1.5.0",
          "state": {
            "_dom_classes": [],
            "_model_module": "@jupyter-widgets/controls",
            "_model_module_version": "1.5.0",
            "_model_name": "HBoxModel",
            "_view_count": null,
            "_view_module": "@jupyter-widgets/controls",
            "_view_module_version": "1.5.0",
            "_view_name": "HBoxView",
            "box_style": "",
            "children": [
              "IPY_MODEL_273527a430d34b63954a7dccb48dfe58",
              "IPY_MODEL_d1d153c5446d44cc9a6a389c78cb032f",
              "IPY_MODEL_fcc13a65d5a146978699e2ef93fc04ae"
            ],
            "layout": "IPY_MODEL_7fb493238aa3475da23185246949c77c"
          }
        },
        "273527a430d34b63954a7dccb48dfe58": {
          "model_module": "@jupyter-widgets/controls",
          "model_name": "HTMLModel",
          "model_module_version": "1.5.0",
          "state": {
            "_dom_classes": [],
            "_model_module": "@jupyter-widgets/controls",
            "_model_module_version": "1.5.0",
            "_model_name": "HTMLModel",
            "_view_count": null,
            "_view_module": "@jupyter-widgets/controls",
            "_view_module_version": "1.5.0",
            "_view_name": "HTMLView",
            "description": "",
            "description_tooltip": null,
            "layout": "IPY_MODEL_f6c098d2438441a4a72e8364ab70cf44",
            "placeholder": "​",
            "style": "IPY_MODEL_5a2656131483498493679b89b2012649",
            "value": "Fetching 5 files: 100%"
          }
        },
        "d1d153c5446d44cc9a6a389c78cb032f": {
          "model_module": "@jupyter-widgets/controls",
          "model_name": "FloatProgressModel",
          "model_module_version": "1.5.0",
          "state": {
            "_dom_classes": [],
            "_model_module": "@jupyter-widgets/controls",
            "_model_module_version": "1.5.0",
            "_model_name": "FloatProgressModel",
            "_view_count": null,
            "_view_module": "@jupyter-widgets/controls",
            "_view_module_version": "1.5.0",
            "_view_name": "ProgressView",
            "bar_style": "success",
            "description": "",
            "description_tooltip": null,
            "layout": "IPY_MODEL_ddcc943e6f6b436985c7b714911eda8b",
            "max": 5,
            "min": 0,
            "orientation": "horizontal",
            "style": "IPY_MODEL_7f3e27e35b314c8da571c7997136a4c7",
            "value": 5
          }
        },
        "fcc13a65d5a146978699e2ef93fc04ae": {
          "model_module": "@jupyter-widgets/controls",
          "model_name": "HTMLModel",
          "model_module_version": "1.5.0",
          "state": {
            "_dom_classes": [],
            "_model_module": "@jupyter-widgets/controls",
            "_model_module_version": "1.5.0",
            "_model_name": "HTMLModel",
            "_view_count": null,
            "_view_module": "@jupyter-widgets/controls",
            "_view_module_version": "1.5.0",
            "_view_name": "HTMLView",
            "description": "",
            "description_tooltip": null,
            "layout": "IPY_MODEL_e9e255c1e5aa4b9dbcdc19ae4786e30b",
            "placeholder": "​",
            "style": "IPY_MODEL_1a57fadfbda4450db7bab836858c2612",
            "value": " 5/5 [00:00&lt;00:00, 830.49it/s]"
          }
        },
        "7fb493238aa3475da23185246949c77c": {
          "model_module": "@jupyter-widgets/base",
          "model_name": "LayoutModel",
          "model_module_version": "1.2.0",
          "state": {
            "_model_module": "@jupyter-widgets/base",
            "_model_module_version": "1.2.0",
            "_model_name": "LayoutModel",
            "_view_count": null,
            "_view_module": "@jupyter-widgets/base",
            "_view_module_version": "1.2.0",
            "_view_name": "LayoutView",
            "align_content": null,
            "align_items": null,
            "align_self": null,
            "border": null,
            "bottom": null,
            "display": null,
            "flex": null,
            "flex_flow": null,
            "grid_area": null,
            "grid_auto_columns": null,
            "grid_auto_flow": null,
            "grid_auto_rows": null,
            "grid_column": null,
            "grid_gap": null,
            "grid_row": null,
            "grid_template_areas": null,
            "grid_template_columns": null,
            "grid_template_rows": null,
            "height": null,
            "justify_content": null,
            "justify_items": null,
            "left": null,
            "margin": null,
            "max_height": null,
            "max_width": null,
            "min_height": null,
            "min_width": null,
            "object_fit": null,
            "object_position": null,
            "order": null,
            "overflow": null,
            "overflow_x": null,
            "overflow_y": null,
            "padding": null,
            "right": null,
            "top": null,
            "visibility": null,
            "width": null
          }
        },
        "f6c098d2438441a4a72e8364ab70cf44": {
          "model_module": "@jupyter-widgets/base",
          "model_name": "LayoutModel",
          "model_module_version": "1.2.0",
          "state": {
            "_model_module": "@jupyter-widgets/base",
            "_model_module_version": "1.2.0",
            "_model_name": "LayoutModel",
            "_view_count": null,
            "_view_module": "@jupyter-widgets/base",
            "_view_module_version": "1.2.0",
            "_view_name": "LayoutView",
            "align_content": null,
            "align_items": null,
            "align_self": null,
            "border": null,
            "bottom": null,
            "display": null,
            "flex": null,
            "flex_flow": null,
            "grid_area": null,
            "grid_auto_columns": null,
            "grid_auto_flow": null,
            "grid_auto_rows": null,
            "grid_column": null,
            "grid_gap": null,
            "grid_row": null,
            "grid_template_areas": null,
            "grid_template_columns": null,
            "grid_template_rows": null,
            "height": null,
            "justify_content": null,
            "justify_items": null,
            "left": null,
            "margin": null,
            "max_height": null,
            "max_width": null,
            "min_height": null,
            "min_width": null,
            "object_fit": null,
            "object_position": null,
            "order": null,
            "overflow": null,
            "overflow_x": null,
            "overflow_y": null,
            "padding": null,
            "right": null,
            "top": null,
            "visibility": null,
            "width": null
          }
        },
        "5a2656131483498493679b89b2012649": {
          "model_module": "@jupyter-widgets/controls",
          "model_name": "DescriptionStyleModel",
          "model_module_version": "1.5.0",
          "state": {
            "_model_module": "@jupyter-widgets/controls",
            "_model_module_version": "1.5.0",
            "_model_name": "DescriptionStyleModel",
            "_view_count": null,
            "_view_module": "@jupyter-widgets/base",
            "_view_module_version": "1.2.0",
            "_view_name": "StyleView",
            "description_width": ""
          }
        },
        "ddcc943e6f6b436985c7b714911eda8b": {
          "model_module": "@jupyter-widgets/base",
          "model_name": "LayoutModel",
          "model_module_version": "1.2.0",
          "state": {
            "_model_module": "@jupyter-widgets/base",
            "_model_module_version": "1.2.0",
            "_model_name": "LayoutModel",
            "_view_count": null,
            "_view_module": "@jupyter-widgets/base",
            "_view_module_version": "1.2.0",
            "_view_name": "LayoutView",
            "align_content": null,
            "align_items": null,
            "align_self": null,
            "border": null,
            "bottom": null,
            "display": null,
            "flex": null,
            "flex_flow": null,
            "grid_area": null,
            "grid_auto_columns": null,
            "grid_auto_flow": null,
            "grid_auto_rows": null,
            "grid_column": null,
            "grid_gap": null,
            "grid_row": null,
            "grid_template_areas": null,
            "grid_template_columns": null,
            "grid_template_rows": null,
            "height": null,
            "justify_content": null,
            "justify_items": null,
            "left": null,
            "margin": null,
            "max_height": null,
            "max_width": null,
            "min_height": null,
            "min_width": null,
            "object_fit": null,
            "object_position": null,
            "order": null,
            "overflow": null,
            "overflow_x": null,
            "overflow_y": null,
            "padding": null,
            "right": null,
            "top": null,
            "visibility": null,
            "width": null
          }
        },
        "7f3e27e35b314c8da571c7997136a4c7": {
          "model_module": "@jupyter-widgets/controls",
          "model_name": "ProgressStyleModel",
          "model_module_version": "1.5.0",
          "state": {
            "_model_module": "@jupyter-widgets/controls",
            "_model_module_version": "1.5.0",
            "_model_name": "ProgressStyleModel",
            "_view_count": null,
            "_view_module": "@jupyter-widgets/base",
            "_view_module_version": "1.2.0",
            "_view_name": "StyleView",
            "bar_color": null,
            "description_width": ""
          }
        },
        "e9e255c1e5aa4b9dbcdc19ae4786e30b": {
          "model_module": "@jupyter-widgets/base",
          "model_name": "LayoutModel",
          "model_module_version": "1.2.0",
          "state": {
            "_model_module": "@jupyter-widgets/base",
            "_model_module_version": "1.2.0",
            "_model_name": "LayoutModel",
            "_view_count": null,
            "_view_module": "@jupyter-widgets/base",
            "_view_module_version": "1.2.0",
            "_view_name": "LayoutView",
            "align_content": null,
            "align_items": null,
            "align_self": null,
            "border": null,
            "bottom": null,
            "display": null,
            "flex": null,
            "flex_flow": null,
            "grid_area": null,
            "grid_auto_columns": null,
            "grid_auto_flow": null,
            "grid_auto_rows": null,
            "grid_column": null,
            "grid_gap": null,
            "grid_row": null,
            "grid_template_areas": null,
            "grid_template_columns": null,
            "grid_template_rows": null,
            "height": null,
            "justify_content": null,
            "justify_items": null,
            "left": null,
            "margin": null,
            "max_height": null,
            "max_width": null,
            "min_height": null,
            "min_width": null,
            "object_fit": null,
            "object_position": null,
            "order": null,
            "overflow": null,
            "overflow_x": null,
            "overflow_y": null,
            "padding": null,
            "right": null,
            "top": null,
            "visibility": null,
            "width": null
          }
        },
        "1a57fadfbda4450db7bab836858c2612": {
          "model_module": "@jupyter-widgets/controls",
          "model_name": "DescriptionStyleModel",
          "model_module_version": "1.5.0",
          "state": {
            "_model_module": "@jupyter-widgets/controls",
            "_model_module_version": "1.5.0",
            "_model_name": "DescriptionStyleModel",
            "_view_count": null,
            "_view_module": "@jupyter-widgets/base",
            "_view_module_version": "1.2.0",
            "_view_name": "StyleView",
            "description_width": ""
          }
        }
      }
    }
  },
  "nbformat": 4,
  "nbformat_minor": 0
}