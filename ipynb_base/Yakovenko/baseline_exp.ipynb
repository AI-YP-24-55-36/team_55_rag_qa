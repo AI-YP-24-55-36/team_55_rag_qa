{
 "cells": [
  {
   "cell_type": "markdown",
   "metadata": {
    "id": "oVRjOFLTlAoX"
   },
   "source": [
    "### импорты"
   ]
  },
  {
   "cell_type": "code",
   "execution_count": 1,
   "metadata": {
    "colab": {
     "base_uri": "https://localhost:8080/"
    },
    "id": "Dy_4QnyIjAMz",
    "outputId": "b8ae2b28-9b65-4026-df7d-e238d63b8ad3"
   },
   "outputs": [],
   "source": [
    "from IPython.display import clear_output\n",
    "import numpy as np\n",
    "import pandas as pd\n",
    "from tqdm import tqdm\n",
    "import re\n",
    "from sklearn.metrics.pairwise import cosine_similarity\n",
    "from sklearn.metrics import precision_score\n",
    "\n",
    "import os\n",
    "import nltk\n",
    "from nltk.tokenize import sent_tokenize\n",
    "#nltk.download('wordnet')\n",
    "#nltk.download('punkt')\n",
    "#nltk.download('stopwords')\n",
    "#nltk.download('averaged_perceptron_tagger')\n",
    "\n",
    "from gensim.models import FastText\n",
    "\n",
    "from qdrant_client import models, QdrantClient\n",
    "from qdrant_client.models import VectorParams, Distance\n",
    "#import warnings\n",
    "#warnings.filterwarnings(\"ignore\")"
   ]
  },
  {
   "cell_type": "markdown",
   "metadata": {
    "id": "yoBsAp-vlJIm"
   },
   "source": [
    "### загрузка датасета"
   ]
  },
  {
   "cell_type": "code",
   "execution_count": 2,
   "metadata": {
    "colab": {
     "base_uri": "https://localhost:8080/"
    },
    "id": "dIg4KwrI0N0u",
    "outputId": "991f50ec-3951-4cdb-8510-08ffd6230d89"
   },
   "outputs": [
    {
     "name": "stdout",
     "output_type": "stream",
     "text": [
      "--2024-11-03 07:07:15--  https://docs.google.com/uc?export=download&id=1dgnwG1AZhspMJaDR6jz828qZkSnZg25t\n",
      "Resolving docs.google.com (docs.google.com)... 108.177.11.139, 108.177.11.138, 108.177.11.101, ...\n",
      "Connecting to docs.google.com (docs.google.com)|108.177.11.139|:443... connected.\n",
      "HTTP request sent, awaiting response... 303 See Other\n",
      "Location: https://drive.usercontent.google.com/download?id=1dgnwG1AZhspMJaDR6jz828qZkSnZg25t&export=download [following]\n",
      "--2024-11-03 07:07:15--  https://drive.usercontent.google.com/download?id=1dgnwG1AZhspMJaDR6jz828qZkSnZg25t&export=download\n",
      "Resolving drive.usercontent.google.com (drive.usercontent.google.com)... 74.125.134.132, 2607:f8b0:400c:c00::84\n",
      "Connecting to drive.usercontent.google.com (drive.usercontent.google.com)|74.125.134.132|:443... connected.\n",
      "HTTP request sent, awaiting response... 200 OK\n",
      "Length: 45451452 (43M) [application/octet-stream]\n",
      "Saving to: ‘full_dataset.csv’\n",
      "\n",
      "full_dataset.csv    100%[===================>]  43.35M  88.4MB/s    in 0.5s    \n",
      "\n",
      "2024-11-03 07:07:20 (88.4 MB/s) - ‘full_dataset.csv’ saved [45451452/45451452]\n",
      "\n"
     ]
    }
   ],
   "source": [
    "# загрузка csv файла из google drive\n",
    "!wget --no-check-certificate 'https://docs.google.com/uc?export=download&id=1dgnwG1AZhspMJaDR6jz828qZkSnZg25t' -O full_dataset.csv"
   ]
  },
  {
   "cell_type": "code",
   "execution_count": 5,
   "metadata": {
    "colab": {
     "base_uri": "https://localhost:8080/",
     "height": 424
    },
    "id": "nWpz5QnU5SHJ",
    "outputId": "04e7c8a0-dbfc-4aaa-df93-aeb7f1d62878"
   },
   "outputs": [
    {
     "data": {
      "text/html": [
       "<div>\n",
       "<style scoped>\n",
       "    .dataframe tbody tr th:only-of-type {\n",
       "        vertical-align: middle;\n",
       "    }\n",
       "\n",
       "    .dataframe tbody tr th {\n",
       "        vertical-align: top;\n",
       "    }\n",
       "\n",
       "    .dataframe thead th {\n",
       "        text-align: right;\n",
       "    }\n",
       "</style>\n",
       "<table border=\"1\" class=\"dataframe\">\n",
       "  <thead>\n",
       "    <tr style=\"text-align: right;\">\n",
       "      <th></th>\n",
       "      <th>context</th>\n",
       "      <th>question</th>\n",
       "      <th>answer</th>\n",
       "    </tr>\n",
       "  </thead>\n",
       "  <tbody>\n",
       "    <tr>\n",
       "      <th>0</th>\n",
       "      <td>Caption: Tasmanian berry grower Nic Hansen sho...</td>\n",
       "      <td>What is the Berry Export Summary 2028 and what...</td>\n",
       "      <td>The Berry Export Summary 2028 is a dedicated e...</td>\n",
       "    </tr>\n",
       "    <tr>\n",
       "      <th>1</th>\n",
       "      <td>RWSN Collaborations\\nSouthern Africa Self-supp...</td>\n",
       "      <td>What are some of the benefits reported from ha...</td>\n",
       "      <td>Benefits reported from having access to Self-s...</td>\n",
       "    </tr>\n",
       "    <tr>\n",
       "      <th>2</th>\n",
       "      <td>All Android applications categories\\nDescripti...</td>\n",
       "      <td>What are the unique features of the Coolands f...</td>\n",
       "      <td>The unique features of the Coolands for Twitte...</td>\n",
       "    </tr>\n",
       "  </tbody>\n",
       "</table>\n",
       "</div>"
      ],
      "text/plain": [
       "                                             context  \\\n",
       "0  Caption: Tasmanian berry grower Nic Hansen sho...   \n",
       "1  RWSN Collaborations\\nSouthern Africa Self-supp...   \n",
       "2  All Android applications categories\\nDescripti...   \n",
       "\n",
       "                                            question  \\\n",
       "0  What is the Berry Export Summary 2028 and what...   \n",
       "1  What are some of the benefits reported from ha...   \n",
       "2  What are the unique features of the Coolands f...   \n",
       "\n",
       "                                              answer  \n",
       "0  The Berry Export Summary 2028 is a dedicated e...  \n",
       "1  Benefits reported from having access to Self-s...  \n",
       "2  The unique features of the Coolands for Twitte...  "
      ]
     },
     "execution_count": 5,
     "metadata": {},
     "output_type": "execute_result"
    }
   ],
   "source": [
    "df = pd.read_csv('full_dataset.csv')\n",
    "df.head(3)"
   ]
  },
  {
   "cell_type": "code",
   "execution_count": 7,
   "metadata": {
    "colab": {
     "base_uri": "https://localhost:8080/"
    },
    "id": "gKxVh8CZrCNO",
    "outputId": "d82113f2-2536-4733-e014-f0da0c981ba2"
   },
   "outputs": [
    {
     "data": {
      "text/plain": [
       "array(['Caption: Tasmanian berry grower Nic Hansen showing Macau chef Antimo Merone around his property as part of export engagement activities.\\nTHE RISE and rise of the Australian strawberry, raspberry and blackberry industries has seen the sectors redouble their international trade focus, with the release of a dedicated export plan to grow their global presence over the next 10 years.\\nDriven by significant grower input, the Berry Export Summary 2028 maps the sectors’ current position, where they want to be, high-opportunity markets and next steps.\\nHort Innovation trade manager Jenny Van de Meeberg said the value and volume of raspberry and blackberry exports rose by 100 per cent between 2016 and 2017. She said the Australian strawberry industry experienced similar success with an almost 30 per cent rise in export volume and a 26 per cent rise in value to $32.6M over the same period.\\n“Australian berry sectors are in a firm position at the moment,” she said. “Production, adoption of protected substrate cropping, improved genetics and an expanding geographic footprint have all helped put Aussie berries on a positive trajectory.\\n“We are seeing a real transition point. Broad industry interest and a strong commercial appetite for export market development combined with the potential to capitalise on existing trade agreements and build new trade partnerships has created this perfect environment for growth.”\\nHigh-income countries across Europe, North America and Northern Asia have been identified as having a palate for Australian grown berries with more than 4244 tonnes of fresh berries exported in the last financial year alone.\\nThe strategy identified the best short-term prospect markets for the Australian blackberry and raspberry industry as Hong Kong, Singapore, The United Arab Emirates and Canada. The strongest short-term trade options identified for the strawberry sector were Thailand, Malaysia, New Zealand and Macau.\\nThe strategy focuses heavily on growing the existing strawberry export market from 4 per cent to at least 8 per cent of national production by volume, in markets with a capacity and willingness to pay a premium for quality fruit. For raspberries and blackberries, the sectors aim to achieve a 5 per cent boost in exports assessed by volume across identified markets by 2021.\\nTasmanian raspberry exporter Nic Hansen said Australia offers some of the sweetest and most attractive berries in the world, and this combined with our stringent food safety standards across all stages of the supply chain puts growers in a solid position.\\n“We have a great product, we are hungry to expand trade and now with this new plan in place, we have a clear roadmap towards driving growth,” Mr Hansen said.\\nHe said it is exciting to see new export market prospects for raspberries: “The more options we have for export the better. Now we just have to get on with the job of ensuring industry has all the tools it needs, such as supporting data and relationship building opportunities, to thrive in new markets.”\\nThis project was commissioned by Hort Innovation, and developed by market analysts and research consultants Auspex Strategic Advisory and AgInfinity. Hort Innovation will work now with berry sectors to determine levy-funded activities to support trade.\\nSee a summary of the strategy on the Hort Innovation website.\\nFor more information on the berry industries, refer to the Horticulture Statistics Handbook and the Strategic Investment Plans for strawberries, raspberries and blackberries. Growers seeking more information should email trade@horticulture.com.au',\n",
       "       'What is the Berry Export Summary 2028 and what is its purpose?',\n",
       "       'The Berry Export Summary 2028 is a dedicated export plan for the Australian strawberry, raspberry, and blackberry industries. It maps the sectors’ current position, where they want to be, high-opportunity markets, and next steps. The purpose of this plan is to grow their global presence over the next 10 years.'],\n",
       "      dtype=object)"
      ]
     },
     "execution_count": 7,
     "metadata": {},
     "output_type": "execute_result"
    }
   ],
   "source": [
    "# вывод одного сэмпла\n",
    "df.values[0]"
   ]
  },
  {
   "cell_type": "code",
   "execution_count": 9,
   "metadata": {
    "colab": {
     "base_uri": "https://localhost:8080/"
    },
    "id": "_mJ5DVhKlps4",
    "outputId": "7f0581a7-1e02-4f47-8611-44a538071192"
   },
   "outputs": [
    {
     "name": "stdout",
     "output_type": "stream",
     "text": [
      "<class 'pandas.core.frame.DataFrame'>\n",
      "RangeIndex: 12000 entries, 0 to 11999\n",
      "Data columns (total 3 columns):\n",
      " #   Column    Non-Null Count  Dtype \n",
      "---  ------    --------------  ----- \n",
      " 0   context   12000 non-null  object\n",
      " 1   question  11997 non-null  object\n",
      " 2   answer    11997 non-null  object\n",
      "dtypes: object(3)\n",
      "memory usage: 281.4+ KB\n"
     ]
    }
   ],
   "source": [
    "df.info()"
   ]
  },
  {
   "cell_type": "code",
   "execution_count": 11,
   "metadata": {
    "id": "YeedNXPGoCol"
   },
   "outputs": [],
   "source": [
    "# удаление строк с пустыми значениями (None) и дубликатов\n",
    "df = df.dropna()\n",
    "df = df.drop_duplicates()\n",
    "df = df.drop_duplicates(subset='question')\n",
    "df.reset_index(drop=True, inplace=True)"
   ]
  },
  {
   "cell_type": "code",
   "execution_count": 13,
   "metadata": {
    "colab": {
     "base_uri": "https://localhost:8080/",
     "height": 424
    },
    "id": "26ADw0GUdsj_",
    "outputId": "93624ec3-7556-434c-d878-2b7a4afcfba8"
   },
   "outputs": [],
   "source": [
    "# удаление/замена на пробел знака перевода строки в колонке 'context'\n",
    "df['context'] = df['context'].apply(lambda x: x.replace('\\n', ' '))"
   ]
  },
  {
   "cell_type": "code",
   "execution_count": 15,
   "metadata": {
    "id": "x4Fh7U2KoDAE"
   },
   "outputs": [],
   "source": [
    "# Зафиксируем список стоп-слов\n",
    "STOPWORDS = set(nltk.corpus.stopwords.words('english') + ['-', '-', '–','&'])\n",
    "# функция, токенизирует по словам переданный ей текст в список слов, возвращает корпус токенов\n",
    "def corpus(text):\n",
    "    words = text.str.split().values.tolist()\n",
    "    corpus = [word.lower() for i in words for word in i]\n",
    "    return corpus"
   ]
  },
  {
   "cell_type": "code",
   "execution_count": 17,
   "metadata": {
    "id": "0rhQOyyxq_AX"
   },
   "outputs": [],
   "source": [
    "# оставляем только слова и цифры\n",
    "def words_only(text):\n",
    "    return \" \".join(re.compile(\"[A-Za-z0-9]+\").findall(text))\n",
    "\n",
    "# удаление слов меньше 2-х букв\n",
    "def remove_word(text):\n",
    "    return \" \".join([token for token in text.split() if len(token) > 2])\n",
    "\n",
    "# удаление стоп слов\n",
    "def remove_stopwords(text, mystopwords = STOPWORDS):\n",
    "    try:\n",
    "        return \" \".join([token for token in text.split() if not token in mystopwords])\n",
    "    except:\n",
    "        return \"\"\n",
    "        \n",
    "# приведение к нормальной форме\n",
    "def lemmatize(text):\n",
    "    lem = nltk.WordNetLemmatizer()\n",
    "    try:\n",
    "        return  \" \".join([lem.lemmatize(w) for w in text.split()])\n",
    "    except:\n",
    "        return \" \"\n",
    "\n",
    "# применение всех препроцессоров\n",
    "def prep(text):\n",
    "    return remove_stopwords(lemmatize(remove_word(words_only(text.lower()))))"
   ]
  },
  {
   "cell_type": "code",
   "execution_count": 19,
   "metadata": {},
   "outputs": [],
   "source": [
    "# разбиение на предложения + препроцессинг\n",
    "def clear_text(text):\n",
    "    sentences = []\n",
    "    for el in sent_tokenize(text):\n",
    "        sentences.append(el)\n",
    "\n",
    "    return [item for sublist in [prep(sentence).split() for sentence in sentences] for item in sublist]"
   ]
  },
  {
   "cell_type": "code",
   "execution_count": 21,
   "metadata": {},
   "outputs": [],
   "source": [
    "# создание эмбедингов\n",
    "def get_emb(tokens, model):\n",
    "    if not tokens:\n",
    "        return np.zeros(model.vector_size)\n",
    "    return np.mean([model.wv[token] for token in tokens if token in model.wv], axis=0)"
   ]
  },
  {
   "cell_type": "code",
   "execution_count": 23,
   "metadata": {
    "id": "AOaMsuXNJFH4"
   },
   "outputs": [],
   "source": [
    "df_clear = df.copy()"
   ]
  },
  {
   "cell_type": "code",
   "execution_count": 25,
   "metadata": {
    "id": "OxcNndAM0AvH"
   },
   "outputs": [],
   "source": [
    "df_clear['context_token'] = df_clear.context.apply(lambda x: clear_text(x))\n",
    "df_clear['question_token'] = df_clear.question.apply(lambda x: clear_text(x))"
   ]
  },
  {
   "cell_type": "code",
   "execution_count": 61,
   "metadata": {},
   "outputs": [],
   "source": [
    "all_text = df_clear['question_token'] + df_clear['context_token']"
   ]
  },
  {
   "cell_type": "code",
   "execution_count": 63,
   "metadata": {},
   "outputs": [],
   "source": [
    "def max_vector(text):\n",
    "    max = 0\n",
    "    for words in text:\n",
    "        tmp = len(words)\n",
    "        if tmp > max:\n",
    "            max = tmp\n",
    "    return max"
   ]
  },
  {
   "cell_type": "code",
   "execution_count": 65,
   "metadata": {},
   "outputs": [
    {
     "data": {
      "text/plain": [
       "1072"
      ]
     },
     "execution_count": 65,
     "metadata": {},
     "output_type": "execute_result"
    }
   ],
   "source": [
    "vector_size = max_vector(all_text)\n",
    "vector_size"
   ]
  },
  {
   "cell_type": "markdown",
   "metadata": {},
   "source": [
    "Получили 1072 максимальная длина вектора, увеличим ее до круглого 1100."
   ]
  },
  {
   "cell_type": "code",
   "execution_count": 67,
   "metadata": {},
   "outputs": [],
   "source": [
    "# ставим количество потоков по число процессора\n",
    "workers = os.cpu_count()"
   ]
  },
  {
   "cell_type": "code",
   "execution_count": 69,
   "metadata": {
    "colab": {
     "base_uri": "https://localhost:8080/"
    },
    "id": "Kt9wpxNawxPw",
    "outputId": "9cb37395-0e79-4007-f3c0-f0ba247b11a5"
   },
   "outputs": [
    {
     "name": "stdout",
     "output_type": "stream",
     "text": [
      "CPU times: total: 1h 8min 13s\n",
      "Wall time: 2min 28s\n"
     ]
    }
   ],
   "source": [
    "# инициализация модели\n",
    "%time  model = FastText(all_text, workers=workers, vector_size=1100, min_count=1, sg = 1, window=10, seed=42)"
   ]
  },
  {
   "cell_type": "code",
   "execution_count": 70,
   "metadata": {},
   "outputs": [],
   "source": [
    "df_clear['context_emb'] = df_clear.context_token.apply(lambda x: get_emb(x, model))\n",
    "df_clear['question_emb'] = df_clear.question_token.apply(lambda x: get_emb(x, model))"
   ]
  },
  {
   "cell_type": "code",
   "execution_count": 71,
   "metadata": {},
   "outputs": [
    {
     "data": {
      "text/plain": [
       "[('precaution', 0.9085862040519714),\n",
       " ('aution', 0.8958996534347534),\n",
       " ('diminution', 0.8340831398963928),\n",
       " ('cautioned', 0.8101760745048523),\n",
       " ('ablution', 0.8084231019020081)]"
      ]
     },
     "execution_count": 71,
     "metadata": {},
     "output_type": "execute_result"
    }
   ],
   "source": [
    "# проверяем работу модели на одно слово\n",
    "model.wv.most_similar(positive=[\"caution\"], topn=5)"
   ]
  },
  {
   "cell_type": "code",
   "execution_count": 75,
   "metadata": {},
   "outputs": [
    {
     "data": {
      "text/html": [
       "<div>\n",
       "<style scoped>\n",
       "    .dataframe tbody tr th:only-of-type {\n",
       "        vertical-align: middle;\n",
       "    }\n",
       "\n",
       "    .dataframe tbody tr th {\n",
       "        vertical-align: top;\n",
       "    }\n",
       "\n",
       "    .dataframe thead th {\n",
       "        text-align: right;\n",
       "    }\n",
       "</style>\n",
       "<table border=\"1\" class=\"dataframe\">\n",
       "  <thead>\n",
       "    <tr style=\"text-align: right;\">\n",
       "      <th></th>\n",
       "      <th>context</th>\n",
       "      <th>question</th>\n",
       "      <th>answer</th>\n",
       "      <th>context_token</th>\n",
       "      <th>question_token</th>\n",
       "      <th>context_emb</th>\n",
       "      <th>question_emb</th>\n",
       "    </tr>\n",
       "  </thead>\n",
       "  <tbody>\n",
       "    <tr>\n",
       "      <th>0</th>\n",
       "      <td>Caption: Tasmanian berry grower Nic Hansen sho...</td>\n",
       "      <td>What is the Berry Export Summary 2028 and what...</td>\n",
       "      <td>The Berry Export Summary 2028 is a dedicated e...</td>\n",
       "      <td>[caption, tasmanian, berry, grower, nic, hanse...</td>\n",
       "      <td>[berry, export, summary, 2028, purpose]</td>\n",
       "      <td>[-0.10235369, -0.1930192, -0.024718583, 0.1287...</td>\n",
       "      <td>[-0.25707194, -0.32706696, -0.02874051, 0.2370...</td>\n",
       "    </tr>\n",
       "    <tr>\n",
       "      <th>1</th>\n",
       "      <td>RWSN Collaborations Southern Africa Self-suppl...</td>\n",
       "      <td>What are some of the benefits reported from ha...</td>\n",
       "      <td>Benefits reported from having access to Self-s...</td>\n",
       "      <td>[rwsn, collaboration, southern, africa, self, ...</td>\n",
       "      <td>[benefit, reported, access, self, supply, wate...</td>\n",
       "      <td>[-0.05442216, -0.11562431, -0.033297185, 0.096...</td>\n",
       "      <td>[-0.021468008, -0.15709007, -0.09668655, 0.145...</td>\n",
       "    </tr>\n",
       "    <tr>\n",
       "      <th>2</th>\n",
       "      <td>All Android applications categories Descriptio...</td>\n",
       "      <td>What are the unique features of the Coolands f...</td>\n",
       "      <td>The unique features of the Coolands for Twitte...</td>\n",
       "      <td>[android, application, category, description, ...</td>\n",
       "      <td>[unique, feature, coolands, twitter, app]</td>\n",
       "      <td>[-0.1050532, -0.17029549, -0.011876792, 0.0955...</td>\n",
       "      <td>[-0.077749975, -0.23713961, 0.013542196, 0.061...</td>\n",
       "    </tr>\n",
       "  </tbody>\n",
       "</table>\n",
       "</div>"
      ],
      "text/plain": [
       "                                             context  \\\n",
       "0  Caption: Tasmanian berry grower Nic Hansen sho...   \n",
       "1  RWSN Collaborations Southern Africa Self-suppl...   \n",
       "2  All Android applications categories Descriptio...   \n",
       "\n",
       "                                            question  \\\n",
       "0  What is the Berry Export Summary 2028 and what...   \n",
       "1  What are some of the benefits reported from ha...   \n",
       "2  What are the unique features of the Coolands f...   \n",
       "\n",
       "                                              answer  \\\n",
       "0  The Berry Export Summary 2028 is a dedicated e...   \n",
       "1  Benefits reported from having access to Self-s...   \n",
       "2  The unique features of the Coolands for Twitte...   \n",
       "\n",
       "                                       context_token  \\\n",
       "0  [caption, tasmanian, berry, grower, nic, hanse...   \n",
       "1  [rwsn, collaboration, southern, africa, self, ...   \n",
       "2  [android, application, category, description, ...   \n",
       "\n",
       "                                      question_token  \\\n",
       "0            [berry, export, summary, 2028, purpose]   \n",
       "1  [benefit, reported, access, self, supply, wate...   \n",
       "2          [unique, feature, coolands, twitter, app]   \n",
       "\n",
       "                                         context_emb  \\\n",
       "0  [-0.10235369, -0.1930192, -0.024718583, 0.1287...   \n",
       "1  [-0.05442216, -0.11562431, -0.033297185, 0.096...   \n",
       "2  [-0.1050532, -0.17029549, -0.011876792, 0.0955...   \n",
       "\n",
       "                                        question_emb  \n",
       "0  [-0.25707194, -0.32706696, -0.02874051, 0.2370...  \n",
       "1  [-0.021468008, -0.15709007, -0.09668655, 0.145...  \n",
       "2  [-0.077749975, -0.23713961, 0.013542196, 0.061...  "
      ]
     },
     "execution_count": 75,
     "metadata": {},
     "output_type": "execute_result"
    }
   ],
   "source": [
    "df_clear.head(3)"
   ]
  },
  {
   "cell_type": "code",
   "execution_count": 77,
   "metadata": {},
   "outputs": [],
   "source": [
    "# функция определения косинусного расстояния между векторами эмбедингов\n",
    "def cos_sim(df, model):\n",
    "    cos_dist = []\n",
    "    for index, row in df.iterrows():\n",
    "        tmp = cosine_similarity(row['context_emb'].reshape(1, -1), row['question_emb'].reshape(1, -1))\n",
    "        cos_dist.append(tmp[0][0])\n",
    "    return cos_dist"
   ]
  },
  {
   "cell_type": "code",
   "execution_count": 79,
   "metadata": {},
   "outputs": [],
   "source": [
    "cos_dist = cos_sim(df_clear, model)\n",
    "df_clear['cos_dist'] = cos_dist"
   ]
  },
  {
   "cell_type": "code",
   "execution_count": 81,
   "metadata": {},
   "outputs": [
    {
     "data": {
      "text/html": [
       "<div>\n",
       "<style scoped>\n",
       "    .dataframe tbody tr th:only-of-type {\n",
       "        vertical-align: middle;\n",
       "    }\n",
       "\n",
       "    .dataframe tbody tr th {\n",
       "        vertical-align: top;\n",
       "    }\n",
       "\n",
       "    .dataframe thead th {\n",
       "        text-align: right;\n",
       "    }\n",
       "</style>\n",
       "<table border=\"1\" class=\"dataframe\">\n",
       "  <thead>\n",
       "    <tr style=\"text-align: right;\">\n",
       "      <th></th>\n",
       "      <th>context</th>\n",
       "      <th>question</th>\n",
       "      <th>answer</th>\n",
       "      <th>context_token</th>\n",
       "      <th>question_token</th>\n",
       "      <th>context_emb</th>\n",
       "      <th>question_emb</th>\n",
       "      <th>cos_dist</th>\n",
       "    </tr>\n",
       "  </thead>\n",
       "  <tbody>\n",
       "    <tr>\n",
       "      <th>0</th>\n",
       "      <td>Caption: Tasmanian berry grower Nic Hansen sho...</td>\n",
       "      <td>What is the Berry Export Summary 2028 and what...</td>\n",
       "      <td>The Berry Export Summary 2028 is a dedicated e...</td>\n",
       "      <td>[caption, tasmanian, berry, grower, nic, hanse...</td>\n",
       "      <td>[berry, export, summary, 2028, purpose]</td>\n",
       "      <td>[-0.10235369, -0.1930192, -0.024718583, 0.1287...</td>\n",
       "      <td>[-0.25707194, -0.32706696, -0.02874051, 0.2370...</td>\n",
       "      <td>0.818019</td>\n",
       "    </tr>\n",
       "    <tr>\n",
       "      <th>1</th>\n",
       "      <td>RWSN Collaborations Southern Africa Self-suppl...</td>\n",
       "      <td>What are some of the benefits reported from ha...</td>\n",
       "      <td>Benefits reported from having access to Self-s...</td>\n",
       "      <td>[rwsn, collaboration, southern, africa, self, ...</td>\n",
       "      <td>[benefit, reported, access, self, supply, wate...</td>\n",
       "      <td>[-0.05442216, -0.11562431, -0.033297185, 0.096...</td>\n",
       "      <td>[-0.021468008, -0.15709007, -0.09668655, 0.145...</td>\n",
       "      <td>0.916283</td>\n",
       "    </tr>\n",
       "    <tr>\n",
       "      <th>2</th>\n",
       "      <td>All Android applications categories Descriptio...</td>\n",
       "      <td>What are the unique features of the Coolands f...</td>\n",
       "      <td>The unique features of the Coolands for Twitte...</td>\n",
       "      <td>[android, application, category, description, ...</td>\n",
       "      <td>[unique, feature, coolands, twitter, app]</td>\n",
       "      <td>[-0.1050532, -0.17029549, -0.011876792, 0.0955...</td>\n",
       "      <td>[-0.077749975, -0.23713961, 0.013542196, 0.061...</td>\n",
       "      <td>0.809640</td>\n",
       "    </tr>\n",
       "  </tbody>\n",
       "</table>\n",
       "</div>"
      ],
      "text/plain": [
       "                                             context  \\\n",
       "0  Caption: Tasmanian berry grower Nic Hansen sho...   \n",
       "1  RWSN Collaborations Southern Africa Self-suppl...   \n",
       "2  All Android applications categories Descriptio...   \n",
       "\n",
       "                                            question  \\\n",
       "0  What is the Berry Export Summary 2028 and what...   \n",
       "1  What are some of the benefits reported from ha...   \n",
       "2  What are the unique features of the Coolands f...   \n",
       "\n",
       "                                              answer  \\\n",
       "0  The Berry Export Summary 2028 is a dedicated e...   \n",
       "1  Benefits reported from having access to Self-s...   \n",
       "2  The unique features of the Coolands for Twitte...   \n",
       "\n",
       "                                       context_token  \\\n",
       "0  [caption, tasmanian, berry, grower, nic, hanse...   \n",
       "1  [rwsn, collaboration, southern, africa, self, ...   \n",
       "2  [android, application, category, description, ...   \n",
       "\n",
       "                                      question_token  \\\n",
       "0            [berry, export, summary, 2028, purpose]   \n",
       "1  [benefit, reported, access, self, supply, wate...   \n",
       "2          [unique, feature, coolands, twitter, app]   \n",
       "\n",
       "                                         context_emb  \\\n",
       "0  [-0.10235369, -0.1930192, -0.024718583, 0.1287...   \n",
       "1  [-0.05442216, -0.11562431, -0.033297185, 0.096...   \n",
       "2  [-0.1050532, -0.17029549, -0.011876792, 0.0955...   \n",
       "\n",
       "                                        question_emb  cos_dist  \n",
       "0  [-0.25707194, -0.32706696, -0.02874051, 0.2370...  0.818019  \n",
       "1  [-0.021468008, -0.15709007, -0.09668655, 0.145...  0.916283  \n",
       "2  [-0.077749975, -0.23713961, 0.013542196, 0.061...  0.809640  "
      ]
     },
     "execution_count": 81,
     "metadata": {},
     "output_type": "execute_result"
    }
   ],
   "source": [
    "df_clear.head(3)"
   ]
  },
  {
   "cell_type": "code",
   "execution_count": 83,
   "metadata": {},
   "outputs": [],
   "source": [
    "# функция поиска схожести вопроса и контекста, ранжирование\n",
    "def search(query, df, model, top_k=3):\n",
    "    query_vec = get_emb(clear_text(query), model)\n",
    "    similarities = cosine_similarity([query_vec], list(df['context_emb']))\n",
    "    top_indices = similarities[0].argsort()[-top_k:][::-1]\n",
    "    return df.iloc[top_indices][['context_emb']]"
   ]
  },
  {
   "cell_type": "code",
   "execution_count": 87,
   "metadata": {},
   "outputs": [
    {
     "name": "stderr",
     "output_type": "stream",
     "text": [
      "11983it [09:33, 20.89it/s]\n"
     ]
    }
   ],
   "source": [
    "top_index = []\n",
    "\n",
    "for index, row in tqdm(df_clear.iterrows()):\n",
    "    results_cos = search(row['question'], df_clear, model, top_k=1)\n",
    "    top_index.append(results_cos.index[0])\n",
    "\n",
    "df_clear['top_index'] = top_index\n",
    "df_clear['cos'] = (df_clear['top_index'] == df_clear.index).astype(int)"
   ]
  },
  {
   "cell_type": "markdown",
   "metadata": {},
   "source": [
    "#### По всему датасету отработала за 9 минут 30 секунд"
   ]
  },
  {
   "cell_type": "code",
   "execution_count": 91,
   "metadata": {},
   "outputs": [
    {
     "data": {
      "text/html": [
       "<div>\n",
       "<style scoped>\n",
       "    .dataframe tbody tr th:only-of-type {\n",
       "        vertical-align: middle;\n",
       "    }\n",
       "\n",
       "    .dataframe tbody tr th {\n",
       "        vertical-align: top;\n",
       "    }\n",
       "\n",
       "    .dataframe thead th {\n",
       "        text-align: right;\n",
       "    }\n",
       "</style>\n",
       "<table border=\"1\" class=\"dataframe\">\n",
       "  <thead>\n",
       "    <tr style=\"text-align: right;\">\n",
       "      <th></th>\n",
       "      <th>context</th>\n",
       "      <th>question</th>\n",
       "      <th>answer</th>\n",
       "      <th>context_token</th>\n",
       "      <th>question_token</th>\n",
       "      <th>context_emb</th>\n",
       "      <th>question_emb</th>\n",
       "      <th>cos_dist</th>\n",
       "      <th>top_index</th>\n",
       "      <th>cos</th>\n",
       "    </tr>\n",
       "  </thead>\n",
       "  <tbody>\n",
       "    <tr>\n",
       "      <th>0</th>\n",
       "      <td>Caption: Tasmanian berry grower Nic Hansen sho...</td>\n",
       "      <td>What is the Berry Export Summary 2028 and what...</td>\n",
       "      <td>The Berry Export Summary 2028 is a dedicated e...</td>\n",
       "      <td>[caption, tasmanian, berry, grower, nic, hanse...</td>\n",
       "      <td>[berry, export, summary, 2028, purpose]</td>\n",
       "      <td>[-0.10235369, -0.1930192, -0.024718583, 0.1287...</td>\n",
       "      <td>[-0.25707194, -0.32706696, -0.02874051, 0.2370...</td>\n",
       "      <td>0.818019</td>\n",
       "      <td>0</td>\n",
       "      <td>1</td>\n",
       "    </tr>\n",
       "    <tr>\n",
       "      <th>1</th>\n",
       "      <td>RWSN Collaborations Southern Africa Self-suppl...</td>\n",
       "      <td>What are some of the benefits reported from ha...</td>\n",
       "      <td>Benefits reported from having access to Self-s...</td>\n",
       "      <td>[rwsn, collaboration, southern, africa, self, ...</td>\n",
       "      <td>[benefit, reported, access, self, supply, wate...</td>\n",
       "      <td>[-0.05442216, -0.11562431, -0.033297185, 0.096...</td>\n",
       "      <td>[-0.021468008, -0.15709007, -0.09668655, 0.145...</td>\n",
       "      <td>0.916283</td>\n",
       "      <td>1</td>\n",
       "      <td>1</td>\n",
       "    </tr>\n",
       "    <tr>\n",
       "      <th>2</th>\n",
       "      <td>All Android applications categories Descriptio...</td>\n",
       "      <td>What are the unique features of the Coolands f...</td>\n",
       "      <td>The unique features of the Coolands for Twitte...</td>\n",
       "      <td>[android, application, category, description, ...</td>\n",
       "      <td>[unique, feature, coolands, twitter, app]</td>\n",
       "      <td>[-0.1050532, -0.17029549, -0.011876792, 0.0955...</td>\n",
       "      <td>[-0.077749975, -0.23713961, 0.013542196, 0.061...</td>\n",
       "      <td>0.809640</td>\n",
       "      <td>303</td>\n",
       "      <td>0</td>\n",
       "    </tr>\n",
       "  </tbody>\n",
       "</table>\n",
       "</div>"
      ],
      "text/plain": [
       "                                             context  \\\n",
       "0  Caption: Tasmanian berry grower Nic Hansen sho...   \n",
       "1  RWSN Collaborations Southern Africa Self-suppl...   \n",
       "2  All Android applications categories Descriptio...   \n",
       "\n",
       "                                            question  \\\n",
       "0  What is the Berry Export Summary 2028 and what...   \n",
       "1  What are some of the benefits reported from ha...   \n",
       "2  What are the unique features of the Coolands f...   \n",
       "\n",
       "                                              answer  \\\n",
       "0  The Berry Export Summary 2028 is a dedicated e...   \n",
       "1  Benefits reported from having access to Self-s...   \n",
       "2  The unique features of the Coolands for Twitte...   \n",
       "\n",
       "                                       context_token  \\\n",
       "0  [caption, tasmanian, berry, grower, nic, hanse...   \n",
       "1  [rwsn, collaboration, southern, africa, self, ...   \n",
       "2  [android, application, category, description, ...   \n",
       "\n",
       "                                      question_token  \\\n",
       "0            [berry, export, summary, 2028, purpose]   \n",
       "1  [benefit, reported, access, self, supply, wate...   \n",
       "2          [unique, feature, coolands, twitter, app]   \n",
       "\n",
       "                                         context_emb  \\\n",
       "0  [-0.10235369, -0.1930192, -0.024718583, 0.1287...   \n",
       "1  [-0.05442216, -0.11562431, -0.033297185, 0.096...   \n",
       "2  [-0.1050532, -0.17029549, -0.011876792, 0.0955...   \n",
       "\n",
       "                                        question_emb  cos_dist  top_index  cos  \n",
       "0  [-0.25707194, -0.32706696, -0.02874051, 0.2370...  0.818019          0    1  \n",
       "1  [-0.021468008, -0.15709007, -0.09668655, 0.145...  0.916283          1    1  \n",
       "2  [-0.077749975, -0.23713961, 0.013542196, 0.061...  0.809640        303    0  "
      ]
     },
     "execution_count": 91,
     "metadata": {},
     "output_type": "execute_result"
    }
   ],
   "source": [
    "df_clear.head(3)"
   ]
  },
  {
   "cell_type": "code",
   "execution_count": 93,
   "metadata": {},
   "outputs": [
    {
     "data": {
      "text/plain": [
       "cos\n",
       "0    0.633648\n",
       "1    0.366352\n",
       "Name: proportion, dtype: float64"
      ]
     },
     "execution_count": 93,
     "metadata": {},
     "output_type": "execute_result"
    }
   ],
   "source": [
    "df_clear['cos'].value_counts(normalize = True)"
   ]
  },
  {
   "cell_type": "code",
   "execution_count": 95,
   "metadata": {},
   "outputs": [
    {
     "name": "stdout",
     "output_type": "stream",
     "text": [
      "0.3663523324710006\n"
     ]
    }
   ],
   "source": [
    "precision_cos = precision_score(df_clear.index, df_clear.top_index, average='micro')\n",
    "\n",
    "print(precision_cos)"
   ]
  },
  {
   "cell_type": "markdown",
   "metadata": {},
   "source": [
    "#### Получили точность в 37%"
   ]
  },
  {
   "cell_type": "code",
   "execution_count": 99,
   "metadata": {},
   "outputs": [],
   "source": [
    "# подключение к векторной базе данных\n",
    "qdrant = QdrantClient(url = \"http://localhost:6333\")"
   ]
  },
  {
   "cell_type": "code",
   "execution_count": 101,
   "metadata": {},
   "outputs": [],
   "source": [
    "# создание коллекции\n",
    "def create_collection(name, vec_size):\n",
    "    qdrant.create_collection(\n",
    "        collection_name=name,\n",
    "        vectors_config=models.VectorParams(\n",
    "            size=vec_size,\n",
    "            distance=models.Distance.COSINE,\n",
    "        ),\n",
    "    )"
   ]
  },
  {
   "cell_type": "code",
   "execution_count": 103,
   "metadata": {},
   "outputs": [],
   "source": [
    "# загрузка данных в коллекцию\n",
    "def upload_batch(collection_name, points):\n",
    "    qdrant.upload_points(\n",
    "        collection_name=collection_name,\n",
    "        points=points\n",
    "    )"
   ]
  },
  {
   "cell_type": "code",
   "execution_count": 105,
   "metadata": {},
   "outputs": [],
   "source": [
    "df_clear['id'] = df_clear.index"
   ]
  },
  {
   "cell_type": "code",
   "execution_count": 107,
   "metadata": {},
   "outputs": [],
   "source": [
    "create_collection('rag', 1100)"
   ]
  },
  {
   "cell_type": "code",
   "execution_count": 109,
   "metadata": {},
   "outputs": [
    {
     "name": "stderr",
     "output_type": "stream",
     "text": [
      "11983it [00:07, 1502.87it/s]\n"
     ]
    }
   ],
   "source": [
    "# создание списка для передачи на загрузку\n",
    "points = []\n",
    "for row in tqdm(df_clear.iterrows()):\n",
    "    vector = row[1][\"context_emb\"]\n",
    "    payload = {\"context\":row[1][\"context\"]}\n",
    "    points.append(models.PointStruct(id=row[1]['id'], vector=vector, payload=payload))"
   ]
  },
  {
   "cell_type": "code",
   "execution_count": 111,
   "metadata": {},
   "outputs": [
    {
     "name": "stdout",
     "output_type": "stream",
     "text": [
      "CPU times: total: 3.11 s\n",
      "Wall time: 8.04 s\n"
     ]
    }
   ],
   "source": [
    "%time upload_batch('rag', points)"
   ]
  },
  {
   "cell_type": "code",
   "execution_count": 113,
   "metadata": {},
   "outputs": [
    {
     "data": {
      "text/plain": [
       "CountResult(count=11983)"
      ]
     },
     "execution_count": 113,
     "metadata": {},
     "output_type": "execute_result"
    }
   ],
   "source": [
    "qdrant.count(\n",
    "    collection_name=\"rag\",\n",
    "    exact=True,\n",
    ")"
   ]
  },
  {
   "cell_type": "code",
   "execution_count": 115,
   "metadata": {},
   "outputs": [
    {
     "name": "stdout",
     "output_type": "stream",
     "text": [
      "What changes were noticed in the family's house after Selina's intervention?\n",
      "{'context': 'Hi Selina, “I feel so fortunate to have met you Selina. Thank you so much for your gift that you share to help others in need. The property that’s been in the family for five generations, and the forty-something year old house that currently stands on it, truly needed your healing and cleansing. After the cleansing, my whole family noticed the difference when they walked in the house. My daughter who was most affected by the spiritual activity said, without hesitation, that it “felt empty” – meaning no more spirits in the house. My parents were also very pleased and my father even began to speak of some tragedies which happened over the years I’d never heard of. We are all feeling blessed that you could bring our family and the spirits peace, and the property to a content state of being. My daughter is no longer afraid to be in the house by herself and our pets are no longer restless and afraid. Blessings to you and thank you so much for helping our family. – Love Charlene (Halifax)” Thank you again, Selina. God Bless, Charlene Johnson Halifax, Nova Scotia  lost spirits are bothering her at her home. She is developing in spirtualy awareness and is learning to open up only if she chooses to with Archangle Michael as her protector. I would love to possible set up a private session sometime with you to help guide her on her journey. As you know there is alot of love and light but also alot of darkness. God bless you Selina” – Rachel, Nova Scotia, Canada  love to do again. My youngest daughter is a teenager again and I believe my oldest daughter has opened her heart again. My husband has had the most change around him. His anger seems to be gone. His face is not so mean and filled with hatred. We can actually talk again. You are an angel to me, Selina. Thank you for coming.” – Love Anita !” “Selina’s services are an essential part of our yearly, and when necessary, bi annual business strategy. I would highly recommend her to anyone for personal or business clearings.”'} score:\n",
      "777\n",
      "0.8873191\n"
     ]
    }
   ],
   "source": [
    "# получение контекста от вопроса\n",
    "query_string = df.question[777]\n",
    "\n",
    "hits = qdrant.search(\n",
    "    collection_name=\"rag\",\n",
    "    query_vector = get_emb(clear_text(query_string), model),\n",
    "    limit=1,\n",
    ")\n",
    "\n",
    "print(query_string)\n",
    "for hit in hits:\n",
    "    print(hit.payload, \"score:\")\n",
    "    print(hit.id)\n",
    "    print(hit.score)"
   ]
  },
  {
   "cell_type": "code",
   "execution_count": 117,
   "metadata": {},
   "outputs": [
    {
     "name": "stderr",
     "output_type": "stream",
     "text": [
      "11983it [03:39, 54.51it/s]\n"
     ]
    }
   ],
   "source": [
    "top_index = []\n",
    "for index, row in tqdm(df_clear.iterrows()):\n",
    "    query_string = row['question']\n",
    "    hits = qdrant.search(\n",
    "    collection_name = \"rag\",\n",
    "    query_vector = get_emb(clear_text(query_string), model),\n",
    "    limit = 1,\n",
    "    )\n",
    "    top_index.append(hits[0].id)"
   ]
  },
  {
   "cell_type": "markdown",
   "metadata": {},
   "source": [
    "#### как видим используя векторную базу данных мы увеличили скорость обработки практически в 2.5 раза."
   ]
  },
  {
   "cell_type": "code",
   "execution_count": 121,
   "metadata": {},
   "outputs": [],
   "source": [
    "df_clear['top_index_qd'] = top_index\n",
    "df_clear['eval_qd'] = (df_clear['top_index_qd'] == df_clear.id).astype(int)"
   ]
  },
  {
   "cell_type": "code",
   "execution_count": 123,
   "metadata": {},
   "outputs": [
    {
     "data": {
      "text/plain": [
       "eval_qd\n",
       "0    0.633648\n",
       "1    0.366352\n",
       "Name: proportion, dtype: float64"
      ]
     },
     "execution_count": 123,
     "metadata": {},
     "output_type": "execute_result"
    }
   ],
   "source": [
    "df_clear['eval_qd'].value_counts(normalize = True)"
   ]
  },
  {
   "cell_type": "markdown",
   "metadata": {},
   "source": []
  }
 ],
 "metadata": {
  "colab": {
   "provenance": [],
   "toc_visible": true
  },
  "kernelspec": {
   "display_name": "Python 3 (ipykernel)",
   "language": "python",
   "name": "python3"
  },
  "language_info": {
   "codemirror_mode": {
    "name": "ipython",
    "version": 3
   },
   "file_extension": ".py",
   "mimetype": "text/x-python",
   "name": "python",
   "nbconvert_exporter": "python",
   "pygments_lexer": "ipython3",
   "version": "3.12.7"
  }
 },
 "nbformat": 4,
 "nbformat_minor": 4
}
