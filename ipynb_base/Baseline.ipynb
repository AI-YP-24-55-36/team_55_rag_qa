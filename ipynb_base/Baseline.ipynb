{
 "cells": [
  {
   "cell_type": "markdown",
   "metadata": {
    "id": "Je30l8GNk4t6"
   },
   "source": [
    "# Построение вопросно-ответной системы с использованием RAG"
   ]
  },
  {
   "cell_type": "markdown",
   "metadata": {
    "id": "o59n_lEVD82X"
   },
   "source": [
    "В этом ноутбуке продемонстрирована базовая модель на основе БД Qdrant, с кодированием tf-idf"
   ]
  },
  {
   "cell_type": "markdown",
   "metadata": {
    "id": "oVRjOFLTlAoX"
   },
   "source": [
    "### импорты"
   ]
  },
  {
   "cell_type": "code",
   "execution_count": 32,
   "metadata": {
    "id": "Dy_4QnyIjAMz"
   },
   "outputs": [],
   "source": [
    "from IPython.display import clear_output\n",
    "import numpy as np\n",
    "import pandas as pd\n",
    "from tqdm import tqdm\n",
    "import random\n",
    "import string\n",
    "import nltk\n",
    "from nltk.tokenize import word_tokenize\n",
    "\n",
    "from qdrant_client import QdrantClient, models\n",
    "from sklearn.feature_extraction.text import TfidfVectorizer\n",
    "from sklearn.model_selection import train_test_split"
   ]
  },
  {
   "cell_type": "code",
   "execution_count": 4,
   "metadata": {},
   "outputs": [],
   "source": [
    "# фиксируем seed\n",
    "random.seed(42)\n",
    "np.random.seed(42)"
   ]
  },
  {
   "cell_type": "markdown",
   "metadata": {
    "id": "yoBsAp-vlJIm"
   },
   "source": [
    "### загрузка датасета"
   ]
  },
  {
   "cell_type": "code",
   "execution_count": 14,
   "metadata": {
    "colab": {
     "base_uri": "https://localhost:8080/"
    },
    "id": "dIg4KwrI0N0u",
    "outputId": "a1c923b0-4c23-4075-af71-1ee172128c0b"
   },
   "outputs": [],
   "source": [
    "# # загрузка csv файла из google drive\n",
    "#!wget --no-check-certificate 'https://docs.google.com/uc?export=download&id=1dgnwG1AZhspMJaDR6jz828qZkSnZg25t' -O full_dataset.csv"
   ]
  },
  {
   "cell_type": "code",
   "execution_count": 20,
   "metadata": {
    "colab": {
     "base_uri": "https://localhost:8080/",
     "height": 424
    },
    "id": "nWpz5QnU5SHJ",
    "outputId": "d9371e77-546d-457f-cef5-ff8decf82d74"
   },
   "outputs": [
    {
     "data": {
      "text/html": [
       "<div>\n",
       "<style scoped>\n",
       "    .dataframe tbody tr th:only-of-type {\n",
       "        vertical-align: middle;\n",
       "    }\n",
       "\n",
       "    .dataframe tbody tr th {\n",
       "        vertical-align: top;\n",
       "    }\n",
       "\n",
       "    .dataframe thead th {\n",
       "        text-align: right;\n",
       "    }\n",
       "</style>\n",
       "<table border=\"1\" class=\"dataframe\">\n",
       "  <thead>\n",
       "    <tr style=\"text-align: right;\">\n",
       "      <th></th>\n",
       "      <th>context</th>\n",
       "      <th>question</th>\n",
       "      <th>answer</th>\n",
       "    </tr>\n",
       "  </thead>\n",
       "  <tbody>\n",
       "    <tr>\n",
       "      <th>0</th>\n",
       "      <td>Caption: Tasmanian berry grower Nic Hansen sho...</td>\n",
       "      <td>What is the Berry Export Summary 2028 and what...</td>\n",
       "      <td>The Berry Export Summary 2028 is a dedicated e...</td>\n",
       "    </tr>\n",
       "    <tr>\n",
       "      <th>1</th>\n",
       "      <td>RWSN Collaborations\\nSouthern Africa Self-supp...</td>\n",
       "      <td>What are some of the benefits reported from ha...</td>\n",
       "      <td>Benefits reported from having access to Self-s...</td>\n",
       "    </tr>\n",
       "    <tr>\n",
       "      <th>2</th>\n",
       "      <td>All Android applications categories\\nDescripti...</td>\n",
       "      <td>What are the unique features of the Coolands f...</td>\n",
       "      <td>The unique features of the Coolands for Twitte...</td>\n",
       "    </tr>\n",
       "    <tr>\n",
       "      <th>3</th>\n",
       "      <td>How unequal is India? The question is simple, ...</td>\n",
       "      <td>What is the main difference between the Nation...</td>\n",
       "      <td>The main difference between the NSS and the IH...</td>\n",
       "    </tr>\n",
       "    <tr>\n",
       "      <th>4</th>\n",
       "      <td>Gunnar Nelson took his time on the feet agains...</td>\n",
       "      <td>How did Gunnar Nelson win the fight against Za...</td>\n",
       "      <td>Gunnar Nelson won the fight against Zak Cummin...</td>\n",
       "    </tr>\n",
       "    <tr>\n",
       "      <th>...</th>\n",
       "      <td>...</td>\n",
       "      <td>...</td>\n",
       "      <td>...</td>\n",
       "    </tr>\n",
       "    <tr>\n",
       "      <th>11995</th>\n",
       "      <td>Fuzzy's Ultra Premium Vodka\\nThe Myth, The Man...</td>\n",
       "      <td>What are some of the achievements of Fuzzy Zoe...</td>\n",
       "      <td>Fuzzy Zoeller is known for his golfing success...</td>\n",
       "    </tr>\n",
       "    <tr>\n",
       "      <th>11996</th>\n",
       "      <td>Swedish Grand Prix rider Malin Nilsson got mar...</td>\n",
       "      <td>Who did Malin Nilsson marry on 2 June 2018?</td>\n",
       "      <td>Malin Nilsson got married to her partner, Germ...</td>\n",
       "    </tr>\n",
       "    <tr>\n",
       "      <th>11997</th>\n",
       "      <td>The Cracchiolo Law Library of the James E. Rog...</td>\n",
       "      <td>What is the Fellowship in Law Librarianship of...</td>\n",
       "      <td>The Fellowship in Law Librarianship is a progr...</td>\n",
       "    </tr>\n",
       "    <tr>\n",
       "      <th>11998</th>\n",
       "      <td>2nd physical eMAG store opens in Mammut\\nOnlin...</td>\n",
       "      <td>Where has the second physical eMAG store been ...</td>\n",
       "      <td>The second physical eMAG store has been opened...</td>\n",
       "    </tr>\n",
       "    <tr>\n",
       "      <th>11999</th>\n",
       "      <td>About This Cadillac\\n2019 Cadillac XT5\\nFWD 4d...</td>\n",
       "      <td>What are some of the key features of the 2019 ...</td>\n",
       "      <td>The 2019 Cadillac XT5 comes equipped with feat...</td>\n",
       "    </tr>\n",
       "  </tbody>\n",
       "</table>\n",
       "<p>12000 rows × 3 columns</p>\n",
       "</div>"
      ],
      "text/plain": [
       "                                                 context  \\\n",
       "0      Caption: Tasmanian berry grower Nic Hansen sho...   \n",
       "1      RWSN Collaborations\\nSouthern Africa Self-supp...   \n",
       "2      All Android applications categories\\nDescripti...   \n",
       "3      How unequal is India? The question is simple, ...   \n",
       "4      Gunnar Nelson took his time on the feet agains...   \n",
       "...                                                  ...   \n",
       "11995  Fuzzy's Ultra Premium Vodka\\nThe Myth, The Man...   \n",
       "11996  Swedish Grand Prix rider Malin Nilsson got mar...   \n",
       "11997  The Cracchiolo Law Library of the James E. Rog...   \n",
       "11998  2nd physical eMAG store opens in Mammut\\nOnlin...   \n",
       "11999  About This Cadillac\\n2019 Cadillac XT5\\nFWD 4d...   \n",
       "\n",
       "                                                question  \\\n",
       "0      What is the Berry Export Summary 2028 and what...   \n",
       "1      What are some of the benefits reported from ha...   \n",
       "2      What are the unique features of the Coolands f...   \n",
       "3      What is the main difference between the Nation...   \n",
       "4      How did Gunnar Nelson win the fight against Za...   \n",
       "...                                                  ...   \n",
       "11995  What are some of the achievements of Fuzzy Zoe...   \n",
       "11996        Who did Malin Nilsson marry on 2 June 2018?   \n",
       "11997  What is the Fellowship in Law Librarianship of...   \n",
       "11998  Where has the second physical eMAG store been ...   \n",
       "11999  What are some of the key features of the 2019 ...   \n",
       "\n",
       "                                                  answer  \n",
       "0      The Berry Export Summary 2028 is a dedicated e...  \n",
       "1      Benefits reported from having access to Self-s...  \n",
       "2      The unique features of the Coolands for Twitte...  \n",
       "3      The main difference between the NSS and the IH...  \n",
       "4      Gunnar Nelson won the fight against Zak Cummin...  \n",
       "...                                                  ...  \n",
       "11995  Fuzzy Zoeller is known for his golfing success...  \n",
       "11996  Malin Nilsson got married to her partner, Germ...  \n",
       "11997  The Fellowship in Law Librarianship is a progr...  \n",
       "11998  The second physical eMAG store has been opened...  \n",
       "11999  The 2019 Cadillac XT5 comes equipped with feat...  \n",
       "\n",
       "[12000 rows x 3 columns]"
      ]
     },
     "execution_count": 20,
     "metadata": {},
     "output_type": "execute_result"
    }
   ],
   "source": [
    "rag_dataset = pd.read_csv('full_dataset.csv')\n",
    "rag_dataset"
   ]
  },
  {
   "cell_type": "code",
   "execution_count": 22,
   "metadata": {
    "colab": {
     "base_uri": "https://localhost:8080/"
    },
    "id": "gKxVh8CZrCNO",
    "outputId": "068ea046-931e-4ffd-9f58-1b04668549e7"
   },
   "outputs": [
    {
     "data": {
      "text/plain": [
       "array(['Caption: Tasmanian berry grower Nic Hansen showing Macau chef Antimo Merone around his property as part of export engagement activities.\\nTHE RISE and rise of the Australian strawberry, raspberry and blackberry industries has seen the sectors redouble their international trade focus, with the release of a dedicated export plan to grow their global presence over the next 10 years.\\nDriven by significant grower input, the Berry Export Summary 2028 maps the sectors’ current position, where they want to be, high-opportunity markets and next steps.\\nHort Innovation trade manager Jenny Van de Meeberg said the value and volume of raspberry and blackberry exports rose by 100 per cent between 2016 and 2017. She said the Australian strawberry industry experienced similar success with an almost 30 per cent rise in export volume and a 26 per cent rise in value to $32.6M over the same period.\\n“Australian berry sectors are in a firm position at the moment,” she said. “Production, adoption of protected substrate cropping, improved genetics and an expanding geographic footprint have all helped put Aussie berries on a positive trajectory.\\n“We are seeing a real transition point. Broad industry interest and a strong commercial appetite for export market development combined with the potential to capitalise on existing trade agreements and build new trade partnerships has created this perfect environment for growth.”\\nHigh-income countries across Europe, North America and Northern Asia have been identified as having a palate for Australian grown berries with more than 4244 tonnes of fresh berries exported in the last financial year alone.\\nThe strategy identified the best short-term prospect markets for the Australian blackberry and raspberry industry as Hong Kong, Singapore, The United Arab Emirates and Canada. The strongest short-term trade options identified for the strawberry sector were Thailand, Malaysia, New Zealand and Macau.\\nThe strategy focuses heavily on growing the existing strawberry export market from 4 per cent to at least 8 per cent of national production by volume, in markets with a capacity and willingness to pay a premium for quality fruit. For raspberries and blackberries, the sectors aim to achieve a 5 per cent boost in exports assessed by volume across identified markets by 2021.\\nTasmanian raspberry exporter Nic Hansen said Australia offers some of the sweetest and most attractive berries in the world, and this combined with our stringent food safety standards across all stages of the supply chain puts growers in a solid position.\\n“We have a great product, we are hungry to expand trade and now with this new plan in place, we have a clear roadmap towards driving growth,” Mr Hansen said.\\nHe said it is exciting to see new export market prospects for raspberries: “The more options we have for export the better. Now we just have to get on with the job of ensuring industry has all the tools it needs, such as supporting data and relationship building opportunities, to thrive in new markets.”\\nThis project was commissioned by Hort Innovation, and developed by market analysts and research consultants Auspex Strategic Advisory and AgInfinity. Hort Innovation will work now with berry sectors to determine levy-funded activities to support trade.\\nSee a summary of the strategy on the Hort Innovation website.\\nFor more information on the berry industries, refer to the Horticulture Statistics Handbook and the Strategic Investment Plans for strawberries, raspberries and blackberries. Growers seeking more information should email trade@horticulture.com.au',\n",
       "       'What is the Berry Export Summary 2028 and what is its purpose?',\n",
       "       'The Berry Export Summary 2028 is a dedicated export plan for the Australian strawberry, raspberry, and blackberry industries. It maps the sectors’ current position, where they want to be, high-opportunity markets, and next steps. The purpose of this plan is to grow their global presence over the next 10 years.'],\n",
       "      dtype=object)"
      ]
     },
     "execution_count": 22,
     "metadata": {},
     "output_type": "execute_result"
    }
   ],
   "source": [
    "# вывод одного сэмпла\n",
    "rag_dataset.values[0]"
   ]
  },
  {
   "cell_type": "markdown",
   "metadata": {
    "id": "Jk4KWddmQyxm"
   },
   "source": [
    "Видны посторонние символы, такие как перевод строки \\n"
   ]
  },
  {
   "cell_type": "markdown",
   "metadata": {
    "id": "3DVpCnCYmgw_"
   },
   "source": [
    "Имеется 3 колонки и 12000 строк"
   ]
  },
  {
   "cell_type": "code",
   "execution_count": 24,
   "metadata": {
    "id": "GnF8bw_Jr78f"
   },
   "outputs": [],
   "source": [
    "# Предобработка текстов\n",
    "df = rag_dataset.copy()\n",
    "\n",
    "# удаление строк с пустыми значениями (None)\n",
    "df = df.dropna()\n",
    "\n",
    "# приведем к нижнему регистру тексты во всех колонках\n",
    "df['context'] = df['context'].apply(lambda x: x.lower())\n",
    "df['question'] = df['question'].apply(lambda x: x.lower())\n",
    "df['answer'] = df['answer'].apply(lambda x: x.lower())\n",
    "\n",
    "# удаление/замена на пробел знака перевода строки в колонке 'context'\n",
    "df['context'] = df['context'].apply(lambda x: x.replace('\\n', ' '))\n",
    "# удаление найденных дубликатов по 'question'\n",
    "df.duplicated(subset=['question'], keep=False)\n",
    "df.drop_duplicates(subset = ['question'], keep = 'first', inplace = True)\n",
    "\n",
    "# удаление двух строк на другом языке\n",
    "df.drop(index=[7453, 10225], inplace=True)\n",
    "df.reset_index(drop=True, inplace=True) # обновление индексов"
   ]
  },
  {
   "cell_type": "code",
   "execution_count": 30,
   "metadata": {},
   "outputs": [],
   "source": [
    "stop_words = set(nltk.corpus.stopwords.words('english') + ['-', '-', '–','&'])\n",
    "punctuation = set(string.punctuation)\n",
    "df['context'] = df['context'].apply(lambda x: ' '.join([word for word in x.split() if word not in (stop_words) and word not in punctuation]))"
   ]
  },
  {
   "cell_type": "markdown",
   "metadata": {
    "id": "nuLWFfDaAiX0"
   },
   "source": [
    "\n",
    "\n",
    "## QDRANT Baseline"
   ]
  },
  {
   "cell_type": "code",
   "execution_count": 34,
   "metadata": {},
   "outputs": [],
   "source": [
    "train_df, test_df = train_test_split(df, test_size=0.2, random_state=42)\n",
    "train_df = train_df.reset_index(drop=True)\n",
    "test_df = test_df.reset_index(drop=True)"
   ]
  },
  {
   "cell_type": "code",
   "execution_count": 36,
   "metadata": {
    "id": "ALstfOxRxSon"
   },
   "outputs": [],
   "source": [
    "# инициализация энкодера\n",
    "tfidf_vectorizer_train = TfidfVectorizer(stop_words='english', ngram_range=(1, 2), max_df=0.85, sublinear_tf=True)"
   ]
  },
  {
   "cell_type": "code",
   "execution_count": 42,
   "metadata": {},
   "outputs": [
    {
     "name": "stdout",
     "output_type": "stream",
     "text": [
      "CPU times: total: 11.2 s\n",
      "Wall time: 11.3 s\n"
     ]
    }
   ],
   "source": [
    "%%time\n",
    "tfidf_vectorizer_train.fit(train_df[\"context\"])\n",
    "context_test = tfidf_vectorizer_train.transform(test_df['context'])\n",
    "context_all = tfidf_vectorizer_train.transform(df['context'])"
   ]
  },
  {
   "cell_type": "code",
   "execution_count": 46,
   "metadata": {
    "id": "L1kszRK-xc36"
   },
   "outputs": [],
   "source": [
    "# подключение к векторной базе данных\n",
    "client = QdrantClient(url=\"http://localhost:6333\", timeout=100000)"
   ]
  },
  {
   "cell_type": "code",
   "execution_count": 48,
   "metadata": {
    "colab": {
     "base_uri": "https://localhost:8080/",
     "height": 563
    },
    "id": "l4Tu4PRUxg3C",
    "outputId": "93fd28b8-ebda-47a8-c516-c7c3041995f2"
   },
   "outputs": [
    {
     "data": {
      "text/plain": [
       "True"
      ]
     },
     "execution_count": 48,
     "metadata": {},
     "output_type": "execute_result"
    }
   ],
   "source": [
    "# создание коллекции\n",
    "client.create_collection(\n",
    "    collection_name='sparse-coll',\n",
    "    vectors_config={},\n",
    "    sparse_vectors_config={\n",
    "        \"text\": models.SparseVectorParams(\n",
    "            index=models.SparseIndexParams(\n",
    "                on_disk=False,\n",
    "            )\n",
    "        )\n",
    "    },\n",
    ")"
   ]
  },
  {
   "cell_type": "code",
   "execution_count": 60,
   "metadata": {},
   "outputs": [],
   "source": [
    "# создание списка для передачи на загрузку\n",
    "points = []\n",
    "for i in range(context_test.shape[0]):\n",
    "    indices = context_test[i].indices.tolist()\n",
    "    data = context_test[i].data.tolist()\n",
    "    points.append(models.PointStruct(\n",
    "        id=i,\n",
    "        payload={'source_text': test_df.iloc[i][\"context\"]},\n",
    "        vector={'text': models.SparseVector(indices=indices, values=data)},\n",
    "    ))"
   ]
  },
  {
   "cell_type": "code",
   "execution_count": 62,
   "metadata": {},
   "outputs": [],
   "source": [
    "# загрузка данных в коллекцию\n",
    "client.upload_points(\n",
    "    collection_name='sparse-coll',\n",
    "    points=points\n",
    ")"
   ]
  },
  {
   "cell_type": "code",
   "execution_count": 66,
   "metadata": {
    "colab": {
     "base_uri": "https://localhost:8080/"
    },
    "id": "ZujJ7Yy-y_ST",
    "outputId": "d5790048-a60b-42c2-9ac2-836e0bc497df"
   },
   "outputs": [
    {
     "data": {
      "text/plain": [
       "CountResult(count=2397)"
      ]
     },
     "execution_count": 66,
     "metadata": {},
     "output_type": "execute_result"
    }
   ],
   "source": [
    "client.count(\n",
    "    collection_name=\"sparse-coll\",\n",
    "    exact=True,\n",
    ")"
   ]
  },
  {
   "cell_type": "code",
   "execution_count": 75,
   "metadata": {},
   "outputs": [],
   "source": [
    "correct = 0\n",
    "for i, row in test_df.iterrows():\n",
    "    query_text = row['question']\n",
    "    query_vec = tfidf_vectorizer_train.transform([query_text])\n",
    "    query_indices = query_vec[0].indices.tolist()\n",
    "    query_data = query_vec[0].data.tolist()\n",
    "    result = client.query_points(\n",
    "        collection_name='sparse-coll',\n",
    "        query=models.SparseVector(\n",
    "            indices=query_indices,\n",
    "            values=query_data,\n",
    "        ),\n",
    "        using=\"text\",\n",
    "        limit=1\n",
    "    )\n",
    "    top_n = len(result.points)\n",
    "    res = [result.points[i].payload['source_text'] for i in range(top_n)]\n",
    "    if row['context'] in res:\n",
    "        correct += 1"
   ]
  },
  {
   "cell_type": "code",
   "execution_count": 70,
   "metadata": {},
   "outputs": [
    {
     "name": "stdout",
     "output_type": "stream",
     "text": [
      "0.8585732165206508\n"
     ]
    }
   ],
   "source": [
    "print(correct/len(test_df))"
   ]
  },
  {
   "cell_type": "markdown",
   "metadata": {
    "id": "roA9EUg0DsTK"
   },
   "source": [
    "Точность (encoder - tf-idf) 85.9%"
   ]
  }
 ],
 "metadata": {
  "colab": {
   "provenance": []
  },
  "kernelspec": {
   "display_name": "Python 3 (ipykernel)",
   "language": "python",
   "name": "python3"
  },
  "language_info": {
   "codemirror_mode": {
    "name": "ipython",
    "version": 3
   },
   "file_extension": ".py",
   "mimetype": "text/x-python",
   "name": "python",
   "nbconvert_exporter": "python",
   "pygments_lexer": "ipython3",
   "version": "3.12.7"
  }
 },
 "nbformat": 4,
 "nbformat_minor": 4
}
